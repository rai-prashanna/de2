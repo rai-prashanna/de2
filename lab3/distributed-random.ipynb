{
 "cells": [
  {
   "cell_type": "code",
   "execution_count": null,
   "metadata": {},
   "outputs": [],
   "source": []
  },
  {
   "cell_type": "code",
   "execution_count": null,
   "metadata": {
    "pycharm": {
     "name": "#%%\n"
    }
   },
   "outputs": [],
   "source": [
    "import pandas as pd\n",
    "from sklearn.ensemble import RandomForestClassifier\n",
    "import sklearn\n",
    "import time\n",
    "\n",
    "# Your task now is to use scikit-learn to train a RandomForestClassifier https://scikit-learn.org/stable/modules/generated/sklearn.ensemble.RandomForestClassifier.html  for predicting the forest cover type. The dataset can be downloaded directly via the sklearn API: https://scikit-learn.org/stable/modules/generated/sklearn.datasets.fetch_covtype.html#sklearn.datasets.fetch_covtype and there are several notebooks on Kaggle where you can learn about the data and background to the dataset: https://www.kaggle.com/c/forest-cover-type-prediction.\n",
    "\n",
    "# Do the following:\n",
    "# 1.\tSet up the problem using sklearn. Explore the parameters used in the Random Forest implementation. Hint: use the get_param() method. Train the model using the default parameters.\n",
    "\n",
    "# 2.\tImplement a distributed hyperparameter tuning pipeline for tuning the parameters ‘max_depth’, ‘n_estimators’ and ‘ccp_alpha’ using the RayTune framework and an exhaustive Grid Search strategy. Configure, deploy and run it on up to 3 VMs of “small” flavor."
   ]
  },
  {
   "cell_type": "code",
   "execution_count": null,
   "metadata": {},
   "outputs": [],
   "source": [
    "def print_runtime(start_time, decimals=1):\n",
    "    print(f'Runtime: {time.time() - start_time:.{decimals}f} seconds, data:')\n",
    "    "
   ]
  },
  {
   "cell_type": "code",
   "execution_count": null,
   "metadata": {
    "pycharm": {
     "name": "#%%\n"
    }
   },
   "outputs": [],
   "source": [
    "start = time.time()\n",
    "trainDF = pd.read_csv('train.csv')\n",
    "#testDF = pd.read_csv('test.csv') - this file doesn't actually contain the target variable of soil type.\n",
    "\n",
    "trainDF.head()"
   ]
  },
  {
   "cell_type": "code",
   "execution_count": null,
   "metadata": {},
   "outputs": [],
   "source": [
    "trainFeatures = trainDF.iloc[:, :-1] # all rows, all but last column\n",
    "trainClasses = trainDF.iloc[:, -1] # all rows, only last column"
   ]
  },
  {
   "cell_type": "code",
   "execution_count": null,
   "metadata": {
    "pycharm": {
     "name": "#%%\n"
    }
   },
   "outputs": [],
   "source": [
    "RFclassifier = RandomForestClassifier()\n",
    "params = RFclassifier.get_params()"
   ]
  },
  {
   "cell_type": "code",
   "execution_count": null,
   "metadata": {
    "pycharm": {
     "name": "#%%\n"
    }
   },
   "outputs": [],
   "source": [
    "#fitted_model = RFclassifier.fit(trainFeatures, trainClasses)\n",
    "\n",
    "sklearn.model_selection.cross_validate(RFclassifier, trainFeatures, trainClasses)"
   ]
  },
  {
   "cell_type": "code",
   "execution_count": null,
   "metadata": {},
   "outputs": [],
   "source": []
  },
  {
   "cell_type": "code",
   "execution_count": null,
   "metadata": {},
   "outputs": [],
   "source": []
  },
  {
   "cell_type": "code",
   "execution_count": null,
   "metadata": {},
   "outputs": [],
   "source": []
  },
  {
   "cell_type": "code",
   "execution_count": null,
   "metadata": {},
   "outputs": [],
   "source": []
  },
  {
   "cell_type": "code",
   "execution_count": 1,
   "metadata": {},
   "outputs": [
    {
     "name": "stdout",
     "output_type": "stream",
     "text": [
      "Stopping at : 1651765040.2494636\n",
      "Total elapsed time:  12.904348850250244\n",
      "\u001b[2m\u001b[1m\u001b[36m(scheduler +42m28s)\u001b[0m Tip: use `ray status` to view detailed cluster status. To disable these messages, set RAY_SCHEDULER_EVENTS=0.\n",
      "\u001b[2m\u001b[1m\u001b[36m(scheduler +42m28s)\u001b[0m Adding 1 nodes of type local.cluster.node.\n",
      "\u001b[2m\u001b[1m\u001b[36m(scheduler +42m38s)\u001b[0m Resized to 4 CPUs.\n",
      "\u001b[2m\u001b[1m\u001b[36m(scheduler +58m9s)\u001b[0m Removing 1 nodes of type local.cluster.node (idle).\n",
      "\u001b[2m\u001b[1m\u001b[36m(scheduler +58m19s)\u001b[0m Resized to 3 CPUs.\n"
     ]
    }
   ],
   "source": [
    "from sklearn.ensemble import RandomForestClassifier\n",
    "import sklearn\n",
    "import time\n",
    "import ray\n",
    "from ray import tune\n",
    "from ray.tune.schedulers import ASHAScheduler\n",
    "import statistics\n",
    "import pandas as pd\n",
    "ray.init(address=\"auto\")\n",
    "@ray.remote\n",
    "def train(config):\n",
    "    trainDF = pd.read_csv(\"/home/ubuntu/de2/lab3/train.csv\")\n",
    "    trainFeatures = trainDF.iloc[:, :-1] # all rows, all but last column\n",
    "    trainClasses = trainDF.iloc[:, -1] # all rows, only last column\n",
    "\n",
    "    RFclassifier = RandomForestClassifier()\n",
    "    params = RFclassifier.get_params()\n",
    "    sklearn.model_selection.cross_validate(RFclassifier, trainFeatures, trainClasses)\n",
    "    #print (train_df.shape, test_df.shape)\n",
    "    RFclassifier = RandomForestClassifier(**config)\n",
    "    params = RFclassifier.get_params()\n",
    "    xval = sklearn.model_selection.cross_validate(RFclassifier, trainFeatures, trainClasses)\n",
    "    #tune.report(mean_accuracy=statistics.mean(xval[\"test_score\"]))\n",
    "\n",
    "if __name__ == '__main__':\n",
    "    search_space = {\n",
    "    \"max_depth\": tune.grid_search([5*i for i in range(1,10)]),\n",
    "    \"n_estimators\": tune.grid_search([10,100,200,300]),\n",
    "    \"ccp_alpha\": tune.grid_search([0.0,0.1,0.2]),}\n",
    "    start_time = time.time()\n",
    "\n",
    "    # create the task\n",
    "    remote_clf = train.remote(search_space)\n",
    "\n",
    "    # get the task result\n",
    "    best_params = ray.get(remote_clf)\n",
    "\n",
    "    stop_time = time.time()\n",
    "    print(\"Stopping at :\", stop_time)\n",
    "    print(\"Total elapsed time: \", stop_time - start_time)"
   ]
  },
  {
   "cell_type": "code",
   "execution_count": null,
   "metadata": {},
   "outputs": [],
   "source": [
    "#analysis = tune.run(train, config=search_space,_remote=True)\n",
    "#analysis = train.remote(config=search_space)\n",
    "#train.remote(search_space)\n",
    "#analysis = tune.run(train, config=search_space)"
   ]
  },
  {
   "cell_type": "code",
   "execution_count": null,
   "metadata": {},
   "outputs": [],
   "source": [
    "#print_runtime(start)"
   ]
  },
  {
   "cell_type": "code",
   "execution_count": null,
   "metadata": {},
   "outputs": [],
   "source": [
    "if __name__ == '__main__':\n",
    "\n",
    "    start_time = time.time()\n",
    "\n",
    "    # create the task\n",
    "    remote_clf = train.remote()\n",
    "\n",
    "    # get the task result\n",
    "    #best_params = ray.get(remote_clf)\n",
    "\n",
    "    stop_time = time.time()\n",
    "    print(\"Stopping at :\", stop_time)\n",
    "    print(\"Total elapsed time: \", stop_time - start_time)\n",
    "\n",
    "    #print(\"Best params from main function: \", best_params)"
   ]
  },
  {
   "cell_type": "code",
   "execution_count": null,
   "metadata": {},
   "outputs": [],
   "source": [
    "@ray.remote\n",
    "def f(n):\n",
    "  return n\n",
    "\n",
    "f.remote(f.remote(3))"
   ]
  },
  {
   "cell_type": "code",
   "execution_count": null,
   "metadata": {},
   "outputs": [],
   "source": [
    "import time\n",
    "\n",
    "@ray.remote\n",
    "def f():\n",
    "    time.sleep(0.01)\n",
    "    return ray._private.services.get_node_ip_address()\n",
    "\n",
    "# Get a list of the IP addresses of the nodes that have joined the cluster.\n",
    "set(ray.get([f.remote() for _ in range(1000)]))"
   ]
  },
  {
   "cell_type": "code",
   "execution_count": null,
   "metadata": {},
   "outputs": [],
   "source": []
  },
  {
   "cell_type": "code",
   "execution_count": null,
   "metadata": {},
   "outputs": [],
   "source": []
  },
  {
   "cell_type": "code",
   "execution_count": null,
   "metadata": {},
   "outputs": [],
   "source": []
  },
  {
   "cell_type": "code",
   "execution_count": null,
   "metadata": {},
   "outputs": [],
   "source": []
  }
 ],
 "metadata": {
  "kernelspec": {
   "display_name": "Python 3 (ipykernel)",
   "language": "python",
   "name": "python3"
  },
  "language_info": {
   "codemirror_mode": {
    "name": "ipython",
    "version": 3
   },
   "file_extension": ".py",
   "mimetype": "text/x-python",
   "name": "python",
   "nbconvert_exporter": "python",
   "pygments_lexer": "ipython3",
   "version": "3.8.10"
  }
 },
 "nbformat": 4,
 "nbformat_minor": 4
}
