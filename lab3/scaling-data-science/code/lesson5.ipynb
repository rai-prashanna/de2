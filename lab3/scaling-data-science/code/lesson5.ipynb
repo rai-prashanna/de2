{
 "cells": [
  {
   "cell_type": "code",
   "execution_count": 1,
   "id": "marked-mandate",
   "metadata": {},
   "outputs": [],
   "source": [
    "import pandas as pd\n",
    "import numpy as np\n",
    "from scipy.sparse import vstack, load_npz\n",
    "\n",
    "import seaborn as sns\n",
    "import matplotlib.pyplot as plt\n",
    "\n",
    "from sklearn.linear_model import SGDClassifier\n",
    "from sklearn.model_selection import cross_val_score, train_test_split\n",
    "from sklearn.metrics import classification_report\n",
    "\n",
    "%matplotlib inline"
   ]
  },
  {
   "cell_type": "code",
   "execution_count": 2,
   "id": "constant-scheme",
   "metadata": {},
   "outputs": [],
   "source": [
    "labels = np.load('data/labels.npy')"
   ]
  },
  {
   "cell_type": "code",
   "execution_count": 3,
   "id": "indian-priority",
   "metadata": {},
   "outputs": [],
   "source": [
    "features = load_npz('data/features.npz')"
   ]
  },
  {
   "cell_type": "code",
   "execution_count": 4,
   "id": "automatic-diagnosis",
   "metadata": {},
   "outputs": [
    {
     "data": {
      "text/plain": [
       "array([ True,  True,  True, ..., False, False, False])"
      ]
     },
     "execution_count": 4,
     "metadata": {},
     "output_type": "execute_result"
    }
   ],
   "source": [
    "labels"
   ]
  },
  {
   "cell_type": "code",
   "execution_count": 5,
   "id": "broke-tribune",
   "metadata": {},
   "outputs": [
    {
     "data": {
      "text/plain": [
       "<171236x20000 sparse matrix of type '<class 'numpy.float64'>'\n",
       "\twith 18138124 stored elements in Compressed Sparse Row format>"
      ]
     },
     "execution_count": 5,
     "metadata": {},
     "output_type": "execute_result"
    }
   ],
   "source": [
    "features"
   ]
  },
  {
   "cell_type": "code",
   "execution_count": 6,
   "id": "divided-silence",
   "metadata": {},
   "outputs": [],
   "source": [
    "X_train, X_test, y_train, y_test = train_test_split(features, labels, test_size=0.2)"
   ]
  },
  {
   "cell_type": "code",
   "execution_count": 7,
   "id": "existing-sarah",
   "metadata": {},
   "outputs": [],
   "source": [
    "clf = SGDClassifier()"
   ]
  },
  {
   "cell_type": "code",
   "execution_count": 8,
   "id": "revised-equation",
   "metadata": {},
   "outputs": [
    {
     "data": {
      "text/plain": [
       "SGDClassifier()"
      ]
     },
     "execution_count": 8,
     "metadata": {},
     "output_type": "execute_result"
    }
   ],
   "source": [
    "# fit model to training data\n",
    "clf.fit(X_train, y_train)"
   ]
  },
  {
   "cell_type": "code",
   "execution_count": 9,
   "id": "civic-gamma",
   "metadata": {},
   "outputs": [
    {
     "data": {
      "text/plain": [
       "array([False,  True,  True, ...,  True, False, False])"
      ]
     },
     "execution_count": 9,
     "metadata": {},
     "output_type": "execute_result"
    }
   ],
   "source": [
    "# make predictions\n",
    "predictions = clf.predict(X_test)\n",
    "predictions"
   ]
  },
  {
   "cell_type": "code",
   "execution_count": 10,
   "id": "velvet-possibility",
   "metadata": {},
   "outputs": [
    {
     "name": "stdout",
     "output_type": "stream",
     "text": [
      "              precision    recall  f1-score   support\n",
      "\n",
      "       False       0.69      0.72      0.70     23022\n",
      "        True       0.37      0.34      0.36     11226\n",
      "\n",
      "    accuracy                           0.60     34248\n",
      "   macro avg       0.53      0.53      0.53     34248\n",
      "weighted avg       0.59      0.60      0.59     34248\n",
      "\n"
     ]
    }
   ],
   "source": [
    "print(classification_report(y_test, predictions))"
   ]
  },
  {
   "cell_type": "code",
   "execution_count": 11,
   "id": "abandoned-assignment",
   "metadata": {},
   "outputs": [
    {
     "data": {
      "text/plain": [
       "0.33060220981569294"
      ]
     },
     "execution_count": 11,
     "metadata": {},
     "output_type": "execute_result"
    }
   ],
   "source": [
    "sum(labels) / len(labels)"
   ]
  },
  {
   "cell_type": "code",
   "execution_count": null,
   "id": "rolled-compensation",
   "metadata": {},
   "outputs": [],
   "source": [
    "%%time\n",
    "\n",
    "scores = np.zeros((3, 6))\n",
    "penalty = ['l2', 'l1', 'elasticnet']\n",
    "alpha = [1e-4, 1e-3, 1e-2, 1e-1, 1]\n",
    "\n",
    "for i, p in enumerate(penalty):\n",
    "    for j, a in enumerate(alpha):\n",
    "        clf = SGDClassifier(alpha=a, penalty=p)\n",
    "        scores[i, j] = cross_val_score(clf, X_train, y_train, cv=3).mean()"
   ]
  },
  {
   "cell_type": "code",
   "execution_count": null,
   "id": "specialized-drink",
   "metadata": {},
   "outputs": [],
   "source": [
    "sns.heatmap(scores[:, :-1], xticklabels=alpha, yticklabels=penalty)"
   ]
  },
  {
   "cell_type": "code",
   "execution_count": null,
   "id": "inclusive-explanation",
   "metadata": {},
   "outputs": [],
   "source": [
    "scores.argmax()"
   ]
  },
  {
   "cell_type": "code",
   "execution_count": null,
   "id": "grateful-speed",
   "metadata": {},
   "outputs": [],
   "source": [
    "scores.max()"
   ]
  },
  {
   "cell_type": "code",
   "execution_count": null,
   "id": "pressing-hardwood",
   "metadata": {},
   "outputs": [],
   "source": [
    "# Create model with best performing hyperparameters\n",
    "clf = SGDClassifier(alpha=1, penalty='elasticnet')\n",
    "\n",
    "# Fit on all of your (training) data\n",
    "clf.fit(X_train, y_train)"
   ]
  },
  {
   "cell_type": "code",
   "execution_count": null,
   "id": "hungarian-danish",
   "metadata": {},
   "outputs": [],
   "source": [
    "# Evaluate on Holdout set\n",
    "print(clf.score(X_test, y_test))"
   ]
  },
  {
   "cell_type": "code",
   "execution_count": 3,
   "id": "atomic-trinidad",
   "metadata": {},
   "outputs": [],
   "source": [
    "import ray, logging\n",
    "from ray import tune"
   ]
  },
  {
   "cell_type": "markdown",
   "id": "worthy-nickel",
   "metadata": {},
   "source": [
    "<img src=\"data:image/png;base64,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\" />"
   ]
  },
  {
   "cell_type": "code",
   "execution_count": 4,
   "id": "developing-zimbabwe",
   "metadata": {},
   "outputs": [
    {
     "data": {
      "text/plain": [
       "ClientContext(dashboard_url='127.0.0.1:8265', python_version='3.8.10', ray_version='1.12.0', ray_commit='f18fc31c7562990955556899090f8e8656b48d2d', protocol_version='2022-03-16', _num_clients=1, _context_to_restore=<ray.util.client._ClientContext object at 0x7f40c43115e0>)"
      ]
     },
     "execution_count": 4,
     "metadata": {},
     "output_type": "execute_result"
    }
   ],
   "source": [
    "#ray.init( address='auto',num_workers=2)\n",
    "ray.init(logging_level=logging.ERROR,address='ray://192.168.2.133:10001')"
   ]
  },
  {
   "cell_type": "code",
   "execution_count": 5,
   "id": "controversial-manor",
   "metadata": {},
   "outputs": [],
   "source": [
    "def train_evaluate(parameterization):\n",
    "    clf = SGDClassifier(alpha=parameterization['alpha'], penalty=parameterization['penalty'])\n",
    "    \n",
    "    tune.report(mean_accuracy=cross_val_score(clf, X_train, y_train, cv=3).mean())"
   ]
  },
  {
   "cell_type": "code",
   "execution_count": null,
   "id": "intellectual-groove",
   "metadata": {},
   "outputs": [
    {
     "name": "stderr",
     "output_type": "stream",
     "text": [
      "\u001b[2m\u001b[36m(run pid=10540)\u001b[0m 2022-05-01 17:36:56,128\tWARNING function_runner.py:598 -- Function checkpointing is disabled. This may result in unexpected behavior when using checkpointing features or certain schedulers. To enable, set the train function arguments to be `func(config, checkpoint_dir=None)`.\n"
     ]
    },
    {
     "name": "stdout",
     "output_type": "stream",
     "text": [
      "\u001b[2m\u001b[36m(run pid=10540)\u001b[0m == Status ==\n",
      "\u001b[2m\u001b[36m(run pid=10540)\u001b[0m Current time: 2022-05-01 17:37:01 (running for 00:00:05.24)\n",
      "\u001b[2m\u001b[36m(run pid=10540)\u001b[0m Memory usage on this node: 1.6/1.9 GiB\n",
      "\u001b[2m\u001b[36m(run pid=10540)\u001b[0m Using FIFO scheduling algorithm.\n",
      "\u001b[2m\u001b[36m(run pid=10540)\u001b[0m Resources requested: 0/3 CPUs, 0/0 GPUs, 0.0/3.23 GiB heap, 0.0/1.45 GiB objects\n",
      "\u001b[2m\u001b[36m(run pid=10540)\u001b[0m Result logdir: /home/ubuntu/ray_results/train_evaluate_2022-05-01_17-36-56\n",
      "\u001b[2m\u001b[36m(run pid=10540)\u001b[0m Number of trials: 15/15 (15 PENDING)\n",
      "\u001b[2m\u001b[36m(run pid=10540)\u001b[0m \n",
      "\u001b[2m\u001b[36m(run pid=10540)\u001b[0m \n",
      "\u001b[2m\u001b[36m(run pid=10540)\u001b[0m == Status ==\n",
      "\u001b[2m\u001b[36m(run pid=10540)\u001b[0m Current time: 2022-05-01 17:37:06 (running for 00:00:10.24)\n",
      "\u001b[2m\u001b[36m(run pid=10540)\u001b[0m Memory usage on this node: 1.6/1.9 GiB\n",
      "\u001b[2m\u001b[36m(run pid=10540)\u001b[0m Using FIFO scheduling algorithm.\n",
      "\u001b[2m\u001b[36m(run pid=10540)\u001b[0m Resources requested: 0/3 CPUs, 0/0 GPUs, 0.0/3.23 GiB heap, 0.0/1.45 GiB objects\n",
      "\u001b[2m\u001b[36m(run pid=10540)\u001b[0m Result logdir: /home/ubuntu/ray_results/train_evaluate_2022-05-01_17-36-56\n",
      "\u001b[2m\u001b[36m(run pid=10540)\u001b[0m Number of trials: 15/15 (15 PENDING)\n",
      "\u001b[2m\u001b[36m(run pid=10540)\u001b[0m \n",
      "\u001b[2m\u001b[36m(run pid=10540)\u001b[0m \n",
      "\u001b[2m\u001b[36m(run pid=10540)\u001b[0m == Status ==\n",
      "\u001b[2m\u001b[36m(run pid=10540)\u001b[0m Current time: 2022-05-01 17:37:11 (running for 00:00:15.25)\n",
      "\u001b[2m\u001b[36m(run pid=10540)\u001b[0m Memory usage on this node: 1.6/1.9 GiB\n",
      "\u001b[2m\u001b[36m(run pid=10540)\u001b[0m Using FIFO scheduling algorithm.\n",
      "\u001b[2m\u001b[36m(run pid=10540)\u001b[0m Resources requested: 0/3 CPUs, 0/0 GPUs, 0.0/3.23 GiB heap, 0.0/1.45 GiB objects\n",
      "\u001b[2m\u001b[36m(run pid=10540)\u001b[0m Result logdir: /home/ubuntu/ray_results/train_evaluate_2022-05-01_17-36-56\n",
      "\u001b[2m\u001b[36m(run pid=10540)\u001b[0m Number of trials: 15/15 (15 PENDING)\n",
      "\u001b[2m\u001b[36m(run pid=10540)\u001b[0m \n",
      "\u001b[2m\u001b[36m(run pid=10540)\u001b[0m \n",
      "\u001b[2m\u001b[36m(run pid=10540)\u001b[0m == Status ==\n",
      "\u001b[2m\u001b[36m(run pid=10540)\u001b[0m Current time: 2022-05-01 17:37:16 (running for 00:00:20.26)\n",
      "\u001b[2m\u001b[36m(run pid=10540)\u001b[0m Memory usage on this node: 1.6/1.9 GiB\n",
      "\u001b[2m\u001b[36m(run pid=10540)\u001b[0m Using FIFO scheduling algorithm.\n",
      "\u001b[2m\u001b[36m(run pid=10540)\u001b[0m Resources requested: 0/3 CPUs, 0/0 GPUs, 0.0/3.23 GiB heap, 0.0/1.45 GiB objects\n",
      "\u001b[2m\u001b[36m(run pid=10540)\u001b[0m Result logdir: /home/ubuntu/ray_results/train_evaluate_2022-05-01_17-36-56\n",
      "\u001b[2m\u001b[36m(run pid=10540)\u001b[0m Number of trials: 15/15 (15 PENDING)\n",
      "\u001b[2m\u001b[36m(run pid=10540)\u001b[0m \n",
      "\u001b[2m\u001b[36m(run pid=10540)\u001b[0m \n",
      "\u001b[2m\u001b[36m(run pid=10540)\u001b[0m == Status ==\n",
      "\u001b[2m\u001b[36m(run pid=10540)\u001b[0m Current time: 2022-05-01 17:37:21 (running for 00:00:25.28)\n",
      "\u001b[2m\u001b[36m(run pid=10540)\u001b[0m Memory usage on this node: 1.6/1.9 GiB\n",
      "\u001b[2m\u001b[36m(run pid=10540)\u001b[0m Using FIFO scheduling algorithm.\n",
      "\u001b[2m\u001b[36m(run pid=10540)\u001b[0m Resources requested: 0/3 CPUs, 0/0 GPUs, 0.0/3.23 GiB heap, 0.0/1.45 GiB objects\n",
      "\u001b[2m\u001b[36m(run pid=10540)\u001b[0m Result logdir: /home/ubuntu/ray_results/train_evaluate_2022-05-01_17-36-56\n",
      "\u001b[2m\u001b[36m(run pid=10540)\u001b[0m Number of trials: 15/15 (15 PENDING)\n",
      "\u001b[2m\u001b[36m(run pid=10540)\u001b[0m \n",
      "\u001b[2m\u001b[36m(run pid=10540)\u001b[0m \n",
      "\u001b[2m\u001b[36m(run pid=10540)\u001b[0m == Status ==\n",
      "\u001b[2m\u001b[36m(run pid=10540)\u001b[0m Current time: 2022-05-01 17:37:26 (running for 00:00:30.28)\n",
      "\u001b[2m\u001b[36m(run pid=10540)\u001b[0m Memory usage on this node: 1.6/1.9 GiB\n",
      "\u001b[2m\u001b[36m(run pid=10540)\u001b[0m Using FIFO scheduling algorithm.\n",
      "\u001b[2m\u001b[36m(run pid=10540)\u001b[0m Resources requested: 0/3 CPUs, 0/0 GPUs, 0.0/3.23 GiB heap, 0.0/1.45 GiB objects\n",
      "\u001b[2m\u001b[36m(run pid=10540)\u001b[0m Result logdir: /home/ubuntu/ray_results/train_evaluate_2022-05-01_17-36-56\n",
      "\u001b[2m\u001b[36m(run pid=10540)\u001b[0m Number of trials: 15/15 (15 PENDING)\n",
      "\u001b[2m\u001b[36m(run pid=10540)\u001b[0m \n",
      "\u001b[2m\u001b[36m(run pid=10540)\u001b[0m \n",
      "\u001b[2m\u001b[36m(run pid=10540)\u001b[0m == Status ==\n",
      "\u001b[2m\u001b[36m(run pid=10540)\u001b[0m Current time: 2022-05-01 17:37:31 (running for 00:00:35.30)\n",
      "\u001b[2m\u001b[36m(run pid=10540)\u001b[0m Memory usage on this node: 1.6/1.9 GiB\n",
      "\u001b[2m\u001b[36m(run pid=10540)\u001b[0m Using FIFO scheduling algorithm.\n",
      "\u001b[2m\u001b[36m(run pid=10540)\u001b[0m Resources requested: 0/3 CPUs, 0/0 GPUs, 0.0/3.23 GiB heap, 0.0/1.45 GiB objects\n",
      "\u001b[2m\u001b[36m(run pid=10540)\u001b[0m Result logdir: /home/ubuntu/ray_results/train_evaluate_2022-05-01_17-36-56\n",
      "\u001b[2m\u001b[36m(run pid=10540)\u001b[0m Number of trials: 15/15 (15 PENDING)\n",
      "\u001b[2m\u001b[36m(run pid=10540)\u001b[0m \n",
      "\u001b[2m\u001b[36m(run pid=10540)\u001b[0m \n",
      "\u001b[2m\u001b[36m(run pid=10540)\u001b[0m == Status ==\n",
      "\u001b[2m\u001b[36m(run pid=10540)\u001b[0m Current time: 2022-05-01 17:37:36 (running for 00:00:40.30)\n",
      "\u001b[2m\u001b[36m(run pid=10540)\u001b[0m Memory usage on this node: 1.6/1.9 GiB\n",
      "\u001b[2m\u001b[36m(run pid=10540)\u001b[0m Using FIFO scheduling algorithm.\n",
      "\u001b[2m\u001b[36m(run pid=10540)\u001b[0m Resources requested: 0/3 CPUs, 0/0 GPUs, 0.0/3.23 GiB heap, 0.0/1.45 GiB objects\n",
      "\u001b[2m\u001b[36m(run pid=10540)\u001b[0m Result logdir: /home/ubuntu/ray_results/train_evaluate_2022-05-01_17-36-56\n",
      "\u001b[2m\u001b[36m(run pid=10540)\u001b[0m Number of trials: 15/15 (15 PENDING)\n",
      "\u001b[2m\u001b[36m(run pid=10540)\u001b[0m \n",
      "\u001b[2m\u001b[36m(run pid=10540)\u001b[0m \n",
      "\u001b[2m\u001b[36m(run pid=10540)\u001b[0m == Status ==\n",
      "\u001b[2m\u001b[36m(run pid=10540)\u001b[0m Current time: 2022-05-01 17:37:41 (running for 00:00:45.32)\n",
      "\u001b[2m\u001b[36m(run pid=10540)\u001b[0m Memory usage on this node: 1.6/1.9 GiB\n",
      "\u001b[2m\u001b[36m(run pid=10540)\u001b[0m Using FIFO scheduling algorithm.\n",
      "\u001b[2m\u001b[36m(run pid=10540)\u001b[0m Resources requested: 0/3 CPUs, 0/0 GPUs, 0.0/3.23 GiB heap, 0.0/1.45 GiB objects\n",
      "\u001b[2m\u001b[36m(run pid=10540)\u001b[0m Result logdir: /home/ubuntu/ray_results/train_evaluate_2022-05-01_17-36-56\n",
      "\u001b[2m\u001b[36m(run pid=10540)\u001b[0m Number of trials: 15/15 (15 PENDING)\n",
      "\u001b[2m\u001b[36m(run pid=10540)\u001b[0m \n",
      "\u001b[2m\u001b[36m(run pid=10540)\u001b[0m \n",
      "\u001b[2m\u001b[36m(run pid=10540)\u001b[0m == Status ==\n",
      "\u001b[2m\u001b[36m(run pid=10540)\u001b[0m Current time: 2022-05-01 17:37:46 (running for 00:00:50.32)\n",
      "\u001b[2m\u001b[36m(run pid=10540)\u001b[0m Memory usage on this node: 1.6/1.9 GiB\n",
      "\u001b[2m\u001b[36m(run pid=10540)\u001b[0m Using FIFO scheduling algorithm.\n",
      "\u001b[2m\u001b[36m(run pid=10540)\u001b[0m Resources requested: 0/3 CPUs, 0/0 GPUs, 0.0/3.23 GiB heap, 0.0/1.45 GiB objects\n",
      "\u001b[2m\u001b[36m(run pid=10540)\u001b[0m Result logdir: /home/ubuntu/ray_results/train_evaluate_2022-05-01_17-36-56\n",
      "\u001b[2m\u001b[36m(run pid=10540)\u001b[0m Number of trials: 15/15 (15 PENDING)\n",
      "\u001b[2m\u001b[36m(run pid=10540)\u001b[0m \n",
      "\u001b[2m\u001b[36m(run pid=10540)\u001b[0m \n",
      "\u001b[2m\u001b[36m(run pid=10540)\u001b[0m == Status ==\n",
      "\u001b[2m\u001b[36m(run pid=10540)\u001b[0m Current time: 2022-05-01 17:37:51 (running for 00:00:55.34)\n",
      "\u001b[2m\u001b[36m(run pid=10540)\u001b[0m Memory usage on this node: 1.6/1.9 GiB\n",
      "\u001b[2m\u001b[36m(run pid=10540)\u001b[0m Using FIFO scheduling algorithm.\n",
      "\u001b[2m\u001b[36m(run pid=10540)\u001b[0m Resources requested: 0/3 CPUs, 0/0 GPUs, 0.0/3.23 GiB heap, 0.0/1.45 GiB objects\n",
      "\u001b[2m\u001b[36m(run pid=10540)\u001b[0m Result logdir: /home/ubuntu/ray_results/train_evaluate_2022-05-01_17-36-56\n",
      "\u001b[2m\u001b[36m(run pid=10540)\u001b[0m Number of trials: 15/15 (15 PENDING)\n",
      "\u001b[2m\u001b[36m(run pid=10540)\u001b[0m \n",
      "\u001b[2m\u001b[36m(run pid=10540)\u001b[0m \n",
      "\u001b[2m\u001b[36m(run pid=10540)\u001b[0m == Status ==\n",
      "\u001b[2m\u001b[36m(run pid=10540)\u001b[0m Current time: 2022-05-01 17:37:56 (running for 00:01:00.34)\n",
      "\u001b[2m\u001b[36m(run pid=10540)\u001b[0m Memory usage on this node: 1.6/1.9 GiB\n",
      "\u001b[2m\u001b[36m(run pid=10540)\u001b[0m Using FIFO scheduling algorithm.\n",
      "\u001b[2m\u001b[36m(run pid=10540)\u001b[0m Resources requested: 0/3 CPUs, 0/0 GPUs, 0.0/3.23 GiB heap, 0.0/1.45 GiB objects\n",
      "\u001b[2m\u001b[36m(run pid=10540)\u001b[0m Result logdir: /home/ubuntu/ray_results/train_evaluate_2022-05-01_17-36-56\n",
      "\u001b[2m\u001b[36m(run pid=10540)\u001b[0m Number of trials: 15/15 (15 PENDING)\n",
      "\u001b[2m\u001b[36m(run pid=10540)\u001b[0m \n",
      "\u001b[2m\u001b[36m(run pid=10540)\u001b[0m \n",
      "\u001b[2m\u001b[36m(run pid=10540)\u001b[0m == Status ==\n",
      "\u001b[2m\u001b[36m(run pid=10540)\u001b[0m Current time: 2022-05-01 17:38:01 (running for 00:01:05.35)\n",
      "\u001b[2m\u001b[36m(run pid=10540)\u001b[0m Memory usage on this node: 1.6/1.9 GiB\n",
      "\u001b[2m\u001b[36m(run pid=10540)\u001b[0m Using FIFO scheduling algorithm.\n",
      "\u001b[2m\u001b[36m(run pid=10540)\u001b[0m Resources requested: 0/3 CPUs, 0/0 GPUs, 0.0/3.23 GiB heap, 0.0/1.45 GiB objects\n",
      "\u001b[2m\u001b[36m(run pid=10540)\u001b[0m Result logdir: /home/ubuntu/ray_results/train_evaluate_2022-05-01_17-36-56\n",
      "\u001b[2m\u001b[36m(run pid=10540)\u001b[0m Number of trials: 15/15 (15 PENDING)\n",
      "\u001b[2m\u001b[36m(run pid=10540)\u001b[0m \n",
      "\u001b[2m\u001b[36m(run pid=10540)\u001b[0m \n",
      "\u001b[2m\u001b[36m(run pid=10540)\u001b[0m == Status ==\n",
      "\u001b[2m\u001b[36m(run pid=10540)\u001b[0m Current time: 2022-05-01 17:38:06 (running for 00:01:10.37)\n",
      "\u001b[2m\u001b[36m(run pid=10540)\u001b[0m Memory usage on this node: 1.6/1.9 GiB\n",
      "\u001b[2m\u001b[36m(run pid=10540)\u001b[0m Using FIFO scheduling algorithm.\n",
      "\u001b[2m\u001b[36m(run pid=10540)\u001b[0m Resources requested: 0/3 CPUs, 0/0 GPUs, 0.0/3.23 GiB heap, 0.0/1.45 GiB objects\n",
      "\u001b[2m\u001b[36m(run pid=10540)\u001b[0m Result logdir: /home/ubuntu/ray_results/train_evaluate_2022-05-01_17-36-56\n",
      "\u001b[2m\u001b[36m(run pid=10540)\u001b[0m Number of trials: 15/15 (15 PENDING)\n",
      "\u001b[2m\u001b[36m(run pid=10540)\u001b[0m \n",
      "\u001b[2m\u001b[36m(run pid=10540)\u001b[0m \n",
      "\u001b[2m\u001b[36m(run pid=10540)\u001b[0m == Status ==\n",
      "\u001b[2m\u001b[36m(run pid=10540)\u001b[0m Current time: 2022-05-01 17:38:11 (running for 00:01:15.39)\n",
      "\u001b[2m\u001b[36m(run pid=10540)\u001b[0m Memory usage on this node: 1.6/1.9 GiB\n",
      "\u001b[2m\u001b[36m(run pid=10540)\u001b[0m Using FIFO scheduling algorithm.\n",
      "\u001b[2m\u001b[36m(run pid=10540)\u001b[0m Resources requested: 0/3 CPUs, 0/0 GPUs, 0.0/3.23 GiB heap, 0.0/1.45 GiB objects\n",
      "\u001b[2m\u001b[36m(run pid=10540)\u001b[0m Result logdir: /home/ubuntu/ray_results/train_evaluate_2022-05-01_17-36-56\n",
      "\u001b[2m\u001b[36m(run pid=10540)\u001b[0m Number of trials: 15/15 (15 PENDING)\n",
      "\u001b[2m\u001b[36m(run pid=10540)\u001b[0m \n",
      "\u001b[2m\u001b[36m(run pid=10540)\u001b[0m \n",
      "\u001b[2m\u001b[36m(run pid=10540)\u001b[0m == Status ==\n",
      "\u001b[2m\u001b[36m(run pid=10540)\u001b[0m Current time: 2022-05-01 17:38:16 (running for 00:01:20.39)\n",
      "\u001b[2m\u001b[36m(run pid=10540)\u001b[0m Memory usage on this node: 1.6/1.9 GiB\n",
      "\u001b[2m\u001b[36m(run pid=10540)\u001b[0m Using FIFO scheduling algorithm.\n",
      "\u001b[2m\u001b[36m(run pid=10540)\u001b[0m Resources requested: 0/3 CPUs, 0/0 GPUs, 0.0/3.23 GiB heap, 0.0/1.45 GiB objects\n",
      "\u001b[2m\u001b[36m(run pid=10540)\u001b[0m Result logdir: /home/ubuntu/ray_results/train_evaluate_2022-05-01_17-36-56\n",
      "\u001b[2m\u001b[36m(run pid=10540)\u001b[0m Number of trials: 15/15 (15 PENDING)\n",
      "\u001b[2m\u001b[36m(run pid=10540)\u001b[0m \n",
      "\u001b[2m\u001b[36m(run pid=10540)\u001b[0m \n",
      "\u001b[2m\u001b[36m(run pid=10540)\u001b[0m == Status ==\n",
      "\u001b[2m\u001b[36m(run pid=10540)\u001b[0m Current time: 2022-05-01 17:38:21 (running for 00:01:25.41)\n",
      "\u001b[2m\u001b[36m(run pid=10540)\u001b[0m Memory usage on this node: 1.6/1.9 GiB\n",
      "\u001b[2m\u001b[36m(run pid=10540)\u001b[0m Using FIFO scheduling algorithm.\n",
      "\u001b[2m\u001b[36m(run pid=10540)\u001b[0m Resources requested: 0/3 CPUs, 0/0 GPUs, 0.0/3.23 GiB heap, 0.0/1.45 GiB objects\n",
      "\u001b[2m\u001b[36m(run pid=10540)\u001b[0m Result logdir: /home/ubuntu/ray_results/train_evaluate_2022-05-01_17-36-56\n",
      "\u001b[2m\u001b[36m(run pid=10540)\u001b[0m Number of trials: 15/15 (15 PENDING)\n",
      "\u001b[2m\u001b[36m(run pid=10540)\u001b[0m \n",
      "\u001b[2m\u001b[36m(run pid=10540)\u001b[0m \n",
      "\u001b[2m\u001b[36m(run pid=10540)\u001b[0m == Status ==\n",
      "\u001b[2m\u001b[36m(run pid=10540)\u001b[0m Current time: 2022-05-01 17:38:26 (running for 00:01:30.41)\n",
      "\u001b[2m\u001b[36m(run pid=10540)\u001b[0m Memory usage on this node: 1.6/1.9 GiB\n",
      "\u001b[2m\u001b[36m(run pid=10540)\u001b[0m Using FIFO scheduling algorithm.\n",
      "\u001b[2m\u001b[36m(run pid=10540)\u001b[0m Resources requested: 0/3 CPUs, 0/0 GPUs, 0.0/3.23 GiB heap, 0.0/1.45 GiB objects\n",
      "\u001b[2m\u001b[36m(run pid=10540)\u001b[0m Result logdir: /home/ubuntu/ray_results/train_evaluate_2022-05-01_17-36-56\n",
      "\u001b[2m\u001b[36m(run pid=10540)\u001b[0m Number of trials: 15/15 (15 PENDING)\n",
      "\u001b[2m\u001b[36m(run pid=10540)\u001b[0m \n",
      "\u001b[2m\u001b[36m(run pid=10540)\u001b[0m \n"
     ]
    },
    {
     "name": "stderr",
     "output_type": "stream",
     "text": [
      "\u001b[2m\u001b[36m(run pid=10540)\u001b[0m 2022-05-01 17:38:27,574\tINFO trial_runner.py:803 -- starting train_evaluate_883e8_00000\n",
      "\u001b[2m\u001b[36m(train_evaluate pid=11532)\u001b[0m 2022-05-01 17:38:29,900\tERROR function_runner.py:281 -- Runner Thread raised error.\n",
      "\u001b[2m\u001b[36m(train_evaluate pid=11532)\u001b[0m Traceback (most recent call last):\n",
      "\u001b[2m\u001b[36m(train_evaluate pid=11532)\u001b[0m   File \"/usr/local/lib/python3.8/dist-packages/ray/tune/function_runner.py\", line 272, in run\n",
      "\u001b[2m\u001b[36m(train_evaluate pid=11532)\u001b[0m     self._entrypoint()\n",
      "\u001b[2m\u001b[36m(train_evaluate pid=11532)\u001b[0m   File \"/usr/local/lib/python3.8/dist-packages/ray/tune/function_runner.py\", line 348, in entrypoint\n",
      "\u001b[2m\u001b[36m(train_evaluate pid=11532)\u001b[0m     return self._trainable_func(\n",
      "\u001b[2m\u001b[36m(train_evaluate pid=11532)\u001b[0m   File \"/usr/local/lib/python3.8/dist-packages/ray/util/tracing/tracing_helper.py\", line 462, in _resume_span\n",
      "\u001b[2m\u001b[36m(train_evaluate pid=11532)\u001b[0m     return method(self, *_args, **_kwargs)\n",
      "\u001b[2m\u001b[36m(train_evaluate pid=11532)\u001b[0m   File \"/usr/local/lib/python3.8/dist-packages/ray/tune/function_runner.py\", line 640, in _trainable_func\n",
      "\u001b[2m\u001b[36m(train_evaluate pid=11532)\u001b[0m     output = fn()\n",
      "\u001b[2m\u001b[36m(train_evaluate pid=11532)\u001b[0m   File \"/tmp/ipykernel_10447/2943298735.py\", line 2, in train_evaluate\n",
      "\u001b[2m\u001b[36m(train_evaluate pid=11532)\u001b[0m NameError: name 'SGDClassifier' is not defined\n",
      "\u001b[2m\u001b[36m(train_evaluate pid=11532)\u001b[0m Exception in thread Thread-3:\n",
      "\u001b[2m\u001b[36m(train_evaluate pid=11532)\u001b[0m Traceback (most recent call last):\n",
      "\u001b[2m\u001b[36m(train_evaluate pid=11532)\u001b[0m   File \"/usr/lib/python3.8/threading.py\", line 932, in _bootstrap_inner\n",
      "\u001b[2m\u001b[36m(train_evaluate pid=11532)\u001b[0m     self.run()\n",
      "\u001b[2m\u001b[36m(train_evaluate pid=11532)\u001b[0m   File \"/usr/local/lib/python3.8/dist-packages/ray/tune/function_runner.py\", line 298, in run\n",
      "\u001b[2m\u001b[36m(train_evaluate pid=11532)\u001b[0m     raise e\n",
      "\u001b[2m\u001b[36m(train_evaluate pid=11532)\u001b[0m   File \"/usr/local/lib/python3.8/dist-packages/ray/tune/function_runner.py\", line 272, in run\n",
      "\u001b[2m\u001b[36m(train_evaluate pid=11532)\u001b[0m     self._entrypoint()\n",
      "\u001b[2m\u001b[36m(train_evaluate pid=11532)\u001b[0m   File \"/usr/local/lib/python3.8/dist-packages/ray/tune/function_runner.py\", line 348, in entrypoint\n",
      "\u001b[2m\u001b[36m(train_evaluate pid=11532)\u001b[0m     return self._trainable_func(\n",
      "\u001b[2m\u001b[36m(train_evaluate pid=11532)\u001b[0m   File \"/usr/local/lib/python3.8/dist-packages/ray/util/tracing/tracing_helper.py\", line 462, in _resume_span\n",
      "\u001b[2m\u001b[36m(train_evaluate pid=11532)\u001b[0m     return method(self, *_args, **_kwargs)\n",
      "\u001b[2m\u001b[36m(train_evaluate pid=11532)\u001b[0m   File \"/usr/local/lib/python3.8/dist-packages/ray/tune/function_runner.py\", line 640, in _trainable_func\n",
      "\u001b[2m\u001b[36m(train_evaluate pid=11532)\u001b[0m     output = fn()\n",
      "\u001b[2m\u001b[36m(train_evaluate pid=11532)\u001b[0m   File \"/tmp/ipykernel_10447/2943298735.py\", line 2, in train_evaluate\n",
      "\u001b[2m\u001b[36m(train_evaluate pid=11532)\u001b[0m NameError: name 'SGDClassifier' is not defined\n",
      "\u001b[2m\u001b[36m(run pid=10540)\u001b[0m 2022-05-01 17:38:30,126\tERROR trial_runner.py:876 -- Trial train_evaluate_883e8_00000: Error processing event.\n",
      "\u001b[2m\u001b[36m(run pid=10540)\u001b[0m NoneType: None\n"
     ]
    },
    {
     "name": "stdout",
     "output_type": "stream",
     "text": [
      "\u001b[2m\u001b[36m(run pid=10540)\u001b[0m == Status ==\n",
      "\u001b[2m\u001b[36m(run pid=10540)\u001b[0m Current time: 2022-05-01 17:38:35 (running for 00:01:38.92)\n",
      "\u001b[2m\u001b[36m(run pid=10540)\u001b[0m Memory usage on this node: 1.6/1.9 GiB\n",
      "\u001b[2m\u001b[36m(run pid=10540)\u001b[0m Using FIFO scheduling algorithm.\n",
      "\u001b[2m\u001b[36m(run pid=10540)\u001b[0m Resources requested: 0/3 CPUs, 0/0 GPUs, 0.0/3.23 GiB heap, 0.0/1.45 GiB objects\n",
      "\u001b[2m\u001b[36m(run pid=10540)\u001b[0m Result logdir: /home/ubuntu/ray_results/train_evaluate_2022-05-01_17-36-56\n",
      "\u001b[2m\u001b[36m(run pid=10540)\u001b[0m Number of trials: 15/15 (1 ERROR, 14 PENDING)\n",
      "\u001b[2m\u001b[36m(run pid=10540)\u001b[0m Number of errored trials: 1\n",
      "\u001b[2m\u001b[36m(run pid=10540)\u001b[0m +----------------------------+--------------+---------------------------------------------------------------------------------------------------------------------------------------------------+\n",
      "\u001b[2m\u001b[36m(run pid=10540)\u001b[0m | Trial name                 |   # failures | error file                                                                                                                                        |\n",
      "\u001b[2m\u001b[36m(run pid=10540)\u001b[0m |----------------------------+--------------+---------------------------------------------------------------------------------------------------------------------------------------------------|\n",
      "\u001b[2m\u001b[36m(run pid=10540)\u001b[0m | train_evaluate_883e8_00000 |            1 | /home/ubuntu/ray_results/train_evaluate_2022-05-01_17-36-56/train_evaluate_883e8_00000_0_alpha=0.0023731,penalty=l2_2022-05-01_17-38-27/error.txt |\n",
      "\u001b[2m\u001b[36m(run pid=10540)\u001b[0m +----------------------------+--------------+---------------------------------------------------------------------------------------------------------------------------------------------------+\n",
      "\u001b[2m\u001b[36m(run pid=10540)\u001b[0m \n",
      "\u001b[2m\u001b[36m(run pid=10540)\u001b[0m == Status ==\n",
      "\u001b[2m\u001b[36m(run pid=10540)\u001b[0m Current time: 2022-05-01 17:38:40 (running for 00:01:43.93)\n",
      "\u001b[2m\u001b[36m(run pid=10540)\u001b[0m Memory usage on this node: 1.6/1.9 GiB\n",
      "\u001b[2m\u001b[36m(run pid=10540)\u001b[0m Using FIFO scheduling algorithm.\n",
      "\u001b[2m\u001b[36m(run pid=10540)\u001b[0m Resources requested: 0/3 CPUs, 0/0 GPUs, 0.0/3.23 GiB heap, 0.0/1.45 GiB objects\n",
      "\u001b[2m\u001b[36m(run pid=10540)\u001b[0m Result logdir: /home/ubuntu/ray_results/train_evaluate_2022-05-01_17-36-56\n",
      "\u001b[2m\u001b[36m(run pid=10540)\u001b[0m Number of trials: 15/15 (1 ERROR, 14 PENDING)\n",
      "\u001b[2m\u001b[36m(run pid=10540)\u001b[0m Number of errored trials: 1\n",
      "\u001b[2m\u001b[36m(run pid=10540)\u001b[0m +----------------------------+--------------+---------------------------------------------------------------------------------------------------------------------------------------------------+\n",
      "\u001b[2m\u001b[36m(run pid=10540)\u001b[0m | Trial name                 |   # failures | error file                                                                                                                                        |\n",
      "\u001b[2m\u001b[36m(run pid=10540)\u001b[0m |----------------------------+--------------+---------------------------------------------------------------------------------------------------------------------------------------------------|\n",
      "\u001b[2m\u001b[36m(run pid=10540)\u001b[0m | train_evaluate_883e8_00000 |            1 | /home/ubuntu/ray_results/train_evaluate_2022-05-01_17-36-56/train_evaluate_883e8_00000_0_alpha=0.0023731,penalty=l2_2022-05-01_17-38-27/error.txt |\n",
      "\u001b[2m\u001b[36m(run pid=10540)\u001b[0m +----------------------------+--------------+---------------------------------------------------------------------------------------------------------------------------------------------------+\n",
      "\u001b[2m\u001b[36m(run pid=10540)\u001b[0m \n",
      "\u001b[2m\u001b[36m(run pid=10540)\u001b[0m == Status ==\n",
      "\u001b[2m\u001b[36m(run pid=10540)\u001b[0m Current time: 2022-05-01 17:38:45 (running for 00:01:48.94)\n",
      "\u001b[2m\u001b[36m(run pid=10540)\u001b[0m Memory usage on this node: 1.6/1.9 GiB\n",
      "\u001b[2m\u001b[36m(run pid=10540)\u001b[0m Using FIFO scheduling algorithm.\n",
      "\u001b[2m\u001b[36m(run pid=10540)\u001b[0m Resources requested: 0/3 CPUs, 0/0 GPUs, 0.0/3.23 GiB heap, 0.0/1.45 GiB objects\n",
      "\u001b[2m\u001b[36m(run pid=10540)\u001b[0m Result logdir: /home/ubuntu/ray_results/train_evaluate_2022-05-01_17-36-56\n",
      "\u001b[2m\u001b[36m(run pid=10540)\u001b[0m Number of trials: 15/15 (1 ERROR, 14 PENDING)\n",
      "\u001b[2m\u001b[36m(run pid=10540)\u001b[0m Number of errored trials: 1\n",
      "\u001b[2m\u001b[36m(run pid=10540)\u001b[0m +----------------------------+--------------+---------------------------------------------------------------------------------------------------------------------------------------------------+\n",
      "\u001b[2m\u001b[36m(run pid=10540)\u001b[0m | Trial name                 |   # failures | error file                                                                                                                                        |\n",
      "\u001b[2m\u001b[36m(run pid=10540)\u001b[0m |----------------------------+--------------+---------------------------------------------------------------------------------------------------------------------------------------------------|\n",
      "\u001b[2m\u001b[36m(run pid=10540)\u001b[0m | train_evaluate_883e8_00000 |            1 | /home/ubuntu/ray_results/train_evaluate_2022-05-01_17-36-56/train_evaluate_883e8_00000_0_alpha=0.0023731,penalty=l2_2022-05-01_17-38-27/error.txt |\n",
      "\u001b[2m\u001b[36m(run pid=10540)\u001b[0m +----------------------------+--------------+---------------------------------------------------------------------------------------------------------------------------------------------------+\n",
      "\u001b[2m\u001b[36m(run pid=10540)\u001b[0m \n",
      "\u001b[2m\u001b[36m(run pid=10540)\u001b[0m == Status ==\n",
      "\u001b[2m\u001b[36m(run pid=10540)\u001b[0m Current time: 2022-05-01 17:38:50 (running for 00:01:53.95)\n",
      "\u001b[2m\u001b[36m(run pid=10540)\u001b[0m Memory usage on this node: 1.6/1.9 GiB\n",
      "\u001b[2m\u001b[36m(run pid=10540)\u001b[0m Using FIFO scheduling algorithm.\n",
      "\u001b[2m\u001b[36m(run pid=10540)\u001b[0m Resources requested: 0/3 CPUs, 0/0 GPUs, 0.0/3.23 GiB heap, 0.0/1.45 GiB objects\n",
      "\u001b[2m\u001b[36m(run pid=10540)\u001b[0m Result logdir: /home/ubuntu/ray_results/train_evaluate_2022-05-01_17-36-56\n",
      "\u001b[2m\u001b[36m(run pid=10540)\u001b[0m Number of trials: 15/15 (1 ERROR, 14 PENDING)\n",
      "\u001b[2m\u001b[36m(run pid=10540)\u001b[0m Number of errored trials: 1\n",
      "\u001b[2m\u001b[36m(run pid=10540)\u001b[0m +----------------------------+--------------+---------------------------------------------------------------------------------------------------------------------------------------------------+\n",
      "\u001b[2m\u001b[36m(run pid=10540)\u001b[0m | Trial name                 |   # failures | error file                                                                                                                                        |\n",
      "\u001b[2m\u001b[36m(run pid=10540)\u001b[0m |----------------------------+--------------+---------------------------------------------------------------------------------------------------------------------------------------------------|\n",
      "\u001b[2m\u001b[36m(run pid=10540)\u001b[0m | train_evaluate_883e8_00000 |            1 | /home/ubuntu/ray_results/train_evaluate_2022-05-01_17-36-56/train_evaluate_883e8_00000_0_alpha=0.0023731,penalty=l2_2022-05-01_17-38-27/error.txt |\n",
      "\u001b[2m\u001b[36m(run pid=10540)\u001b[0m +----------------------------+--------------+---------------------------------------------------------------------------------------------------------------------------------------------------+\n",
      "\u001b[2m\u001b[36m(run pid=10540)\u001b[0m \n",
      "\u001b[2m\u001b[36m(run pid=10540)\u001b[0m == Status ==\n",
      "\u001b[2m\u001b[36m(run pid=10540)\u001b[0m Current time: 2022-05-01 17:38:55 (running for 00:01:58.96)\n",
      "\u001b[2m\u001b[36m(run pid=10540)\u001b[0m Memory usage on this node: 1.6/1.9 GiB\n",
      "\u001b[2m\u001b[36m(run pid=10540)\u001b[0m Using FIFO scheduling algorithm.\n",
      "\u001b[2m\u001b[36m(run pid=10540)\u001b[0m Resources requested: 0/3 CPUs, 0/0 GPUs, 0.0/3.23 GiB heap, 0.0/1.45 GiB objects\n",
      "\u001b[2m\u001b[36m(run pid=10540)\u001b[0m Result logdir: /home/ubuntu/ray_results/train_evaluate_2022-05-01_17-36-56\n",
      "\u001b[2m\u001b[36m(run pid=10540)\u001b[0m Number of trials: 15/15 (1 ERROR, 14 PENDING)\n",
      "\u001b[2m\u001b[36m(run pid=10540)\u001b[0m Number of errored trials: 1\n",
      "\u001b[2m\u001b[36m(run pid=10540)\u001b[0m +----------------------------+--------------+---------------------------------------------------------------------------------------------------------------------------------------------------+\n",
      "\u001b[2m\u001b[36m(run pid=10540)\u001b[0m | Trial name                 |   # failures | error file                                                                                                                                        |\n",
      "\u001b[2m\u001b[36m(run pid=10540)\u001b[0m |----------------------------+--------------+---------------------------------------------------------------------------------------------------------------------------------------------------|\n",
      "\u001b[2m\u001b[36m(run pid=10540)\u001b[0m | train_evaluate_883e8_00000 |            1 | /home/ubuntu/ray_results/train_evaluate_2022-05-01_17-36-56/train_evaluate_883e8_00000_0_alpha=0.0023731,penalty=l2_2022-05-01_17-38-27/error.txt |\n",
      "\u001b[2m\u001b[36m(run pid=10540)\u001b[0m +----------------------------+--------------+---------------------------------------------------------------------------------------------------------------------------------------------------+\n",
      "\u001b[2m\u001b[36m(run pid=10540)\u001b[0m \n",
      "\u001b[2m\u001b[36m(run pid=10540)\u001b[0m == Status ==\n",
      "\u001b[2m\u001b[36m(run pid=10540)\u001b[0m Current time: 2022-05-01 17:39:00 (running for 00:02:03.97)\n",
      "\u001b[2m\u001b[36m(run pid=10540)\u001b[0m Memory usage on this node: 1.6/1.9 GiB\n",
      "\u001b[2m\u001b[36m(run pid=10540)\u001b[0m Using FIFO scheduling algorithm.\n",
      "\u001b[2m\u001b[36m(run pid=10540)\u001b[0m Resources requested: 0/3 CPUs, 0/0 GPUs, 0.0/3.23 GiB heap, 0.0/1.45 GiB objects\n",
      "\u001b[2m\u001b[36m(run pid=10540)\u001b[0m Result logdir: /home/ubuntu/ray_results/train_evaluate_2022-05-01_17-36-56\n",
      "\u001b[2m\u001b[36m(run pid=10540)\u001b[0m Number of trials: 15/15 (1 ERROR, 14 PENDING)\n",
      "\u001b[2m\u001b[36m(run pid=10540)\u001b[0m Number of errored trials: 1\n",
      "\u001b[2m\u001b[36m(run pid=10540)\u001b[0m +----------------------------+--------------+---------------------------------------------------------------------------------------------------------------------------------------------------+\n",
      "\u001b[2m\u001b[36m(run pid=10540)\u001b[0m | Trial name                 |   # failures | error file                                                                                                                                        |\n",
      "\u001b[2m\u001b[36m(run pid=10540)\u001b[0m |----------------------------+--------------+---------------------------------------------------------------------------------------------------------------------------------------------------|\n",
      "\u001b[2m\u001b[36m(run pid=10540)\u001b[0m | train_evaluate_883e8_00000 |            1 | /home/ubuntu/ray_results/train_evaluate_2022-05-01_17-36-56/train_evaluate_883e8_00000_0_alpha=0.0023731,penalty=l2_2022-05-01_17-38-27/error.txt |\n",
      "\u001b[2m\u001b[36m(run pid=10540)\u001b[0m +----------------------------+--------------+---------------------------------------------------------------------------------------------------------------------------------------------------+\n",
      "\u001b[2m\u001b[36m(run pid=10540)\u001b[0m \n",
      "\u001b[2m\u001b[36m(run pid=10540)\u001b[0m == Status ==\n",
      "\u001b[2m\u001b[36m(run pid=10540)\u001b[0m Current time: 2022-05-01 17:39:05 (running for 00:02:08.98)\n",
      "\u001b[2m\u001b[36m(run pid=10540)\u001b[0m Memory usage on this node: 1.6/1.9 GiB\n",
      "\u001b[2m\u001b[36m(run pid=10540)\u001b[0m Using FIFO scheduling algorithm.\n",
      "\u001b[2m\u001b[36m(run pid=10540)\u001b[0m Resources requested: 0/3 CPUs, 0/0 GPUs, 0.0/3.23 GiB heap, 0.0/1.45 GiB objects\n",
      "\u001b[2m\u001b[36m(run pid=10540)\u001b[0m Result logdir: /home/ubuntu/ray_results/train_evaluate_2022-05-01_17-36-56\n",
      "\u001b[2m\u001b[36m(run pid=10540)\u001b[0m Number of trials: 15/15 (1 ERROR, 14 PENDING)\n",
      "\u001b[2m\u001b[36m(run pid=10540)\u001b[0m Number of errored trials: 1\n",
      "\u001b[2m\u001b[36m(run pid=10540)\u001b[0m +----------------------------+--------------+---------------------------------------------------------------------------------------------------------------------------------------------------+\n",
      "\u001b[2m\u001b[36m(run pid=10540)\u001b[0m | Trial name                 |   # failures | error file                                                                                                                                        |\n",
      "\u001b[2m\u001b[36m(run pid=10540)\u001b[0m |----------------------------+--------------+---------------------------------------------------------------------------------------------------------------------------------------------------|\n",
      "\u001b[2m\u001b[36m(run pid=10540)\u001b[0m | train_evaluate_883e8_00000 |            1 | /home/ubuntu/ray_results/train_evaluate_2022-05-01_17-36-56/train_evaluate_883e8_00000_0_alpha=0.0023731,penalty=l2_2022-05-01_17-38-27/error.txt |\n",
      "\u001b[2m\u001b[36m(run pid=10540)\u001b[0m +----------------------------+--------------+---------------------------------------------------------------------------------------------------------------------------------------------------+\n",
      "\u001b[2m\u001b[36m(run pid=10540)\u001b[0m \n",
      "\u001b[2m\u001b[36m(run pid=10540)\u001b[0m == Status ==\n",
      "\u001b[2m\u001b[36m(run pid=10540)\u001b[0m Current time: 2022-05-01 17:39:10 (running for 00:02:13.99)\n",
      "\u001b[2m\u001b[36m(run pid=10540)\u001b[0m Memory usage on this node: 1.6/1.9 GiB\n",
      "\u001b[2m\u001b[36m(run pid=10540)\u001b[0m Using FIFO scheduling algorithm.\n",
      "\u001b[2m\u001b[36m(run pid=10540)\u001b[0m Resources requested: 0/3 CPUs, 0/0 GPUs, 0.0/3.23 GiB heap, 0.0/1.45 GiB objects\n",
      "\u001b[2m\u001b[36m(run pid=10540)\u001b[0m Result logdir: /home/ubuntu/ray_results/train_evaluate_2022-05-01_17-36-56\n",
      "\u001b[2m\u001b[36m(run pid=10540)\u001b[0m Number of trials: 15/15 (1 ERROR, 14 PENDING)\n",
      "\u001b[2m\u001b[36m(run pid=10540)\u001b[0m Number of errored trials: 1\n",
      "\u001b[2m\u001b[36m(run pid=10540)\u001b[0m +----------------------------+--------------+---------------------------------------------------------------------------------------------------------------------------------------------------+\n",
      "\u001b[2m\u001b[36m(run pid=10540)\u001b[0m | Trial name                 |   # failures | error file                                                                                                                                        |\n",
      "\u001b[2m\u001b[36m(run pid=10540)\u001b[0m |----------------------------+--------------+---------------------------------------------------------------------------------------------------------------------------------------------------|\n",
      "\u001b[2m\u001b[36m(run pid=10540)\u001b[0m | train_evaluate_883e8_00000 |            1 | /home/ubuntu/ray_results/train_evaluate_2022-05-01_17-36-56/train_evaluate_883e8_00000_0_alpha=0.0023731,penalty=l2_2022-05-01_17-38-27/error.txt |\n",
      "\u001b[2m\u001b[36m(run pid=10540)\u001b[0m +----------------------------+--------------+---------------------------------------------------------------------------------------------------------------------------------------------------+\n",
      "\u001b[2m\u001b[36m(run pid=10540)\u001b[0m \n",
      "\u001b[2m\u001b[36m(run pid=10540)\u001b[0m == Status ==\n",
      "\u001b[2m\u001b[36m(run pid=10540)\u001b[0m Current time: 2022-05-01 17:39:15 (running for 00:02:19.01)\n",
      "\u001b[2m\u001b[36m(run pid=10540)\u001b[0m Memory usage on this node: 1.6/1.9 GiB\n",
      "\u001b[2m\u001b[36m(run pid=10540)\u001b[0m Using FIFO scheduling algorithm.\n",
      "\u001b[2m\u001b[36m(run pid=10540)\u001b[0m Resources requested: 0/3 CPUs, 0/0 GPUs, 0.0/3.23 GiB heap, 0.0/1.45 GiB objects\n",
      "\u001b[2m\u001b[36m(run pid=10540)\u001b[0m Result logdir: /home/ubuntu/ray_results/train_evaluate_2022-05-01_17-36-56\n",
      "\u001b[2m\u001b[36m(run pid=10540)\u001b[0m Number of trials: 15/15 (1 ERROR, 14 PENDING)\n",
      "\u001b[2m\u001b[36m(run pid=10540)\u001b[0m Number of errored trials: 1\n",
      "\u001b[2m\u001b[36m(run pid=10540)\u001b[0m +----------------------------+--------------+---------------------------------------------------------------------------------------------------------------------------------------------------+\n",
      "\u001b[2m\u001b[36m(run pid=10540)\u001b[0m | Trial name                 |   # failures | error file                                                                                                                                        |\n",
      "\u001b[2m\u001b[36m(run pid=10540)\u001b[0m |----------------------------+--------------+---------------------------------------------------------------------------------------------------------------------------------------------------|\n",
      "\u001b[2m\u001b[36m(run pid=10540)\u001b[0m | train_evaluate_883e8_00000 |            1 | /home/ubuntu/ray_results/train_evaluate_2022-05-01_17-36-56/train_evaluate_883e8_00000_0_alpha=0.0023731,penalty=l2_2022-05-01_17-38-27/error.txt |\n",
      "\u001b[2m\u001b[36m(run pid=10540)\u001b[0m +----------------------------+--------------+---------------------------------------------------------------------------------------------------------------------------------------------------+\n",
      "\u001b[2m\u001b[36m(run pid=10540)\u001b[0m \n",
      "\u001b[2m\u001b[36m(run pid=10540)\u001b[0m == Status ==\n",
      "\u001b[2m\u001b[36m(run pid=10540)\u001b[0m Current time: 2022-05-01 17:39:20 (running for 00:02:24.01)\n",
      "\u001b[2m\u001b[36m(run pid=10540)\u001b[0m Memory usage on this node: 1.6/1.9 GiB\n",
      "\u001b[2m\u001b[36m(run pid=10540)\u001b[0m Using FIFO scheduling algorithm.\n",
      "\u001b[2m\u001b[36m(run pid=10540)\u001b[0m Resources requested: 0/3 CPUs, 0/0 GPUs, 0.0/3.23 GiB heap, 0.0/1.45 GiB objects\n",
      "\u001b[2m\u001b[36m(run pid=10540)\u001b[0m Result logdir: /home/ubuntu/ray_results/train_evaluate_2022-05-01_17-36-56\n",
      "\u001b[2m\u001b[36m(run pid=10540)\u001b[0m Number of trials: 15/15 (1 ERROR, 14 PENDING)\n",
      "\u001b[2m\u001b[36m(run pid=10540)\u001b[0m Number of errored trials: 1\n",
      "\u001b[2m\u001b[36m(run pid=10540)\u001b[0m +----------------------------+--------------+---------------------------------------------------------------------------------------------------------------------------------------------------+\n",
      "\u001b[2m\u001b[36m(run pid=10540)\u001b[0m | Trial name                 |   # failures | error file                                                                                                                                        |\n",
      "\u001b[2m\u001b[36m(run pid=10540)\u001b[0m |----------------------------+--------------+---------------------------------------------------------------------------------------------------------------------------------------------------|\n",
      "\u001b[2m\u001b[36m(run pid=10540)\u001b[0m | train_evaluate_883e8_00000 |            1 | /home/ubuntu/ray_results/train_evaluate_2022-05-01_17-36-56/train_evaluate_883e8_00000_0_alpha=0.0023731,penalty=l2_2022-05-01_17-38-27/error.txt |\n",
      "\u001b[2m\u001b[36m(run pid=10540)\u001b[0m +----------------------------+--------------+---------------------------------------------------------------------------------------------------------------------------------------------------+\n",
      "\u001b[2m\u001b[36m(run pid=10540)\u001b[0m \n",
      "\u001b[2m\u001b[36m(run pid=10540)\u001b[0m == Status ==\n",
      "\u001b[2m\u001b[36m(run pid=10540)\u001b[0m Current time: 2022-05-01 17:39:25 (running for 00:02:29.03)\n",
      "\u001b[2m\u001b[36m(run pid=10540)\u001b[0m Memory usage on this node: 1.6/1.9 GiB\n",
      "\u001b[2m\u001b[36m(run pid=10540)\u001b[0m Using FIFO scheduling algorithm.\n",
      "\u001b[2m\u001b[36m(run pid=10540)\u001b[0m Resources requested: 0/3 CPUs, 0/0 GPUs, 0.0/3.23 GiB heap, 0.0/1.45 GiB objects\n",
      "\u001b[2m\u001b[36m(run pid=10540)\u001b[0m Result logdir: /home/ubuntu/ray_results/train_evaluate_2022-05-01_17-36-56\n",
      "\u001b[2m\u001b[36m(run pid=10540)\u001b[0m Number of trials: 15/15 (1 ERROR, 14 PENDING)\n",
      "\u001b[2m\u001b[36m(run pid=10540)\u001b[0m Number of errored trials: 1\n",
      "\u001b[2m\u001b[36m(run pid=10540)\u001b[0m +----------------------------+--------------+---------------------------------------------------------------------------------------------------------------------------------------------------+\n",
      "\u001b[2m\u001b[36m(run pid=10540)\u001b[0m | Trial name                 |   # failures | error file                                                                                                                                        |\n",
      "\u001b[2m\u001b[36m(run pid=10540)\u001b[0m |----------------------------+--------------+---------------------------------------------------------------------------------------------------------------------------------------------------|\n",
      "\u001b[2m\u001b[36m(run pid=10540)\u001b[0m | train_evaluate_883e8_00000 |            1 | /home/ubuntu/ray_results/train_evaluate_2022-05-01_17-36-56/train_evaluate_883e8_00000_0_alpha=0.0023731,penalty=l2_2022-05-01_17-38-27/error.txt |\n",
      "\u001b[2m\u001b[36m(run pid=10540)\u001b[0m +----------------------------+--------------+---------------------------------------------------------------------------------------------------------------------------------------------------+\n",
      "\u001b[2m\u001b[36m(run pid=10540)\u001b[0m \n",
      "\u001b[2m\u001b[36m(run pid=10540)\u001b[0m == Status ==\n",
      "\u001b[2m\u001b[36m(run pid=10540)\u001b[0m Current time: 2022-05-01 17:39:30 (running for 00:02:34.03)\n",
      "\u001b[2m\u001b[36m(run pid=10540)\u001b[0m Memory usage on this node: 1.6/1.9 GiB\n",
      "\u001b[2m\u001b[36m(run pid=10540)\u001b[0m Using FIFO scheduling algorithm.\n",
      "\u001b[2m\u001b[36m(run pid=10540)\u001b[0m Resources requested: 0/3 CPUs, 0/0 GPUs, 0.0/3.23 GiB heap, 0.0/1.45 GiB objects\n",
      "\u001b[2m\u001b[36m(run pid=10540)\u001b[0m Result logdir: /home/ubuntu/ray_results/train_evaluate_2022-05-01_17-36-56\n",
      "\u001b[2m\u001b[36m(run pid=10540)\u001b[0m Number of trials: 15/15 (1 ERROR, 14 PENDING)\n",
      "\u001b[2m\u001b[36m(run pid=10540)\u001b[0m Number of errored trials: 1\n",
      "\u001b[2m\u001b[36m(run pid=10540)\u001b[0m +----------------------------+--------------+---------------------------------------------------------------------------------------------------------------------------------------------------+\n",
      "\u001b[2m\u001b[36m(run pid=10540)\u001b[0m | Trial name                 |   # failures | error file                                                                                                                                        |\n",
      "\u001b[2m\u001b[36m(run pid=10540)\u001b[0m |----------------------------+--------------+---------------------------------------------------------------------------------------------------------------------------------------------------|\n",
      "\u001b[2m\u001b[36m(run pid=10540)\u001b[0m | train_evaluate_883e8_00000 |            1 | /home/ubuntu/ray_results/train_evaluate_2022-05-01_17-36-56/train_evaluate_883e8_00000_0_alpha=0.0023731,penalty=l2_2022-05-01_17-38-27/error.txt |\n",
      "\u001b[2m\u001b[36m(run pid=10540)\u001b[0m +----------------------------+--------------+---------------------------------------------------------------------------------------------------------------------------------------------------+\n",
      "\u001b[2m\u001b[36m(run pid=10540)\u001b[0m \n",
      "\u001b[2m\u001b[36m(run pid=10540)\u001b[0m == Status ==\n",
      "\u001b[2m\u001b[36m(run pid=10540)\u001b[0m Current time: 2022-05-01 17:39:35 (running for 00:02:39.05)\n",
      "\u001b[2m\u001b[36m(run pid=10540)\u001b[0m Memory usage on this node: 1.6/1.9 GiB\n",
      "\u001b[2m\u001b[36m(run pid=10540)\u001b[0m Using FIFO scheduling algorithm.\n",
      "\u001b[2m\u001b[36m(run pid=10540)\u001b[0m Resources requested: 0/3 CPUs, 0/0 GPUs, 0.0/3.23 GiB heap, 0.0/1.45 GiB objects\n",
      "\u001b[2m\u001b[36m(run pid=10540)\u001b[0m Result logdir: /home/ubuntu/ray_results/train_evaluate_2022-05-01_17-36-56\n",
      "\u001b[2m\u001b[36m(run pid=10540)\u001b[0m Number of trials: 15/15 (1 ERROR, 14 PENDING)\n",
      "\u001b[2m\u001b[36m(run pid=10540)\u001b[0m Number of errored trials: 1\n",
      "\u001b[2m\u001b[36m(run pid=10540)\u001b[0m +----------------------------+--------------+---------------------------------------------------------------------------------------------------------------------------------------------------+\n",
      "\u001b[2m\u001b[36m(run pid=10540)\u001b[0m | Trial name                 |   # failures | error file                                                                                                                                        |\n",
      "\u001b[2m\u001b[36m(run pid=10540)\u001b[0m |----------------------------+--------------+---------------------------------------------------------------------------------------------------------------------------------------------------|\n",
      "\u001b[2m\u001b[36m(run pid=10540)\u001b[0m | train_evaluate_883e8_00000 |            1 | /home/ubuntu/ray_results/train_evaluate_2022-05-01_17-36-56/train_evaluate_883e8_00000_0_alpha=0.0023731,penalty=l2_2022-05-01_17-38-27/error.txt |\n",
      "\u001b[2m\u001b[36m(run pid=10540)\u001b[0m +----------------------------+--------------+---------------------------------------------------------------------------------------------------------------------------------------------------+\n",
      "\u001b[2m\u001b[36m(run pid=10540)\u001b[0m \n",
      "\u001b[2m\u001b[36m(run pid=10540)\u001b[0m == Status ==\n",
      "\u001b[2m\u001b[36m(run pid=10540)\u001b[0m Current time: 2022-05-01 17:39:40 (running for 00:02:44.06)\n",
      "\u001b[2m\u001b[36m(run pid=10540)\u001b[0m Memory usage on this node: 1.6/1.9 GiB\n",
      "\u001b[2m\u001b[36m(run pid=10540)\u001b[0m Using FIFO scheduling algorithm.\n",
      "\u001b[2m\u001b[36m(run pid=10540)\u001b[0m Resources requested: 0/3 CPUs, 0/0 GPUs, 0.0/3.23 GiB heap, 0.0/1.45 GiB objects\n",
      "\u001b[2m\u001b[36m(run pid=10540)\u001b[0m Result logdir: /home/ubuntu/ray_results/train_evaluate_2022-05-01_17-36-56\n",
      "\u001b[2m\u001b[36m(run pid=10540)\u001b[0m Number of trials: 15/15 (1 ERROR, 14 PENDING)\n",
      "\u001b[2m\u001b[36m(run pid=10540)\u001b[0m Number of errored trials: 1\n",
      "\u001b[2m\u001b[36m(run pid=10540)\u001b[0m +----------------------------+--------------+---------------------------------------------------------------------------------------------------------------------------------------------------+\n",
      "\u001b[2m\u001b[36m(run pid=10540)\u001b[0m | Trial name                 |   # failures | error file                                                                                                                                        |\n",
      "\u001b[2m\u001b[36m(run pid=10540)\u001b[0m |----------------------------+--------------+---------------------------------------------------------------------------------------------------------------------------------------------------|\n",
      "\u001b[2m\u001b[36m(run pid=10540)\u001b[0m | train_evaluate_883e8_00000 |            1 | /home/ubuntu/ray_results/train_evaluate_2022-05-01_17-36-56/train_evaluate_883e8_00000_0_alpha=0.0023731,penalty=l2_2022-05-01_17-38-27/error.txt |\n",
      "\u001b[2m\u001b[36m(run pid=10540)\u001b[0m +----------------------------+--------------+---------------------------------------------------------------------------------------------------------------------------------------------------+\n",
      "\u001b[2m\u001b[36m(run pid=10540)\u001b[0m \n",
      "\u001b[2m\u001b[36m(run pid=10540)\u001b[0m == Status ==\n",
      "\u001b[2m\u001b[36m(run pid=10540)\u001b[0m Current time: 2022-05-01 17:39:45 (running for 00:02:49.08)\n",
      "\u001b[2m\u001b[36m(run pid=10540)\u001b[0m Memory usage on this node: 1.6/1.9 GiB\n",
      "\u001b[2m\u001b[36m(run pid=10540)\u001b[0m Using FIFO scheduling algorithm.\n",
      "\u001b[2m\u001b[36m(run pid=10540)\u001b[0m Resources requested: 0/3 CPUs, 0/0 GPUs, 0.0/3.23 GiB heap, 0.0/1.45 GiB objects\n",
      "\u001b[2m\u001b[36m(run pid=10540)\u001b[0m Result logdir: /home/ubuntu/ray_results/train_evaluate_2022-05-01_17-36-56\n",
      "\u001b[2m\u001b[36m(run pid=10540)\u001b[0m Number of trials: 15/15 (1 ERROR, 14 PENDING)\n",
      "\u001b[2m\u001b[36m(run pid=10540)\u001b[0m Number of errored trials: 1\n",
      "\u001b[2m\u001b[36m(run pid=10540)\u001b[0m +----------------------------+--------------+---------------------------------------------------------------------------------------------------------------------------------------------------+\n",
      "\u001b[2m\u001b[36m(run pid=10540)\u001b[0m | Trial name                 |   # failures | error file                                                                                                                                        |\n",
      "\u001b[2m\u001b[36m(run pid=10540)\u001b[0m |----------------------------+--------------+---------------------------------------------------------------------------------------------------------------------------------------------------|\n",
      "\u001b[2m\u001b[36m(run pid=10540)\u001b[0m | train_evaluate_883e8_00000 |            1 | /home/ubuntu/ray_results/train_evaluate_2022-05-01_17-36-56/train_evaluate_883e8_00000_0_alpha=0.0023731,penalty=l2_2022-05-01_17-38-27/error.txt |\n",
      "\u001b[2m\u001b[36m(run pid=10540)\u001b[0m +----------------------------+--------------+---------------------------------------------------------------------------------------------------------------------------------------------------+\n",
      "\u001b[2m\u001b[36m(run pid=10540)\u001b[0m \n",
      "\u001b[2m\u001b[36m(run pid=10540)\u001b[0m == Status ==\n",
      "\u001b[2m\u001b[36m(run pid=10540)\u001b[0m Current time: 2022-05-01 17:39:50 (running for 00:02:54.08)\n",
      "\u001b[2m\u001b[36m(run pid=10540)\u001b[0m Memory usage on this node: 1.6/1.9 GiB\n",
      "\u001b[2m\u001b[36m(run pid=10540)\u001b[0m Using FIFO scheduling algorithm.\n",
      "\u001b[2m\u001b[36m(run pid=10540)\u001b[0m Resources requested: 0/3 CPUs, 0/0 GPUs, 0.0/3.23 GiB heap, 0.0/1.45 GiB objects\n",
      "\u001b[2m\u001b[36m(run pid=10540)\u001b[0m Result logdir: /home/ubuntu/ray_results/train_evaluate_2022-05-01_17-36-56\n",
      "\u001b[2m\u001b[36m(run pid=10540)\u001b[0m Number of trials: 15/15 (1 ERROR, 14 PENDING)\n",
      "\u001b[2m\u001b[36m(run pid=10540)\u001b[0m Number of errored trials: 1\n",
      "\u001b[2m\u001b[36m(run pid=10540)\u001b[0m +----------------------------+--------------+---------------------------------------------------------------------------------------------------------------------------------------------------+\n",
      "\u001b[2m\u001b[36m(run pid=10540)\u001b[0m | Trial name                 |   # failures | error file                                                                                                                                        |\n",
      "\u001b[2m\u001b[36m(run pid=10540)\u001b[0m |----------------------------+--------------+---------------------------------------------------------------------------------------------------------------------------------------------------|\n",
      "\u001b[2m\u001b[36m(run pid=10540)\u001b[0m | train_evaluate_883e8_00000 |            1 | /home/ubuntu/ray_results/train_evaluate_2022-05-01_17-36-56/train_evaluate_883e8_00000_0_alpha=0.0023731,penalty=l2_2022-05-01_17-38-27/error.txt |\n",
      "\u001b[2m\u001b[36m(run pid=10540)\u001b[0m +----------------------------+--------------+---------------------------------------------------------------------------------------------------------------------------------------------------+\n",
      "\u001b[2m\u001b[36m(run pid=10540)\u001b[0m \n",
      "\u001b[2m\u001b[36m(run pid=10540)\u001b[0m == Status ==\n",
      "\u001b[2m\u001b[36m(run pid=10540)\u001b[0m Current time: 2022-05-01 17:39:55 (running for 00:02:59.10)\n",
      "\u001b[2m\u001b[36m(run pid=10540)\u001b[0m Memory usage on this node: 1.6/1.9 GiB\n",
      "\u001b[2m\u001b[36m(run pid=10540)\u001b[0m Using FIFO scheduling algorithm.\n",
      "\u001b[2m\u001b[36m(run pid=10540)\u001b[0m Resources requested: 0/3 CPUs, 0/0 GPUs, 0.0/3.23 GiB heap, 0.0/1.45 GiB objects\n",
      "\u001b[2m\u001b[36m(run pid=10540)\u001b[0m Result logdir: /home/ubuntu/ray_results/train_evaluate_2022-05-01_17-36-56\n",
      "\u001b[2m\u001b[36m(run pid=10540)\u001b[0m Number of trials: 15/15 (1 ERROR, 14 PENDING)\n",
      "\u001b[2m\u001b[36m(run pid=10540)\u001b[0m Number of errored trials: 1\n",
      "\u001b[2m\u001b[36m(run pid=10540)\u001b[0m +----------------------------+--------------+---------------------------------------------------------------------------------------------------------------------------------------------------+\n",
      "\u001b[2m\u001b[36m(run pid=10540)\u001b[0m | Trial name                 |   # failures | error file                                                                                                                                        |\n",
      "\u001b[2m\u001b[36m(run pid=10540)\u001b[0m |----------------------------+--------------+---------------------------------------------------------------------------------------------------------------------------------------------------|\n",
      "\u001b[2m\u001b[36m(run pid=10540)\u001b[0m | train_evaluate_883e8_00000 |            1 | /home/ubuntu/ray_results/train_evaluate_2022-05-01_17-36-56/train_evaluate_883e8_00000_0_alpha=0.0023731,penalty=l2_2022-05-01_17-38-27/error.txt |\n",
      "\u001b[2m\u001b[36m(run pid=10540)\u001b[0m +----------------------------+--------------+---------------------------------------------------------------------------------------------------------------------------------------------------+\n",
      "\u001b[2m\u001b[36m(run pid=10540)\u001b[0m \n",
      "\u001b[2m\u001b[36m(run pid=10540)\u001b[0m == Status ==\n",
      "\u001b[2m\u001b[36m(run pid=10540)\u001b[0m Current time: 2022-05-01 17:40:00 (running for 00:03:04.11)\n",
      "\u001b[2m\u001b[36m(run pid=10540)\u001b[0m Memory usage on this node: 1.6/1.9 GiB\n",
      "\u001b[2m\u001b[36m(run pid=10540)\u001b[0m Using FIFO scheduling algorithm.\n",
      "\u001b[2m\u001b[36m(run pid=10540)\u001b[0m Resources requested: 0/3 CPUs, 0/0 GPUs, 0.0/3.23 GiB heap, 0.0/1.45 GiB objects\n",
      "\u001b[2m\u001b[36m(run pid=10540)\u001b[0m Result logdir: /home/ubuntu/ray_results/train_evaluate_2022-05-01_17-36-56\n",
      "\u001b[2m\u001b[36m(run pid=10540)\u001b[0m Number of trials: 15/15 (1 ERROR, 14 PENDING)\n",
      "\u001b[2m\u001b[36m(run pid=10540)\u001b[0m Number of errored trials: 1\n",
      "\u001b[2m\u001b[36m(run pid=10540)\u001b[0m +----------------------------+--------------+---------------------------------------------------------------------------------------------------------------------------------------------------+\n",
      "\u001b[2m\u001b[36m(run pid=10540)\u001b[0m | Trial name                 |   # failures | error file                                                                                                                                        |\n",
      "\u001b[2m\u001b[36m(run pid=10540)\u001b[0m |----------------------------+--------------+---------------------------------------------------------------------------------------------------------------------------------------------------|\n",
      "\u001b[2m\u001b[36m(run pid=10540)\u001b[0m | train_evaluate_883e8_00000 |            1 | /home/ubuntu/ray_results/train_evaluate_2022-05-01_17-36-56/train_evaluate_883e8_00000_0_alpha=0.0023731,penalty=l2_2022-05-01_17-38-27/error.txt |\n",
      "\u001b[2m\u001b[36m(run pid=10540)\u001b[0m +----------------------------+--------------+---------------------------------------------------------------------------------------------------------------------------------------------------+\n",
      "\u001b[2m\u001b[36m(run pid=10540)\u001b[0m \n",
      "\u001b[2m\u001b[36m(run pid=10540)\u001b[0m == Status ==\n",
      "\u001b[2m\u001b[36m(run pid=10540)\u001b[0m Current time: 2022-05-01 17:40:05 (running for 00:03:09.13)\n",
      "\u001b[2m\u001b[36m(run pid=10540)\u001b[0m Memory usage on this node: 1.6/1.9 GiB\n",
      "\u001b[2m\u001b[36m(run pid=10540)\u001b[0m Using FIFO scheduling algorithm.\n",
      "\u001b[2m\u001b[36m(run pid=10540)\u001b[0m Resources requested: 0/3 CPUs, 0/0 GPUs, 0.0/3.23 GiB heap, 0.0/1.45 GiB objects\n",
      "\u001b[2m\u001b[36m(run pid=10540)\u001b[0m Result logdir: /home/ubuntu/ray_results/train_evaluate_2022-05-01_17-36-56\n",
      "\u001b[2m\u001b[36m(run pid=10540)\u001b[0m Number of trials: 15/15 (1 ERROR, 14 PENDING)\n",
      "\u001b[2m\u001b[36m(run pid=10540)\u001b[0m Number of errored trials: 1\n",
      "\u001b[2m\u001b[36m(run pid=10540)\u001b[0m +----------------------------+--------------+---------------------------------------------------------------------------------------------------------------------------------------------------+\n",
      "\u001b[2m\u001b[36m(run pid=10540)\u001b[0m | Trial name                 |   # failures | error file                                                                                                                                        |\n",
      "\u001b[2m\u001b[36m(run pid=10540)\u001b[0m |----------------------------+--------------+---------------------------------------------------------------------------------------------------------------------------------------------------|\n",
      "\u001b[2m\u001b[36m(run pid=10540)\u001b[0m | train_evaluate_883e8_00000 |            1 | /home/ubuntu/ray_results/train_evaluate_2022-05-01_17-36-56/train_evaluate_883e8_00000_0_alpha=0.0023731,penalty=l2_2022-05-01_17-38-27/error.txt |\n",
      "\u001b[2m\u001b[36m(run pid=10540)\u001b[0m +----------------------------+--------------+---------------------------------------------------------------------------------------------------------------------------------------------------+\n",
      "\u001b[2m\u001b[36m(run pid=10540)\u001b[0m \n",
      "\u001b[2m\u001b[36m(run pid=10540)\u001b[0m == Status ==\n",
      "\u001b[2m\u001b[36m(run pid=10540)\u001b[0m Current time: 2022-05-01 17:40:10 (running for 00:03:14.13)\n",
      "\u001b[2m\u001b[36m(run pid=10540)\u001b[0m Memory usage on this node: 1.6/1.9 GiB\n",
      "\u001b[2m\u001b[36m(run pid=10540)\u001b[0m Using FIFO scheduling algorithm.\n",
      "\u001b[2m\u001b[36m(run pid=10540)\u001b[0m Resources requested: 0/3 CPUs, 0/0 GPUs, 0.0/3.23 GiB heap, 0.0/1.45 GiB objects\n",
      "\u001b[2m\u001b[36m(run pid=10540)\u001b[0m Result logdir: /home/ubuntu/ray_results/train_evaluate_2022-05-01_17-36-56\n",
      "\u001b[2m\u001b[36m(run pid=10540)\u001b[0m Number of trials: 15/15 (1 ERROR, 14 PENDING)\n",
      "\u001b[2m\u001b[36m(run pid=10540)\u001b[0m Number of errored trials: 1\n",
      "\u001b[2m\u001b[36m(run pid=10540)\u001b[0m +----------------------------+--------------+---------------------------------------------------------------------------------------------------------------------------------------------------+\n",
      "\u001b[2m\u001b[36m(run pid=10540)\u001b[0m | Trial name                 |   # failures | error file                                                                                                                                        |\n",
      "\u001b[2m\u001b[36m(run pid=10540)\u001b[0m |----------------------------+--------------+---------------------------------------------------------------------------------------------------------------------------------------------------|\n",
      "\u001b[2m\u001b[36m(run pid=10540)\u001b[0m | train_evaluate_883e8_00000 |            1 | /home/ubuntu/ray_results/train_evaluate_2022-05-01_17-36-56/train_evaluate_883e8_00000_0_alpha=0.0023731,penalty=l2_2022-05-01_17-38-27/error.txt |\n",
      "\u001b[2m\u001b[36m(run pid=10540)\u001b[0m +----------------------------+--------------+---------------------------------------------------------------------------------------------------------------------------------------------------+\n",
      "\u001b[2m\u001b[36m(run pid=10540)\u001b[0m \n"
     ]
    },
    {
     "name": "stderr",
     "output_type": "stream",
     "text": [
      "\u001b[2m\u001b[36m(run pid=10540)\u001b[0m 2022-05-01 17:40:12,761\tINFO trial_runner.py:803 -- starting train_evaluate_883e8_00001\n",
      "\u001b[2m\u001b[36m(train_evaluate pid=12615)\u001b[0m 2022-05-01 17:40:15,026\tERROR function_runner.py:281 -- Runner Thread raised error.\n",
      "\u001b[2m\u001b[36m(train_evaluate pid=12615)\u001b[0m Traceback (most recent call last):\n",
      "\u001b[2m\u001b[36m(train_evaluate pid=12615)\u001b[0m   File \"/usr/local/lib/python3.8/dist-packages/ray/tune/function_runner.py\", line 272, in run\n",
      "\u001b[2m\u001b[36m(train_evaluate pid=12615)\u001b[0m     self._entrypoint()\n",
      "\u001b[2m\u001b[36m(train_evaluate pid=12615)\u001b[0m   File \"/usr/local/lib/python3.8/dist-packages/ray/tune/function_runner.py\", line 348, in entrypoint\n",
      "\u001b[2m\u001b[36m(train_evaluate pid=12615)\u001b[0m     return self._trainable_func(\n",
      "\u001b[2m\u001b[36m(train_evaluate pid=12615)\u001b[0m   File \"/usr/local/lib/python3.8/dist-packages/ray/util/tracing/tracing_helper.py\", line 462, in _resume_span\n",
      "\u001b[2m\u001b[36m(train_evaluate pid=12615)\u001b[0m     return method(self, *_args, **_kwargs)\n",
      "\u001b[2m\u001b[36m(train_evaluate pid=12615)\u001b[0m   File \"/usr/local/lib/python3.8/dist-packages/ray/tune/function_runner.py\", line 640, in _trainable_func\n",
      "\u001b[2m\u001b[36m(train_evaluate pid=12615)\u001b[0m     output = fn()\n",
      "\u001b[2m\u001b[36m(train_evaluate pid=12615)\u001b[0m   File \"/tmp/ipykernel_10447/2943298735.py\", line 2, in train_evaluate\n",
      "\u001b[2m\u001b[36m(train_evaluate pid=12615)\u001b[0m NameError: name 'SGDClassifier' is not defined\n",
      "\u001b[2m\u001b[36m(train_evaluate pid=12615)\u001b[0m Exception in thread Thread-3:\n",
      "\u001b[2m\u001b[36m(train_evaluate pid=12615)\u001b[0m Traceback (most recent call last):\n",
      "\u001b[2m\u001b[36m(train_evaluate pid=12615)\u001b[0m   File \"/usr/lib/python3.8/threading.py\", line 932, in _bootstrap_inner\n",
      "\u001b[2m\u001b[36m(train_evaluate pid=12615)\u001b[0m     self.run()\n",
      "\u001b[2m\u001b[36m(train_evaluate pid=12615)\u001b[0m   File \"/usr/local/lib/python3.8/dist-packages/ray/tune/function_runner.py\", line 298, in run\n",
      "\u001b[2m\u001b[36m(train_evaluate pid=12615)\u001b[0m     raise e\n",
      "\u001b[2m\u001b[36m(train_evaluate pid=12615)\u001b[0m   File \"/usr/local/lib/python3.8/dist-packages/ray/tune/function_runner.py\", line 272, in run\n",
      "\u001b[2m\u001b[36m(train_evaluate pid=12615)\u001b[0m     self._entrypoint()\n",
      "\u001b[2m\u001b[36m(train_evaluate pid=12615)\u001b[0m   File \"/usr/local/lib/python3.8/dist-packages/ray/tune/function_runner.py\", line 348, in entrypoint\n",
      "\u001b[2m\u001b[36m(train_evaluate pid=12615)\u001b[0m     return self._trainable_func(\n",
      "\u001b[2m\u001b[36m(train_evaluate pid=12615)\u001b[0m   File \"/usr/local/lib/python3.8/dist-packages/ray/util/tracing/tracing_helper.py\", line 462, in _resume_span\n",
      "\u001b[2m\u001b[36m(train_evaluate pid=12615)\u001b[0m     return method(self, *_args, **_kwargs)\n",
      "\u001b[2m\u001b[36m(train_evaluate pid=12615)\u001b[0m   File \"/usr/local/lib/python3.8/dist-packages/ray/tune/function_runner.py\", line 640, in _trainable_func\n",
      "\u001b[2m\u001b[36m(train_evaluate pid=12615)\u001b[0m     output = fn()\n",
      "\u001b[2m\u001b[36m(train_evaluate pid=12615)\u001b[0m   File \"/tmp/ipykernel_10447/2943298735.py\", line 2, in train_evaluate\n",
      "\u001b[2m\u001b[36m(train_evaluate pid=12615)\u001b[0m NameError: name 'SGDClassifier' is not defined\n",
      "\u001b[2m\u001b[36m(run pid=10540)\u001b[0m 2022-05-01 17:40:15,236\tERROR trial_runner.py:876 -- Trial train_evaluate_883e8_00001: Error processing event.\n",
      "\u001b[2m\u001b[36m(run pid=10540)\u001b[0m NoneType: None\n"
     ]
    },
    {
     "name": "stdout",
     "output_type": "stream",
     "text": [
      "\u001b[2m\u001b[36m(run pid=10540)\u001b[0m == Status ==\n",
      "\u001b[2m\u001b[36m(run pid=10540)\u001b[0m Current time: 2022-05-01 17:40:20 (running for 00:03:24.03)\n",
      "\u001b[2m\u001b[36m(run pid=10540)\u001b[0m Memory usage on this node: 1.6/1.9 GiB\n",
      "\u001b[2m\u001b[36m(run pid=10540)\u001b[0m Using FIFO scheduling algorithm.\n",
      "\u001b[2m\u001b[36m(run pid=10540)\u001b[0m Resources requested: 0/3 CPUs, 0/0 GPUs, 0.0/3.23 GiB heap, 0.0/1.45 GiB objects\n",
      "\u001b[2m\u001b[36m(run pid=10540)\u001b[0m Result logdir: /home/ubuntu/ray_results/train_evaluate_2022-05-01_17-36-56\n",
      "\u001b[2m\u001b[36m(run pid=10540)\u001b[0m Number of trials: 15/15 (2 ERROR, 13 PENDING)\n",
      "\u001b[2m\u001b[36m(run pid=10540)\u001b[0m Number of errored trials: 2\n",
      "\u001b[2m\u001b[36m(run pid=10540)\u001b[0m +----------------------------+--------------+-----------------------------------------------------------------------------------------------------------------------------------------------------------+\n",
      "\u001b[2m\u001b[36m(run pid=10540)\u001b[0m | Trial name                 |   # failures | error file                                                                                                                                                |\n",
      "\u001b[2m\u001b[36m(run pid=10540)\u001b[0m |----------------------------+--------------+-----------------------------------------------------------------------------------------------------------------------------------------------------------|\n",
      "\u001b[2m\u001b[36m(run pid=10540)\u001b[0m | train_evaluate_883e8_00000 |            1 | /home/ubuntu/ray_results/train_evaluate_2022-05-01_17-36-56/train_evaluate_883e8_00000_0_alpha=0.0023731,penalty=l2_2022-05-01_17-38-27/error.txt         |\n",
      "\u001b[2m\u001b[36m(run pid=10540)\u001b[0m | train_evaluate_883e8_00001 |            1 | /home/ubuntu/ray_results/train_evaluate_2022-05-01_17-36-56/train_evaluate_883e8_00001_1_alpha=0.0018282,penalty=elasticnet_2022-05-01_17-40-12/error.txt |\n",
      "\u001b[2m\u001b[36m(run pid=10540)\u001b[0m +----------------------------+--------------+-----------------------------------------------------------------------------------------------------------------------------------------------------------+\n",
      "\u001b[2m\u001b[36m(run pid=10540)\u001b[0m \n",
      "\u001b[2m\u001b[36m(run pid=10540)\u001b[0m == Status ==\n",
      "\u001b[2m\u001b[36m(run pid=10540)\u001b[0m Current time: 2022-05-01 17:40:25 (running for 00:03:29.04)\n",
      "\u001b[2m\u001b[36m(run pid=10540)\u001b[0m Memory usage on this node: 1.6/1.9 GiB\n",
      "\u001b[2m\u001b[36m(run pid=10540)\u001b[0m Using FIFO scheduling algorithm.\n",
      "\u001b[2m\u001b[36m(run pid=10540)\u001b[0m Resources requested: 0/3 CPUs, 0/0 GPUs, 0.0/3.23 GiB heap, 0.0/1.45 GiB objects\n",
      "\u001b[2m\u001b[36m(run pid=10540)\u001b[0m Result logdir: /home/ubuntu/ray_results/train_evaluate_2022-05-01_17-36-56\n",
      "\u001b[2m\u001b[36m(run pid=10540)\u001b[0m Number of trials: 15/15 (2 ERROR, 13 PENDING)\n",
      "\u001b[2m\u001b[36m(run pid=10540)\u001b[0m Number of errored trials: 2\n",
      "\u001b[2m\u001b[36m(run pid=10540)\u001b[0m +----------------------------+--------------+-----------------------------------------------------------------------------------------------------------------------------------------------------------+\n",
      "\u001b[2m\u001b[36m(run pid=10540)\u001b[0m | Trial name                 |   # failures | error file                                                                                                                                                |\n",
      "\u001b[2m\u001b[36m(run pid=10540)\u001b[0m |----------------------------+--------------+-----------------------------------------------------------------------------------------------------------------------------------------------------------|\n",
      "\u001b[2m\u001b[36m(run pid=10540)\u001b[0m | train_evaluate_883e8_00000 |            1 | /home/ubuntu/ray_results/train_evaluate_2022-05-01_17-36-56/train_evaluate_883e8_00000_0_alpha=0.0023731,penalty=l2_2022-05-01_17-38-27/error.txt         |\n",
      "\u001b[2m\u001b[36m(run pid=10540)\u001b[0m | train_evaluate_883e8_00001 |            1 | /home/ubuntu/ray_results/train_evaluate_2022-05-01_17-36-56/train_evaluate_883e8_00001_1_alpha=0.0018282,penalty=elasticnet_2022-05-01_17-40-12/error.txt |\n",
      "\u001b[2m\u001b[36m(run pid=10540)\u001b[0m +----------------------------+--------------+-----------------------------------------------------------------------------------------------------------------------------------------------------------+\n",
      "\u001b[2m\u001b[36m(run pid=10540)\u001b[0m \n",
      "\u001b[2m\u001b[36m(run pid=10540)\u001b[0m == Status ==\n",
      "\u001b[2m\u001b[36m(run pid=10540)\u001b[0m Current time: 2022-05-01 17:40:30 (running for 00:03:34.04)\n",
      "\u001b[2m\u001b[36m(run pid=10540)\u001b[0m Memory usage on this node: 1.6/1.9 GiB\n",
      "\u001b[2m\u001b[36m(run pid=10540)\u001b[0m Using FIFO scheduling algorithm.\n",
      "\u001b[2m\u001b[36m(run pid=10540)\u001b[0m Resources requested: 0/3 CPUs, 0/0 GPUs, 0.0/3.23 GiB heap, 0.0/1.45 GiB objects\n",
      "\u001b[2m\u001b[36m(run pid=10540)\u001b[0m Result logdir: /home/ubuntu/ray_results/train_evaluate_2022-05-01_17-36-56\n",
      "\u001b[2m\u001b[36m(run pid=10540)\u001b[0m Number of trials: 15/15 (2 ERROR, 13 PENDING)\n",
      "\u001b[2m\u001b[36m(run pid=10540)\u001b[0m Number of errored trials: 2\n",
      "\u001b[2m\u001b[36m(run pid=10540)\u001b[0m +----------------------------+--------------+-----------------------------------------------------------------------------------------------------------------------------------------------------------+\n",
      "\u001b[2m\u001b[36m(run pid=10540)\u001b[0m | Trial name                 |   # failures | error file                                                                                                                                                |\n",
      "\u001b[2m\u001b[36m(run pid=10540)\u001b[0m |----------------------------+--------------+-----------------------------------------------------------------------------------------------------------------------------------------------------------|\n",
      "\u001b[2m\u001b[36m(run pid=10540)\u001b[0m | train_evaluate_883e8_00000 |            1 | /home/ubuntu/ray_results/train_evaluate_2022-05-01_17-36-56/train_evaluate_883e8_00000_0_alpha=0.0023731,penalty=l2_2022-05-01_17-38-27/error.txt         |\n",
      "\u001b[2m\u001b[36m(run pid=10540)\u001b[0m | train_evaluate_883e8_00001 |            1 | /home/ubuntu/ray_results/train_evaluate_2022-05-01_17-36-56/train_evaluate_883e8_00001_1_alpha=0.0018282,penalty=elasticnet_2022-05-01_17-40-12/error.txt |\n",
      "\u001b[2m\u001b[36m(run pid=10540)\u001b[0m +----------------------------+--------------+-----------------------------------------------------------------------------------------------------------------------------------------------------------+\n",
      "\u001b[2m\u001b[36m(run pid=10540)\u001b[0m \n",
      "\u001b[2m\u001b[36m(run pid=10540)\u001b[0m == Status ==\n",
      "\u001b[2m\u001b[36m(run pid=10540)\u001b[0m Current time: 2022-05-01 17:40:35 (running for 00:03:39.05)\n",
      "\u001b[2m\u001b[36m(run pid=10540)\u001b[0m Memory usage on this node: 1.6/1.9 GiB\n",
      "\u001b[2m\u001b[36m(run pid=10540)\u001b[0m Using FIFO scheduling algorithm.\n",
      "\u001b[2m\u001b[36m(run pid=10540)\u001b[0m Resources requested: 0/3 CPUs, 0/0 GPUs, 0.0/3.23 GiB heap, 0.0/1.45 GiB objects\n",
      "\u001b[2m\u001b[36m(run pid=10540)\u001b[0m Result logdir: /home/ubuntu/ray_results/train_evaluate_2022-05-01_17-36-56\n",
      "\u001b[2m\u001b[36m(run pid=10540)\u001b[0m Number of trials: 15/15 (2 ERROR, 13 PENDING)\n",
      "\u001b[2m\u001b[36m(run pid=10540)\u001b[0m Number of errored trials: 2\n",
      "\u001b[2m\u001b[36m(run pid=10540)\u001b[0m +----------------------------+--------------+-----------------------------------------------------------------------------------------------------------------------------------------------------------+\n",
      "\u001b[2m\u001b[36m(run pid=10540)\u001b[0m | Trial name                 |   # failures | error file                                                                                                                                                |\n",
      "\u001b[2m\u001b[36m(run pid=10540)\u001b[0m |----------------------------+--------------+-----------------------------------------------------------------------------------------------------------------------------------------------------------|\n",
      "\u001b[2m\u001b[36m(run pid=10540)\u001b[0m | train_evaluate_883e8_00000 |            1 | /home/ubuntu/ray_results/train_evaluate_2022-05-01_17-36-56/train_evaluate_883e8_00000_0_alpha=0.0023731,penalty=l2_2022-05-01_17-38-27/error.txt         |\n",
      "\u001b[2m\u001b[36m(run pid=10540)\u001b[0m | train_evaluate_883e8_00001 |            1 | /home/ubuntu/ray_results/train_evaluate_2022-05-01_17-36-56/train_evaluate_883e8_00001_1_alpha=0.0018282,penalty=elasticnet_2022-05-01_17-40-12/error.txt |\n",
      "\u001b[2m\u001b[36m(run pid=10540)\u001b[0m +----------------------------+--------------+-----------------------------------------------------------------------------------------------------------------------------------------------------------+\n",
      "\u001b[2m\u001b[36m(run pid=10540)\u001b[0m \n",
      "\u001b[2m\u001b[36m(run pid=10540)\u001b[0m == Status ==\n",
      "\u001b[2m\u001b[36m(run pid=10540)\u001b[0m Current time: 2022-05-01 17:40:40 (running for 00:03:44.06)\n",
      "\u001b[2m\u001b[36m(run pid=10540)\u001b[0m Memory usage on this node: 1.6/1.9 GiB\n",
      "\u001b[2m\u001b[36m(run pid=10540)\u001b[0m Using FIFO scheduling algorithm.\n",
      "\u001b[2m\u001b[36m(run pid=10540)\u001b[0m Resources requested: 0/3 CPUs, 0/0 GPUs, 0.0/3.23 GiB heap, 0.0/1.45 GiB objects\n",
      "\u001b[2m\u001b[36m(run pid=10540)\u001b[0m Result logdir: /home/ubuntu/ray_results/train_evaluate_2022-05-01_17-36-56\n",
      "\u001b[2m\u001b[36m(run pid=10540)\u001b[0m Number of trials: 15/15 (2 ERROR, 13 PENDING)\n",
      "\u001b[2m\u001b[36m(run pid=10540)\u001b[0m Number of errored trials: 2\n",
      "\u001b[2m\u001b[36m(run pid=10540)\u001b[0m +----------------------------+--------------+-----------------------------------------------------------------------------------------------------------------------------------------------------------+\n",
      "\u001b[2m\u001b[36m(run pid=10540)\u001b[0m | Trial name                 |   # failures | error file                                                                                                                                                |\n",
      "\u001b[2m\u001b[36m(run pid=10540)\u001b[0m |----------------------------+--------------+-----------------------------------------------------------------------------------------------------------------------------------------------------------|\n",
      "\u001b[2m\u001b[36m(run pid=10540)\u001b[0m | train_evaluate_883e8_00000 |            1 | /home/ubuntu/ray_results/train_evaluate_2022-05-01_17-36-56/train_evaluate_883e8_00000_0_alpha=0.0023731,penalty=l2_2022-05-01_17-38-27/error.txt         |\n",
      "\u001b[2m\u001b[36m(run pid=10540)\u001b[0m | train_evaluate_883e8_00001 |            1 | /home/ubuntu/ray_results/train_evaluate_2022-05-01_17-36-56/train_evaluate_883e8_00001_1_alpha=0.0018282,penalty=elasticnet_2022-05-01_17-40-12/error.txt |\n",
      "\u001b[2m\u001b[36m(run pid=10540)\u001b[0m +----------------------------+--------------+-----------------------------------------------------------------------------------------------------------------------------------------------------------+\n",
      "\u001b[2m\u001b[36m(run pid=10540)\u001b[0m \n",
      "\u001b[2m\u001b[36m(run pid=10540)\u001b[0m == Status ==\n",
      "\u001b[2m\u001b[36m(run pid=10540)\u001b[0m Current time: 2022-05-01 17:40:45 (running for 00:03:49.07)\n",
      "\u001b[2m\u001b[36m(run pid=10540)\u001b[0m Memory usage on this node: 1.6/1.9 GiB\n",
      "\u001b[2m\u001b[36m(run pid=10540)\u001b[0m Using FIFO scheduling algorithm.\n",
      "\u001b[2m\u001b[36m(run pid=10540)\u001b[0m Resources requested: 0/3 CPUs, 0/0 GPUs, 0.0/3.23 GiB heap, 0.0/1.45 GiB objects\n",
      "\u001b[2m\u001b[36m(run pid=10540)\u001b[0m Result logdir: /home/ubuntu/ray_results/train_evaluate_2022-05-01_17-36-56\n",
      "\u001b[2m\u001b[36m(run pid=10540)\u001b[0m Number of trials: 15/15 (2 ERROR, 13 PENDING)\n",
      "\u001b[2m\u001b[36m(run pid=10540)\u001b[0m Number of errored trials: 2\n",
      "\u001b[2m\u001b[36m(run pid=10540)\u001b[0m +----------------------------+--------------+-----------------------------------------------------------------------------------------------------------------------------------------------------------+\n",
      "\u001b[2m\u001b[36m(run pid=10540)\u001b[0m | Trial name                 |   # failures | error file                                                                                                                                                |\n",
      "\u001b[2m\u001b[36m(run pid=10540)\u001b[0m |----------------------------+--------------+-----------------------------------------------------------------------------------------------------------------------------------------------------------|\n",
      "\u001b[2m\u001b[36m(run pid=10540)\u001b[0m | train_evaluate_883e8_00000 |            1 | /home/ubuntu/ray_results/train_evaluate_2022-05-01_17-36-56/train_evaluate_883e8_00000_0_alpha=0.0023731,penalty=l2_2022-05-01_17-38-27/error.txt         |\n",
      "\u001b[2m\u001b[36m(run pid=10540)\u001b[0m | train_evaluate_883e8_00001 |            1 | /home/ubuntu/ray_results/train_evaluate_2022-05-01_17-36-56/train_evaluate_883e8_00001_1_alpha=0.0018282,penalty=elasticnet_2022-05-01_17-40-12/error.txt |\n",
      "\u001b[2m\u001b[36m(run pid=10540)\u001b[0m +----------------------------+--------------+-----------------------------------------------------------------------------------------------------------------------------------------------------------+\n",
      "\u001b[2m\u001b[36m(run pid=10540)\u001b[0m \n",
      "\u001b[2m\u001b[36m(run pid=10540)\u001b[0m == Status ==\n",
      "\u001b[2m\u001b[36m(run pid=10540)\u001b[0m Current time: 2022-05-01 17:40:50 (running for 00:03:54.08)\n",
      "\u001b[2m\u001b[36m(run pid=10540)\u001b[0m Memory usage on this node: 1.6/1.9 GiB\n",
      "\u001b[2m\u001b[36m(run pid=10540)\u001b[0m Using FIFO scheduling algorithm.\n",
      "\u001b[2m\u001b[36m(run pid=10540)\u001b[0m Resources requested: 0/3 CPUs, 0/0 GPUs, 0.0/3.23 GiB heap, 0.0/1.45 GiB objects\n",
      "\u001b[2m\u001b[36m(run pid=10540)\u001b[0m Result logdir: /home/ubuntu/ray_results/train_evaluate_2022-05-01_17-36-56\n",
      "\u001b[2m\u001b[36m(run pid=10540)\u001b[0m Number of trials: 15/15 (2 ERROR, 13 PENDING)\n",
      "\u001b[2m\u001b[36m(run pid=10540)\u001b[0m Number of errored trials: 2\n",
      "\u001b[2m\u001b[36m(run pid=10540)\u001b[0m +----------------------------+--------------+-----------------------------------------------------------------------------------------------------------------------------------------------------------+\n",
      "\u001b[2m\u001b[36m(run pid=10540)\u001b[0m | Trial name                 |   # failures | error file                                                                                                                                                |\n",
      "\u001b[2m\u001b[36m(run pid=10540)\u001b[0m |----------------------------+--------------+-----------------------------------------------------------------------------------------------------------------------------------------------------------|\n",
      "\u001b[2m\u001b[36m(run pid=10540)\u001b[0m | train_evaluate_883e8_00000 |            1 | /home/ubuntu/ray_results/train_evaluate_2022-05-01_17-36-56/train_evaluate_883e8_00000_0_alpha=0.0023731,penalty=l2_2022-05-01_17-38-27/error.txt         |\n",
      "\u001b[2m\u001b[36m(run pid=10540)\u001b[0m | train_evaluate_883e8_00001 |            1 | /home/ubuntu/ray_results/train_evaluate_2022-05-01_17-36-56/train_evaluate_883e8_00001_1_alpha=0.0018282,penalty=elasticnet_2022-05-01_17-40-12/error.txt |\n",
      "\u001b[2m\u001b[36m(run pid=10540)\u001b[0m +----------------------------+--------------+-----------------------------------------------------------------------------------------------------------------------------------------------------------+\n",
      "\u001b[2m\u001b[36m(run pid=10540)\u001b[0m \n",
      "\u001b[2m\u001b[36m(run pid=10540)\u001b[0m == Status ==\n",
      "\u001b[2m\u001b[36m(run pid=10540)\u001b[0m Current time: 2022-05-01 17:40:55 (running for 00:03:59.08)\n",
      "\u001b[2m\u001b[36m(run pid=10540)\u001b[0m Memory usage on this node: 1.6/1.9 GiB\n",
      "\u001b[2m\u001b[36m(run pid=10540)\u001b[0m Using FIFO scheduling algorithm.\n",
      "\u001b[2m\u001b[36m(run pid=10540)\u001b[0m Resources requested: 0/3 CPUs, 0/0 GPUs, 0.0/3.23 GiB heap, 0.0/1.45 GiB objects\n",
      "\u001b[2m\u001b[36m(run pid=10540)\u001b[0m Result logdir: /home/ubuntu/ray_results/train_evaluate_2022-05-01_17-36-56\n",
      "\u001b[2m\u001b[36m(run pid=10540)\u001b[0m Number of trials: 15/15 (2 ERROR, 13 PENDING)\n",
      "\u001b[2m\u001b[36m(run pid=10540)\u001b[0m Number of errored trials: 2\n",
      "\u001b[2m\u001b[36m(run pid=10540)\u001b[0m +----------------------------+--------------+-----------------------------------------------------------------------------------------------------------------------------------------------------------+\n",
      "\u001b[2m\u001b[36m(run pid=10540)\u001b[0m | Trial name                 |   # failures | error file                                                                                                                                                |\n",
      "\u001b[2m\u001b[36m(run pid=10540)\u001b[0m |----------------------------+--------------+-----------------------------------------------------------------------------------------------------------------------------------------------------------|\n",
      "\u001b[2m\u001b[36m(run pid=10540)\u001b[0m | train_evaluate_883e8_00000 |            1 | /home/ubuntu/ray_results/train_evaluate_2022-05-01_17-36-56/train_evaluate_883e8_00000_0_alpha=0.0023731,penalty=l2_2022-05-01_17-38-27/error.txt         |\n",
      "\u001b[2m\u001b[36m(run pid=10540)\u001b[0m | train_evaluate_883e8_00001 |            1 | /home/ubuntu/ray_results/train_evaluate_2022-05-01_17-36-56/train_evaluate_883e8_00001_1_alpha=0.0018282,penalty=elasticnet_2022-05-01_17-40-12/error.txt |\n",
      "\u001b[2m\u001b[36m(run pid=10540)\u001b[0m +----------------------------+--------------+-----------------------------------------------------------------------------------------------------------------------------------------------------------+\n",
      "\u001b[2m\u001b[36m(run pid=10540)\u001b[0m \n",
      "\u001b[2m\u001b[36m(run pid=10540)\u001b[0m == Status ==\n",
      "\u001b[2m\u001b[36m(run pid=10540)\u001b[0m Current time: 2022-05-01 17:41:00 (running for 00:04:04.10)\n",
      "\u001b[2m\u001b[36m(run pid=10540)\u001b[0m Memory usage on this node: 1.6/1.9 GiB\n",
      "\u001b[2m\u001b[36m(run pid=10540)\u001b[0m Using FIFO scheduling algorithm.\n",
      "\u001b[2m\u001b[36m(run pid=10540)\u001b[0m Resources requested: 0/3 CPUs, 0/0 GPUs, 0.0/3.23 GiB heap, 0.0/1.45 GiB objects\n",
      "\u001b[2m\u001b[36m(run pid=10540)\u001b[0m Result logdir: /home/ubuntu/ray_results/train_evaluate_2022-05-01_17-36-56\n",
      "\u001b[2m\u001b[36m(run pid=10540)\u001b[0m Number of trials: 15/15 (2 ERROR, 13 PENDING)\n",
      "\u001b[2m\u001b[36m(run pid=10540)\u001b[0m Number of errored trials: 2\n",
      "\u001b[2m\u001b[36m(run pid=10540)\u001b[0m +----------------------------+--------------+-----------------------------------------------------------------------------------------------------------------------------------------------------------+\n",
      "\u001b[2m\u001b[36m(run pid=10540)\u001b[0m | Trial name                 |   # failures | error file                                                                                                                                                |\n",
      "\u001b[2m\u001b[36m(run pid=10540)\u001b[0m |----------------------------+--------------+-----------------------------------------------------------------------------------------------------------------------------------------------------------|\n",
      "\u001b[2m\u001b[36m(run pid=10540)\u001b[0m | train_evaluate_883e8_00000 |            1 | /home/ubuntu/ray_results/train_evaluate_2022-05-01_17-36-56/train_evaluate_883e8_00000_0_alpha=0.0023731,penalty=l2_2022-05-01_17-38-27/error.txt         |\n",
      "\u001b[2m\u001b[36m(run pid=10540)\u001b[0m | train_evaluate_883e8_00001 |            1 | /home/ubuntu/ray_results/train_evaluate_2022-05-01_17-36-56/train_evaluate_883e8_00001_1_alpha=0.0018282,penalty=elasticnet_2022-05-01_17-40-12/error.txt |\n",
      "\u001b[2m\u001b[36m(run pid=10540)\u001b[0m +----------------------------+--------------+-----------------------------------------------------------------------------------------------------------------------------------------------------------+\n",
      "\u001b[2m\u001b[36m(run pid=10540)\u001b[0m \n",
      "\u001b[2m\u001b[36m(run pid=10540)\u001b[0m == Status ==\n",
      "\u001b[2m\u001b[36m(run pid=10540)\u001b[0m Current time: 2022-05-01 17:41:05 (running for 00:04:09.10)\n",
      "\u001b[2m\u001b[36m(run pid=10540)\u001b[0m Memory usage on this node: 1.6/1.9 GiB\n",
      "\u001b[2m\u001b[36m(run pid=10540)\u001b[0m Using FIFO scheduling algorithm.\n",
      "\u001b[2m\u001b[36m(run pid=10540)\u001b[0m Resources requested: 0/3 CPUs, 0/0 GPUs, 0.0/3.23 GiB heap, 0.0/1.45 GiB objects\n",
      "\u001b[2m\u001b[36m(run pid=10540)\u001b[0m Result logdir: /home/ubuntu/ray_results/train_evaluate_2022-05-01_17-36-56\n",
      "\u001b[2m\u001b[36m(run pid=10540)\u001b[0m Number of trials: 15/15 (2 ERROR, 13 PENDING)\n",
      "\u001b[2m\u001b[36m(run pid=10540)\u001b[0m Number of errored trials: 2\n",
      "\u001b[2m\u001b[36m(run pid=10540)\u001b[0m +----------------------------+--------------+-----------------------------------------------------------------------------------------------------------------------------------------------------------+\n",
      "\u001b[2m\u001b[36m(run pid=10540)\u001b[0m | Trial name                 |   # failures | error file                                                                                                                                                |\n",
      "\u001b[2m\u001b[36m(run pid=10540)\u001b[0m |----------------------------+--------------+-----------------------------------------------------------------------------------------------------------------------------------------------------------|\n",
      "\u001b[2m\u001b[36m(run pid=10540)\u001b[0m | train_evaluate_883e8_00000 |            1 | /home/ubuntu/ray_results/train_evaluate_2022-05-01_17-36-56/train_evaluate_883e8_00000_0_alpha=0.0023731,penalty=l2_2022-05-01_17-38-27/error.txt         |\n",
      "\u001b[2m\u001b[36m(run pid=10540)\u001b[0m | train_evaluate_883e8_00001 |            1 | /home/ubuntu/ray_results/train_evaluate_2022-05-01_17-36-56/train_evaluate_883e8_00001_1_alpha=0.0018282,penalty=elasticnet_2022-05-01_17-40-12/error.txt |\n",
      "\u001b[2m\u001b[36m(run pid=10540)\u001b[0m +----------------------------+--------------+-----------------------------------------------------------------------------------------------------------------------------------------------------------+\n",
      "\u001b[2m\u001b[36m(run pid=10540)\u001b[0m \n",
      "\u001b[2m\u001b[36m(run pid=10540)\u001b[0m == Status ==\n",
      "\u001b[2m\u001b[36m(run pid=10540)\u001b[0m Current time: 2022-05-01 17:41:10 (running for 00:04:14.12)\n",
      "\u001b[2m\u001b[36m(run pid=10540)\u001b[0m Memory usage on this node: 1.6/1.9 GiB\n",
      "\u001b[2m\u001b[36m(run pid=10540)\u001b[0m Using FIFO scheduling algorithm.\n",
      "\u001b[2m\u001b[36m(run pid=10540)\u001b[0m Resources requested: 0/3 CPUs, 0/0 GPUs, 0.0/3.23 GiB heap, 0.0/1.45 GiB objects\n",
      "\u001b[2m\u001b[36m(run pid=10540)\u001b[0m Result logdir: /home/ubuntu/ray_results/train_evaluate_2022-05-01_17-36-56\n",
      "\u001b[2m\u001b[36m(run pid=10540)\u001b[0m Number of trials: 15/15 (2 ERROR, 13 PENDING)\n",
      "\u001b[2m\u001b[36m(run pid=10540)\u001b[0m Number of errored trials: 2\n",
      "\u001b[2m\u001b[36m(run pid=10540)\u001b[0m +----------------------------+--------------+-----------------------------------------------------------------------------------------------------------------------------------------------------------+\n",
      "\u001b[2m\u001b[36m(run pid=10540)\u001b[0m | Trial name                 |   # failures | error file                                                                                                                                                |\n",
      "\u001b[2m\u001b[36m(run pid=10540)\u001b[0m |----------------------------+--------------+-----------------------------------------------------------------------------------------------------------------------------------------------------------|\n",
      "\u001b[2m\u001b[36m(run pid=10540)\u001b[0m | train_evaluate_883e8_00000 |            1 | /home/ubuntu/ray_results/train_evaluate_2022-05-01_17-36-56/train_evaluate_883e8_00000_0_alpha=0.0023731,penalty=l2_2022-05-01_17-38-27/error.txt         |\n",
      "\u001b[2m\u001b[36m(run pid=10540)\u001b[0m | train_evaluate_883e8_00001 |            1 | /home/ubuntu/ray_results/train_evaluate_2022-05-01_17-36-56/train_evaluate_883e8_00001_1_alpha=0.0018282,penalty=elasticnet_2022-05-01_17-40-12/error.txt |\n",
      "\u001b[2m\u001b[36m(run pid=10540)\u001b[0m +----------------------------+--------------+-----------------------------------------------------------------------------------------------------------------------------------------------------------+\n",
      "\u001b[2m\u001b[36m(run pid=10540)\u001b[0m \n",
      "\u001b[2m\u001b[36m(run pid=10540)\u001b[0m == Status ==\n",
      "\u001b[2m\u001b[36m(run pid=10540)\u001b[0m Current time: 2022-05-01 17:41:15 (running for 00:04:19.12)\n",
      "\u001b[2m\u001b[36m(run pid=10540)\u001b[0m Memory usage on this node: 1.6/1.9 GiB\n",
      "\u001b[2m\u001b[36m(run pid=10540)\u001b[0m Using FIFO scheduling algorithm.\n",
      "\u001b[2m\u001b[36m(run pid=10540)\u001b[0m Resources requested: 0/3 CPUs, 0/0 GPUs, 0.0/3.23 GiB heap, 0.0/1.45 GiB objects\n",
      "\u001b[2m\u001b[36m(run pid=10540)\u001b[0m Result logdir: /home/ubuntu/ray_results/train_evaluate_2022-05-01_17-36-56\n",
      "\u001b[2m\u001b[36m(run pid=10540)\u001b[0m Number of trials: 15/15 (2 ERROR, 13 PENDING)\n",
      "\u001b[2m\u001b[36m(run pid=10540)\u001b[0m Number of errored trials: 2\n",
      "\u001b[2m\u001b[36m(run pid=10540)\u001b[0m +----------------------------+--------------+-----------------------------------------------------------------------------------------------------------------------------------------------------------+\n",
      "\u001b[2m\u001b[36m(run pid=10540)\u001b[0m | Trial name                 |   # failures | error file                                                                                                                                                |\n",
      "\u001b[2m\u001b[36m(run pid=10540)\u001b[0m |----------------------------+--------------+-----------------------------------------------------------------------------------------------------------------------------------------------------------|\n",
      "\u001b[2m\u001b[36m(run pid=10540)\u001b[0m | train_evaluate_883e8_00000 |            1 | /home/ubuntu/ray_results/train_evaluate_2022-05-01_17-36-56/train_evaluate_883e8_00000_0_alpha=0.0023731,penalty=l2_2022-05-01_17-38-27/error.txt         |\n",
      "\u001b[2m\u001b[36m(run pid=10540)\u001b[0m | train_evaluate_883e8_00001 |            1 | /home/ubuntu/ray_results/train_evaluate_2022-05-01_17-36-56/train_evaluate_883e8_00001_1_alpha=0.0018282,penalty=elasticnet_2022-05-01_17-40-12/error.txt |\n",
      "\u001b[2m\u001b[36m(run pid=10540)\u001b[0m +----------------------------+--------------+-----------------------------------------------------------------------------------------------------------------------------------------------------------+\n",
      "\u001b[2m\u001b[36m(run pid=10540)\u001b[0m \n",
      "\u001b[2m\u001b[36m(run pid=10540)\u001b[0m == Status ==\n",
      "\u001b[2m\u001b[36m(run pid=10540)\u001b[0m Current time: 2022-05-01 17:41:20 (running for 00:04:24.14)\n",
      "\u001b[2m\u001b[36m(run pid=10540)\u001b[0m Memory usage on this node: 1.6/1.9 GiB\n",
      "\u001b[2m\u001b[36m(run pid=10540)\u001b[0m Using FIFO scheduling algorithm.\n",
      "\u001b[2m\u001b[36m(run pid=10540)\u001b[0m Resources requested: 0/3 CPUs, 0/0 GPUs, 0.0/3.23 GiB heap, 0.0/1.45 GiB objects\n",
      "\u001b[2m\u001b[36m(run pid=10540)\u001b[0m Result logdir: /home/ubuntu/ray_results/train_evaluate_2022-05-01_17-36-56\n",
      "\u001b[2m\u001b[36m(run pid=10540)\u001b[0m Number of trials: 15/15 (2 ERROR, 13 PENDING)\n",
      "\u001b[2m\u001b[36m(run pid=10540)\u001b[0m Number of errored trials: 2\n",
      "\u001b[2m\u001b[36m(run pid=10540)\u001b[0m +----------------------------+--------------+-----------------------------------------------------------------------------------------------------------------------------------------------------------+\n",
      "\u001b[2m\u001b[36m(run pid=10540)\u001b[0m | Trial name                 |   # failures | error file                                                                                                                                                |\n",
      "\u001b[2m\u001b[36m(run pid=10540)\u001b[0m |----------------------------+--------------+-----------------------------------------------------------------------------------------------------------------------------------------------------------|\n",
      "\u001b[2m\u001b[36m(run pid=10540)\u001b[0m | train_evaluate_883e8_00000 |            1 | /home/ubuntu/ray_results/train_evaluate_2022-05-01_17-36-56/train_evaluate_883e8_00000_0_alpha=0.0023731,penalty=l2_2022-05-01_17-38-27/error.txt         |\n",
      "\u001b[2m\u001b[36m(run pid=10540)\u001b[0m | train_evaluate_883e8_00001 |            1 | /home/ubuntu/ray_results/train_evaluate_2022-05-01_17-36-56/train_evaluate_883e8_00001_1_alpha=0.0018282,penalty=elasticnet_2022-05-01_17-40-12/error.txt |\n",
      "\u001b[2m\u001b[36m(run pid=10540)\u001b[0m +----------------------------+--------------+-----------------------------------------------------------------------------------------------------------------------------------------------------------+\n",
      "\u001b[2m\u001b[36m(run pid=10540)\u001b[0m \n"
     ]
    }
   ],
   "source": [
    "%%time\n",
    "search_space = {\n",
    "    \"alpha\": tune.loguniform(1e-4, 1),\n",
    "    \"penalty\": tune.choice(['l1', 'l2', 'elasticnet'])\n",
    "}\n",
    "\n",
    "analysis = tune.run(train_evaluate, config=search_space, num_samples=15, verbose=1)"
   ]
  },
  {
   "cell_type": "code",
   "execution_count": null,
   "id": "twelve-slovakia",
   "metadata": {},
   "outputs": [],
   "source": [
    "analysis.dataframe()"
   ]
  },
  {
   "cell_type": "code",
   "execution_count": null,
   "id": "steady-pakistan",
   "metadata": {},
   "outputs": [],
   "source": [
    "def train_evaluate(parameterization):\n",
    "    clf = SGDClassifier(alpha=parameterization['alpha'], penalty=parameterization['penalty'])\n",
    "    X_t, X_val, y_t, y_val = train_test_split(X_train, y_train, test_size=0.2)\n",
    "    \n",
    "    for i in range(1000):\n",
    "        clf.partial_fit(X_t, y_t, classes=[False, True])\n",
    "        \n",
    "        if i % 100 == 0:\n",
    "            tune.report(mean_accuracy=clf.score(X_val, y_val))"
   ]
  },
  {
   "cell_type": "code",
   "execution_count": null,
   "id": "historic-conversion",
   "metadata": {},
   "outputs": [],
   "source": [
    "from ray.tune.schedulers import ASHAScheduler"
   ]
  },
  {
   "cell_type": "code",
   "execution_count": null,
   "id": "apparent-tragedy",
   "metadata": {},
   "outputs": [],
   "source": [
    "%%time\n",
    "search_space = {\n",
    "    \"alpha\": tune.loguniform(1e-6, 1000),\n",
    "    \"penalty\": tune.choice(['l1', 'l2', 'elasticnet'])\n",
    "}\n",
    "\n",
    "analysis = tune.run(\n",
    "    train_evaluate, \n",
    "    config=search_space, \n",
    "    num_samples=50, \n",
    "    verbose=1,\n",
    "    scheduler=ASHAScheduler(metric=\"mean_accuracy\", mode=\"max\"),\n",
    ")"
   ]
  },
  {
   "cell_type": "code",
   "execution_count": null,
   "id": "aging-tracker",
   "metadata": {},
   "outputs": [],
   "source": [
    "analysis.get_best_config(metric=\"mean_accuracy\", mode=\"max\")"
   ]
  },
  {
   "cell_type": "code",
   "execution_count": null,
   "id": "romance-animal",
   "metadata": {},
   "outputs": [],
   "source": [
    "# Create model with best performing hyperparameters\n",
    "clf = SGDClassifier(alpha=7.131, penalty='l2')\n",
    "\n",
    "# Fit on all of your (training) data\n",
    "clf.fit(X_train, y_train)"
   ]
  },
  {
   "cell_type": "code",
   "execution_count": null,
   "id": "residential-alias",
   "metadata": {},
   "outputs": [],
   "source": [
    "clf.score(X_test, y_test)"
   ]
  },
  {
   "cell_type": "code",
   "execution_count": null,
   "id": "beautiful-adams",
   "metadata": {},
   "outputs": [],
   "source": [
    "import pickle"
   ]
  },
  {
   "cell_type": "code",
   "execution_count": 31,
   "id": "premium-nancy",
   "metadata": {},
   "outputs": [],
   "source": [
    "with open('data/model.pickle', \"wb\") as f:\n",
    "    pickle.dump(clf, f)"
   ]
  },
  {
   "cell_type": "code",
   "execution_count": 32,
   "id": "advanced-pursuit",
   "metadata": {},
   "outputs": [
    {
     "name": "stdout",
     "output_type": "stream",
     "text": [
      "features.npz  labels.npy  Posts.xml  sgd.pickle\n"
     ]
    }
   ],
   "source": [
    "!ls data/"
   ]
  },
  {
   "cell_type": "code",
   "execution_count": 8,
   "id": "horizontal-monroe",
   "metadata": {},
   "outputs": [],
   "source": [
    "from scipy.sparse import csr_matrix\n",
    "\n",
    "class SGDModel:\n",
    "    def __init__(self):\n",
    "        with open('data/model.pickle', 'rb') as f:\n",
    "            self.model = pickle.load(f)\n",
    "            \n",
    "    async def __call__(self, starlette_request):\n",
    "        v = await starlette_request.json()\n",
    "        \n",
    "        # convert from JSON payload to CSR_matrix\n",
    "        features = csr_matrix((v['values'], (np.zeros(len(v['indices']), dtype='int32'), v['indices'])), shape=(1, 20000))\n",
    "        \n",
    "        return { \"prediction\": self.model.predict(features) }"
   ]
  },
  {
   "cell_type": "code",
   "execution_count": 9,
   "id": "capital-lithuania",
   "metadata": {},
   "outputs": [],
   "source": [
    "from ray import serve"
   ]
  },
  {
   "cell_type": "code",
   "execution_count": 10,
   "id": "quarterly-carolina",
   "metadata": {},
   "outputs": [
    {
     "name": "stderr",
     "output_type": "stream",
     "text": [
      "2021-02-22 04:01:50,065\tINFO services.py:1172 -- View the Ray dashboard at \u001b[1m\u001b[32mhttp://127.0.0.1:8265\u001b[39m\u001b[22m\n",
      "2021-02-22 04:01:50,072\tWARNING services.py:1619 -- WARNING: The object store is using /tmp instead of /dev/shm because /dev/shm has only 67108864 bytes available. This will harm performance! You may be able to free up space by deleting files in /dev/shm. If you are inside a Docker container, you can increase /dev/shm size by passing '--shm-size=Xgb' to 'docker run' (or add it to the run_options list in a Ray cluster config). Make sure to set this to more than 2gb.\n",
      "\u001b[2m\u001b[36m(pid=18249)\u001b[0m 2021-02-22 04:01:52,699\tINFO http_state.py:67 -- Starting HTTP proxy with name 'kZSjiv:SERVE_CONTROLLER_ACTOR:SERVE_PROXY_ACTOR-node:172.17.0.2-0' on node 'node:172.17.0.2-0' listening on '127.0.0.1:8000'\n"
     ]
    }
   ],
   "source": [
    "client = serve.start()"
   ]
  },
  {
   "cell_type": "code",
   "execution_count": 11,
   "id": "brave-speed",
   "metadata": {},
   "outputs": [
    {
     "name": "stderr",
     "output_type": "stream",
     "text": [
      "\u001b[2m\u001b[36m(pid=18247)\u001b[0m INFO:     Started server process [18247]\n"
     ]
    }
   ],
   "source": [
    "client.create_backend('sgd:v2', SGDModel)"
   ]
  },
  {
   "cell_type": "code",
   "execution_count": 12,
   "id": "pretty-discretion",
   "metadata": {},
   "outputs": [
    {
     "name": "stderr",
     "output_type": "stream",
     "text": [
      "\u001b[2m\u001b[36m(pid=18249)\u001b[0m 2021-02-22 04:01:55,773\tINFO controller.py:178 -- Registering route '/predict_csr' to endpoint 'se_classifier' with methods '['GET']'.\n"
     ]
    }
   ],
   "source": [
    "client.create_endpoint('se_classifier', backend=\"sgd:v2\", route=\"/predict_csr\")"
   ]
  },
  {
   "cell_type": "code",
   "execution_count": 13,
   "id": "secondary-difference",
   "metadata": {},
   "outputs": [],
   "source": [
    "import requests"
   ]
  },
  {
   "cell_type": "code",
   "execution_count": 14,
   "id": "accessible-africa",
   "metadata": {},
   "outputs": [],
   "source": [
    "test_data = X_test[0]"
   ]
  },
  {
   "cell_type": "code",
   "execution_count": 15,
   "id": "spiritual-landing",
   "metadata": {},
   "outputs": [
    {
     "data": {
      "text/plain": [
       "array([1.15532502, 5.89009922, 0.52865771, 4.9971976 , 2.61911601,\n",
       "       0.21815439, 1.12572524, 2.00337771, 1.54445005, 0.16168794,\n",
       "       4.34143175, 0.1754359 , 4.26321106, 0.58481782, 0.17572965,\n",
       "       2.64424677, 2.31275579, 0.79275807, 4.10757277, 1.64077112,\n",
       "       0.44524699, 1.30722235, 1.92659312, 3.59187143, 1.46448454,\n",
       "       3.14731124, 2.31237055, 0.1805399 , 2.1489765 , 3.51956811,\n",
       "       4.88984169, 0.11026072, 2.54805838, 2.35461075, 4.15805899,\n",
       "       4.35939699, 6.55914885])"
      ]
     },
     "execution_count": 15,
     "metadata": {},
     "output_type": "execute_result"
    }
   ],
   "source": [
    "test_data.data"
   ]
  },
  {
   "cell_type": "code",
   "execution_count": 17,
   "id": "lightweight-organ",
   "metadata": {},
   "outputs": [],
   "source": [
    "response = requests.get(\"http://localhost:8000/predict_csr\", json={\n",
    "    'indices': X_test[0].indices.tolist(),\n",
    "    'values': X_test[0].data.tolist()\n",
    "})"
   ]
  },
  {
   "cell_type": "code",
   "execution_count": 18,
   "id": "confidential-possibility",
   "metadata": {},
   "outputs": [
    {
     "data": {
      "text/plain": [
       "<Response [200]>"
      ]
     },
     "execution_count": 18,
     "metadata": {},
     "output_type": "execute_result"
    }
   ],
   "source": [
    "response"
   ]
  },
  {
   "cell_type": "code",
   "execution_count": 19,
   "id": "affected-packing",
   "metadata": {},
   "outputs": [
    {
     "data": {
      "text/plain": [
       "'{\\n  \"prediction\": [\\n    false\\n  ]\\n}'"
      ]
     },
     "execution_count": 19,
     "metadata": {},
     "output_type": "execute_result"
    }
   ],
   "source": [
    "response.text"
   ]
  },
  {
   "cell_type": "code",
   "execution_count": 20,
   "id": "hybrid-recycling",
   "metadata": {},
   "outputs": [
    {
     "data": {
      "text/plain": [
       "False"
      ]
     },
     "execution_count": 20,
     "metadata": {},
     "output_type": "execute_result"
    }
   ],
   "source": [
    "y_test[0]"
   ]
  },
  {
   "cell_type": "code",
   "execution_count": null,
   "id": "greatest-berkeley",
   "metadata": {},
   "outputs": [],
   "source": []
  }
 ],
 "metadata": {
  "kernelspec": {
   "display_name": "Python 3 (ipykernel)",
   "language": "python",
   "name": "python3"
  },
  "language_info": {
   "codemirror_mode": {
    "name": "ipython",
    "version": 3
   },
   "file_extension": ".py",
   "mimetype": "text/x-python",
   "name": "python",
   "nbconvert_exporter": "python",
   "pygments_lexer": "ipython3",
   "version": "3.8.10"
  }
 },
 "nbformat": 4,
 "nbformat_minor": 5
}
