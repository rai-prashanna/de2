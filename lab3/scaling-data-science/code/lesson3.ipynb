{
 "cells": [
  {
   "cell_type": "code",
   "execution_count": 1,
   "id": "still-warrior",
   "metadata": {},
   "outputs": [],
   "source": [
    "import pyspark as ps"
   ]
  },
  {
   "cell_type": "code",
   "execution_count": 2,
   "id": "careful-exclusive",
   "metadata": {},
   "outputs": [],
   "source": [
    "sc = ps.SparkContext()"
   ]
  },
  {
   "cell_type": "code",
   "execution_count": 3,
   "id": "extreme-counter",
   "metadata": {},
   "outputs": [
    {
     "data": {
      "text/plain": [
       "'local[*]'"
      ]
     },
     "execution_count": 3,
     "metadata": {},
     "output_type": "execute_result"
    }
   ],
   "source": [
    "sc.master"
   ]
  },
  {
   "cell_type": "code",
   "execution_count": 4,
   "id": "included-evidence",
   "metadata": {},
   "outputs": [],
   "source": [
    "posts = sc.textFile('data/Posts.xml')"
   ]
  },
  {
   "cell_type": "code",
   "execution_count": 6,
   "id": "necessary-perfume",
   "metadata": {},
   "outputs": [
    {
     "data": {
      "text/plain": [
       "['  <row Id=\"1\" PostTypeId=\"1\" AcceptedAnswerId=\"15\" CreationDate=\"2010-07-19T19:12:12.510\" Score=\"48\" ViewCount=\"4280\" Body=\"&lt;p&gt;How should I elicit prior distributions from experts when fitting a Bayesian model?&lt;/p&gt;&#xA;\" OwnerUserId=\"8\" LastActivityDate=\"2020-11-05T09:44:51.710\" Title=\"Eliciting priors from experts\" Tags=\"&lt;bayesian&gt;&lt;prior&gt;&lt;elicitation&gt;\" AnswerCount=\"6\" CommentCount=\"1\" FavoriteCount=\"32\" ContentLicense=\"CC BY-SA 2.5\" />',\n",
       " '  <row Id=\"2\" PostTypeId=\"1\" AcceptedAnswerId=\"59\" CreationDate=\"2010-07-19T19:12:57.157\" Score=\"34\" ViewCount=\"32048\" Body=\"&lt;p&gt;In many different statistical methods there is an &quot;assumption of normality&quot;.  What is &quot;normality&quot; and how do I know if there is normality?&lt;/p&gt;&#xA;\" OwnerUserId=\"24\" LastEditorDisplayName=\"user88\" LastEditDate=\"2010-08-07T17:56:44.800\" LastActivityDate=\"2017-11-22T12:15:07.030\" Title=\"What is normality?\" Tags=\"&lt;distributions&gt;&lt;normality-assumption&gt;\" AnswerCount=\"7\" CommentCount=\"1\" FavoriteCount=\"11\" ContentLicense=\"CC BY-SA 2.5\" />',\n",
       " '  <row Id=\"3\" PostTypeId=\"1\" AcceptedAnswerId=\"5\" CreationDate=\"2010-07-19T19:13:28.577\" Score=\"71\" ViewCount=\"6373\" Body=\"&lt;p&gt;What are some valuable Statistical Analysis open source projects available right now?&lt;/p&gt;&#xA;&#xA;&lt;p&gt;Edit: as pointed out by Sharpie, valuable could mean helping you get things done faster or more cheaply.&lt;/p&gt;&#xA;\" OwnerUserId=\"18\" LastEditorUserId=\"183\" LastEditDate=\"2011-02-12T05:50:03.667\" LastActivityDate=\"2013-05-27T14:48:36.927\" Title=\"What are some valuable Statistical Analysis open source projects?\" Tags=\"&lt;software&gt;&lt;open-source&gt;\" AnswerCount=\"19\" CommentCount=\"3\" FavoriteCount=\"39\" CommunityOwnedDate=\"2010-07-19T19:13:28.577\" ContentLicense=\"CC BY-SA 2.5\" />',\n",
       " '  <row Id=\"4\" PostTypeId=\"1\" AcceptedAnswerId=\"135\" CreationDate=\"2010-07-19T19:13:31.617\" Score=\"23\" ViewCount=\"39926\" Body=\"&lt;p&gt;I have two groups of data.  Each with a different distribution of multiple variables.  I\\'m trying to determine if these two groups\\' distributions are different in a statistically significant way.  I have the data in both raw form and binned up in easier to deal with discrete categories with frequency counts in each.  &lt;/p&gt;&#xA;&#xA;&lt;p&gt;What tests/procedures/methods should I use to determine whether or not these two groups are significantly different and how do I do that in SAS or R (or Orange)?&lt;/p&gt;&#xA;\" OwnerUserId=\"23\" LastActivityDate=\"2010-09-08T03:00:19.690\" Title=\"Assessing the significance of differences in distributions\" Tags=\"&lt;distributions&gt;&lt;statistical-significance&gt;\" AnswerCount=\"5\" CommentCount=\"2\" FavoriteCount=\"11\" ContentLicense=\"CC BY-SA 2.5\" />',\n",
       " '  <row Id=\"5\" PostTypeId=\"2\" ParentId=\"3\" CreationDate=\"2010-07-19T19:14:43.050\" Score=\"90\" Body=\"&lt;p&gt;The R-project&lt;/p&gt;&#xA;&#xA;&lt;p&gt;&lt;a href=&quot;http://www.r-project.org/&quot;&gt;http://www.r-project.org/&lt;/a&gt;&lt;/p&gt;&#xA;&#xA;&lt;p&gt;R is valuable and significant because it was the first widely-accepted Open-Source alternative to big-box packages.  It\\'s mature, well supported, and a standard within many scientific communities.&lt;/p&gt;&#xA;&#xA;&lt;ul&gt;&#xA;&lt;li&gt;&lt;a href=&quot;http://www.inside-r.org/why-use-r&quot;&gt;Some reasons why it is useful and valuable&lt;/a&gt; &lt;/li&gt;&#xA;&lt;li&gt;There are some nice tutorials &lt;a href=&quot;http://gettinggeneticsdone.blogspot.com/search/label/ggplot2&quot;&gt;here&lt;/a&gt;.&lt;/li&gt;&#xA;&lt;/ul&gt;&#xA;\" OwnerUserId=\"23\" LastEditorUserId=\"23\" LastEditDate=\"2010-07-19T19:21:15.063\" LastActivityDate=\"2010-07-19T19:21:15.063\" CommentCount=\"3\" CommunityOwnedDate=\"2010-07-19T19:14:43.050\" ContentLicense=\"CC BY-SA 2.5\" />',\n",
       " '  <row Id=\"6\" PostTypeId=\"1\" CreationDate=\"2010-07-19T19:14:44.080\" Score=\"458\" ViewCount=\"155024\" Body=\"&lt;p&gt;Last year, I read a blog post from &lt;a href=&quot;http://anyall.org/&quot;&gt;Brendan O\\'Connor&lt;/a&gt; entitled &lt;a href=&quot;http://anyall.org/blog/2008/12/statistics-vs-machine-learning-fight/&quot;&gt;&quot;Statistics vs. Machine Learning, fight!&quot;&lt;/a&gt; that discussed some of the differences between the two fields.  &lt;a href=&quot;http://andrewgelman.com/2008/12/machine_learnin/&quot;&gt;Andrew Gelman responded favorably to this&lt;/a&gt;:&lt;/p&gt;&#xA;&#xA;&lt;p&gt;Simon Blomberg: &lt;/p&gt;&#xA;&#xA;&lt;blockquote&gt;&#xA;  &lt;p&gt;From R\\'s fortunes&#xA;  package: To paraphrase provocatively,&#xA;  \\'machine learning is statistics minus&#xA;  any checking of models and&#xA;  assumptions\\'.&#xA;  -- Brian D. Ripley (about the difference between machine learning&#xA;  and statistics) useR! 2004, Vienna&#xA;  (May 2004) :-) Season\\'s Greetings!&lt;/p&gt;&#xA;&lt;/blockquote&gt;&#xA;&#xA;&lt;p&gt;Andrew Gelman:&lt;/p&gt;&#xA;&#xA;&lt;blockquote&gt;&#xA;  &lt;p&gt;In that case, maybe we should get rid&#xA;  of checking of models and assumptions&#xA;  more often. Then maybe we\\'d be able to&#xA;  solve some of the problems that the&#xA;  machine learning people can solve but&#xA;  we can\\'t!&lt;/p&gt;&#xA;&lt;/blockquote&gt;&#xA;&#xA;&lt;p&gt;There was also the &lt;a href=&quot;http://projecteuclid.org/euclid.ss/1009213726&quot;&gt;&lt;strong&gt;&quot;Statistical Modeling: The Two Cultures&quot;&lt;/strong&gt; paper&lt;/a&gt; by Leo Breiman in 2001 which argued that statisticians rely too heavily on data modeling, and that machine learning techniques are making progress by instead relying on the &lt;em&gt;predictive accuracy&lt;/em&gt; of models.&lt;/p&gt;&#xA;&#xA;&lt;p&gt;Has the statistics field changed over the last decade in response to these critiques?  Do the &lt;em&gt;two cultures&lt;/em&gt; still exist or has statistics grown to embrace machine learning techniques such as neural networks and support vector machines?&lt;/p&gt;&#xA;\" OwnerUserId=\"5\" LastEditorUserId=\"11887\" LastEditDate=\"2017-04-08T17:58:18.247\" LastActivityDate=\"2020-06-19T23:58:59.910\" Title=\"The Two Cultures: statistics vs. machine learning?\" Tags=\"&lt;machine-learning&gt;&lt;pac-learning&gt;\" AnswerCount=\"20\" CommentCount=\"10\" FavoriteCount=\"443\" CommunityOwnedDate=\"2010-08-09T13:05:50.603\" ContentLicense=\"CC BY-SA 3.0\" />',\n",
       " '  <row Id=\"7\" PostTypeId=\"1\" AcceptedAnswerId=\"18\" CreationDate=\"2010-07-19T19:15:59.303\" Score=\"102\" ViewCount=\"41103\" Body=\"&lt;p&gt;I\\'ve been working on a new method for analyzing and parsing datasets to identify and isolate subgroups of a population without foreknowledge of any subgroup\\'s characteristics.  While the method works well enough with artificial data samples (i.e. datasets created specifically for the purpose of identifying and segregating subsets of the population), I\\'d like to try testing it with live data.&lt;/p&gt;&#xA;&#xA;&lt;p&gt;What I\\'m looking for is a freely available (i.e. non-confidential, non-proprietary) data source.  Preferably one containing bimodal or multimodal distributions or being obviously comprised of multiple subsets that cannot be easily pulled apart via traditional means.  Where would I go to find such information?&lt;/p&gt;&#xA;\" OwnerUserId=\"38\" LastEditorUserId=\"253\" LastEditDate=\"2013-09-26T21:50:36.963\" LastActivityDate=\"2020-04-30T19:37:04.137\" Title=\"Locating freely available data samples\" Tags=\"&lt;dataset&gt;&lt;sample&gt;&lt;population&gt;&lt;teaching&gt;\" AnswerCount=\"25\" CommentCount=\"2\" FavoriteCount=\"108\" CommunityOwnedDate=\"2010-07-20T20:50:48.483\" ContentLicense=\"CC BY-SA 2.5\" />',\n",
       " '  <row Id=\"8\" PostTypeId=\"1\" CreationDate=\"2010-07-19T19:16:21.737\" Score=\"0\" ViewCount=\"392\" Body=\"&lt;p&gt;Sorry, but the emptyness was a bit overwhelming. And this has been stuck in my head since it got asked at Area51!&lt;/p&gt;&#xA;\" OwnerUserId=\"37\" LastEditorUserId=\"449\" LastEditDate=\"2010-10-18T07:57:31.170\" LastActivityDate=\"2010-10-18T07:57:31.170\" Title=\"So how many staticians *does* it take to screw in a lightbulb?\" Tags=\"&lt;humor&gt;\" AnswerCount=\"1\" CommentCount=\"2\" ClosedDate=\"2010-07-19T20:19:46.577\" ContentLicense=\"CC BY-SA 2.5\" />',\n",
       " '  <row Id=\"9\" PostTypeId=\"2\" ParentId=\"3\" CreationDate=\"2010-07-19T19:16:27.553\" Score=\"14\" Body=\"&lt;p&gt;&lt;a href=&quot;http://incanter.org/&quot;&gt;Incanter&lt;/a&gt; is a Clojure-based, R-like platform (environment + libraries) for statistical computing and graphics. &lt;/p&gt;&#xA;\" OwnerUserId=\"50\" LastActivityDate=\"2010-07-19T19:16:27.553\" CommentCount=\"3\" CommunityOwnedDate=\"2010-07-19T19:16:27.553\" ContentLicense=\"CC BY-SA 2.5\" />',\n",
       " '  <row Id=\"10\" PostTypeId=\"1\" AcceptedAnswerId=\"1887\" CreationDate=\"2010-07-19T19:17:47.537\" Score=\"57\" ViewCount=\"93174\" Body=\"&lt;p&gt;Many studies in the social sciences use Likert scales.  When is it appropriate to use Likert data as ordinal and when is it appropriate to use it as interval data?&lt;/p&gt;&#xA;\" OwnerUserId=\"24\" LastEditorUserId=\"28666\" LastEditDate=\"2017-01-26T11:52:53.043\" LastActivityDate=\"2020-11-09T14:05:49.957\" Title=\"Under what conditions should Likert scales be used as ordinal or interval data?\" Tags=\"&lt;ordinal-data&gt;&lt;likert&gt;&lt;scales&gt;&lt;measurement&gt;\" AnswerCount=\"4\" CommentCount=\"4\" FavoriteCount=\"35\" ContentLicense=\"CC BY-SA 2.5\" />',\n",
       " '  <row Id=\"11\" PostTypeId=\"1\" AcceptedAnswerId=\"1201\" CreationDate=\"2010-07-19T19:18:30.810\" Score=\"4\" ViewCount=\"318\" Body=\"&lt;p&gt;Is there a good, modern treatment covering the various methods of multivariate interpolation, including which methodologies are typically best for particular types of problems? I\\'m interested in a solid statistical treatment including error estimates under various model assumptions.&lt;/p&gt;&#xA;&#xA;&lt;p&gt;An example:&lt;/p&gt;&#xA;&#xA;&lt;p&gt;&lt;a href=&quot;http://en.wikipedia.org/wiki/Inverse_distance_weighting&quot; rel=&quot;nofollow&quot;&gt;Shepard\\'s method&lt;/a&gt;&lt;/p&gt;&#xA;&#xA;&lt;p&gt;Say we\\'re sampling from a multivariate normal distribution with unknown parameters. What can we say about the standard error of the interpolated estimates?&lt;/p&gt;&#xA;&#xA;&lt;p&gt;I was hoping for a pointer to a general survey addressing similar questions for the various types of multivariate interpolations in common use. &lt;/p&gt;&#xA;\" OwnerUserId=\"34\" LastEditorUserId=\"34\" LastEditDate=\"2010-07-28T07:58:52.320\" LastActivityDate=\"2010-08-03T21:50:09.007\" Title=\"Multivariate Interpolation Approaches\" Tags=\"&lt;multivariable&gt;&lt;interpolation&gt;\" AnswerCount=\"1\" CommentCount=\"2\" FavoriteCount=\"1\" ContentLicense=\"CC BY-SA 2.5\" />',\n",
       " '  <row Id=\"12\" PostTypeId=\"2\" ParentId=\"7\" CreationDate=\"2010-07-19T19:18:41.370\" Score=\"24\" Body=\"&lt;p&gt;See my response to &lt;a href=&quot;https://stackoverflow.com/questions/2252144/datasets-for-running-statistical-analysis-on/2252450#2252450&quot;&gt;&quot;Datasets for Running Statistical Analysis on&quot;&lt;/a&gt; in reference to datasets in R.&lt;/p&gt;&#xA;\" OwnerUserId=\"5\" LastEditorUserId=\"-1\" LastEditDate=\"2017-05-23T12:39:26.143\" LastActivityDate=\"2010-07-19T19:18:41.370\" CommentCount=\"1\" CommunityOwnedDate=\"2011-08-12T20:29:33.010\" ContentLicense=\"CC BY-SA 2.5\" />']"
      ]
     },
     "execution_count": 6,
     "metadata": {},
     "output_type": "execute_result"
    }
   ],
   "source": [
    "posts.take(12)"
   ]
  },
  {
   "cell_type": "code",
   "execution_count": 6,
   "id": "limiting-celebration",
   "metadata": {},
   "outputs": [],
   "source": [
    "import xml.etree.ElementTree as etree"
   ]
  },
  {
   "cell_type": "code",
   "execution_count": 7,
   "id": "intellectual-board",
   "metadata": {},
   "outputs": [],
   "source": [
    "element = etree.fromstring(posts.take(3)[2]) "
   ]
  },
  {
   "cell_type": "code",
   "execution_count": 8,
   "id": "medieval-steel",
   "metadata": {},
   "outputs": [
    {
     "data": {
      "text/plain": [
       "<Element 'row' at 0x7fb2287703b0>"
      ]
     },
     "execution_count": 8,
     "metadata": {},
     "output_type": "execute_result"
    }
   ],
   "source": [
    "element"
   ]
  },
  {
   "cell_type": "code",
   "execution_count": 9,
   "id": "spatial-stick",
   "metadata": {},
   "outputs": [
    {
     "data": {
      "text/plain": [
       "[('Id', '1'),\n",
       " ('PostTypeId', '1'),\n",
       " ('AcceptedAnswerId', '15'),\n",
       " ('CreationDate', '2010-07-19T19:12:12.510'),\n",
       " ('Score', '48'),\n",
       " ('ViewCount', '4280'),\n",
       " ('Body',\n",
       "  '<p>How should I elicit prior distributions from experts when fitting a Bayesian model?</p>\\n'),\n",
       " ('OwnerUserId', '8'),\n",
       " ('LastActivityDate', '2020-11-05T09:44:51.710'),\n",
       " ('Title', 'Eliciting priors from experts'),\n",
       " ('Tags', '<bayesian><prior><elicitation>'),\n",
       " ('AnswerCount', '6'),\n",
       " ('CommentCount', '1'),\n",
       " ('FavoriteCount', '32'),\n",
       " ('ContentLicense', 'CC BY-SA 2.5')]"
      ]
     },
     "execution_count": 9,
     "metadata": {},
     "output_type": "execute_result"
    }
   ],
   "source": [
    "element.items()"
   ]
  },
  {
   "cell_type": "code",
   "execution_count": 10,
   "id": "later-invitation",
   "metadata": {},
   "outputs": [],
   "source": [
    "# filter valid row XML\n",
    "# convert data into proper types\n",
    "# convert RDD into DataFrame"
   ]
  },
  {
   "cell_type": "code",
   "execution_count": 11,
   "id": "sunrise-adventure",
   "metadata": {},
   "outputs": [],
   "source": [
    "def validate_post(xml):\n",
    "    try:\n",
    "        row = etree.fromstring(xml)\n",
    "        if row.get('Id'):\n",
    "            return True\n",
    "    except Exception as e:\n",
    "        print(e)\n",
    "        return False"
   ]
  },
  {
   "cell_type": "code",
   "execution_count": 12,
   "id": "radio-ticket",
   "metadata": {},
   "outputs": [
    {
     "data": {
      "text/plain": [
       "340841"
      ]
     },
     "execution_count": 12,
     "metadata": {},
     "output_type": "execute_result"
    }
   ],
   "source": [
    "posts.count()"
   ]
  },
  {
   "cell_type": "code",
   "execution_count": 13,
   "id": "czech-connection",
   "metadata": {},
   "outputs": [
    {
     "data": {
      "text/plain": [
       "340838"
      ]
     },
     "execution_count": 13,
     "metadata": {},
     "output_type": "execute_result"
    }
   ],
   "source": [
    "posts.filter(validate_post).count()"
   ]
  },
  {
   "cell_type": "code",
   "execution_count": 14,
   "id": "filled-seeking",
   "metadata": {},
   "outputs": [],
   "source": [
    "from datetime import datetime\n",
    "\n",
    "schema = {\n",
    "    'Id': int,\n",
    "    'PostTypeId': int,\n",
    "    'AcceptedAnswerId': int,\n",
    "    'CreationDate': datetime.fromisoformat,\n",
    "    'Score': int,\n",
    "    'ViewCount': int,\n",
    "    'Body': str,\n",
    "    'OwnerUserId': int,\n",
    "    'LastActivityDate': datetime.fromisoformat,\n",
    "    'Title': str,\n",
    "    'Tags': str,\n",
    "    'AnswerCount': int,\n",
    "    'CommentCount': int,\n",
    "    'FavoriteCount': int,\n",
    "    'ContentLicense': str\n",
    "}"
   ]
  },
  {
   "cell_type": "code",
   "execution_count": 15,
   "id": "technical-summary",
   "metadata": {},
   "outputs": [],
   "source": [
    "parsed = posts.filter(validate_post).map(lambda p: { k: schema[k](v) for (k, v) in etree.fromstring(p).items() if k in schema })"
   ]
  },
  {
   "cell_type": "code",
   "execution_count": 16,
   "id": "breathing-mailing",
   "metadata": {},
   "outputs": [
    {
     "data": {
      "text/plain": [
       "['Eliciting priors from experts',\n",
       " 'What is normality?',\n",
       " 'What are some valuable Statistical Analysis open source projects?',\n",
       " 'Assessing the significance of differences in distributions',\n",
       " 'The Two Cultures: statistics vs. machine learning?',\n",
       " 'Locating freely available data samples',\n",
       " 'So how many staticians *does* it take to screw in a lightbulb?',\n",
       " 'Under what conditions should Likert scales be used as ordinal or interval data?',\n",
       " 'Multivariate Interpolation Approaches',\n",
       " 'How can I adapt ANOVA for binary data?',\n",
       " 'Forecasting demographic census',\n",
       " 'Bayesian and frequentist reasoning in plain English']"
      ]
     },
     "execution_count": 16,
     "metadata": {},
     "output_type": "execute_result"
    }
   ],
   "source": [
    "parsed.filter(lambda p: 'Title' in p).map(lambda p: p['Title']).take(12)"
   ]
  },
  {
   "cell_type": "code",
   "execution_count": 17,
   "id": "conceptual-reproduction",
   "metadata": {},
   "outputs": [
    {
     "name": "stdout",
     "output_type": "stream",
     "text": [
      "(19) PythonRDD[7] at RDD at PythonRDD.scala:53 []\n",
      " |   data/Posts.xml MapPartitionsRDD[1] at textFile at NativeMethodAccessorImpl.java:0 []\n",
      " |   data/Posts.xml HadoopRDD[0] at textFile at NativeMethodAccessorImpl.java:0 []\n"
     ]
    }
   ],
   "source": [
    "print(parsed.toDebugString().decode('ascii'))"
   ]
  },
  {
   "cell_type": "code",
   "execution_count": 18,
   "id": "another-black",
   "metadata": {},
   "outputs": [
    {
     "data": {
      "text/plain": [
       "[{'Id': 1,\n",
       "  'PostTypeId': 1,\n",
       "  'AcceptedAnswerId': 15,\n",
       "  'CreationDate': datetime.datetime(2010, 7, 19, 19, 12, 12, 510000),\n",
       "  'Score': 48,\n",
       "  'ViewCount': 4280,\n",
       "  'Body': '<p>How should I elicit prior distributions from experts when fitting a Bayesian model?</p>\\n',\n",
       "  'OwnerUserId': 8,\n",
       "  'LastActivityDate': datetime.datetime(2020, 11, 5, 9, 44, 51, 710000),\n",
       "  'Title': 'Eliciting priors from experts',\n",
       "  'Tags': '<bayesian><prior><elicitation>',\n",
       "  'AnswerCount': 6,\n",
       "  'CommentCount': 1,\n",
       "  'FavoriteCount': 32,\n",
       "  'ContentLicense': 'CC BY-SA 2.5'}]"
      ]
     },
     "execution_count": 18,
     "metadata": {},
     "output_type": "execute_result"
    }
   ],
   "source": [
    "parsed.take(1)"
   ]
  },
  {
   "cell_type": "code",
   "execution_count": 19,
   "id": "contained-healing",
   "metadata": {},
   "outputs": [
    {
     "data": {
      "text/plain": [
       "340838"
      ]
     },
     "execution_count": 19,
     "metadata": {},
     "output_type": "execute_result"
    }
   ],
   "source": [
    "parsed.count()"
   ]
  },
  {
   "cell_type": "code",
   "execution_count": 20,
   "id": "modern-analyst",
   "metadata": {},
   "outputs": [
    {
     "name": "stdout",
     "output_type": "stream",
     "text": [
      "CPU times: user 23.9 ms, sys: 7.31 ms, total: 31.3 ms\n",
      "Wall time: 23.5 s\n"
     ]
    },
    {
     "data": {
      "text/plain": [
       "340838"
      ]
     },
     "execution_count": 20,
     "metadata": {},
     "output_type": "execute_result"
    }
   ],
   "source": [
    "%%time\n",
    "parsed.count()"
   ]
  },
  {
   "cell_type": "code",
   "execution_count": 21,
   "id": "descending-geography",
   "metadata": {},
   "outputs": [
    {
     "data": {
      "text/plain": [
       "PythonRDD[7] at RDD at PythonRDD.scala:53"
      ]
     },
     "execution_count": 21,
     "metadata": {},
     "output_type": "execute_result"
    }
   ],
   "source": [
    "parsed.cache()"
   ]
  },
  {
   "cell_type": "code",
   "execution_count": 22,
   "id": "direct-dancing",
   "metadata": {},
   "outputs": [
    {
     "name": "stdout",
     "output_type": "stream",
     "text": [
      "(19) PythonRDD[7] at RDD at PythonRDD.scala:53 [Memory Serialized 1x Replicated]\n",
      " |   data/Posts.xml MapPartitionsRDD[1] at textFile at NativeMethodAccessorImpl.java:0 [Memory Serialized 1x Replicated]\n",
      " |   data/Posts.xml HadoopRDD[0] at textFile at NativeMethodAccessorImpl.java:0 [Memory Serialized 1x Replicated]\n"
     ]
    }
   ],
   "source": [
    "print(parsed.toDebugString().decode('ascii'))"
   ]
  },
  {
   "cell_type": "code",
   "execution_count": 23,
   "id": "pressing-massage",
   "metadata": {},
   "outputs": [
    {
     "name": "stdout",
     "output_type": "stream",
     "text": [
      "CPU times: user 11.8 ms, sys: 5.64 ms, total: 17.5 ms\n",
      "Wall time: 33.1 s\n"
     ]
    },
    {
     "data": {
      "text/plain": [
       "340838"
      ]
     },
     "execution_count": 23,
     "metadata": {},
     "output_type": "execute_result"
    }
   ],
   "source": [
    "%%time\n",
    "parsed.count()"
   ]
  },
  {
   "cell_type": "code",
   "execution_count": 24,
   "id": "silent-absence",
   "metadata": {},
   "outputs": [
    {
     "name": "stdout",
     "output_type": "stream",
     "text": [
      "(19) PythonRDD[7] at RDD at PythonRDD.scala:53 [Memory Serialized 1x Replicated]\n",
      " |        CachedPartitions: 19; MemorySize: 263.5 MiB; ExternalBlockStoreSize: 0.0 B; DiskSize: 0.0 B\n",
      " |   data/Posts.xml MapPartitionsRDD[1] at textFile at NativeMethodAccessorImpl.java:0 [Memory Serialized 1x Replicated]\n",
      " |   data/Posts.xml HadoopRDD[0] at textFile at NativeMethodAccessorImpl.java:0 [Memory Serialized 1x Replicated]\n"
     ]
    }
   ],
   "source": [
    "print(parsed.toDebugString().decode('ascii'))"
   ]
  },
  {
   "cell_type": "code",
   "execution_count": 25,
   "id": "regional-burlington",
   "metadata": {},
   "outputs": [
    {
     "name": "stdout",
     "output_type": "stream",
     "text": [
      "CPU times: user 11.3 ms, sys: 3.42 ms, total: 14.7 ms\n",
      "Wall time: 2.05 s\n"
     ]
    },
    {
     "data": {
      "text/plain": [
       "340838"
      ]
     },
     "execution_count": 25,
     "metadata": {},
     "output_type": "execute_result"
    }
   ],
   "source": [
    "%%time\n",
    "parsed.count()"
   ]
  },
  {
   "cell_type": "code",
   "execution_count": 26,
   "id": "sensitive-repository",
   "metadata": {},
   "outputs": [],
   "source": [
    "from pyspark.sql import SparkSession\n",
    "\n",
    "spark = SparkSession.builder.getOrCreate()"
   ]
  },
  {
   "cell_type": "code",
   "execution_count": 27,
   "id": "muslim-money",
   "metadata": {},
   "outputs": [
    {
     "name": "stderr",
     "output_type": "stream",
     "text": [
      "/usr/local/spark/python/pyspark/sql/session.py:401: UserWarning: Using RDD of dict to inferSchema is deprecated. Use pyspark.sql.Row instead\n",
      "  warnings.warn(\"Using RDD of dict to inferSchema is deprecated. \"\n"
     ]
    },
    {
     "name": "stdout",
     "output_type": "stream",
     "text": [
      "+----------------+-----------+--------------------+------------+--------------+--------------------+-------------+---+--------------------+-----------+----------+-----+--------------------+--------------------+---------+\n",
      "|AcceptedAnswerId|AnswerCount|                Body|CommentCount|ContentLicense|        CreationDate|FavoriteCount| Id|    LastActivityDate|OwnerUserId|PostTypeId|Score|                Tags|               Title|ViewCount|\n",
      "+----------------+-----------+--------------------+------------+--------------+--------------------+-------------+---+--------------------+-----------+----------+-----+--------------------+--------------------+---------+\n",
      "|              15|          6|<p>How should I e...|           1|  CC BY-SA 2.5|2010-07-19 19:12:...|           32|  1|2020-11-05 09:44:...|          8|         1|   48|<bayesian><prior>...|Eliciting priors ...|     4280|\n",
      "|              59|          7|<p>In many differ...|           1|  CC BY-SA 2.5|2010-07-19 19:12:...|           11|  2|2017-11-22 12:15:...|         24|         1|   34|<distributions><n...|  What is normality?|    32048|\n",
      "|               5|         19|<p>What are some ...|           3|  CC BY-SA 2.5|2010-07-19 19:13:...|           39|  3|2013-05-27 14:48:...|         18|         1|   71|<software><open-s...|What are some val...|     6373|\n",
      "|             135|          5|<p>I have two gro...|           2|  CC BY-SA 2.5|2010-07-19 19:13:...|           11|  4|2010-09-08 03:00:...|         23|         1|   23|<distributions><s...|Assessing the sig...|    39926|\n",
      "|            null|       null|<p>The R-project<...|           3|  CC BY-SA 2.5|2010-07-19 19:14:...|         null|  5|2010-07-19 19:21:...|         23|         2|   90|                null|                null|     null|\n",
      "|            null|         20|<p>Last year, I r...|          10|  CC BY-SA 3.0|2010-07-19 19:14:...|          443|  6|2020-06-19 23:58:...|          5|         1|  458|<machine-learning...|The Two Cultures:...|   155024|\n",
      "|              18|         25|<p>I've been work...|           2|  CC BY-SA 2.5|2010-07-19 19:15:...|          108|  7|2020-04-30 19:37:...|         38|         1|  102|<dataset><sample>...|Locating freely a...|    41103|\n",
      "|            null|          1|<p>Sorry, but the...|           2|  CC BY-SA 2.5|2010-07-19 19:16:...|         null|  8|2010-10-18 07:57:...|         37|         1|    0|             <humor>|So how many stati...|      392|\n",
      "|            null|       null|<p><a href=\"http:...|           3|  CC BY-SA 2.5|2010-07-19 19:16:...|         null|  9|2010-07-19 19:16:...|         50|         2|   14|                null|                null|     null|\n",
      "|            1887|          4|<p>Many studies i...|           4|  CC BY-SA 2.5|2010-07-19 19:17:...|           35| 10|2020-11-09 14:05:...|         24|         1|   57|<ordinal-data><li...|Under what condit...|    93174|\n",
      "|            1201|          1|<p>Is there a goo...|           2|  CC BY-SA 2.5|2010-07-19 19:18:...|            1| 11|2010-08-03 21:50:...|         34|         1|    4|<multivariable><i...|Multivariate Inte...|      318|\n",
      "|            null|       null|<p>See my respons...|           1|  CC BY-SA 2.5|2010-07-19 19:18:...|         null| 12|2010-07-19 19:18:...|          5|         2|   24|                null|                null|     null|\n",
      "|            null|       null|<p>Machine Learni...|           6|  CC BY-SA 2.5|2010-07-19 19:18:...|         null| 13|2010-07-19 19:18:...|         23|         2|   26|                null|                null|     null|\n",
      "|            null|       null|<p>I second that ...|           1|  CC BY-SA 2.5|2010-07-19 19:19:...|         null| 14|2010-07-19 19:19:...|         36|         2|    6|                null|                null|     null|\n",
      "|            null|       null|<p>John Cook give...|           0|  CC BY-SA 2.5|2010-07-19 19:19:...|         null| 15|2010-07-19 19:19:...|          6|         2|   21|                null|                null|     null|\n",
      "|            null|       null|<p>Two projects s...|           2|  CC BY-SA 2.5|2010-07-19 19:22:...|         null| 16|2010-07-19 20:43:...|          8|         2|   17|                null|                null|     null|\n",
      "|              29|          1|<p>I have four co...|           0|  CC BY-SA 2.5|2010-07-19 19:24:...|            1| 17|2012-01-22 23:34:...|       null|         1|   12|<anova><chi-squar...|How can I adapt A...|     1672|\n",
      "|            null|       null|<p>Also see the U...|           1|  CC BY-SA 2.5|2010-07-19 19:24:...|         null| 18|2010-07-19 19:24:...|         36|         2|   42|                null|                null|     null|\n",
      "|            null|       null|<p><a href=\"http:...|           0|  CC BY-SA 2.5|2010-07-19 19:24:...|         null| 19|2010-07-19 19:24:...|         55|         2|   16|                null|                null|     null|\n",
      "|            null|       null|<p>The assumption...|           2|  CC BY-SA 2.5|2010-07-19 19:24:...|         null| 20|2010-07-19 19:24:...|         37|         2|    3|                null|                null|     null|\n",
      "+----------------+-----------+--------------------+------------+--------------+--------------------+-------------+---+--------------------+-----------+----------+-----+--------------------+--------------------+---------+\n",
      "only showing top 20 rows\n",
      "\n"
     ]
    }
   ],
   "source": [
    "# Can create a data frame from a RDD, Hive table, or Spark data source\n",
    "df = spark.createDataFrame(parsed)\n",
    "df.show()"
   ]
  },
  {
   "cell_type": "code",
   "execution_count": 28,
   "id": "stock-brake",
   "metadata": {},
   "outputs": [
    {
     "name": "stdout",
     "output_type": "stream",
     "text": [
      "+--------------------+--------------------+-----+----------------+\n",
      "|               Title|                Body|Score|AcceptedAnswerId|\n",
      "+--------------------+--------------------+-----+----------------+\n",
      "|Eliciting priors ...|<p>How should I e...|   48|              15|\n",
      "|  What is normality?|<p>In many differ...|   34|              59|\n",
      "|What are some val...|<p>What are some ...|   71|               5|\n",
      "|Assessing the sig...|<p>I have two gro...|   23|             135|\n",
      "|                null|<p>The R-project<...|   90|            null|\n",
      "|The Two Cultures:...|<p>Last year, I r...|  458|            null|\n",
      "|Locating freely a...|<p>I've been work...|  102|              18|\n",
      "|So how many stati...|<p>Sorry, but the...|    0|            null|\n",
      "|                null|<p><a href=\"http:...|   14|            null|\n",
      "|Under what condit...|<p>Many studies i...|   57|            1887|\n",
      "|Multivariate Inte...|<p>Is there a goo...|    4|            1201|\n",
      "|                null|<p>See my respons...|   24|            null|\n",
      "|                null|<p>Machine Learni...|   26|            null|\n",
      "|                null|<p>I second that ...|    6|            null|\n",
      "|                null|<p>John Cook give...|   21|            null|\n",
      "|                null|<p>Two projects s...|   17|            null|\n",
      "|How can I adapt A...|<p>I have four co...|   12|              29|\n",
      "|                null|<p>Also see the U...|   42|            null|\n",
      "|                null|<p><a href=\"http:...|   16|            null|\n",
      "|                null|<p>The assumption...|    3|            null|\n",
      "+--------------------+--------------------+-----+----------------+\n",
      "only showing top 20 rows\n",
      "\n"
     ]
    }
   ],
   "source": [
    "df.select('Title', 'Body', 'Score', 'AcceptedAnswerId').show()"
   ]
  },
  {
   "cell_type": "code",
   "execution_count": 29,
   "id": "million-indonesian",
   "metadata": {},
   "outputs": [
    {
     "name": "stdout",
     "output_type": "stream",
     "text": [
      "root\n",
      " |-- AcceptedAnswerId: long (nullable = true)\n",
      " |-- AnswerCount: long (nullable = true)\n",
      " |-- Body: string (nullable = true)\n",
      " |-- CommentCount: long (nullable = true)\n",
      " |-- ContentLicense: string (nullable = true)\n",
      " |-- CreationDate: timestamp (nullable = true)\n",
      " |-- FavoriteCount: long (nullable = true)\n",
      " |-- Id: long (nullable = true)\n",
      " |-- LastActivityDate: timestamp (nullable = true)\n",
      " |-- OwnerUserId: long (nullable = true)\n",
      " |-- PostTypeId: long (nullable = true)\n",
      " |-- Score: long (nullable = true)\n",
      " |-- Tags: string (nullable = true)\n",
      " |-- Title: string (nullable = true)\n",
      " |-- ViewCount: long (nullable = true)\n",
      "\n"
     ]
    }
   ],
   "source": [
    "df.printSchema()"
   ]
  },
  {
   "cell_type": "code",
   "execution_count": 30,
   "id": "manufactured-lounge",
   "metadata": {},
   "outputs": [
    {
     "data": {
      "text/plain": [
       "[Row(AcceptedAnswerId=15, AnswerCount=6, Body='<p>How should I elicit prior distributions from experts when fitting a Bayesian model?</p>\\n', CommentCount=1, ContentLicense='CC BY-SA 2.5', CreationDate=datetime.datetime(2010, 7, 19, 19, 12, 12, 510000), FavoriteCount=32, Id=1, LastActivityDate=datetime.datetime(2020, 11, 5, 9, 44, 51, 710000), OwnerUserId=8, PostTypeId=1, Score=48, Tags='<bayesian><prior><elicitation>', Title='Eliciting priors from experts', ViewCount=4280),\n",
       " Row(AcceptedAnswerId=59, AnswerCount=7, Body='<p>In many different statistical methods there is an \"assumption of normality\".  What is \"normality\" and how do I know if there is normality?</p>\\n', CommentCount=1, ContentLicense='CC BY-SA 2.5', CreationDate=datetime.datetime(2010, 7, 19, 19, 12, 57, 157000), FavoriteCount=11, Id=2, LastActivityDate=datetime.datetime(2017, 11, 22, 12, 15, 7, 30000), OwnerUserId=24, PostTypeId=1, Score=34, Tags='<distributions><normality-assumption>', Title='What is normality?', ViewCount=32048),\n",
       " Row(AcceptedAnswerId=5, AnswerCount=19, Body='<p>What are some valuable Statistical Analysis open source projects available right now?</p>\\n\\n<p>Edit: as pointed out by Sharpie, valuable could mean helping you get things done faster or more cheaply.</p>\\n', CommentCount=3, ContentLicense='CC BY-SA 2.5', CreationDate=datetime.datetime(2010, 7, 19, 19, 13, 28, 577000), FavoriteCount=39, Id=3, LastActivityDate=datetime.datetime(2013, 5, 27, 14, 48, 36, 927000), OwnerUserId=18, PostTypeId=1, Score=71, Tags='<software><open-source>', Title='What are some valuable Statistical Analysis open source projects?', ViewCount=6373)]"
      ]
     },
     "execution_count": 30,
     "metadata": {},
     "output_type": "execute_result"
    }
   ],
   "source": [
    "df.head(3)"
   ]
  },
  {
   "cell_type": "code",
   "execution_count": 31,
   "id": "possible-moore",
   "metadata": {},
   "outputs": [
    {
     "data": {
      "text/plain": [
       "[Row(AcceptedAnswerId=None, AnswerCount=0, Body=\"<p>I'm looking for an example of a Python implementation of the Terry-Hoeffding Normal Scores test. I have found other similar tests, but not this one.</p>\\n\", CommentCount=0, ContentLicense='CC BY-SA 4.0', CreationDate=datetime.datetime(2020, 12, 6, 4, 0, 57, 727000), FavoriteCount=None, Id=499531, LastActivityDate=datetime.datetime(2020, 12, 6, 4, 0, 57, 727000), OwnerUserId=304629, PostTypeId=1, Score=0, Tags='<python>', Title='Python Terry-Hoeffding Test', ViewCount=3),\n",
       " Row(AcceptedAnswerId=None, AnswerCount=0, Body='<p>I am attending a course on &quot;Introduction to Machine Learning&quot; where a large portion of this course to my surprise has <strong>probabilistic</strong> approach to machine learning. Like Probabilistic Approach to Linear and logistic regression and thereby trying to find the optimal weights using MLE, MAP or Bayesian. But I am not able to understand what is its importance? We can do all this using non-probabilistic approach as well. My instructor only told me that &quot;With probabilistic view, we got more info about the data&quot;, which I understand, that for each point rather than claiming something true or false directly we are taking into count the probability, which gives us a continuous value and describe <strong>to what extent that value is really useful</strong>. But apart from this, what are the advantages of probabilistic machine learning, and what can serve as a motivation for such viewpoints?</p>\\n', CommentCount=0, ContentLicense='CC BY-SA 4.0', CreationDate=datetime.datetime(2020, 12, 6, 4, 47, 35, 933000), FavoriteCount=None, Id=499532, LastActivityDate=datetime.datetime(2020, 12, 6, 4, 47, 35, 933000), OwnerUserId=239789, PostTypeId=1, Score=0, Tags='<regression><machine-learning><probability>', Title='What is the importance of probabilistic Machine Learning?', ViewCount=3),\n",
       " Row(AcceptedAnswerId=None, AnswerCount=0, Body='<p>Suppose X1 and X2 are independent. Both have Bernoulli distribution, equal to one with probability 0.5. What is the probability distribution of the product X1X2? What is the covariance between X1 and X1X2?</p>\\n<p>I am a beginner at statistics and quite confused by these conceptions. Would you please offer some guidance? Thank you!</p>\\n', CommentCount=0, ContentLicense='CC BY-SA 4.0', CreationDate=datetime.datetime(2020, 12, 6, 4, 50, 35, 657000), FavoriteCount=None, Id=499533, LastActivityDate=datetime.datetime(2020, 12, 6, 4, 50, 35, 657000), OwnerUserId=304630, PostTypeId=1, Score=0, Tags='<regression><probability><mathematical-statistics>', Title='Probability for Bernoulli distribution', ViewCount=5)]"
      ]
     },
     "execution_count": 31,
     "metadata": {},
     "output_type": "execute_result"
    }
   ],
   "source": [
    "df.tail(3)"
   ]
  },
  {
   "cell_type": "code",
   "execution_count": 32,
   "id": "controlling-punishment",
   "metadata": {},
   "outputs": [
    {
     "data": {
      "text/html": [
       "<div>\n",
       "<style scoped>\n",
       "    .dataframe tbody tr th:only-of-type {\n",
       "        vertical-align: middle;\n",
       "    }\n",
       "\n",
       "    .dataframe tbody tr th {\n",
       "        vertical-align: top;\n",
       "    }\n",
       "\n",
       "    .dataframe thead th {\n",
       "        text-align: right;\n",
       "    }\n",
       "</style>\n",
       "<table border=\"1\" class=\"dataframe\">\n",
       "  <thead>\n",
       "    <tr style=\"text-align: right;\">\n",
       "      <th></th>\n",
       "      <th>AcceptedAnswerId</th>\n",
       "      <th>AnswerCount</th>\n",
       "      <th>Body</th>\n",
       "      <th>CommentCount</th>\n",
       "      <th>ContentLicense</th>\n",
       "      <th>CreationDate</th>\n",
       "      <th>FavoriteCount</th>\n",
       "      <th>Id</th>\n",
       "      <th>LastActivityDate</th>\n",
       "      <th>OwnerUserId</th>\n",
       "      <th>PostTypeId</th>\n",
       "      <th>Score</th>\n",
       "      <th>Tags</th>\n",
       "      <th>Title</th>\n",
       "      <th>ViewCount</th>\n",
       "    </tr>\n",
       "  </thead>\n",
       "  <tbody>\n",
       "    <tr>\n",
       "      <th>0</th>\n",
       "      <td>NaN</td>\n",
       "      <td>NaN</td>\n",
       "      <td>&lt;p&gt;A quote from &lt;a href=\"http://en.wikipedia.o...</td>\n",
       "      <td>0</td>\n",
       "      <td>CC BY-SA 3.0</td>\n",
       "      <td>2010-07-19 19:33:13.037</td>\n",
       "      <td>NaN</td>\n",
       "      <td>41</td>\n",
       "      <td>2015-06-17 08:59:36.287</td>\n",
       "      <td>83.0</td>\n",
       "      <td>2</td>\n",
       "      <td>10</td>\n",
       "      <td>None</td>\n",
       "      <td>None</td>\n",
       "      <td>NaN</td>\n",
       "    </tr>\n",
       "    <tr>\n",
       "      <th>1</th>\n",
       "      <td>NaN</td>\n",
       "      <td>NaN</td>\n",
       "      <td>&lt;p&gt;I'm going to leave the main question alone,...</td>\n",
       "      <td>0</td>\n",
       "      <td>CC BY-SA 2.5</td>\n",
       "      <td>2010-07-20 07:31:08.963</td>\n",
       "      <td>NaN</td>\n",
       "      <td>237</td>\n",
       "      <td>2010-08-09 12:18:10.497</td>\n",
       "      <td>199.0</td>\n",
       "      <td>2</td>\n",
       "      <td>2</td>\n",
       "      <td>None</td>\n",
       "      <td>None</td>\n",
       "      <td>NaN</td>\n",
       "    </tr>\n",
       "    <tr>\n",
       "      <th>2</th>\n",
       "      <td>NaN</td>\n",
       "      <td>79.0</td>\n",
       "      <td>&lt;p&gt;This is one of my favorites:&lt;/p&gt;\\n\\n&lt;p&gt;&lt;img...</td>\n",
       "      <td>10</td>\n",
       "      <td>CC BY-SA 3.0</td>\n",
       "      <td>2010-07-21 15:13:21.493</td>\n",
       "      <td>296.0</td>\n",
       "      <td>423</td>\n",
       "      <td>2019-11-23 17:03:29.003</td>\n",
       "      <td>5.0</td>\n",
       "      <td>1</td>\n",
       "      <td>360</td>\n",
       "      <td>&lt;humor&gt;</td>\n",
       "      <td>What is your favorite \"data analysis\" cartoon?</td>\n",
       "      <td>167555.0</td>\n",
       "    </tr>\n",
       "    <tr>\n",
       "      <th>3</th>\n",
       "      <td>482.0</td>\n",
       "      <td>3.0</td>\n",
       "      <td>&lt;p&gt;Another question about time series from me....</td>\n",
       "      <td>0</td>\n",
       "      <td>CC BY-SA 2.5</td>\n",
       "      <td>2010-07-22 09:17:27.490</td>\n",
       "      <td>5.0</td>\n",
       "      <td>481</td>\n",
       "      <td>2010-07-23 08:15:23.430</td>\n",
       "      <td>199.0</td>\n",
       "      <td>1</td>\n",
       "      <td>10</td>\n",
       "      <td>&lt;time-series&gt;&lt;forecasting&gt;</td>\n",
       "      <td>Is it valid to aggregate a time series to make...</td>\n",
       "      <td>4713.0</td>\n",
       "    </tr>\n",
       "    <tr>\n",
       "      <th>4</th>\n",
       "      <td>538.0</td>\n",
       "      <td>17.0</td>\n",
       "      <td>&lt;p&gt;We all know the mantra \"correlation does no...</td>\n",
       "      <td>7</td>\n",
       "      <td>CC BY-SA 2.5</td>\n",
       "      <td>2010-07-23 01:56:02.517</td>\n",
       "      <td>54.0</td>\n",
       "      <td>534</td>\n",
       "      <td>2020-11-16 13:48:14.220</td>\n",
       "      <td>159.0</td>\n",
       "      <td>1</td>\n",
       "      <td>95</td>\n",
       "      <td>&lt;correlation&gt;&lt;causality&gt;</td>\n",
       "      <td>Under what conditions does correlation imply c...</td>\n",
       "      <td>59779.0</td>\n",
       "    </tr>\n",
       "    <tr>\n",
       "      <th>...</th>\n",
       "      <td>...</td>\n",
       "      <td>...</td>\n",
       "      <td>...</td>\n",
       "      <td>...</td>\n",
       "      <td>...</td>\n",
       "      <td>...</td>\n",
       "      <td>...</td>\n",
       "      <td>...</td>\n",
       "      <td>...</td>\n",
       "      <td>...</td>\n",
       "      <td>...</td>\n",
       "      <td>...</td>\n",
       "      <td>...</td>\n",
       "      <td>...</td>\n",
       "      <td>...</td>\n",
       "    </tr>\n",
       "    <tr>\n",
       "      <th>3390</th>\n",
       "      <td>NaN</td>\n",
       "      <td>NaN</td>\n",
       "      <td>&lt;p&gt;I don't think there's a contradiction here....</td>\n",
       "      <td>0</td>\n",
       "      <td>CC BY-SA 4.0</td>\n",
       "      <td>2020-11-30 13:10:13.677</td>\n",
       "      <td>NaN</td>\n",
       "      <td>498697</td>\n",
       "      <td>2020-11-30 13:31:56.320</td>\n",
       "      <td>303650.0</td>\n",
       "      <td>2</td>\n",
       "      <td>1</td>\n",
       "      <td>None</td>\n",
       "      <td>None</td>\n",
       "      <td>NaN</td>\n",
       "    </tr>\n",
       "    <tr>\n",
       "      <th>3391</th>\n",
       "      <td>NaN</td>\n",
       "      <td>NaN</td>\n",
       "      <td>&lt;p&gt;I am going to propose an alternative in cas...</td>\n",
       "      <td>0</td>\n",
       "      <td>CC BY-SA 4.0</td>\n",
       "      <td>2020-12-01 01:21:53.023</td>\n",
       "      <td>NaN</td>\n",
       "      <td>498791</td>\n",
       "      <td>2020-12-01 11:08:14.917</td>\n",
       "      <td>303370.0</td>\n",
       "      <td>2</td>\n",
       "      <td>2</td>\n",
       "      <td>None</td>\n",
       "      <td>None</td>\n",
       "      <td>NaN</td>\n",
       "    </tr>\n",
       "    <tr>\n",
       "      <th>3392</th>\n",
       "      <td>NaN</td>\n",
       "      <td>0.0</td>\n",
       "      <td>&lt;p&gt;(Not an expert in anomaly detection.)&lt;/p&gt;\\n...</td>\n",
       "      <td>0</td>\n",
       "      <td>CC BY-SA 4.0</td>\n",
       "      <td>2020-12-02 14:33:31.027</td>\n",
       "      <td>1.0</td>\n",
       "      <td>499007</td>\n",
       "      <td>2020-12-06 02:33:53.623</td>\n",
       "      <td>113240.0</td>\n",
       "      <td>1</td>\n",
       "      <td>1</td>\n",
       "      <td>&lt;machine-learning&gt;&lt;outliers&gt;&lt;anomaly-detection...</td>\n",
       "      <td>Is it better to do per-class anomaly detection...</td>\n",
       "      <td>15.0</td>\n",
       "    </tr>\n",
       "    <tr>\n",
       "      <th>3393</th>\n",
       "      <td>NaN</td>\n",
       "      <td>0.0</td>\n",
       "      <td>&lt;p&gt;I'm wondering how to modify the conditional...</td>\n",
       "      <td>1</td>\n",
       "      <td>CC BY-SA 4.0</td>\n",
       "      <td>2020-12-04 04:33:50.103</td>\n",
       "      <td>NaN</td>\n",
       "      <td>499285</td>\n",
       "      <td>2020-12-04 07:30:56.297</td>\n",
       "      <td>304462.0</td>\n",
       "      <td>1</td>\n",
       "      <td>0</td>\n",
       "      <td>&lt;r&gt;&lt;garch&gt;&lt;laplace-distribution&gt;</td>\n",
       "      <td>GARCH model with Laplace Distribution for Cond...</td>\n",
       "      <td>7.0</td>\n",
       "    </tr>\n",
       "    <tr>\n",
       "      <th>3394</th>\n",
       "      <td>NaN</td>\n",
       "      <td>NaN</td>\n",
       "      <td>&lt;p&gt;Assuming you are trying linear regression, ...</td>\n",
       "      <td>0</td>\n",
       "      <td>CC BY-SA 4.0</td>\n",
       "      <td>2020-12-05 11:08:02.733</td>\n",
       "      <td>NaN</td>\n",
       "      <td>499444</td>\n",
       "      <td>2020-12-05 11:08:02.733</td>\n",
       "      <td>296197.0</td>\n",
       "      <td>2</td>\n",
       "      <td>0</td>\n",
       "      <td>None</td>\n",
       "      <td>None</td>\n",
       "      <td>NaN</td>\n",
       "    </tr>\n",
       "  </tbody>\n",
       "</table>\n",
       "<p>3395 rows × 15 columns</p>\n",
       "</div>"
      ],
      "text/plain": [
       "      AcceptedAnswerId  AnswerCount  \\\n",
       "0                  NaN          NaN   \n",
       "1                  NaN          NaN   \n",
       "2                  NaN         79.0   \n",
       "3                482.0          3.0   \n",
       "4                538.0         17.0   \n",
       "...                ...          ...   \n",
       "3390               NaN          NaN   \n",
       "3391               NaN          NaN   \n",
       "3392               NaN          0.0   \n",
       "3393               NaN          0.0   \n",
       "3394               NaN          NaN   \n",
       "\n",
       "                                                   Body  CommentCount  \\\n",
       "0     <p>A quote from <a href=\"http://en.wikipedia.o...             0   \n",
       "1     <p>I'm going to leave the main question alone,...             0   \n",
       "2     <p>This is one of my favorites:</p>\\n\\n<p><img...            10   \n",
       "3     <p>Another question about time series from me....             0   \n",
       "4     <p>We all know the mantra \"correlation does no...             7   \n",
       "...                                                 ...           ...   \n",
       "3390  <p>I don't think there's a contradiction here....             0   \n",
       "3391  <p>I am going to propose an alternative in cas...             0   \n",
       "3392  <p>(Not an expert in anomaly detection.)</p>\\n...             0   \n",
       "3393  <p>I'm wondering how to modify the conditional...             1   \n",
       "3394  <p>Assuming you are trying linear regression, ...             0   \n",
       "\n",
       "     ContentLicense            CreationDate  FavoriteCount      Id  \\\n",
       "0      CC BY-SA 3.0 2010-07-19 19:33:13.037            NaN      41   \n",
       "1      CC BY-SA 2.5 2010-07-20 07:31:08.963            NaN     237   \n",
       "2      CC BY-SA 3.0 2010-07-21 15:13:21.493          296.0     423   \n",
       "3      CC BY-SA 2.5 2010-07-22 09:17:27.490            5.0     481   \n",
       "4      CC BY-SA 2.5 2010-07-23 01:56:02.517           54.0     534   \n",
       "...             ...                     ...            ...     ...   \n",
       "3390   CC BY-SA 4.0 2020-11-30 13:10:13.677            NaN  498697   \n",
       "3391   CC BY-SA 4.0 2020-12-01 01:21:53.023            NaN  498791   \n",
       "3392   CC BY-SA 4.0 2020-12-02 14:33:31.027            1.0  499007   \n",
       "3393   CC BY-SA 4.0 2020-12-04 04:33:50.103            NaN  499285   \n",
       "3394   CC BY-SA 4.0 2020-12-05 11:08:02.733            NaN  499444   \n",
       "\n",
       "            LastActivityDate  OwnerUserId  PostTypeId  Score  \\\n",
       "0    2015-06-17 08:59:36.287         83.0           2     10   \n",
       "1    2010-08-09 12:18:10.497        199.0           2      2   \n",
       "2    2019-11-23 17:03:29.003          5.0           1    360   \n",
       "3    2010-07-23 08:15:23.430        199.0           1     10   \n",
       "4    2020-11-16 13:48:14.220        159.0           1     95   \n",
       "...                      ...          ...         ...    ...   \n",
       "3390 2020-11-30 13:31:56.320     303650.0           2      1   \n",
       "3391 2020-12-01 11:08:14.917     303370.0           2      2   \n",
       "3392 2020-12-06 02:33:53.623     113240.0           1      1   \n",
       "3393 2020-12-04 07:30:56.297     304462.0           1      0   \n",
       "3394 2020-12-05 11:08:02.733     296197.0           2      0   \n",
       "\n",
       "                                                   Tags  \\\n",
       "0                                                  None   \n",
       "1                                                  None   \n",
       "2                                               <humor>   \n",
       "3                            <time-series><forecasting>   \n",
       "4                              <correlation><causality>   \n",
       "...                                                 ...   \n",
       "3390                                               None   \n",
       "3391                                               None   \n",
       "3392  <machine-learning><outliers><anomaly-detection...   \n",
       "3393                   <r><garch><laplace-distribution>   \n",
       "3394                                               None   \n",
       "\n",
       "                                                  Title  ViewCount  \n",
       "0                                                  None        NaN  \n",
       "1                                                  None        NaN  \n",
       "2        What is your favorite \"data analysis\" cartoon?   167555.0  \n",
       "3     Is it valid to aggregate a time series to make...     4713.0  \n",
       "4     Under what conditions does correlation imply c...    59779.0  \n",
       "...                                                 ...        ...  \n",
       "3390                                               None        NaN  \n",
       "3391                                               None        NaN  \n",
       "3392  Is it better to do per-class anomaly detection...       15.0  \n",
       "3393  GARCH model with Laplace Distribution for Cond...        7.0  \n",
       "3394                                               None        NaN  \n",
       "\n",
       "[3395 rows x 15 columns]"
      ]
     },
     "execution_count": 32,
     "metadata": {},
     "output_type": "execute_result"
    }
   ],
   "source": [
    "df.sample(fraction=0.01).toPandas()"
   ]
  },
  {
   "cell_type": "markdown",
   "id": "tutorial-argentina",
   "metadata": {},
   "source": [
    "## EDA\n",
    "\n",
    "1. How many records in total are there?\n",
    "2. How many uniques values does each column contain?\n",
    "3. How many missing (or null) values are there?\n",
    "4. For numeric columns, what are its summary statistics\n",
    "5. What are values appear most often in each column?\n",
    "6. How are the values of each column distributed?"
   ]
  },
  {
   "cell_type": "code",
   "execution_count": 33,
   "id": "unknown-election",
   "metadata": {},
   "outputs": [
    {
     "data": {
      "text/plain": [
       "340838"
      ]
     },
     "execution_count": 33,
     "metadata": {},
     "output_type": "execute_result"
    }
   ],
   "source": [
    "# https://spark.apache.org/docs/latest/api/python/pyspark.sql.html#pyspark.sql.DataFrame\n",
    "df.count()"
   ]
  },
  {
   "cell_type": "code",
   "execution_count": 34,
   "id": "located-external",
   "metadata": {},
   "outputs": [],
   "source": [
    "df.createOrReplaceTempView(\"posts\")"
   ]
  },
  {
   "cell_type": "code",
   "execution_count": 35,
   "id": "vocal-portal",
   "metadata": {},
   "outputs": [
    {
     "name": "stdout",
     "output_type": "stream",
     "text": [
      "+--------------+\n",
      "|ContentLicense|\n",
      "+--------------+\n",
      "|  CC BY-SA 2.5|\n",
      "|  CC BY-SA 3.0|\n",
      "|  CC BY-SA 4.0|\n",
      "+--------------+\n",
      "\n"
     ]
    }
   ],
   "source": [
    "# https://spark.apache.org/docs/latest/sql-ref-functions.html\n",
    "spark.sql(\"SELECT DISTINCT ContentLicense FROM posts\").show()"
   ]
  },
  {
   "cell_type": "code",
   "execution_count": 36,
   "id": "satisfactory-medicare",
   "metadata": {},
   "outputs": [
    {
     "name": "stdout",
     "output_type": "stream",
     "text": [
      "+-------------------------+\n",
      "|count_if((Title IS NULL))|\n",
      "+-------------------------+\n",
      "|                   169602|\n",
      "+-------------------------+\n",
      "\n"
     ]
    }
   ],
   "source": [
    "spark.sql(\"SELECT count_if(Title IS NULL) FROM posts\").show()"
   ]
  },
  {
   "cell_type": "code",
   "execution_count": 37,
   "id": "moving-abuse",
   "metadata": {},
   "outputs": [
    {
     "name": "stdout",
     "output_type": "stream",
     "text": [
      "+--------------------+--------------------+\n",
      "|               Title|                Body|\n",
      "+--------------------+--------------------+\n",
      "|Eliciting priors ...|<p>How should I e...|\n",
      "|  What is normality?|<p>In many differ...|\n",
      "|What are some val...|<p>What are some ...|\n",
      "|Assessing the sig...|<p>I have two gro...|\n",
      "|                null|<p>The R-project<...|\n",
      "|The Two Cultures:...|<p>Last year, I r...|\n",
      "+--------------------+--------------------+\n",
      "only showing top 6 rows\n",
      "\n"
     ]
    }
   ],
   "source": [
    "df.select('Title', 'Body').show(6)"
   ]
  },
  {
   "cell_type": "code",
   "execution_count": 38,
   "id": "nutritional-championship",
   "metadata": {},
   "outputs": [
    {
     "name": "stdout",
     "output_type": "stream",
     "text": [
      "+--------------------+--------------------+\n",
      "|               Title|                Body|\n",
      "+--------------------+--------------------+\n",
      "|Eliciting priors ...|<p>How should I e...|\n",
      "|  What is normality?|<p>In many differ...|\n",
      "|What are some val...|<p>What are some ...|\n",
      "|Assessing the sig...|<p>I have two gro...|\n",
      "|                null|<p>The R-project<...|\n",
      "+--------------------+--------------------+\n",
      "only showing top 5 rows\n",
      "\n"
     ]
    }
   ],
   "source": [
    "df.na.drop(how='all').select('Title', 'Body').show(5)"
   ]
  },
  {
   "cell_type": "code",
   "execution_count": 39,
   "id": "arctic-emphasis",
   "metadata": {},
   "outputs": [
    {
     "name": "stdout",
     "output_type": "stream",
     "text": [
      "+--------------------+--------------------+\n",
      "|               Title|                Body|\n",
      "+--------------------+--------------------+\n",
      "|Eliciting priors ...|<p>How should I e...|\n",
      "|  What is normality?|<p>In many differ...|\n",
      "|What are some val...|<p>What are some ...|\n",
      "|Assessing the sig...|<p>I have two gro...|\n",
      "|The Two Cultures:...|<p>Last year, I r...|\n",
      "+--------------------+--------------------+\n",
      "only showing top 5 rows\n",
      "\n"
     ]
    }
   ],
   "source": [
    "df.na.drop(subset=['Title']).select('Title', 'Body').show(5)"
   ]
  },
  {
   "cell_type": "code",
   "execution_count": 40,
   "id": "dangerous-aquarium",
   "metadata": {},
   "outputs": [
    {
     "name": "stdout",
     "output_type": "stream",
     "text": [
      "+--------------------+--------------------+\n",
      "|               Title|                Body|\n",
      "+--------------------+--------------------+\n",
      "|Eliciting priors ...|<p>How should I e...|\n",
      "|  What is normality?|<p>In many differ...|\n",
      "|What are some val...|<p>What are some ...|\n",
      "|Assessing the sig...|<p>I have two gro...|\n",
      "|       # Needs Title|<p>The R-project<...|\n",
      "|The Two Cultures:...|<p>Last year, I r...|\n",
      "|Locating freely a...|<p>I've been work...|\n",
      "|So how many stati...|<p>Sorry, but the...|\n",
      "|       # Needs Title|<p><a href=\"http:...|\n",
      "|Under what condit...|<p>Many studies i...|\n",
      "|Multivariate Inte...|<p>Is there a goo...|\n",
      "|       # Needs Title|<p>See my respons...|\n",
      "|       # Needs Title|<p>Machine Learni...|\n",
      "|       # Needs Title|<p>I second that ...|\n",
      "|       # Needs Title|<p>John Cook give...|\n",
      "|       # Needs Title|<p>Two projects s...|\n",
      "|How can I adapt A...|<p>I have four co...|\n",
      "|       # Needs Title|<p>Also see the U...|\n",
      "|       # Needs Title|<p><a href=\"http:...|\n",
      "|       # Needs Title|<p>The assumption...|\n",
      "+--------------------+--------------------+\n",
      "only showing top 20 rows\n",
      "\n"
     ]
    }
   ],
   "source": [
    "df.na.fill({'Title': '# Needs Title', 'Body': ''}).select('Title', 'Body').show()"
   ]
  },
  {
   "cell_type": "code",
   "execution_count": 41,
   "id": "packed-theology",
   "metadata": {},
   "outputs": [
    {
     "data": {
      "text/plain": [
       "DataFrame[AcceptedAnswerId: bigint, AnswerCount: bigint, Body: string, CommentCount: bigint, ContentLicense: string, CreationDate: timestamp, FavoriteCount: bigint, Id: bigint, LastActivityDate: timestamp, OwnerUserId: bigint, PostTypeId: bigint, Score: bigint, Tags: string, Title: string, ViewCount: bigint]"
      ]
     },
     "execution_count": 41,
     "metadata": {},
     "output_type": "execute_result"
    }
   ],
   "source": [
    "df.sort(df.Score.desc()).limit(1000)"
   ]
  },
  {
   "cell_type": "code",
   "execution_count": 42,
   "id": "confused-chorus",
   "metadata": {},
   "outputs": [
    {
     "data": {
      "text/plain": [
       "\u001b[0;31mSignature:\u001b[0m \u001b[0mdf\u001b[0m\u001b[0;34m.\u001b[0m\u001b[0msummary\u001b[0m\u001b[0;34m(\u001b[0m\u001b[0;34m*\u001b[0m\u001b[0mstatistics\u001b[0m\u001b[0;34m)\u001b[0m\u001b[0;34m\u001b[0m\u001b[0;34m\u001b[0m\u001b[0m\n",
       "\u001b[0;31mDocstring:\u001b[0m\n",
       "Computes specified statistics for numeric and string columns. Available statistics are:\n",
       "- count\n",
       "- mean\n",
       "- stddev\n",
       "- min\n",
       "- max\n",
       "- arbitrary approximate percentiles specified as a percentage (eg, 75%)\n",
       "\n",
       "If no statistics are given, this function computes count, mean, stddev, min,\n",
       "approximate quartiles (percentiles at 25%, 50%, and 75%), and max.\n",
       "\n",
       ".. note:: This function is meant for exploratory data analysis, as we make no\n",
       "    guarantee about the backward compatibility of the schema of the resulting\n",
       "    :class:`DataFrame`.\n",
       "\n",
       ">>> df.summary().show()\n",
       "+-------+------------------+-----+\n",
       "|summary|               age| name|\n",
       "+-------+------------------+-----+\n",
       "|  count|                 2|    2|\n",
       "|   mean|               3.5| null|\n",
       "| stddev|2.1213203435596424| null|\n",
       "|    min|                 2|Alice|\n",
       "|    25%|                 2| null|\n",
       "|    50%|                 2| null|\n",
       "|    75%|                 5| null|\n",
       "|    max|                 5|  Bob|\n",
       "+-------+------------------+-----+\n",
       "\n",
       ">>> df.summary(\"count\", \"min\", \"25%\", \"75%\", \"max\").show()\n",
       "+-------+---+-----+\n",
       "|summary|age| name|\n",
       "+-------+---+-----+\n",
       "|  count|  2|    2|\n",
       "|    min|  2|Alice|\n",
       "|    25%|  2| null|\n",
       "|    75%|  5| null|\n",
       "|    max|  5|  Bob|\n",
       "+-------+---+-----+\n",
       "\n",
       "To do a summary for specific columns first select them:\n",
       "\n",
       ">>> df.select(\"age\", \"name\").summary(\"count\").show()\n",
       "+-------+---+----+\n",
       "|summary|age|name|\n",
       "+-------+---+----+\n",
       "|  count|  2|   2|\n",
       "+-------+---+----+\n",
       "\n",
       "See also describe for basic statistics.\n",
       "\n",
       ".. versionadded:: 2.3.0\n",
       "\u001b[0;31mFile:\u001b[0m      /usr/local/spark/python/pyspark/sql/dataframe.py\n",
       "\u001b[0;31mType:\u001b[0m      method\n"
      ]
     },
     "metadata": {},
     "output_type": "display_data"
    }
   ],
   "source": [
    "df.summary?"
   ]
  },
  {
   "cell_type": "code",
   "execution_count": 43,
   "id": "complete-speaking",
   "metadata": {},
   "outputs": [
    {
     "name": "stdout",
     "output_type": "stream",
     "text": [
      "-RECORD 0-------------------------------------------------------------------------------------------\n",
      " OwnerUserId_freqItems | [11887, 286664, 284660, 143446, 919, 1352, 805, 21054, 286668]             \n",
      " Tags_freqItems        | [<hypothesis-testing><normal-distribution>, <r><mixed-model><bayes-fact... \n",
      "\n"
     ]
    }
   ],
   "source": [
    "df.freqItems(['OwnerUserId', 'Tags'], support=.1).show(truncate=74, vertical=True)"
   ]
  },
  {
   "cell_type": "code",
   "execution_count": 44,
   "id": "great-general",
   "metadata": {},
   "outputs": [
    {
     "name": "stdout",
     "output_type": "stream",
     "text": [
      "+-------+------------------+------------------+------------------+\n",
      "|summary|  AcceptedAnswerId|             Score|         ViewCount|\n",
      "+-------+------------------+------------------+------------------+\n",
      "|  count|             56611|            340838|            171236|\n",
      "|   mean|238869.97765451943|3.1019898016066283|1764.6583603915064|\n",
      "| stddev|149560.55326525963| 9.324895269437373|10460.817647981416|\n",
      "|    min|                 5|               -56|                 1|\n",
      "|    max|            499514|              1541|           1221634|\n",
      "+-------+------------------+------------------+------------------+\n",
      "\n"
     ]
    }
   ],
   "source": [
    "df.describe(['AcceptedAnswerId', 'Score', 'ViewCount']).show()"
   ]
  },
  {
   "cell_type": "code",
   "execution_count": 45,
   "id": "breeding-irrigation",
   "metadata": {},
   "outputs": [
    {
     "data": {
      "text/plain": [
       "[-56.0, -56.0, 0.0, 1.0, 1.0, 1.0, 2.0, 2.0, 3.0, 1541.0, 1541.0]"
      ]
     },
     "execution_count": 45,
     "metadata": {},
     "output_type": "execute_result"
    }
   ],
   "source": [
    "df.approxQuantile('Score', [0.0, 0.1, 0.2, 0.3, 0.4, 0.5, 0.6, 0.7, 0.8, 0.9, 1.0], .1)"
   ]
  },
  {
   "cell_type": "code",
   "execution_count": 46,
   "id": "interior-belgium",
   "metadata": {},
   "outputs": [
    {
     "data": {
      "text/plain": [
       "0.42433632078607453"
      ]
     },
     "execution_count": 46,
     "metadata": {},
     "output_type": "execute_result"
    }
   ],
   "source": [
    "df.corr('Score', 'ViewCount')"
   ]
  },
  {
   "cell_type": "code",
   "execution_count": 47,
   "id": "regulation-walnut",
   "metadata": {},
   "outputs": [
    {
     "name": "stdout",
     "output_type": "stream",
     "text": [
      "+-----+-----+\n",
      "|Score|count|\n",
      "+-----+-----+\n",
      "|   26|  274|\n",
      "|   29|  179|\n",
      "|   65|   14|\n",
      "|  191|    2|\n",
      "|  243|    1|\n",
      "|  367|    1|\n",
      "|  442|    1|\n",
      "|   19|  546|\n",
      "|   54|   31|\n",
      "|    0|79045|\n",
      "|  277|    1|\n",
      "|   -3|  212|\n",
      "|  112|    8|\n",
      "|  113|    3|\n",
      "|  155|    2|\n",
      "|  167|    1|\n",
      "|  237|    1|\n",
      "|   22|  399|\n",
      "|  198|    1|\n",
      "|  130|    8|\n",
      "+-----+-----+\n",
      "only showing top 20 rows\n",
      "\n"
     ]
    }
   ],
   "source": [
    "df.groupby('Score').count().show()"
   ]
  },
  {
   "cell_type": "code",
   "execution_count": 48,
   "id": "qualified-survivor",
   "metadata": {},
   "outputs": [
    {
     "name": "stdout",
     "output_type": "stream",
     "text": [
      "+-----+-----+\n",
      "|Score|count|\n",
      "+-----+-----+\n",
      "|  -56|    1|\n",
      "|  -17|    1|\n",
      "|  -14|    2|\n",
      "|  -13|    1|\n",
      "|  -10|    3|\n",
      "|   -9|    4|\n",
      "|   -8|    2|\n",
      "|   -7|    5|\n",
      "|   -6|   18|\n",
      "|   -5|   35|\n",
      "|   -4|   82|\n",
      "|   -3|  212|\n",
      "|   -2|  697|\n",
      "|   -1| 3053|\n",
      "|    0|79045|\n",
      "|    1|96249|\n",
      "|    2|55084|\n",
      "|    3|31705|\n",
      "|    4|19981|\n",
      "|    5|12621|\n",
      "+-----+-----+\n",
      "only showing top 20 rows\n",
      "\n"
     ]
    }
   ],
   "source": [
    "df.groupby('Score').count().sort('Score').show()"
   ]
  },
  {
   "cell_type": "code",
   "execution_count": 49,
   "id": "educational-veteran",
   "metadata": {},
   "outputs": [],
   "source": [
    "pandas_df = df.groupby('Score').count().sort('Score').toPandas()"
   ]
  },
  {
   "cell_type": "code",
   "execution_count": 50,
   "id": "center-nebraska",
   "metadata": {},
   "outputs": [
    {
     "data": {
      "text/html": [
       "<div>\n",
       "<style scoped>\n",
       "    .dataframe tbody tr th:only-of-type {\n",
       "        vertical-align: middle;\n",
       "    }\n",
       "\n",
       "    .dataframe tbody tr th {\n",
       "        vertical-align: top;\n",
       "    }\n",
       "\n",
       "    .dataframe thead th {\n",
       "        text-align: right;\n",
       "    }\n",
       "</style>\n",
       "<table border=\"1\" class=\"dataframe\">\n",
       "  <thead>\n",
       "    <tr style=\"text-align: right;\">\n",
       "      <th></th>\n",
       "      <th>Score</th>\n",
       "      <th>count</th>\n",
       "    </tr>\n",
       "  </thead>\n",
       "  <tbody>\n",
       "    <tr>\n",
       "      <th>0</th>\n",
       "      <td>-56</td>\n",
       "      <td>1</td>\n",
       "    </tr>\n",
       "    <tr>\n",
       "      <th>1</th>\n",
       "      <td>-17</td>\n",
       "      <td>1</td>\n",
       "    </tr>\n",
       "    <tr>\n",
       "      <th>2</th>\n",
       "      <td>-14</td>\n",
       "      <td>2</td>\n",
       "    </tr>\n",
       "    <tr>\n",
       "      <th>3</th>\n",
       "      <td>-13</td>\n",
       "      <td>1</td>\n",
       "    </tr>\n",
       "    <tr>\n",
       "      <th>4</th>\n",
       "      <td>-10</td>\n",
       "      <td>3</td>\n",
       "    </tr>\n",
       "    <tr>\n",
       "      <th>...</th>\n",
       "      <td>...</td>\n",
       "      <td>...</td>\n",
       "    </tr>\n",
       "    <tr>\n",
       "      <th>273</th>\n",
       "      <td>551</td>\n",
       "      <td>1</td>\n",
       "    </tr>\n",
       "    <tr>\n",
       "      <th>274</th>\n",
       "      <td>639</td>\n",
       "      <td>1</td>\n",
       "    </tr>\n",
       "    <tr>\n",
       "      <th>275</th>\n",
       "      <td>687</td>\n",
       "      <td>1</td>\n",
       "    </tr>\n",
       "    <tr>\n",
       "      <th>276</th>\n",
       "      <td>1118</td>\n",
       "      <td>1</td>\n",
       "    </tr>\n",
       "    <tr>\n",
       "      <th>277</th>\n",
       "      <td>1541</td>\n",
       "      <td>1</td>\n",
       "    </tr>\n",
       "  </tbody>\n",
       "</table>\n",
       "<p>278 rows × 2 columns</p>\n",
       "</div>"
      ],
      "text/plain": [
       "     Score  count\n",
       "0      -56      1\n",
       "1      -17      1\n",
       "2      -14      2\n",
       "3      -13      1\n",
       "4      -10      3\n",
       "..     ...    ...\n",
       "273    551      1\n",
       "274    639      1\n",
       "275    687      1\n",
       "276   1118      1\n",
       "277   1541      1\n",
       "\n",
       "[278 rows x 2 columns]"
      ]
     },
     "execution_count": 50,
     "metadata": {},
     "output_type": "execute_result"
    }
   ],
   "source": [
    "pandas_df"
   ]
  },
  {
   "cell_type": "code",
   "execution_count": 51,
   "id": "victorian-angle",
   "metadata": {},
   "outputs": [
    {
     "data": {
      "text/plain": [
       "<AxesSubplot:>"
      ]
     },
     "execution_count": 51,
     "metadata": {},
     "output_type": "execute_result"
    },
    {
     "data": {
      "image/png": "[encoded data removed]",
      "text/plain": [
       "<Figure size 432x288 with 1 Axes>"
      ]
     },
     "metadata": {
      "needs_background": "light"
     },
     "output_type": "display_data"
    }
   ],
   "source": [
    "pandas_df.plot()"
   ]
  },
  {
   "cell_type": "code",
   "execution_count": 52,
   "id": "copyrighted-cabin",
   "metadata": {},
   "outputs": [
    {
     "data": {
      "text/plain": [
       "<AxesSubplot:>"
      ]
     },
     "execution_count": 52,
     "metadata": {},
     "output_type": "execute_result"
    },
    {
     "data": {
      "image/png": "[encoded data removed]",
      "text/plain": [
       "<Figure size 432x288 with 1 Axes>"
      ]
     },
     "metadata": {
      "needs_background": "light"
     },
     "output_type": "display_data"
    }
   ],
   "source": [
    "pandas_df[pandas_df['Score'] < 30].plot()"
   ]
  },
  {
   "cell_type": "code",
   "execution_count": 38,
   "id": "governmental-stephen",
   "metadata": {},
   "outputs": [],
   "source": [
    "from pyspark.ml.feature import HashingTF, IDF, Tokenizer"
   ]
  },
  {
   "cell_type": "code",
   "execution_count": 39,
   "id": "immediate-therapist",
   "metadata": {},
   "outputs": [],
   "source": [
    "tokenizer = Tokenizer(inputCol=\"Body\", outputCol=\"words\")\n",
    "words = tokenizer.transform(df)"
   ]
  },
  {
   "cell_type": "code",
   "execution_count": 40,
   "id": "unusual-agriculture",
   "metadata": {},
   "outputs": [
    {
     "name": "stdout",
     "output_type": "stream",
     "text": [
      "+--------------------+--------------------+\n",
      "|                Body|               words|\n",
      "+--------------------+--------------------+\n",
      "|<p>How should I e...|[<p>how, should, ...|\n",
      "|<p>In many differ...|[<p>in, many, dif...|\n",
      "|<p>What are some ...|[<p>what, are, so...|\n",
      "|<p>I have two gro...|[<p>i, have, two,...|\n",
      "|<p>The R-project<...|[<p>the, r-projec...|\n",
      "|<p>Last year, I r...|[<p>last, year,, ...|\n",
      "|<p>I've been work...|[<p>i've, been, w...|\n",
      "|<p>Sorry, but the...|[<p>sorry,, but, ...|\n",
      "|<p><a href=\"http:...|[<p><a, href=\"htt...|\n",
      "|<p>Many studies i...|[<p>many, studies...|\n",
      "|<p>Is there a goo...|[<p>is, there, a,...|\n",
      "|<p>See my respons...|[<p>see, my, resp...|\n",
      "|<p>Machine Learni...|[<p>machine, lear...|\n",
      "|<p>I second that ...|[<p>i, second, th...|\n",
      "|<p>John Cook give...|[<p>john, cook, g...|\n",
      "|<p>Two projects s...|[<p>two, projects...|\n",
      "|<p>I have four co...|[<p>i, have, four...|\n",
      "|<p>Also see the U...|[<p>also, see, th...|\n",
      "|<p><a href=\"http:...|[<p><a, href=\"htt...|\n",
      "|<p>The assumption...|[<p>the, assumpti...|\n",
      "+--------------------+--------------------+\n",
      "only showing top 20 rows\n",
      "\n"
     ]
    }
   ],
   "source": [
    "words.select('Body', 'words').show()"
   ]
  },
  {
   "cell_type": "code",
   "execution_count": 41,
   "id": "competitive-capitol",
   "metadata": {},
   "outputs": [],
   "source": [
    "hashingTF = HashingTF(inputCol=\"words\", outputCol=\"tf\", numFeatures=20000)\n",
    "featurized = hashingTF.transform(words)"
   ]
  },
  {
   "cell_type": "code",
   "execution_count": 42,
   "id": "knowing-grade",
   "metadata": {},
   "outputs": [
    {
     "name": "stdout",
     "output_type": "stream",
     "text": [
      "+--------------------+--------------------+\n",
      "|               words|                  tf|\n",
      "+--------------------+--------------------+\n",
      "|[<p>how, should, ...|(20000,[1547,1756...|\n",
      "|[<p>in, many, dif...|(20000,[1756,2112...|\n",
      "|[<p>what, are, so...|(20000,[157,763,1...|\n",
      "|[<p>i, have, two,...|(20000,[592,763,1...|\n",
      "|[<p>the, r-projec...|(20000,[763,876,1...|\n",
      "|[<p>last, year,, ...|(20000,[9,576,739...|\n",
      "|[<p>i've, been, w...|(20000,[585,592,6...|\n",
      "|[<p>sorry,, but, ...|(20000,[1064,1989...|\n",
      "|[<p><a, href=\"htt...|(20000,[2891,4845...|\n",
      "|[<p>many, studies...|(20000,[823,1235,...|\n",
      "|[<p>is, there, a,...|(20000,[468,763,8...|\n",
      "|[<p>see, my, resp...|(20000,[1296,2269...|\n",
      "|[<p>machine, lear...|(20000,[211,667,6...|\n",
      "|[<p>i, second, th...|(20000,[1714,2029...|\n",
      "|[<p>john, cook, g...|(20000,[2891,3509...|\n",
      "|[<p>two, projects...|(20000,[146,157,3...|\n",
      "|[<p>i, have, four...|(20000,[313,443,7...|\n",
      "|[<p>also, see, th...|(20000,[1072,1695...|\n",
      "|[<p><a, href=\"htt...|(20000,[804,4495,...|\n",
      "|[<p>the, assumpti...|(20000,[572,1695,...|\n",
      "+--------------------+--------------------+\n",
      "only showing top 20 rows\n",
      "\n"
     ]
    }
   ],
   "source": [
    "featurized.select('words', 'tf').show()"
   ]
  },
  {
   "cell_type": "code",
   "execution_count": 43,
   "id": "unique-debate",
   "metadata": {},
   "outputs": [],
   "source": [
    "idf = IDF(inputCol=\"tf\", outputCol=\"features\")\n",
    "idf_model = idf.fit(featurized)\n",
    "feature_matrix = idf_model.transform(featurized)"
   ]
  },
  {
   "cell_type": "code",
   "execution_count": 44,
   "id": "improving-completion",
   "metadata": {},
   "outputs": [
    {
     "name": "stdout",
     "output_type": "stream",
     "text": [
      "+--------------------+--------------------+\n",
      "|                Body|            features|\n",
      "+--------------------+--------------------+\n",
      "|<p>How should I e...|(20000,[1547,1756...|\n",
      "|<p>In many differ...|(20000,[1756,2112...|\n",
      "|<p>What are some ...|(20000,[157,763,1...|\n",
      "|<p>I have two gro...|(20000,[592,763,1...|\n",
      "|<p>The R-project<...|(20000,[763,876,1...|\n",
      "|<p>Last year, I r...|(20000,[9,576,739...|\n",
      "|<p>I've been work...|(20000,[585,592,6...|\n",
      "|<p>Sorry, but the...|(20000,[1064,1989...|\n",
      "|<p><a href=\"http:...|(20000,[2891,4845...|\n",
      "|<p>Many studies i...|(20000,[823,1235,...|\n",
      "|<p>Is there a goo...|(20000,[468,763,8...|\n",
      "|<p>See my respons...|(20000,[1296,2269...|\n",
      "|<p>Machine Learni...|(20000,[211,667,6...|\n",
      "|<p>I second that ...|(20000,[1714,2029...|\n",
      "|<p>John Cook give...|(20000,[2891,3509...|\n",
      "|<p>Two projects s...|(20000,[146,157,3...|\n",
      "|<p>I have four co...|(20000,[313,443,7...|\n",
      "|<p>Also see the U...|(20000,[1072,1695...|\n",
      "|<p><a href=\"http:...|(20000,[804,4495,...|\n",
      "|<p>The assumption...|(20000,[572,1695,...|\n",
      "+--------------------+--------------------+\n",
      "only showing top 20 rows\n",
      "\n"
     ]
    }
   ],
   "source": [
    "feature_matrix.select(\"Body\", \"features\").show()"
   ]
  },
  {
   "cell_type": "code",
   "execution_count": 45,
   "id": "artificial-possible",
   "metadata": {},
   "outputs": [
    {
     "data": {
      "text/plain": [
       "340838"
      ]
     },
     "execution_count": 45,
     "metadata": {},
     "output_type": "execute_result"
    }
   ],
   "source": [
    "feature_matrix.count()"
   ]
  },
  {
   "cell_type": "code",
   "execution_count": 46,
   "id": "approximate-imagination",
   "metadata": {},
   "outputs": [],
   "source": [
    "# filter only question posts\n",
    "questions = feature_matrix.dropna(subset=['Title', 'Body', 'features']).where(df.PostTypeId == 1)"
   ]
  },
  {
   "cell_type": "code",
   "execution_count": 47,
   "id": "monthly-colors",
   "metadata": {},
   "outputs": [
    {
     "data": {
      "text/plain": [
       "171236"
      ]
     },
     "execution_count": 47,
     "metadata": {},
     "output_type": "execute_result"
    }
   ],
   "source": [
    "questions.count()"
   ]
  },
  {
   "cell_type": "code",
   "execution_count": 48,
   "id": "executive-mauritius",
   "metadata": {},
   "outputs": [],
   "source": [
    "import numpy as np\n",
    "from scipy.sparse import vstack, csr_matrix, save_npz"
   ]
  },
  {
   "cell_type": "code",
   "execution_count": 49,
   "id": "automated-motion",
   "metadata": {},
   "outputs": [
    {
     "name": "stdout",
     "output_type": "stream",
     "text": [
      "CPU times: user 386 ms, sys: 5.82 s, total: 6.21 s\n",
      "Wall time: 4min 40s\n"
     ]
    }
   ],
   "source": [
    "%%time\n",
    "# WARNING: this takes ~5min to complete\n",
    "matrices = questions.rdd.map(lambda e: e[\"features\"]) \\\n",
    "                    .map(lambda v: csr_matrix((v.values, (np.zeros(len(v.indices), dtype='int32'), v.indices)), shape=(1, v.size))) \\\n",
    "                    .reduce(lambda x, y: vstack((x, y)))"
   ]
  },
  {
   "cell_type": "code",
   "execution_count": 50,
   "id": "expensive-carroll",
   "metadata": {},
   "outputs": [
    {
     "data": {
      "text/plain": [
       "<171236x20000 sparse matrix of type '<class 'numpy.float64'>'\n",
       "\twith 18138124 stored elements in Compressed Sparse Row format>"
      ]
     },
     "execution_count": 50,
     "metadata": {},
     "output_type": "execute_result"
    }
   ],
   "source": [
    "matrices"
   ]
  },
  {
   "cell_type": "code",
   "execution_count": 51,
   "id": "conservative-steel",
   "metadata": {},
   "outputs": [],
   "source": [
    "save_npz('data/features.npz', matrices)"
   ]
  },
  {
   "cell_type": "code",
   "execution_count": 52,
   "id": "published-james",
   "metadata": {},
   "outputs": [],
   "source": [
    "np.save('data/labels.npy', questions.select(\"AcceptedAnswerId\").toPandas().AcceptedAnswerId.notnull().values)"
   ]
  },
  {
   "cell_type": "code",
   "execution_count": 53,
   "id": "basic-hardwood",
   "metadata": {},
   "outputs": [
    {
     "name": "stdout",
     "output_type": "stream",
     "text": [
      "total 722M\n",
      "-rw-r--r--  1 jovyan users 595M Feb 11 02:10 Posts.xml\n",
      "drwxr-xr-x  2 jovyan users   64 Feb 20 18:18 .ipynb_checkpoints\n",
      "drwxr-xr-x  6 jovyan users  192 Feb 21 16:08 .\n",
      "drwxr-xr-x 12 jovyan users  384 Feb 21 16:15 ..\n",
      "-rw-r--r--  1 jovyan users  99M Feb 21 16:19 features.npz\n",
      "-rw-r--r--  1 jovyan users 168K Feb 21 16:20 labels.npy\n"
     ]
    }
   ],
   "source": [
    "!ls -larth data"
   ]
  },
  {
   "cell_type": "code",
   "execution_count": null,
   "id": "scenic-testimony",
   "metadata": {},
   "outputs": [],
   "source": []
  }
 ],
 "metadata": {
  "kernelspec": {
   "display_name": "Python 3",
   "language": "python",
   "name": "python3"
  },
  "language_info": {
   "codemirror_mode": {
    "name": "ipython",
    "version": 3
   },
   "file_extension": ".py",
   "mimetype": "text/x-python",
   "name": "python",
   "nbconvert_exporter": "python",
   "pygments_lexer": "ipython3",
   "version": "3.8.8"
  }
 },
 "nbformat": 4,
 "nbformat_minor": 5
}
