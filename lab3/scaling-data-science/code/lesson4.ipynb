{
 "cells": [
  {
   "cell_type": "code",
   "execution_count": 1,
   "id": "forbidden-performer",
   "metadata": {},
   "outputs": [],
   "source": [
    "import ray\n",
    "import random, logging\n",
    "import xml.etree.ElementTree as etree"
   ]
  },
  {
   "cell_type": "code",
   "execution_count": 2,
   "id": "certain-proportion",
   "metadata": {},
   "outputs": [],
   "source": [
    "def parse_post(xml):\n",
    "    return etree.fromstring(xml)"
   ]
  },
  {
   "cell_type": "code",
   "execution_count": 3,
   "id": "alternate-counter",
   "metadata": {},
   "outputs": [],
   "source": [
    "posts = [\n",
    "  '<row Id=\"1\" Title=\"Eliciting priors from experts\" />',\n",
    "  '<row Id=\"2\" Title=\"What is normality?\" />',\n",
    "  '<row Id=\"3\" Title=\"What are some valuable Statistical Analysis open source projects?\" />',\n",
    "  '<row Id=\"4\" Title=\"Assessing the significance of differences in distributions\" />',\n",
    "  '<row Id=\"5\" Title=\"The Two Cultures: statistics vs. machine learning?\" />',\n",
    "  '<row Id=\"6\" Title=\"Locating freely available data samples\" />',\n",
    "  '<row Id=\"7\" Title=\"Forecasting demographic census\" />',\n",
    "  '<row Id=\"8\" Title=\"Multivariate Interpolation Approaches\" />',\n",
    "  '<row Id=\"9\" Title=\"How can I adapt ANOVA for binary data?\" />'\n",
    "]"
   ]
  },
  {
   "cell_type": "code",
   "execution_count": 4,
   "id": "willing-imaging",
   "metadata": {},
   "outputs": [
    {
     "data": {
      "text/plain": [
       "[<Element 'row' at 0x7efdd8fc4b30>,\n",
       " <Element 'row' at 0x7efdd8fc4400>,\n",
       " <Element 'row' at 0x7efdd8fc4770>,\n",
       " <Element 'row' at 0x7efdd8fc4db0>,\n",
       " <Element 'row' at 0x7efdd8fc4e00>,\n",
       " <Element 'row' at 0x7efdd8fc4e50>,\n",
       " <Element 'row' at 0x7efdd8fc4ef0>,\n",
       " <Element 'row' at 0x7efdd8fc4f40>,\n",
       " <Element 'row' at 0x7efdd8fc4f90>]"
      ]
     },
     "execution_count": 4,
     "metadata": {},
     "output_type": "execute_result"
    }
   ],
   "source": [
    "[ parse_post(xml) for xml in posts ]"
   ]
  },
  {
   "cell_type": "code",
   "execution_count": 5,
   "id": "effective-amplifier",
   "metadata": {},
   "outputs": [],
   "source": [
    "def parse_post(xml):\n",
    "    post = etree.fromstring(xml)\n",
    "    print(post.get('Id'))\n",
    "    return post"
   ]
  },
  {
   "cell_type": "code",
   "execution_count": 6,
   "id": "quantitative-mumbai",
   "metadata": {},
   "outputs": [
    {
     "name": "stdout",
     "output_type": "stream",
     "text": [
      "1\n",
      "2\n",
      "3\n",
      "4\n",
      "5\n",
      "6\n",
      "7\n",
      "8\n",
      "9\n"
     ]
    },
    {
     "data": {
      "text/plain": [
       "[<Element 'row' at 0x7efdd8eeb450>,\n",
       " <Element 'row' at 0x7efdd8eeb590>,\n",
       " <Element 'row' at 0x7efdd8eeba90>,\n",
       " <Element 'row' at 0x7efdf16f29f0>,\n",
       " <Element 'row' at 0x7efdd8eebae0>,\n",
       " <Element 'row' at 0x7efdd8eebb30>,\n",
       " <Element 'row' at 0x7efdd8eebbd0>,\n",
       " <Element 'row' at 0x7efdd8eebc20>,\n",
       " <Element 'row' at 0x7efdd8eebc70>]"
      ]
     },
     "execution_count": 6,
     "metadata": {},
     "output_type": "execute_result"
    }
   ],
   "source": [
    "[ parse_post(xml) for xml in posts ]"
   ]
  },
  {
   "cell_type": "code",
   "execution_count": 7,
   "id": "spoken-berkeley",
   "metadata": {},
   "outputs": [
    {
     "data": {
      "text/plain": [
       "{'node_ip_address': '172.17.0.2',\n",
       " 'raylet_ip_address': '172.17.0.2',\n",
       " 'redis_address': '172.17.0.2:6379',\n",
       " 'object_store_address': '/tmp/ray/session_2021-02-19_01-41-08_832187_7103/sockets/plasma_store',\n",
       " 'raylet_socket_name': '/tmp/ray/session_2021-02-19_01-41-08_832187_7103/sockets/raylet',\n",
       " 'webui_url': '127.0.0.1:8265',\n",
       " 'session_dir': '/tmp/ray/session_2021-02-19_01-41-08_832187_7103',\n",
       " 'metrics_export_port': 61712,\n",
       " 'node_id': 'a387201aa5e27ea4052ebbab7cb1ca6ecfff19ce'}"
      ]
     },
     "execution_count": 7,
     "metadata": {},
     "output_type": "execute_result"
    }
   ],
   "source": [
    "# Start Ray. If you're connecting to an existing cluster, you would use\n",
    "# ray.init(address=<cluster-address>) instead.\n",
    "ray.init(logging_level=logging.ERROR)"
   ]
  },
  {
   "cell_type": "code",
   "execution_count": 8,
   "id": "formed-teaching",
   "metadata": {},
   "outputs": [],
   "source": [
    "@ray.remote\n",
    "def parse_post(xml):\n",
    "    post = etree.fromstring(xml)\n",
    "    print(post.get('Id'))\n",
    "    return post"
   ]
  },
  {
   "cell_type": "code",
   "execution_count": 10,
   "id": "stock-maintenance",
   "metadata": {},
   "outputs": [
    {
     "name": "stdout",
     "output_type": "stream",
     "text": [
      "\u001b[2m\u001b[36m(pid=7195)\u001b[0m 1\n"
     ]
    }
   ],
   "source": [
    "future = parse_post.remote(posts[0])"
   ]
  },
  {
   "cell_type": "code",
   "execution_count": 18,
   "id": "devoted-tours",
   "metadata": {},
   "outputs": [
    {
     "data": {
      "text/plain": [
       "<Element 'row' at 0x7efdb8029720>"
      ]
     },
     "execution_count": 18,
     "metadata": {},
     "output_type": "execute_result"
    }
   ],
   "source": [
    "ray.get(future)"
   ]
  },
  {
   "cell_type": "code",
   "execution_count": 19,
   "id": "political-jumping",
   "metadata": {},
   "outputs": [
    {
     "name": "stdout",
     "output_type": "stream",
     "text": [
      "\u001b[2m\u001b[36m(pid=7195)\u001b[0m 1\n",
      "\u001b[2m\u001b[36m(pid=7195)\u001b[0m 2\n",
      "\u001b[2m\u001b[36m(pid=7195)\u001b[0m 4\n",
      "\u001b[2m\u001b[36m(pid=7195)\u001b[0m 6\n",
      "\u001b[2m\u001b[36m(pid=7195)\u001b[0m 8\n",
      "\u001b[2m\u001b[36m(pid=7194)\u001b[0m 3\n",
      "\u001b[2m\u001b[36m(pid=7194)\u001b[0m 5\n",
      "\u001b[2m\u001b[36m(pid=7194)\u001b[0m 7\n",
      "\u001b[2m\u001b[36m(pid=7194)\u001b[0m 9\n"
     ]
    }
   ],
   "source": [
    "futures = [parse_post.remote(xml) for xml in posts ]"
   ]
  },
  {
   "cell_type": "code",
   "execution_count": 21,
   "id": "pressed-opera",
   "metadata": {},
   "outputs": [
    {
     "data": {
      "text/plain": [
       "[ObjectRef(7bbd90284b71e599ffffffff0100000001000000),\n",
       " ObjectRef(bd37d2621480fc7dffffffff0100000001000000),\n",
       " ObjectRef(88866c7daffdd00effffffff0100000001000000),\n",
       " ObjectRef(d251967856448cebffffffff0100000001000000),\n",
       " ObjectRef(3bf0c856ace5a4d8ffffffff0100000001000000),\n",
       " ObjectRef(72e11b46e93d91e4ffffffff0100000001000000),\n",
       " ObjectRef(62223d85d5e7cd76ffffffff0100000001000000),\n",
       " ObjectRef(3106d80c4e3c2369ffffffff0100000001000000),\n",
       " ObjectRef(ae935fc0cb63c7d2ffffffff0100000001000000)]"
      ]
     },
     "execution_count": 21,
     "metadata": {},
     "output_type": "execute_result"
    }
   ],
   "source": [
    "futures"
   ]
  },
  {
   "cell_type": "code",
   "execution_count": 20,
   "id": "removable-toyota",
   "metadata": {},
   "outputs": [
    {
     "data": {
      "text/plain": [
       "[<Element 'row' at 0x7efd70eb77c0>,\n",
       " <Element 'row' at 0x7efd70eb7590>,\n",
       " <Element 'row' at 0x7efd70eb78b0>,\n",
       " <Element 'row' at 0x7efd70eb7900>,\n",
       " <Element 'row' at 0x7efd70eb7950>,\n",
       " <Element 'row' at 0x7efd70eb79a0>,\n",
       " <Element 'row' at 0x7efd70eb79f0>,\n",
       " <Element 'row' at 0x7efd70eb7a90>,\n",
       " <Element 'row' at 0x7efd70eb7ae0>]"
      ]
     },
     "execution_count": 20,
     "metadata": {},
     "output_type": "execute_result"
    }
   ],
   "source": [
    "ray.get(futures)"
   ]
  },
  {
   "cell_type": "code",
   "execution_count": 22,
   "id": "straight-handling",
   "metadata": {},
   "outputs": [
    {
     "data": {
      "text/plain": [
       "['1', '2', '3', '4', '5', '6', '7', '8', '9']"
      ]
     },
     "execution_count": 22,
     "metadata": {},
     "output_type": "execute_result"
    }
   ],
   "source": [
    "[ el.get('Id') for el in ray.get(futures) ]"
   ]
  },
  {
   "cell_type": "code",
   "execution_count": 23,
   "id": "popular-comparative",
   "metadata": {},
   "outputs": [],
   "source": [
    "# similar to rdd.cache()\n",
    "ref = ray.put(\"Jonathan\")"
   ]
  },
  {
   "cell_type": "code",
   "execution_count": 24,
   "id": "drawn-mobility",
   "metadata": {},
   "outputs": [
    {
     "data": {
      "text/plain": [
       "'Jonathan'"
      ]
     },
     "execution_count": 24,
     "metadata": {},
     "output_type": "execute_result"
    }
   ],
   "source": [
    "ray.get(ref)"
   ]
  },
  {
   "cell_type": "code",
   "execution_count": 25,
   "id": "congressional-neighborhood",
   "metadata": {},
   "outputs": [
    {
     "data": {
      "text/plain": [
       "ObjectRef(ffffffffffffffffffffffff0100000001000000)"
      ]
     },
     "execution_count": 25,
     "metadata": {},
     "output_type": "execute_result"
    }
   ],
   "source": [
    "ref"
   ]
  },
  {
   "cell_type": "markdown",
   "id": "possible-afternoon",
   "metadata": {},
   "source": [
    "## Actors\n",
    "\n",
    "Scheme made them [concrete](https://dspace.mit.edu/handle/1721.1/5794). Erlang made them [useful](https://erlang.org/doc/getting_started/conc_prog.html). Akka made them [cool](https://akka.io/). And now Ray makes them [easy](https://docs.ray.io/en/latest/ray-overview/index.html)!"
   ]
  },
  {
   "cell_type": "code",
   "execution_count": 26,
   "id": "threaded-blank",
   "metadata": {},
   "outputs": [
    {
     "name": "stdout",
     "output_type": "stream",
     "text": [
      "Requirement already satisfied: faker in /opt/conda/lib/python3.8/site-packages (6.3.0)\n",
      "Requirement already satisfied: python-dateutil>=2.4 in /opt/conda/lib/python3.8/site-packages (from faker) (2.8.1)\n",
      "Requirement already satisfied: text-unidecode==1.3 in /opt/conda/lib/python3.8/site-packages (from faker) (1.3)\n",
      "Requirement already satisfied: six>=1.5 in /opt/conda/lib/python3.8/site-packages (from python-dateutil>=2.4->faker) (1.15.0)\n"
     ]
    }
   ],
   "source": [
    "!pip install faker"
   ]
  },
  {
   "cell_type": "code",
   "execution_count": 27,
   "id": "unknown-cream",
   "metadata": {},
   "outputs": [],
   "source": [
    "@ray.remote\n",
    "class Child(object):\n",
    "    def __init__(self):\n",
    "        from faker import Faker\n",
    "        self.name = Faker().name()\n",
    "        self.age = 1\n",
    "        \n",
    "    def grow(self):\n",
    "        self.age += 1\n",
    "        return self.age\n",
    "    \n",
    "    def greet(self):\n",
    "        return (\n",
    "            f'My name is {self.name} '\n",
    "            f'and I am {self.age} years old'\n",
    "        )"
   ]
  },
  {
   "cell_type": "code",
   "execution_count": 28,
   "id": "changed-heading",
   "metadata": {},
   "outputs": [],
   "source": [
    "children = [Child.remote() for i in range(10)]"
   ]
  },
  {
   "cell_type": "code",
   "execution_count": 29,
   "id": "afraid-anxiety",
   "metadata": {},
   "outputs": [
    {
     "data": {
      "text/plain": [
       "[Actor(Child,3db7cfef01000000),\n",
       " Actor(Child,a628090a01000000),\n",
       " Actor(Child,fafba2ba01000000),\n",
       " Actor(Child,b7603b6c01000000),\n",
       " Actor(Child,a491754501000000),\n",
       " Actor(Child,84b65a9401000000),\n",
       " Actor(Child,87b4f72601000000),\n",
       " Actor(Child,be3cb80901000000),\n",
       " Actor(Child,bd5c534001000000),\n",
       " Actor(Child,7f10737001000000)]"
      ]
     },
     "execution_count": 29,
     "metadata": {},
     "output_type": "execute_result"
    }
   ],
   "source": [
    "children"
   ]
  },
  {
   "cell_type": "code",
   "execution_count": 30,
   "id": "devoted-defendant",
   "metadata": {},
   "outputs": [],
   "source": [
    "futures = [ c.greet.remote() for c in children ]"
   ]
  },
  {
   "cell_type": "code",
   "execution_count": 31,
   "id": "dirty-laugh",
   "metadata": {},
   "outputs": [
    {
     "data": {
      "text/plain": [
       "[ObjectRef(b19fee1fe487d3333db7cfef0100000001000000),\n",
       " ObjectRef(af23404c2bbc23f5a628090a0100000001000000),\n",
       " ObjectRef(99506fd459680ea2fafba2ba0100000001000000),\n",
       " ObjectRef(c61c90f84b215448b7603b6c0100000001000000),\n",
       " ObjectRef(11d7f983e14011f4a49175450100000001000000),\n",
       " ObjectRef(7d269126652173d084b65a940100000001000000),\n",
       " ObjectRef(a16678a371591cc487b4f7260100000001000000),\n",
       " ObjectRef(82be70daa7562412be3cb8090100000001000000),\n",
       " ObjectRef(d24da3c30343f5b0bd5c53400100000001000000),\n",
       " ObjectRef(335d6f0817bbad8f7f1073700100000001000000)]"
      ]
     },
     "execution_count": 31,
     "metadata": {},
     "output_type": "execute_result"
    }
   ],
   "source": [
    "futures"
   ]
  },
  {
   "cell_type": "code",
   "execution_count": 32,
   "id": "marked-median",
   "metadata": {},
   "outputs": [
    {
     "name": "stdout",
     "output_type": "stream",
     "text": [
      "My name is Brenda Wilson and I am 1 years old\n",
      "My name is Barbara Morgan and I am 1 years old\n",
      "My name is Christina Santos and I am 1 years old\n",
      "My name is Eddie Moran and I am 1 years old\n",
      "My name is Kevin Robinson and I am 1 years old\n",
      "My name is Tony Myers and I am 1 years old\n",
      "My name is Diane Clark and I am 1 years old\n",
      "My name is Cindy Dawson and I am 1 years old\n",
      "My name is George Leonard and I am 1 years old\n",
      "My name is Teresa Mendoza and I am 1 years old\n"
     ]
    }
   ],
   "source": [
    "for future in ray.get(futures):\n",
    "    print(future)"
   ]
  },
  {
   "cell_type": "code",
   "execution_count": 33,
   "id": "rubber-logic",
   "metadata": {},
   "outputs": [],
   "source": [
    "for c in children:\n",
    "    for _ in range(random.randint(1,10)):\n",
    "        c.grow.remote()"
   ]
  },
  {
   "cell_type": "code",
   "execution_count": 34,
   "id": "broad-reason",
   "metadata": {},
   "outputs": [
    {
     "name": "stdout",
     "output_type": "stream",
     "text": [
      "My name is Brenda Wilson and I am 9 years old\n",
      "My name is Barbara Morgan and I am 10 years old\n",
      "My name is Christina Santos and I am 6 years old\n",
      "My name is Eddie Moran and I am 9 years old\n",
      "My name is Kevin Robinson and I am 8 years old\n",
      "My name is Tony Myers and I am 7 years old\n",
      "My name is Diane Clark and I am 5 years old\n",
      "My name is Cindy Dawson and I am 2 years old\n",
      "My name is George Leonard and I am 6 years old\n",
      "My name is Teresa Mendoza and I am 11 years old\n"
     ]
    }
   ],
   "source": [
    "for future in ray.get([ c.greet.remote() for c in children ]):\n",
    "    print(future)"
   ]
  },
  {
   "cell_type": "code",
   "execution_count": 35,
   "id": "amino-elimination",
   "metadata": {},
   "outputs": [],
   "source": [
    "c = children[0]"
   ]
  },
  {
   "cell_type": "code",
   "execution_count": 38,
   "id": "patent-remark",
   "metadata": {},
   "outputs": [
    {
     "data": {
      "text/plain": [
       "[10, 11, 12, 13, 14]"
      ]
     },
     "execution_count": 38,
     "metadata": {},
     "output_type": "execute_result"
    }
   ],
   "source": [
    "ray.get([c.grow.remote() for _ in range(5)])"
   ]
  },
  {
   "cell_type": "code",
   "execution_count": 39,
   "id": "fitting-authentication",
   "metadata": {},
   "outputs": [
    {
     "data": {
      "text/plain": [
       "[None, None, None, None, None, None, None, None, None, None]"
      ]
     },
     "execution_count": 39,
     "metadata": {},
     "output_type": "execute_result"
    }
   ],
   "source": [
    "# actors stay around as long as they are in scope\n",
    "# since nothing really goes out of scope in a notebook\n",
    "# we have to manually terminate them\n",
    "[ ray.kill(person) for person in children ]"
   ]
  },
  {
   "cell_type": "code",
   "execution_count": 40,
   "id": "confidential-rebel",
   "metadata": {},
   "outputs": [],
   "source": [
    "ray.shutdown()"
   ]
  },
  {
   "cell_type": "markdown",
   "id": "sunset-brake",
   "metadata": {},
   "source": [
    "## Simulating a pandemic\n",
    "\n",
    "> note this is a toy model simulation, results should not be used to inform health decisions or personal behavior\n",
    "\n",
    "### The SIR epidemic model:\n",
    "\n",
    "$S(t)$: susceptible individuals who have not yet been infected at time $t$\n",
    "\n",
    "$I(t)$: number of infectious individuals at time $t$\n",
    "\n",
    "$R(t)$: number of individuals who have recovered (and are immune) at time $t$\n",
    "\n",
    "#### Parameters\n",
    "\n",
    "$\\beta$: probablity of transmitted the disease from an infected to a susceptible individual\n",
    "\n",
    "$\\gamma$: recovery rate ~ $\\frac{1}{\\text{duration of disease}}$\n",
    "\n",
    "We will follow the [EMOD compartamental model](https://idmod.org/docs/emod/malaria/model-compartments.html) to simulate the SIR model as a series of discrete timesteps. For something like reinforcement learning, instead of disease dynamics you simulate actions in an environment/game."
   ]
  },
  {
   "cell_type": "code",
   "execution_count": 41,
   "id": "peripheral-wrapping",
   "metadata": {},
   "outputs": [
    {
     "data": {
      "text/plain": [
       "{'node_ip_address': '172.17.0.2',\n",
       " 'raylet_ip_address': '172.17.0.2',\n",
       " 'redis_address': '172.17.0.2:6379',\n",
       " 'object_store_address': '/tmp/ray/session_2021-02-19_02-30-02_212321_7103/sockets/plasma_store',\n",
       " 'raylet_socket_name': '/tmp/ray/session_2021-02-19_02-30-02_212321_7103/sockets/raylet',\n",
       " 'webui_url': '127.0.0.1:8265',\n",
       " 'session_dir': '/tmp/ray/session_2021-02-19_02-30-02_212321_7103',\n",
       " 'metrics_export_port': 53482,\n",
       " 'node_id': '21ec551dd6b0445306d5d05b9ac62ba9c2239269'}"
      ]
     },
     "execution_count": 41,
     "metadata": {},
     "output_type": "execute_result"
    }
   ],
   "source": [
    "ray.init(logging_level=logging.ERROR)"
   ]
  },
  {
   "cell_type": "code",
   "execution_count": 42,
   "id": "confused-nebraska",
   "metadata": {},
   "outputs": [],
   "source": [
    "# parameters\n",
    "b = 0.5\n",
    "b_0 = 0.2\n",
    "g = 0.2\n",
    "dim = 5"
   ]
  },
  {
   "cell_type": "code",
   "execution_count": 50,
   "id": "proved-orleans",
   "metadata": {},
   "outputs": [],
   "source": [
    "@ray.remote\n",
    "class Person(object):\n",
    "    def __init__(self, i):\n",
    "        self.index = i\n",
    "        self.state = 'i' if random.random() < b_0 else 's'\n",
    "        self.x = random.randint(0, dim)\n",
    "        self.y = random.randint(0, dim)\n",
    "        \n",
    "    def location(self):\n",
    "        return (self.x, self.y)\n",
    "    \n",
    "    def health(self):\n",
    "        return self.state\n",
    "    \n",
    "    def index(self):\n",
    "        return self.index\n",
    "    \n",
    "    def status(self):\n",
    "        return f\"Individual {self.index} at {self.location()} is currently {self.state}\"\n",
    "       \n",
    "    def walk(self):\n",
    "        if self.state == 'i':\n",
    "            if random.random() < g:\n",
    "                print(f\"{self.index} has recovered ⚕️\")\n",
    "                self.state = 'r'\n",
    "\n",
    "        self.x += random.randint(-1, 1)\n",
    "        self.y += random.randint(-1, 1)\n",
    "        \n",
    "        self.x = max(min(self.x, dim), 0)\n",
    "        self.y = max(min(self.y, dim), 0)\n",
    "        \n",
    "    def contract(self):\n",
    "        print(f\"{self.index} has become sick 🤮\")\n",
    "        self.state = 'i'\n",
    "        \n",
    "    def interact(self, stranger):\n",
    "        x, y = ray.get(stranger.location.remote())\n",
    "        state = ray.get(stranger.health.remote())\n",
    "        \n",
    "        # is the stranger close to me\n",
    "        if (abs(x - self.x) <= 1) and (abs(y - self.y) <= 1):\n",
    "            # is either of us infected?\n",
    "            if self.state == 'i' or state == 'i':\n",
    "                # can either of us _get_ infected?\n",
    "                if self.state == 's' or state == 's':\n",
    "                    # which one of us can get the disease\n",
    "                    contract = self.contract if self.state == 's' else stranger.contract.remote\n",
    "                    \n",
    "                    # roll the dice babeeeeee\n",
    "                    if random.random() < b:\n",
    "                        contract()"
   ]
  },
  {
   "cell_type": "code",
   "execution_count": 51,
   "id": "fatty-ozone",
   "metadata": {},
   "outputs": [],
   "source": [
    "people = [Person.remote(i) for i in range(15)]"
   ]
  },
  {
   "cell_type": "code",
   "execution_count": 52,
   "id": "similar-greene",
   "metadata": {},
   "outputs": [
    {
     "data": {
      "text/plain": [
       "[Actor(Person,24ca2d6d01000000),\n",
       " Actor(Person,f26277e401000000),\n",
       " Actor(Person,3abfa87701000000),\n",
       " Actor(Person,e73a610901000000),\n",
       " Actor(Person,18b0341001000000),\n",
       " Actor(Person,c8c3554001000000),\n",
       " Actor(Person,cdeac00601000000),\n",
       " Actor(Person,25eb8b3501000000),\n",
       " Actor(Person,9cedd66601000000),\n",
       " Actor(Person,362823fd01000000),\n",
       " Actor(Person,b04ed06d01000000),\n",
       " Actor(Person,d6a2003a01000000),\n",
       " Actor(Person,8d83385001000000),\n",
       " Actor(Person,ccbb223201000000),\n",
       " Actor(Person,e804d33501000000)]"
      ]
     },
     "execution_count": 52,
     "metadata": {},
     "output_type": "execute_result"
    }
   ],
   "source": [
    "people"
   ]
  },
  {
   "cell_type": "code",
   "execution_count": 53,
   "id": "developmental-oliver",
   "metadata": {},
   "outputs": [
    {
     "data": {
      "text/plain": [
       "[(4, 2),\n",
       " (5, 1),\n",
       " (0, 4),\n",
       " (5, 2),\n",
       " (5, 5),\n",
       " (0, 0),\n",
       " (4, 1),\n",
       " (3, 4),\n",
       " (1, 4),\n",
       " (1, 5),\n",
       " (3, 5),\n",
       " (5, 2),\n",
       " (1, 1),\n",
       " (5, 2),\n",
       " (5, 3)]"
      ]
     },
     "execution_count": 53,
     "metadata": {},
     "output_type": "execute_result"
    }
   ],
   "source": [
    "ray.get([p.location.remote() for p in people])"
   ]
  },
  {
   "cell_type": "code",
   "execution_count": 54,
   "id": "friendly-cruise",
   "metadata": {},
   "outputs": [
    {
     "data": {
      "text/plain": [
       "['s', 'i', 's', 's', 's', 's', 's', 's', 's', 's', 's', 's', 's', 'i', 's']"
      ]
     },
     "execution_count": 54,
     "metadata": {},
     "output_type": "execute_result"
    }
   ],
   "source": [
    "ray.get([p.health.remote() for p in people])"
   ]
  },
  {
   "cell_type": "code",
   "execution_count": 55,
   "id": "explicit-flight",
   "metadata": {},
   "outputs": [],
   "source": [
    "from itertools import combinations"
   ]
  },
  {
   "cell_type": "code",
   "execution_count": 56,
   "id": "several-reason",
   "metadata": {},
   "outputs": [
    {
     "name": "stdout",
     "output_type": "stream",
     "text": [
      "\n",
      "Iteration 0\n",
      "\n",
      "\n",
      "\n",
      "Iteration 1\n",
      "\n",
      "\n",
      "\u001b[2m\u001b[36m(pid=7932)\u001b[0m 3 has become sick 🤮\n",
      "\u001b[2m\u001b[36m(pid=7984)\u001b[0m 6 has become sick 🤮\n",
      "\u001b[2m\u001b[36m(pid=7908)\u001b[0m 0 has become sick 🤮\n",
      "\u001b[2m\u001b[36m(pid=7956)\u001b[0m 4 has become sick 🤮\n",
      "\u001b[2m\u001b[36m(pid=8059)\u001b[0m 11 has become sick 🤮\n",
      "\u001b[2m\u001b[36m(pid=8099)\u001b[0m 14 has become sick 🤮\n",
      "\n",
      "Iteration 2\n",
      "\n",
      "\n",
      "\u001b[2m\u001b[36m(pid=8059)\u001b[0m 11 has recovered ⚕️\n",
      "\u001b[2m\u001b[36m(pid=8099)\u001b[0m 14 has recovered ⚕️\n",
      "\u001b[2m\u001b[36m(pid=7909)\u001b[0m 1 has recovered ⚕️\n",
      "\u001b[2m\u001b[36m(pid=7956)\u001b[0m 4 has recovered ⚕️\n",
      "\n",
      "Iteration 3\n",
      "\n",
      "\n",
      "\u001b[2m\u001b[36m(pid=7984)\u001b[0m 6 has recovered ⚕️\n",
      "\n",
      "Iteration 4\n",
      "\n",
      "\n",
      "\u001b[2m\u001b[36m(pid=7967)\u001b[0m 5 has become sick 🤮\n",
      "\n",
      "Iteration 5\n",
      "\n",
      "\n",
      "\n",
      "Iteration 6\n",
      "\n",
      "\n",
      "\n",
      "Iteration 7\n",
      "\n",
      "\n",
      "\u001b[2m\u001b[36m(pid=7932)\u001b[0m 3 has recovered ⚕️\n",
      "\u001b[2m\u001b[36m(pid=8014)\u001b[0m 8 has become sick 🤮\n",
      "\u001b[2m\u001b[36m(pid=8014)\u001b[0m 8 has recovered ⚕️\n",
      "\u001b[2m\u001b[36m(pid=8069)\u001b[0m 12 has become sick 🤮\n",
      "\n",
      "Iteration 8\n",
      "\n",
      "\n",
      "\n",
      "Iteration 9\n",
      "\n",
      "\n",
      "\u001b[2m\u001b[36m(pid=8069)\u001b[0m 12 has recovered ⚕️\n",
      "\u001b[2m\u001b[36m(pid=7967)\u001b[0m 5 has recovered ⚕️\n",
      "\n",
      "Iteration 10\n",
      "\n",
      "\n",
      "\u001b[2m\u001b[36m(pid=8089)\u001b[0m 13 has recovered ⚕️\n",
      "\n",
      "Iteration 11\n",
      "\n",
      "\n",
      "\n",
      "Iteration 12\n",
      "\n",
      "\n",
      "\n",
      "Iteration 13\n",
      "\n",
      "\n",
      "\n",
      "Iteration 14\n",
      "\n",
      "\n",
      "\n",
      "Iteration 15\n",
      "\n",
      "\n",
      "\n",
      "Iteration 16\n",
      "\n",
      "\n",
      "\n",
      "Iteration 17\n",
      "\n",
      "\n",
      "\n",
      "Iteration 18\n",
      "\n",
      "\n",
      "\n",
      "Iteration 19\n",
      "\n",
      "\n",
      "\u001b[2m\u001b[36m(pid=8044)\u001b[0m 10 has become sick 🤮\n",
      "\u001b[2m\u001b[36m(pid=7908)\u001b[0m 0 has recovered ⚕️\n"
     ]
    }
   ],
   "source": [
    "for i in range(20):\n",
    "    print(f'\\nIteration {i}\\n\\n')\n",
    "    for person in people:\n",
    "        person.walk.remote()\n",
    "        \n",
    "    pairs = list(combinations(people, 2))\n",
    "    \n",
    "    for p1, p2 in pairs:\n",
    "        p1.interact.remote(p2)"
   ]
  },
  {
   "cell_type": "code",
   "execution_count": 57,
   "id": "received-receiver",
   "metadata": {},
   "outputs": [
    {
     "name": "stdout",
     "output_type": "stream",
     "text": [
      "Individual 0 at (4, 3) is currently r\n",
      "Individual 1 at (0, 3) is currently r\n",
      "Individual 2 at (3, 5) is currently s\n",
      "Individual 3 at (5, 1) is currently r\n",
      "Individual 4 at (0, 5) is currently r\n",
      "Individual 5 at (1, 5) is currently r\n",
      "Individual 6 at (5, 0) is currently r\n",
      "Individual 7 at (0, 4) is currently s\n",
      "Individual 8 at (1, 2) is currently r\n",
      "Individual 9 at (2, 5) is currently s\n",
      "Individual 10 at (3, 0) is currently i\n",
      "Individual 11 at (4, 3) is currently r\n",
      "Individual 12 at (5, 5) is currently r\n",
      "Individual 13 at (0, 1) is currently r\n",
      "Individual 14 at (2, 2) is currently r\n"
     ]
    }
   ],
   "source": [
    "for person in people:\n",
    "    print(ray.get(person.status.remote()))"
   ]
  },
  {
   "cell_type": "code",
   "execution_count": null,
   "id": "statewide-baker",
   "metadata": {},
   "outputs": [],
   "source": []
  }
 ],
 "metadata": {
  "kernelspec": {
   "display_name": "Python 3",
   "language": "python",
   "name": "python3"
  },
  "language_info": {
   "codemirror_mode": {
    "name": "ipython",
    "version": 3
   },
   "file_extension": ".py",
   "mimetype": "text/x-python",
   "name": "python",
   "nbconvert_exporter": "python",
   "pygments_lexer": "ipython3",
   "version": "3.8.8"
  }
 },
 "nbformat": 4,
 "nbformat_minor": 5
}
