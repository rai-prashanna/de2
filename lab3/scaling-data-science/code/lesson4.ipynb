{
 "cells": [
  {
   "cell_type": "code",
   "execution_count": 1,
   "id": "forbidden-performer",
   "metadata": {},
   "outputs": [],
   "source": [
    "import ray\n",
    "import random, logging\n",
    "import xml.etree.ElementTree as etree"
   ]
  },
  {
   "cell_type": "code",
   "execution_count": 2,
   "id": "certain-proportion",
   "metadata": {},
   "outputs": [],
   "source": [
    "def parse_post(xml):\n",
    "    return etree.fromstring(xml)"
   ]
  },
  {
   "cell_type": "code",
   "execution_count": 3,
   "id": "alternate-counter",
   "metadata": {},
   "outputs": [],
   "source": [
    "posts = [\n",
    "  '<row Id=\"1\" Title=\"Eliciting priors from experts\" />',\n",
    "  '<row Id=\"2\" Title=\"What is normality?\" />',\n",
    "  '<row Id=\"3\" Title=\"What are some valuable Statistical Analysis open source projects?\" />',\n",
    "  '<row Id=\"4\" Title=\"Assessing the significance of differences in distributions\" />',\n",
    "  '<row Id=\"5\" Title=\"The Two Cultures: statistics vs. machine learning?\" />',\n",
    "  '<row Id=\"6\" Title=\"Locating freely available data samples\" />',\n",
    "  '<row Id=\"7\" Title=\"Forecasting demographic census\" />',\n",
    "  '<row Id=\"8\" Title=\"Multivariate Interpolation Approaches\" />',\n",
    "  '<row Id=\"9\" Title=\"How can I adapt ANOVA for binary data?\" />'\n",
    "]"
   ]
  },
  {
   "cell_type": "code",
   "execution_count": 4,
   "id": "willing-imaging",
   "metadata": {},
   "outputs": [
    {
     "data": {
      "text/plain": [
       "[<Element 'row' at 0x7fdbda368950>,\n",
       " <Element 'row' at 0x7fdbda3680e0>,\n",
       " <Element 'row' at 0x7fdbda3689f0>,\n",
       " <Element 'row' at 0x7fdbda368a90>,\n",
       " <Element 'row' at 0x7fdbda368ae0>,\n",
       " <Element 'row' at 0x7fdbda368b30>,\n",
       " <Element 'row' at 0x7fdbda368bd0>,\n",
       " <Element 'row' at 0x7fdbda368c20>,\n",
       " <Element 'row' at 0x7fdbda368c70>]"
      ]
     },
     "execution_count": 4,
     "metadata": {},
     "output_type": "execute_result"
    }
   ],
   "source": [
    "[ parse_post(xml) for xml in posts ]"
   ]
  },
  {
   "cell_type": "code",
   "execution_count": 5,
   "id": "effective-amplifier",
   "metadata": {},
   "outputs": [],
   "source": [
    "def parse_post(xml):\n",
    "    post = etree.fromstring(xml)\n",
    "    print(post.get('Id'))\n",
    "    return post"
   ]
  },
  {
   "cell_type": "code",
   "execution_count": 6,
   "id": "quantitative-mumbai",
   "metadata": {},
   "outputs": [
    {
     "name": "stdout",
     "output_type": "stream",
     "text": [
      "1\n",
      "2\n",
      "3\n",
      "4\n",
      "5\n",
      "6\n",
      "7\n",
      "8\n",
      "9\n"
     ]
    },
    {
     "data": {
      "text/plain": [
       "[<Element 'row' at 0x7fdbda372770>,\n",
       " <Element 'row' at 0x7fdbda3725e0>,\n",
       " <Element 'row' at 0x7fdbda372950>,\n",
       " <Element 'row' at 0x7fdbda372a40>,\n",
       " <Element 'row' at 0x7fdbda372a90>,\n",
       " <Element 'row' at 0x7fdbda3729f0>,\n",
       " <Element 'row' at 0x7fdbda372900>,\n",
       " <Element 'row' at 0x7fdbda372ae0>,\n",
       " <Element 'row' at 0x7fdbda372310>]"
      ]
     },
     "execution_count": 6,
     "metadata": {},
     "output_type": "execute_result"
    }
   ],
   "source": [
    "[ parse_post(xml) for xml in posts ]"
   ]
  },
  {
   "cell_type": "code",
   "execution_count": 7,
   "id": "spoken-berkeley",
   "metadata": {},
   "outputs": [
    {
     "data": {
      "text/plain": [
       "ClientContext(dashboard_url='127.0.0.1:8265', python_version='3.8.10', ray_version='1.12.0', ray_commit='f18fc31c7562990955556899090f8e8656b48d2d', protocol_version='2022-03-16', _num_clients=2, _context_to_restore=<ray.util.client._ClientContext object at 0x7fdbdecca700>)"
      ]
     },
     "execution_count": 7,
     "metadata": {},
     "output_type": "execute_result"
    }
   ],
   "source": [
    "# Start Ray. If you're connecting to an existing cluster, you would use\n",
    "# ray.init(address=<cluster-address>) instead.\n",
    "ray.init(address='ray://192.168.2.133:10001')"
   ]
  },
  {
   "cell_type": "code",
   "execution_count": 8,
   "id": "formed-teaching",
   "metadata": {},
   "outputs": [],
   "source": [
    "@ray.remote\n",
    "def parse_post(xml):\n",
    "    post = etree.fromstring(xml)\n",
    "    print(post.get('Id'))\n",
    "    return post"
   ]
  },
  {
   "cell_type": "code",
   "execution_count": 9,
   "id": "stock-maintenance",
   "metadata": {},
   "outputs": [
    {
     "name": "stdout",
     "output_type": "stream",
     "text": [
      "\u001b[2m\u001b[36m(parse_post pid=21391)\u001b[0m 1\n"
     ]
    }
   ],
   "source": [
    "future = parse_post.remote(posts[0])"
   ]
  },
  {
   "cell_type": "code",
   "execution_count": 10,
   "id": "devoted-tours",
   "metadata": {},
   "outputs": [
    {
     "data": {
      "text/plain": [
       "<Element 'row' at 0x7fdbda2f51d0>"
      ]
     },
     "execution_count": 10,
     "metadata": {},
     "output_type": "execute_result"
    }
   ],
   "source": [
    "ray.get(future)"
   ]
  },
  {
   "cell_type": "code",
   "execution_count": 11,
   "id": "political-jumping",
   "metadata": {},
   "outputs": [
    {
     "name": "stdout",
     "output_type": "stream",
     "text": [
      "\u001b[2m\u001b[36m(parse_post pid=21391)\u001b[0m 1\n",
      "\u001b[2m\u001b[36m(parse_post pid=21391)\u001b[0m 2\n",
      "\u001b[2m\u001b[36m(parse_post pid=21391)\u001b[0m 3\n",
      "\u001b[2m\u001b[36m(parse_post pid=21391)\u001b[0m 4\n",
      "\u001b[2m\u001b[36m(parse_post pid=21391)\u001b[0m 5\n",
      "\u001b[2m\u001b[36m(parse_post pid=21391)\u001b[0m 6\n",
      "\u001b[2m\u001b[36m(parse_post pid=21391)\u001b[0m 7\n",
      "\u001b[2m\u001b[36m(parse_post pid=21391)\u001b[0m 8\n",
      "\u001b[2m\u001b[36m(parse_post pid=21391)\u001b[0m 9\n"
     ]
    }
   ],
   "source": [
    "futures = [parse_post.remote(xml) for xml in posts ]"
   ]
  },
  {
   "cell_type": "code",
   "execution_count": 12,
   "id": "pressed-opera",
   "metadata": {},
   "outputs": [
    {
     "data": {
      "text/plain": [
       "[ClientObjectRef(e5cbd90b7f1fb776ffffffffffffffffffffffff0200000001000000),\n",
       " ClientObjectRef(39088be3736e590affffffffffffffffffffffff0200000001000000),\n",
       " ClientObjectRef(ce868e48e2fa9a94ffffffffffffffffffffffff0200000001000000),\n",
       " ClientObjectRef(f81ec6ff838b16dbffffffffffffffffffffffff0200000001000000),\n",
       " ClientObjectRef(32b0eec39cfa87acffffffffffffffffffffffff0200000001000000),\n",
       " ClientObjectRef(80b655a2d9b04d40ffffffffffffffffffffffff0200000001000000),\n",
       " ClientObjectRef(0d12401e8fa9a714ffffffffffffffffffffffff0200000001000000),\n",
       " ClientObjectRef(0021899358e75e3cffffffffffffffffffffffff0200000001000000),\n",
       " ClientObjectRef(0b043f00f0a74796ffffffffffffffffffffffff0200000001000000)]"
      ]
     },
     "execution_count": 12,
     "metadata": {},
     "output_type": "execute_result"
    }
   ],
   "source": [
    "futures"
   ]
  },
  {
   "cell_type": "code",
   "execution_count": 13,
   "id": "removable-toyota",
   "metadata": {},
   "outputs": [
    {
     "data": {
      "text/plain": [
       "[<Element 'row' at 0x7fdbd827b310>,\n",
       " <Element 'row' at 0x7fdbd827b220>,\n",
       " <Element 'row' at 0x7fdbd827b400>,\n",
       " <Element 'row' at 0x7fdbd827b450>,\n",
       " <Element 'row' at 0x7fdbd827b4a0>,\n",
       " <Element 'row' at 0x7fdbd827b4f0>,\n",
       " <Element 'row' at 0x7fdbd827b540>,\n",
       " <Element 'row' at 0x7fdbd827b5e0>,\n",
       " <Element 'row' at 0x7fdbd827b630>]"
      ]
     },
     "execution_count": 13,
     "metadata": {},
     "output_type": "execute_result"
    }
   ],
   "source": [
    "ray.get(futures)"
   ]
  },
  {
   "cell_type": "code",
   "execution_count": null,
   "id": "straight-handling",
   "metadata": {},
   "outputs": [],
   "source": [
    "[ el.get('Id') for el in ray.get(futures) ]"
   ]
  },
  {
   "cell_type": "code",
   "execution_count": null,
   "id": "popular-comparative",
   "metadata": {},
   "outputs": [],
   "source": [
    "# similar to rdd.cache()\n",
    "ref = ray.put(\"Jonathan\")"
   ]
  },
  {
   "cell_type": "code",
   "execution_count": null,
   "id": "drawn-mobility",
   "metadata": {},
   "outputs": [],
   "source": [
    "ray.get(ref)"
   ]
  },
  {
   "cell_type": "code",
   "execution_count": null,
   "id": "congressional-neighborhood",
   "metadata": {},
   "outputs": [],
   "source": [
    "ref"
   ]
  },
  {
   "cell_type": "markdown",
   "id": "possible-afternoon",
   "metadata": {},
   "source": [
    "## Actors\n",
    "\n",
    "Scheme made them [concrete](https://dspace.mit.edu/handle/1721.1/5794). Erlang made them [useful](https://erlang.org/doc/getting_started/conc_prog.html). Akka made them [cool](https://akka.io/). And now Ray makes them [easy](https://docs.ray.io/en/latest/ray-overview/index.html)!"
   ]
  },
  {
   "cell_type": "code",
   "execution_count": null,
   "id": "threaded-blank",
   "metadata": {},
   "outputs": [],
   "source": [
    "!pip install faker"
   ]
  },
  {
   "cell_type": "code",
   "execution_count": null,
   "id": "unknown-cream",
   "metadata": {},
   "outputs": [],
   "source": [
    "@ray.remote\n",
    "class Child(object):\n",
    "    def __init__(self):\n",
    "        from faker import Faker\n",
    "        self.name = Faker().name()\n",
    "        self.age = 1\n",
    "        \n",
    "    def grow(self):\n",
    "        self.age += 1\n",
    "        return self.age\n",
    "    \n",
    "    def greet(self):\n",
    "        return (\n",
    "            f'My name is {self.name} '\n",
    "            f'and I am {self.age} years old'\n",
    "        )"
   ]
  },
  {
   "cell_type": "code",
   "execution_count": null,
   "id": "changed-heading",
   "metadata": {},
   "outputs": [],
   "source": [
    "children = [Child.remote() for i in range(10)]"
   ]
  },
  {
   "cell_type": "code",
   "execution_count": null,
   "id": "afraid-anxiety",
   "metadata": {},
   "outputs": [],
   "source": [
    "children"
   ]
  },
  {
   "cell_type": "code",
   "execution_count": null,
   "id": "devoted-defendant",
   "metadata": {},
   "outputs": [],
   "source": [
    "futures = [ c.greet.remote() for c in children ]"
   ]
  },
  {
   "cell_type": "code",
   "execution_count": null,
   "id": "dirty-laugh",
   "metadata": {},
   "outputs": [],
   "source": [
    "futures"
   ]
  },
  {
   "cell_type": "code",
   "execution_count": null,
   "id": "marked-median",
   "metadata": {},
   "outputs": [],
   "source": [
    "for future in ray.get(futures):\n",
    "    print(future)"
   ]
  },
  {
   "cell_type": "code",
   "execution_count": null,
   "id": "rubber-logic",
   "metadata": {},
   "outputs": [],
   "source": [
    "for c in children:\n",
    "    for _ in range(random.randint(1,10)):\n",
    "        c.grow.remote()"
   ]
  },
  {
   "cell_type": "code",
   "execution_count": null,
   "id": "broad-reason",
   "metadata": {},
   "outputs": [],
   "source": [
    "for future in ray.get([ c.greet.remote() for c in children ]):\n",
    "    print(future)"
   ]
  },
  {
   "cell_type": "code",
   "execution_count": null,
   "id": "amino-elimination",
   "metadata": {},
   "outputs": [],
   "source": [
    "c = children[0]"
   ]
  },
  {
   "cell_type": "code",
   "execution_count": null,
   "id": "patent-remark",
   "metadata": {},
   "outputs": [],
   "source": [
    "ray.get([c.grow.remote() for _ in range(5)])"
   ]
  },
  {
   "cell_type": "code",
   "execution_count": null,
   "id": "fitting-authentication",
   "metadata": {},
   "outputs": [],
   "source": [
    "# actors stay around as long as they are in scope\n",
    "# since nothing really goes out of scope in a notebook\n",
    "# we have to manually terminate them\n",
    "[ ray.kill(person) for person in children ]"
   ]
  },
  {
   "cell_type": "code",
   "execution_count": null,
   "id": "confidential-rebel",
   "metadata": {},
   "outputs": [],
   "source": [
    "ray.shutdown()"
   ]
  },
  {
   "cell_type": "markdown",
   "id": "sunset-brake",
   "metadata": {},
   "source": [
    "## Simulating a pandemic\n",
    "\n",
    "> note this is a toy model simulation, results should not be used to inform health decisions or personal behavior\n",
    "\n",
    "### The SIR epidemic model:\n",
    "\n",
    "$S(t)$: susceptible individuals who have not yet been infected at time $t$\n",
    "\n",
    "$I(t)$: number of infectious individuals at time $t$\n",
    "\n",
    "$R(t)$: number of individuals who have recovered (and are immune) at time $t$\n",
    "\n",
    "#### Parameters\n",
    "\n",
    "$\\beta$: probablity of transmitted the disease from an infected to a susceptible individual\n",
    "\n",
    "$\\gamma$: recovery rate ~ $\\frac{1}{\\text{duration of disease}}$\n",
    "\n",
    "We will follow the [EMOD compartamental model](https://idmod.org/docs/emod/malaria/model-compartments.html) to simulate the SIR model as a series of discrete timesteps. For something like reinforcement learning, instead of disease dynamics you simulate actions in an environment/game."
   ]
  },
  {
   "cell_type": "code",
   "execution_count": null,
   "id": "peripheral-wrapping",
   "metadata": {},
   "outputs": [],
   "source": [
    "ray.init(logging_level=logging.ERROR)"
   ]
  },
  {
   "cell_type": "code",
   "execution_count": null,
   "id": "confused-nebraska",
   "metadata": {},
   "outputs": [],
   "source": [
    "# parameters\n",
    "b = 0.5\n",
    "b_0 = 0.2\n",
    "g = 0.2\n",
    "dim = 5"
   ]
  },
  {
   "cell_type": "code",
   "execution_count": null,
   "id": "proved-orleans",
   "metadata": {},
   "outputs": [],
   "source": [
    "@ray.remote\n",
    "class Person(object):\n",
    "    def __init__(self, i):\n",
    "        self.index = i\n",
    "        self.state = 'i' if random.random() < b_0 else 's'\n",
    "        self.x = random.randint(0, dim)\n",
    "        self.y = random.randint(0, dim)\n",
    "        \n",
    "    def location(self):\n",
    "        return (self.x, self.y)\n",
    "    \n",
    "    def health(self):\n",
    "        return self.state\n",
    "    \n",
    "    def index(self):\n",
    "        return self.index\n",
    "    \n",
    "    def status(self):\n",
    "        return f\"Individual {self.index} at {self.location()} is currently {self.state}\"\n",
    "       \n",
    "    def walk(self):\n",
    "        if self.state == 'i':\n",
    "            if random.random() < g:\n",
    "                print(f\"{self.index} has recovered ⚕️\")\n",
    "                self.state = 'r'\n",
    "\n",
    "        self.x += random.randint(-1, 1)\n",
    "        self.y += random.randint(-1, 1)\n",
    "        \n",
    "        self.x = max(min(self.x, dim), 0)\n",
    "        self.y = max(min(self.y, dim), 0)\n",
    "        \n",
    "    def contract(self):\n",
    "        print(f\"{self.index} has become sick 🤮\")\n",
    "        self.state = 'i'\n",
    "        \n",
    "    def interact(self, stranger):\n",
    "        x, y = ray.get(stranger.location.remote())\n",
    "        state = ray.get(stranger.health.remote())\n",
    "        \n",
    "        # is the stranger close to me\n",
    "        if (abs(x - self.x) <= 1) and (abs(y - self.y) <= 1):\n",
    "            # is either of us infected?\n",
    "            if self.state == 'i' or state == 'i':\n",
    "                # can either of us _get_ infected?\n",
    "                if self.state == 's' or state == 's':\n",
    "                    # which one of us can get the disease\n",
    "                    contract = self.contract if self.state == 's' else stranger.contract.remote\n",
    "                    \n",
    "                    # roll the dice babeeeeee\n",
    "                    if random.random() < b:\n",
    "                        contract()"
   ]
  },
  {
   "cell_type": "code",
   "execution_count": null,
   "id": "fatty-ozone",
   "metadata": {},
   "outputs": [],
   "source": [
    "people = [Person.remote(i) for i in range(15)]"
   ]
  },
  {
   "cell_type": "code",
   "execution_count": null,
   "id": "similar-greene",
   "metadata": {},
   "outputs": [],
   "source": [
    "people"
   ]
  },
  {
   "cell_type": "code",
   "execution_count": null,
   "id": "developmental-oliver",
   "metadata": {},
   "outputs": [],
   "source": [
    "ray.get([p.location.remote() for p in people])"
   ]
  },
  {
   "cell_type": "code",
   "execution_count": null,
   "id": "friendly-cruise",
   "metadata": {},
   "outputs": [],
   "source": [
    "ray.get([p.health.remote() for p in people])"
   ]
  },
  {
   "cell_type": "code",
   "execution_count": null,
   "id": "explicit-flight",
   "metadata": {},
   "outputs": [],
   "source": [
    "from itertools import combinations"
   ]
  },
  {
   "cell_type": "code",
   "execution_count": null,
   "id": "several-reason",
   "metadata": {},
   "outputs": [],
   "source": [
    "for i in range(20):\n",
    "    print(f'\\nIteration {i}\\n\\n')\n",
    "    for person in people:\n",
    "        person.walk.remote()\n",
    "        \n",
    "    pairs = list(combinations(people, 2))\n",
    "    \n",
    "    for p1, p2 in pairs:\n",
    "        p1.interact.remote(p2)"
   ]
  },
  {
   "cell_type": "code",
   "execution_count": null,
   "id": "received-receiver",
   "metadata": {},
   "outputs": [],
   "source": [
    "for person in people:\n",
    "    print(ray.get(person.status.remote()))"
   ]
  },
  {
   "cell_type": "code",
   "execution_count": null,
   "id": "statewide-baker",
   "metadata": {},
   "outputs": [],
   "source": []
  }
 ],
 "metadata": {
  "kernelspec": {
   "display_name": "Python 3 (ipykernel)",
   "language": "python",
   "name": "python3"
  },
  "language_info": {
   "codemirror_mode": {
    "name": "ipython",
    "version": 3
   },
   "file_extension": ".py",
   "mimetype": "text/x-python",
   "name": "python",
   "nbconvert_exporter": "python",
   "pygments_lexer": "ipython3",
   "version": "3.8.10"
  }
 },
 "nbformat": 4,
 "nbformat_minor": 5
}
