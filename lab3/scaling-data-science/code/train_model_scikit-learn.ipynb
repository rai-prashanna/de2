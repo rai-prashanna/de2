{
 "cells": [
  {
   "cell_type": "code",
   "execution_count": 1,
   "id": "transparent-polymer",
   "metadata": {},
   "outputs": [],
   "source": [
    "import ray, logging, pickle\n",
    "\n",
    "import pandas as pd\n",
    "import numpy as np\n",
    "from scipy.sparse import vstack, load_npz\n",
    "import xml.etree.ElementTree as etree\n",
    "\n",
    "import seaborn as sns\n",
    "import matplotlib.pyplot as plt\n",
    "\n",
    "from sklearn.linear_model import SGDClassifier, LogisticRegression\n",
    "from sklearn.model_selection import cross_val_score, train_test_split\n",
    "from sklearn.metrics import classification_report\n",
    "\n",
    "%matplotlib inline"
   ]
  },
  {
   "cell_type": "code",
   "execution_count": 2,
   "id": "printable-duncan",
   "metadata": {},
   "outputs": [
    {
     "data": {
      "text/plain": [
       "{'node_ip_address': '172.17.0.2',\n",
       " 'raylet_ip_address': '172.17.0.2',\n",
       " 'redis_address': '172.17.0.2:6379',\n",
       " 'object_store_address': '/tmp/ray/session_2021-06-16_18-50-41_374341_172/sockets/plasma_store',\n",
       " 'raylet_socket_name': '/tmp/ray/session_2021-06-16_18-50-41_374341_172/sockets/raylet',\n",
       " 'webui_url': '127.0.0.1:8265',\n",
       " 'session_dir': '/tmp/ray/session_2021-06-16_18-50-41_374341_172',\n",
       " 'metrics_export_port': 65324,\n",
       " 'node_id': '1ade9eab55441fd1087169b80e19824e573f89ea8b13d6772f28092c'}"
      ]
     },
     "execution_count": 2,
     "metadata": {},
     "output_type": "execute_result"
    }
   ],
   "source": [
    "# Start Ray. If you're connecting to an existing cluster, you would use\n",
    "# ray.init(address=<cluster-address>) instead.\n",
    "ray.init(logging_level=logging.ERROR)"
   ]
  },
  {
   "cell_type": "code",
   "execution_count": 3,
   "id": "square-withdrawal",
   "metadata": {},
   "outputs": [],
   "source": [
    "@ray.remote\n",
    "def parse_post(xml):\n",
    "    post = { k: v for (k, v) in etree.fromstring(xml).items() if k in ['Id', 'Title', 'Body', 'AcceptedAnswerId', 'Score'] }\n",
    "    return post"
   ]
  },
  {
   "cell_type": "code",
   "execution_count": 5,
   "id": "enhanced-solid",
   "metadata": {},
   "outputs": [],
   "source": [
    "# Posts.xml can be downloaded from \n",
    "futures = [parse_post.remote(xml) for xml in open('data/Posts.xml', 'r') ]"
   ]
  },
  {
   "cell_type": "code",
   "execution_count": 6,
   "id": "cellular-frontier",
   "metadata": {},
   "outputs": [],
   "source": [
    "posts = ray.get(futures)"
   ]
  },
  {
   "cell_type": "code",
   "execution_count": 7,
   "id": "experimental-exercise",
   "metadata": {},
   "outputs": [
    {
     "data": {
      "text/plain": [
       "340838"
      ]
     },
     "execution_count": 7,
     "metadata": {},
     "output_type": "execute_result"
    }
   ],
   "source": [
    "len(posts)"
   ]
  },
  {
   "cell_type": "code",
   "execution_count": 8,
   "id": "criminal-demand",
   "metadata": {},
   "outputs": [
    {
     "data": {
      "text/plain": [
       "{'Id': '1',\n",
       " 'AcceptedAnswerId': '15',\n",
       " 'Score': '48',\n",
       " 'Body': '<p>How should I elicit prior distributions from experts when fitting a Bayesian model?</p>\\n',\n",
       " 'Title': 'Eliciting priors from experts'}"
      ]
     },
     "execution_count": 8,
     "metadata": {},
     "output_type": "execute_result"
    }
   ],
   "source": [
    "posts[0]"
   ]
  },
  {
   "cell_type": "code",
   "execution_count": 9,
   "id": "flush-document",
   "metadata": {},
   "outputs": [],
   "source": [
    "df = pd.DataFrame(posts)"
   ]
  },
  {
   "cell_type": "code",
   "execution_count": 10,
   "id": "killing-tourist",
   "metadata": {},
   "outputs": [
    {
     "data": {
      "text/html": [
       "<div>\n",
       "<style scoped>\n",
       "    .dataframe tbody tr th:only-of-type {\n",
       "        vertical-align: middle;\n",
       "    }\n",
       "\n",
       "    .dataframe tbody tr th {\n",
       "        vertical-align: top;\n",
       "    }\n",
       "\n",
       "    .dataframe thead th {\n",
       "        text-align: right;\n",
       "    }\n",
       "</style>\n",
       "<table border=\"1\" class=\"dataframe\">\n",
       "  <thead>\n",
       "    <tr style=\"text-align: right;\">\n",
       "      <th></th>\n",
       "      <th>Id</th>\n",
       "      <th>AcceptedAnswerId</th>\n",
       "      <th>Score</th>\n",
       "      <th>Body</th>\n",
       "      <th>Title</th>\n",
       "    </tr>\n",
       "  </thead>\n",
       "  <tbody>\n",
       "    <tr>\n",
       "      <th>0</th>\n",
       "      <td>1</td>\n",
       "      <td>15</td>\n",
       "      <td>48</td>\n",
       "      <td>&lt;p&gt;How should I elicit prior distributions fro...</td>\n",
       "      <td>Eliciting priors from experts</td>\n",
       "    </tr>\n",
       "    <tr>\n",
       "      <th>1</th>\n",
       "      <td>2</td>\n",
       "      <td>59</td>\n",
       "      <td>34</td>\n",
       "      <td>&lt;p&gt;In many different statistical methods there...</td>\n",
       "      <td>What is normality?</td>\n",
       "    </tr>\n",
       "    <tr>\n",
       "      <th>2</th>\n",
       "      <td>3</td>\n",
       "      <td>5</td>\n",
       "      <td>71</td>\n",
       "      <td>&lt;p&gt;What are some valuable Statistical Analysis...</td>\n",
       "      <td>What are some valuable Statistical Analysis op...</td>\n",
       "    </tr>\n",
       "    <tr>\n",
       "      <th>3</th>\n",
       "      <td>4</td>\n",
       "      <td>135</td>\n",
       "      <td>23</td>\n",
       "      <td>&lt;p&gt;I have two groups of data.  Each with a dif...</td>\n",
       "      <td>Assessing the significance of differences in d...</td>\n",
       "    </tr>\n",
       "    <tr>\n",
       "      <th>4</th>\n",
       "      <td>5</td>\n",
       "      <td>NaN</td>\n",
       "      <td>90</td>\n",
       "      <td>&lt;p&gt;The R-project&lt;/p&gt;\\n\\n&lt;p&gt;&lt;a href=\"http://www...</td>\n",
       "      <td>NaN</td>\n",
       "    </tr>\n",
       "  </tbody>\n",
       "</table>\n",
       "</div>"
      ],
      "text/plain": [
       "  Id AcceptedAnswerId Score  \\\n",
       "0  1               15    48   \n",
       "1  2               59    34   \n",
       "2  3                5    71   \n",
       "3  4              135    23   \n",
       "4  5              NaN    90   \n",
       "\n",
       "                                                Body  \\\n",
       "0  <p>How should I elicit prior distributions fro...   \n",
       "1  <p>In many different statistical methods there...   \n",
       "2  <p>What are some valuable Statistical Analysis...   \n",
       "3  <p>I have two groups of data.  Each with a dif...   \n",
       "4  <p>The R-project</p>\\n\\n<p><a href=\"http://www...   \n",
       "\n",
       "                                               Title  \n",
       "0                      Eliciting priors from experts  \n",
       "1                                 What is normality?  \n",
       "2  What are some valuable Statistical Analysis op...  \n",
       "3  Assessing the significance of differences in d...  \n",
       "4                                                NaN  "
      ]
     },
     "execution_count": 10,
     "metadata": {},
     "output_type": "execute_result"
    }
   ],
   "source": [
    "df.head()"
   ]
  },
  {
   "cell_type": "code",
   "execution_count": 11,
   "id": "dominant-guest",
   "metadata": {},
   "outputs": [],
   "source": [
    "df['Score'] = df['Score'].astype(int)"
   ]
  },
  {
   "cell_type": "code",
   "execution_count": 12,
   "id": "indonesian-overview",
   "metadata": {},
   "outputs": [
    {
     "data": {
      "text/plain": [
       "<AxesSubplot:ylabel='Density'>"
      ]
     },
     "execution_count": 12,
     "metadata": {},
     "output_type": "execute_result"
    },
    {
     "data": {
      "image/png": "[encoded data removed]",
      "text/plain": [
       "<Figure size 432x288 with 1 Axes>"
      ]
     },
     "metadata": {
      "needs_background": "light"
     },
     "output_type": "display_data"
    }
   ],
   "source": [
    "df.Score.plot.kde()"
   ]
  },
  {
   "cell_type": "code",
   "execution_count": 13,
   "id": "dominant-mirror",
   "metadata": {},
   "outputs": [
    {
     "data": {
      "text/plain": [
       "count    340838.000000\n",
       "mean          3.101990\n",
       "std           9.324895\n",
       "min         -56.000000\n",
       "25%           1.000000\n",
       "50%           1.000000\n",
       "75%           3.000000\n",
       "max        1541.000000\n",
       "Name: Score, dtype: float64"
      ]
     },
     "execution_count": 13,
     "metadata": {},
     "output_type": "execute_result"
    }
   ],
   "source": [
    "df.Score.describe()"
   ]
  },
  {
   "cell_type": "code",
   "execution_count": 14,
   "id": "african-assault",
   "metadata": {},
   "outputs": [
    {
     "data": {
      "text/html": [
       "<div>\n",
       "<style scoped>\n",
       "    .dataframe tbody tr th:only-of-type {\n",
       "        vertical-align: middle;\n",
       "    }\n",
       "\n",
       "    .dataframe tbody tr th {\n",
       "        vertical-align: top;\n",
       "    }\n",
       "\n",
       "    .dataframe thead th {\n",
       "        text-align: right;\n",
       "    }\n",
       "</style>\n",
       "<table border=\"1\" class=\"dataframe\">\n",
       "  <thead>\n",
       "    <tr style=\"text-align: right;\">\n",
       "      <th></th>\n",
       "      <th>Id</th>\n",
       "      <th>AcceptedAnswerId</th>\n",
       "      <th>Score</th>\n",
       "      <th>Body</th>\n",
       "      <th>Title</th>\n",
       "    </tr>\n",
       "  </thead>\n",
       "  <tbody>\n",
       "    <tr>\n",
       "      <th>0</th>\n",
       "      <td>1</td>\n",
       "      <td>15</td>\n",
       "      <td>48</td>\n",
       "      <td>&lt;p&gt;How should I elicit prior distributions fro...</td>\n",
       "      <td>Eliciting priors from experts</td>\n",
       "    </tr>\n",
       "    <tr>\n",
       "      <th>1</th>\n",
       "      <td>2</td>\n",
       "      <td>59</td>\n",
       "      <td>34</td>\n",
       "      <td>&lt;p&gt;In many different statistical methods there...</td>\n",
       "      <td>What is normality?</td>\n",
       "    </tr>\n",
       "    <tr>\n",
       "      <th>2</th>\n",
       "      <td>3</td>\n",
       "      <td>5</td>\n",
       "      <td>71</td>\n",
       "      <td>&lt;p&gt;What are some valuable Statistical Analysis...</td>\n",
       "      <td>What are some valuable Statistical Analysis op...</td>\n",
       "    </tr>\n",
       "    <tr>\n",
       "      <th>3</th>\n",
       "      <td>4</td>\n",
       "      <td>135</td>\n",
       "      <td>23</td>\n",
       "      <td>&lt;p&gt;I have two groups of data.  Each with a dif...</td>\n",
       "      <td>Assessing the significance of differences in d...</td>\n",
       "    </tr>\n",
       "    <tr>\n",
       "      <th>4</th>\n",
       "      <td>5</td>\n",
       "      <td>NaN</td>\n",
       "      <td>90</td>\n",
       "      <td>&lt;p&gt;The R-project&lt;/p&gt;\\n\\n&lt;p&gt;&lt;a href=\"http://www...</td>\n",
       "      <td>NaN</td>\n",
       "    </tr>\n",
       "  </tbody>\n",
       "</table>\n",
       "</div>"
      ],
      "text/plain": [
       "  Id AcceptedAnswerId  Score  \\\n",
       "0  1               15     48   \n",
       "1  2               59     34   \n",
       "2  3                5     71   \n",
       "3  4              135     23   \n",
       "4  5              NaN     90   \n",
       "\n",
       "                                                Body  \\\n",
       "0  <p>How should I elicit prior distributions fro...   \n",
       "1  <p>In many different statistical methods there...   \n",
       "2  <p>What are some valuable Statistical Analysis...   \n",
       "3  <p>I have two groups of data.  Each with a dif...   \n",
       "4  <p>The R-project</p>\\n\\n<p><a href=\"http://www...   \n",
       "\n",
       "                                               Title  \n",
       "0                      Eliciting priors from experts  \n",
       "1                                 What is normality?  \n",
       "2  What are some valuable Statistical Analysis op...  \n",
       "3  Assessing the significance of differences in d...  \n",
       "4                                                NaN  "
      ]
     },
     "execution_count": 14,
     "metadata": {},
     "output_type": "execute_result"
    }
   ],
   "source": [
    "df.head()"
   ]
  },
  {
   "cell_type": "code",
   "execution_count": 15,
   "id": "cellular-spokesman",
   "metadata": {},
   "outputs": [],
   "source": [
    "filtered = df.dropna(subset=['Body', 'Title']).copy()"
   ]
  },
  {
   "cell_type": "code",
   "execution_count": 16,
   "id": "selective-baker",
   "metadata": {},
   "outputs": [
    {
     "data": {
      "text/html": [
       "<div>\n",
       "<style scoped>\n",
       "    .dataframe tbody tr th:only-of-type {\n",
       "        vertical-align: middle;\n",
       "    }\n",
       "\n",
       "    .dataframe tbody tr th {\n",
       "        vertical-align: top;\n",
       "    }\n",
       "\n",
       "    .dataframe thead th {\n",
       "        text-align: right;\n",
       "    }\n",
       "</style>\n",
       "<table border=\"1\" class=\"dataframe\">\n",
       "  <thead>\n",
       "    <tr style=\"text-align: right;\">\n",
       "      <th></th>\n",
       "      <th>Score</th>\n",
       "    </tr>\n",
       "  </thead>\n",
       "  <tbody>\n",
       "    <tr>\n",
       "      <th>count</th>\n",
       "      <td>171236.00000</td>\n",
       "    </tr>\n",
       "    <tr>\n",
       "      <th>mean</th>\n",
       "      <td>2.73919</td>\n",
       "    </tr>\n",
       "    <tr>\n",
       "      <th>std</th>\n",
       "      <td>8.65931</td>\n",
       "    </tr>\n",
       "    <tr>\n",
       "      <th>min</th>\n",
       "      <td>-14.00000</td>\n",
       "    </tr>\n",
       "    <tr>\n",
       "      <th>25%</th>\n",
       "      <td>0.00000</td>\n",
       "    </tr>\n",
       "    <tr>\n",
       "      <th>50%</th>\n",
       "      <td>1.00000</td>\n",
       "    </tr>\n",
       "    <tr>\n",
       "      <th>75%</th>\n",
       "      <td>3.00000</td>\n",
       "    </tr>\n",
       "    <tr>\n",
       "      <th>max</th>\n",
       "      <td>1118.00000</td>\n",
       "    </tr>\n",
       "  </tbody>\n",
       "</table>\n",
       "</div>"
      ],
      "text/plain": [
       "              Score\n",
       "count  171236.00000\n",
       "mean        2.73919\n",
       "std         8.65931\n",
       "min       -14.00000\n",
       "25%         0.00000\n",
       "50%         1.00000\n",
       "75%         3.00000\n",
       "max      1118.00000"
      ]
     },
     "execution_count": 16,
     "metadata": {},
     "output_type": "execute_result"
    }
   ],
   "source": [
    "filtered.describe()"
   ]
  },
  {
   "cell_type": "code",
   "execution_count": 17,
   "id": "subject-checklist",
   "metadata": {},
   "outputs": [
    {
     "data": {
      "text/plain": [
       "6899"
      ]
     },
     "execution_count": 17,
     "metadata": {},
     "output_type": "execute_result"
    }
   ],
   "source": [
    "(filtered.Score > 10).sum()"
   ]
  },
  {
   "cell_type": "code",
   "execution_count": 18,
   "id": "weird-edward",
   "metadata": {},
   "outputs": [],
   "source": [
    "filtered['label'] = filtered.Score > 10"
   ]
  },
  {
   "cell_type": "code",
   "execution_count": 19,
   "id": "canadian-tennis",
   "metadata": {},
   "outputs": [
    {
     "data": {
      "text/html": [
       "<div>\n",
       "<style scoped>\n",
       "    .dataframe tbody tr th:only-of-type {\n",
       "        vertical-align: middle;\n",
       "    }\n",
       "\n",
       "    .dataframe tbody tr th {\n",
       "        vertical-align: top;\n",
       "    }\n",
       "\n",
       "    .dataframe thead th {\n",
       "        text-align: right;\n",
       "    }\n",
       "</style>\n",
       "<table border=\"1\" class=\"dataframe\">\n",
       "  <thead>\n",
       "    <tr style=\"text-align: right;\">\n",
       "      <th></th>\n",
       "      <th>Id</th>\n",
       "      <th>AcceptedAnswerId</th>\n",
       "      <th>Score</th>\n",
       "      <th>Body</th>\n",
       "      <th>Title</th>\n",
       "      <th>label</th>\n",
       "    </tr>\n",
       "  </thead>\n",
       "  <tbody>\n",
       "    <tr>\n",
       "      <th>0</th>\n",
       "      <td>1</td>\n",
       "      <td>15</td>\n",
       "      <td>48</td>\n",
       "      <td>&lt;p&gt;How should I elicit prior distributions fro...</td>\n",
       "      <td>Eliciting priors from experts</td>\n",
       "      <td>True</td>\n",
       "    </tr>\n",
       "    <tr>\n",
       "      <th>1</th>\n",
       "      <td>2</td>\n",
       "      <td>59</td>\n",
       "      <td>34</td>\n",
       "      <td>&lt;p&gt;In many different statistical methods there...</td>\n",
       "      <td>What is normality?</td>\n",
       "      <td>True</td>\n",
       "    </tr>\n",
       "    <tr>\n",
       "      <th>2</th>\n",
       "      <td>3</td>\n",
       "      <td>5</td>\n",
       "      <td>71</td>\n",
       "      <td>&lt;p&gt;What are some valuable Statistical Analysis...</td>\n",
       "      <td>What are some valuable Statistical Analysis op...</td>\n",
       "      <td>True</td>\n",
       "    </tr>\n",
       "    <tr>\n",
       "      <th>3</th>\n",
       "      <td>4</td>\n",
       "      <td>135</td>\n",
       "      <td>23</td>\n",
       "      <td>&lt;p&gt;I have two groups of data.  Each with a dif...</td>\n",
       "      <td>Assessing the significance of differences in d...</td>\n",
       "      <td>True</td>\n",
       "    </tr>\n",
       "    <tr>\n",
       "      <th>5</th>\n",
       "      <td>6</td>\n",
       "      <td>NaN</td>\n",
       "      <td>458</td>\n",
       "      <td>&lt;p&gt;Last year, I read a blog post from &lt;a href=...</td>\n",
       "      <td>The Two Cultures: statistics vs. machine learn...</td>\n",
       "      <td>True</td>\n",
       "    </tr>\n",
       "  </tbody>\n",
       "</table>\n",
       "</div>"
      ],
      "text/plain": [
       "  Id AcceptedAnswerId  Score  \\\n",
       "0  1               15     48   \n",
       "1  2               59     34   \n",
       "2  3                5     71   \n",
       "3  4              135     23   \n",
       "5  6              NaN    458   \n",
       "\n",
       "                                                Body  \\\n",
       "0  <p>How should I elicit prior distributions fro...   \n",
       "1  <p>In many different statistical methods there...   \n",
       "2  <p>What are some valuable Statistical Analysis...   \n",
       "3  <p>I have two groups of data.  Each with a dif...   \n",
       "5  <p>Last year, I read a blog post from <a href=...   \n",
       "\n",
       "                                               Title  label  \n",
       "0                      Eliciting priors from experts   True  \n",
       "1                                 What is normality?   True  \n",
       "2  What are some valuable Statistical Analysis op...   True  \n",
       "3  Assessing the significance of differences in d...   True  \n",
       "5  The Two Cultures: statistics vs. machine learn...   True  "
      ]
     },
     "execution_count": 19,
     "metadata": {},
     "output_type": "execute_result"
    }
   ],
   "source": [
    "filtered.head()"
   ]
  },
  {
   "cell_type": "code",
   "execution_count": 20,
   "id": "activated-georgia",
   "metadata": {},
   "outputs": [
    {
     "data": {
      "text/plain": [
       "False    164337\n",
       "True       6899\n",
       "Name: label, dtype: int64"
      ]
     },
     "execution_count": 20,
     "metadata": {},
     "output_type": "execute_result"
    }
   ],
   "source": [
    "filtered.label.value_counts()"
   ]
  },
  {
   "cell_type": "code",
   "execution_count": 21,
   "id": "brilliant-senior",
   "metadata": {},
   "outputs": [],
   "source": [
    "features = filtered[(filtered.Score < 1) & (filtered.label == False)].sample(n=7500).append(filtered[filtered.label == True])"
   ]
  },
  {
   "cell_type": "code",
   "execution_count": 22,
   "id": "verbal-savannah",
   "metadata": {},
   "outputs": [
    {
     "data": {
      "text/plain": [
       "False    7500\n",
       "True     6899\n",
       "Name: label, dtype: int64"
      ]
     },
     "execution_count": 22,
     "metadata": {},
     "output_type": "execute_result"
    }
   ],
   "source": [
    "features.label.value_counts()"
   ]
  },
  {
   "cell_type": "code",
   "execution_count": 23,
   "id": "prospective-resolution",
   "metadata": {},
   "outputs": [],
   "source": [
    "X_train, X_test, y_train, y_test = train_test_split(features.Body.values, features.label.values, test_size=0.2)"
   ]
  },
  {
   "cell_type": "code",
   "execution_count": 24,
   "id": "surprising-medline",
   "metadata": {},
   "outputs": [],
   "source": [
    "# with open('data/test_data.pickle', \"wb\") as f:\n",
    "#     pickle.dump({\"X\": X_test, \"y\": y_test}, f)"
   ]
  },
  {
   "cell_type": "code",
   "execution_count": 25,
   "id": "judicial-major",
   "metadata": {},
   "outputs": [],
   "source": [
    "from sklearn.feature_extraction.text import TfidfVectorizer"
   ]
  },
  {
   "cell_type": "code",
   "execution_count": 26,
   "id": "advance-bloom",
   "metadata": {},
   "outputs": [],
   "source": [
    "vectorizer = TfidfVectorizer(stop_words='english')"
   ]
  },
  {
   "cell_type": "code",
   "execution_count": 27,
   "id": "quick-session",
   "metadata": {},
   "outputs": [],
   "source": [
    "X_vectors = vectorizer.fit_transform(X_train)\n",
    "test_vectors = vectorizer.transform(X_test)"
   ]
  },
  {
   "cell_type": "code",
   "execution_count": 28,
   "id": "working-serial",
   "metadata": {},
   "outputs": [],
   "source": [
    "clf = LogisticRegression(solver='liblinear')"
   ]
  },
  {
   "cell_type": "code",
   "execution_count": 29,
   "id": "juvenile-headquarters",
   "metadata": {},
   "outputs": [
    {
     "data": {
      "text/plain": [
       "LogisticRegression(solver='liblinear')"
      ]
     },
     "execution_count": 29,
     "metadata": {},
     "output_type": "execute_result"
    }
   ],
   "source": [
    "# fit model to training data\n",
    "clf.fit(X_vectors, y_train)"
   ]
  },
  {
   "cell_type": "code",
   "execution_count": 30,
   "id": "round-worker",
   "metadata": {},
   "outputs": [
    {
     "data": {
      "text/plain": [
       "array([False, False,  True, ...,  True, False, False])"
      ]
     },
     "execution_count": 30,
     "metadata": {},
     "output_type": "execute_result"
    }
   ],
   "source": [
    "# make predictions\n",
    "predictions = clf.predict(test_vectors)\n",
    "predictions"
   ]
  },
  {
   "cell_type": "code",
   "execution_count": 31,
   "id": "decreased-cooler",
   "metadata": {},
   "outputs": [
    {
     "name": "stdout",
     "output_type": "stream",
     "text": [
      "              precision    recall  f1-score   support\n",
      "\n",
      "       False       0.76      0.76      0.76      1520\n",
      "        True       0.73      0.73      0.73      1360\n",
      "\n",
      "    accuracy                           0.75      2880\n",
      "   macro avg       0.75      0.75      0.75      2880\n",
      "weighted avg       0.75      0.75      0.75      2880\n",
      "\n"
     ]
    }
   ],
   "source": [
    "print(classification_report(y_test, predictions))"
   ]
  },
  {
   "cell_type": "code",
   "execution_count": 32,
   "id": "beautiful-constraint",
   "metadata": {},
   "outputs": [
    {
     "name": "stdout",
     "output_type": "stream",
     "text": [
      "CPU times: user 4.76 s, sys: 0 ns, total: 4.76 s\n",
      "Wall time: 3.85 s\n"
     ]
    }
   ],
   "source": [
    "%%time\n",
    "\n",
    "scores = np.zeros((2, 5))\n",
    "penalty = ['l2', 'l1']\n",
    "alpha = [1e-3, 1e-2, 1e-1, 1, 10]\n",
    "\n",
    "for i, p in enumerate(penalty):\n",
    "    for j, a in enumerate(alpha):\n",
    "        clf = LogisticRegression(C=a, penalty=p, solver='liblinear')\n",
    "        scores[i, j] = cross_val_score(clf, X_vectors, y_train, cv=3).mean()"
   ]
  },
  {
   "cell_type": "code",
   "execution_count": 33,
   "id": "pharmaceutical-palestinian",
   "metadata": {},
   "outputs": [
    {
     "data": {
      "text/plain": [
       "<AxesSubplot:>"
      ]
     },
     "execution_count": 33,
     "metadata": {},
     "output_type": "execute_result"
    },
    {
     "data": {
      "image/png": "[encoded data removed]",
      "text/plain": [
       "<Figure size 432x288 with 2 Axes>"
      ]
     },
     "metadata": {
      "needs_background": "light"
     },
     "output_type": "display_data"
    }
   ],
   "source": [
    "sns.heatmap(scores[:, :], xticklabels=alpha, yticklabels=penalty)"
   ]
  },
  {
   "cell_type": "code",
   "execution_count": 34,
   "id": "parallel-stack",
   "metadata": {},
   "outputs": [
    {
     "data": {
      "text/plain": [
       "8"
      ]
     },
     "execution_count": 34,
     "metadata": {},
     "output_type": "execute_result"
    }
   ],
   "source": [
    "scores.argmax()"
   ]
  },
  {
   "cell_type": "code",
   "execution_count": 35,
   "id": "likely-worry",
   "metadata": {},
   "outputs": [
    {
     "data": {
      "text/plain": [
       "0.7504121398439988"
      ]
     },
     "execution_count": 35,
     "metadata": {},
     "output_type": "execute_result"
    }
   ],
   "source": [
    "scores.max()"
   ]
  },
  {
   "cell_type": "code",
   "execution_count": 36,
   "id": "mobile-stupid",
   "metadata": {},
   "outputs": [
    {
     "data": {
      "text/plain": [
       "LogisticRegression(C=1, penalty='l1', solver='liblinear')"
      ]
     },
     "execution_count": 36,
     "metadata": {},
     "output_type": "execute_result"
    }
   ],
   "source": [
    "# Create model with best performing hyperparameters\n",
    "clf = LogisticRegression(C=1, penalty='l1', solver='liblinear')\n",
    "\n",
    "# Fit on all of your (training) data\n",
    "clf.fit(X_vectors, y_train)"
   ]
  },
  {
   "cell_type": "code",
   "execution_count": 37,
   "id": "abandoned-actor",
   "metadata": {},
   "outputs": [
    {
     "name": "stdout",
     "output_type": "stream",
     "text": [
      "0.7597222222222222\n"
     ]
    }
   ],
   "source": [
    "# Evaluate on Holdout set\n",
    "print(clf.score(test_vectors, y_test))"
   ]
  },
  {
   "cell_type": "code",
   "execution_count": 38,
   "id": "controversial-tamil",
   "metadata": {},
   "outputs": [],
   "source": [
    "# with open('data/model.pickle', \"wb\") as f:\n",
    "#     pickle.dump(clf, f)"
   ]
  },
  {
   "cell_type": "code",
   "execution_count": 39,
   "id": "persistent-ratio",
   "metadata": {},
   "outputs": [],
   "source": [
    "# with open('data/tfidf.pickle', \"wb\") as f:\n",
    "#     pickle.dump(vectorizer, f)"
   ]
  }
 ],
 "metadata": {
  "kernelspec": {
   "display_name": "Python 3",
   "language": "python",
   "name": "python3"
  },
  "language_info": {
   "codemirror_mode": {
    "name": "ipython",
    "version": 3
   },
   "file_extension": ".py",
   "mimetype": "text/x-python",
   "name": "python",
   "nbconvert_exporter": "python",
   "pygments_lexer": "ipython3",
   "version": "3.8.8"
  }
 },
 "nbformat": 4,
 "nbformat_minor": 5
}
