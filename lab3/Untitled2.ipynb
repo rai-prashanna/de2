{
 "cells": [
  {
   "cell_type": "code",
   "execution_count": 1,
   "id": "910e9539-9c7d-4a80-b106-b7b452196622",
   "metadata": {},
   "outputs": [
    {
     "name": "stderr",
     "output_type": "stream",
     "text": [
      "2022-04-29 18:33:30,623\tINFO services.py:1456 -- View the Ray dashboard at \u001b[1m\u001b[32mhttp://127.0.0.1:8267\u001b[39m\u001b[22m\n"
     ]
    },
    {
     "data": {
      "text/plain": [
       "RayContext(dashboard_url='127.0.0.1:8267', python_version='3.8.10', ray_version='1.12.0', ray_commit='f18fc31c7562990955556899090f8e8656b48d2d', address_info={'node_ip_address': '192.168.2.133', 'raylet_ip_address': '192.168.2.133', 'redis_address': None, 'object_store_address': '/tmp/ray/session_2022-04-29_18-33-25_947795_47234/sockets/plasma_store', 'raylet_socket_name': '/tmp/ray/session_2022-04-29_18-33-25_947795_47234/sockets/raylet', 'webui_url': '127.0.0.1:8267', 'session_dir': '/tmp/ray/session_2022-04-29_18-33-25_947795_47234', 'metrics_export_port': 62329, 'gcs_address': '192.168.2.133:59213', 'address': '192.168.2.133:59213', 'node_id': '801ee2cdaf9b83a8e44f7a36e74df3dcb39e8f08796cc3e5b19cab07'})"
      ]
     },
     "execution_count": 1,
     "metadata": {},
     "output_type": "execute_result"
    }
   ],
   "source": [
    "import ray\n",
    "ray.init()\n",
    "\n",
    " "
   ]
  },
  {
   "cell_type": "code",
   "execution_count": 2,
   "id": "f90f74de-ed97-4400-89c3-98c158929727",
   "metadata": {},
   "outputs": [
    {
     "name": "stdout",
     "output_type": "stream",
     "text": [
      "{'name': '0', 'data': 0}\n",
      "{'name': '1', 'data': 1}\n",
      "{'name': '2', 'data': 2}\n",
      "{'name': '3', 'data': 3}\n",
      "{'name': '4', 'data': 4}\n"
     ]
    }
   ],
   "source": [
    "items = [{\"name\": str(i), \"data\": i} for i in range(10000)]\n",
    "ds = ray.data.from_items(items)   \n",
    "ds.show(5) "
   ]
  },
  {
   "cell_type": "code",
   "execution_count": 3,
   "id": "aad757a0-b7d8-492e-971e-f51334a01a06",
   "metadata": {},
   "outputs": [
    {
     "name": "stdout",
     "output_type": "stream",
     "text": [
      "[dataset]: Run `pip install tqdm` to enable progress reporting.\n",
      "[0, 0, 4, 64, 16, 4096, 36, 46656, 64, 262144]\n"
     ]
    }
   ],
   "source": [
    "squares = ds.map(lambda x: x[\"data\"] ** 2)  \n",
    "\n",
    "evens = squares.filter(lambda x: x % 2 == 0)\n",
    "evens.count()\n",
    "\n",
    "cubes = evens.flat_map(lambda x: [x, x**3])  \n",
    "sample = cubes.take(10)  \n",
    "print(sample)"
   ]
  },
  {
   "cell_type": "code",
   "execution_count": 4,
   "id": "814db230-1a47-475a-b299-8d104fa194df",
   "metadata": {},
   "outputs": [
    {
     "ename": "AttributeError",
     "evalue": "'Dataset' object has no attribute 'pipeline'",
     "output_type": "error",
     "traceback": [
      "\u001b[0;31m---------------------------------------------------------------------------\u001b[0m",
      "\u001b[0;31mAttributeError\u001b[0m                            Traceback (most recent call last)",
      "Input \u001b[0;32mIn [4]\u001b[0m, in \u001b[0;36m<cell line: 2>\u001b[0;34m()\u001b[0m\n\u001b[1;32m      1\u001b[0m \u001b[38;5;66;03m# tag::ray_data_pipeline[]\u001b[39;00m\n\u001b[0;32m----> 2\u001b[0m pipe \u001b[38;5;241m=\u001b[39m \u001b[43mds\u001b[49m\u001b[38;5;241;43m.\u001b[39;49m\u001b[43mpipeline\u001b[49m()  \u001b[38;5;66;03m# <1>\u001b[39;00m\n\u001b[1;32m      3\u001b[0m result \u001b[38;5;241m=\u001b[39m pipe\\\n\u001b[1;32m      4\u001b[0m     \u001b[38;5;241m.\u001b[39mmap(\u001b[38;5;28;01mlambda\u001b[39;00m x: x[\u001b[38;5;124m\"\u001b[39m\u001b[38;5;124mdata\u001b[39m\u001b[38;5;124m\"\u001b[39m] \u001b[38;5;241m*\u001b[39m\u001b[38;5;241m*\u001b[39m \u001b[38;5;241m2\u001b[39m)\\\n\u001b[1;32m      5\u001b[0m     \u001b[38;5;241m.\u001b[39mfilter(\u001b[38;5;28;01mlambda\u001b[39;00m x: x \u001b[38;5;241m%\u001b[39m \u001b[38;5;241m2\u001b[39m \u001b[38;5;241m==\u001b[39m \u001b[38;5;241m0\u001b[39m)\\\n\u001b[1;32m      6\u001b[0m     \u001b[38;5;241m.\u001b[39mflat_map(\u001b[38;5;28;01mlambda\u001b[39;00m x: [x, x\u001b[38;5;241m*\u001b[39m\u001b[38;5;241m*\u001b[39m\u001b[38;5;241m3\u001b[39m])  \u001b[38;5;66;03m# <2>\u001b[39;00m\n\u001b[1;32m      7\u001b[0m result\u001b[38;5;241m.\u001b[39mshow(\u001b[38;5;241m10\u001b[39m)\n",
      "\u001b[0;31mAttributeError\u001b[0m: 'Dataset' object has no attribute 'pipeline'"
     ]
    }
   ],
   "source": [
    "# tag::ray_data_pipeline[]\n",
    "pipe = ds.pipeline()  # <1>\n",
    "result = pipe\\\n",
    "    .map(lambda x: x[\"data\"] ** 2)\\\n",
    "    .filter(lambda x: x % 2 == 0)\\\n",
    "    .flat_map(lambda x: [x, x**3])  # <2>\n",
    "result.show(10)\n",
    "# end::ray_data_pipeline[]"
   ]
  },
  {
   "cell_type": "code",
   "execution_count": 1,
   "id": "f684ee3f-e9fc-404f-8fc5-af95b21a446f",
   "metadata": {},
   "outputs": [
    {
     "name": "stderr",
     "output_type": "stream",
     "text": [
      "2022-04-30 11:24:20,788\tINFO services.py:1456 -- View the Ray dashboard at \u001b[1m\u001b[32mhttp://127.0.0.1:8266\u001b[39m\u001b[22m\n",
      "2022-04-30 11:24:24,269\tWARNING function_runner.py:598 -- Function checkpointing is disabled. This may result in unexpected behavior when using checkpointing features or certain schedulers. To enable, set the train function arguments to be `func(config, checkpoint_dir=None)`.\n",
      "2022-04-30 11:24:24,858\tINFO trial_runner.py:803 -- starting training_function_5337a_00000\n"
     ]
    },
    {
     "data": {
      "text/html": [
       "== Status ==<br>Current time: 2022-04-30 11:24:31 (running for 00:00:07.17)<br>Memory usage on this node: 1.7/1.9 GiB<br>Using FIFO scheduling algorithm.<br>Resources requested: 1.0/1 CPUs, 0/0 GPUs, 0.0/0.37 GiB heap, 0.0/0.18 GiB objects<br>Result logdir: /home/ubuntu/ray_results/training_function_2022-04-30_11-24-24<br>Number of trials: 16/25 (15 PENDING, 1 RUNNING)<br><table>\n",
       "<thead>\n",
       "<tr><th>Trial name                   </th><th>status  </th><th>loc               </th><th style=\"text-align: right;\">   x</th><th style=\"text-align: right;\">   y</th></tr>\n",
       "</thead>\n",
       "<tbody>\n",
       "<tr><td>training_function_5337a_00000</td><td>RUNNING </td><td>192.168.2.133:2124</td><td style=\"text-align: right;\">-1  </td><td style=\"text-align: right;\">-1  </td></tr>\n",
       "<tr><td>training_function_5337a_00001</td><td>PENDING </td><td>                  </td><td style=\"text-align: right;\">-0.5</td><td style=\"text-align: right;\">-1  </td></tr>\n",
       "<tr><td>training_function_5337a_00002</td><td>PENDING </td><td>                  </td><td style=\"text-align: right;\"> 0  </td><td style=\"text-align: right;\">-1  </td></tr>\n",
       "<tr><td>training_function_5337a_00003</td><td>PENDING </td><td>                  </td><td style=\"text-align: right;\"> 0.5</td><td style=\"text-align: right;\">-1  </td></tr>\n",
       "<tr><td>training_function_5337a_00004</td><td>PENDING </td><td>                  </td><td style=\"text-align: right;\"> 1  </td><td style=\"text-align: right;\">-1  </td></tr>\n",
       "<tr><td>training_function_5337a_00005</td><td>PENDING </td><td>                  </td><td style=\"text-align: right;\">-1  </td><td style=\"text-align: right;\">-0.5</td></tr>\n",
       "<tr><td>training_function_5337a_00006</td><td>PENDING </td><td>                  </td><td style=\"text-align: right;\">-0.5</td><td style=\"text-align: right;\">-0.5</td></tr>\n",
       "<tr><td>training_function_5337a_00007</td><td>PENDING </td><td>                  </td><td style=\"text-align: right;\"> 0  </td><td style=\"text-align: right;\">-0.5</td></tr>\n",
       "<tr><td>training_function_5337a_00008</td><td>PENDING </td><td>                  </td><td style=\"text-align: right;\"> 0.5</td><td style=\"text-align: right;\">-0.5</td></tr>\n",
       "<tr><td>training_function_5337a_00009</td><td>PENDING </td><td>                  </td><td style=\"text-align: right;\"> 1  </td><td style=\"text-align: right;\">-0.5</td></tr>\n",
       "<tr><td>training_function_5337a_00010</td><td>PENDING </td><td>                  </td><td style=\"text-align: right;\">-1  </td><td style=\"text-align: right;\"> 0  </td></tr>\n",
       "<tr><td>training_function_5337a_00011</td><td>PENDING </td><td>                  </td><td style=\"text-align: right;\">-0.5</td><td style=\"text-align: right;\"> 0  </td></tr>\n",
       "<tr><td>training_function_5337a_00012</td><td>PENDING </td><td>                  </td><td style=\"text-align: right;\"> 0  </td><td style=\"text-align: right;\"> 0  </td></tr>\n",
       "<tr><td>training_function_5337a_00013</td><td>PENDING </td><td>                  </td><td style=\"text-align: right;\"> 0.5</td><td style=\"text-align: right;\"> 0  </td></tr>\n",
       "<tr><td>training_function_5337a_00014</td><td>PENDING </td><td>                  </td><td style=\"text-align: right;\"> 1  </td><td style=\"text-align: right;\"> 0  </td></tr>\n",
       "<tr><td>training_function_5337a_00015</td><td>PENDING </td><td>                  </td><td style=\"text-align: right;\">-1  </td><td style=\"text-align: right;\"> 0.5</td></tr>\n",
       "</tbody>\n",
       "</table><br><br>"
      ],
      "text/plain": [
       "<IPython.core.display.HTML object>"
      ]
     },
     "metadata": {},
     "output_type": "display_data"
    },
    {
     "data": {
      "text/html": [
       "== Status ==<br>Current time: 2022-04-30 11:24:36 (running for 00:00:12.21)<br>Memory usage on this node: 1.7/1.9 GiB<br>Using FIFO scheduling algorithm.<br>Resources requested: 1.0/1 CPUs, 0/0 GPUs, 0.0/0.37 GiB heap, 0.0/0.18 GiB objects<br>Result logdir: /home/ubuntu/ray_results/training_function_2022-04-30_11-24-24<br>Number of trials: 17/25 (16 PENDING, 1 RUNNING)<br><table>\n",
       "<thead>\n",
       "<tr><th>Trial name                   </th><th>status  </th><th>loc               </th><th style=\"text-align: right;\">   x</th><th style=\"text-align: right;\">   y</th></tr>\n",
       "</thead>\n",
       "<tbody>\n",
       "<tr><td>training_function_5337a_00000</td><td>RUNNING </td><td>192.168.2.133:2124</td><td style=\"text-align: right;\">-1  </td><td style=\"text-align: right;\">-1  </td></tr>\n",
       "<tr><td>training_function_5337a_00001</td><td>PENDING </td><td>                  </td><td style=\"text-align: right;\">-0.5</td><td style=\"text-align: right;\">-1  </td></tr>\n",
       "<tr><td>training_function_5337a_00002</td><td>PENDING </td><td>                  </td><td style=\"text-align: right;\"> 0  </td><td style=\"text-align: right;\">-1  </td></tr>\n",
       "<tr><td>training_function_5337a_00003</td><td>PENDING </td><td>                  </td><td style=\"text-align: right;\"> 0.5</td><td style=\"text-align: right;\">-1  </td></tr>\n",
       "<tr><td>training_function_5337a_00004</td><td>PENDING </td><td>                  </td><td style=\"text-align: right;\"> 1  </td><td style=\"text-align: right;\">-1  </td></tr>\n",
       "<tr><td>training_function_5337a_00005</td><td>PENDING </td><td>                  </td><td style=\"text-align: right;\">-1  </td><td style=\"text-align: right;\">-0.5</td></tr>\n",
       "<tr><td>training_function_5337a_00006</td><td>PENDING </td><td>                  </td><td style=\"text-align: right;\">-0.5</td><td style=\"text-align: right;\">-0.5</td></tr>\n",
       "<tr><td>training_function_5337a_00007</td><td>PENDING </td><td>                  </td><td style=\"text-align: right;\"> 0  </td><td style=\"text-align: right;\">-0.5</td></tr>\n",
       "<tr><td>training_function_5337a_00008</td><td>PENDING </td><td>                  </td><td style=\"text-align: right;\"> 0.5</td><td style=\"text-align: right;\">-0.5</td></tr>\n",
       "<tr><td>training_function_5337a_00009</td><td>PENDING </td><td>                  </td><td style=\"text-align: right;\"> 1  </td><td style=\"text-align: right;\">-0.5</td></tr>\n",
       "<tr><td>training_function_5337a_00010</td><td>PENDING </td><td>                  </td><td style=\"text-align: right;\">-1  </td><td style=\"text-align: right;\"> 0  </td></tr>\n",
       "<tr><td>training_function_5337a_00011</td><td>PENDING </td><td>                  </td><td style=\"text-align: right;\">-0.5</td><td style=\"text-align: right;\"> 0  </td></tr>\n",
       "<tr><td>training_function_5337a_00012</td><td>PENDING </td><td>                  </td><td style=\"text-align: right;\"> 0  </td><td style=\"text-align: right;\"> 0  </td></tr>\n",
       "<tr><td>training_function_5337a_00013</td><td>PENDING </td><td>                  </td><td style=\"text-align: right;\"> 0.5</td><td style=\"text-align: right;\"> 0  </td></tr>\n",
       "<tr><td>training_function_5337a_00014</td><td>PENDING </td><td>                  </td><td style=\"text-align: right;\"> 1  </td><td style=\"text-align: right;\"> 0  </td></tr>\n",
       "<tr><td>training_function_5337a_00015</td><td>PENDING </td><td>                  </td><td style=\"text-align: right;\">-1  </td><td style=\"text-align: right;\"> 0.5</td></tr>\n",
       "<tr><td>training_function_5337a_00016</td><td>PENDING </td><td>                  </td><td style=\"text-align: right;\">-0.5</td><td style=\"text-align: right;\"> 0.5</td></tr>\n",
       "</tbody>\n",
       "</table><br><br>"
      ],
      "text/plain": [
       "<IPython.core.display.HTML object>"
      ]
     },
     "metadata": {},
     "output_type": "display_data"
    },
    {
     "name": "stdout",
     "output_type": "stream",
     "text": [
      "Result for training_function_5337a_00000:\n",
      "  date: 2022-04-30_11-24-41\n",
      "  done: false\n",
      "  experiment_id: e651eec37be24a68be1d7c0bc020edcd\n",
      "  hostname: patrick-c3-1\n",
      "  iterations_since_restore: 1\n",
      "  node_ip: 192.168.2.133\n",
      "  pid: 2124\n",
      "  score: 1.0\n",
      "  time_since_restore: 10.019779205322266\n",
      "  time_this_iter_s: 10.019779205322266\n",
      "  time_total_s: 10.019779205322266\n",
      "  timestamp: 1651310681\n",
      "  timesteps_since_restore: 0\n",
      "  training_iteration: 1\n",
      "  trial_id: 5337a_00000\n",
      "  warmup_time: 0.03398442268371582\n",
      "  \n"
     ]
    },
    {
     "data": {
      "text/html": [
       "== Status ==<br>Current time: 2022-04-30 11:24:41 (running for 00:00:17.22)<br>Memory usage on this node: 1.7/1.9 GiB<br>Using FIFO scheduling algorithm.<br>Resources requested: 1.0/1 CPUs, 0/0 GPUs, 0.0/0.37 GiB heap, 0.0/0.18 GiB objects<br>Result logdir: /home/ubuntu/ray_results/training_function_2022-04-30_11-24-24<br>Number of trials: 17/25 (16 PENDING, 1 RUNNING)<br><table>\n",
       "<thead>\n",
       "<tr><th>Trial name                   </th><th>status  </th><th>loc               </th><th style=\"text-align: right;\">   x</th><th style=\"text-align: right;\">   y</th><th style=\"text-align: right;\">  iter</th><th style=\"text-align: right;\">  total time (s)</th><th style=\"text-align: right;\">  score</th></tr>\n",
       "</thead>\n",
       "<tbody>\n",
       "<tr><td>training_function_5337a_00000</td><td>RUNNING </td><td>192.168.2.133:2124</td><td style=\"text-align: right;\">-1  </td><td style=\"text-align: right;\">-1  </td><td style=\"text-align: right;\">     1</td><td style=\"text-align: right;\">         10.0198</td><td style=\"text-align: right;\">      1</td></tr>\n",
       "<tr><td>training_function_5337a_00001</td><td>PENDING </td><td>                  </td><td style=\"text-align: right;\">-0.5</td><td style=\"text-align: right;\">-1  </td><td style=\"text-align: right;\">      </td><td style=\"text-align: right;\">                </td><td style=\"text-align: right;\">       </td></tr>\n",
       "<tr><td>training_function_5337a_00002</td><td>PENDING </td><td>                  </td><td style=\"text-align: right;\"> 0  </td><td style=\"text-align: right;\">-1  </td><td style=\"text-align: right;\">      </td><td style=\"text-align: right;\">                </td><td style=\"text-align: right;\">       </td></tr>\n",
       "<tr><td>training_function_5337a_00003</td><td>PENDING </td><td>                  </td><td style=\"text-align: right;\"> 0.5</td><td style=\"text-align: right;\">-1  </td><td style=\"text-align: right;\">      </td><td style=\"text-align: right;\">                </td><td style=\"text-align: right;\">       </td></tr>\n",
       "<tr><td>training_function_5337a_00004</td><td>PENDING </td><td>                  </td><td style=\"text-align: right;\"> 1  </td><td style=\"text-align: right;\">-1  </td><td style=\"text-align: right;\">      </td><td style=\"text-align: right;\">                </td><td style=\"text-align: right;\">       </td></tr>\n",
       "<tr><td>training_function_5337a_00005</td><td>PENDING </td><td>                  </td><td style=\"text-align: right;\">-1  </td><td style=\"text-align: right;\">-0.5</td><td style=\"text-align: right;\">      </td><td style=\"text-align: right;\">                </td><td style=\"text-align: right;\">       </td></tr>\n",
       "<tr><td>training_function_5337a_00006</td><td>PENDING </td><td>                  </td><td style=\"text-align: right;\">-0.5</td><td style=\"text-align: right;\">-0.5</td><td style=\"text-align: right;\">      </td><td style=\"text-align: right;\">                </td><td style=\"text-align: right;\">       </td></tr>\n",
       "<tr><td>training_function_5337a_00007</td><td>PENDING </td><td>                  </td><td style=\"text-align: right;\"> 0  </td><td style=\"text-align: right;\">-0.5</td><td style=\"text-align: right;\">      </td><td style=\"text-align: right;\">                </td><td style=\"text-align: right;\">       </td></tr>\n",
       "<tr><td>training_function_5337a_00008</td><td>PENDING </td><td>                  </td><td style=\"text-align: right;\"> 0.5</td><td style=\"text-align: right;\">-0.5</td><td style=\"text-align: right;\">      </td><td style=\"text-align: right;\">                </td><td style=\"text-align: right;\">       </td></tr>\n",
       "<tr><td>training_function_5337a_00009</td><td>PENDING </td><td>                  </td><td style=\"text-align: right;\"> 1  </td><td style=\"text-align: right;\">-0.5</td><td style=\"text-align: right;\">      </td><td style=\"text-align: right;\">                </td><td style=\"text-align: right;\">       </td></tr>\n",
       "<tr><td>training_function_5337a_00010</td><td>PENDING </td><td>                  </td><td style=\"text-align: right;\">-1  </td><td style=\"text-align: right;\"> 0  </td><td style=\"text-align: right;\">      </td><td style=\"text-align: right;\">                </td><td style=\"text-align: right;\">       </td></tr>\n",
       "<tr><td>training_function_5337a_00011</td><td>PENDING </td><td>                  </td><td style=\"text-align: right;\">-0.5</td><td style=\"text-align: right;\"> 0  </td><td style=\"text-align: right;\">      </td><td style=\"text-align: right;\">                </td><td style=\"text-align: right;\">       </td></tr>\n",
       "<tr><td>training_function_5337a_00012</td><td>PENDING </td><td>                  </td><td style=\"text-align: right;\"> 0  </td><td style=\"text-align: right;\"> 0  </td><td style=\"text-align: right;\">      </td><td style=\"text-align: right;\">                </td><td style=\"text-align: right;\">       </td></tr>\n",
       "<tr><td>training_function_5337a_00013</td><td>PENDING </td><td>                  </td><td style=\"text-align: right;\"> 0.5</td><td style=\"text-align: right;\"> 0  </td><td style=\"text-align: right;\">      </td><td style=\"text-align: right;\">                </td><td style=\"text-align: right;\">       </td></tr>\n",
       "<tr><td>training_function_5337a_00014</td><td>PENDING </td><td>                  </td><td style=\"text-align: right;\"> 1  </td><td style=\"text-align: right;\"> 0  </td><td style=\"text-align: right;\">      </td><td style=\"text-align: right;\">                </td><td style=\"text-align: right;\">       </td></tr>\n",
       "<tr><td>training_function_5337a_00015</td><td>PENDING </td><td>                  </td><td style=\"text-align: right;\">-1  </td><td style=\"text-align: right;\"> 0.5</td><td style=\"text-align: right;\">      </td><td style=\"text-align: right;\">                </td><td style=\"text-align: right;\">       </td></tr>\n",
       "<tr><td>training_function_5337a_00016</td><td>PENDING </td><td>                  </td><td style=\"text-align: right;\">-0.5</td><td style=\"text-align: right;\"> 0.5</td><td style=\"text-align: right;\">      </td><td style=\"text-align: right;\">                </td><td style=\"text-align: right;\">       </td></tr>\n",
       "</tbody>\n",
       "</table><br><br>"
      ],
      "text/plain": [
       "<IPython.core.display.HTML object>"
      ]
     },
     "metadata": {},
     "output_type": "display_data"
    },
    {
     "name": "stdout",
     "output_type": "stream",
     "text": [
      "Result for training_function_5337a_00000:\n",
      "  date: 2022-04-30_11-24-41\n",
      "  done: true\n",
      "  experiment_id: e651eec37be24a68be1d7c0bc020edcd\n",
      "  experiment_tag: 0_x=-1,y=-1\n",
      "  hostname: patrick-c3-1\n",
      "  iterations_since_restore: 1\n",
      "  node_ip: 192.168.2.133\n",
      "  pid: 2124\n",
      "  score: 1.0\n",
      "  time_since_restore: 10.019779205322266\n",
      "  time_this_iter_s: 10.019779205322266\n",
      "  time_total_s: 10.019779205322266\n",
      "  timestamp: 1651310681\n",
      "  timesteps_since_restore: 0\n",
      "  training_iteration: 1\n",
      "  trial_id: 5337a_00000\n",
      "  warmup_time: 0.03398442268371582\n",
      "  \n"
     ]
    },
    {
     "name": "stderr",
     "output_type": "stream",
     "text": [
      "2022-04-30 11:24:43,487\tINFO trial_runner.py:803 -- starting training_function_5337a_00001\n"
     ]
    },
    {
     "data": {
      "text/html": [
       "== Status ==<br>Current time: 2022-04-30 11:24:48 (running for 00:00:23.94)<br>Memory usage on this node: 1.7/1.9 GiB<br>Using FIFO scheduling algorithm.<br>Resources requested: 1.0/1 CPUs, 0/0 GPUs, 0.0/0.37 GiB heap, 0.0/0.18 GiB objects<br>Result logdir: /home/ubuntu/ray_results/training_function_2022-04-30_11-24-24<br>Number of trials: 18/25 (16 PENDING, 1 RUNNING, 1 TERMINATED)<br><table>\n",
       "<thead>\n",
       "<tr><th>Trial name                   </th><th>status    </th><th>loc               </th><th style=\"text-align: right;\">   x</th><th style=\"text-align: right;\">   y</th><th style=\"text-align: right;\">  iter</th><th style=\"text-align: right;\">  total time (s)</th><th style=\"text-align: right;\">  score</th></tr>\n",
       "</thead>\n",
       "<tbody>\n",
       "<tr><td>training_function_5337a_00001</td><td>RUNNING   </td><td>192.168.2.133:2185</td><td style=\"text-align: right;\">-0.5</td><td style=\"text-align: right;\">-1  </td><td style=\"text-align: right;\">      </td><td style=\"text-align: right;\">                </td><td style=\"text-align: right;\">       </td></tr>\n",
       "<tr><td>training_function_5337a_00002</td><td>PENDING   </td><td>                  </td><td style=\"text-align: right;\"> 0  </td><td style=\"text-align: right;\">-1  </td><td style=\"text-align: right;\">      </td><td style=\"text-align: right;\">                </td><td style=\"text-align: right;\">       </td></tr>\n",
       "<tr><td>training_function_5337a_00003</td><td>PENDING   </td><td>                  </td><td style=\"text-align: right;\"> 0.5</td><td style=\"text-align: right;\">-1  </td><td style=\"text-align: right;\">      </td><td style=\"text-align: right;\">                </td><td style=\"text-align: right;\">       </td></tr>\n",
       "<tr><td>training_function_5337a_00004</td><td>PENDING   </td><td>                  </td><td style=\"text-align: right;\"> 1  </td><td style=\"text-align: right;\">-1  </td><td style=\"text-align: right;\">      </td><td style=\"text-align: right;\">                </td><td style=\"text-align: right;\">       </td></tr>\n",
       "<tr><td>training_function_5337a_00005</td><td>PENDING   </td><td>                  </td><td style=\"text-align: right;\">-1  </td><td style=\"text-align: right;\">-0.5</td><td style=\"text-align: right;\">      </td><td style=\"text-align: right;\">                </td><td style=\"text-align: right;\">       </td></tr>\n",
       "<tr><td>training_function_5337a_00006</td><td>PENDING   </td><td>                  </td><td style=\"text-align: right;\">-0.5</td><td style=\"text-align: right;\">-0.5</td><td style=\"text-align: right;\">      </td><td style=\"text-align: right;\">                </td><td style=\"text-align: right;\">       </td></tr>\n",
       "<tr><td>training_function_5337a_00007</td><td>PENDING   </td><td>                  </td><td style=\"text-align: right;\"> 0  </td><td style=\"text-align: right;\">-0.5</td><td style=\"text-align: right;\">      </td><td style=\"text-align: right;\">                </td><td style=\"text-align: right;\">       </td></tr>\n",
       "<tr><td>training_function_5337a_00008</td><td>PENDING   </td><td>                  </td><td style=\"text-align: right;\"> 0.5</td><td style=\"text-align: right;\">-0.5</td><td style=\"text-align: right;\">      </td><td style=\"text-align: right;\">                </td><td style=\"text-align: right;\">       </td></tr>\n",
       "<tr><td>training_function_5337a_00009</td><td>PENDING   </td><td>                  </td><td style=\"text-align: right;\"> 1  </td><td style=\"text-align: right;\">-0.5</td><td style=\"text-align: right;\">      </td><td style=\"text-align: right;\">                </td><td style=\"text-align: right;\">       </td></tr>\n",
       "<tr><td>training_function_5337a_00010</td><td>PENDING   </td><td>                  </td><td style=\"text-align: right;\">-1  </td><td style=\"text-align: right;\"> 0  </td><td style=\"text-align: right;\">      </td><td style=\"text-align: right;\">                </td><td style=\"text-align: right;\">       </td></tr>\n",
       "<tr><td>training_function_5337a_00011</td><td>PENDING   </td><td>                  </td><td style=\"text-align: right;\">-0.5</td><td style=\"text-align: right;\"> 0  </td><td style=\"text-align: right;\">      </td><td style=\"text-align: right;\">                </td><td style=\"text-align: right;\">       </td></tr>\n",
       "<tr><td>training_function_5337a_00012</td><td>PENDING   </td><td>                  </td><td style=\"text-align: right;\"> 0  </td><td style=\"text-align: right;\"> 0  </td><td style=\"text-align: right;\">      </td><td style=\"text-align: right;\">                </td><td style=\"text-align: right;\">       </td></tr>\n",
       "<tr><td>training_function_5337a_00013</td><td>PENDING   </td><td>                  </td><td style=\"text-align: right;\"> 0.5</td><td style=\"text-align: right;\"> 0  </td><td style=\"text-align: right;\">      </td><td style=\"text-align: right;\">                </td><td style=\"text-align: right;\">       </td></tr>\n",
       "<tr><td>training_function_5337a_00014</td><td>PENDING   </td><td>                  </td><td style=\"text-align: right;\"> 1  </td><td style=\"text-align: right;\"> 0  </td><td style=\"text-align: right;\">      </td><td style=\"text-align: right;\">                </td><td style=\"text-align: right;\">       </td></tr>\n",
       "<tr><td>training_function_5337a_00015</td><td>PENDING   </td><td>                  </td><td style=\"text-align: right;\">-1  </td><td style=\"text-align: right;\"> 0.5</td><td style=\"text-align: right;\">      </td><td style=\"text-align: right;\">                </td><td style=\"text-align: right;\">       </td></tr>\n",
       "<tr><td>training_function_5337a_00016</td><td>PENDING   </td><td>                  </td><td style=\"text-align: right;\">-0.5</td><td style=\"text-align: right;\"> 0.5</td><td style=\"text-align: right;\">      </td><td style=\"text-align: right;\">                </td><td style=\"text-align: right;\">       </td></tr>\n",
       "<tr><td>training_function_5337a_00017</td><td>PENDING   </td><td>                  </td><td style=\"text-align: right;\"> 0  </td><td style=\"text-align: right;\"> 0.5</td><td style=\"text-align: right;\">      </td><td style=\"text-align: right;\">                </td><td style=\"text-align: right;\">       </td></tr>\n",
       "<tr><td>training_function_5337a_00000</td><td>TERMINATED</td><td>192.168.2.133:2124</td><td style=\"text-align: right;\">-1  </td><td style=\"text-align: right;\">-1  </td><td style=\"text-align: right;\">     1</td><td style=\"text-align: right;\">         10.0198</td><td style=\"text-align: right;\">      1</td></tr>\n",
       "</tbody>\n",
       "</table><br><br>"
      ],
      "text/plain": [
       "<IPython.core.display.HTML object>"
      ]
     },
     "metadata": {},
     "output_type": "display_data"
    },
    {
     "data": {
      "text/html": [
       "== Status ==<br>Current time: 2022-04-30 11:24:53 (running for 00:00:28.95)<br>Memory usage on this node: 1.7/1.9 GiB<br>Using FIFO scheduling algorithm.<br>Resources requested: 1.0/1 CPUs, 0/0 GPUs, 0.0/0.37 GiB heap, 0.0/0.18 GiB objects<br>Result logdir: /home/ubuntu/ray_results/training_function_2022-04-30_11-24-24<br>Number of trials: 18/25 (16 PENDING, 1 RUNNING, 1 TERMINATED)<br><table>\n",
       "<thead>\n",
       "<tr><th>Trial name                   </th><th>status    </th><th>loc               </th><th style=\"text-align: right;\">   x</th><th style=\"text-align: right;\">   y</th><th style=\"text-align: right;\">  iter</th><th style=\"text-align: right;\">  total time (s)</th><th style=\"text-align: right;\">  score</th></tr>\n",
       "</thead>\n",
       "<tbody>\n",
       "<tr><td>training_function_5337a_00001</td><td>RUNNING   </td><td>192.168.2.133:2185</td><td style=\"text-align: right;\">-0.5</td><td style=\"text-align: right;\">-1  </td><td style=\"text-align: right;\">      </td><td style=\"text-align: right;\">                </td><td style=\"text-align: right;\">       </td></tr>\n",
       "<tr><td>training_function_5337a_00002</td><td>PENDING   </td><td>                  </td><td style=\"text-align: right;\"> 0  </td><td style=\"text-align: right;\">-1  </td><td style=\"text-align: right;\">      </td><td style=\"text-align: right;\">                </td><td style=\"text-align: right;\">       </td></tr>\n",
       "<tr><td>training_function_5337a_00003</td><td>PENDING   </td><td>                  </td><td style=\"text-align: right;\"> 0.5</td><td style=\"text-align: right;\">-1  </td><td style=\"text-align: right;\">      </td><td style=\"text-align: right;\">                </td><td style=\"text-align: right;\">       </td></tr>\n",
       "<tr><td>training_function_5337a_00004</td><td>PENDING   </td><td>                  </td><td style=\"text-align: right;\"> 1  </td><td style=\"text-align: right;\">-1  </td><td style=\"text-align: right;\">      </td><td style=\"text-align: right;\">                </td><td style=\"text-align: right;\">       </td></tr>\n",
       "<tr><td>training_function_5337a_00005</td><td>PENDING   </td><td>                  </td><td style=\"text-align: right;\">-1  </td><td style=\"text-align: right;\">-0.5</td><td style=\"text-align: right;\">      </td><td style=\"text-align: right;\">                </td><td style=\"text-align: right;\">       </td></tr>\n",
       "<tr><td>training_function_5337a_00006</td><td>PENDING   </td><td>                  </td><td style=\"text-align: right;\">-0.5</td><td style=\"text-align: right;\">-0.5</td><td style=\"text-align: right;\">      </td><td style=\"text-align: right;\">                </td><td style=\"text-align: right;\">       </td></tr>\n",
       "<tr><td>training_function_5337a_00007</td><td>PENDING   </td><td>                  </td><td style=\"text-align: right;\"> 0  </td><td style=\"text-align: right;\">-0.5</td><td style=\"text-align: right;\">      </td><td style=\"text-align: right;\">                </td><td style=\"text-align: right;\">       </td></tr>\n",
       "<tr><td>training_function_5337a_00008</td><td>PENDING   </td><td>                  </td><td style=\"text-align: right;\"> 0.5</td><td style=\"text-align: right;\">-0.5</td><td style=\"text-align: right;\">      </td><td style=\"text-align: right;\">                </td><td style=\"text-align: right;\">       </td></tr>\n",
       "<tr><td>training_function_5337a_00009</td><td>PENDING   </td><td>                  </td><td style=\"text-align: right;\"> 1  </td><td style=\"text-align: right;\">-0.5</td><td style=\"text-align: right;\">      </td><td style=\"text-align: right;\">                </td><td style=\"text-align: right;\">       </td></tr>\n",
       "<tr><td>training_function_5337a_00010</td><td>PENDING   </td><td>                  </td><td style=\"text-align: right;\">-1  </td><td style=\"text-align: right;\"> 0  </td><td style=\"text-align: right;\">      </td><td style=\"text-align: right;\">                </td><td style=\"text-align: right;\">       </td></tr>\n",
       "<tr><td>training_function_5337a_00011</td><td>PENDING   </td><td>                  </td><td style=\"text-align: right;\">-0.5</td><td style=\"text-align: right;\"> 0  </td><td style=\"text-align: right;\">      </td><td style=\"text-align: right;\">                </td><td style=\"text-align: right;\">       </td></tr>\n",
       "<tr><td>training_function_5337a_00012</td><td>PENDING   </td><td>                  </td><td style=\"text-align: right;\"> 0  </td><td style=\"text-align: right;\"> 0  </td><td style=\"text-align: right;\">      </td><td style=\"text-align: right;\">                </td><td style=\"text-align: right;\">       </td></tr>\n",
       "<tr><td>training_function_5337a_00013</td><td>PENDING   </td><td>                  </td><td style=\"text-align: right;\"> 0.5</td><td style=\"text-align: right;\"> 0  </td><td style=\"text-align: right;\">      </td><td style=\"text-align: right;\">                </td><td style=\"text-align: right;\">       </td></tr>\n",
       "<tr><td>training_function_5337a_00014</td><td>PENDING   </td><td>                  </td><td style=\"text-align: right;\"> 1  </td><td style=\"text-align: right;\"> 0  </td><td style=\"text-align: right;\">      </td><td style=\"text-align: right;\">                </td><td style=\"text-align: right;\">       </td></tr>\n",
       "<tr><td>training_function_5337a_00015</td><td>PENDING   </td><td>                  </td><td style=\"text-align: right;\">-1  </td><td style=\"text-align: right;\"> 0.5</td><td style=\"text-align: right;\">      </td><td style=\"text-align: right;\">                </td><td style=\"text-align: right;\">       </td></tr>\n",
       "<tr><td>training_function_5337a_00016</td><td>PENDING   </td><td>                  </td><td style=\"text-align: right;\">-0.5</td><td style=\"text-align: right;\"> 0.5</td><td style=\"text-align: right;\">      </td><td style=\"text-align: right;\">                </td><td style=\"text-align: right;\">       </td></tr>\n",
       "<tr><td>training_function_5337a_00017</td><td>PENDING   </td><td>                  </td><td style=\"text-align: right;\"> 0  </td><td style=\"text-align: right;\"> 0.5</td><td style=\"text-align: right;\">      </td><td style=\"text-align: right;\">                </td><td style=\"text-align: right;\">       </td></tr>\n",
       "<tr><td>training_function_5337a_00000</td><td>TERMINATED</td><td>192.168.2.133:2124</td><td style=\"text-align: right;\">-1  </td><td style=\"text-align: right;\">-1  </td><td style=\"text-align: right;\">     1</td><td style=\"text-align: right;\">         10.0198</td><td style=\"text-align: right;\">      1</td></tr>\n",
       "</tbody>\n",
       "</table><br><br>"
      ],
      "text/plain": [
       "<IPython.core.display.HTML object>"
      ]
     },
     "metadata": {},
     "output_type": "display_data"
    },
    {
     "name": "stdout",
     "output_type": "stream",
     "text": [
      "Result for training_function_5337a_00001:\n",
      "  date: 2022-04-30_11-24-55\n",
      "  done: false\n",
      "  experiment_id: 0aba7afd30f94be9899e7439c6a68219\n",
      "  hostname: patrick-c3-1\n",
      "  iterations_since_restore: 1\n",
      "  node_ip: 192.168.2.133\n",
      "  pid: 2185\n",
      "  score: 0.7905694150420949\n",
      "  time_since_restore: 10.00947618484497\n",
      "  time_this_iter_s: 10.00947618484497\n",
      "  time_total_s: 10.00947618484497\n",
      "  timestamp: 1651310695\n",
      "  timesteps_since_restore: 0\n",
      "  training_iteration: 1\n",
      "  trial_id: 5337a_00001\n",
      "  warmup_time: 0.006582736968994141\n",
      "  \n",
      "Result for training_function_5337a_00001:\n",
      "  date: 2022-04-30_11-24-55\n",
      "  done: true\n",
      "  experiment_id: 0aba7afd30f94be9899e7439c6a68219\n",
      "  experiment_tag: 1_x=-0.5,y=-1\n",
      "  hostname: patrick-c3-1\n",
      "  iterations_since_restore: 1\n",
      "  node_ip: 192.168.2.133\n",
      "  pid: 2185\n",
      "  score: 0.7905694150420949\n",
      "  time_since_restore: 10.00947618484497\n",
      "  time_this_iter_s: 10.00947618484497\n",
      "  time_total_s: 10.00947618484497\n",
      "  timestamp: 1651310695\n",
      "  timesteps_since_restore: 0\n",
      "  training_iteration: 1\n",
      "  trial_id: 5337a_00001\n",
      "  warmup_time: 0.006582736968994141\n",
      "  \n"
     ]
    },
    {
     "name": "stderr",
     "output_type": "stream",
     "text": [
      "2022-04-30 11:24:56,928\tINFO trial_runner.py:803 -- starting training_function_5337a_00002\n"
     ]
    },
    {
     "data": {
      "text/html": [
       "== Status ==<br>Current time: 2022-04-30 11:25:01 (running for 00:00:37.37)<br>Memory usage on this node: 1.7/1.9 GiB<br>Using FIFO scheduling algorithm.<br>Resources requested: 1.0/1 CPUs, 0/0 GPUs, 0.0/0.37 GiB heap, 0.0/0.18 GiB objects<br>Result logdir: /home/ubuntu/ray_results/training_function_2022-04-30_11-24-24<br>Number of trials: 19/25 (16 PENDING, 1 RUNNING, 2 TERMINATED)<br><table>\n",
       "<thead>\n",
       "<tr><th>Trial name                   </th><th>status    </th><th>loc               </th><th style=\"text-align: right;\">   x</th><th style=\"text-align: right;\">   y</th><th style=\"text-align: right;\">  iter</th><th style=\"text-align: right;\">  total time (s)</th><th style=\"text-align: right;\">   score</th></tr>\n",
       "</thead>\n",
       "<tbody>\n",
       "<tr><td>training_function_5337a_00002</td><td>RUNNING   </td><td>192.168.2.133:2247</td><td style=\"text-align: right;\"> 0  </td><td style=\"text-align: right;\">-1  </td><td style=\"text-align: right;\">      </td><td style=\"text-align: right;\">                </td><td style=\"text-align: right;\">        </td></tr>\n",
       "<tr><td>training_function_5337a_00003</td><td>PENDING   </td><td>                  </td><td style=\"text-align: right;\"> 0.5</td><td style=\"text-align: right;\">-1  </td><td style=\"text-align: right;\">      </td><td style=\"text-align: right;\">                </td><td style=\"text-align: right;\">        </td></tr>\n",
       "<tr><td>training_function_5337a_00004</td><td>PENDING   </td><td>                  </td><td style=\"text-align: right;\"> 1  </td><td style=\"text-align: right;\">-1  </td><td style=\"text-align: right;\">      </td><td style=\"text-align: right;\">                </td><td style=\"text-align: right;\">        </td></tr>\n",
       "<tr><td>training_function_5337a_00005</td><td>PENDING   </td><td>                  </td><td style=\"text-align: right;\">-1  </td><td style=\"text-align: right;\">-0.5</td><td style=\"text-align: right;\">      </td><td style=\"text-align: right;\">                </td><td style=\"text-align: right;\">        </td></tr>\n",
       "<tr><td>training_function_5337a_00006</td><td>PENDING   </td><td>                  </td><td style=\"text-align: right;\">-0.5</td><td style=\"text-align: right;\">-0.5</td><td style=\"text-align: right;\">      </td><td style=\"text-align: right;\">                </td><td style=\"text-align: right;\">        </td></tr>\n",
       "<tr><td>training_function_5337a_00007</td><td>PENDING   </td><td>                  </td><td style=\"text-align: right;\"> 0  </td><td style=\"text-align: right;\">-0.5</td><td style=\"text-align: right;\">      </td><td style=\"text-align: right;\">                </td><td style=\"text-align: right;\">        </td></tr>\n",
       "<tr><td>training_function_5337a_00008</td><td>PENDING   </td><td>                  </td><td style=\"text-align: right;\"> 0.5</td><td style=\"text-align: right;\">-0.5</td><td style=\"text-align: right;\">      </td><td style=\"text-align: right;\">                </td><td style=\"text-align: right;\">        </td></tr>\n",
       "<tr><td>training_function_5337a_00009</td><td>PENDING   </td><td>                  </td><td style=\"text-align: right;\"> 1  </td><td style=\"text-align: right;\">-0.5</td><td style=\"text-align: right;\">      </td><td style=\"text-align: right;\">                </td><td style=\"text-align: right;\">        </td></tr>\n",
       "<tr><td>training_function_5337a_00010</td><td>PENDING   </td><td>                  </td><td style=\"text-align: right;\">-1  </td><td style=\"text-align: right;\"> 0  </td><td style=\"text-align: right;\">      </td><td style=\"text-align: right;\">                </td><td style=\"text-align: right;\">        </td></tr>\n",
       "<tr><td>training_function_5337a_00011</td><td>PENDING   </td><td>                  </td><td style=\"text-align: right;\">-0.5</td><td style=\"text-align: right;\"> 0  </td><td style=\"text-align: right;\">      </td><td style=\"text-align: right;\">                </td><td style=\"text-align: right;\">        </td></tr>\n",
       "<tr><td>training_function_5337a_00012</td><td>PENDING   </td><td>                  </td><td style=\"text-align: right;\"> 0  </td><td style=\"text-align: right;\"> 0  </td><td style=\"text-align: right;\">      </td><td style=\"text-align: right;\">                </td><td style=\"text-align: right;\">        </td></tr>\n",
       "<tr><td>training_function_5337a_00013</td><td>PENDING   </td><td>                  </td><td style=\"text-align: right;\"> 0.5</td><td style=\"text-align: right;\"> 0  </td><td style=\"text-align: right;\">      </td><td style=\"text-align: right;\">                </td><td style=\"text-align: right;\">        </td></tr>\n",
       "<tr><td>training_function_5337a_00014</td><td>PENDING   </td><td>                  </td><td style=\"text-align: right;\"> 1  </td><td style=\"text-align: right;\"> 0  </td><td style=\"text-align: right;\">      </td><td style=\"text-align: right;\">                </td><td style=\"text-align: right;\">        </td></tr>\n",
       "<tr><td>training_function_5337a_00015</td><td>PENDING   </td><td>                  </td><td style=\"text-align: right;\">-1  </td><td style=\"text-align: right;\"> 0.5</td><td style=\"text-align: right;\">      </td><td style=\"text-align: right;\">                </td><td style=\"text-align: right;\">        </td></tr>\n",
       "<tr><td>training_function_5337a_00016</td><td>PENDING   </td><td>                  </td><td style=\"text-align: right;\">-0.5</td><td style=\"text-align: right;\"> 0.5</td><td style=\"text-align: right;\">      </td><td style=\"text-align: right;\">                </td><td style=\"text-align: right;\">        </td></tr>\n",
       "<tr><td>training_function_5337a_00017</td><td>PENDING   </td><td>                  </td><td style=\"text-align: right;\"> 0  </td><td style=\"text-align: right;\"> 0.5</td><td style=\"text-align: right;\">      </td><td style=\"text-align: right;\">                </td><td style=\"text-align: right;\">        </td></tr>\n",
       "<tr><td>training_function_5337a_00018</td><td>PENDING   </td><td>                  </td><td style=\"text-align: right;\"> 0.5</td><td style=\"text-align: right;\"> 0.5</td><td style=\"text-align: right;\">      </td><td style=\"text-align: right;\">                </td><td style=\"text-align: right;\">        </td></tr>\n",
       "<tr><td>training_function_5337a_00000</td><td>TERMINATED</td><td>192.168.2.133:2124</td><td style=\"text-align: right;\">-1  </td><td style=\"text-align: right;\">-1  </td><td style=\"text-align: right;\">     1</td><td style=\"text-align: right;\">         10.0198</td><td style=\"text-align: right;\">1       </td></tr>\n",
       "<tr><td>training_function_5337a_00001</td><td>TERMINATED</td><td>192.168.2.133:2185</td><td style=\"text-align: right;\">-0.5</td><td style=\"text-align: right;\">-1  </td><td style=\"text-align: right;\">     1</td><td style=\"text-align: right;\">         10.0095</td><td style=\"text-align: right;\">0.790569</td></tr>\n",
       "</tbody>\n",
       "</table><br><br>"
      ],
      "text/plain": [
       "<IPython.core.display.HTML object>"
      ]
     },
     "metadata": {},
     "output_type": "display_data"
    },
    {
     "data": {
      "text/html": [
       "== Status ==<br>Current time: 2022-04-30 11:25:06 (running for 00:00:42.39)<br>Memory usage on this node: 1.7/1.9 GiB<br>Using FIFO scheduling algorithm.<br>Resources requested: 1.0/1 CPUs, 0/0 GPUs, 0.0/0.37 GiB heap, 0.0/0.18 GiB objects<br>Result logdir: /home/ubuntu/ray_results/training_function_2022-04-30_11-24-24<br>Number of trials: 19/25 (16 PENDING, 1 RUNNING, 2 TERMINATED)<br><table>\n",
       "<thead>\n",
       "<tr><th>Trial name                   </th><th>status    </th><th>loc               </th><th style=\"text-align: right;\">   x</th><th style=\"text-align: right;\">   y</th><th style=\"text-align: right;\">  iter</th><th style=\"text-align: right;\">  total time (s)</th><th style=\"text-align: right;\">   score</th></tr>\n",
       "</thead>\n",
       "<tbody>\n",
       "<tr><td>training_function_5337a_00002</td><td>RUNNING   </td><td>192.168.2.133:2247</td><td style=\"text-align: right;\"> 0  </td><td style=\"text-align: right;\">-1  </td><td style=\"text-align: right;\">      </td><td style=\"text-align: right;\">                </td><td style=\"text-align: right;\">        </td></tr>\n",
       "<tr><td>training_function_5337a_00003</td><td>PENDING   </td><td>                  </td><td style=\"text-align: right;\"> 0.5</td><td style=\"text-align: right;\">-1  </td><td style=\"text-align: right;\">      </td><td style=\"text-align: right;\">                </td><td style=\"text-align: right;\">        </td></tr>\n",
       "<tr><td>training_function_5337a_00004</td><td>PENDING   </td><td>                  </td><td style=\"text-align: right;\"> 1  </td><td style=\"text-align: right;\">-1  </td><td style=\"text-align: right;\">      </td><td style=\"text-align: right;\">                </td><td style=\"text-align: right;\">        </td></tr>\n",
       "<tr><td>training_function_5337a_00005</td><td>PENDING   </td><td>                  </td><td style=\"text-align: right;\">-1  </td><td style=\"text-align: right;\">-0.5</td><td style=\"text-align: right;\">      </td><td style=\"text-align: right;\">                </td><td style=\"text-align: right;\">        </td></tr>\n",
       "<tr><td>training_function_5337a_00006</td><td>PENDING   </td><td>                  </td><td style=\"text-align: right;\">-0.5</td><td style=\"text-align: right;\">-0.5</td><td style=\"text-align: right;\">      </td><td style=\"text-align: right;\">                </td><td style=\"text-align: right;\">        </td></tr>\n",
       "<tr><td>training_function_5337a_00007</td><td>PENDING   </td><td>                  </td><td style=\"text-align: right;\"> 0  </td><td style=\"text-align: right;\">-0.5</td><td style=\"text-align: right;\">      </td><td style=\"text-align: right;\">                </td><td style=\"text-align: right;\">        </td></tr>\n",
       "<tr><td>training_function_5337a_00008</td><td>PENDING   </td><td>                  </td><td style=\"text-align: right;\"> 0.5</td><td style=\"text-align: right;\">-0.5</td><td style=\"text-align: right;\">      </td><td style=\"text-align: right;\">                </td><td style=\"text-align: right;\">        </td></tr>\n",
       "<tr><td>training_function_5337a_00009</td><td>PENDING   </td><td>                  </td><td style=\"text-align: right;\"> 1  </td><td style=\"text-align: right;\">-0.5</td><td style=\"text-align: right;\">      </td><td style=\"text-align: right;\">                </td><td style=\"text-align: right;\">        </td></tr>\n",
       "<tr><td>training_function_5337a_00010</td><td>PENDING   </td><td>                  </td><td style=\"text-align: right;\">-1  </td><td style=\"text-align: right;\"> 0  </td><td style=\"text-align: right;\">      </td><td style=\"text-align: right;\">                </td><td style=\"text-align: right;\">        </td></tr>\n",
       "<tr><td>training_function_5337a_00011</td><td>PENDING   </td><td>                  </td><td style=\"text-align: right;\">-0.5</td><td style=\"text-align: right;\"> 0  </td><td style=\"text-align: right;\">      </td><td style=\"text-align: right;\">                </td><td style=\"text-align: right;\">        </td></tr>\n",
       "<tr><td>training_function_5337a_00012</td><td>PENDING   </td><td>                  </td><td style=\"text-align: right;\"> 0  </td><td style=\"text-align: right;\"> 0  </td><td style=\"text-align: right;\">      </td><td style=\"text-align: right;\">                </td><td style=\"text-align: right;\">        </td></tr>\n",
       "<tr><td>training_function_5337a_00013</td><td>PENDING   </td><td>                  </td><td style=\"text-align: right;\"> 0.5</td><td style=\"text-align: right;\"> 0  </td><td style=\"text-align: right;\">      </td><td style=\"text-align: right;\">                </td><td style=\"text-align: right;\">        </td></tr>\n",
       "<tr><td>training_function_5337a_00014</td><td>PENDING   </td><td>                  </td><td style=\"text-align: right;\"> 1  </td><td style=\"text-align: right;\"> 0  </td><td style=\"text-align: right;\">      </td><td style=\"text-align: right;\">                </td><td style=\"text-align: right;\">        </td></tr>\n",
       "<tr><td>training_function_5337a_00015</td><td>PENDING   </td><td>                  </td><td style=\"text-align: right;\">-1  </td><td style=\"text-align: right;\"> 0.5</td><td style=\"text-align: right;\">      </td><td style=\"text-align: right;\">                </td><td style=\"text-align: right;\">        </td></tr>\n",
       "<tr><td>training_function_5337a_00016</td><td>PENDING   </td><td>                  </td><td style=\"text-align: right;\">-0.5</td><td style=\"text-align: right;\"> 0.5</td><td style=\"text-align: right;\">      </td><td style=\"text-align: right;\">                </td><td style=\"text-align: right;\">        </td></tr>\n",
       "<tr><td>training_function_5337a_00017</td><td>PENDING   </td><td>                  </td><td style=\"text-align: right;\"> 0  </td><td style=\"text-align: right;\"> 0.5</td><td style=\"text-align: right;\">      </td><td style=\"text-align: right;\">                </td><td style=\"text-align: right;\">        </td></tr>\n",
       "<tr><td>training_function_5337a_00018</td><td>PENDING   </td><td>                  </td><td style=\"text-align: right;\"> 0.5</td><td style=\"text-align: right;\"> 0.5</td><td style=\"text-align: right;\">      </td><td style=\"text-align: right;\">                </td><td style=\"text-align: right;\">        </td></tr>\n",
       "<tr><td>training_function_5337a_00000</td><td>TERMINATED</td><td>192.168.2.133:2124</td><td style=\"text-align: right;\">-1  </td><td style=\"text-align: right;\">-1  </td><td style=\"text-align: right;\">     1</td><td style=\"text-align: right;\">         10.0198</td><td style=\"text-align: right;\">1       </td></tr>\n",
       "<tr><td>training_function_5337a_00001</td><td>TERMINATED</td><td>192.168.2.133:2185</td><td style=\"text-align: right;\">-0.5</td><td style=\"text-align: right;\">-1  </td><td style=\"text-align: right;\">     1</td><td style=\"text-align: right;\">         10.0095</td><td style=\"text-align: right;\">0.790569</td></tr>\n",
       "</tbody>\n",
       "</table><br><br>"
      ],
      "text/plain": [
       "<IPython.core.display.HTML object>"
      ]
     },
     "metadata": {},
     "output_type": "display_data"
    },
    {
     "name": "stdout",
     "output_type": "stream",
     "text": [
      "Result for training_function_5337a_00002:\n",
      "  date: 2022-04-30_11-25-09\n",
      "  done: false\n",
      "  experiment_id: 9fa2ef31f1314ee2bc3e284edd53153b\n",
      "  hostname: patrick-c3-1\n",
      "  iterations_since_restore: 1\n",
      "  node_ip: 192.168.2.133\n",
      "  pid: 2247\n",
      "  score: 0.7071067811865476\n",
      "  time_since_restore: 10.010367155075073\n",
      "  time_this_iter_s: 10.010367155075073\n",
      "  time_total_s: 10.010367155075073\n",
      "  timestamp: 1651310709\n",
      "  timesteps_since_restore: 0\n",
      "  training_iteration: 1\n",
      "  trial_id: 5337a_00002\n",
      "  warmup_time: 0.005959272384643555\n",
      "  \n",
      "Result for training_function_5337a_00002:\n",
      "  date: 2022-04-30_11-25-09\n",
      "  done: true\n",
      "  experiment_id: 9fa2ef31f1314ee2bc3e284edd53153b\n",
      "  experiment_tag: 2_x=0,y=-1\n",
      "  hostname: patrick-c3-1\n",
      "  iterations_since_restore: 1\n",
      "  node_ip: 192.168.2.133\n",
      "  pid: 2247\n",
      "  score: 0.7071067811865476\n",
      "  time_since_restore: 10.010367155075073\n",
      "  time_this_iter_s: 10.010367155075073\n",
      "  time_total_s: 10.010367155075073\n",
      "  timestamp: 1651310709\n",
      "  timesteps_since_restore: 0\n",
      "  training_iteration: 1\n",
      "  trial_id: 5337a_00002\n",
      "  warmup_time: 0.005959272384643555\n",
      "  \n"
     ]
    },
    {
     "name": "stderr",
     "output_type": "stream",
     "text": [
      "2022-04-30 11:25:11,019\tINFO trial_runner.py:803 -- starting training_function_5337a_00003\n"
     ]
    },
    {
     "data": {
      "text/html": [
       "== Status ==<br>Current time: 2022-04-30 11:25:16 (running for 00:00:51.47)<br>Memory usage on this node: 1.7/1.9 GiB<br>Using FIFO scheduling algorithm.<br>Resources requested: 1.0/1 CPUs, 0/0 GPUs, 0.0/0.37 GiB heap, 0.0/0.18 GiB objects<br>Result logdir: /home/ubuntu/ray_results/training_function_2022-04-30_11-24-24<br>Number of trials: 20/25 (16 PENDING, 1 RUNNING, 3 TERMINATED)<br><table>\n",
       "<thead>\n",
       "<tr><th>Trial name                   </th><th>status    </th><th>loc               </th><th style=\"text-align: right;\">   x</th><th style=\"text-align: right;\">   y</th><th style=\"text-align: right;\">  iter</th><th style=\"text-align: right;\">  total time (s)</th><th style=\"text-align: right;\">   score</th></tr>\n",
       "</thead>\n",
       "<tbody>\n",
       "<tr><td>training_function_5337a_00003</td><td>RUNNING   </td><td>192.168.2.133:2308</td><td style=\"text-align: right;\"> 0.5</td><td style=\"text-align: right;\">-1  </td><td style=\"text-align: right;\">      </td><td style=\"text-align: right;\">                </td><td style=\"text-align: right;\">        </td></tr>\n",
       "<tr><td>training_function_5337a_00004</td><td>PENDING   </td><td>                  </td><td style=\"text-align: right;\"> 1  </td><td style=\"text-align: right;\">-1  </td><td style=\"text-align: right;\">      </td><td style=\"text-align: right;\">                </td><td style=\"text-align: right;\">        </td></tr>\n",
       "<tr><td>training_function_5337a_00005</td><td>PENDING   </td><td>                  </td><td style=\"text-align: right;\">-1  </td><td style=\"text-align: right;\">-0.5</td><td style=\"text-align: right;\">      </td><td style=\"text-align: right;\">                </td><td style=\"text-align: right;\">        </td></tr>\n",
       "<tr><td>training_function_5337a_00006</td><td>PENDING   </td><td>                  </td><td style=\"text-align: right;\">-0.5</td><td style=\"text-align: right;\">-0.5</td><td style=\"text-align: right;\">      </td><td style=\"text-align: right;\">                </td><td style=\"text-align: right;\">        </td></tr>\n",
       "<tr><td>training_function_5337a_00007</td><td>PENDING   </td><td>                  </td><td style=\"text-align: right;\"> 0  </td><td style=\"text-align: right;\">-0.5</td><td style=\"text-align: right;\">      </td><td style=\"text-align: right;\">                </td><td style=\"text-align: right;\">        </td></tr>\n",
       "<tr><td>training_function_5337a_00008</td><td>PENDING   </td><td>                  </td><td style=\"text-align: right;\"> 0.5</td><td style=\"text-align: right;\">-0.5</td><td style=\"text-align: right;\">      </td><td style=\"text-align: right;\">                </td><td style=\"text-align: right;\">        </td></tr>\n",
       "<tr><td>training_function_5337a_00009</td><td>PENDING   </td><td>                  </td><td style=\"text-align: right;\"> 1  </td><td style=\"text-align: right;\">-0.5</td><td style=\"text-align: right;\">      </td><td style=\"text-align: right;\">                </td><td style=\"text-align: right;\">        </td></tr>\n",
       "<tr><td>training_function_5337a_00010</td><td>PENDING   </td><td>                  </td><td style=\"text-align: right;\">-1  </td><td style=\"text-align: right;\"> 0  </td><td style=\"text-align: right;\">      </td><td style=\"text-align: right;\">                </td><td style=\"text-align: right;\">        </td></tr>\n",
       "<tr><td>training_function_5337a_00011</td><td>PENDING   </td><td>                  </td><td style=\"text-align: right;\">-0.5</td><td style=\"text-align: right;\"> 0  </td><td style=\"text-align: right;\">      </td><td style=\"text-align: right;\">                </td><td style=\"text-align: right;\">        </td></tr>\n",
       "<tr><td>training_function_5337a_00012</td><td>PENDING   </td><td>                  </td><td style=\"text-align: right;\"> 0  </td><td style=\"text-align: right;\"> 0  </td><td style=\"text-align: right;\">      </td><td style=\"text-align: right;\">                </td><td style=\"text-align: right;\">        </td></tr>\n",
       "<tr><td>training_function_5337a_00013</td><td>PENDING   </td><td>                  </td><td style=\"text-align: right;\"> 0.5</td><td style=\"text-align: right;\"> 0  </td><td style=\"text-align: right;\">      </td><td style=\"text-align: right;\">                </td><td style=\"text-align: right;\">        </td></tr>\n",
       "<tr><td>training_function_5337a_00014</td><td>PENDING   </td><td>                  </td><td style=\"text-align: right;\"> 1  </td><td style=\"text-align: right;\"> 0  </td><td style=\"text-align: right;\">      </td><td style=\"text-align: right;\">                </td><td style=\"text-align: right;\">        </td></tr>\n",
       "<tr><td>training_function_5337a_00015</td><td>PENDING   </td><td>                  </td><td style=\"text-align: right;\">-1  </td><td style=\"text-align: right;\"> 0.5</td><td style=\"text-align: right;\">      </td><td style=\"text-align: right;\">                </td><td style=\"text-align: right;\">        </td></tr>\n",
       "<tr><td>training_function_5337a_00016</td><td>PENDING   </td><td>                  </td><td style=\"text-align: right;\">-0.5</td><td style=\"text-align: right;\"> 0.5</td><td style=\"text-align: right;\">      </td><td style=\"text-align: right;\">                </td><td style=\"text-align: right;\">        </td></tr>\n",
       "<tr><td>training_function_5337a_00017</td><td>PENDING   </td><td>                  </td><td style=\"text-align: right;\"> 0  </td><td style=\"text-align: right;\"> 0.5</td><td style=\"text-align: right;\">      </td><td style=\"text-align: right;\">                </td><td style=\"text-align: right;\">        </td></tr>\n",
       "<tr><td>training_function_5337a_00018</td><td>PENDING   </td><td>                  </td><td style=\"text-align: right;\"> 0.5</td><td style=\"text-align: right;\"> 0.5</td><td style=\"text-align: right;\">      </td><td style=\"text-align: right;\">                </td><td style=\"text-align: right;\">        </td></tr>\n",
       "<tr><td>training_function_5337a_00019</td><td>PENDING   </td><td>                  </td><td style=\"text-align: right;\"> 1  </td><td style=\"text-align: right;\"> 0.5</td><td style=\"text-align: right;\">      </td><td style=\"text-align: right;\">                </td><td style=\"text-align: right;\">        </td></tr>\n",
       "<tr><td>training_function_5337a_00000</td><td>TERMINATED</td><td>192.168.2.133:2124</td><td style=\"text-align: right;\">-1  </td><td style=\"text-align: right;\">-1  </td><td style=\"text-align: right;\">     1</td><td style=\"text-align: right;\">         10.0198</td><td style=\"text-align: right;\">1       </td></tr>\n",
       "<tr><td>training_function_5337a_00001</td><td>TERMINATED</td><td>192.168.2.133:2185</td><td style=\"text-align: right;\">-0.5</td><td style=\"text-align: right;\">-1  </td><td style=\"text-align: right;\">     1</td><td style=\"text-align: right;\">         10.0095</td><td style=\"text-align: right;\">0.790569</td></tr>\n",
       "<tr><td>training_function_5337a_00002</td><td>TERMINATED</td><td>192.168.2.133:2247</td><td style=\"text-align: right;\"> 0  </td><td style=\"text-align: right;\">-1  </td><td style=\"text-align: right;\">     1</td><td style=\"text-align: right;\">         10.0104</td><td style=\"text-align: right;\">0.707107</td></tr>\n",
       "</tbody>\n",
       "</table><br><br>"
      ],
      "text/plain": [
       "<IPython.core.display.HTML object>"
      ]
     },
     "metadata": {},
     "output_type": "display_data"
    },
    {
     "data": {
      "text/html": [
       "== Status ==<br>Current time: 2022-04-30 11:25:21 (running for 00:00:56.48)<br>Memory usage on this node: 1.7/1.9 GiB<br>Using FIFO scheduling algorithm.<br>Resources requested: 1.0/1 CPUs, 0/0 GPUs, 0.0/0.37 GiB heap, 0.0/0.18 GiB objects<br>Result logdir: /home/ubuntu/ray_results/training_function_2022-04-30_11-24-24<br>Number of trials: 20/25 (16 PENDING, 1 RUNNING, 3 TERMINATED)<br><table>\n",
       "<thead>\n",
       "<tr><th>Trial name                   </th><th>status    </th><th>loc               </th><th style=\"text-align: right;\">   x</th><th style=\"text-align: right;\">   y</th><th style=\"text-align: right;\">  iter</th><th style=\"text-align: right;\">  total time (s)</th><th style=\"text-align: right;\">   score</th></tr>\n",
       "</thead>\n",
       "<tbody>\n",
       "<tr><td>training_function_5337a_00003</td><td>RUNNING   </td><td>192.168.2.133:2308</td><td style=\"text-align: right;\"> 0.5</td><td style=\"text-align: right;\">-1  </td><td style=\"text-align: right;\">      </td><td style=\"text-align: right;\">                </td><td style=\"text-align: right;\">        </td></tr>\n",
       "<tr><td>training_function_5337a_00004</td><td>PENDING   </td><td>                  </td><td style=\"text-align: right;\"> 1  </td><td style=\"text-align: right;\">-1  </td><td style=\"text-align: right;\">      </td><td style=\"text-align: right;\">                </td><td style=\"text-align: right;\">        </td></tr>\n",
       "<tr><td>training_function_5337a_00005</td><td>PENDING   </td><td>                  </td><td style=\"text-align: right;\">-1  </td><td style=\"text-align: right;\">-0.5</td><td style=\"text-align: right;\">      </td><td style=\"text-align: right;\">                </td><td style=\"text-align: right;\">        </td></tr>\n",
       "<tr><td>training_function_5337a_00006</td><td>PENDING   </td><td>                  </td><td style=\"text-align: right;\">-0.5</td><td style=\"text-align: right;\">-0.5</td><td style=\"text-align: right;\">      </td><td style=\"text-align: right;\">                </td><td style=\"text-align: right;\">        </td></tr>\n",
       "<tr><td>training_function_5337a_00007</td><td>PENDING   </td><td>                  </td><td style=\"text-align: right;\"> 0  </td><td style=\"text-align: right;\">-0.5</td><td style=\"text-align: right;\">      </td><td style=\"text-align: right;\">                </td><td style=\"text-align: right;\">        </td></tr>\n",
       "<tr><td>training_function_5337a_00008</td><td>PENDING   </td><td>                  </td><td style=\"text-align: right;\"> 0.5</td><td style=\"text-align: right;\">-0.5</td><td style=\"text-align: right;\">      </td><td style=\"text-align: right;\">                </td><td style=\"text-align: right;\">        </td></tr>\n",
       "<tr><td>training_function_5337a_00009</td><td>PENDING   </td><td>                  </td><td style=\"text-align: right;\"> 1  </td><td style=\"text-align: right;\">-0.5</td><td style=\"text-align: right;\">      </td><td style=\"text-align: right;\">                </td><td style=\"text-align: right;\">        </td></tr>\n",
       "<tr><td>training_function_5337a_00010</td><td>PENDING   </td><td>                  </td><td style=\"text-align: right;\">-1  </td><td style=\"text-align: right;\"> 0  </td><td style=\"text-align: right;\">      </td><td style=\"text-align: right;\">                </td><td style=\"text-align: right;\">        </td></tr>\n",
       "<tr><td>training_function_5337a_00011</td><td>PENDING   </td><td>                  </td><td style=\"text-align: right;\">-0.5</td><td style=\"text-align: right;\"> 0  </td><td style=\"text-align: right;\">      </td><td style=\"text-align: right;\">                </td><td style=\"text-align: right;\">        </td></tr>\n",
       "<tr><td>training_function_5337a_00012</td><td>PENDING   </td><td>                  </td><td style=\"text-align: right;\"> 0  </td><td style=\"text-align: right;\"> 0  </td><td style=\"text-align: right;\">      </td><td style=\"text-align: right;\">                </td><td style=\"text-align: right;\">        </td></tr>\n",
       "<tr><td>training_function_5337a_00013</td><td>PENDING   </td><td>                  </td><td style=\"text-align: right;\"> 0.5</td><td style=\"text-align: right;\"> 0  </td><td style=\"text-align: right;\">      </td><td style=\"text-align: right;\">                </td><td style=\"text-align: right;\">        </td></tr>\n",
       "<tr><td>training_function_5337a_00014</td><td>PENDING   </td><td>                  </td><td style=\"text-align: right;\"> 1  </td><td style=\"text-align: right;\"> 0  </td><td style=\"text-align: right;\">      </td><td style=\"text-align: right;\">                </td><td style=\"text-align: right;\">        </td></tr>\n",
       "<tr><td>training_function_5337a_00015</td><td>PENDING   </td><td>                  </td><td style=\"text-align: right;\">-1  </td><td style=\"text-align: right;\"> 0.5</td><td style=\"text-align: right;\">      </td><td style=\"text-align: right;\">                </td><td style=\"text-align: right;\">        </td></tr>\n",
       "<tr><td>training_function_5337a_00016</td><td>PENDING   </td><td>                  </td><td style=\"text-align: right;\">-0.5</td><td style=\"text-align: right;\"> 0.5</td><td style=\"text-align: right;\">      </td><td style=\"text-align: right;\">                </td><td style=\"text-align: right;\">        </td></tr>\n",
       "<tr><td>training_function_5337a_00017</td><td>PENDING   </td><td>                  </td><td style=\"text-align: right;\"> 0  </td><td style=\"text-align: right;\"> 0.5</td><td style=\"text-align: right;\">      </td><td style=\"text-align: right;\">                </td><td style=\"text-align: right;\">        </td></tr>\n",
       "<tr><td>training_function_5337a_00018</td><td>PENDING   </td><td>                  </td><td style=\"text-align: right;\"> 0.5</td><td style=\"text-align: right;\"> 0.5</td><td style=\"text-align: right;\">      </td><td style=\"text-align: right;\">                </td><td style=\"text-align: right;\">        </td></tr>\n",
       "<tr><td>training_function_5337a_00019</td><td>PENDING   </td><td>                  </td><td style=\"text-align: right;\"> 1  </td><td style=\"text-align: right;\"> 0.5</td><td style=\"text-align: right;\">      </td><td style=\"text-align: right;\">                </td><td style=\"text-align: right;\">        </td></tr>\n",
       "<tr><td>training_function_5337a_00000</td><td>TERMINATED</td><td>192.168.2.133:2124</td><td style=\"text-align: right;\">-1  </td><td style=\"text-align: right;\">-1  </td><td style=\"text-align: right;\">     1</td><td style=\"text-align: right;\">         10.0198</td><td style=\"text-align: right;\">1       </td></tr>\n",
       "<tr><td>training_function_5337a_00001</td><td>TERMINATED</td><td>192.168.2.133:2185</td><td style=\"text-align: right;\">-0.5</td><td style=\"text-align: right;\">-1  </td><td style=\"text-align: right;\">     1</td><td style=\"text-align: right;\">         10.0095</td><td style=\"text-align: right;\">0.790569</td></tr>\n",
       "<tr><td>training_function_5337a_00002</td><td>TERMINATED</td><td>192.168.2.133:2247</td><td style=\"text-align: right;\"> 0  </td><td style=\"text-align: right;\">-1  </td><td style=\"text-align: right;\">     1</td><td style=\"text-align: right;\">         10.0104</td><td style=\"text-align: right;\">0.707107</td></tr>\n",
       "</tbody>\n",
       "</table><br><br>"
      ],
      "text/plain": [
       "<IPython.core.display.HTML object>"
      ]
     },
     "metadata": {},
     "output_type": "display_data"
    },
    {
     "name": "stdout",
     "output_type": "stream",
     "text": [
      "Result for training_function_5337a_00003:\n",
      "  date: 2022-04-30_11-25-23\n",
      "  done: false\n",
      "  experiment_id: eb2509aa45fd4bcc9f3a31b5d23990d1\n",
      "  hostname: patrick-c3-1\n",
      "  iterations_since_restore: 1\n",
      "  node_ip: 192.168.2.133\n",
      "  pid: 2308\n",
      "  score: 0.7905694150420949\n",
      "  time_since_restore: 10.009249687194824\n",
      "  time_this_iter_s: 10.009249687194824\n",
      "  time_total_s: 10.009249687194824\n",
      "  timestamp: 1651310723\n",
      "  timesteps_since_restore: 0\n",
      "  training_iteration: 1\n",
      "  trial_id: 5337a_00003\n",
      "  warmup_time: 0.004980325698852539\n",
      "  \n",
      "Result for training_function_5337a_00003:\n",
      "  date: 2022-04-30_11-25-23\n",
      "  done: true\n",
      "  experiment_id: eb2509aa45fd4bcc9f3a31b5d23990d1\n",
      "  experiment_tag: 3_x=0.5,y=-1\n",
      "  hostname: patrick-c3-1\n",
      "  iterations_since_restore: 1\n",
      "  node_ip: 192.168.2.133\n",
      "  pid: 2308\n",
      "  score: 0.7905694150420949\n",
      "  time_since_restore: 10.009249687194824\n",
      "  time_this_iter_s: 10.009249687194824\n",
      "  time_total_s: 10.009249687194824\n",
      "  timestamp: 1651310723\n",
      "  timesteps_since_restore: 0\n",
      "  training_iteration: 1\n",
      "  trial_id: 5337a_00003\n",
      "  warmup_time: 0.004980325698852539\n",
      "  \n"
     ]
    },
    {
     "name": "stderr",
     "output_type": "stream",
     "text": [
      "2022-04-30 11:25:24,944\tINFO trial_runner.py:803 -- starting training_function_5337a_00004\n"
     ]
    },
    {
     "data": {
      "text/html": [
       "== Status ==<br>Current time: 2022-04-30 11:25:29 (running for 00:01:05.38)<br>Memory usage on this node: 1.7/1.9 GiB<br>Using FIFO scheduling algorithm.<br>Resources requested: 1.0/1 CPUs, 0/0 GPUs, 0.0/0.37 GiB heap, 0.0/0.18 GiB objects<br>Result logdir: /home/ubuntu/ray_results/training_function_2022-04-30_11-24-24<br>Number of trials: 21/25 (16 PENDING, 1 RUNNING, 4 TERMINATED)<br><table>\n",
       "<thead>\n",
       "<tr><th>Trial name                   </th><th>status    </th><th>loc               </th><th style=\"text-align: right;\">   x</th><th style=\"text-align: right;\">   y</th><th style=\"text-align: right;\">  iter</th><th style=\"text-align: right;\">  total time (s)</th><th style=\"text-align: right;\">   score</th></tr>\n",
       "</thead>\n",
       "<tbody>\n",
       "<tr><td>training_function_5337a_00004</td><td>RUNNING   </td><td>192.168.2.133:2369</td><td style=\"text-align: right;\"> 1  </td><td style=\"text-align: right;\">-1  </td><td style=\"text-align: right;\">      </td><td style=\"text-align: right;\">                </td><td style=\"text-align: right;\">        </td></tr>\n",
       "<tr><td>training_function_5337a_00005</td><td>PENDING   </td><td>                  </td><td style=\"text-align: right;\">-1  </td><td style=\"text-align: right;\">-0.5</td><td style=\"text-align: right;\">      </td><td style=\"text-align: right;\">                </td><td style=\"text-align: right;\">        </td></tr>\n",
       "<tr><td>training_function_5337a_00006</td><td>PENDING   </td><td>                  </td><td style=\"text-align: right;\">-0.5</td><td style=\"text-align: right;\">-0.5</td><td style=\"text-align: right;\">      </td><td style=\"text-align: right;\">                </td><td style=\"text-align: right;\">        </td></tr>\n",
       "<tr><td>training_function_5337a_00007</td><td>PENDING   </td><td>                  </td><td style=\"text-align: right;\"> 0  </td><td style=\"text-align: right;\">-0.5</td><td style=\"text-align: right;\">      </td><td style=\"text-align: right;\">                </td><td style=\"text-align: right;\">        </td></tr>\n",
       "<tr><td>training_function_5337a_00008</td><td>PENDING   </td><td>                  </td><td style=\"text-align: right;\"> 0.5</td><td style=\"text-align: right;\">-0.5</td><td style=\"text-align: right;\">      </td><td style=\"text-align: right;\">                </td><td style=\"text-align: right;\">        </td></tr>\n",
       "<tr><td>training_function_5337a_00009</td><td>PENDING   </td><td>                  </td><td style=\"text-align: right;\"> 1  </td><td style=\"text-align: right;\">-0.5</td><td style=\"text-align: right;\">      </td><td style=\"text-align: right;\">                </td><td style=\"text-align: right;\">        </td></tr>\n",
       "<tr><td>training_function_5337a_00010</td><td>PENDING   </td><td>                  </td><td style=\"text-align: right;\">-1  </td><td style=\"text-align: right;\"> 0  </td><td style=\"text-align: right;\">      </td><td style=\"text-align: right;\">                </td><td style=\"text-align: right;\">        </td></tr>\n",
       "<tr><td>training_function_5337a_00011</td><td>PENDING   </td><td>                  </td><td style=\"text-align: right;\">-0.5</td><td style=\"text-align: right;\"> 0  </td><td style=\"text-align: right;\">      </td><td style=\"text-align: right;\">                </td><td style=\"text-align: right;\">        </td></tr>\n",
       "<tr><td>training_function_5337a_00012</td><td>PENDING   </td><td>                  </td><td style=\"text-align: right;\"> 0  </td><td style=\"text-align: right;\"> 0  </td><td style=\"text-align: right;\">      </td><td style=\"text-align: right;\">                </td><td style=\"text-align: right;\">        </td></tr>\n",
       "<tr><td>training_function_5337a_00013</td><td>PENDING   </td><td>                  </td><td style=\"text-align: right;\"> 0.5</td><td style=\"text-align: right;\"> 0  </td><td style=\"text-align: right;\">      </td><td style=\"text-align: right;\">                </td><td style=\"text-align: right;\">        </td></tr>\n",
       "<tr><td>training_function_5337a_00014</td><td>PENDING   </td><td>                  </td><td style=\"text-align: right;\"> 1  </td><td style=\"text-align: right;\"> 0  </td><td style=\"text-align: right;\">      </td><td style=\"text-align: right;\">                </td><td style=\"text-align: right;\">        </td></tr>\n",
       "<tr><td>training_function_5337a_00015</td><td>PENDING   </td><td>                  </td><td style=\"text-align: right;\">-1  </td><td style=\"text-align: right;\"> 0.5</td><td style=\"text-align: right;\">      </td><td style=\"text-align: right;\">                </td><td style=\"text-align: right;\">        </td></tr>\n",
       "<tr><td>training_function_5337a_00016</td><td>PENDING   </td><td>                  </td><td style=\"text-align: right;\">-0.5</td><td style=\"text-align: right;\"> 0.5</td><td style=\"text-align: right;\">      </td><td style=\"text-align: right;\">                </td><td style=\"text-align: right;\">        </td></tr>\n",
       "<tr><td>training_function_5337a_00017</td><td>PENDING   </td><td>                  </td><td style=\"text-align: right;\"> 0  </td><td style=\"text-align: right;\"> 0.5</td><td style=\"text-align: right;\">      </td><td style=\"text-align: right;\">                </td><td style=\"text-align: right;\">        </td></tr>\n",
       "<tr><td>training_function_5337a_00018</td><td>PENDING   </td><td>                  </td><td style=\"text-align: right;\"> 0.5</td><td style=\"text-align: right;\"> 0.5</td><td style=\"text-align: right;\">      </td><td style=\"text-align: right;\">                </td><td style=\"text-align: right;\">        </td></tr>\n",
       "<tr><td>training_function_5337a_00019</td><td>PENDING   </td><td>                  </td><td style=\"text-align: right;\"> 1  </td><td style=\"text-align: right;\"> 0.5</td><td style=\"text-align: right;\">      </td><td style=\"text-align: right;\">                </td><td style=\"text-align: right;\">        </td></tr>\n",
       "<tr><td>training_function_5337a_00000</td><td>TERMINATED</td><td>192.168.2.133:2124</td><td style=\"text-align: right;\">-1  </td><td style=\"text-align: right;\">-1  </td><td style=\"text-align: right;\">     1</td><td style=\"text-align: right;\">         10.0198</td><td style=\"text-align: right;\">1       </td></tr>\n",
       "<tr><td>training_function_5337a_00001</td><td>TERMINATED</td><td>192.168.2.133:2185</td><td style=\"text-align: right;\">-0.5</td><td style=\"text-align: right;\">-1  </td><td style=\"text-align: right;\">     1</td><td style=\"text-align: right;\">         10.0095</td><td style=\"text-align: right;\">0.790569</td></tr>\n",
       "<tr><td>training_function_5337a_00002</td><td>TERMINATED</td><td>192.168.2.133:2247</td><td style=\"text-align: right;\"> 0  </td><td style=\"text-align: right;\">-1  </td><td style=\"text-align: right;\">     1</td><td style=\"text-align: right;\">         10.0104</td><td style=\"text-align: right;\">0.707107</td></tr>\n",
       "<tr><td>training_function_5337a_00003</td><td>TERMINATED</td><td>192.168.2.133:2308</td><td style=\"text-align: right;\"> 0.5</td><td style=\"text-align: right;\">-1  </td><td style=\"text-align: right;\">     1</td><td style=\"text-align: right;\">         10.0092</td><td style=\"text-align: right;\">0.790569</td></tr>\n",
       "</tbody>\n",
       "</table><br>... 1 more trials not shown (1 PENDING)<br><br>"
      ],
      "text/plain": [
       "<IPython.core.display.HTML object>"
      ]
     },
     "metadata": {},
     "output_type": "display_data"
    },
    {
     "data": {
      "text/html": [
       "== Status ==<br>Current time: 2022-04-30 11:25:35 (running for 00:01:10.40)<br>Memory usage on this node: 1.7/1.9 GiB<br>Using FIFO scheduling algorithm.<br>Resources requested: 1.0/1 CPUs, 0/0 GPUs, 0.0/0.37 GiB heap, 0.0/0.18 GiB objects<br>Result logdir: /home/ubuntu/ray_results/training_function_2022-04-30_11-24-24<br>Number of trials: 21/25 (16 PENDING, 1 RUNNING, 4 TERMINATED)<br><table>\n",
       "<thead>\n",
       "<tr><th>Trial name                   </th><th>status    </th><th>loc               </th><th style=\"text-align: right;\">   x</th><th style=\"text-align: right;\">   y</th><th style=\"text-align: right;\">  iter</th><th style=\"text-align: right;\">  total time (s)</th><th style=\"text-align: right;\">   score</th></tr>\n",
       "</thead>\n",
       "<tbody>\n",
       "<tr><td>training_function_5337a_00004</td><td>RUNNING   </td><td>192.168.2.133:2369</td><td style=\"text-align: right;\"> 1  </td><td style=\"text-align: right;\">-1  </td><td style=\"text-align: right;\">      </td><td style=\"text-align: right;\">                </td><td style=\"text-align: right;\">        </td></tr>\n",
       "<tr><td>training_function_5337a_00005</td><td>PENDING   </td><td>                  </td><td style=\"text-align: right;\">-1  </td><td style=\"text-align: right;\">-0.5</td><td style=\"text-align: right;\">      </td><td style=\"text-align: right;\">                </td><td style=\"text-align: right;\">        </td></tr>\n",
       "<tr><td>training_function_5337a_00006</td><td>PENDING   </td><td>                  </td><td style=\"text-align: right;\">-0.5</td><td style=\"text-align: right;\">-0.5</td><td style=\"text-align: right;\">      </td><td style=\"text-align: right;\">                </td><td style=\"text-align: right;\">        </td></tr>\n",
       "<tr><td>training_function_5337a_00007</td><td>PENDING   </td><td>                  </td><td style=\"text-align: right;\"> 0  </td><td style=\"text-align: right;\">-0.5</td><td style=\"text-align: right;\">      </td><td style=\"text-align: right;\">                </td><td style=\"text-align: right;\">        </td></tr>\n",
       "<tr><td>training_function_5337a_00008</td><td>PENDING   </td><td>                  </td><td style=\"text-align: right;\"> 0.5</td><td style=\"text-align: right;\">-0.5</td><td style=\"text-align: right;\">      </td><td style=\"text-align: right;\">                </td><td style=\"text-align: right;\">        </td></tr>\n",
       "<tr><td>training_function_5337a_00009</td><td>PENDING   </td><td>                  </td><td style=\"text-align: right;\"> 1  </td><td style=\"text-align: right;\">-0.5</td><td style=\"text-align: right;\">      </td><td style=\"text-align: right;\">                </td><td style=\"text-align: right;\">        </td></tr>\n",
       "<tr><td>training_function_5337a_00010</td><td>PENDING   </td><td>                  </td><td style=\"text-align: right;\">-1  </td><td style=\"text-align: right;\"> 0  </td><td style=\"text-align: right;\">      </td><td style=\"text-align: right;\">                </td><td style=\"text-align: right;\">        </td></tr>\n",
       "<tr><td>training_function_5337a_00011</td><td>PENDING   </td><td>                  </td><td style=\"text-align: right;\">-0.5</td><td style=\"text-align: right;\"> 0  </td><td style=\"text-align: right;\">      </td><td style=\"text-align: right;\">                </td><td style=\"text-align: right;\">        </td></tr>\n",
       "<tr><td>training_function_5337a_00012</td><td>PENDING   </td><td>                  </td><td style=\"text-align: right;\"> 0  </td><td style=\"text-align: right;\"> 0  </td><td style=\"text-align: right;\">      </td><td style=\"text-align: right;\">                </td><td style=\"text-align: right;\">        </td></tr>\n",
       "<tr><td>training_function_5337a_00013</td><td>PENDING   </td><td>                  </td><td style=\"text-align: right;\"> 0.5</td><td style=\"text-align: right;\"> 0  </td><td style=\"text-align: right;\">      </td><td style=\"text-align: right;\">                </td><td style=\"text-align: right;\">        </td></tr>\n",
       "<tr><td>training_function_5337a_00014</td><td>PENDING   </td><td>                  </td><td style=\"text-align: right;\"> 1  </td><td style=\"text-align: right;\"> 0  </td><td style=\"text-align: right;\">      </td><td style=\"text-align: right;\">                </td><td style=\"text-align: right;\">        </td></tr>\n",
       "<tr><td>training_function_5337a_00015</td><td>PENDING   </td><td>                  </td><td style=\"text-align: right;\">-1  </td><td style=\"text-align: right;\"> 0.5</td><td style=\"text-align: right;\">      </td><td style=\"text-align: right;\">                </td><td style=\"text-align: right;\">        </td></tr>\n",
       "<tr><td>training_function_5337a_00016</td><td>PENDING   </td><td>                  </td><td style=\"text-align: right;\">-0.5</td><td style=\"text-align: right;\"> 0.5</td><td style=\"text-align: right;\">      </td><td style=\"text-align: right;\">                </td><td style=\"text-align: right;\">        </td></tr>\n",
       "<tr><td>training_function_5337a_00017</td><td>PENDING   </td><td>                  </td><td style=\"text-align: right;\"> 0  </td><td style=\"text-align: right;\"> 0.5</td><td style=\"text-align: right;\">      </td><td style=\"text-align: right;\">                </td><td style=\"text-align: right;\">        </td></tr>\n",
       "<tr><td>training_function_5337a_00018</td><td>PENDING   </td><td>                  </td><td style=\"text-align: right;\"> 0.5</td><td style=\"text-align: right;\"> 0.5</td><td style=\"text-align: right;\">      </td><td style=\"text-align: right;\">                </td><td style=\"text-align: right;\">        </td></tr>\n",
       "<tr><td>training_function_5337a_00019</td><td>PENDING   </td><td>                  </td><td style=\"text-align: right;\"> 1  </td><td style=\"text-align: right;\"> 0.5</td><td style=\"text-align: right;\">      </td><td style=\"text-align: right;\">                </td><td style=\"text-align: right;\">        </td></tr>\n",
       "<tr><td>training_function_5337a_00000</td><td>TERMINATED</td><td>192.168.2.133:2124</td><td style=\"text-align: right;\">-1  </td><td style=\"text-align: right;\">-1  </td><td style=\"text-align: right;\">     1</td><td style=\"text-align: right;\">         10.0198</td><td style=\"text-align: right;\">1       </td></tr>\n",
       "<tr><td>training_function_5337a_00001</td><td>TERMINATED</td><td>192.168.2.133:2185</td><td style=\"text-align: right;\">-0.5</td><td style=\"text-align: right;\">-1  </td><td style=\"text-align: right;\">     1</td><td style=\"text-align: right;\">         10.0095</td><td style=\"text-align: right;\">0.790569</td></tr>\n",
       "<tr><td>training_function_5337a_00002</td><td>TERMINATED</td><td>192.168.2.133:2247</td><td style=\"text-align: right;\"> 0  </td><td style=\"text-align: right;\">-1  </td><td style=\"text-align: right;\">     1</td><td style=\"text-align: right;\">         10.0104</td><td style=\"text-align: right;\">0.707107</td></tr>\n",
       "<tr><td>training_function_5337a_00003</td><td>TERMINATED</td><td>192.168.2.133:2308</td><td style=\"text-align: right;\"> 0.5</td><td style=\"text-align: right;\">-1  </td><td style=\"text-align: right;\">     1</td><td style=\"text-align: right;\">         10.0092</td><td style=\"text-align: right;\">0.790569</td></tr>\n",
       "</tbody>\n",
       "</table><br>... 1 more trials not shown (1 PENDING)<br><br>"
      ],
      "text/plain": [
       "<IPython.core.display.HTML object>"
      ]
     },
     "metadata": {},
     "output_type": "display_data"
    },
    {
     "name": "stdout",
     "output_type": "stream",
     "text": [
      "Result for training_function_5337a_00004:\n",
      "  date: 2022-04-30_11-25-37\n",
      "  done: false\n",
      "  experiment_id: 94c08dd1913640fbb3587d144824cbc5\n",
      "  hostname: patrick-c3-1\n",
      "  iterations_since_restore: 1\n",
      "  node_ip: 192.168.2.133\n",
      "  pid: 2369\n",
      "  score: 1.0\n",
      "  time_since_restore: 10.014081954956055\n",
      "  time_this_iter_s: 10.014081954956055\n",
      "  time_total_s: 10.014081954956055\n",
      "  timestamp: 1651310737\n",
      "  timesteps_since_restore: 0\n",
      "  training_iteration: 1\n",
      "  trial_id: 5337a_00004\n",
      "  warmup_time: 0.0089569091796875\n",
      "  \n",
      "Result for training_function_5337a_00004:\n",
      "  date: 2022-04-30_11-25-37\n",
      "  done: true\n",
      "  experiment_id: 94c08dd1913640fbb3587d144824cbc5\n",
      "  experiment_tag: 4_x=1,y=-1\n",
      "  hostname: patrick-c3-1\n",
      "  iterations_since_restore: 1\n",
      "  node_ip: 192.168.2.133\n",
      "  pid: 2369\n",
      "  score: 1.0\n",
      "  time_since_restore: 10.014081954956055\n",
      "  time_this_iter_s: 10.014081954956055\n",
      "  time_total_s: 10.014081954956055\n",
      "  timestamp: 1651310737\n",
      "  timesteps_since_restore: 0\n",
      "  training_iteration: 1\n",
      "  trial_id: 5337a_00004\n",
      "  warmup_time: 0.0089569091796875\n",
      "  \n"
     ]
    },
    {
     "name": "stderr",
     "output_type": "stream",
     "text": [
      "2022-04-30 11:25:38,907\tINFO trial_runner.py:803 -- starting training_function_5337a_00005\n"
     ]
    },
    {
     "data": {
      "text/html": [
       "== Status ==<br>Current time: 2022-04-30 11:25:43 (running for 00:01:19.34)<br>Memory usage on this node: 1.7/1.9 GiB<br>Using FIFO scheduling algorithm.<br>Resources requested: 1.0/1 CPUs, 0/0 GPUs, 0.0/0.37 GiB heap, 0.0/0.18 GiB objects<br>Result logdir: /home/ubuntu/ray_results/training_function_2022-04-30_11-24-24<br>Number of trials: 22/25 (16 PENDING, 1 RUNNING, 5 TERMINATED)<br><table>\n",
       "<thead>\n",
       "<tr><th>Trial name                   </th><th>status    </th><th>loc               </th><th style=\"text-align: right;\">   x</th><th style=\"text-align: right;\">   y</th><th style=\"text-align: right;\">  iter</th><th style=\"text-align: right;\">  total time (s)</th><th style=\"text-align: right;\">   score</th></tr>\n",
       "</thead>\n",
       "<tbody>\n",
       "<tr><td>training_function_5337a_00005</td><td>RUNNING   </td><td>192.168.2.133:2428</td><td style=\"text-align: right;\">-1  </td><td style=\"text-align: right;\">-0.5</td><td style=\"text-align: right;\">      </td><td style=\"text-align: right;\">                </td><td style=\"text-align: right;\">        </td></tr>\n",
       "<tr><td>training_function_5337a_00006</td><td>PENDING   </td><td>                  </td><td style=\"text-align: right;\">-0.5</td><td style=\"text-align: right;\">-0.5</td><td style=\"text-align: right;\">      </td><td style=\"text-align: right;\">                </td><td style=\"text-align: right;\">        </td></tr>\n",
       "<tr><td>training_function_5337a_00007</td><td>PENDING   </td><td>                  </td><td style=\"text-align: right;\"> 0  </td><td style=\"text-align: right;\">-0.5</td><td style=\"text-align: right;\">      </td><td style=\"text-align: right;\">                </td><td style=\"text-align: right;\">        </td></tr>\n",
       "<tr><td>training_function_5337a_00008</td><td>PENDING   </td><td>                  </td><td style=\"text-align: right;\"> 0.5</td><td style=\"text-align: right;\">-0.5</td><td style=\"text-align: right;\">      </td><td style=\"text-align: right;\">                </td><td style=\"text-align: right;\">        </td></tr>\n",
       "<tr><td>training_function_5337a_00009</td><td>PENDING   </td><td>                  </td><td style=\"text-align: right;\"> 1  </td><td style=\"text-align: right;\">-0.5</td><td style=\"text-align: right;\">      </td><td style=\"text-align: right;\">                </td><td style=\"text-align: right;\">        </td></tr>\n",
       "<tr><td>training_function_5337a_00010</td><td>PENDING   </td><td>                  </td><td style=\"text-align: right;\">-1  </td><td style=\"text-align: right;\"> 0  </td><td style=\"text-align: right;\">      </td><td style=\"text-align: right;\">                </td><td style=\"text-align: right;\">        </td></tr>\n",
       "<tr><td>training_function_5337a_00011</td><td>PENDING   </td><td>                  </td><td style=\"text-align: right;\">-0.5</td><td style=\"text-align: right;\"> 0  </td><td style=\"text-align: right;\">      </td><td style=\"text-align: right;\">                </td><td style=\"text-align: right;\">        </td></tr>\n",
       "<tr><td>training_function_5337a_00012</td><td>PENDING   </td><td>                  </td><td style=\"text-align: right;\"> 0  </td><td style=\"text-align: right;\"> 0  </td><td style=\"text-align: right;\">      </td><td style=\"text-align: right;\">                </td><td style=\"text-align: right;\">        </td></tr>\n",
       "<tr><td>training_function_5337a_00013</td><td>PENDING   </td><td>                  </td><td style=\"text-align: right;\"> 0.5</td><td style=\"text-align: right;\"> 0  </td><td style=\"text-align: right;\">      </td><td style=\"text-align: right;\">                </td><td style=\"text-align: right;\">        </td></tr>\n",
       "<tr><td>training_function_5337a_00014</td><td>PENDING   </td><td>                  </td><td style=\"text-align: right;\"> 1  </td><td style=\"text-align: right;\"> 0  </td><td style=\"text-align: right;\">      </td><td style=\"text-align: right;\">                </td><td style=\"text-align: right;\">        </td></tr>\n",
       "<tr><td>training_function_5337a_00015</td><td>PENDING   </td><td>                  </td><td style=\"text-align: right;\">-1  </td><td style=\"text-align: right;\"> 0.5</td><td style=\"text-align: right;\">      </td><td style=\"text-align: right;\">                </td><td style=\"text-align: right;\">        </td></tr>\n",
       "<tr><td>training_function_5337a_00016</td><td>PENDING   </td><td>                  </td><td style=\"text-align: right;\">-0.5</td><td style=\"text-align: right;\"> 0.5</td><td style=\"text-align: right;\">      </td><td style=\"text-align: right;\">                </td><td style=\"text-align: right;\">        </td></tr>\n",
       "<tr><td>training_function_5337a_00017</td><td>PENDING   </td><td>                  </td><td style=\"text-align: right;\"> 0  </td><td style=\"text-align: right;\"> 0.5</td><td style=\"text-align: right;\">      </td><td style=\"text-align: right;\">                </td><td style=\"text-align: right;\">        </td></tr>\n",
       "<tr><td>training_function_5337a_00018</td><td>PENDING   </td><td>                  </td><td style=\"text-align: right;\"> 0.5</td><td style=\"text-align: right;\"> 0.5</td><td style=\"text-align: right;\">      </td><td style=\"text-align: right;\">                </td><td style=\"text-align: right;\">        </td></tr>\n",
       "<tr><td>training_function_5337a_00019</td><td>PENDING   </td><td>                  </td><td style=\"text-align: right;\"> 1  </td><td style=\"text-align: right;\"> 0.5</td><td style=\"text-align: right;\">      </td><td style=\"text-align: right;\">                </td><td style=\"text-align: right;\">        </td></tr>\n",
       "<tr><td>training_function_5337a_00000</td><td>TERMINATED</td><td>192.168.2.133:2124</td><td style=\"text-align: right;\">-1  </td><td style=\"text-align: right;\">-1  </td><td style=\"text-align: right;\">     1</td><td style=\"text-align: right;\">         10.0198</td><td style=\"text-align: right;\">1       </td></tr>\n",
       "<tr><td>training_function_5337a_00001</td><td>TERMINATED</td><td>192.168.2.133:2185</td><td style=\"text-align: right;\">-0.5</td><td style=\"text-align: right;\">-1  </td><td style=\"text-align: right;\">     1</td><td style=\"text-align: right;\">         10.0095</td><td style=\"text-align: right;\">0.790569</td></tr>\n",
       "<tr><td>training_function_5337a_00002</td><td>TERMINATED</td><td>192.168.2.133:2247</td><td style=\"text-align: right;\"> 0  </td><td style=\"text-align: right;\">-1  </td><td style=\"text-align: right;\">     1</td><td style=\"text-align: right;\">         10.0104</td><td style=\"text-align: right;\">0.707107</td></tr>\n",
       "<tr><td>training_function_5337a_00003</td><td>TERMINATED</td><td>192.168.2.133:2308</td><td style=\"text-align: right;\"> 0.5</td><td style=\"text-align: right;\">-1  </td><td style=\"text-align: right;\">     1</td><td style=\"text-align: right;\">         10.0092</td><td style=\"text-align: right;\">0.790569</td></tr>\n",
       "<tr><td>training_function_5337a_00004</td><td>TERMINATED</td><td>192.168.2.133:2369</td><td style=\"text-align: right;\"> 1  </td><td style=\"text-align: right;\">-1  </td><td style=\"text-align: right;\">     1</td><td style=\"text-align: right;\">         10.0141</td><td style=\"text-align: right;\">1       </td></tr>\n",
       "</tbody>\n",
       "</table><br>... 2 more trials not shown (2 PENDING)<br><br>"
      ],
      "text/plain": [
       "<IPython.core.display.HTML object>"
      ]
     },
     "metadata": {},
     "output_type": "display_data"
    },
    {
     "data": {
      "text/html": [
       "== Status ==<br>Current time: 2022-04-30 11:25:48 (running for 00:01:24.36)<br>Memory usage on this node: 1.7/1.9 GiB<br>Using FIFO scheduling algorithm.<br>Resources requested: 1.0/1 CPUs, 0/0 GPUs, 0.0/0.37 GiB heap, 0.0/0.18 GiB objects<br>Result logdir: /home/ubuntu/ray_results/training_function_2022-04-30_11-24-24<br>Number of trials: 22/25 (16 PENDING, 1 RUNNING, 5 TERMINATED)<br><table>\n",
       "<thead>\n",
       "<tr><th>Trial name                   </th><th>status    </th><th>loc               </th><th style=\"text-align: right;\">   x</th><th style=\"text-align: right;\">   y</th><th style=\"text-align: right;\">  iter</th><th style=\"text-align: right;\">  total time (s)</th><th style=\"text-align: right;\">   score</th></tr>\n",
       "</thead>\n",
       "<tbody>\n",
       "<tr><td>training_function_5337a_00005</td><td>RUNNING   </td><td>192.168.2.133:2428</td><td style=\"text-align: right;\">-1  </td><td style=\"text-align: right;\">-0.5</td><td style=\"text-align: right;\">      </td><td style=\"text-align: right;\">                </td><td style=\"text-align: right;\">        </td></tr>\n",
       "<tr><td>training_function_5337a_00006</td><td>PENDING   </td><td>                  </td><td style=\"text-align: right;\">-0.5</td><td style=\"text-align: right;\">-0.5</td><td style=\"text-align: right;\">      </td><td style=\"text-align: right;\">                </td><td style=\"text-align: right;\">        </td></tr>\n",
       "<tr><td>training_function_5337a_00007</td><td>PENDING   </td><td>                  </td><td style=\"text-align: right;\"> 0  </td><td style=\"text-align: right;\">-0.5</td><td style=\"text-align: right;\">      </td><td style=\"text-align: right;\">                </td><td style=\"text-align: right;\">        </td></tr>\n",
       "<tr><td>training_function_5337a_00008</td><td>PENDING   </td><td>                  </td><td style=\"text-align: right;\"> 0.5</td><td style=\"text-align: right;\">-0.5</td><td style=\"text-align: right;\">      </td><td style=\"text-align: right;\">                </td><td style=\"text-align: right;\">        </td></tr>\n",
       "<tr><td>training_function_5337a_00009</td><td>PENDING   </td><td>                  </td><td style=\"text-align: right;\"> 1  </td><td style=\"text-align: right;\">-0.5</td><td style=\"text-align: right;\">      </td><td style=\"text-align: right;\">                </td><td style=\"text-align: right;\">        </td></tr>\n",
       "<tr><td>training_function_5337a_00010</td><td>PENDING   </td><td>                  </td><td style=\"text-align: right;\">-1  </td><td style=\"text-align: right;\"> 0  </td><td style=\"text-align: right;\">      </td><td style=\"text-align: right;\">                </td><td style=\"text-align: right;\">        </td></tr>\n",
       "<tr><td>training_function_5337a_00011</td><td>PENDING   </td><td>                  </td><td style=\"text-align: right;\">-0.5</td><td style=\"text-align: right;\"> 0  </td><td style=\"text-align: right;\">      </td><td style=\"text-align: right;\">                </td><td style=\"text-align: right;\">        </td></tr>\n",
       "<tr><td>training_function_5337a_00012</td><td>PENDING   </td><td>                  </td><td style=\"text-align: right;\"> 0  </td><td style=\"text-align: right;\"> 0  </td><td style=\"text-align: right;\">      </td><td style=\"text-align: right;\">                </td><td style=\"text-align: right;\">        </td></tr>\n",
       "<tr><td>training_function_5337a_00013</td><td>PENDING   </td><td>                  </td><td style=\"text-align: right;\"> 0.5</td><td style=\"text-align: right;\"> 0  </td><td style=\"text-align: right;\">      </td><td style=\"text-align: right;\">                </td><td style=\"text-align: right;\">        </td></tr>\n",
       "<tr><td>training_function_5337a_00014</td><td>PENDING   </td><td>                  </td><td style=\"text-align: right;\"> 1  </td><td style=\"text-align: right;\"> 0  </td><td style=\"text-align: right;\">      </td><td style=\"text-align: right;\">                </td><td style=\"text-align: right;\">        </td></tr>\n",
       "<tr><td>training_function_5337a_00015</td><td>PENDING   </td><td>                  </td><td style=\"text-align: right;\">-1  </td><td style=\"text-align: right;\"> 0.5</td><td style=\"text-align: right;\">      </td><td style=\"text-align: right;\">                </td><td style=\"text-align: right;\">        </td></tr>\n",
       "<tr><td>training_function_5337a_00016</td><td>PENDING   </td><td>                  </td><td style=\"text-align: right;\">-0.5</td><td style=\"text-align: right;\"> 0.5</td><td style=\"text-align: right;\">      </td><td style=\"text-align: right;\">                </td><td style=\"text-align: right;\">        </td></tr>\n",
       "<tr><td>training_function_5337a_00017</td><td>PENDING   </td><td>                  </td><td style=\"text-align: right;\"> 0  </td><td style=\"text-align: right;\"> 0.5</td><td style=\"text-align: right;\">      </td><td style=\"text-align: right;\">                </td><td style=\"text-align: right;\">        </td></tr>\n",
       "<tr><td>training_function_5337a_00018</td><td>PENDING   </td><td>                  </td><td style=\"text-align: right;\"> 0.5</td><td style=\"text-align: right;\"> 0.5</td><td style=\"text-align: right;\">      </td><td style=\"text-align: right;\">                </td><td style=\"text-align: right;\">        </td></tr>\n",
       "<tr><td>training_function_5337a_00019</td><td>PENDING   </td><td>                  </td><td style=\"text-align: right;\"> 1  </td><td style=\"text-align: right;\"> 0.5</td><td style=\"text-align: right;\">      </td><td style=\"text-align: right;\">                </td><td style=\"text-align: right;\">        </td></tr>\n",
       "<tr><td>training_function_5337a_00000</td><td>TERMINATED</td><td>192.168.2.133:2124</td><td style=\"text-align: right;\">-1  </td><td style=\"text-align: right;\">-1  </td><td style=\"text-align: right;\">     1</td><td style=\"text-align: right;\">         10.0198</td><td style=\"text-align: right;\">1       </td></tr>\n",
       "<tr><td>training_function_5337a_00001</td><td>TERMINATED</td><td>192.168.2.133:2185</td><td style=\"text-align: right;\">-0.5</td><td style=\"text-align: right;\">-1  </td><td style=\"text-align: right;\">     1</td><td style=\"text-align: right;\">         10.0095</td><td style=\"text-align: right;\">0.790569</td></tr>\n",
       "<tr><td>training_function_5337a_00002</td><td>TERMINATED</td><td>192.168.2.133:2247</td><td style=\"text-align: right;\"> 0  </td><td style=\"text-align: right;\">-1  </td><td style=\"text-align: right;\">     1</td><td style=\"text-align: right;\">         10.0104</td><td style=\"text-align: right;\">0.707107</td></tr>\n",
       "<tr><td>training_function_5337a_00003</td><td>TERMINATED</td><td>192.168.2.133:2308</td><td style=\"text-align: right;\"> 0.5</td><td style=\"text-align: right;\">-1  </td><td style=\"text-align: right;\">     1</td><td style=\"text-align: right;\">         10.0092</td><td style=\"text-align: right;\">0.790569</td></tr>\n",
       "<tr><td>training_function_5337a_00004</td><td>TERMINATED</td><td>192.168.2.133:2369</td><td style=\"text-align: right;\"> 1  </td><td style=\"text-align: right;\">-1  </td><td style=\"text-align: right;\">     1</td><td style=\"text-align: right;\">         10.0141</td><td style=\"text-align: right;\">1       </td></tr>\n",
       "</tbody>\n",
       "</table><br>... 2 more trials not shown (2 PENDING)<br><br>"
      ],
      "text/plain": [
       "<IPython.core.display.HTML object>"
      ]
     },
     "metadata": {},
     "output_type": "display_data"
    },
    {
     "name": "stdout",
     "output_type": "stream",
     "text": [
      "Result for training_function_5337a_00005:\n",
      "  date: 2022-04-30_11-25-51\n",
      "  done: false\n",
      "  experiment_id: 6f54f5d1117a486b9b59507bd5118f25\n",
      "  hostname: patrick-c3-1\n",
      "  iterations_since_restore: 1\n",
      "  node_ip: 192.168.2.133\n",
      "  pid: 2428\n",
      "  score: 0.7905694150420949\n",
      "  time_since_restore: 10.011368751525879\n",
      "  time_this_iter_s: 10.011368751525879\n",
      "  time_total_s: 10.011368751525879\n",
      "  timestamp: 1651310751\n",
      "  timesteps_since_restore: 0\n",
      "  training_iteration: 1\n",
      "  trial_id: 5337a_00005\n",
      "  warmup_time: 0.007627010345458984\n",
      "  \n",
      "Result for training_function_5337a_00005:\n",
      "  date: 2022-04-30_11-25-51\n",
      "  done: true\n",
      "  experiment_id: 6f54f5d1117a486b9b59507bd5118f25\n",
      "  experiment_tag: 5_x=-1,y=-0.5\n",
      "  hostname: patrick-c3-1\n",
      "  iterations_since_restore: 1\n",
      "  node_ip: 192.168.2.133\n",
      "  pid: 2428\n",
      "  score: 0.7905694150420949\n",
      "  time_since_restore: 10.011368751525879\n",
      "  time_this_iter_s: 10.011368751525879\n",
      "  time_total_s: 10.011368751525879\n",
      "  timestamp: 1651310751\n",
      "  timesteps_since_restore: 0\n",
      "  training_iteration: 1\n",
      "  trial_id: 5337a_00005\n",
      "  warmup_time: 0.007627010345458984\n",
      "  \n"
     ]
    },
    {
     "name": "stderr",
     "output_type": "stream",
     "text": [
      "2022-04-30 11:25:52,916\tINFO trial_runner.py:803 -- starting training_function_5337a_00006\n"
     ]
    },
    {
     "data": {
      "text/html": [
       "== Status ==<br>Current time: 2022-04-30 11:25:57 (running for 00:01:33.36)<br>Memory usage on this node: 1.7/1.9 GiB<br>Using FIFO scheduling algorithm.<br>Resources requested: 1.0/1 CPUs, 0/0 GPUs, 0.0/0.37 GiB heap, 0.0/0.18 GiB objects<br>Result logdir: /home/ubuntu/ray_results/training_function_2022-04-30_11-24-24<br>Number of trials: 23/25 (16 PENDING, 1 RUNNING, 6 TERMINATED)<br><table>\n",
       "<thead>\n",
       "<tr><th>Trial name                   </th><th>status    </th><th>loc               </th><th style=\"text-align: right;\">   x</th><th style=\"text-align: right;\">   y</th><th style=\"text-align: right;\">  iter</th><th style=\"text-align: right;\">  total time (s)</th><th style=\"text-align: right;\">   score</th></tr>\n",
       "</thead>\n",
       "<tbody>\n",
       "<tr><td>training_function_5337a_00006</td><td>RUNNING   </td><td>192.168.2.133:2489</td><td style=\"text-align: right;\">-0.5</td><td style=\"text-align: right;\">-0.5</td><td style=\"text-align: right;\">      </td><td style=\"text-align: right;\">                </td><td style=\"text-align: right;\">        </td></tr>\n",
       "<tr><td>training_function_5337a_00007</td><td>PENDING   </td><td>                  </td><td style=\"text-align: right;\"> 0  </td><td style=\"text-align: right;\">-0.5</td><td style=\"text-align: right;\">      </td><td style=\"text-align: right;\">                </td><td style=\"text-align: right;\">        </td></tr>\n",
       "<tr><td>training_function_5337a_00008</td><td>PENDING   </td><td>                  </td><td style=\"text-align: right;\"> 0.5</td><td style=\"text-align: right;\">-0.5</td><td style=\"text-align: right;\">      </td><td style=\"text-align: right;\">                </td><td style=\"text-align: right;\">        </td></tr>\n",
       "<tr><td>training_function_5337a_00009</td><td>PENDING   </td><td>                  </td><td style=\"text-align: right;\"> 1  </td><td style=\"text-align: right;\">-0.5</td><td style=\"text-align: right;\">      </td><td style=\"text-align: right;\">                </td><td style=\"text-align: right;\">        </td></tr>\n",
       "<tr><td>training_function_5337a_00010</td><td>PENDING   </td><td>                  </td><td style=\"text-align: right;\">-1  </td><td style=\"text-align: right;\"> 0  </td><td style=\"text-align: right;\">      </td><td style=\"text-align: right;\">                </td><td style=\"text-align: right;\">        </td></tr>\n",
       "<tr><td>training_function_5337a_00011</td><td>PENDING   </td><td>                  </td><td style=\"text-align: right;\">-0.5</td><td style=\"text-align: right;\"> 0  </td><td style=\"text-align: right;\">      </td><td style=\"text-align: right;\">                </td><td style=\"text-align: right;\">        </td></tr>\n",
       "<tr><td>training_function_5337a_00012</td><td>PENDING   </td><td>                  </td><td style=\"text-align: right;\"> 0  </td><td style=\"text-align: right;\"> 0  </td><td style=\"text-align: right;\">      </td><td style=\"text-align: right;\">                </td><td style=\"text-align: right;\">        </td></tr>\n",
       "<tr><td>training_function_5337a_00013</td><td>PENDING   </td><td>                  </td><td style=\"text-align: right;\"> 0.5</td><td style=\"text-align: right;\"> 0  </td><td style=\"text-align: right;\">      </td><td style=\"text-align: right;\">                </td><td style=\"text-align: right;\">        </td></tr>\n",
       "<tr><td>training_function_5337a_00014</td><td>PENDING   </td><td>                  </td><td style=\"text-align: right;\"> 1  </td><td style=\"text-align: right;\"> 0  </td><td style=\"text-align: right;\">      </td><td style=\"text-align: right;\">                </td><td style=\"text-align: right;\">        </td></tr>\n",
       "<tr><td>training_function_5337a_00015</td><td>PENDING   </td><td>                  </td><td style=\"text-align: right;\">-1  </td><td style=\"text-align: right;\"> 0.5</td><td style=\"text-align: right;\">      </td><td style=\"text-align: right;\">                </td><td style=\"text-align: right;\">        </td></tr>\n",
       "<tr><td>training_function_5337a_00016</td><td>PENDING   </td><td>                  </td><td style=\"text-align: right;\">-0.5</td><td style=\"text-align: right;\"> 0.5</td><td style=\"text-align: right;\">      </td><td style=\"text-align: right;\">                </td><td style=\"text-align: right;\">        </td></tr>\n",
       "<tr><td>training_function_5337a_00017</td><td>PENDING   </td><td>                  </td><td style=\"text-align: right;\"> 0  </td><td style=\"text-align: right;\"> 0.5</td><td style=\"text-align: right;\">      </td><td style=\"text-align: right;\">                </td><td style=\"text-align: right;\">        </td></tr>\n",
       "<tr><td>training_function_5337a_00018</td><td>PENDING   </td><td>                  </td><td style=\"text-align: right;\"> 0.5</td><td style=\"text-align: right;\"> 0.5</td><td style=\"text-align: right;\">      </td><td style=\"text-align: right;\">                </td><td style=\"text-align: right;\">        </td></tr>\n",
       "<tr><td>training_function_5337a_00019</td><td>PENDING   </td><td>                  </td><td style=\"text-align: right;\"> 1  </td><td style=\"text-align: right;\"> 0.5</td><td style=\"text-align: right;\">      </td><td style=\"text-align: right;\">                </td><td style=\"text-align: right;\">        </td></tr>\n",
       "<tr><td>training_function_5337a_00000</td><td>TERMINATED</td><td>192.168.2.133:2124</td><td style=\"text-align: right;\">-1  </td><td style=\"text-align: right;\">-1  </td><td style=\"text-align: right;\">     1</td><td style=\"text-align: right;\">         10.0198</td><td style=\"text-align: right;\">1       </td></tr>\n",
       "<tr><td>training_function_5337a_00001</td><td>TERMINATED</td><td>192.168.2.133:2185</td><td style=\"text-align: right;\">-0.5</td><td style=\"text-align: right;\">-1  </td><td style=\"text-align: right;\">     1</td><td style=\"text-align: right;\">         10.0095</td><td style=\"text-align: right;\">0.790569</td></tr>\n",
       "<tr><td>training_function_5337a_00002</td><td>TERMINATED</td><td>192.168.2.133:2247</td><td style=\"text-align: right;\"> 0  </td><td style=\"text-align: right;\">-1  </td><td style=\"text-align: right;\">     1</td><td style=\"text-align: right;\">         10.0104</td><td style=\"text-align: right;\">0.707107</td></tr>\n",
       "<tr><td>training_function_5337a_00003</td><td>TERMINATED</td><td>192.168.2.133:2308</td><td style=\"text-align: right;\"> 0.5</td><td style=\"text-align: right;\">-1  </td><td style=\"text-align: right;\">     1</td><td style=\"text-align: right;\">         10.0092</td><td style=\"text-align: right;\">0.790569</td></tr>\n",
       "<tr><td>training_function_5337a_00004</td><td>TERMINATED</td><td>192.168.2.133:2369</td><td style=\"text-align: right;\"> 1  </td><td style=\"text-align: right;\">-1  </td><td style=\"text-align: right;\">     1</td><td style=\"text-align: right;\">         10.0141</td><td style=\"text-align: right;\">1       </td></tr>\n",
       "<tr><td>training_function_5337a_00005</td><td>TERMINATED</td><td>192.168.2.133:2428</td><td style=\"text-align: right;\">-1  </td><td style=\"text-align: right;\">-0.5</td><td style=\"text-align: right;\">     1</td><td style=\"text-align: right;\">         10.0114</td><td style=\"text-align: right;\">0.790569</td></tr>\n",
       "</tbody>\n",
       "</table><br>... 3 more trials not shown (3 PENDING)<br><br>"
      ],
      "text/plain": [
       "<IPython.core.display.HTML object>"
      ]
     },
     "metadata": {},
     "output_type": "display_data"
    },
    {
     "data": {
      "text/html": [
       "== Status ==<br>Current time: 2022-04-30 11:26:02 (running for 00:01:38.38)<br>Memory usage on this node: 1.7/1.9 GiB<br>Using FIFO scheduling algorithm.<br>Resources requested: 1.0/1 CPUs, 0/0 GPUs, 0.0/0.37 GiB heap, 0.0/0.18 GiB objects<br>Result logdir: /home/ubuntu/ray_results/training_function_2022-04-30_11-24-24<br>Number of trials: 23/25 (16 PENDING, 1 RUNNING, 6 TERMINATED)<br><table>\n",
       "<thead>\n",
       "<tr><th>Trial name                   </th><th>status    </th><th>loc               </th><th style=\"text-align: right;\">   x</th><th style=\"text-align: right;\">   y</th><th style=\"text-align: right;\">  iter</th><th style=\"text-align: right;\">  total time (s)</th><th style=\"text-align: right;\">   score</th></tr>\n",
       "</thead>\n",
       "<tbody>\n",
       "<tr><td>training_function_5337a_00006</td><td>RUNNING   </td><td>192.168.2.133:2489</td><td style=\"text-align: right;\">-0.5</td><td style=\"text-align: right;\">-0.5</td><td style=\"text-align: right;\">      </td><td style=\"text-align: right;\">                </td><td style=\"text-align: right;\">        </td></tr>\n",
       "<tr><td>training_function_5337a_00007</td><td>PENDING   </td><td>                  </td><td style=\"text-align: right;\"> 0  </td><td style=\"text-align: right;\">-0.5</td><td style=\"text-align: right;\">      </td><td style=\"text-align: right;\">                </td><td style=\"text-align: right;\">        </td></tr>\n",
       "<tr><td>training_function_5337a_00008</td><td>PENDING   </td><td>                  </td><td style=\"text-align: right;\"> 0.5</td><td style=\"text-align: right;\">-0.5</td><td style=\"text-align: right;\">      </td><td style=\"text-align: right;\">                </td><td style=\"text-align: right;\">        </td></tr>\n",
       "<tr><td>training_function_5337a_00009</td><td>PENDING   </td><td>                  </td><td style=\"text-align: right;\"> 1  </td><td style=\"text-align: right;\">-0.5</td><td style=\"text-align: right;\">      </td><td style=\"text-align: right;\">                </td><td style=\"text-align: right;\">        </td></tr>\n",
       "<tr><td>training_function_5337a_00010</td><td>PENDING   </td><td>                  </td><td style=\"text-align: right;\">-1  </td><td style=\"text-align: right;\"> 0  </td><td style=\"text-align: right;\">      </td><td style=\"text-align: right;\">                </td><td style=\"text-align: right;\">        </td></tr>\n",
       "<tr><td>training_function_5337a_00011</td><td>PENDING   </td><td>                  </td><td style=\"text-align: right;\">-0.5</td><td style=\"text-align: right;\"> 0  </td><td style=\"text-align: right;\">      </td><td style=\"text-align: right;\">                </td><td style=\"text-align: right;\">        </td></tr>\n",
       "<tr><td>training_function_5337a_00012</td><td>PENDING   </td><td>                  </td><td style=\"text-align: right;\"> 0  </td><td style=\"text-align: right;\"> 0  </td><td style=\"text-align: right;\">      </td><td style=\"text-align: right;\">                </td><td style=\"text-align: right;\">        </td></tr>\n",
       "<tr><td>training_function_5337a_00013</td><td>PENDING   </td><td>                  </td><td style=\"text-align: right;\"> 0.5</td><td style=\"text-align: right;\"> 0  </td><td style=\"text-align: right;\">      </td><td style=\"text-align: right;\">                </td><td style=\"text-align: right;\">        </td></tr>\n",
       "<tr><td>training_function_5337a_00014</td><td>PENDING   </td><td>                  </td><td style=\"text-align: right;\"> 1  </td><td style=\"text-align: right;\"> 0  </td><td style=\"text-align: right;\">      </td><td style=\"text-align: right;\">                </td><td style=\"text-align: right;\">        </td></tr>\n",
       "<tr><td>training_function_5337a_00015</td><td>PENDING   </td><td>                  </td><td style=\"text-align: right;\">-1  </td><td style=\"text-align: right;\"> 0.5</td><td style=\"text-align: right;\">      </td><td style=\"text-align: right;\">                </td><td style=\"text-align: right;\">        </td></tr>\n",
       "<tr><td>training_function_5337a_00016</td><td>PENDING   </td><td>                  </td><td style=\"text-align: right;\">-0.5</td><td style=\"text-align: right;\"> 0.5</td><td style=\"text-align: right;\">      </td><td style=\"text-align: right;\">                </td><td style=\"text-align: right;\">        </td></tr>\n",
       "<tr><td>training_function_5337a_00017</td><td>PENDING   </td><td>                  </td><td style=\"text-align: right;\"> 0  </td><td style=\"text-align: right;\"> 0.5</td><td style=\"text-align: right;\">      </td><td style=\"text-align: right;\">                </td><td style=\"text-align: right;\">        </td></tr>\n",
       "<tr><td>training_function_5337a_00018</td><td>PENDING   </td><td>                  </td><td style=\"text-align: right;\"> 0.5</td><td style=\"text-align: right;\"> 0.5</td><td style=\"text-align: right;\">      </td><td style=\"text-align: right;\">                </td><td style=\"text-align: right;\">        </td></tr>\n",
       "<tr><td>training_function_5337a_00019</td><td>PENDING   </td><td>                  </td><td style=\"text-align: right;\"> 1  </td><td style=\"text-align: right;\"> 0.5</td><td style=\"text-align: right;\">      </td><td style=\"text-align: right;\">                </td><td style=\"text-align: right;\">        </td></tr>\n",
       "<tr><td>training_function_5337a_00000</td><td>TERMINATED</td><td>192.168.2.133:2124</td><td style=\"text-align: right;\">-1  </td><td style=\"text-align: right;\">-1  </td><td style=\"text-align: right;\">     1</td><td style=\"text-align: right;\">         10.0198</td><td style=\"text-align: right;\">1       </td></tr>\n",
       "<tr><td>training_function_5337a_00001</td><td>TERMINATED</td><td>192.168.2.133:2185</td><td style=\"text-align: right;\">-0.5</td><td style=\"text-align: right;\">-1  </td><td style=\"text-align: right;\">     1</td><td style=\"text-align: right;\">         10.0095</td><td style=\"text-align: right;\">0.790569</td></tr>\n",
       "<tr><td>training_function_5337a_00002</td><td>TERMINATED</td><td>192.168.2.133:2247</td><td style=\"text-align: right;\"> 0  </td><td style=\"text-align: right;\">-1  </td><td style=\"text-align: right;\">     1</td><td style=\"text-align: right;\">         10.0104</td><td style=\"text-align: right;\">0.707107</td></tr>\n",
       "<tr><td>training_function_5337a_00003</td><td>TERMINATED</td><td>192.168.2.133:2308</td><td style=\"text-align: right;\"> 0.5</td><td style=\"text-align: right;\">-1  </td><td style=\"text-align: right;\">     1</td><td style=\"text-align: right;\">         10.0092</td><td style=\"text-align: right;\">0.790569</td></tr>\n",
       "<tr><td>training_function_5337a_00004</td><td>TERMINATED</td><td>192.168.2.133:2369</td><td style=\"text-align: right;\"> 1  </td><td style=\"text-align: right;\">-1  </td><td style=\"text-align: right;\">     1</td><td style=\"text-align: right;\">         10.0141</td><td style=\"text-align: right;\">1       </td></tr>\n",
       "<tr><td>training_function_5337a_00005</td><td>TERMINATED</td><td>192.168.2.133:2428</td><td style=\"text-align: right;\">-1  </td><td style=\"text-align: right;\">-0.5</td><td style=\"text-align: right;\">     1</td><td style=\"text-align: right;\">         10.0114</td><td style=\"text-align: right;\">0.790569</td></tr>\n",
       "</tbody>\n",
       "</table><br>... 3 more trials not shown (3 PENDING)<br><br>"
      ],
      "text/plain": [
       "<IPython.core.display.HTML object>"
      ]
     },
     "metadata": {},
     "output_type": "display_data"
    },
    {
     "name": "stdout",
     "output_type": "stream",
     "text": [
      "Result for training_function_5337a_00006:\n",
      "  date: 2022-04-30_11-26-05\n",
      "  done: false\n",
      "  experiment_id: 5d9d0f126840413a924cd2134f02b232\n",
      "  hostname: patrick-c3-1\n",
      "  iterations_since_restore: 1\n",
      "  node_ip: 192.168.2.133\n",
      "  pid: 2489\n",
      "  score: 0.5\n",
      "  time_since_restore: 10.010422945022583\n",
      "  time_this_iter_s: 10.010422945022583\n",
      "  time_total_s: 10.010422945022583\n",
      "  timestamp: 1651310765\n",
      "  timesteps_since_restore: 0\n",
      "  training_iteration: 1\n",
      "  trial_id: 5337a_00006\n",
      "  warmup_time: 0.006145954132080078\n",
      "  \n",
      "Result for training_function_5337a_00006:\n",
      "  date: 2022-04-30_11-26-05\n",
      "  done: true\n",
      "  experiment_id: 5d9d0f126840413a924cd2134f02b232\n",
      "  experiment_tag: 6_x=-0.5,y=-0.5\n",
      "  hostname: patrick-c3-1\n",
      "  iterations_since_restore: 1\n",
      "  node_ip: 192.168.2.133\n",
      "  pid: 2489\n",
      "  score: 0.5\n",
      "  time_since_restore: 10.010422945022583\n",
      "  time_this_iter_s: 10.010422945022583\n",
      "  time_total_s: 10.010422945022583\n",
      "  timestamp: 1651310765\n",
      "  timesteps_since_restore: 0\n",
      "  training_iteration: 1\n",
      "  trial_id: 5337a_00006\n",
      "  warmup_time: 0.006145954132080078\n",
      "  \n"
     ]
    },
    {
     "name": "stderr",
     "output_type": "stream",
     "text": [
      "2022-04-30 11:26:06,925\tINFO trial_runner.py:803 -- starting training_function_5337a_00007\n"
     ]
    },
    {
     "data": {
      "text/html": [
       "== Status ==<br>Current time: 2022-04-30 11:26:11 (running for 00:01:47.37)<br>Memory usage on this node: 1.7/1.9 GiB<br>Using FIFO scheduling algorithm.<br>Resources requested: 1.0/1 CPUs, 0/0 GPUs, 0.0/0.37 GiB heap, 0.0/0.18 GiB objects<br>Result logdir: /home/ubuntu/ray_results/training_function_2022-04-30_11-24-24<br>Number of trials: 24/25 (16 PENDING, 1 RUNNING, 7 TERMINATED)<br><table>\n",
       "<thead>\n",
       "<tr><th>Trial name                   </th><th>status    </th><th>loc               </th><th style=\"text-align: right;\">   x</th><th style=\"text-align: right;\">   y</th><th style=\"text-align: right;\">  iter</th><th style=\"text-align: right;\">  total time (s)</th><th style=\"text-align: right;\">   score</th></tr>\n",
       "</thead>\n",
       "<tbody>\n",
       "<tr><td>training_function_5337a_00007</td><td>RUNNING   </td><td>192.168.2.133:2551</td><td style=\"text-align: right;\"> 0  </td><td style=\"text-align: right;\">-0.5</td><td style=\"text-align: right;\">      </td><td style=\"text-align: right;\">                </td><td style=\"text-align: right;\">        </td></tr>\n",
       "<tr><td>training_function_5337a_00008</td><td>PENDING   </td><td>                  </td><td style=\"text-align: right;\"> 0.5</td><td style=\"text-align: right;\">-0.5</td><td style=\"text-align: right;\">      </td><td style=\"text-align: right;\">                </td><td style=\"text-align: right;\">        </td></tr>\n",
       "<tr><td>training_function_5337a_00009</td><td>PENDING   </td><td>                  </td><td style=\"text-align: right;\"> 1  </td><td style=\"text-align: right;\">-0.5</td><td style=\"text-align: right;\">      </td><td style=\"text-align: right;\">                </td><td style=\"text-align: right;\">        </td></tr>\n",
       "<tr><td>training_function_5337a_00010</td><td>PENDING   </td><td>                  </td><td style=\"text-align: right;\">-1  </td><td style=\"text-align: right;\"> 0  </td><td style=\"text-align: right;\">      </td><td style=\"text-align: right;\">                </td><td style=\"text-align: right;\">        </td></tr>\n",
       "<tr><td>training_function_5337a_00011</td><td>PENDING   </td><td>                  </td><td style=\"text-align: right;\">-0.5</td><td style=\"text-align: right;\"> 0  </td><td style=\"text-align: right;\">      </td><td style=\"text-align: right;\">                </td><td style=\"text-align: right;\">        </td></tr>\n",
       "<tr><td>training_function_5337a_00012</td><td>PENDING   </td><td>                  </td><td style=\"text-align: right;\"> 0  </td><td style=\"text-align: right;\"> 0  </td><td style=\"text-align: right;\">      </td><td style=\"text-align: right;\">                </td><td style=\"text-align: right;\">        </td></tr>\n",
       "<tr><td>training_function_5337a_00013</td><td>PENDING   </td><td>                  </td><td style=\"text-align: right;\"> 0.5</td><td style=\"text-align: right;\"> 0  </td><td style=\"text-align: right;\">      </td><td style=\"text-align: right;\">                </td><td style=\"text-align: right;\">        </td></tr>\n",
       "<tr><td>training_function_5337a_00014</td><td>PENDING   </td><td>                  </td><td style=\"text-align: right;\"> 1  </td><td style=\"text-align: right;\"> 0  </td><td style=\"text-align: right;\">      </td><td style=\"text-align: right;\">                </td><td style=\"text-align: right;\">        </td></tr>\n",
       "<tr><td>training_function_5337a_00015</td><td>PENDING   </td><td>                  </td><td style=\"text-align: right;\">-1  </td><td style=\"text-align: right;\"> 0.5</td><td style=\"text-align: right;\">      </td><td style=\"text-align: right;\">                </td><td style=\"text-align: right;\">        </td></tr>\n",
       "<tr><td>training_function_5337a_00016</td><td>PENDING   </td><td>                  </td><td style=\"text-align: right;\">-0.5</td><td style=\"text-align: right;\"> 0.5</td><td style=\"text-align: right;\">      </td><td style=\"text-align: right;\">                </td><td style=\"text-align: right;\">        </td></tr>\n",
       "<tr><td>training_function_5337a_00017</td><td>PENDING   </td><td>                  </td><td style=\"text-align: right;\"> 0  </td><td style=\"text-align: right;\"> 0.5</td><td style=\"text-align: right;\">      </td><td style=\"text-align: right;\">                </td><td style=\"text-align: right;\">        </td></tr>\n",
       "<tr><td>training_function_5337a_00018</td><td>PENDING   </td><td>                  </td><td style=\"text-align: right;\"> 0.5</td><td style=\"text-align: right;\"> 0.5</td><td style=\"text-align: right;\">      </td><td style=\"text-align: right;\">                </td><td style=\"text-align: right;\">        </td></tr>\n",
       "<tr><td>training_function_5337a_00019</td><td>PENDING   </td><td>                  </td><td style=\"text-align: right;\"> 1  </td><td style=\"text-align: right;\"> 0.5</td><td style=\"text-align: right;\">      </td><td style=\"text-align: right;\">                </td><td style=\"text-align: right;\">        </td></tr>\n",
       "<tr><td>training_function_5337a_00000</td><td>TERMINATED</td><td>192.168.2.133:2124</td><td style=\"text-align: right;\">-1  </td><td style=\"text-align: right;\">-1  </td><td style=\"text-align: right;\">     1</td><td style=\"text-align: right;\">         10.0198</td><td style=\"text-align: right;\">1       </td></tr>\n",
       "<tr><td>training_function_5337a_00001</td><td>TERMINATED</td><td>192.168.2.133:2185</td><td style=\"text-align: right;\">-0.5</td><td style=\"text-align: right;\">-1  </td><td style=\"text-align: right;\">     1</td><td style=\"text-align: right;\">         10.0095</td><td style=\"text-align: right;\">0.790569</td></tr>\n",
       "<tr><td>training_function_5337a_00002</td><td>TERMINATED</td><td>192.168.2.133:2247</td><td style=\"text-align: right;\"> 0  </td><td style=\"text-align: right;\">-1  </td><td style=\"text-align: right;\">     1</td><td style=\"text-align: right;\">         10.0104</td><td style=\"text-align: right;\">0.707107</td></tr>\n",
       "<tr><td>training_function_5337a_00003</td><td>TERMINATED</td><td>192.168.2.133:2308</td><td style=\"text-align: right;\"> 0.5</td><td style=\"text-align: right;\">-1  </td><td style=\"text-align: right;\">     1</td><td style=\"text-align: right;\">         10.0092</td><td style=\"text-align: right;\">0.790569</td></tr>\n",
       "<tr><td>training_function_5337a_00004</td><td>TERMINATED</td><td>192.168.2.133:2369</td><td style=\"text-align: right;\"> 1  </td><td style=\"text-align: right;\">-1  </td><td style=\"text-align: right;\">     1</td><td style=\"text-align: right;\">         10.0141</td><td style=\"text-align: right;\">1       </td></tr>\n",
       "<tr><td>training_function_5337a_00005</td><td>TERMINATED</td><td>192.168.2.133:2428</td><td style=\"text-align: right;\">-1  </td><td style=\"text-align: right;\">-0.5</td><td style=\"text-align: right;\">     1</td><td style=\"text-align: right;\">         10.0114</td><td style=\"text-align: right;\">0.790569</td></tr>\n",
       "<tr><td>training_function_5337a_00006</td><td>TERMINATED</td><td>192.168.2.133:2489</td><td style=\"text-align: right;\">-0.5</td><td style=\"text-align: right;\">-0.5</td><td style=\"text-align: right;\">     1</td><td style=\"text-align: right;\">         10.0104</td><td style=\"text-align: right;\">0.5     </td></tr>\n",
       "</tbody>\n",
       "</table><br>... 4 more trials not shown (4 PENDING)<br><br>"
      ],
      "text/plain": [
       "<IPython.core.display.HTML object>"
      ]
     },
     "metadata": {},
     "output_type": "display_data"
    },
    {
     "data": {
      "text/html": [
       "== Status ==<br>Current time: 2022-04-30 11:26:16 (running for 00:01:52.39)<br>Memory usage on this node: 1.7/1.9 GiB<br>Using FIFO scheduling algorithm.<br>Resources requested: 1.0/1 CPUs, 0/0 GPUs, 0.0/0.37 GiB heap, 0.0/0.18 GiB objects<br>Result logdir: /home/ubuntu/ray_results/training_function_2022-04-30_11-24-24<br>Number of trials: 24/25 (16 PENDING, 1 RUNNING, 7 TERMINATED)<br><table>\n",
       "<thead>\n",
       "<tr><th>Trial name                   </th><th>status    </th><th>loc               </th><th style=\"text-align: right;\">   x</th><th style=\"text-align: right;\">   y</th><th style=\"text-align: right;\">  iter</th><th style=\"text-align: right;\">  total time (s)</th><th style=\"text-align: right;\">   score</th></tr>\n",
       "</thead>\n",
       "<tbody>\n",
       "<tr><td>training_function_5337a_00007</td><td>RUNNING   </td><td>192.168.2.133:2551</td><td style=\"text-align: right;\"> 0  </td><td style=\"text-align: right;\">-0.5</td><td style=\"text-align: right;\">      </td><td style=\"text-align: right;\">                </td><td style=\"text-align: right;\">        </td></tr>\n",
       "<tr><td>training_function_5337a_00008</td><td>PENDING   </td><td>                  </td><td style=\"text-align: right;\"> 0.5</td><td style=\"text-align: right;\">-0.5</td><td style=\"text-align: right;\">      </td><td style=\"text-align: right;\">                </td><td style=\"text-align: right;\">        </td></tr>\n",
       "<tr><td>training_function_5337a_00009</td><td>PENDING   </td><td>                  </td><td style=\"text-align: right;\"> 1  </td><td style=\"text-align: right;\">-0.5</td><td style=\"text-align: right;\">      </td><td style=\"text-align: right;\">                </td><td style=\"text-align: right;\">        </td></tr>\n",
       "<tr><td>training_function_5337a_00010</td><td>PENDING   </td><td>                  </td><td style=\"text-align: right;\">-1  </td><td style=\"text-align: right;\"> 0  </td><td style=\"text-align: right;\">      </td><td style=\"text-align: right;\">                </td><td style=\"text-align: right;\">        </td></tr>\n",
       "<tr><td>training_function_5337a_00011</td><td>PENDING   </td><td>                  </td><td style=\"text-align: right;\">-0.5</td><td style=\"text-align: right;\"> 0  </td><td style=\"text-align: right;\">      </td><td style=\"text-align: right;\">                </td><td style=\"text-align: right;\">        </td></tr>\n",
       "<tr><td>training_function_5337a_00012</td><td>PENDING   </td><td>                  </td><td style=\"text-align: right;\"> 0  </td><td style=\"text-align: right;\"> 0  </td><td style=\"text-align: right;\">      </td><td style=\"text-align: right;\">                </td><td style=\"text-align: right;\">        </td></tr>\n",
       "<tr><td>training_function_5337a_00013</td><td>PENDING   </td><td>                  </td><td style=\"text-align: right;\"> 0.5</td><td style=\"text-align: right;\"> 0  </td><td style=\"text-align: right;\">      </td><td style=\"text-align: right;\">                </td><td style=\"text-align: right;\">        </td></tr>\n",
       "<tr><td>training_function_5337a_00014</td><td>PENDING   </td><td>                  </td><td style=\"text-align: right;\"> 1  </td><td style=\"text-align: right;\"> 0  </td><td style=\"text-align: right;\">      </td><td style=\"text-align: right;\">                </td><td style=\"text-align: right;\">        </td></tr>\n",
       "<tr><td>training_function_5337a_00015</td><td>PENDING   </td><td>                  </td><td style=\"text-align: right;\">-1  </td><td style=\"text-align: right;\"> 0.5</td><td style=\"text-align: right;\">      </td><td style=\"text-align: right;\">                </td><td style=\"text-align: right;\">        </td></tr>\n",
       "<tr><td>training_function_5337a_00016</td><td>PENDING   </td><td>                  </td><td style=\"text-align: right;\">-0.5</td><td style=\"text-align: right;\"> 0.5</td><td style=\"text-align: right;\">      </td><td style=\"text-align: right;\">                </td><td style=\"text-align: right;\">        </td></tr>\n",
       "<tr><td>training_function_5337a_00017</td><td>PENDING   </td><td>                  </td><td style=\"text-align: right;\"> 0  </td><td style=\"text-align: right;\"> 0.5</td><td style=\"text-align: right;\">      </td><td style=\"text-align: right;\">                </td><td style=\"text-align: right;\">        </td></tr>\n",
       "<tr><td>training_function_5337a_00018</td><td>PENDING   </td><td>                  </td><td style=\"text-align: right;\"> 0.5</td><td style=\"text-align: right;\"> 0.5</td><td style=\"text-align: right;\">      </td><td style=\"text-align: right;\">                </td><td style=\"text-align: right;\">        </td></tr>\n",
       "<tr><td>training_function_5337a_00019</td><td>PENDING   </td><td>                  </td><td style=\"text-align: right;\"> 1  </td><td style=\"text-align: right;\"> 0.5</td><td style=\"text-align: right;\">      </td><td style=\"text-align: right;\">                </td><td style=\"text-align: right;\">        </td></tr>\n",
       "<tr><td>training_function_5337a_00000</td><td>TERMINATED</td><td>192.168.2.133:2124</td><td style=\"text-align: right;\">-1  </td><td style=\"text-align: right;\">-1  </td><td style=\"text-align: right;\">     1</td><td style=\"text-align: right;\">         10.0198</td><td style=\"text-align: right;\">1       </td></tr>\n",
       "<tr><td>training_function_5337a_00001</td><td>TERMINATED</td><td>192.168.2.133:2185</td><td style=\"text-align: right;\">-0.5</td><td style=\"text-align: right;\">-1  </td><td style=\"text-align: right;\">     1</td><td style=\"text-align: right;\">         10.0095</td><td style=\"text-align: right;\">0.790569</td></tr>\n",
       "<tr><td>training_function_5337a_00002</td><td>TERMINATED</td><td>192.168.2.133:2247</td><td style=\"text-align: right;\"> 0  </td><td style=\"text-align: right;\">-1  </td><td style=\"text-align: right;\">     1</td><td style=\"text-align: right;\">         10.0104</td><td style=\"text-align: right;\">0.707107</td></tr>\n",
       "<tr><td>training_function_5337a_00003</td><td>TERMINATED</td><td>192.168.2.133:2308</td><td style=\"text-align: right;\"> 0.5</td><td style=\"text-align: right;\">-1  </td><td style=\"text-align: right;\">     1</td><td style=\"text-align: right;\">         10.0092</td><td style=\"text-align: right;\">0.790569</td></tr>\n",
       "<tr><td>training_function_5337a_00004</td><td>TERMINATED</td><td>192.168.2.133:2369</td><td style=\"text-align: right;\"> 1  </td><td style=\"text-align: right;\">-1  </td><td style=\"text-align: right;\">     1</td><td style=\"text-align: right;\">         10.0141</td><td style=\"text-align: right;\">1       </td></tr>\n",
       "<tr><td>training_function_5337a_00005</td><td>TERMINATED</td><td>192.168.2.133:2428</td><td style=\"text-align: right;\">-1  </td><td style=\"text-align: right;\">-0.5</td><td style=\"text-align: right;\">     1</td><td style=\"text-align: right;\">         10.0114</td><td style=\"text-align: right;\">0.790569</td></tr>\n",
       "<tr><td>training_function_5337a_00006</td><td>TERMINATED</td><td>192.168.2.133:2489</td><td style=\"text-align: right;\">-0.5</td><td style=\"text-align: right;\">-0.5</td><td style=\"text-align: right;\">     1</td><td style=\"text-align: right;\">         10.0104</td><td style=\"text-align: right;\">0.5     </td></tr>\n",
       "</tbody>\n",
       "</table><br>... 4 more trials not shown (4 PENDING)<br><br>"
      ],
      "text/plain": [
       "<IPython.core.display.HTML object>"
      ]
     },
     "metadata": {},
     "output_type": "display_data"
    },
    {
     "name": "stdout",
     "output_type": "stream",
     "text": [
      "Result for training_function_5337a_00007:\n",
      "  date: 2022-04-30_11-26-19\n",
      "  done: false\n",
      "  experiment_id: 6c3838ce4e3c4607a913ae8331bef6d3\n",
      "  hostname: patrick-c3-1\n",
      "  iterations_since_restore: 1\n",
      "  node_ip: 192.168.2.133\n",
      "  pid: 2551\n",
      "  score: 0.3535533905932738\n",
      "  time_since_restore: 10.005635738372803\n",
      "  time_this_iter_s: 10.005635738372803\n",
      "  time_total_s: 10.005635738372803\n",
      "  timestamp: 1651310779\n",
      "  timesteps_since_restore: 0\n",
      "  training_iteration: 1\n",
      "  trial_id: 5337a_00007\n",
      "  warmup_time: 0.0068285465240478516\n",
      "  \n",
      "Result for training_function_5337a_00007:\n",
      "  date: 2022-04-30_11-26-19\n",
      "  done: true\n",
      "  experiment_id: 6c3838ce4e3c4607a913ae8331bef6d3\n",
      "  experiment_tag: 7_x=0,y=-0.5\n",
      "  hostname: patrick-c3-1\n",
      "  iterations_since_restore: 1\n",
      "  node_ip: 192.168.2.133\n",
      "  pid: 2551\n",
      "  score: 0.3535533905932738\n",
      "  time_since_restore: 10.005635738372803\n",
      "  time_this_iter_s: 10.005635738372803\n",
      "  time_total_s: 10.005635738372803\n",
      "  timestamp: 1651310779\n",
      "  timesteps_since_restore: 0\n",
      "  training_iteration: 1\n",
      "  trial_id: 5337a_00007\n",
      "  warmup_time: 0.0068285465240478516\n",
      "  \n"
     ]
    },
    {
     "name": "stderr",
     "output_type": "stream",
     "text": [
      "2022-04-30 11:26:21,038\tINFO trial_runner.py:803 -- starting training_function_5337a_00008\n"
     ]
    },
    {
     "data": {
      "text/html": [
       "== Status ==<br>Current time: 2022-04-30 11:26:26 (running for 00:02:01.48)<br>Memory usage on this node: 1.7/1.9 GiB<br>Using FIFO scheduling algorithm.<br>Resources requested: 1.0/1 CPUs, 0/0 GPUs, 0.0/0.37 GiB heap, 0.0/0.18 GiB objects<br>Result logdir: /home/ubuntu/ray_results/training_function_2022-04-30_11-24-24<br>Number of trials: 25/25 (16 PENDING, 1 RUNNING, 8 TERMINATED)<br><table>\n",
       "<thead>\n",
       "<tr><th>Trial name                   </th><th>status    </th><th>loc               </th><th style=\"text-align: right;\">   x</th><th style=\"text-align: right;\">   y</th><th style=\"text-align: right;\">  iter</th><th style=\"text-align: right;\">  total time (s)</th><th style=\"text-align: right;\">   score</th></tr>\n",
       "</thead>\n",
       "<tbody>\n",
       "<tr><td>training_function_5337a_00008</td><td>RUNNING   </td><td>192.168.2.133:2612</td><td style=\"text-align: right;\"> 0.5</td><td style=\"text-align: right;\">-0.5</td><td style=\"text-align: right;\">      </td><td style=\"text-align: right;\">                </td><td style=\"text-align: right;\">        </td></tr>\n",
       "<tr><td>training_function_5337a_00009</td><td>PENDING   </td><td>                  </td><td style=\"text-align: right;\"> 1  </td><td style=\"text-align: right;\">-0.5</td><td style=\"text-align: right;\">      </td><td style=\"text-align: right;\">                </td><td style=\"text-align: right;\">        </td></tr>\n",
       "<tr><td>training_function_5337a_00010</td><td>PENDING   </td><td>                  </td><td style=\"text-align: right;\">-1  </td><td style=\"text-align: right;\"> 0  </td><td style=\"text-align: right;\">      </td><td style=\"text-align: right;\">                </td><td style=\"text-align: right;\">        </td></tr>\n",
       "<tr><td>training_function_5337a_00011</td><td>PENDING   </td><td>                  </td><td style=\"text-align: right;\">-0.5</td><td style=\"text-align: right;\"> 0  </td><td style=\"text-align: right;\">      </td><td style=\"text-align: right;\">                </td><td style=\"text-align: right;\">        </td></tr>\n",
       "<tr><td>training_function_5337a_00012</td><td>PENDING   </td><td>                  </td><td style=\"text-align: right;\"> 0  </td><td style=\"text-align: right;\"> 0  </td><td style=\"text-align: right;\">      </td><td style=\"text-align: right;\">                </td><td style=\"text-align: right;\">        </td></tr>\n",
       "<tr><td>training_function_5337a_00013</td><td>PENDING   </td><td>                  </td><td style=\"text-align: right;\"> 0.5</td><td style=\"text-align: right;\"> 0  </td><td style=\"text-align: right;\">      </td><td style=\"text-align: right;\">                </td><td style=\"text-align: right;\">        </td></tr>\n",
       "<tr><td>training_function_5337a_00014</td><td>PENDING   </td><td>                  </td><td style=\"text-align: right;\"> 1  </td><td style=\"text-align: right;\"> 0  </td><td style=\"text-align: right;\">      </td><td style=\"text-align: right;\">                </td><td style=\"text-align: right;\">        </td></tr>\n",
       "<tr><td>training_function_5337a_00015</td><td>PENDING   </td><td>                  </td><td style=\"text-align: right;\">-1  </td><td style=\"text-align: right;\"> 0.5</td><td style=\"text-align: right;\">      </td><td style=\"text-align: right;\">                </td><td style=\"text-align: right;\">        </td></tr>\n",
       "<tr><td>training_function_5337a_00016</td><td>PENDING   </td><td>                  </td><td style=\"text-align: right;\">-0.5</td><td style=\"text-align: right;\"> 0.5</td><td style=\"text-align: right;\">      </td><td style=\"text-align: right;\">                </td><td style=\"text-align: right;\">        </td></tr>\n",
       "<tr><td>training_function_5337a_00017</td><td>PENDING   </td><td>                  </td><td style=\"text-align: right;\"> 0  </td><td style=\"text-align: right;\"> 0.5</td><td style=\"text-align: right;\">      </td><td style=\"text-align: right;\">                </td><td style=\"text-align: right;\">        </td></tr>\n",
       "<tr><td>training_function_5337a_00018</td><td>PENDING   </td><td>                  </td><td style=\"text-align: right;\"> 0.5</td><td style=\"text-align: right;\"> 0.5</td><td style=\"text-align: right;\">      </td><td style=\"text-align: right;\">                </td><td style=\"text-align: right;\">        </td></tr>\n",
       "<tr><td>training_function_5337a_00019</td><td>PENDING   </td><td>                  </td><td style=\"text-align: right;\"> 1  </td><td style=\"text-align: right;\"> 0.5</td><td style=\"text-align: right;\">      </td><td style=\"text-align: right;\">                </td><td style=\"text-align: right;\">        </td></tr>\n",
       "<tr><td>training_function_5337a_00000</td><td>TERMINATED</td><td>192.168.2.133:2124</td><td style=\"text-align: right;\">-1  </td><td style=\"text-align: right;\">-1  </td><td style=\"text-align: right;\">     1</td><td style=\"text-align: right;\">         10.0198</td><td style=\"text-align: right;\">1       </td></tr>\n",
       "<tr><td>training_function_5337a_00001</td><td>TERMINATED</td><td>192.168.2.133:2185</td><td style=\"text-align: right;\">-0.5</td><td style=\"text-align: right;\">-1  </td><td style=\"text-align: right;\">     1</td><td style=\"text-align: right;\">         10.0095</td><td style=\"text-align: right;\">0.790569</td></tr>\n",
       "<tr><td>training_function_5337a_00002</td><td>TERMINATED</td><td>192.168.2.133:2247</td><td style=\"text-align: right;\"> 0  </td><td style=\"text-align: right;\">-1  </td><td style=\"text-align: right;\">     1</td><td style=\"text-align: right;\">         10.0104</td><td style=\"text-align: right;\">0.707107</td></tr>\n",
       "<tr><td>training_function_5337a_00003</td><td>TERMINATED</td><td>192.168.2.133:2308</td><td style=\"text-align: right;\"> 0.5</td><td style=\"text-align: right;\">-1  </td><td style=\"text-align: right;\">     1</td><td style=\"text-align: right;\">         10.0092</td><td style=\"text-align: right;\">0.790569</td></tr>\n",
       "<tr><td>training_function_5337a_00004</td><td>TERMINATED</td><td>192.168.2.133:2369</td><td style=\"text-align: right;\"> 1  </td><td style=\"text-align: right;\">-1  </td><td style=\"text-align: right;\">     1</td><td style=\"text-align: right;\">         10.0141</td><td style=\"text-align: right;\">1       </td></tr>\n",
       "<tr><td>training_function_5337a_00005</td><td>TERMINATED</td><td>192.168.2.133:2428</td><td style=\"text-align: right;\">-1  </td><td style=\"text-align: right;\">-0.5</td><td style=\"text-align: right;\">     1</td><td style=\"text-align: right;\">         10.0114</td><td style=\"text-align: right;\">0.790569</td></tr>\n",
       "<tr><td>training_function_5337a_00006</td><td>TERMINATED</td><td>192.168.2.133:2489</td><td style=\"text-align: right;\">-0.5</td><td style=\"text-align: right;\">-0.5</td><td style=\"text-align: right;\">     1</td><td style=\"text-align: right;\">         10.0104</td><td style=\"text-align: right;\">0.5     </td></tr>\n",
       "<tr><td>training_function_5337a_00007</td><td>TERMINATED</td><td>192.168.2.133:2551</td><td style=\"text-align: right;\"> 0  </td><td style=\"text-align: right;\">-0.5</td><td style=\"text-align: right;\">     1</td><td style=\"text-align: right;\">         10.0056</td><td style=\"text-align: right;\">0.353553</td></tr>\n",
       "</tbody>\n",
       "</table><br>... 5 more trials not shown (5 PENDING)<br><br>"
      ],
      "text/plain": [
       "<IPython.core.display.HTML object>"
      ]
     },
     "metadata": {},
     "output_type": "display_data"
    },
    {
     "data": {
      "text/html": [
       "== Status ==<br>Current time: 2022-04-30 11:26:31 (running for 00:02:06.49)<br>Memory usage on this node: 1.7/1.9 GiB<br>Using FIFO scheduling algorithm.<br>Resources requested: 1.0/1 CPUs, 0/0 GPUs, 0.0/0.37 GiB heap, 0.0/0.18 GiB objects<br>Result logdir: /home/ubuntu/ray_results/training_function_2022-04-30_11-24-24<br>Number of trials: 25/25 (16 PENDING, 1 RUNNING, 8 TERMINATED)<br><table>\n",
       "<thead>\n",
       "<tr><th>Trial name                   </th><th>status    </th><th>loc               </th><th style=\"text-align: right;\">   x</th><th style=\"text-align: right;\">   y</th><th style=\"text-align: right;\">  iter</th><th style=\"text-align: right;\">  total time (s)</th><th style=\"text-align: right;\">   score</th></tr>\n",
       "</thead>\n",
       "<tbody>\n",
       "<tr><td>training_function_5337a_00008</td><td>RUNNING   </td><td>192.168.2.133:2612</td><td style=\"text-align: right;\"> 0.5</td><td style=\"text-align: right;\">-0.5</td><td style=\"text-align: right;\">      </td><td style=\"text-align: right;\">                </td><td style=\"text-align: right;\">        </td></tr>\n",
       "<tr><td>training_function_5337a_00009</td><td>PENDING   </td><td>                  </td><td style=\"text-align: right;\"> 1  </td><td style=\"text-align: right;\">-0.5</td><td style=\"text-align: right;\">      </td><td style=\"text-align: right;\">                </td><td style=\"text-align: right;\">        </td></tr>\n",
       "<tr><td>training_function_5337a_00010</td><td>PENDING   </td><td>                  </td><td style=\"text-align: right;\">-1  </td><td style=\"text-align: right;\"> 0  </td><td style=\"text-align: right;\">      </td><td style=\"text-align: right;\">                </td><td style=\"text-align: right;\">        </td></tr>\n",
       "<tr><td>training_function_5337a_00011</td><td>PENDING   </td><td>                  </td><td style=\"text-align: right;\">-0.5</td><td style=\"text-align: right;\"> 0  </td><td style=\"text-align: right;\">      </td><td style=\"text-align: right;\">                </td><td style=\"text-align: right;\">        </td></tr>\n",
       "<tr><td>training_function_5337a_00012</td><td>PENDING   </td><td>                  </td><td style=\"text-align: right;\"> 0  </td><td style=\"text-align: right;\"> 0  </td><td style=\"text-align: right;\">      </td><td style=\"text-align: right;\">                </td><td style=\"text-align: right;\">        </td></tr>\n",
       "<tr><td>training_function_5337a_00013</td><td>PENDING   </td><td>                  </td><td style=\"text-align: right;\"> 0.5</td><td style=\"text-align: right;\"> 0  </td><td style=\"text-align: right;\">      </td><td style=\"text-align: right;\">                </td><td style=\"text-align: right;\">        </td></tr>\n",
       "<tr><td>training_function_5337a_00014</td><td>PENDING   </td><td>                  </td><td style=\"text-align: right;\"> 1  </td><td style=\"text-align: right;\"> 0  </td><td style=\"text-align: right;\">      </td><td style=\"text-align: right;\">                </td><td style=\"text-align: right;\">        </td></tr>\n",
       "<tr><td>training_function_5337a_00015</td><td>PENDING   </td><td>                  </td><td style=\"text-align: right;\">-1  </td><td style=\"text-align: right;\"> 0.5</td><td style=\"text-align: right;\">      </td><td style=\"text-align: right;\">                </td><td style=\"text-align: right;\">        </td></tr>\n",
       "<tr><td>training_function_5337a_00016</td><td>PENDING   </td><td>                  </td><td style=\"text-align: right;\">-0.5</td><td style=\"text-align: right;\"> 0.5</td><td style=\"text-align: right;\">      </td><td style=\"text-align: right;\">                </td><td style=\"text-align: right;\">        </td></tr>\n",
       "<tr><td>training_function_5337a_00017</td><td>PENDING   </td><td>                  </td><td style=\"text-align: right;\"> 0  </td><td style=\"text-align: right;\"> 0.5</td><td style=\"text-align: right;\">      </td><td style=\"text-align: right;\">                </td><td style=\"text-align: right;\">        </td></tr>\n",
       "<tr><td>training_function_5337a_00018</td><td>PENDING   </td><td>                  </td><td style=\"text-align: right;\"> 0.5</td><td style=\"text-align: right;\"> 0.5</td><td style=\"text-align: right;\">      </td><td style=\"text-align: right;\">                </td><td style=\"text-align: right;\">        </td></tr>\n",
       "<tr><td>training_function_5337a_00019</td><td>PENDING   </td><td>                  </td><td style=\"text-align: right;\"> 1  </td><td style=\"text-align: right;\"> 0.5</td><td style=\"text-align: right;\">      </td><td style=\"text-align: right;\">                </td><td style=\"text-align: right;\">        </td></tr>\n",
       "<tr><td>training_function_5337a_00000</td><td>TERMINATED</td><td>192.168.2.133:2124</td><td style=\"text-align: right;\">-1  </td><td style=\"text-align: right;\">-1  </td><td style=\"text-align: right;\">     1</td><td style=\"text-align: right;\">         10.0198</td><td style=\"text-align: right;\">1       </td></tr>\n",
       "<tr><td>training_function_5337a_00001</td><td>TERMINATED</td><td>192.168.2.133:2185</td><td style=\"text-align: right;\">-0.5</td><td style=\"text-align: right;\">-1  </td><td style=\"text-align: right;\">     1</td><td style=\"text-align: right;\">         10.0095</td><td style=\"text-align: right;\">0.790569</td></tr>\n",
       "<tr><td>training_function_5337a_00002</td><td>TERMINATED</td><td>192.168.2.133:2247</td><td style=\"text-align: right;\"> 0  </td><td style=\"text-align: right;\">-1  </td><td style=\"text-align: right;\">     1</td><td style=\"text-align: right;\">         10.0104</td><td style=\"text-align: right;\">0.707107</td></tr>\n",
       "<tr><td>training_function_5337a_00003</td><td>TERMINATED</td><td>192.168.2.133:2308</td><td style=\"text-align: right;\"> 0.5</td><td style=\"text-align: right;\">-1  </td><td style=\"text-align: right;\">     1</td><td style=\"text-align: right;\">         10.0092</td><td style=\"text-align: right;\">0.790569</td></tr>\n",
       "<tr><td>training_function_5337a_00004</td><td>TERMINATED</td><td>192.168.2.133:2369</td><td style=\"text-align: right;\"> 1  </td><td style=\"text-align: right;\">-1  </td><td style=\"text-align: right;\">     1</td><td style=\"text-align: right;\">         10.0141</td><td style=\"text-align: right;\">1       </td></tr>\n",
       "<tr><td>training_function_5337a_00005</td><td>TERMINATED</td><td>192.168.2.133:2428</td><td style=\"text-align: right;\">-1  </td><td style=\"text-align: right;\">-0.5</td><td style=\"text-align: right;\">     1</td><td style=\"text-align: right;\">         10.0114</td><td style=\"text-align: right;\">0.790569</td></tr>\n",
       "<tr><td>training_function_5337a_00006</td><td>TERMINATED</td><td>192.168.2.133:2489</td><td style=\"text-align: right;\">-0.5</td><td style=\"text-align: right;\">-0.5</td><td style=\"text-align: right;\">     1</td><td style=\"text-align: right;\">         10.0104</td><td style=\"text-align: right;\">0.5     </td></tr>\n",
       "<tr><td>training_function_5337a_00007</td><td>TERMINATED</td><td>192.168.2.133:2551</td><td style=\"text-align: right;\"> 0  </td><td style=\"text-align: right;\">-0.5</td><td style=\"text-align: right;\">     1</td><td style=\"text-align: right;\">         10.0056</td><td style=\"text-align: right;\">0.353553</td></tr>\n",
       "</tbody>\n",
       "</table><br>... 5 more trials not shown (5 PENDING)<br><br>"
      ],
      "text/plain": [
       "<IPython.core.display.HTML object>"
      ]
     },
     "metadata": {},
     "output_type": "display_data"
    },
    {
     "name": "stdout",
     "output_type": "stream",
     "text": [
      "Result for training_function_5337a_00008:\n",
      "  date: 2022-04-30_11-26-33\n",
      "  done: false\n",
      "  experiment_id: cfe0fe4857c240d6b8a487e2641ed682\n",
      "  hostname: patrick-c3-1\n",
      "  iterations_since_restore: 1\n",
      "  node_ip: 192.168.2.133\n",
      "  pid: 2612\n",
      "  score: 0.5\n",
      "  time_since_restore: 10.010183095932007\n",
      "  time_this_iter_s: 10.010183095932007\n",
      "  time_total_s: 10.010183095932007\n",
      "  timestamp: 1651310793\n",
      "  timesteps_since_restore: 0\n",
      "  training_iteration: 1\n",
      "  trial_id: 5337a_00008\n",
      "  warmup_time: 0.005785942077636719\n",
      "  \n",
      "Result for training_function_5337a_00008:\n",
      "  date: 2022-04-30_11-26-33\n",
      "  done: true\n",
      "  experiment_id: cfe0fe4857c240d6b8a487e2641ed682\n",
      "  experiment_tag: 8_x=0.5,y=-0.5\n",
      "  hostname: patrick-c3-1\n",
      "  iterations_since_restore: 1\n",
      "  node_ip: 192.168.2.133\n",
      "  pid: 2612\n",
      "  score: 0.5\n",
      "  time_since_restore: 10.010183095932007\n",
      "  time_this_iter_s: 10.010183095932007\n",
      "  time_total_s: 10.010183095932007\n",
      "  timestamp: 1651310793\n",
      "  timesteps_since_restore: 0\n",
      "  training_iteration: 1\n",
      "  trial_id: 5337a_00008\n",
      "  warmup_time: 0.005785942077636719\n",
      "  \n"
     ]
    },
    {
     "name": "stderr",
     "output_type": "stream",
     "text": [
      "2022-04-30 11:26:34,998\tINFO trial_runner.py:803 -- starting training_function_5337a_00009\n"
     ]
    },
    {
     "data": {
      "text/html": [
       "== Status ==<br>Current time: 2022-04-30 11:26:40 (running for 00:02:15.42)<br>Memory usage on this node: 1.7/1.9 GiB<br>Using FIFO scheduling algorithm.<br>Resources requested: 1.0/1 CPUs, 0/0 GPUs, 0.0/0.37 GiB heap, 0.0/0.18 GiB objects<br>Result logdir: /home/ubuntu/ray_results/training_function_2022-04-30_11-24-24<br>Number of trials: 25/25 (15 PENDING, 1 RUNNING, 9 TERMINATED)<br><table>\n",
       "<thead>\n",
       "<tr><th>Trial name                   </th><th>status    </th><th>loc               </th><th style=\"text-align: right;\">   x</th><th style=\"text-align: right;\">   y</th><th style=\"text-align: right;\">  iter</th><th style=\"text-align: right;\">  total time (s)</th><th style=\"text-align: right;\">   score</th></tr>\n",
       "</thead>\n",
       "<tbody>\n",
       "<tr><td>training_function_5337a_00009</td><td>RUNNING   </td><td>192.168.2.133:2672</td><td style=\"text-align: right;\"> 1  </td><td style=\"text-align: right;\">-0.5</td><td style=\"text-align: right;\">      </td><td style=\"text-align: right;\">                </td><td style=\"text-align: right;\">        </td></tr>\n",
       "<tr><td>training_function_5337a_00010</td><td>PENDING   </td><td>                  </td><td style=\"text-align: right;\">-1  </td><td style=\"text-align: right;\"> 0  </td><td style=\"text-align: right;\">      </td><td style=\"text-align: right;\">                </td><td style=\"text-align: right;\">        </td></tr>\n",
       "<tr><td>training_function_5337a_00011</td><td>PENDING   </td><td>                  </td><td style=\"text-align: right;\">-0.5</td><td style=\"text-align: right;\"> 0  </td><td style=\"text-align: right;\">      </td><td style=\"text-align: right;\">                </td><td style=\"text-align: right;\">        </td></tr>\n",
       "<tr><td>training_function_5337a_00012</td><td>PENDING   </td><td>                  </td><td style=\"text-align: right;\"> 0  </td><td style=\"text-align: right;\"> 0  </td><td style=\"text-align: right;\">      </td><td style=\"text-align: right;\">                </td><td style=\"text-align: right;\">        </td></tr>\n",
       "<tr><td>training_function_5337a_00013</td><td>PENDING   </td><td>                  </td><td style=\"text-align: right;\"> 0.5</td><td style=\"text-align: right;\"> 0  </td><td style=\"text-align: right;\">      </td><td style=\"text-align: right;\">                </td><td style=\"text-align: right;\">        </td></tr>\n",
       "<tr><td>training_function_5337a_00014</td><td>PENDING   </td><td>                  </td><td style=\"text-align: right;\"> 1  </td><td style=\"text-align: right;\"> 0  </td><td style=\"text-align: right;\">      </td><td style=\"text-align: right;\">                </td><td style=\"text-align: right;\">        </td></tr>\n",
       "<tr><td>training_function_5337a_00015</td><td>PENDING   </td><td>                  </td><td style=\"text-align: right;\">-1  </td><td style=\"text-align: right;\"> 0.5</td><td style=\"text-align: right;\">      </td><td style=\"text-align: right;\">                </td><td style=\"text-align: right;\">        </td></tr>\n",
       "<tr><td>training_function_5337a_00016</td><td>PENDING   </td><td>                  </td><td style=\"text-align: right;\">-0.5</td><td style=\"text-align: right;\"> 0.5</td><td style=\"text-align: right;\">      </td><td style=\"text-align: right;\">                </td><td style=\"text-align: right;\">        </td></tr>\n",
       "<tr><td>training_function_5337a_00017</td><td>PENDING   </td><td>                  </td><td style=\"text-align: right;\"> 0  </td><td style=\"text-align: right;\"> 0.5</td><td style=\"text-align: right;\">      </td><td style=\"text-align: right;\">                </td><td style=\"text-align: right;\">        </td></tr>\n",
       "<tr><td>training_function_5337a_00018</td><td>PENDING   </td><td>                  </td><td style=\"text-align: right;\"> 0.5</td><td style=\"text-align: right;\"> 0.5</td><td style=\"text-align: right;\">      </td><td style=\"text-align: right;\">                </td><td style=\"text-align: right;\">        </td></tr>\n",
       "<tr><td>training_function_5337a_00019</td><td>PENDING   </td><td>                  </td><td style=\"text-align: right;\"> 1  </td><td style=\"text-align: right;\"> 0.5</td><td style=\"text-align: right;\">      </td><td style=\"text-align: right;\">                </td><td style=\"text-align: right;\">        </td></tr>\n",
       "<tr><td>training_function_5337a_00000</td><td>TERMINATED</td><td>192.168.2.133:2124</td><td style=\"text-align: right;\">-1  </td><td style=\"text-align: right;\">-1  </td><td style=\"text-align: right;\">     1</td><td style=\"text-align: right;\">         10.0198</td><td style=\"text-align: right;\">1       </td></tr>\n",
       "<tr><td>training_function_5337a_00001</td><td>TERMINATED</td><td>192.168.2.133:2185</td><td style=\"text-align: right;\">-0.5</td><td style=\"text-align: right;\">-1  </td><td style=\"text-align: right;\">     1</td><td style=\"text-align: right;\">         10.0095</td><td style=\"text-align: right;\">0.790569</td></tr>\n",
       "<tr><td>training_function_5337a_00002</td><td>TERMINATED</td><td>192.168.2.133:2247</td><td style=\"text-align: right;\"> 0  </td><td style=\"text-align: right;\">-1  </td><td style=\"text-align: right;\">     1</td><td style=\"text-align: right;\">         10.0104</td><td style=\"text-align: right;\">0.707107</td></tr>\n",
       "<tr><td>training_function_5337a_00003</td><td>TERMINATED</td><td>192.168.2.133:2308</td><td style=\"text-align: right;\"> 0.5</td><td style=\"text-align: right;\">-1  </td><td style=\"text-align: right;\">     1</td><td style=\"text-align: right;\">         10.0092</td><td style=\"text-align: right;\">0.790569</td></tr>\n",
       "<tr><td>training_function_5337a_00004</td><td>TERMINATED</td><td>192.168.2.133:2369</td><td style=\"text-align: right;\"> 1  </td><td style=\"text-align: right;\">-1  </td><td style=\"text-align: right;\">     1</td><td style=\"text-align: right;\">         10.0141</td><td style=\"text-align: right;\">1       </td></tr>\n",
       "<tr><td>training_function_5337a_00005</td><td>TERMINATED</td><td>192.168.2.133:2428</td><td style=\"text-align: right;\">-1  </td><td style=\"text-align: right;\">-0.5</td><td style=\"text-align: right;\">     1</td><td style=\"text-align: right;\">         10.0114</td><td style=\"text-align: right;\">0.790569</td></tr>\n",
       "<tr><td>training_function_5337a_00006</td><td>TERMINATED</td><td>192.168.2.133:2489</td><td style=\"text-align: right;\">-0.5</td><td style=\"text-align: right;\">-0.5</td><td style=\"text-align: right;\">     1</td><td style=\"text-align: right;\">         10.0104</td><td style=\"text-align: right;\">0.5     </td></tr>\n",
       "<tr><td>training_function_5337a_00007</td><td>TERMINATED</td><td>192.168.2.133:2551</td><td style=\"text-align: right;\"> 0  </td><td style=\"text-align: right;\">-0.5</td><td style=\"text-align: right;\">     1</td><td style=\"text-align: right;\">         10.0056</td><td style=\"text-align: right;\">0.353553</td></tr>\n",
       "<tr><td>training_function_5337a_00008</td><td>TERMINATED</td><td>192.168.2.133:2612</td><td style=\"text-align: right;\"> 0.5</td><td style=\"text-align: right;\">-0.5</td><td style=\"text-align: right;\">     1</td><td style=\"text-align: right;\">         10.0102</td><td style=\"text-align: right;\">0.5     </td></tr>\n",
       "</tbody>\n",
       "</table><br>... 5 more trials not shown (5 PENDING)<br><br>"
      ],
      "text/plain": [
       "<IPython.core.display.HTML object>"
      ]
     },
     "metadata": {},
     "output_type": "display_data"
    },
    {
     "data": {
      "text/html": [
       "== Status ==<br>Current time: 2022-04-30 11:26:45 (running for 00:02:20.44)<br>Memory usage on this node: 1.7/1.9 GiB<br>Using FIFO scheduling algorithm.<br>Resources requested: 1.0/1 CPUs, 0/0 GPUs, 0.0/0.37 GiB heap, 0.0/0.18 GiB objects<br>Result logdir: /home/ubuntu/ray_results/training_function_2022-04-30_11-24-24<br>Number of trials: 25/25 (15 PENDING, 1 RUNNING, 9 TERMINATED)<br><table>\n",
       "<thead>\n",
       "<tr><th>Trial name                   </th><th>status    </th><th>loc               </th><th style=\"text-align: right;\">   x</th><th style=\"text-align: right;\">   y</th><th style=\"text-align: right;\">  iter</th><th style=\"text-align: right;\">  total time (s)</th><th style=\"text-align: right;\">   score</th></tr>\n",
       "</thead>\n",
       "<tbody>\n",
       "<tr><td>training_function_5337a_00009</td><td>RUNNING   </td><td>192.168.2.133:2672</td><td style=\"text-align: right;\"> 1  </td><td style=\"text-align: right;\">-0.5</td><td style=\"text-align: right;\">      </td><td style=\"text-align: right;\">                </td><td style=\"text-align: right;\">        </td></tr>\n",
       "<tr><td>training_function_5337a_00010</td><td>PENDING   </td><td>                  </td><td style=\"text-align: right;\">-1  </td><td style=\"text-align: right;\"> 0  </td><td style=\"text-align: right;\">      </td><td style=\"text-align: right;\">                </td><td style=\"text-align: right;\">        </td></tr>\n",
       "<tr><td>training_function_5337a_00011</td><td>PENDING   </td><td>                  </td><td style=\"text-align: right;\">-0.5</td><td style=\"text-align: right;\"> 0  </td><td style=\"text-align: right;\">      </td><td style=\"text-align: right;\">                </td><td style=\"text-align: right;\">        </td></tr>\n",
       "<tr><td>training_function_5337a_00012</td><td>PENDING   </td><td>                  </td><td style=\"text-align: right;\"> 0  </td><td style=\"text-align: right;\"> 0  </td><td style=\"text-align: right;\">      </td><td style=\"text-align: right;\">                </td><td style=\"text-align: right;\">        </td></tr>\n",
       "<tr><td>training_function_5337a_00013</td><td>PENDING   </td><td>                  </td><td style=\"text-align: right;\"> 0.5</td><td style=\"text-align: right;\"> 0  </td><td style=\"text-align: right;\">      </td><td style=\"text-align: right;\">                </td><td style=\"text-align: right;\">        </td></tr>\n",
       "<tr><td>training_function_5337a_00014</td><td>PENDING   </td><td>                  </td><td style=\"text-align: right;\"> 1  </td><td style=\"text-align: right;\"> 0  </td><td style=\"text-align: right;\">      </td><td style=\"text-align: right;\">                </td><td style=\"text-align: right;\">        </td></tr>\n",
       "<tr><td>training_function_5337a_00015</td><td>PENDING   </td><td>                  </td><td style=\"text-align: right;\">-1  </td><td style=\"text-align: right;\"> 0.5</td><td style=\"text-align: right;\">      </td><td style=\"text-align: right;\">                </td><td style=\"text-align: right;\">        </td></tr>\n",
       "<tr><td>training_function_5337a_00016</td><td>PENDING   </td><td>                  </td><td style=\"text-align: right;\">-0.5</td><td style=\"text-align: right;\"> 0.5</td><td style=\"text-align: right;\">      </td><td style=\"text-align: right;\">                </td><td style=\"text-align: right;\">        </td></tr>\n",
       "<tr><td>training_function_5337a_00017</td><td>PENDING   </td><td>                  </td><td style=\"text-align: right;\"> 0  </td><td style=\"text-align: right;\"> 0.5</td><td style=\"text-align: right;\">      </td><td style=\"text-align: right;\">                </td><td style=\"text-align: right;\">        </td></tr>\n",
       "<tr><td>training_function_5337a_00018</td><td>PENDING   </td><td>                  </td><td style=\"text-align: right;\"> 0.5</td><td style=\"text-align: right;\"> 0.5</td><td style=\"text-align: right;\">      </td><td style=\"text-align: right;\">                </td><td style=\"text-align: right;\">        </td></tr>\n",
       "<tr><td>training_function_5337a_00019</td><td>PENDING   </td><td>                  </td><td style=\"text-align: right;\"> 1  </td><td style=\"text-align: right;\"> 0.5</td><td style=\"text-align: right;\">      </td><td style=\"text-align: right;\">                </td><td style=\"text-align: right;\">        </td></tr>\n",
       "<tr><td>training_function_5337a_00000</td><td>TERMINATED</td><td>192.168.2.133:2124</td><td style=\"text-align: right;\">-1  </td><td style=\"text-align: right;\">-1  </td><td style=\"text-align: right;\">     1</td><td style=\"text-align: right;\">         10.0198</td><td style=\"text-align: right;\">1       </td></tr>\n",
       "<tr><td>training_function_5337a_00001</td><td>TERMINATED</td><td>192.168.2.133:2185</td><td style=\"text-align: right;\">-0.5</td><td style=\"text-align: right;\">-1  </td><td style=\"text-align: right;\">     1</td><td style=\"text-align: right;\">         10.0095</td><td style=\"text-align: right;\">0.790569</td></tr>\n",
       "<tr><td>training_function_5337a_00002</td><td>TERMINATED</td><td>192.168.2.133:2247</td><td style=\"text-align: right;\"> 0  </td><td style=\"text-align: right;\">-1  </td><td style=\"text-align: right;\">     1</td><td style=\"text-align: right;\">         10.0104</td><td style=\"text-align: right;\">0.707107</td></tr>\n",
       "<tr><td>training_function_5337a_00003</td><td>TERMINATED</td><td>192.168.2.133:2308</td><td style=\"text-align: right;\"> 0.5</td><td style=\"text-align: right;\">-1  </td><td style=\"text-align: right;\">     1</td><td style=\"text-align: right;\">         10.0092</td><td style=\"text-align: right;\">0.790569</td></tr>\n",
       "<tr><td>training_function_5337a_00004</td><td>TERMINATED</td><td>192.168.2.133:2369</td><td style=\"text-align: right;\"> 1  </td><td style=\"text-align: right;\">-1  </td><td style=\"text-align: right;\">     1</td><td style=\"text-align: right;\">         10.0141</td><td style=\"text-align: right;\">1       </td></tr>\n",
       "<tr><td>training_function_5337a_00005</td><td>TERMINATED</td><td>192.168.2.133:2428</td><td style=\"text-align: right;\">-1  </td><td style=\"text-align: right;\">-0.5</td><td style=\"text-align: right;\">     1</td><td style=\"text-align: right;\">         10.0114</td><td style=\"text-align: right;\">0.790569</td></tr>\n",
       "<tr><td>training_function_5337a_00006</td><td>TERMINATED</td><td>192.168.2.133:2489</td><td style=\"text-align: right;\">-0.5</td><td style=\"text-align: right;\">-0.5</td><td style=\"text-align: right;\">     1</td><td style=\"text-align: right;\">         10.0104</td><td style=\"text-align: right;\">0.5     </td></tr>\n",
       "<tr><td>training_function_5337a_00007</td><td>TERMINATED</td><td>192.168.2.133:2551</td><td style=\"text-align: right;\"> 0  </td><td style=\"text-align: right;\">-0.5</td><td style=\"text-align: right;\">     1</td><td style=\"text-align: right;\">         10.0056</td><td style=\"text-align: right;\">0.353553</td></tr>\n",
       "<tr><td>training_function_5337a_00008</td><td>TERMINATED</td><td>192.168.2.133:2612</td><td style=\"text-align: right;\"> 0.5</td><td style=\"text-align: right;\">-0.5</td><td style=\"text-align: right;\">     1</td><td style=\"text-align: right;\">         10.0102</td><td style=\"text-align: right;\">0.5     </td></tr>\n",
       "</tbody>\n",
       "</table><br>... 5 more trials not shown (5 PENDING)<br><br>"
      ],
      "text/plain": [
       "<IPython.core.display.HTML object>"
      ]
     },
     "metadata": {},
     "output_type": "display_data"
    },
    {
     "name": "stdout",
     "output_type": "stream",
     "text": [
      "Result for training_function_5337a_00009:\n",
      "  date: 2022-04-30_11-26-47\n",
      "  done: false\n",
      "  experiment_id: 28b4760fa259481caabb380cf4abb5a8\n",
      "  hostname: patrick-c3-1\n",
      "  iterations_since_restore: 1\n",
      "  node_ip: 192.168.2.133\n",
      "  pid: 2672\n",
      "  score: 0.7905694150420949\n",
      "  time_since_restore: 10.0087411403656\n",
      "  time_this_iter_s: 10.0087411403656\n",
      "  time_total_s: 10.0087411403656\n",
      "  timestamp: 1651310807\n",
      "  timesteps_since_restore: 0\n",
      "  training_iteration: 1\n",
      "  trial_id: 5337a_00009\n",
      "  warmup_time: 0.005318403244018555\n",
      "  \n",
      "Result for training_function_5337a_00009:\n",
      "  date: 2022-04-30_11-26-47\n",
      "  done: true\n",
      "  experiment_id: 28b4760fa259481caabb380cf4abb5a8\n",
      "  experiment_tag: 9_x=1,y=-0.5\n",
      "  hostname: patrick-c3-1\n",
      "  iterations_since_restore: 1\n",
      "  node_ip: 192.168.2.133\n",
      "  pid: 2672\n",
      "  score: 0.7905694150420949\n",
      "  time_since_restore: 10.0087411403656\n",
      "  time_this_iter_s: 10.0087411403656\n",
      "  time_total_s: 10.0087411403656\n",
      "  timestamp: 1651310807\n",
      "  timesteps_since_restore: 0\n",
      "  training_iteration: 1\n",
      "  trial_id: 5337a_00009\n",
      "  warmup_time: 0.005318403244018555\n",
      "  \n"
     ]
    },
    {
     "name": "stderr",
     "output_type": "stream",
     "text": [
      "2022-04-30 11:26:48,976\tINFO trial_runner.py:803 -- starting training_function_5337a_00010\n"
     ]
    },
    {
     "data": {
      "text/html": [
       "== Status ==<br>Current time: 2022-04-30 11:26:54 (running for 00:02:29.41)<br>Memory usage on this node: 1.7/1.9 GiB<br>Using FIFO scheduling algorithm.<br>Resources requested: 1.0/1 CPUs, 0/0 GPUs, 0.0/0.37 GiB heap, 0.0/0.18 GiB objects<br>Result logdir: /home/ubuntu/ray_results/training_function_2022-04-30_11-24-24<br>Number of trials: 25/25 (14 PENDING, 1 RUNNING, 10 TERMINATED)<br><table>\n",
       "<thead>\n",
       "<tr><th>Trial name                   </th><th>status    </th><th>loc               </th><th style=\"text-align: right;\">   x</th><th style=\"text-align: right;\">   y</th><th style=\"text-align: right;\">  iter</th><th style=\"text-align: right;\">  total time (s)</th><th style=\"text-align: right;\">   score</th></tr>\n",
       "</thead>\n",
       "<tbody>\n",
       "<tr><td>training_function_5337a_00010</td><td>RUNNING   </td><td>192.168.2.133:2744</td><td style=\"text-align: right;\">-1  </td><td style=\"text-align: right;\"> 0  </td><td style=\"text-align: right;\">      </td><td style=\"text-align: right;\">                </td><td style=\"text-align: right;\">        </td></tr>\n",
       "<tr><td>training_function_5337a_00011</td><td>PENDING   </td><td>                  </td><td style=\"text-align: right;\">-0.5</td><td style=\"text-align: right;\"> 0  </td><td style=\"text-align: right;\">      </td><td style=\"text-align: right;\">                </td><td style=\"text-align: right;\">        </td></tr>\n",
       "<tr><td>training_function_5337a_00012</td><td>PENDING   </td><td>                  </td><td style=\"text-align: right;\"> 0  </td><td style=\"text-align: right;\"> 0  </td><td style=\"text-align: right;\">      </td><td style=\"text-align: right;\">                </td><td style=\"text-align: right;\">        </td></tr>\n",
       "<tr><td>training_function_5337a_00013</td><td>PENDING   </td><td>                  </td><td style=\"text-align: right;\"> 0.5</td><td style=\"text-align: right;\"> 0  </td><td style=\"text-align: right;\">      </td><td style=\"text-align: right;\">                </td><td style=\"text-align: right;\">        </td></tr>\n",
       "<tr><td>training_function_5337a_00014</td><td>PENDING   </td><td>                  </td><td style=\"text-align: right;\"> 1  </td><td style=\"text-align: right;\"> 0  </td><td style=\"text-align: right;\">      </td><td style=\"text-align: right;\">                </td><td style=\"text-align: right;\">        </td></tr>\n",
       "<tr><td>training_function_5337a_00015</td><td>PENDING   </td><td>                  </td><td style=\"text-align: right;\">-1  </td><td style=\"text-align: right;\"> 0.5</td><td style=\"text-align: right;\">      </td><td style=\"text-align: right;\">                </td><td style=\"text-align: right;\">        </td></tr>\n",
       "<tr><td>training_function_5337a_00016</td><td>PENDING   </td><td>                  </td><td style=\"text-align: right;\">-0.5</td><td style=\"text-align: right;\"> 0.5</td><td style=\"text-align: right;\">      </td><td style=\"text-align: right;\">                </td><td style=\"text-align: right;\">        </td></tr>\n",
       "<tr><td>training_function_5337a_00017</td><td>PENDING   </td><td>                  </td><td style=\"text-align: right;\"> 0  </td><td style=\"text-align: right;\"> 0.5</td><td style=\"text-align: right;\">      </td><td style=\"text-align: right;\">                </td><td style=\"text-align: right;\">        </td></tr>\n",
       "<tr><td>training_function_5337a_00018</td><td>PENDING   </td><td>                  </td><td style=\"text-align: right;\"> 0.5</td><td style=\"text-align: right;\"> 0.5</td><td style=\"text-align: right;\">      </td><td style=\"text-align: right;\">                </td><td style=\"text-align: right;\">        </td></tr>\n",
       "<tr><td>training_function_5337a_00019</td><td>PENDING   </td><td>                  </td><td style=\"text-align: right;\"> 1  </td><td style=\"text-align: right;\"> 0.5</td><td style=\"text-align: right;\">      </td><td style=\"text-align: right;\">                </td><td style=\"text-align: right;\">        </td></tr>\n",
       "<tr><td>training_function_5337a_00020</td><td>PENDING   </td><td>                  </td><td style=\"text-align: right;\">-1  </td><td style=\"text-align: right;\"> 1  </td><td style=\"text-align: right;\">      </td><td style=\"text-align: right;\">                </td><td style=\"text-align: right;\">        </td></tr>\n",
       "<tr><td>training_function_5337a_00000</td><td>TERMINATED</td><td>192.168.2.133:2124</td><td style=\"text-align: right;\">-1  </td><td style=\"text-align: right;\">-1  </td><td style=\"text-align: right;\">     1</td><td style=\"text-align: right;\">         10.0198</td><td style=\"text-align: right;\">1       </td></tr>\n",
       "<tr><td>training_function_5337a_00001</td><td>TERMINATED</td><td>192.168.2.133:2185</td><td style=\"text-align: right;\">-0.5</td><td style=\"text-align: right;\">-1  </td><td style=\"text-align: right;\">     1</td><td style=\"text-align: right;\">         10.0095</td><td style=\"text-align: right;\">0.790569</td></tr>\n",
       "<tr><td>training_function_5337a_00002</td><td>TERMINATED</td><td>192.168.2.133:2247</td><td style=\"text-align: right;\"> 0  </td><td style=\"text-align: right;\">-1  </td><td style=\"text-align: right;\">     1</td><td style=\"text-align: right;\">         10.0104</td><td style=\"text-align: right;\">0.707107</td></tr>\n",
       "<tr><td>training_function_5337a_00003</td><td>TERMINATED</td><td>192.168.2.133:2308</td><td style=\"text-align: right;\"> 0.5</td><td style=\"text-align: right;\">-1  </td><td style=\"text-align: right;\">     1</td><td style=\"text-align: right;\">         10.0092</td><td style=\"text-align: right;\">0.790569</td></tr>\n",
       "<tr><td>training_function_5337a_00004</td><td>TERMINATED</td><td>192.168.2.133:2369</td><td style=\"text-align: right;\"> 1  </td><td style=\"text-align: right;\">-1  </td><td style=\"text-align: right;\">     1</td><td style=\"text-align: right;\">         10.0141</td><td style=\"text-align: right;\">1       </td></tr>\n",
       "<tr><td>training_function_5337a_00005</td><td>TERMINATED</td><td>192.168.2.133:2428</td><td style=\"text-align: right;\">-1  </td><td style=\"text-align: right;\">-0.5</td><td style=\"text-align: right;\">     1</td><td style=\"text-align: right;\">         10.0114</td><td style=\"text-align: right;\">0.790569</td></tr>\n",
       "<tr><td>training_function_5337a_00006</td><td>TERMINATED</td><td>192.168.2.133:2489</td><td style=\"text-align: right;\">-0.5</td><td style=\"text-align: right;\">-0.5</td><td style=\"text-align: right;\">     1</td><td style=\"text-align: right;\">         10.0104</td><td style=\"text-align: right;\">0.5     </td></tr>\n",
       "<tr><td>training_function_5337a_00007</td><td>TERMINATED</td><td>192.168.2.133:2551</td><td style=\"text-align: right;\"> 0  </td><td style=\"text-align: right;\">-0.5</td><td style=\"text-align: right;\">     1</td><td style=\"text-align: right;\">         10.0056</td><td style=\"text-align: right;\">0.353553</td></tr>\n",
       "<tr><td>training_function_5337a_00008</td><td>TERMINATED</td><td>192.168.2.133:2612</td><td style=\"text-align: right;\"> 0.5</td><td style=\"text-align: right;\">-0.5</td><td style=\"text-align: right;\">     1</td><td style=\"text-align: right;\">         10.0102</td><td style=\"text-align: right;\">0.5     </td></tr>\n",
       "<tr><td>training_function_5337a_00009</td><td>TERMINATED</td><td>192.168.2.133:2672</td><td style=\"text-align: right;\"> 1  </td><td style=\"text-align: right;\">-0.5</td><td style=\"text-align: right;\">     1</td><td style=\"text-align: right;\">         10.0087</td><td style=\"text-align: right;\">0.790569</td></tr>\n",
       "</tbody>\n",
       "</table><br>... 5 more trials not shown (4 PENDING)<br><br>"
      ],
      "text/plain": [
       "<IPython.core.display.HTML object>"
      ]
     },
     "metadata": {},
     "output_type": "display_data"
    },
    {
     "data": {
      "text/html": [
       "== Status ==<br>Current time: 2022-04-30 11:26:59 (running for 00:02:34.42)<br>Memory usage on this node: 1.7/1.9 GiB<br>Using FIFO scheduling algorithm.<br>Resources requested: 1.0/1 CPUs, 0/0 GPUs, 0.0/0.37 GiB heap, 0.0/0.18 GiB objects<br>Result logdir: /home/ubuntu/ray_results/training_function_2022-04-30_11-24-24<br>Number of trials: 25/25 (14 PENDING, 1 RUNNING, 10 TERMINATED)<br><table>\n",
       "<thead>\n",
       "<tr><th>Trial name                   </th><th>status    </th><th>loc               </th><th style=\"text-align: right;\">   x</th><th style=\"text-align: right;\">   y</th><th style=\"text-align: right;\">  iter</th><th style=\"text-align: right;\">  total time (s)</th><th style=\"text-align: right;\">   score</th></tr>\n",
       "</thead>\n",
       "<tbody>\n",
       "<tr><td>training_function_5337a_00010</td><td>RUNNING   </td><td>192.168.2.133:2744</td><td style=\"text-align: right;\">-1  </td><td style=\"text-align: right;\"> 0  </td><td style=\"text-align: right;\">      </td><td style=\"text-align: right;\">                </td><td style=\"text-align: right;\">        </td></tr>\n",
       "<tr><td>training_function_5337a_00011</td><td>PENDING   </td><td>                  </td><td style=\"text-align: right;\">-0.5</td><td style=\"text-align: right;\"> 0  </td><td style=\"text-align: right;\">      </td><td style=\"text-align: right;\">                </td><td style=\"text-align: right;\">        </td></tr>\n",
       "<tr><td>training_function_5337a_00012</td><td>PENDING   </td><td>                  </td><td style=\"text-align: right;\"> 0  </td><td style=\"text-align: right;\"> 0  </td><td style=\"text-align: right;\">      </td><td style=\"text-align: right;\">                </td><td style=\"text-align: right;\">        </td></tr>\n",
       "<tr><td>training_function_5337a_00013</td><td>PENDING   </td><td>                  </td><td style=\"text-align: right;\"> 0.5</td><td style=\"text-align: right;\"> 0  </td><td style=\"text-align: right;\">      </td><td style=\"text-align: right;\">                </td><td style=\"text-align: right;\">        </td></tr>\n",
       "<tr><td>training_function_5337a_00014</td><td>PENDING   </td><td>                  </td><td style=\"text-align: right;\"> 1  </td><td style=\"text-align: right;\"> 0  </td><td style=\"text-align: right;\">      </td><td style=\"text-align: right;\">                </td><td style=\"text-align: right;\">        </td></tr>\n",
       "<tr><td>training_function_5337a_00015</td><td>PENDING   </td><td>                  </td><td style=\"text-align: right;\">-1  </td><td style=\"text-align: right;\"> 0.5</td><td style=\"text-align: right;\">      </td><td style=\"text-align: right;\">                </td><td style=\"text-align: right;\">        </td></tr>\n",
       "<tr><td>training_function_5337a_00016</td><td>PENDING   </td><td>                  </td><td style=\"text-align: right;\">-0.5</td><td style=\"text-align: right;\"> 0.5</td><td style=\"text-align: right;\">      </td><td style=\"text-align: right;\">                </td><td style=\"text-align: right;\">        </td></tr>\n",
       "<tr><td>training_function_5337a_00017</td><td>PENDING   </td><td>                  </td><td style=\"text-align: right;\"> 0  </td><td style=\"text-align: right;\"> 0.5</td><td style=\"text-align: right;\">      </td><td style=\"text-align: right;\">                </td><td style=\"text-align: right;\">        </td></tr>\n",
       "<tr><td>training_function_5337a_00018</td><td>PENDING   </td><td>                  </td><td style=\"text-align: right;\"> 0.5</td><td style=\"text-align: right;\"> 0.5</td><td style=\"text-align: right;\">      </td><td style=\"text-align: right;\">                </td><td style=\"text-align: right;\">        </td></tr>\n",
       "<tr><td>training_function_5337a_00019</td><td>PENDING   </td><td>                  </td><td style=\"text-align: right;\"> 1  </td><td style=\"text-align: right;\"> 0.5</td><td style=\"text-align: right;\">      </td><td style=\"text-align: right;\">                </td><td style=\"text-align: right;\">        </td></tr>\n",
       "<tr><td>training_function_5337a_00020</td><td>PENDING   </td><td>                  </td><td style=\"text-align: right;\">-1  </td><td style=\"text-align: right;\"> 1  </td><td style=\"text-align: right;\">      </td><td style=\"text-align: right;\">                </td><td style=\"text-align: right;\">        </td></tr>\n",
       "<tr><td>training_function_5337a_00000</td><td>TERMINATED</td><td>192.168.2.133:2124</td><td style=\"text-align: right;\">-1  </td><td style=\"text-align: right;\">-1  </td><td style=\"text-align: right;\">     1</td><td style=\"text-align: right;\">         10.0198</td><td style=\"text-align: right;\">1       </td></tr>\n",
       "<tr><td>training_function_5337a_00001</td><td>TERMINATED</td><td>192.168.2.133:2185</td><td style=\"text-align: right;\">-0.5</td><td style=\"text-align: right;\">-1  </td><td style=\"text-align: right;\">     1</td><td style=\"text-align: right;\">         10.0095</td><td style=\"text-align: right;\">0.790569</td></tr>\n",
       "<tr><td>training_function_5337a_00002</td><td>TERMINATED</td><td>192.168.2.133:2247</td><td style=\"text-align: right;\"> 0  </td><td style=\"text-align: right;\">-1  </td><td style=\"text-align: right;\">     1</td><td style=\"text-align: right;\">         10.0104</td><td style=\"text-align: right;\">0.707107</td></tr>\n",
       "<tr><td>training_function_5337a_00003</td><td>TERMINATED</td><td>192.168.2.133:2308</td><td style=\"text-align: right;\"> 0.5</td><td style=\"text-align: right;\">-1  </td><td style=\"text-align: right;\">     1</td><td style=\"text-align: right;\">         10.0092</td><td style=\"text-align: right;\">0.790569</td></tr>\n",
       "<tr><td>training_function_5337a_00004</td><td>TERMINATED</td><td>192.168.2.133:2369</td><td style=\"text-align: right;\"> 1  </td><td style=\"text-align: right;\">-1  </td><td style=\"text-align: right;\">     1</td><td style=\"text-align: right;\">         10.0141</td><td style=\"text-align: right;\">1       </td></tr>\n",
       "<tr><td>training_function_5337a_00005</td><td>TERMINATED</td><td>192.168.2.133:2428</td><td style=\"text-align: right;\">-1  </td><td style=\"text-align: right;\">-0.5</td><td style=\"text-align: right;\">     1</td><td style=\"text-align: right;\">         10.0114</td><td style=\"text-align: right;\">0.790569</td></tr>\n",
       "<tr><td>training_function_5337a_00006</td><td>TERMINATED</td><td>192.168.2.133:2489</td><td style=\"text-align: right;\">-0.5</td><td style=\"text-align: right;\">-0.5</td><td style=\"text-align: right;\">     1</td><td style=\"text-align: right;\">         10.0104</td><td style=\"text-align: right;\">0.5     </td></tr>\n",
       "<tr><td>training_function_5337a_00007</td><td>TERMINATED</td><td>192.168.2.133:2551</td><td style=\"text-align: right;\"> 0  </td><td style=\"text-align: right;\">-0.5</td><td style=\"text-align: right;\">     1</td><td style=\"text-align: right;\">         10.0056</td><td style=\"text-align: right;\">0.353553</td></tr>\n",
       "<tr><td>training_function_5337a_00008</td><td>TERMINATED</td><td>192.168.2.133:2612</td><td style=\"text-align: right;\"> 0.5</td><td style=\"text-align: right;\">-0.5</td><td style=\"text-align: right;\">     1</td><td style=\"text-align: right;\">         10.0102</td><td style=\"text-align: right;\">0.5     </td></tr>\n",
       "<tr><td>training_function_5337a_00009</td><td>TERMINATED</td><td>192.168.2.133:2672</td><td style=\"text-align: right;\"> 1  </td><td style=\"text-align: right;\">-0.5</td><td style=\"text-align: right;\">     1</td><td style=\"text-align: right;\">         10.0087</td><td style=\"text-align: right;\">0.790569</td></tr>\n",
       "</tbody>\n",
       "</table><br>... 5 more trials not shown (4 PENDING)<br><br>"
      ],
      "text/plain": [
       "<IPython.core.display.HTML object>"
      ]
     },
     "metadata": {},
     "output_type": "display_data"
    },
    {
     "name": "stdout",
     "output_type": "stream",
     "text": [
      "Result for training_function_5337a_00010:\n",
      "  date: 2022-04-30_11-27-01\n",
      "  done: false\n",
      "  experiment_id: c52a332045d544db8632db27b242ddc5\n",
      "  hostname: patrick-c3-1\n",
      "  iterations_since_restore: 1\n",
      "  node_ip: 192.168.2.133\n",
      "  pid: 2744\n",
      "  score: 0.7071067811865476\n",
      "  time_since_restore: 10.011969566345215\n",
      "  time_this_iter_s: 10.011969566345215\n",
      "  time_total_s: 10.011969566345215\n",
      "  timestamp: 1651310821\n",
      "  timesteps_since_restore: 0\n",
      "  training_iteration: 1\n",
      "  trial_id: 5337a_00010\n",
      "  warmup_time: 0.008035898208618164\n",
      "  \n",
      "Result for training_function_5337a_00010:\n",
      "  date: 2022-04-30_11-27-01\n",
      "  done: true\n",
      "  experiment_id: c52a332045d544db8632db27b242ddc5\n",
      "  experiment_tag: 10_x=-1,y=0\n",
      "  hostname: patrick-c3-1\n",
      "  iterations_since_restore: 1\n",
      "  node_ip: 192.168.2.133\n",
      "  pid: 2744\n",
      "  score: 0.7071067811865476\n",
      "  time_since_restore: 10.011969566345215\n",
      "  time_this_iter_s: 10.011969566345215\n",
      "  time_total_s: 10.011969566345215\n",
      "  timestamp: 1651310821\n",
      "  timesteps_since_restore: 0\n",
      "  training_iteration: 1\n",
      "  trial_id: 5337a_00010\n",
      "  warmup_time: 0.008035898208618164\n",
      "  \n"
     ]
    },
    {
     "name": "stderr",
     "output_type": "stream",
     "text": [
      "2022-04-30 11:27:02,974\tINFO trial_runner.py:803 -- starting training_function_5337a_00011\n"
     ]
    },
    {
     "data": {
      "text/html": [
       "== Status ==<br>Current time: 2022-04-30 11:27:08 (running for 00:02:43.40)<br>Memory usage on this node: 1.7/1.9 GiB<br>Using FIFO scheduling algorithm.<br>Resources requested: 1.0/1 CPUs, 0/0 GPUs, 0.0/0.37 GiB heap, 0.0/0.18 GiB objects<br>Result logdir: /home/ubuntu/ray_results/training_function_2022-04-30_11-24-24<br>Number of trials: 25/25 (13 PENDING, 1 RUNNING, 11 TERMINATED)<br><table>\n",
       "<thead>\n",
       "<tr><th>Trial name                   </th><th>status    </th><th>loc               </th><th style=\"text-align: right;\">   x</th><th style=\"text-align: right;\">   y</th><th style=\"text-align: right;\">  iter</th><th style=\"text-align: right;\">  total time (s)</th><th style=\"text-align: right;\">   score</th></tr>\n",
       "</thead>\n",
       "<tbody>\n",
       "<tr><td>training_function_5337a_00011</td><td>RUNNING   </td><td>192.168.2.133:2807</td><td style=\"text-align: right;\">-0.5</td><td style=\"text-align: right;\"> 0  </td><td style=\"text-align: right;\">      </td><td style=\"text-align: right;\">                </td><td style=\"text-align: right;\">        </td></tr>\n",
       "<tr><td>training_function_5337a_00012</td><td>PENDING   </td><td>                  </td><td style=\"text-align: right;\"> 0  </td><td style=\"text-align: right;\"> 0  </td><td style=\"text-align: right;\">      </td><td style=\"text-align: right;\">                </td><td style=\"text-align: right;\">        </td></tr>\n",
       "<tr><td>training_function_5337a_00013</td><td>PENDING   </td><td>                  </td><td style=\"text-align: right;\"> 0.5</td><td style=\"text-align: right;\"> 0  </td><td style=\"text-align: right;\">      </td><td style=\"text-align: right;\">                </td><td style=\"text-align: right;\">        </td></tr>\n",
       "<tr><td>training_function_5337a_00014</td><td>PENDING   </td><td>                  </td><td style=\"text-align: right;\"> 1  </td><td style=\"text-align: right;\"> 0  </td><td style=\"text-align: right;\">      </td><td style=\"text-align: right;\">                </td><td style=\"text-align: right;\">        </td></tr>\n",
       "<tr><td>training_function_5337a_00015</td><td>PENDING   </td><td>                  </td><td style=\"text-align: right;\">-1  </td><td style=\"text-align: right;\"> 0.5</td><td style=\"text-align: right;\">      </td><td style=\"text-align: right;\">                </td><td style=\"text-align: right;\">        </td></tr>\n",
       "<tr><td>training_function_5337a_00016</td><td>PENDING   </td><td>                  </td><td style=\"text-align: right;\">-0.5</td><td style=\"text-align: right;\"> 0.5</td><td style=\"text-align: right;\">      </td><td style=\"text-align: right;\">                </td><td style=\"text-align: right;\">        </td></tr>\n",
       "<tr><td>training_function_5337a_00017</td><td>PENDING   </td><td>                  </td><td style=\"text-align: right;\"> 0  </td><td style=\"text-align: right;\"> 0.5</td><td style=\"text-align: right;\">      </td><td style=\"text-align: right;\">                </td><td style=\"text-align: right;\">        </td></tr>\n",
       "<tr><td>training_function_5337a_00018</td><td>PENDING   </td><td>                  </td><td style=\"text-align: right;\"> 0.5</td><td style=\"text-align: right;\"> 0.5</td><td style=\"text-align: right;\">      </td><td style=\"text-align: right;\">                </td><td style=\"text-align: right;\">        </td></tr>\n",
       "<tr><td>training_function_5337a_00019</td><td>PENDING   </td><td>                  </td><td style=\"text-align: right;\"> 1  </td><td style=\"text-align: right;\"> 0.5</td><td style=\"text-align: right;\">      </td><td style=\"text-align: right;\">                </td><td style=\"text-align: right;\">        </td></tr>\n",
       "<tr><td>training_function_5337a_00020</td><td>PENDING   </td><td>                  </td><td style=\"text-align: right;\">-1  </td><td style=\"text-align: right;\"> 1  </td><td style=\"text-align: right;\">      </td><td style=\"text-align: right;\">                </td><td style=\"text-align: right;\">        </td></tr>\n",
       "<tr><td>training_function_5337a_00021</td><td>PENDING   </td><td>                  </td><td style=\"text-align: right;\">-0.5</td><td style=\"text-align: right;\"> 1  </td><td style=\"text-align: right;\">      </td><td style=\"text-align: right;\">                </td><td style=\"text-align: right;\">        </td></tr>\n",
       "<tr><td>training_function_5337a_00000</td><td>TERMINATED</td><td>192.168.2.133:2124</td><td style=\"text-align: right;\">-1  </td><td style=\"text-align: right;\">-1  </td><td style=\"text-align: right;\">     1</td><td style=\"text-align: right;\">         10.0198</td><td style=\"text-align: right;\">1       </td></tr>\n",
       "<tr><td>training_function_5337a_00001</td><td>TERMINATED</td><td>192.168.2.133:2185</td><td style=\"text-align: right;\">-0.5</td><td style=\"text-align: right;\">-1  </td><td style=\"text-align: right;\">     1</td><td style=\"text-align: right;\">         10.0095</td><td style=\"text-align: right;\">0.790569</td></tr>\n",
       "<tr><td>training_function_5337a_00002</td><td>TERMINATED</td><td>192.168.2.133:2247</td><td style=\"text-align: right;\"> 0  </td><td style=\"text-align: right;\">-1  </td><td style=\"text-align: right;\">     1</td><td style=\"text-align: right;\">         10.0104</td><td style=\"text-align: right;\">0.707107</td></tr>\n",
       "<tr><td>training_function_5337a_00003</td><td>TERMINATED</td><td>192.168.2.133:2308</td><td style=\"text-align: right;\"> 0.5</td><td style=\"text-align: right;\">-1  </td><td style=\"text-align: right;\">     1</td><td style=\"text-align: right;\">         10.0092</td><td style=\"text-align: right;\">0.790569</td></tr>\n",
       "<tr><td>training_function_5337a_00004</td><td>TERMINATED</td><td>192.168.2.133:2369</td><td style=\"text-align: right;\"> 1  </td><td style=\"text-align: right;\">-1  </td><td style=\"text-align: right;\">     1</td><td style=\"text-align: right;\">         10.0141</td><td style=\"text-align: right;\">1       </td></tr>\n",
       "<tr><td>training_function_5337a_00005</td><td>TERMINATED</td><td>192.168.2.133:2428</td><td style=\"text-align: right;\">-1  </td><td style=\"text-align: right;\">-0.5</td><td style=\"text-align: right;\">     1</td><td style=\"text-align: right;\">         10.0114</td><td style=\"text-align: right;\">0.790569</td></tr>\n",
       "<tr><td>training_function_5337a_00006</td><td>TERMINATED</td><td>192.168.2.133:2489</td><td style=\"text-align: right;\">-0.5</td><td style=\"text-align: right;\">-0.5</td><td style=\"text-align: right;\">     1</td><td style=\"text-align: right;\">         10.0104</td><td style=\"text-align: right;\">0.5     </td></tr>\n",
       "<tr><td>training_function_5337a_00007</td><td>TERMINATED</td><td>192.168.2.133:2551</td><td style=\"text-align: right;\"> 0  </td><td style=\"text-align: right;\">-0.5</td><td style=\"text-align: right;\">     1</td><td style=\"text-align: right;\">         10.0056</td><td style=\"text-align: right;\">0.353553</td></tr>\n",
       "<tr><td>training_function_5337a_00008</td><td>TERMINATED</td><td>192.168.2.133:2612</td><td style=\"text-align: right;\"> 0.5</td><td style=\"text-align: right;\">-0.5</td><td style=\"text-align: right;\">     1</td><td style=\"text-align: right;\">         10.0102</td><td style=\"text-align: right;\">0.5     </td></tr>\n",
       "<tr><td>training_function_5337a_00009</td><td>TERMINATED</td><td>192.168.2.133:2672</td><td style=\"text-align: right;\"> 1  </td><td style=\"text-align: right;\">-0.5</td><td style=\"text-align: right;\">     1</td><td style=\"text-align: right;\">         10.0087</td><td style=\"text-align: right;\">0.790569</td></tr>\n",
       "</tbody>\n",
       "</table><br>... 5 more trials not shown (3 PENDING, 1 TERMINATED)<br><br>"
      ],
      "text/plain": [
       "<IPython.core.display.HTML object>"
      ]
     },
     "metadata": {},
     "output_type": "display_data"
    },
    {
     "data": {
      "text/html": [
       "== Status ==<br>Current time: 2022-04-30 11:27:13 (running for 00:02:48.42)<br>Memory usage on this node: 1.7/1.9 GiB<br>Using FIFO scheduling algorithm.<br>Resources requested: 1.0/1 CPUs, 0/0 GPUs, 0.0/0.37 GiB heap, 0.0/0.18 GiB objects<br>Result logdir: /home/ubuntu/ray_results/training_function_2022-04-30_11-24-24<br>Number of trials: 25/25 (13 PENDING, 1 RUNNING, 11 TERMINATED)<br><table>\n",
       "<thead>\n",
       "<tr><th>Trial name                   </th><th>status    </th><th>loc               </th><th style=\"text-align: right;\">   x</th><th style=\"text-align: right;\">   y</th><th style=\"text-align: right;\">  iter</th><th style=\"text-align: right;\">  total time (s)</th><th style=\"text-align: right;\">   score</th></tr>\n",
       "</thead>\n",
       "<tbody>\n",
       "<tr><td>training_function_5337a_00011</td><td>RUNNING   </td><td>192.168.2.133:2807</td><td style=\"text-align: right;\">-0.5</td><td style=\"text-align: right;\"> 0  </td><td style=\"text-align: right;\">      </td><td style=\"text-align: right;\">                </td><td style=\"text-align: right;\">        </td></tr>\n",
       "<tr><td>training_function_5337a_00012</td><td>PENDING   </td><td>                  </td><td style=\"text-align: right;\"> 0  </td><td style=\"text-align: right;\"> 0  </td><td style=\"text-align: right;\">      </td><td style=\"text-align: right;\">                </td><td style=\"text-align: right;\">        </td></tr>\n",
       "<tr><td>training_function_5337a_00013</td><td>PENDING   </td><td>                  </td><td style=\"text-align: right;\"> 0.5</td><td style=\"text-align: right;\"> 0  </td><td style=\"text-align: right;\">      </td><td style=\"text-align: right;\">                </td><td style=\"text-align: right;\">        </td></tr>\n",
       "<tr><td>training_function_5337a_00014</td><td>PENDING   </td><td>                  </td><td style=\"text-align: right;\"> 1  </td><td style=\"text-align: right;\"> 0  </td><td style=\"text-align: right;\">      </td><td style=\"text-align: right;\">                </td><td style=\"text-align: right;\">        </td></tr>\n",
       "<tr><td>training_function_5337a_00015</td><td>PENDING   </td><td>                  </td><td style=\"text-align: right;\">-1  </td><td style=\"text-align: right;\"> 0.5</td><td style=\"text-align: right;\">      </td><td style=\"text-align: right;\">                </td><td style=\"text-align: right;\">        </td></tr>\n",
       "<tr><td>training_function_5337a_00016</td><td>PENDING   </td><td>                  </td><td style=\"text-align: right;\">-0.5</td><td style=\"text-align: right;\"> 0.5</td><td style=\"text-align: right;\">      </td><td style=\"text-align: right;\">                </td><td style=\"text-align: right;\">        </td></tr>\n",
       "<tr><td>training_function_5337a_00017</td><td>PENDING   </td><td>                  </td><td style=\"text-align: right;\"> 0  </td><td style=\"text-align: right;\"> 0.5</td><td style=\"text-align: right;\">      </td><td style=\"text-align: right;\">                </td><td style=\"text-align: right;\">        </td></tr>\n",
       "<tr><td>training_function_5337a_00018</td><td>PENDING   </td><td>                  </td><td style=\"text-align: right;\"> 0.5</td><td style=\"text-align: right;\"> 0.5</td><td style=\"text-align: right;\">      </td><td style=\"text-align: right;\">                </td><td style=\"text-align: right;\">        </td></tr>\n",
       "<tr><td>training_function_5337a_00019</td><td>PENDING   </td><td>                  </td><td style=\"text-align: right;\"> 1  </td><td style=\"text-align: right;\"> 0.5</td><td style=\"text-align: right;\">      </td><td style=\"text-align: right;\">                </td><td style=\"text-align: right;\">        </td></tr>\n",
       "<tr><td>training_function_5337a_00020</td><td>PENDING   </td><td>                  </td><td style=\"text-align: right;\">-1  </td><td style=\"text-align: right;\"> 1  </td><td style=\"text-align: right;\">      </td><td style=\"text-align: right;\">                </td><td style=\"text-align: right;\">        </td></tr>\n",
       "<tr><td>training_function_5337a_00021</td><td>PENDING   </td><td>                  </td><td style=\"text-align: right;\">-0.5</td><td style=\"text-align: right;\"> 1  </td><td style=\"text-align: right;\">      </td><td style=\"text-align: right;\">                </td><td style=\"text-align: right;\">        </td></tr>\n",
       "<tr><td>training_function_5337a_00000</td><td>TERMINATED</td><td>192.168.2.133:2124</td><td style=\"text-align: right;\">-1  </td><td style=\"text-align: right;\">-1  </td><td style=\"text-align: right;\">     1</td><td style=\"text-align: right;\">         10.0198</td><td style=\"text-align: right;\">1       </td></tr>\n",
       "<tr><td>training_function_5337a_00001</td><td>TERMINATED</td><td>192.168.2.133:2185</td><td style=\"text-align: right;\">-0.5</td><td style=\"text-align: right;\">-1  </td><td style=\"text-align: right;\">     1</td><td style=\"text-align: right;\">         10.0095</td><td style=\"text-align: right;\">0.790569</td></tr>\n",
       "<tr><td>training_function_5337a_00002</td><td>TERMINATED</td><td>192.168.2.133:2247</td><td style=\"text-align: right;\"> 0  </td><td style=\"text-align: right;\">-1  </td><td style=\"text-align: right;\">     1</td><td style=\"text-align: right;\">         10.0104</td><td style=\"text-align: right;\">0.707107</td></tr>\n",
       "<tr><td>training_function_5337a_00003</td><td>TERMINATED</td><td>192.168.2.133:2308</td><td style=\"text-align: right;\"> 0.5</td><td style=\"text-align: right;\">-1  </td><td style=\"text-align: right;\">     1</td><td style=\"text-align: right;\">         10.0092</td><td style=\"text-align: right;\">0.790569</td></tr>\n",
       "<tr><td>training_function_5337a_00004</td><td>TERMINATED</td><td>192.168.2.133:2369</td><td style=\"text-align: right;\"> 1  </td><td style=\"text-align: right;\">-1  </td><td style=\"text-align: right;\">     1</td><td style=\"text-align: right;\">         10.0141</td><td style=\"text-align: right;\">1       </td></tr>\n",
       "<tr><td>training_function_5337a_00005</td><td>TERMINATED</td><td>192.168.2.133:2428</td><td style=\"text-align: right;\">-1  </td><td style=\"text-align: right;\">-0.5</td><td style=\"text-align: right;\">     1</td><td style=\"text-align: right;\">         10.0114</td><td style=\"text-align: right;\">0.790569</td></tr>\n",
       "<tr><td>training_function_5337a_00006</td><td>TERMINATED</td><td>192.168.2.133:2489</td><td style=\"text-align: right;\">-0.5</td><td style=\"text-align: right;\">-0.5</td><td style=\"text-align: right;\">     1</td><td style=\"text-align: right;\">         10.0104</td><td style=\"text-align: right;\">0.5     </td></tr>\n",
       "<tr><td>training_function_5337a_00007</td><td>TERMINATED</td><td>192.168.2.133:2551</td><td style=\"text-align: right;\"> 0  </td><td style=\"text-align: right;\">-0.5</td><td style=\"text-align: right;\">     1</td><td style=\"text-align: right;\">         10.0056</td><td style=\"text-align: right;\">0.353553</td></tr>\n",
       "<tr><td>training_function_5337a_00008</td><td>TERMINATED</td><td>192.168.2.133:2612</td><td style=\"text-align: right;\"> 0.5</td><td style=\"text-align: right;\">-0.5</td><td style=\"text-align: right;\">     1</td><td style=\"text-align: right;\">         10.0102</td><td style=\"text-align: right;\">0.5     </td></tr>\n",
       "<tr><td>training_function_5337a_00009</td><td>TERMINATED</td><td>192.168.2.133:2672</td><td style=\"text-align: right;\"> 1  </td><td style=\"text-align: right;\">-0.5</td><td style=\"text-align: right;\">     1</td><td style=\"text-align: right;\">         10.0087</td><td style=\"text-align: right;\">0.790569</td></tr>\n",
       "</tbody>\n",
       "</table><br>... 5 more trials not shown (3 PENDING, 1 TERMINATED)<br><br>"
      ],
      "text/plain": [
       "<IPython.core.display.HTML object>"
      ]
     },
     "metadata": {},
     "output_type": "display_data"
    },
    {
     "name": "stdout",
     "output_type": "stream",
     "text": [
      "Result for training_function_5337a_00011:\n",
      "  date: 2022-04-30_11-27-15\n",
      "  done: false\n",
      "  experiment_id: 5ff43914e1c94d8c991ae2da89d294a4\n",
      "  hostname: patrick-c3-1\n",
      "  iterations_since_restore: 1\n",
      "  node_ip: 192.168.2.133\n",
      "  pid: 2807\n",
      "  score: 0.3535533905932738\n",
      "  time_since_restore: 10.010112524032593\n",
      "  time_this_iter_s: 10.010112524032593\n",
      "  time_total_s: 10.010112524032593\n",
      "  timestamp: 1651310835\n",
      "  timesteps_since_restore: 0\n",
      "  training_iteration: 1\n",
      "  trial_id: 5337a_00011\n",
      "  warmup_time: 0.005545854568481445\n",
      "  \n",
      "Result for training_function_5337a_00011:\n",
      "  date: 2022-04-30_11-27-15\n",
      "  done: true\n",
      "  experiment_id: 5ff43914e1c94d8c991ae2da89d294a4\n",
      "  experiment_tag: 11_x=-0.5,y=0\n",
      "  hostname: patrick-c3-1\n",
      "  iterations_since_restore: 1\n",
      "  node_ip: 192.168.2.133\n",
      "  pid: 2807\n",
      "  score: 0.3535533905932738\n",
      "  time_since_restore: 10.010112524032593\n",
      "  time_this_iter_s: 10.010112524032593\n",
      "  time_total_s: 10.010112524032593\n",
      "  timestamp: 1651310835\n",
      "  timesteps_since_restore: 0\n",
      "  training_iteration: 1\n",
      "  trial_id: 5337a_00011\n",
      "  warmup_time: 0.005545854568481445\n",
      "  \n"
     ]
    },
    {
     "name": "stderr",
     "output_type": "stream",
     "text": [
      "2022-04-30 11:27:16,993\tINFO trial_runner.py:803 -- starting training_function_5337a_00012\n"
     ]
    },
    {
     "data": {
      "text/html": [
       "== Status ==<br>Current time: 2022-04-30 11:27:22 (running for 00:02:57.43)<br>Memory usage on this node: 1.7/1.9 GiB<br>Using FIFO scheduling algorithm.<br>Resources requested: 1.0/1 CPUs, 0/0 GPUs, 0.0/0.37 GiB heap, 0.0/0.18 GiB objects<br>Result logdir: /home/ubuntu/ray_results/training_function_2022-04-30_11-24-24<br>Number of trials: 25/25 (12 PENDING, 1 RUNNING, 12 TERMINATED)<br><table>\n",
       "<thead>\n",
       "<tr><th>Trial name                   </th><th>status    </th><th>loc               </th><th style=\"text-align: right;\">   x</th><th style=\"text-align: right;\">   y</th><th style=\"text-align: right;\">  iter</th><th style=\"text-align: right;\">  total time (s)</th><th style=\"text-align: right;\">   score</th></tr>\n",
       "</thead>\n",
       "<tbody>\n",
       "<tr><td>training_function_5337a_00012</td><td>RUNNING   </td><td>192.168.2.133:2868</td><td style=\"text-align: right;\"> 0  </td><td style=\"text-align: right;\"> 0  </td><td style=\"text-align: right;\">      </td><td style=\"text-align: right;\">                </td><td style=\"text-align: right;\">        </td></tr>\n",
       "<tr><td>training_function_5337a_00013</td><td>PENDING   </td><td>                  </td><td style=\"text-align: right;\"> 0.5</td><td style=\"text-align: right;\"> 0  </td><td style=\"text-align: right;\">      </td><td style=\"text-align: right;\">                </td><td style=\"text-align: right;\">        </td></tr>\n",
       "<tr><td>training_function_5337a_00014</td><td>PENDING   </td><td>                  </td><td style=\"text-align: right;\"> 1  </td><td style=\"text-align: right;\"> 0  </td><td style=\"text-align: right;\">      </td><td style=\"text-align: right;\">                </td><td style=\"text-align: right;\">        </td></tr>\n",
       "<tr><td>training_function_5337a_00015</td><td>PENDING   </td><td>                  </td><td style=\"text-align: right;\">-1  </td><td style=\"text-align: right;\"> 0.5</td><td style=\"text-align: right;\">      </td><td style=\"text-align: right;\">                </td><td style=\"text-align: right;\">        </td></tr>\n",
       "<tr><td>training_function_5337a_00016</td><td>PENDING   </td><td>                  </td><td style=\"text-align: right;\">-0.5</td><td style=\"text-align: right;\"> 0.5</td><td style=\"text-align: right;\">      </td><td style=\"text-align: right;\">                </td><td style=\"text-align: right;\">        </td></tr>\n",
       "<tr><td>training_function_5337a_00017</td><td>PENDING   </td><td>                  </td><td style=\"text-align: right;\"> 0  </td><td style=\"text-align: right;\"> 0.5</td><td style=\"text-align: right;\">      </td><td style=\"text-align: right;\">                </td><td style=\"text-align: right;\">        </td></tr>\n",
       "<tr><td>training_function_5337a_00018</td><td>PENDING   </td><td>                  </td><td style=\"text-align: right;\"> 0.5</td><td style=\"text-align: right;\"> 0.5</td><td style=\"text-align: right;\">      </td><td style=\"text-align: right;\">                </td><td style=\"text-align: right;\">        </td></tr>\n",
       "<tr><td>training_function_5337a_00019</td><td>PENDING   </td><td>                  </td><td style=\"text-align: right;\"> 1  </td><td style=\"text-align: right;\"> 0.5</td><td style=\"text-align: right;\">      </td><td style=\"text-align: right;\">                </td><td style=\"text-align: right;\">        </td></tr>\n",
       "<tr><td>training_function_5337a_00020</td><td>PENDING   </td><td>                  </td><td style=\"text-align: right;\">-1  </td><td style=\"text-align: right;\"> 1  </td><td style=\"text-align: right;\">      </td><td style=\"text-align: right;\">                </td><td style=\"text-align: right;\">        </td></tr>\n",
       "<tr><td>training_function_5337a_00021</td><td>PENDING   </td><td>                  </td><td style=\"text-align: right;\">-0.5</td><td style=\"text-align: right;\"> 1  </td><td style=\"text-align: right;\">      </td><td style=\"text-align: right;\">                </td><td style=\"text-align: right;\">        </td></tr>\n",
       "<tr><td>training_function_5337a_00022</td><td>PENDING   </td><td>                  </td><td style=\"text-align: right;\"> 0  </td><td style=\"text-align: right;\"> 1  </td><td style=\"text-align: right;\">      </td><td style=\"text-align: right;\">                </td><td style=\"text-align: right;\">        </td></tr>\n",
       "<tr><td>training_function_5337a_00000</td><td>TERMINATED</td><td>192.168.2.133:2124</td><td style=\"text-align: right;\">-1  </td><td style=\"text-align: right;\">-1  </td><td style=\"text-align: right;\">     1</td><td style=\"text-align: right;\">         10.0198</td><td style=\"text-align: right;\">1       </td></tr>\n",
       "<tr><td>training_function_5337a_00001</td><td>TERMINATED</td><td>192.168.2.133:2185</td><td style=\"text-align: right;\">-0.5</td><td style=\"text-align: right;\">-1  </td><td style=\"text-align: right;\">     1</td><td style=\"text-align: right;\">         10.0095</td><td style=\"text-align: right;\">0.790569</td></tr>\n",
       "<tr><td>training_function_5337a_00002</td><td>TERMINATED</td><td>192.168.2.133:2247</td><td style=\"text-align: right;\"> 0  </td><td style=\"text-align: right;\">-1  </td><td style=\"text-align: right;\">     1</td><td style=\"text-align: right;\">         10.0104</td><td style=\"text-align: right;\">0.707107</td></tr>\n",
       "<tr><td>training_function_5337a_00003</td><td>TERMINATED</td><td>192.168.2.133:2308</td><td style=\"text-align: right;\"> 0.5</td><td style=\"text-align: right;\">-1  </td><td style=\"text-align: right;\">     1</td><td style=\"text-align: right;\">         10.0092</td><td style=\"text-align: right;\">0.790569</td></tr>\n",
       "<tr><td>training_function_5337a_00004</td><td>TERMINATED</td><td>192.168.2.133:2369</td><td style=\"text-align: right;\"> 1  </td><td style=\"text-align: right;\">-1  </td><td style=\"text-align: right;\">     1</td><td style=\"text-align: right;\">         10.0141</td><td style=\"text-align: right;\">1       </td></tr>\n",
       "<tr><td>training_function_5337a_00005</td><td>TERMINATED</td><td>192.168.2.133:2428</td><td style=\"text-align: right;\">-1  </td><td style=\"text-align: right;\">-0.5</td><td style=\"text-align: right;\">     1</td><td style=\"text-align: right;\">         10.0114</td><td style=\"text-align: right;\">0.790569</td></tr>\n",
       "<tr><td>training_function_5337a_00006</td><td>TERMINATED</td><td>192.168.2.133:2489</td><td style=\"text-align: right;\">-0.5</td><td style=\"text-align: right;\">-0.5</td><td style=\"text-align: right;\">     1</td><td style=\"text-align: right;\">         10.0104</td><td style=\"text-align: right;\">0.5     </td></tr>\n",
       "<tr><td>training_function_5337a_00007</td><td>TERMINATED</td><td>192.168.2.133:2551</td><td style=\"text-align: right;\"> 0  </td><td style=\"text-align: right;\">-0.5</td><td style=\"text-align: right;\">     1</td><td style=\"text-align: right;\">         10.0056</td><td style=\"text-align: right;\">0.353553</td></tr>\n",
       "<tr><td>training_function_5337a_00008</td><td>TERMINATED</td><td>192.168.2.133:2612</td><td style=\"text-align: right;\"> 0.5</td><td style=\"text-align: right;\">-0.5</td><td style=\"text-align: right;\">     1</td><td style=\"text-align: right;\">         10.0102</td><td style=\"text-align: right;\">0.5     </td></tr>\n",
       "<tr><td>training_function_5337a_00009</td><td>TERMINATED</td><td>192.168.2.133:2672</td><td style=\"text-align: right;\"> 1  </td><td style=\"text-align: right;\">-0.5</td><td style=\"text-align: right;\">     1</td><td style=\"text-align: right;\">         10.0087</td><td style=\"text-align: right;\">0.790569</td></tr>\n",
       "</tbody>\n",
       "</table><br>... 5 more trials not shown (2 PENDING, 2 TERMINATED)<br><br>"
      ],
      "text/plain": [
       "<IPython.core.display.HTML object>"
      ]
     },
     "metadata": {},
     "output_type": "display_data"
    },
    {
     "data": {
      "text/html": [
       "== Status ==<br>Current time: 2022-04-30 11:27:27 (running for 00:03:02.44)<br>Memory usage on this node: 1.7/1.9 GiB<br>Using FIFO scheduling algorithm.<br>Resources requested: 1.0/1 CPUs, 0/0 GPUs, 0.0/0.37 GiB heap, 0.0/0.18 GiB objects<br>Result logdir: /home/ubuntu/ray_results/training_function_2022-04-30_11-24-24<br>Number of trials: 25/25 (12 PENDING, 1 RUNNING, 12 TERMINATED)<br><table>\n",
       "<thead>\n",
       "<tr><th>Trial name                   </th><th>status    </th><th>loc               </th><th style=\"text-align: right;\">   x</th><th style=\"text-align: right;\">   y</th><th style=\"text-align: right;\">  iter</th><th style=\"text-align: right;\">  total time (s)</th><th style=\"text-align: right;\">   score</th></tr>\n",
       "</thead>\n",
       "<tbody>\n",
       "<tr><td>training_function_5337a_00012</td><td>RUNNING   </td><td>192.168.2.133:2868</td><td style=\"text-align: right;\"> 0  </td><td style=\"text-align: right;\"> 0  </td><td style=\"text-align: right;\">      </td><td style=\"text-align: right;\">                </td><td style=\"text-align: right;\">        </td></tr>\n",
       "<tr><td>training_function_5337a_00013</td><td>PENDING   </td><td>                  </td><td style=\"text-align: right;\"> 0.5</td><td style=\"text-align: right;\"> 0  </td><td style=\"text-align: right;\">      </td><td style=\"text-align: right;\">                </td><td style=\"text-align: right;\">        </td></tr>\n",
       "<tr><td>training_function_5337a_00014</td><td>PENDING   </td><td>                  </td><td style=\"text-align: right;\"> 1  </td><td style=\"text-align: right;\"> 0  </td><td style=\"text-align: right;\">      </td><td style=\"text-align: right;\">                </td><td style=\"text-align: right;\">        </td></tr>\n",
       "<tr><td>training_function_5337a_00015</td><td>PENDING   </td><td>                  </td><td style=\"text-align: right;\">-1  </td><td style=\"text-align: right;\"> 0.5</td><td style=\"text-align: right;\">      </td><td style=\"text-align: right;\">                </td><td style=\"text-align: right;\">        </td></tr>\n",
       "<tr><td>training_function_5337a_00016</td><td>PENDING   </td><td>                  </td><td style=\"text-align: right;\">-0.5</td><td style=\"text-align: right;\"> 0.5</td><td style=\"text-align: right;\">      </td><td style=\"text-align: right;\">                </td><td style=\"text-align: right;\">        </td></tr>\n",
       "<tr><td>training_function_5337a_00017</td><td>PENDING   </td><td>                  </td><td style=\"text-align: right;\"> 0  </td><td style=\"text-align: right;\"> 0.5</td><td style=\"text-align: right;\">      </td><td style=\"text-align: right;\">                </td><td style=\"text-align: right;\">        </td></tr>\n",
       "<tr><td>training_function_5337a_00018</td><td>PENDING   </td><td>                  </td><td style=\"text-align: right;\"> 0.5</td><td style=\"text-align: right;\"> 0.5</td><td style=\"text-align: right;\">      </td><td style=\"text-align: right;\">                </td><td style=\"text-align: right;\">        </td></tr>\n",
       "<tr><td>training_function_5337a_00019</td><td>PENDING   </td><td>                  </td><td style=\"text-align: right;\"> 1  </td><td style=\"text-align: right;\"> 0.5</td><td style=\"text-align: right;\">      </td><td style=\"text-align: right;\">                </td><td style=\"text-align: right;\">        </td></tr>\n",
       "<tr><td>training_function_5337a_00020</td><td>PENDING   </td><td>                  </td><td style=\"text-align: right;\">-1  </td><td style=\"text-align: right;\"> 1  </td><td style=\"text-align: right;\">      </td><td style=\"text-align: right;\">                </td><td style=\"text-align: right;\">        </td></tr>\n",
       "<tr><td>training_function_5337a_00021</td><td>PENDING   </td><td>                  </td><td style=\"text-align: right;\">-0.5</td><td style=\"text-align: right;\"> 1  </td><td style=\"text-align: right;\">      </td><td style=\"text-align: right;\">                </td><td style=\"text-align: right;\">        </td></tr>\n",
       "<tr><td>training_function_5337a_00022</td><td>PENDING   </td><td>                  </td><td style=\"text-align: right;\"> 0  </td><td style=\"text-align: right;\"> 1  </td><td style=\"text-align: right;\">      </td><td style=\"text-align: right;\">                </td><td style=\"text-align: right;\">        </td></tr>\n",
       "<tr><td>training_function_5337a_00000</td><td>TERMINATED</td><td>192.168.2.133:2124</td><td style=\"text-align: right;\">-1  </td><td style=\"text-align: right;\">-1  </td><td style=\"text-align: right;\">     1</td><td style=\"text-align: right;\">         10.0198</td><td style=\"text-align: right;\">1       </td></tr>\n",
       "<tr><td>training_function_5337a_00001</td><td>TERMINATED</td><td>192.168.2.133:2185</td><td style=\"text-align: right;\">-0.5</td><td style=\"text-align: right;\">-1  </td><td style=\"text-align: right;\">     1</td><td style=\"text-align: right;\">         10.0095</td><td style=\"text-align: right;\">0.790569</td></tr>\n",
       "<tr><td>training_function_5337a_00002</td><td>TERMINATED</td><td>192.168.2.133:2247</td><td style=\"text-align: right;\"> 0  </td><td style=\"text-align: right;\">-1  </td><td style=\"text-align: right;\">     1</td><td style=\"text-align: right;\">         10.0104</td><td style=\"text-align: right;\">0.707107</td></tr>\n",
       "<tr><td>training_function_5337a_00003</td><td>TERMINATED</td><td>192.168.2.133:2308</td><td style=\"text-align: right;\"> 0.5</td><td style=\"text-align: right;\">-1  </td><td style=\"text-align: right;\">     1</td><td style=\"text-align: right;\">         10.0092</td><td style=\"text-align: right;\">0.790569</td></tr>\n",
       "<tr><td>training_function_5337a_00004</td><td>TERMINATED</td><td>192.168.2.133:2369</td><td style=\"text-align: right;\"> 1  </td><td style=\"text-align: right;\">-1  </td><td style=\"text-align: right;\">     1</td><td style=\"text-align: right;\">         10.0141</td><td style=\"text-align: right;\">1       </td></tr>\n",
       "<tr><td>training_function_5337a_00005</td><td>TERMINATED</td><td>192.168.2.133:2428</td><td style=\"text-align: right;\">-1  </td><td style=\"text-align: right;\">-0.5</td><td style=\"text-align: right;\">     1</td><td style=\"text-align: right;\">         10.0114</td><td style=\"text-align: right;\">0.790569</td></tr>\n",
       "<tr><td>training_function_5337a_00006</td><td>TERMINATED</td><td>192.168.2.133:2489</td><td style=\"text-align: right;\">-0.5</td><td style=\"text-align: right;\">-0.5</td><td style=\"text-align: right;\">     1</td><td style=\"text-align: right;\">         10.0104</td><td style=\"text-align: right;\">0.5     </td></tr>\n",
       "<tr><td>training_function_5337a_00007</td><td>TERMINATED</td><td>192.168.2.133:2551</td><td style=\"text-align: right;\"> 0  </td><td style=\"text-align: right;\">-0.5</td><td style=\"text-align: right;\">     1</td><td style=\"text-align: right;\">         10.0056</td><td style=\"text-align: right;\">0.353553</td></tr>\n",
       "<tr><td>training_function_5337a_00008</td><td>TERMINATED</td><td>192.168.2.133:2612</td><td style=\"text-align: right;\"> 0.5</td><td style=\"text-align: right;\">-0.5</td><td style=\"text-align: right;\">     1</td><td style=\"text-align: right;\">         10.0102</td><td style=\"text-align: right;\">0.5     </td></tr>\n",
       "<tr><td>training_function_5337a_00009</td><td>TERMINATED</td><td>192.168.2.133:2672</td><td style=\"text-align: right;\"> 1  </td><td style=\"text-align: right;\">-0.5</td><td style=\"text-align: right;\">     1</td><td style=\"text-align: right;\">         10.0087</td><td style=\"text-align: right;\">0.790569</td></tr>\n",
       "</tbody>\n",
       "</table><br>... 5 more trials not shown (2 PENDING, 2 TERMINATED)<br><br>"
      ],
      "text/plain": [
       "<IPython.core.display.HTML object>"
      ]
     },
     "metadata": {},
     "output_type": "display_data"
    },
    {
     "name": "stdout",
     "output_type": "stream",
     "text": [
      "Result for training_function_5337a_00012:\n",
      "  date: 2022-04-30_11-27-29\n",
      "  done: false\n",
      "  experiment_id: f5e09acb39254ae8b2122f8f5cd4ca2a\n",
      "  hostname: patrick-c3-1\n",
      "  iterations_since_restore: 1\n",
      "  node_ip: 192.168.2.133\n",
      "  pid: 2868\n",
      "  score: 0.0\n",
      "  time_since_restore: 10.009209871292114\n",
      "  time_this_iter_s: 10.009209871292114\n",
      "  time_total_s: 10.009209871292114\n",
      "  timestamp: 1651310849\n",
      "  timesteps_since_restore: 0\n",
      "  training_iteration: 1\n",
      "  trial_id: 5337a_00012\n",
      "  warmup_time: 0.0059413909912109375\n",
      "  \n",
      "Result for training_function_5337a_00012:\n",
      "  date: 2022-04-30_11-27-29\n",
      "  done: true\n",
      "  experiment_id: f5e09acb39254ae8b2122f8f5cd4ca2a\n",
      "  experiment_tag: 12_x=0,y=0\n",
      "  hostname: patrick-c3-1\n",
      "  iterations_since_restore: 1\n",
      "  node_ip: 192.168.2.133\n",
      "  pid: 2868\n",
      "  score: 0.0\n",
      "  time_since_restore: 10.009209871292114\n",
      "  time_this_iter_s: 10.009209871292114\n",
      "  time_total_s: 10.009209871292114\n",
      "  timestamp: 1651310849\n",
      "  timesteps_since_restore: 0\n",
      "  training_iteration: 1\n",
      "  trial_id: 5337a_00012\n",
      "  warmup_time: 0.0059413909912109375\n",
      "  \n"
     ]
    },
    {
     "name": "stderr",
     "output_type": "stream",
     "text": [
      "2022-04-30 11:27:31,051\tINFO trial_runner.py:803 -- starting training_function_5337a_00013\n"
     ]
    },
    {
     "data": {
      "text/html": [
       "== Status ==<br>Current time: 2022-04-30 11:27:36 (running for 00:03:11.48)<br>Memory usage on this node: 1.7/1.9 GiB<br>Using FIFO scheduling algorithm.<br>Resources requested: 1.0/1 CPUs, 0/0 GPUs, 0.0/0.37 GiB heap, 0.0/0.18 GiB objects<br>Result logdir: /home/ubuntu/ray_results/training_function_2022-04-30_11-24-24<br>Number of trials: 25/25 (11 PENDING, 1 RUNNING, 13 TERMINATED)<br><table>\n",
       "<thead>\n",
       "<tr><th>Trial name                   </th><th>status    </th><th>loc               </th><th style=\"text-align: right;\">   x</th><th style=\"text-align: right;\">   y</th><th style=\"text-align: right;\">  iter</th><th style=\"text-align: right;\">  total time (s)</th><th style=\"text-align: right;\">   score</th></tr>\n",
       "</thead>\n",
       "<tbody>\n",
       "<tr><td>training_function_5337a_00013</td><td>RUNNING   </td><td>192.168.2.133:2930</td><td style=\"text-align: right;\"> 0.5</td><td style=\"text-align: right;\"> 0  </td><td style=\"text-align: right;\">      </td><td style=\"text-align: right;\">                </td><td style=\"text-align: right;\">        </td></tr>\n",
       "<tr><td>training_function_5337a_00014</td><td>PENDING   </td><td>                  </td><td style=\"text-align: right;\"> 1  </td><td style=\"text-align: right;\"> 0  </td><td style=\"text-align: right;\">      </td><td style=\"text-align: right;\">                </td><td style=\"text-align: right;\">        </td></tr>\n",
       "<tr><td>training_function_5337a_00015</td><td>PENDING   </td><td>                  </td><td style=\"text-align: right;\">-1  </td><td style=\"text-align: right;\"> 0.5</td><td style=\"text-align: right;\">      </td><td style=\"text-align: right;\">                </td><td style=\"text-align: right;\">        </td></tr>\n",
       "<tr><td>training_function_5337a_00016</td><td>PENDING   </td><td>                  </td><td style=\"text-align: right;\">-0.5</td><td style=\"text-align: right;\"> 0.5</td><td style=\"text-align: right;\">      </td><td style=\"text-align: right;\">                </td><td style=\"text-align: right;\">        </td></tr>\n",
       "<tr><td>training_function_5337a_00017</td><td>PENDING   </td><td>                  </td><td style=\"text-align: right;\"> 0  </td><td style=\"text-align: right;\"> 0.5</td><td style=\"text-align: right;\">      </td><td style=\"text-align: right;\">                </td><td style=\"text-align: right;\">        </td></tr>\n",
       "<tr><td>training_function_5337a_00018</td><td>PENDING   </td><td>                  </td><td style=\"text-align: right;\"> 0.5</td><td style=\"text-align: right;\"> 0.5</td><td style=\"text-align: right;\">      </td><td style=\"text-align: right;\">                </td><td style=\"text-align: right;\">        </td></tr>\n",
       "<tr><td>training_function_5337a_00019</td><td>PENDING   </td><td>                  </td><td style=\"text-align: right;\"> 1  </td><td style=\"text-align: right;\"> 0.5</td><td style=\"text-align: right;\">      </td><td style=\"text-align: right;\">                </td><td style=\"text-align: right;\">        </td></tr>\n",
       "<tr><td>training_function_5337a_00020</td><td>PENDING   </td><td>                  </td><td style=\"text-align: right;\">-1  </td><td style=\"text-align: right;\"> 1  </td><td style=\"text-align: right;\">      </td><td style=\"text-align: right;\">                </td><td style=\"text-align: right;\">        </td></tr>\n",
       "<tr><td>training_function_5337a_00021</td><td>PENDING   </td><td>                  </td><td style=\"text-align: right;\">-0.5</td><td style=\"text-align: right;\"> 1  </td><td style=\"text-align: right;\">      </td><td style=\"text-align: right;\">                </td><td style=\"text-align: right;\">        </td></tr>\n",
       "<tr><td>training_function_5337a_00022</td><td>PENDING   </td><td>                  </td><td style=\"text-align: right;\"> 0  </td><td style=\"text-align: right;\"> 1  </td><td style=\"text-align: right;\">      </td><td style=\"text-align: right;\">                </td><td style=\"text-align: right;\">        </td></tr>\n",
       "<tr><td>training_function_5337a_00023</td><td>PENDING   </td><td>                  </td><td style=\"text-align: right;\"> 0.5</td><td style=\"text-align: right;\"> 1  </td><td style=\"text-align: right;\">      </td><td style=\"text-align: right;\">                </td><td style=\"text-align: right;\">        </td></tr>\n",
       "<tr><td>training_function_5337a_00000</td><td>TERMINATED</td><td>192.168.2.133:2124</td><td style=\"text-align: right;\">-1  </td><td style=\"text-align: right;\">-1  </td><td style=\"text-align: right;\">     1</td><td style=\"text-align: right;\">         10.0198</td><td style=\"text-align: right;\">1       </td></tr>\n",
       "<tr><td>training_function_5337a_00001</td><td>TERMINATED</td><td>192.168.2.133:2185</td><td style=\"text-align: right;\">-0.5</td><td style=\"text-align: right;\">-1  </td><td style=\"text-align: right;\">     1</td><td style=\"text-align: right;\">         10.0095</td><td style=\"text-align: right;\">0.790569</td></tr>\n",
       "<tr><td>training_function_5337a_00002</td><td>TERMINATED</td><td>192.168.2.133:2247</td><td style=\"text-align: right;\"> 0  </td><td style=\"text-align: right;\">-1  </td><td style=\"text-align: right;\">     1</td><td style=\"text-align: right;\">         10.0104</td><td style=\"text-align: right;\">0.707107</td></tr>\n",
       "<tr><td>training_function_5337a_00003</td><td>TERMINATED</td><td>192.168.2.133:2308</td><td style=\"text-align: right;\"> 0.5</td><td style=\"text-align: right;\">-1  </td><td style=\"text-align: right;\">     1</td><td style=\"text-align: right;\">         10.0092</td><td style=\"text-align: right;\">0.790569</td></tr>\n",
       "<tr><td>training_function_5337a_00004</td><td>TERMINATED</td><td>192.168.2.133:2369</td><td style=\"text-align: right;\"> 1  </td><td style=\"text-align: right;\">-1  </td><td style=\"text-align: right;\">     1</td><td style=\"text-align: right;\">         10.0141</td><td style=\"text-align: right;\">1       </td></tr>\n",
       "<tr><td>training_function_5337a_00005</td><td>TERMINATED</td><td>192.168.2.133:2428</td><td style=\"text-align: right;\">-1  </td><td style=\"text-align: right;\">-0.5</td><td style=\"text-align: right;\">     1</td><td style=\"text-align: right;\">         10.0114</td><td style=\"text-align: right;\">0.790569</td></tr>\n",
       "<tr><td>training_function_5337a_00006</td><td>TERMINATED</td><td>192.168.2.133:2489</td><td style=\"text-align: right;\">-0.5</td><td style=\"text-align: right;\">-0.5</td><td style=\"text-align: right;\">     1</td><td style=\"text-align: right;\">         10.0104</td><td style=\"text-align: right;\">0.5     </td></tr>\n",
       "<tr><td>training_function_5337a_00007</td><td>TERMINATED</td><td>192.168.2.133:2551</td><td style=\"text-align: right;\"> 0  </td><td style=\"text-align: right;\">-0.5</td><td style=\"text-align: right;\">     1</td><td style=\"text-align: right;\">         10.0056</td><td style=\"text-align: right;\">0.353553</td></tr>\n",
       "<tr><td>training_function_5337a_00008</td><td>TERMINATED</td><td>192.168.2.133:2612</td><td style=\"text-align: right;\"> 0.5</td><td style=\"text-align: right;\">-0.5</td><td style=\"text-align: right;\">     1</td><td style=\"text-align: right;\">         10.0102</td><td style=\"text-align: right;\">0.5     </td></tr>\n",
       "<tr><td>training_function_5337a_00009</td><td>TERMINATED</td><td>192.168.2.133:2672</td><td style=\"text-align: right;\"> 1  </td><td style=\"text-align: right;\">-0.5</td><td style=\"text-align: right;\">     1</td><td style=\"text-align: right;\">         10.0087</td><td style=\"text-align: right;\">0.790569</td></tr>\n",
       "</tbody>\n",
       "</table><br>... 5 more trials not shown (1 PENDING, 3 TERMINATED)<br><br>"
      ],
      "text/plain": [
       "<IPython.core.display.HTML object>"
      ]
     },
     "metadata": {},
     "output_type": "display_data"
    },
    {
     "data": {
      "text/html": [
       "== Status ==<br>Current time: 2022-04-30 11:27:41 (running for 00:03:16.49)<br>Memory usage on this node: 1.8/1.9 GiB: ***LOW MEMORY*** less than 10% of the memory on this node is available for use. This can cause unexpected crashes. Consider reducing the memory used by your application or reducing the Ray object store size by setting `object_store_memory` when calling `ray.init`.<br>Using FIFO scheduling algorithm.<br>Resources requested: 1.0/1 CPUs, 0/0 GPUs, 0.0/0.37 GiB heap, 0.0/0.18 GiB objects<br>Result logdir: /home/ubuntu/ray_results/training_function_2022-04-30_11-24-24<br>Number of trials: 25/25 (11 PENDING, 1 RUNNING, 13 TERMINATED)<br><table>\n",
       "<thead>\n",
       "<tr><th>Trial name                   </th><th>status    </th><th>loc               </th><th style=\"text-align: right;\">   x</th><th style=\"text-align: right;\">   y</th><th style=\"text-align: right;\">  iter</th><th style=\"text-align: right;\">  total time (s)</th><th style=\"text-align: right;\">   score</th></tr>\n",
       "</thead>\n",
       "<tbody>\n",
       "<tr><td>training_function_5337a_00013</td><td>RUNNING   </td><td>192.168.2.133:2930</td><td style=\"text-align: right;\"> 0.5</td><td style=\"text-align: right;\"> 0  </td><td style=\"text-align: right;\">      </td><td style=\"text-align: right;\">                </td><td style=\"text-align: right;\">        </td></tr>\n",
       "<tr><td>training_function_5337a_00014</td><td>PENDING   </td><td>                  </td><td style=\"text-align: right;\"> 1  </td><td style=\"text-align: right;\"> 0  </td><td style=\"text-align: right;\">      </td><td style=\"text-align: right;\">                </td><td style=\"text-align: right;\">        </td></tr>\n",
       "<tr><td>training_function_5337a_00015</td><td>PENDING   </td><td>                  </td><td style=\"text-align: right;\">-1  </td><td style=\"text-align: right;\"> 0.5</td><td style=\"text-align: right;\">      </td><td style=\"text-align: right;\">                </td><td style=\"text-align: right;\">        </td></tr>\n",
       "<tr><td>training_function_5337a_00016</td><td>PENDING   </td><td>                  </td><td style=\"text-align: right;\">-0.5</td><td style=\"text-align: right;\"> 0.5</td><td style=\"text-align: right;\">      </td><td style=\"text-align: right;\">                </td><td style=\"text-align: right;\">        </td></tr>\n",
       "<tr><td>training_function_5337a_00017</td><td>PENDING   </td><td>                  </td><td style=\"text-align: right;\"> 0  </td><td style=\"text-align: right;\"> 0.5</td><td style=\"text-align: right;\">      </td><td style=\"text-align: right;\">                </td><td style=\"text-align: right;\">        </td></tr>\n",
       "<tr><td>training_function_5337a_00018</td><td>PENDING   </td><td>                  </td><td style=\"text-align: right;\"> 0.5</td><td style=\"text-align: right;\"> 0.5</td><td style=\"text-align: right;\">      </td><td style=\"text-align: right;\">                </td><td style=\"text-align: right;\">        </td></tr>\n",
       "<tr><td>training_function_5337a_00019</td><td>PENDING   </td><td>                  </td><td style=\"text-align: right;\"> 1  </td><td style=\"text-align: right;\"> 0.5</td><td style=\"text-align: right;\">      </td><td style=\"text-align: right;\">                </td><td style=\"text-align: right;\">        </td></tr>\n",
       "<tr><td>training_function_5337a_00020</td><td>PENDING   </td><td>                  </td><td style=\"text-align: right;\">-1  </td><td style=\"text-align: right;\"> 1  </td><td style=\"text-align: right;\">      </td><td style=\"text-align: right;\">                </td><td style=\"text-align: right;\">        </td></tr>\n",
       "<tr><td>training_function_5337a_00021</td><td>PENDING   </td><td>                  </td><td style=\"text-align: right;\">-0.5</td><td style=\"text-align: right;\"> 1  </td><td style=\"text-align: right;\">      </td><td style=\"text-align: right;\">                </td><td style=\"text-align: right;\">        </td></tr>\n",
       "<tr><td>training_function_5337a_00022</td><td>PENDING   </td><td>                  </td><td style=\"text-align: right;\"> 0  </td><td style=\"text-align: right;\"> 1  </td><td style=\"text-align: right;\">      </td><td style=\"text-align: right;\">                </td><td style=\"text-align: right;\">        </td></tr>\n",
       "<tr><td>training_function_5337a_00023</td><td>PENDING   </td><td>                  </td><td style=\"text-align: right;\"> 0.5</td><td style=\"text-align: right;\"> 1  </td><td style=\"text-align: right;\">      </td><td style=\"text-align: right;\">                </td><td style=\"text-align: right;\">        </td></tr>\n",
       "<tr><td>training_function_5337a_00000</td><td>TERMINATED</td><td>192.168.2.133:2124</td><td style=\"text-align: right;\">-1  </td><td style=\"text-align: right;\">-1  </td><td style=\"text-align: right;\">     1</td><td style=\"text-align: right;\">         10.0198</td><td style=\"text-align: right;\">1       </td></tr>\n",
       "<tr><td>training_function_5337a_00001</td><td>TERMINATED</td><td>192.168.2.133:2185</td><td style=\"text-align: right;\">-0.5</td><td style=\"text-align: right;\">-1  </td><td style=\"text-align: right;\">     1</td><td style=\"text-align: right;\">         10.0095</td><td style=\"text-align: right;\">0.790569</td></tr>\n",
       "<tr><td>training_function_5337a_00002</td><td>TERMINATED</td><td>192.168.2.133:2247</td><td style=\"text-align: right;\"> 0  </td><td style=\"text-align: right;\">-1  </td><td style=\"text-align: right;\">     1</td><td style=\"text-align: right;\">         10.0104</td><td style=\"text-align: right;\">0.707107</td></tr>\n",
       "<tr><td>training_function_5337a_00003</td><td>TERMINATED</td><td>192.168.2.133:2308</td><td style=\"text-align: right;\"> 0.5</td><td style=\"text-align: right;\">-1  </td><td style=\"text-align: right;\">     1</td><td style=\"text-align: right;\">         10.0092</td><td style=\"text-align: right;\">0.790569</td></tr>\n",
       "<tr><td>training_function_5337a_00004</td><td>TERMINATED</td><td>192.168.2.133:2369</td><td style=\"text-align: right;\"> 1  </td><td style=\"text-align: right;\">-1  </td><td style=\"text-align: right;\">     1</td><td style=\"text-align: right;\">         10.0141</td><td style=\"text-align: right;\">1       </td></tr>\n",
       "<tr><td>training_function_5337a_00005</td><td>TERMINATED</td><td>192.168.2.133:2428</td><td style=\"text-align: right;\">-1  </td><td style=\"text-align: right;\">-0.5</td><td style=\"text-align: right;\">     1</td><td style=\"text-align: right;\">         10.0114</td><td style=\"text-align: right;\">0.790569</td></tr>\n",
       "<tr><td>training_function_5337a_00006</td><td>TERMINATED</td><td>192.168.2.133:2489</td><td style=\"text-align: right;\">-0.5</td><td style=\"text-align: right;\">-0.5</td><td style=\"text-align: right;\">     1</td><td style=\"text-align: right;\">         10.0104</td><td style=\"text-align: right;\">0.5     </td></tr>\n",
       "<tr><td>training_function_5337a_00007</td><td>TERMINATED</td><td>192.168.2.133:2551</td><td style=\"text-align: right;\"> 0  </td><td style=\"text-align: right;\">-0.5</td><td style=\"text-align: right;\">     1</td><td style=\"text-align: right;\">         10.0056</td><td style=\"text-align: right;\">0.353553</td></tr>\n",
       "<tr><td>training_function_5337a_00008</td><td>TERMINATED</td><td>192.168.2.133:2612</td><td style=\"text-align: right;\"> 0.5</td><td style=\"text-align: right;\">-0.5</td><td style=\"text-align: right;\">     1</td><td style=\"text-align: right;\">         10.0102</td><td style=\"text-align: right;\">0.5     </td></tr>\n",
       "<tr><td>training_function_5337a_00009</td><td>TERMINATED</td><td>192.168.2.133:2672</td><td style=\"text-align: right;\"> 1  </td><td style=\"text-align: right;\">-0.5</td><td style=\"text-align: right;\">     1</td><td style=\"text-align: right;\">         10.0087</td><td style=\"text-align: right;\">0.790569</td></tr>\n",
       "</tbody>\n",
       "</table><br>... 5 more trials not shown (1 PENDING, 3 TERMINATED)<br><br>"
      ],
      "text/plain": [
       "<IPython.core.display.HTML object>"
      ]
     },
     "metadata": {},
     "output_type": "display_data"
    },
    {
     "name": "stdout",
     "output_type": "stream",
     "text": [
      "Result for training_function_5337a_00013:\n",
      "  date: 2022-04-30_11-27-43\n",
      "  done: false\n",
      "  experiment_id: 44d20002b80f474a8a17071e75464b80\n",
      "  hostname: patrick-c3-1\n",
      "  iterations_since_restore: 1\n",
      "  node_ip: 192.168.2.133\n",
      "  pid: 2930\n",
      "  score: 0.3535533905932738\n",
      "  time_since_restore: 10.009578704833984\n",
      "  time_this_iter_s: 10.009578704833984\n",
      "  time_total_s: 10.009578704833984\n",
      "  timestamp: 1651310863\n",
      "  timesteps_since_restore: 0\n",
      "  training_iteration: 1\n",
      "  trial_id: 5337a_00013\n",
      "  warmup_time: 0.00608372688293457\n",
      "  \n",
      "Result for training_function_5337a_00013:\n",
      "  date: 2022-04-30_11-27-43\n",
      "  done: true\n",
      "  experiment_id: 44d20002b80f474a8a17071e75464b80\n",
      "  experiment_tag: 13_x=0.5,y=0\n",
      "  hostname: patrick-c3-1\n",
      "  iterations_since_restore: 1\n",
      "  node_ip: 192.168.2.133\n",
      "  pid: 2930\n",
      "  score: 0.3535533905932738\n",
      "  time_since_restore: 10.009578704833984\n",
      "  time_this_iter_s: 10.009578704833984\n",
      "  time_total_s: 10.009578704833984\n",
      "  timestamp: 1651310863\n",
      "  timesteps_since_restore: 0\n",
      "  training_iteration: 1\n",
      "  trial_id: 5337a_00013\n",
      "  warmup_time: 0.00608372688293457\n",
      "  \n"
     ]
    },
    {
     "name": "stderr",
     "output_type": "stream",
     "text": [
      "2022-04-30 11:27:45,618\tINFO trial_runner.py:803 -- starting training_function_5337a_00014\n"
     ]
    },
    {
     "data": {
      "text/html": [
       "== Status ==<br>Current time: 2022-04-30 11:27:50 (running for 00:03:26.05)<br>Memory usage on this node: 1.6/1.9 GiB<br>Using FIFO scheduling algorithm.<br>Resources requested: 1.0/1 CPUs, 0/0 GPUs, 0.0/0.37 GiB heap, 0.0/0.18 GiB objects<br>Result logdir: /home/ubuntu/ray_results/training_function_2022-04-30_11-24-24<br>Number of trials: 25/25 (10 PENDING, 1 RUNNING, 14 TERMINATED)<br><table>\n",
       "<thead>\n",
       "<tr><th>Trial name                   </th><th>status    </th><th>loc               </th><th style=\"text-align: right;\">   x</th><th style=\"text-align: right;\">   y</th><th style=\"text-align: right;\">  iter</th><th style=\"text-align: right;\">  total time (s)</th><th style=\"text-align: right;\">   score</th></tr>\n",
       "</thead>\n",
       "<tbody>\n",
       "<tr><td>training_function_5337a_00014</td><td>RUNNING   </td><td>192.168.2.133:3006</td><td style=\"text-align: right;\"> 1  </td><td style=\"text-align: right;\"> 0  </td><td style=\"text-align: right;\">      </td><td style=\"text-align: right;\">                </td><td style=\"text-align: right;\">        </td></tr>\n",
       "<tr><td>training_function_5337a_00015</td><td>PENDING   </td><td>                  </td><td style=\"text-align: right;\">-1  </td><td style=\"text-align: right;\"> 0.5</td><td style=\"text-align: right;\">      </td><td style=\"text-align: right;\">                </td><td style=\"text-align: right;\">        </td></tr>\n",
       "<tr><td>training_function_5337a_00016</td><td>PENDING   </td><td>                  </td><td style=\"text-align: right;\">-0.5</td><td style=\"text-align: right;\"> 0.5</td><td style=\"text-align: right;\">      </td><td style=\"text-align: right;\">                </td><td style=\"text-align: right;\">        </td></tr>\n",
       "<tr><td>training_function_5337a_00017</td><td>PENDING   </td><td>                  </td><td style=\"text-align: right;\"> 0  </td><td style=\"text-align: right;\"> 0.5</td><td style=\"text-align: right;\">      </td><td style=\"text-align: right;\">                </td><td style=\"text-align: right;\">        </td></tr>\n",
       "<tr><td>training_function_5337a_00018</td><td>PENDING   </td><td>                  </td><td style=\"text-align: right;\"> 0.5</td><td style=\"text-align: right;\"> 0.5</td><td style=\"text-align: right;\">      </td><td style=\"text-align: right;\">                </td><td style=\"text-align: right;\">        </td></tr>\n",
       "<tr><td>training_function_5337a_00019</td><td>PENDING   </td><td>                  </td><td style=\"text-align: right;\"> 1  </td><td style=\"text-align: right;\"> 0.5</td><td style=\"text-align: right;\">      </td><td style=\"text-align: right;\">                </td><td style=\"text-align: right;\">        </td></tr>\n",
       "<tr><td>training_function_5337a_00020</td><td>PENDING   </td><td>                  </td><td style=\"text-align: right;\">-1  </td><td style=\"text-align: right;\"> 1  </td><td style=\"text-align: right;\">      </td><td style=\"text-align: right;\">                </td><td style=\"text-align: right;\">        </td></tr>\n",
       "<tr><td>training_function_5337a_00021</td><td>PENDING   </td><td>                  </td><td style=\"text-align: right;\">-0.5</td><td style=\"text-align: right;\"> 1  </td><td style=\"text-align: right;\">      </td><td style=\"text-align: right;\">                </td><td style=\"text-align: right;\">        </td></tr>\n",
       "<tr><td>training_function_5337a_00022</td><td>PENDING   </td><td>                  </td><td style=\"text-align: right;\"> 0  </td><td style=\"text-align: right;\"> 1  </td><td style=\"text-align: right;\">      </td><td style=\"text-align: right;\">                </td><td style=\"text-align: right;\">        </td></tr>\n",
       "<tr><td>training_function_5337a_00023</td><td>PENDING   </td><td>                  </td><td style=\"text-align: right;\"> 0.5</td><td style=\"text-align: right;\"> 1  </td><td style=\"text-align: right;\">      </td><td style=\"text-align: right;\">                </td><td style=\"text-align: right;\">        </td></tr>\n",
       "<tr><td>training_function_5337a_00024</td><td>PENDING   </td><td>                  </td><td style=\"text-align: right;\"> 1  </td><td style=\"text-align: right;\"> 1  </td><td style=\"text-align: right;\">      </td><td style=\"text-align: right;\">                </td><td style=\"text-align: right;\">        </td></tr>\n",
       "<tr><td>training_function_5337a_00000</td><td>TERMINATED</td><td>192.168.2.133:2124</td><td style=\"text-align: right;\">-1  </td><td style=\"text-align: right;\">-1  </td><td style=\"text-align: right;\">     1</td><td style=\"text-align: right;\">         10.0198</td><td style=\"text-align: right;\">1       </td></tr>\n",
       "<tr><td>training_function_5337a_00001</td><td>TERMINATED</td><td>192.168.2.133:2185</td><td style=\"text-align: right;\">-0.5</td><td style=\"text-align: right;\">-1  </td><td style=\"text-align: right;\">     1</td><td style=\"text-align: right;\">         10.0095</td><td style=\"text-align: right;\">0.790569</td></tr>\n",
       "<tr><td>training_function_5337a_00002</td><td>TERMINATED</td><td>192.168.2.133:2247</td><td style=\"text-align: right;\"> 0  </td><td style=\"text-align: right;\">-1  </td><td style=\"text-align: right;\">     1</td><td style=\"text-align: right;\">         10.0104</td><td style=\"text-align: right;\">0.707107</td></tr>\n",
       "<tr><td>training_function_5337a_00003</td><td>TERMINATED</td><td>192.168.2.133:2308</td><td style=\"text-align: right;\"> 0.5</td><td style=\"text-align: right;\">-1  </td><td style=\"text-align: right;\">     1</td><td style=\"text-align: right;\">         10.0092</td><td style=\"text-align: right;\">0.790569</td></tr>\n",
       "<tr><td>training_function_5337a_00004</td><td>TERMINATED</td><td>192.168.2.133:2369</td><td style=\"text-align: right;\"> 1  </td><td style=\"text-align: right;\">-1  </td><td style=\"text-align: right;\">     1</td><td style=\"text-align: right;\">         10.0141</td><td style=\"text-align: right;\">1       </td></tr>\n",
       "<tr><td>training_function_5337a_00005</td><td>TERMINATED</td><td>192.168.2.133:2428</td><td style=\"text-align: right;\">-1  </td><td style=\"text-align: right;\">-0.5</td><td style=\"text-align: right;\">     1</td><td style=\"text-align: right;\">         10.0114</td><td style=\"text-align: right;\">0.790569</td></tr>\n",
       "<tr><td>training_function_5337a_00006</td><td>TERMINATED</td><td>192.168.2.133:2489</td><td style=\"text-align: right;\">-0.5</td><td style=\"text-align: right;\">-0.5</td><td style=\"text-align: right;\">     1</td><td style=\"text-align: right;\">         10.0104</td><td style=\"text-align: right;\">0.5     </td></tr>\n",
       "<tr><td>training_function_5337a_00007</td><td>TERMINATED</td><td>192.168.2.133:2551</td><td style=\"text-align: right;\"> 0  </td><td style=\"text-align: right;\">-0.5</td><td style=\"text-align: right;\">     1</td><td style=\"text-align: right;\">         10.0056</td><td style=\"text-align: right;\">0.353553</td></tr>\n",
       "<tr><td>training_function_5337a_00008</td><td>TERMINATED</td><td>192.168.2.133:2612</td><td style=\"text-align: right;\"> 0.5</td><td style=\"text-align: right;\">-0.5</td><td style=\"text-align: right;\">     1</td><td style=\"text-align: right;\">         10.0102</td><td style=\"text-align: right;\">0.5     </td></tr>\n",
       "<tr><td>training_function_5337a_00009</td><td>TERMINATED</td><td>192.168.2.133:2672</td><td style=\"text-align: right;\"> 1  </td><td style=\"text-align: right;\">-0.5</td><td style=\"text-align: right;\">     1</td><td style=\"text-align: right;\">         10.0087</td><td style=\"text-align: right;\">0.790569</td></tr>\n",
       "</tbody>\n",
       "</table><br>... 5 more trials not shown (4 TERMINATED)<br><br>"
      ],
      "text/plain": [
       "<IPython.core.display.HTML object>"
      ]
     },
     "metadata": {},
     "output_type": "display_data"
    },
    {
     "data": {
      "text/html": [
       "== Status ==<br>Current time: 2022-04-30 11:27:55 (running for 00:03:31.07)<br>Memory usage on this node: 1.6/1.9 GiB<br>Using FIFO scheduling algorithm.<br>Resources requested: 1.0/1 CPUs, 0/0 GPUs, 0.0/0.37 GiB heap, 0.0/0.18 GiB objects<br>Result logdir: /home/ubuntu/ray_results/training_function_2022-04-30_11-24-24<br>Number of trials: 25/25 (10 PENDING, 1 RUNNING, 14 TERMINATED)<br><table>\n",
       "<thead>\n",
       "<tr><th>Trial name                   </th><th>status    </th><th>loc               </th><th style=\"text-align: right;\">   x</th><th style=\"text-align: right;\">   y</th><th style=\"text-align: right;\">  iter</th><th style=\"text-align: right;\">  total time (s)</th><th style=\"text-align: right;\">   score</th></tr>\n",
       "</thead>\n",
       "<tbody>\n",
       "<tr><td>training_function_5337a_00014</td><td>RUNNING   </td><td>192.168.2.133:3006</td><td style=\"text-align: right;\"> 1  </td><td style=\"text-align: right;\"> 0  </td><td style=\"text-align: right;\">      </td><td style=\"text-align: right;\">                </td><td style=\"text-align: right;\">        </td></tr>\n",
       "<tr><td>training_function_5337a_00015</td><td>PENDING   </td><td>                  </td><td style=\"text-align: right;\">-1  </td><td style=\"text-align: right;\"> 0.5</td><td style=\"text-align: right;\">      </td><td style=\"text-align: right;\">                </td><td style=\"text-align: right;\">        </td></tr>\n",
       "<tr><td>training_function_5337a_00016</td><td>PENDING   </td><td>                  </td><td style=\"text-align: right;\">-0.5</td><td style=\"text-align: right;\"> 0.5</td><td style=\"text-align: right;\">      </td><td style=\"text-align: right;\">                </td><td style=\"text-align: right;\">        </td></tr>\n",
       "<tr><td>training_function_5337a_00017</td><td>PENDING   </td><td>                  </td><td style=\"text-align: right;\"> 0  </td><td style=\"text-align: right;\"> 0.5</td><td style=\"text-align: right;\">      </td><td style=\"text-align: right;\">                </td><td style=\"text-align: right;\">        </td></tr>\n",
       "<tr><td>training_function_5337a_00018</td><td>PENDING   </td><td>                  </td><td style=\"text-align: right;\"> 0.5</td><td style=\"text-align: right;\"> 0.5</td><td style=\"text-align: right;\">      </td><td style=\"text-align: right;\">                </td><td style=\"text-align: right;\">        </td></tr>\n",
       "<tr><td>training_function_5337a_00019</td><td>PENDING   </td><td>                  </td><td style=\"text-align: right;\"> 1  </td><td style=\"text-align: right;\"> 0.5</td><td style=\"text-align: right;\">      </td><td style=\"text-align: right;\">                </td><td style=\"text-align: right;\">        </td></tr>\n",
       "<tr><td>training_function_5337a_00020</td><td>PENDING   </td><td>                  </td><td style=\"text-align: right;\">-1  </td><td style=\"text-align: right;\"> 1  </td><td style=\"text-align: right;\">      </td><td style=\"text-align: right;\">                </td><td style=\"text-align: right;\">        </td></tr>\n",
       "<tr><td>training_function_5337a_00021</td><td>PENDING   </td><td>                  </td><td style=\"text-align: right;\">-0.5</td><td style=\"text-align: right;\"> 1  </td><td style=\"text-align: right;\">      </td><td style=\"text-align: right;\">                </td><td style=\"text-align: right;\">        </td></tr>\n",
       "<tr><td>training_function_5337a_00022</td><td>PENDING   </td><td>                  </td><td style=\"text-align: right;\"> 0  </td><td style=\"text-align: right;\"> 1  </td><td style=\"text-align: right;\">      </td><td style=\"text-align: right;\">                </td><td style=\"text-align: right;\">        </td></tr>\n",
       "<tr><td>training_function_5337a_00023</td><td>PENDING   </td><td>                  </td><td style=\"text-align: right;\"> 0.5</td><td style=\"text-align: right;\"> 1  </td><td style=\"text-align: right;\">      </td><td style=\"text-align: right;\">                </td><td style=\"text-align: right;\">        </td></tr>\n",
       "<tr><td>training_function_5337a_00024</td><td>PENDING   </td><td>                  </td><td style=\"text-align: right;\"> 1  </td><td style=\"text-align: right;\"> 1  </td><td style=\"text-align: right;\">      </td><td style=\"text-align: right;\">                </td><td style=\"text-align: right;\">        </td></tr>\n",
       "<tr><td>training_function_5337a_00000</td><td>TERMINATED</td><td>192.168.2.133:2124</td><td style=\"text-align: right;\">-1  </td><td style=\"text-align: right;\">-1  </td><td style=\"text-align: right;\">     1</td><td style=\"text-align: right;\">         10.0198</td><td style=\"text-align: right;\">1       </td></tr>\n",
       "<tr><td>training_function_5337a_00001</td><td>TERMINATED</td><td>192.168.2.133:2185</td><td style=\"text-align: right;\">-0.5</td><td style=\"text-align: right;\">-1  </td><td style=\"text-align: right;\">     1</td><td style=\"text-align: right;\">         10.0095</td><td style=\"text-align: right;\">0.790569</td></tr>\n",
       "<tr><td>training_function_5337a_00002</td><td>TERMINATED</td><td>192.168.2.133:2247</td><td style=\"text-align: right;\"> 0  </td><td style=\"text-align: right;\">-1  </td><td style=\"text-align: right;\">     1</td><td style=\"text-align: right;\">         10.0104</td><td style=\"text-align: right;\">0.707107</td></tr>\n",
       "<tr><td>training_function_5337a_00003</td><td>TERMINATED</td><td>192.168.2.133:2308</td><td style=\"text-align: right;\"> 0.5</td><td style=\"text-align: right;\">-1  </td><td style=\"text-align: right;\">     1</td><td style=\"text-align: right;\">         10.0092</td><td style=\"text-align: right;\">0.790569</td></tr>\n",
       "<tr><td>training_function_5337a_00004</td><td>TERMINATED</td><td>192.168.2.133:2369</td><td style=\"text-align: right;\"> 1  </td><td style=\"text-align: right;\">-1  </td><td style=\"text-align: right;\">     1</td><td style=\"text-align: right;\">         10.0141</td><td style=\"text-align: right;\">1       </td></tr>\n",
       "<tr><td>training_function_5337a_00005</td><td>TERMINATED</td><td>192.168.2.133:2428</td><td style=\"text-align: right;\">-1  </td><td style=\"text-align: right;\">-0.5</td><td style=\"text-align: right;\">     1</td><td style=\"text-align: right;\">         10.0114</td><td style=\"text-align: right;\">0.790569</td></tr>\n",
       "<tr><td>training_function_5337a_00006</td><td>TERMINATED</td><td>192.168.2.133:2489</td><td style=\"text-align: right;\">-0.5</td><td style=\"text-align: right;\">-0.5</td><td style=\"text-align: right;\">     1</td><td style=\"text-align: right;\">         10.0104</td><td style=\"text-align: right;\">0.5     </td></tr>\n",
       "<tr><td>training_function_5337a_00007</td><td>TERMINATED</td><td>192.168.2.133:2551</td><td style=\"text-align: right;\"> 0  </td><td style=\"text-align: right;\">-0.5</td><td style=\"text-align: right;\">     1</td><td style=\"text-align: right;\">         10.0056</td><td style=\"text-align: right;\">0.353553</td></tr>\n",
       "<tr><td>training_function_5337a_00008</td><td>TERMINATED</td><td>192.168.2.133:2612</td><td style=\"text-align: right;\"> 0.5</td><td style=\"text-align: right;\">-0.5</td><td style=\"text-align: right;\">     1</td><td style=\"text-align: right;\">         10.0102</td><td style=\"text-align: right;\">0.5     </td></tr>\n",
       "<tr><td>training_function_5337a_00009</td><td>TERMINATED</td><td>192.168.2.133:2672</td><td style=\"text-align: right;\"> 1  </td><td style=\"text-align: right;\">-0.5</td><td style=\"text-align: right;\">     1</td><td style=\"text-align: right;\">         10.0087</td><td style=\"text-align: right;\">0.790569</td></tr>\n",
       "</tbody>\n",
       "</table><br>... 5 more trials not shown (4 TERMINATED)<br><br>"
      ],
      "text/plain": [
       "<IPython.core.display.HTML object>"
      ]
     },
     "metadata": {},
     "output_type": "display_data"
    },
    {
     "name": "stdout",
     "output_type": "stream",
     "text": [
      "Result for training_function_5337a_00014:\n",
      "  date: 2022-04-30_11-27-59\n",
      "  done: false\n",
      "  experiment_id: f9a64026ca744c92a3a893893aa161f0\n",
      "  hostname: patrick-c3-1\n",
      "  iterations_since_restore: 1\n",
      "  node_ip: 192.168.2.133\n",
      "  pid: 3006\n",
      "  score: 0.7071067811865476\n",
      "  time_since_restore: 10.009232521057129\n",
      "  time_this_iter_s: 10.009232521057129\n",
      "  time_total_s: 10.009232521057129\n",
      "  timestamp: 1651310879\n",
      "  timesteps_since_restore: 0\n",
      "  training_iteration: 1\n",
      "  trial_id: 5337a_00014\n",
      "  warmup_time: 0.005662202835083008\n",
      "  \n",
      "Result for training_function_5337a_00014:\n",
      "  date: 2022-04-30_11-27-59\n",
      "  done: true\n",
      "  experiment_id: f9a64026ca744c92a3a893893aa161f0\n",
      "  experiment_tag: 14_x=1,y=0\n",
      "  hostname: patrick-c3-1\n",
      "  iterations_since_restore: 1\n",
      "  node_ip: 192.168.2.133\n",
      "  pid: 3006\n",
      "  score: 0.7071067811865476\n",
      "  time_since_restore: 10.009232521057129\n",
      "  time_this_iter_s: 10.009232521057129\n",
      "  time_total_s: 10.009232521057129\n",
      "  timestamp: 1651310879\n",
      "  timesteps_since_restore: 0\n",
      "  training_iteration: 1\n",
      "  trial_id: 5337a_00014\n",
      "  warmup_time: 0.005662202835083008\n",
      "  \n"
     ]
    },
    {
     "name": "stderr",
     "output_type": "stream",
     "text": [
      "2022-04-30 11:28:00,993\tINFO trial_runner.py:803 -- starting training_function_5337a_00015\n"
     ]
    },
    {
     "data": {
      "text/html": [
       "== Status ==<br>Current time: 2022-04-30 11:28:03 (running for 00:03:38.58)<br>Memory usage on this node: 1.6/1.9 GiB<br>Using FIFO scheduling algorithm.<br>Resources requested: 1.0/1 CPUs, 0/0 GPUs, 0.0/0.37 GiB heap, 0.0/0.18 GiB objects<br>Result logdir: /home/ubuntu/ray_results/training_function_2022-04-30_11-24-24<br>Number of trials: 25/25 (9 PENDING, 1 RUNNING, 15 TERMINATED)<br><table>\n",
       "<thead>\n",
       "<tr><th>Trial name                   </th><th>status    </th><th>loc               </th><th style=\"text-align: right;\">   x</th><th style=\"text-align: right;\">   y</th><th style=\"text-align: right;\">  iter</th><th style=\"text-align: right;\">  total time (s)</th><th style=\"text-align: right;\">   score</th></tr>\n",
       "</thead>\n",
       "<tbody>\n",
       "<tr><td>training_function_5337a_00015</td><td>RUNNING   </td><td>192.168.2.133:3068</td><td style=\"text-align: right;\">-1  </td><td style=\"text-align: right;\"> 0.5</td><td style=\"text-align: right;\">      </td><td style=\"text-align: right;\">                </td><td style=\"text-align: right;\">        </td></tr>\n",
       "<tr><td>training_function_5337a_00016</td><td>PENDING   </td><td>                  </td><td style=\"text-align: right;\">-0.5</td><td style=\"text-align: right;\"> 0.5</td><td style=\"text-align: right;\">      </td><td style=\"text-align: right;\">                </td><td style=\"text-align: right;\">        </td></tr>\n",
       "<tr><td>training_function_5337a_00017</td><td>PENDING   </td><td>                  </td><td style=\"text-align: right;\"> 0  </td><td style=\"text-align: right;\"> 0.5</td><td style=\"text-align: right;\">      </td><td style=\"text-align: right;\">                </td><td style=\"text-align: right;\">        </td></tr>\n",
       "<tr><td>training_function_5337a_00018</td><td>PENDING   </td><td>                  </td><td style=\"text-align: right;\"> 0.5</td><td style=\"text-align: right;\"> 0.5</td><td style=\"text-align: right;\">      </td><td style=\"text-align: right;\">                </td><td style=\"text-align: right;\">        </td></tr>\n",
       "<tr><td>training_function_5337a_00019</td><td>PENDING   </td><td>                  </td><td style=\"text-align: right;\"> 1  </td><td style=\"text-align: right;\"> 0.5</td><td style=\"text-align: right;\">      </td><td style=\"text-align: right;\">                </td><td style=\"text-align: right;\">        </td></tr>\n",
       "<tr><td>training_function_5337a_00020</td><td>PENDING   </td><td>                  </td><td style=\"text-align: right;\">-1  </td><td style=\"text-align: right;\"> 1  </td><td style=\"text-align: right;\">      </td><td style=\"text-align: right;\">                </td><td style=\"text-align: right;\">        </td></tr>\n",
       "<tr><td>training_function_5337a_00021</td><td>PENDING   </td><td>                  </td><td style=\"text-align: right;\">-0.5</td><td style=\"text-align: right;\"> 1  </td><td style=\"text-align: right;\">      </td><td style=\"text-align: right;\">                </td><td style=\"text-align: right;\">        </td></tr>\n",
       "<tr><td>training_function_5337a_00022</td><td>PENDING   </td><td>                  </td><td style=\"text-align: right;\"> 0  </td><td style=\"text-align: right;\"> 1  </td><td style=\"text-align: right;\">      </td><td style=\"text-align: right;\">                </td><td style=\"text-align: right;\">        </td></tr>\n",
       "<tr><td>training_function_5337a_00023</td><td>PENDING   </td><td>                  </td><td style=\"text-align: right;\"> 0.5</td><td style=\"text-align: right;\"> 1  </td><td style=\"text-align: right;\">      </td><td style=\"text-align: right;\">                </td><td style=\"text-align: right;\">        </td></tr>\n",
       "<tr><td>training_function_5337a_00024</td><td>PENDING   </td><td>                  </td><td style=\"text-align: right;\"> 1  </td><td style=\"text-align: right;\"> 1  </td><td style=\"text-align: right;\">      </td><td style=\"text-align: right;\">                </td><td style=\"text-align: right;\">        </td></tr>\n",
       "<tr><td>training_function_5337a_00000</td><td>TERMINATED</td><td>192.168.2.133:2124</td><td style=\"text-align: right;\">-1  </td><td style=\"text-align: right;\">-1  </td><td style=\"text-align: right;\">     1</td><td style=\"text-align: right;\">         10.0198</td><td style=\"text-align: right;\">1       </td></tr>\n",
       "<tr><td>training_function_5337a_00001</td><td>TERMINATED</td><td>192.168.2.133:2185</td><td style=\"text-align: right;\">-0.5</td><td style=\"text-align: right;\">-1  </td><td style=\"text-align: right;\">     1</td><td style=\"text-align: right;\">         10.0095</td><td style=\"text-align: right;\">0.790569</td></tr>\n",
       "<tr><td>training_function_5337a_00002</td><td>TERMINATED</td><td>192.168.2.133:2247</td><td style=\"text-align: right;\"> 0  </td><td style=\"text-align: right;\">-1  </td><td style=\"text-align: right;\">     1</td><td style=\"text-align: right;\">         10.0104</td><td style=\"text-align: right;\">0.707107</td></tr>\n",
       "<tr><td>training_function_5337a_00003</td><td>TERMINATED</td><td>192.168.2.133:2308</td><td style=\"text-align: right;\"> 0.5</td><td style=\"text-align: right;\">-1  </td><td style=\"text-align: right;\">     1</td><td style=\"text-align: right;\">         10.0092</td><td style=\"text-align: right;\">0.790569</td></tr>\n",
       "<tr><td>training_function_5337a_00004</td><td>TERMINATED</td><td>192.168.2.133:2369</td><td style=\"text-align: right;\"> 1  </td><td style=\"text-align: right;\">-1  </td><td style=\"text-align: right;\">     1</td><td style=\"text-align: right;\">         10.0141</td><td style=\"text-align: right;\">1       </td></tr>\n",
       "<tr><td>training_function_5337a_00005</td><td>TERMINATED</td><td>192.168.2.133:2428</td><td style=\"text-align: right;\">-1  </td><td style=\"text-align: right;\">-0.5</td><td style=\"text-align: right;\">     1</td><td style=\"text-align: right;\">         10.0114</td><td style=\"text-align: right;\">0.790569</td></tr>\n",
       "<tr><td>training_function_5337a_00006</td><td>TERMINATED</td><td>192.168.2.133:2489</td><td style=\"text-align: right;\">-0.5</td><td style=\"text-align: right;\">-0.5</td><td style=\"text-align: right;\">     1</td><td style=\"text-align: right;\">         10.0104</td><td style=\"text-align: right;\">0.5     </td></tr>\n",
       "<tr><td>training_function_5337a_00007</td><td>TERMINATED</td><td>192.168.2.133:2551</td><td style=\"text-align: right;\"> 0  </td><td style=\"text-align: right;\">-0.5</td><td style=\"text-align: right;\">     1</td><td style=\"text-align: right;\">         10.0056</td><td style=\"text-align: right;\">0.353553</td></tr>\n",
       "<tr><td>training_function_5337a_00008</td><td>TERMINATED</td><td>192.168.2.133:2612</td><td style=\"text-align: right;\"> 0.5</td><td style=\"text-align: right;\">-0.5</td><td style=\"text-align: right;\">     1</td><td style=\"text-align: right;\">         10.0102</td><td style=\"text-align: right;\">0.5     </td></tr>\n",
       "<tr><td>training_function_5337a_00009</td><td>TERMINATED</td><td>192.168.2.133:2672</td><td style=\"text-align: right;\"> 1  </td><td style=\"text-align: right;\">-0.5</td><td style=\"text-align: right;\">     1</td><td style=\"text-align: right;\">         10.0087</td><td style=\"text-align: right;\">0.790569</td></tr>\n",
       "</tbody>\n",
       "</table><br>... 5 more trials not shown (5 TERMINATED)<br><br>"
      ],
      "text/plain": [
       "<IPython.core.display.HTML object>"
      ]
     },
     "metadata": {},
     "output_type": "display_data"
    },
    {
     "data": {
      "text/html": [
       "== Status ==<br>Current time: 2022-04-30 11:28:08 (running for 00:03:43.60)<br>Memory usage on this node: 1.6/1.9 GiB<br>Using FIFO scheduling algorithm.<br>Resources requested: 1.0/1 CPUs, 0/0 GPUs, 0.0/0.37 GiB heap, 0.0/0.18 GiB objects<br>Result logdir: /home/ubuntu/ray_results/training_function_2022-04-30_11-24-24<br>Number of trials: 25/25 (9 PENDING, 1 RUNNING, 15 TERMINATED)<br><table>\n",
       "<thead>\n",
       "<tr><th>Trial name                   </th><th>status    </th><th>loc               </th><th style=\"text-align: right;\">   x</th><th style=\"text-align: right;\">   y</th><th style=\"text-align: right;\">  iter</th><th style=\"text-align: right;\">  total time (s)</th><th style=\"text-align: right;\">   score</th></tr>\n",
       "</thead>\n",
       "<tbody>\n",
       "<tr><td>training_function_5337a_00015</td><td>RUNNING   </td><td>192.168.2.133:3068</td><td style=\"text-align: right;\">-1  </td><td style=\"text-align: right;\"> 0.5</td><td style=\"text-align: right;\">      </td><td style=\"text-align: right;\">                </td><td style=\"text-align: right;\">        </td></tr>\n",
       "<tr><td>training_function_5337a_00016</td><td>PENDING   </td><td>                  </td><td style=\"text-align: right;\">-0.5</td><td style=\"text-align: right;\"> 0.5</td><td style=\"text-align: right;\">      </td><td style=\"text-align: right;\">                </td><td style=\"text-align: right;\">        </td></tr>\n",
       "<tr><td>training_function_5337a_00017</td><td>PENDING   </td><td>                  </td><td style=\"text-align: right;\"> 0  </td><td style=\"text-align: right;\"> 0.5</td><td style=\"text-align: right;\">      </td><td style=\"text-align: right;\">                </td><td style=\"text-align: right;\">        </td></tr>\n",
       "<tr><td>training_function_5337a_00018</td><td>PENDING   </td><td>                  </td><td style=\"text-align: right;\"> 0.5</td><td style=\"text-align: right;\"> 0.5</td><td style=\"text-align: right;\">      </td><td style=\"text-align: right;\">                </td><td style=\"text-align: right;\">        </td></tr>\n",
       "<tr><td>training_function_5337a_00019</td><td>PENDING   </td><td>                  </td><td style=\"text-align: right;\"> 1  </td><td style=\"text-align: right;\"> 0.5</td><td style=\"text-align: right;\">      </td><td style=\"text-align: right;\">                </td><td style=\"text-align: right;\">        </td></tr>\n",
       "<tr><td>training_function_5337a_00020</td><td>PENDING   </td><td>                  </td><td style=\"text-align: right;\">-1  </td><td style=\"text-align: right;\"> 1  </td><td style=\"text-align: right;\">      </td><td style=\"text-align: right;\">                </td><td style=\"text-align: right;\">        </td></tr>\n",
       "<tr><td>training_function_5337a_00021</td><td>PENDING   </td><td>                  </td><td style=\"text-align: right;\">-0.5</td><td style=\"text-align: right;\"> 1  </td><td style=\"text-align: right;\">      </td><td style=\"text-align: right;\">                </td><td style=\"text-align: right;\">        </td></tr>\n",
       "<tr><td>training_function_5337a_00022</td><td>PENDING   </td><td>                  </td><td style=\"text-align: right;\"> 0  </td><td style=\"text-align: right;\"> 1  </td><td style=\"text-align: right;\">      </td><td style=\"text-align: right;\">                </td><td style=\"text-align: right;\">        </td></tr>\n",
       "<tr><td>training_function_5337a_00023</td><td>PENDING   </td><td>                  </td><td style=\"text-align: right;\"> 0.5</td><td style=\"text-align: right;\"> 1  </td><td style=\"text-align: right;\">      </td><td style=\"text-align: right;\">                </td><td style=\"text-align: right;\">        </td></tr>\n",
       "<tr><td>training_function_5337a_00024</td><td>PENDING   </td><td>                  </td><td style=\"text-align: right;\"> 1  </td><td style=\"text-align: right;\"> 1  </td><td style=\"text-align: right;\">      </td><td style=\"text-align: right;\">                </td><td style=\"text-align: right;\">        </td></tr>\n",
       "<tr><td>training_function_5337a_00000</td><td>TERMINATED</td><td>192.168.2.133:2124</td><td style=\"text-align: right;\">-1  </td><td style=\"text-align: right;\">-1  </td><td style=\"text-align: right;\">     1</td><td style=\"text-align: right;\">         10.0198</td><td style=\"text-align: right;\">1       </td></tr>\n",
       "<tr><td>training_function_5337a_00001</td><td>TERMINATED</td><td>192.168.2.133:2185</td><td style=\"text-align: right;\">-0.5</td><td style=\"text-align: right;\">-1  </td><td style=\"text-align: right;\">     1</td><td style=\"text-align: right;\">         10.0095</td><td style=\"text-align: right;\">0.790569</td></tr>\n",
       "<tr><td>training_function_5337a_00002</td><td>TERMINATED</td><td>192.168.2.133:2247</td><td style=\"text-align: right;\"> 0  </td><td style=\"text-align: right;\">-1  </td><td style=\"text-align: right;\">     1</td><td style=\"text-align: right;\">         10.0104</td><td style=\"text-align: right;\">0.707107</td></tr>\n",
       "<tr><td>training_function_5337a_00003</td><td>TERMINATED</td><td>192.168.2.133:2308</td><td style=\"text-align: right;\"> 0.5</td><td style=\"text-align: right;\">-1  </td><td style=\"text-align: right;\">     1</td><td style=\"text-align: right;\">         10.0092</td><td style=\"text-align: right;\">0.790569</td></tr>\n",
       "<tr><td>training_function_5337a_00004</td><td>TERMINATED</td><td>192.168.2.133:2369</td><td style=\"text-align: right;\"> 1  </td><td style=\"text-align: right;\">-1  </td><td style=\"text-align: right;\">     1</td><td style=\"text-align: right;\">         10.0141</td><td style=\"text-align: right;\">1       </td></tr>\n",
       "<tr><td>training_function_5337a_00005</td><td>TERMINATED</td><td>192.168.2.133:2428</td><td style=\"text-align: right;\">-1  </td><td style=\"text-align: right;\">-0.5</td><td style=\"text-align: right;\">     1</td><td style=\"text-align: right;\">         10.0114</td><td style=\"text-align: right;\">0.790569</td></tr>\n",
       "<tr><td>training_function_5337a_00006</td><td>TERMINATED</td><td>192.168.2.133:2489</td><td style=\"text-align: right;\">-0.5</td><td style=\"text-align: right;\">-0.5</td><td style=\"text-align: right;\">     1</td><td style=\"text-align: right;\">         10.0104</td><td style=\"text-align: right;\">0.5     </td></tr>\n",
       "<tr><td>training_function_5337a_00007</td><td>TERMINATED</td><td>192.168.2.133:2551</td><td style=\"text-align: right;\"> 0  </td><td style=\"text-align: right;\">-0.5</td><td style=\"text-align: right;\">     1</td><td style=\"text-align: right;\">         10.0056</td><td style=\"text-align: right;\">0.353553</td></tr>\n",
       "<tr><td>training_function_5337a_00008</td><td>TERMINATED</td><td>192.168.2.133:2612</td><td style=\"text-align: right;\"> 0.5</td><td style=\"text-align: right;\">-0.5</td><td style=\"text-align: right;\">     1</td><td style=\"text-align: right;\">         10.0102</td><td style=\"text-align: right;\">0.5     </td></tr>\n",
       "<tr><td>training_function_5337a_00009</td><td>TERMINATED</td><td>192.168.2.133:2672</td><td style=\"text-align: right;\"> 1  </td><td style=\"text-align: right;\">-0.5</td><td style=\"text-align: right;\">     1</td><td style=\"text-align: right;\">         10.0087</td><td style=\"text-align: right;\">0.790569</td></tr>\n",
       "</tbody>\n",
       "</table><br>... 5 more trials not shown (5 TERMINATED)<br><br>"
      ],
      "text/plain": [
       "<IPython.core.display.HTML object>"
      ]
     },
     "metadata": {},
     "output_type": "display_data"
    },
    {
     "name": "stdout",
     "output_type": "stream",
     "text": [
      "Result for training_function_5337a_00015:\n",
      "  date: 2022-04-30_11-28-13\n",
      "  done: false\n",
      "  experiment_id: 65843c0d7932488397b7355ea069c5bc\n",
      "  hostname: patrick-c3-1\n",
      "  iterations_since_restore: 1\n",
      "  node_ip: 192.168.2.133\n",
      "  pid: 3068\n",
      "  score: 0.7905694150420949\n",
      "  time_since_restore: 10.012831211090088\n",
      "  time_this_iter_s: 10.012831211090088\n",
      "  time_total_s: 10.012831211090088\n",
      "  timestamp: 1651310893\n",
      "  timesteps_since_restore: 0\n",
      "  training_iteration: 1\n",
      "  trial_id: 5337a_00015\n",
      "  warmup_time: 0.009366035461425781\n",
      "  \n"
     ]
    },
    {
     "data": {
      "text/html": [
       "== Status ==<br>Current time: 2022-04-30 11:28:13 (running for 00:03:48.62)<br>Memory usage on this node: 1.6/1.9 GiB<br>Using FIFO scheduling algorithm.<br>Resources requested: 1.0/1 CPUs, 0/0 GPUs, 0.0/0.37 GiB heap, 0.0/0.18 GiB objects<br>Result logdir: /home/ubuntu/ray_results/training_function_2022-04-30_11-24-24<br>Number of trials: 25/25 (9 PENDING, 1 RUNNING, 15 TERMINATED)<br><table>\n",
       "<thead>\n",
       "<tr><th>Trial name                   </th><th>status    </th><th>loc               </th><th style=\"text-align: right;\">   x</th><th style=\"text-align: right;\">   y</th><th style=\"text-align: right;\">  iter</th><th style=\"text-align: right;\">  total time (s)</th><th style=\"text-align: right;\">   score</th></tr>\n",
       "</thead>\n",
       "<tbody>\n",
       "<tr><td>training_function_5337a_00015</td><td>RUNNING   </td><td>192.168.2.133:3068</td><td style=\"text-align: right;\">-1  </td><td style=\"text-align: right;\"> 0.5</td><td style=\"text-align: right;\">     1</td><td style=\"text-align: right;\">         10.0128</td><td style=\"text-align: right;\">0.790569</td></tr>\n",
       "<tr><td>training_function_5337a_00016</td><td>PENDING   </td><td>                  </td><td style=\"text-align: right;\">-0.5</td><td style=\"text-align: right;\"> 0.5</td><td style=\"text-align: right;\">      </td><td style=\"text-align: right;\">                </td><td style=\"text-align: right;\">        </td></tr>\n",
       "<tr><td>training_function_5337a_00017</td><td>PENDING   </td><td>                  </td><td style=\"text-align: right;\"> 0  </td><td style=\"text-align: right;\"> 0.5</td><td style=\"text-align: right;\">      </td><td style=\"text-align: right;\">                </td><td style=\"text-align: right;\">        </td></tr>\n",
       "<tr><td>training_function_5337a_00018</td><td>PENDING   </td><td>                  </td><td style=\"text-align: right;\"> 0.5</td><td style=\"text-align: right;\"> 0.5</td><td style=\"text-align: right;\">      </td><td style=\"text-align: right;\">                </td><td style=\"text-align: right;\">        </td></tr>\n",
       "<tr><td>training_function_5337a_00019</td><td>PENDING   </td><td>                  </td><td style=\"text-align: right;\"> 1  </td><td style=\"text-align: right;\"> 0.5</td><td style=\"text-align: right;\">      </td><td style=\"text-align: right;\">                </td><td style=\"text-align: right;\">        </td></tr>\n",
       "<tr><td>training_function_5337a_00020</td><td>PENDING   </td><td>                  </td><td style=\"text-align: right;\">-1  </td><td style=\"text-align: right;\"> 1  </td><td style=\"text-align: right;\">      </td><td style=\"text-align: right;\">                </td><td style=\"text-align: right;\">        </td></tr>\n",
       "<tr><td>training_function_5337a_00021</td><td>PENDING   </td><td>                  </td><td style=\"text-align: right;\">-0.5</td><td style=\"text-align: right;\"> 1  </td><td style=\"text-align: right;\">      </td><td style=\"text-align: right;\">                </td><td style=\"text-align: right;\">        </td></tr>\n",
       "<tr><td>training_function_5337a_00022</td><td>PENDING   </td><td>                  </td><td style=\"text-align: right;\"> 0  </td><td style=\"text-align: right;\"> 1  </td><td style=\"text-align: right;\">      </td><td style=\"text-align: right;\">                </td><td style=\"text-align: right;\">        </td></tr>\n",
       "<tr><td>training_function_5337a_00023</td><td>PENDING   </td><td>                  </td><td style=\"text-align: right;\"> 0.5</td><td style=\"text-align: right;\"> 1  </td><td style=\"text-align: right;\">      </td><td style=\"text-align: right;\">                </td><td style=\"text-align: right;\">        </td></tr>\n",
       "<tr><td>training_function_5337a_00024</td><td>PENDING   </td><td>                  </td><td style=\"text-align: right;\"> 1  </td><td style=\"text-align: right;\"> 1  </td><td style=\"text-align: right;\">      </td><td style=\"text-align: right;\">                </td><td style=\"text-align: right;\">        </td></tr>\n",
       "<tr><td>training_function_5337a_00000</td><td>TERMINATED</td><td>192.168.2.133:2124</td><td style=\"text-align: right;\">-1  </td><td style=\"text-align: right;\">-1  </td><td style=\"text-align: right;\">     1</td><td style=\"text-align: right;\">         10.0198</td><td style=\"text-align: right;\">1       </td></tr>\n",
       "<tr><td>training_function_5337a_00001</td><td>TERMINATED</td><td>192.168.2.133:2185</td><td style=\"text-align: right;\">-0.5</td><td style=\"text-align: right;\">-1  </td><td style=\"text-align: right;\">     1</td><td style=\"text-align: right;\">         10.0095</td><td style=\"text-align: right;\">0.790569</td></tr>\n",
       "<tr><td>training_function_5337a_00002</td><td>TERMINATED</td><td>192.168.2.133:2247</td><td style=\"text-align: right;\"> 0  </td><td style=\"text-align: right;\">-1  </td><td style=\"text-align: right;\">     1</td><td style=\"text-align: right;\">         10.0104</td><td style=\"text-align: right;\">0.707107</td></tr>\n",
       "<tr><td>training_function_5337a_00003</td><td>TERMINATED</td><td>192.168.2.133:2308</td><td style=\"text-align: right;\"> 0.5</td><td style=\"text-align: right;\">-1  </td><td style=\"text-align: right;\">     1</td><td style=\"text-align: right;\">         10.0092</td><td style=\"text-align: right;\">0.790569</td></tr>\n",
       "<tr><td>training_function_5337a_00004</td><td>TERMINATED</td><td>192.168.2.133:2369</td><td style=\"text-align: right;\"> 1  </td><td style=\"text-align: right;\">-1  </td><td style=\"text-align: right;\">     1</td><td style=\"text-align: right;\">         10.0141</td><td style=\"text-align: right;\">1       </td></tr>\n",
       "<tr><td>training_function_5337a_00005</td><td>TERMINATED</td><td>192.168.2.133:2428</td><td style=\"text-align: right;\">-1  </td><td style=\"text-align: right;\">-0.5</td><td style=\"text-align: right;\">     1</td><td style=\"text-align: right;\">         10.0114</td><td style=\"text-align: right;\">0.790569</td></tr>\n",
       "<tr><td>training_function_5337a_00006</td><td>TERMINATED</td><td>192.168.2.133:2489</td><td style=\"text-align: right;\">-0.5</td><td style=\"text-align: right;\">-0.5</td><td style=\"text-align: right;\">     1</td><td style=\"text-align: right;\">         10.0104</td><td style=\"text-align: right;\">0.5     </td></tr>\n",
       "<tr><td>training_function_5337a_00007</td><td>TERMINATED</td><td>192.168.2.133:2551</td><td style=\"text-align: right;\"> 0  </td><td style=\"text-align: right;\">-0.5</td><td style=\"text-align: right;\">     1</td><td style=\"text-align: right;\">         10.0056</td><td style=\"text-align: right;\">0.353553</td></tr>\n",
       "<tr><td>training_function_5337a_00008</td><td>TERMINATED</td><td>192.168.2.133:2612</td><td style=\"text-align: right;\"> 0.5</td><td style=\"text-align: right;\">-0.5</td><td style=\"text-align: right;\">     1</td><td style=\"text-align: right;\">         10.0102</td><td style=\"text-align: right;\">0.5     </td></tr>\n",
       "<tr><td>training_function_5337a_00009</td><td>TERMINATED</td><td>192.168.2.133:2672</td><td style=\"text-align: right;\"> 1  </td><td style=\"text-align: right;\">-0.5</td><td style=\"text-align: right;\">     1</td><td style=\"text-align: right;\">         10.0087</td><td style=\"text-align: right;\">0.790569</td></tr>\n",
       "</tbody>\n",
       "</table><br>... 5 more trials not shown (5 TERMINATED)<br><br>"
      ],
      "text/plain": [
       "<IPython.core.display.HTML object>"
      ]
     },
     "metadata": {},
     "output_type": "display_data"
    },
    {
     "name": "stdout",
     "output_type": "stream",
     "text": [
      "Result for training_function_5337a_00015:\n",
      "  date: 2022-04-30_11-28-13\n",
      "  done: true\n",
      "  experiment_id: 65843c0d7932488397b7355ea069c5bc\n",
      "  experiment_tag: 15_x=-1,y=0.5\n",
      "  hostname: patrick-c3-1\n",
      "  iterations_since_restore: 1\n",
      "  node_ip: 192.168.2.133\n",
      "  pid: 3068\n",
      "  score: 0.7905694150420949\n",
      "  time_since_restore: 10.012831211090088\n",
      "  time_this_iter_s: 10.012831211090088\n",
      "  time_total_s: 10.012831211090088\n",
      "  timestamp: 1651310893\n",
      "  timesteps_since_restore: 0\n",
      "  training_iteration: 1\n",
      "  trial_id: 5337a_00015\n",
      "  warmup_time: 0.009366035461425781\n",
      "  \n"
     ]
    },
    {
     "name": "stderr",
     "output_type": "stream",
     "text": [
      "2022-04-30 11:28:15,033\tINFO trial_runner.py:803 -- starting training_function_5337a_00016\n"
     ]
    },
    {
     "data": {
      "text/html": [
       "== Status ==<br>Current time: 2022-04-30 11:28:20 (running for 00:03:55.46)<br>Memory usage on this node: 1.6/1.9 GiB<br>Using FIFO scheduling algorithm.<br>Resources requested: 1.0/1 CPUs, 0/0 GPUs, 0.0/0.37 GiB heap, 0.0/0.18 GiB objects<br>Result logdir: /home/ubuntu/ray_results/training_function_2022-04-30_11-24-24<br>Number of trials: 25/25 (8 PENDING, 1 RUNNING, 16 TERMINATED)<br><table>\n",
       "<thead>\n",
       "<tr><th>Trial name                   </th><th>status    </th><th>loc               </th><th style=\"text-align: right;\">   x</th><th style=\"text-align: right;\">   y</th><th style=\"text-align: right;\">  iter</th><th style=\"text-align: right;\">  total time (s)</th><th style=\"text-align: right;\">   score</th></tr>\n",
       "</thead>\n",
       "<tbody>\n",
       "<tr><td>training_function_5337a_00016</td><td>RUNNING   </td><td>192.168.2.133:3125</td><td style=\"text-align: right;\">-0.5</td><td style=\"text-align: right;\"> 0.5</td><td style=\"text-align: right;\">      </td><td style=\"text-align: right;\">                </td><td style=\"text-align: right;\">        </td></tr>\n",
       "<tr><td>training_function_5337a_00017</td><td>PENDING   </td><td>                  </td><td style=\"text-align: right;\"> 0  </td><td style=\"text-align: right;\"> 0.5</td><td style=\"text-align: right;\">      </td><td style=\"text-align: right;\">                </td><td style=\"text-align: right;\">        </td></tr>\n",
       "<tr><td>training_function_5337a_00018</td><td>PENDING   </td><td>                  </td><td style=\"text-align: right;\"> 0.5</td><td style=\"text-align: right;\"> 0.5</td><td style=\"text-align: right;\">      </td><td style=\"text-align: right;\">                </td><td style=\"text-align: right;\">        </td></tr>\n",
       "<tr><td>training_function_5337a_00019</td><td>PENDING   </td><td>                  </td><td style=\"text-align: right;\"> 1  </td><td style=\"text-align: right;\"> 0.5</td><td style=\"text-align: right;\">      </td><td style=\"text-align: right;\">                </td><td style=\"text-align: right;\">        </td></tr>\n",
       "<tr><td>training_function_5337a_00020</td><td>PENDING   </td><td>                  </td><td style=\"text-align: right;\">-1  </td><td style=\"text-align: right;\"> 1  </td><td style=\"text-align: right;\">      </td><td style=\"text-align: right;\">                </td><td style=\"text-align: right;\">        </td></tr>\n",
       "<tr><td>training_function_5337a_00021</td><td>PENDING   </td><td>                  </td><td style=\"text-align: right;\">-0.5</td><td style=\"text-align: right;\"> 1  </td><td style=\"text-align: right;\">      </td><td style=\"text-align: right;\">                </td><td style=\"text-align: right;\">        </td></tr>\n",
       "<tr><td>training_function_5337a_00022</td><td>PENDING   </td><td>                  </td><td style=\"text-align: right;\"> 0  </td><td style=\"text-align: right;\"> 1  </td><td style=\"text-align: right;\">      </td><td style=\"text-align: right;\">                </td><td style=\"text-align: right;\">        </td></tr>\n",
       "<tr><td>training_function_5337a_00023</td><td>PENDING   </td><td>                  </td><td style=\"text-align: right;\"> 0.5</td><td style=\"text-align: right;\"> 1  </td><td style=\"text-align: right;\">      </td><td style=\"text-align: right;\">                </td><td style=\"text-align: right;\">        </td></tr>\n",
       "<tr><td>training_function_5337a_00024</td><td>PENDING   </td><td>                  </td><td style=\"text-align: right;\"> 1  </td><td style=\"text-align: right;\"> 1  </td><td style=\"text-align: right;\">      </td><td style=\"text-align: right;\">                </td><td style=\"text-align: right;\">        </td></tr>\n",
       "<tr><td>training_function_5337a_00000</td><td>TERMINATED</td><td>192.168.2.133:2124</td><td style=\"text-align: right;\">-1  </td><td style=\"text-align: right;\">-1  </td><td style=\"text-align: right;\">     1</td><td style=\"text-align: right;\">         10.0198</td><td style=\"text-align: right;\">1       </td></tr>\n",
       "<tr><td>training_function_5337a_00001</td><td>TERMINATED</td><td>192.168.2.133:2185</td><td style=\"text-align: right;\">-0.5</td><td style=\"text-align: right;\">-1  </td><td style=\"text-align: right;\">     1</td><td style=\"text-align: right;\">         10.0095</td><td style=\"text-align: right;\">0.790569</td></tr>\n",
       "<tr><td>training_function_5337a_00002</td><td>TERMINATED</td><td>192.168.2.133:2247</td><td style=\"text-align: right;\"> 0  </td><td style=\"text-align: right;\">-1  </td><td style=\"text-align: right;\">     1</td><td style=\"text-align: right;\">         10.0104</td><td style=\"text-align: right;\">0.707107</td></tr>\n",
       "<tr><td>training_function_5337a_00003</td><td>TERMINATED</td><td>192.168.2.133:2308</td><td style=\"text-align: right;\"> 0.5</td><td style=\"text-align: right;\">-1  </td><td style=\"text-align: right;\">     1</td><td style=\"text-align: right;\">         10.0092</td><td style=\"text-align: right;\">0.790569</td></tr>\n",
       "<tr><td>training_function_5337a_00004</td><td>TERMINATED</td><td>192.168.2.133:2369</td><td style=\"text-align: right;\"> 1  </td><td style=\"text-align: right;\">-1  </td><td style=\"text-align: right;\">     1</td><td style=\"text-align: right;\">         10.0141</td><td style=\"text-align: right;\">1       </td></tr>\n",
       "<tr><td>training_function_5337a_00005</td><td>TERMINATED</td><td>192.168.2.133:2428</td><td style=\"text-align: right;\">-1  </td><td style=\"text-align: right;\">-0.5</td><td style=\"text-align: right;\">     1</td><td style=\"text-align: right;\">         10.0114</td><td style=\"text-align: right;\">0.790569</td></tr>\n",
       "<tr><td>training_function_5337a_00006</td><td>TERMINATED</td><td>192.168.2.133:2489</td><td style=\"text-align: right;\">-0.5</td><td style=\"text-align: right;\">-0.5</td><td style=\"text-align: right;\">     1</td><td style=\"text-align: right;\">         10.0104</td><td style=\"text-align: right;\">0.5     </td></tr>\n",
       "<tr><td>training_function_5337a_00007</td><td>TERMINATED</td><td>192.168.2.133:2551</td><td style=\"text-align: right;\"> 0  </td><td style=\"text-align: right;\">-0.5</td><td style=\"text-align: right;\">     1</td><td style=\"text-align: right;\">         10.0056</td><td style=\"text-align: right;\">0.353553</td></tr>\n",
       "<tr><td>training_function_5337a_00008</td><td>TERMINATED</td><td>192.168.2.133:2612</td><td style=\"text-align: right;\"> 0.5</td><td style=\"text-align: right;\">-0.5</td><td style=\"text-align: right;\">     1</td><td style=\"text-align: right;\">         10.0102</td><td style=\"text-align: right;\">0.5     </td></tr>\n",
       "<tr><td>training_function_5337a_00009</td><td>TERMINATED</td><td>192.168.2.133:2672</td><td style=\"text-align: right;\"> 1  </td><td style=\"text-align: right;\">-0.5</td><td style=\"text-align: right;\">     1</td><td style=\"text-align: right;\">         10.0087</td><td style=\"text-align: right;\">0.790569</td></tr>\n",
       "<tr><td>training_function_5337a_00010</td><td>TERMINATED</td><td>192.168.2.133:2744</td><td style=\"text-align: right;\">-1  </td><td style=\"text-align: right;\"> 0  </td><td style=\"text-align: right;\">     1</td><td style=\"text-align: right;\">         10.012 </td><td style=\"text-align: right;\">0.707107</td></tr>\n",
       "</tbody>\n",
       "</table><br>... 5 more trials not shown (5 TERMINATED)<br><br>"
      ],
      "text/plain": [
       "<IPython.core.display.HTML object>"
      ]
     },
     "metadata": {},
     "output_type": "display_data"
    },
    {
     "data": {
      "text/html": [
       "== Status ==<br>Current time: 2022-04-30 11:28:25 (running for 00:04:00.48)<br>Memory usage on this node: 1.6/1.9 GiB<br>Using FIFO scheduling algorithm.<br>Resources requested: 1.0/1 CPUs, 0/0 GPUs, 0.0/0.37 GiB heap, 0.0/0.18 GiB objects<br>Result logdir: /home/ubuntu/ray_results/training_function_2022-04-30_11-24-24<br>Number of trials: 25/25 (8 PENDING, 1 RUNNING, 16 TERMINATED)<br><table>\n",
       "<thead>\n",
       "<tr><th>Trial name                   </th><th>status    </th><th>loc               </th><th style=\"text-align: right;\">   x</th><th style=\"text-align: right;\">   y</th><th style=\"text-align: right;\">  iter</th><th style=\"text-align: right;\">  total time (s)</th><th style=\"text-align: right;\">   score</th></tr>\n",
       "</thead>\n",
       "<tbody>\n",
       "<tr><td>training_function_5337a_00016</td><td>RUNNING   </td><td>192.168.2.133:3125</td><td style=\"text-align: right;\">-0.5</td><td style=\"text-align: right;\"> 0.5</td><td style=\"text-align: right;\">      </td><td style=\"text-align: right;\">                </td><td style=\"text-align: right;\">        </td></tr>\n",
       "<tr><td>training_function_5337a_00017</td><td>PENDING   </td><td>                  </td><td style=\"text-align: right;\"> 0  </td><td style=\"text-align: right;\"> 0.5</td><td style=\"text-align: right;\">      </td><td style=\"text-align: right;\">                </td><td style=\"text-align: right;\">        </td></tr>\n",
       "<tr><td>training_function_5337a_00018</td><td>PENDING   </td><td>                  </td><td style=\"text-align: right;\"> 0.5</td><td style=\"text-align: right;\"> 0.5</td><td style=\"text-align: right;\">      </td><td style=\"text-align: right;\">                </td><td style=\"text-align: right;\">        </td></tr>\n",
       "<tr><td>training_function_5337a_00019</td><td>PENDING   </td><td>                  </td><td style=\"text-align: right;\"> 1  </td><td style=\"text-align: right;\"> 0.5</td><td style=\"text-align: right;\">      </td><td style=\"text-align: right;\">                </td><td style=\"text-align: right;\">        </td></tr>\n",
       "<tr><td>training_function_5337a_00020</td><td>PENDING   </td><td>                  </td><td style=\"text-align: right;\">-1  </td><td style=\"text-align: right;\"> 1  </td><td style=\"text-align: right;\">      </td><td style=\"text-align: right;\">                </td><td style=\"text-align: right;\">        </td></tr>\n",
       "<tr><td>training_function_5337a_00021</td><td>PENDING   </td><td>                  </td><td style=\"text-align: right;\">-0.5</td><td style=\"text-align: right;\"> 1  </td><td style=\"text-align: right;\">      </td><td style=\"text-align: right;\">                </td><td style=\"text-align: right;\">        </td></tr>\n",
       "<tr><td>training_function_5337a_00022</td><td>PENDING   </td><td>                  </td><td style=\"text-align: right;\"> 0  </td><td style=\"text-align: right;\"> 1  </td><td style=\"text-align: right;\">      </td><td style=\"text-align: right;\">                </td><td style=\"text-align: right;\">        </td></tr>\n",
       "<tr><td>training_function_5337a_00023</td><td>PENDING   </td><td>                  </td><td style=\"text-align: right;\"> 0.5</td><td style=\"text-align: right;\"> 1  </td><td style=\"text-align: right;\">      </td><td style=\"text-align: right;\">                </td><td style=\"text-align: right;\">        </td></tr>\n",
       "<tr><td>training_function_5337a_00024</td><td>PENDING   </td><td>                  </td><td style=\"text-align: right;\"> 1  </td><td style=\"text-align: right;\"> 1  </td><td style=\"text-align: right;\">      </td><td style=\"text-align: right;\">                </td><td style=\"text-align: right;\">        </td></tr>\n",
       "<tr><td>training_function_5337a_00000</td><td>TERMINATED</td><td>192.168.2.133:2124</td><td style=\"text-align: right;\">-1  </td><td style=\"text-align: right;\">-1  </td><td style=\"text-align: right;\">     1</td><td style=\"text-align: right;\">         10.0198</td><td style=\"text-align: right;\">1       </td></tr>\n",
       "<tr><td>training_function_5337a_00001</td><td>TERMINATED</td><td>192.168.2.133:2185</td><td style=\"text-align: right;\">-0.5</td><td style=\"text-align: right;\">-1  </td><td style=\"text-align: right;\">     1</td><td style=\"text-align: right;\">         10.0095</td><td style=\"text-align: right;\">0.790569</td></tr>\n",
       "<tr><td>training_function_5337a_00002</td><td>TERMINATED</td><td>192.168.2.133:2247</td><td style=\"text-align: right;\"> 0  </td><td style=\"text-align: right;\">-1  </td><td style=\"text-align: right;\">     1</td><td style=\"text-align: right;\">         10.0104</td><td style=\"text-align: right;\">0.707107</td></tr>\n",
       "<tr><td>training_function_5337a_00003</td><td>TERMINATED</td><td>192.168.2.133:2308</td><td style=\"text-align: right;\"> 0.5</td><td style=\"text-align: right;\">-1  </td><td style=\"text-align: right;\">     1</td><td style=\"text-align: right;\">         10.0092</td><td style=\"text-align: right;\">0.790569</td></tr>\n",
       "<tr><td>training_function_5337a_00004</td><td>TERMINATED</td><td>192.168.2.133:2369</td><td style=\"text-align: right;\"> 1  </td><td style=\"text-align: right;\">-1  </td><td style=\"text-align: right;\">     1</td><td style=\"text-align: right;\">         10.0141</td><td style=\"text-align: right;\">1       </td></tr>\n",
       "<tr><td>training_function_5337a_00005</td><td>TERMINATED</td><td>192.168.2.133:2428</td><td style=\"text-align: right;\">-1  </td><td style=\"text-align: right;\">-0.5</td><td style=\"text-align: right;\">     1</td><td style=\"text-align: right;\">         10.0114</td><td style=\"text-align: right;\">0.790569</td></tr>\n",
       "<tr><td>training_function_5337a_00006</td><td>TERMINATED</td><td>192.168.2.133:2489</td><td style=\"text-align: right;\">-0.5</td><td style=\"text-align: right;\">-0.5</td><td style=\"text-align: right;\">     1</td><td style=\"text-align: right;\">         10.0104</td><td style=\"text-align: right;\">0.5     </td></tr>\n",
       "<tr><td>training_function_5337a_00007</td><td>TERMINATED</td><td>192.168.2.133:2551</td><td style=\"text-align: right;\"> 0  </td><td style=\"text-align: right;\">-0.5</td><td style=\"text-align: right;\">     1</td><td style=\"text-align: right;\">         10.0056</td><td style=\"text-align: right;\">0.353553</td></tr>\n",
       "<tr><td>training_function_5337a_00008</td><td>TERMINATED</td><td>192.168.2.133:2612</td><td style=\"text-align: right;\"> 0.5</td><td style=\"text-align: right;\">-0.5</td><td style=\"text-align: right;\">     1</td><td style=\"text-align: right;\">         10.0102</td><td style=\"text-align: right;\">0.5     </td></tr>\n",
       "<tr><td>training_function_5337a_00009</td><td>TERMINATED</td><td>192.168.2.133:2672</td><td style=\"text-align: right;\"> 1  </td><td style=\"text-align: right;\">-0.5</td><td style=\"text-align: right;\">     1</td><td style=\"text-align: right;\">         10.0087</td><td style=\"text-align: right;\">0.790569</td></tr>\n",
       "<tr><td>training_function_5337a_00010</td><td>TERMINATED</td><td>192.168.2.133:2744</td><td style=\"text-align: right;\">-1  </td><td style=\"text-align: right;\"> 0  </td><td style=\"text-align: right;\">     1</td><td style=\"text-align: right;\">         10.012 </td><td style=\"text-align: right;\">0.707107</td></tr>\n",
       "</tbody>\n",
       "</table><br>... 5 more trials not shown (5 TERMINATED)<br><br>"
      ],
      "text/plain": [
       "<IPython.core.display.HTML object>"
      ]
     },
     "metadata": {},
     "output_type": "display_data"
    },
    {
     "name": "stdout",
     "output_type": "stream",
     "text": [
      "Result for training_function_5337a_00016:\n",
      "  date: 2022-04-30_11-28-27\n",
      "  done: false\n",
      "  experiment_id: d9b15f07efc04d45bcee64a1ea2d12c5\n",
      "  hostname: patrick-c3-1\n",
      "  iterations_since_restore: 1\n",
      "  node_ip: 192.168.2.133\n",
      "  pid: 3125\n",
      "  score: 0.5\n",
      "  time_since_restore: 10.012110471725464\n",
      "  time_this_iter_s: 10.012110471725464\n",
      "  time_total_s: 10.012110471725464\n",
      "  timestamp: 1651310907\n",
      "  timesteps_since_restore: 0\n",
      "  training_iteration: 1\n",
      "  trial_id: 5337a_00016\n",
      "  warmup_time: 0.010392189025878906\n",
      "  \n",
      "Result for training_function_5337a_00016:\n",
      "  date: 2022-04-30_11-28-27\n",
      "  done: true\n",
      "  experiment_id: d9b15f07efc04d45bcee64a1ea2d12c5\n",
      "  experiment_tag: 16_x=-0.5,y=0.5\n",
      "  hostname: patrick-c3-1\n",
      "  iterations_since_restore: 1\n",
      "  node_ip: 192.168.2.133\n",
      "  pid: 3125\n",
      "  score: 0.5\n",
      "  time_since_restore: 10.012110471725464\n",
      "  time_this_iter_s: 10.012110471725464\n",
      "  time_total_s: 10.012110471725464\n",
      "  timestamp: 1651310907\n",
      "  timesteps_since_restore: 0\n",
      "  training_iteration: 1\n",
      "  trial_id: 5337a_00016\n",
      "  warmup_time: 0.010392189025878906\n",
      "  \n"
     ]
    },
    {
     "name": "stderr",
     "output_type": "stream",
     "text": [
      "2022-04-30 11:28:28,955\tINFO trial_runner.py:803 -- starting training_function_5337a_00017\n"
     ]
    },
    {
     "data": {
      "text/html": [
       "== Status ==<br>Current time: 2022-04-30 11:28:33 (running for 00:04:09.38)<br>Memory usage on this node: 1.6/1.9 GiB<br>Using FIFO scheduling algorithm.<br>Resources requested: 1.0/1 CPUs, 0/0 GPUs, 0.0/0.37 GiB heap, 0.0/0.18 GiB objects<br>Result logdir: /home/ubuntu/ray_results/training_function_2022-04-30_11-24-24<br>Number of trials: 25/25 (7 PENDING, 1 RUNNING, 17 TERMINATED)<br><table>\n",
       "<thead>\n",
       "<tr><th>Trial name                   </th><th>status    </th><th>loc               </th><th style=\"text-align: right;\">   x</th><th style=\"text-align: right;\">   y</th><th style=\"text-align: right;\">  iter</th><th style=\"text-align: right;\">  total time (s)</th><th style=\"text-align: right;\">   score</th></tr>\n",
       "</thead>\n",
       "<tbody>\n",
       "<tr><td>training_function_5337a_00017</td><td>RUNNING   </td><td>192.168.2.133:3183</td><td style=\"text-align: right;\"> 0  </td><td style=\"text-align: right;\"> 0.5</td><td style=\"text-align: right;\">      </td><td style=\"text-align: right;\">                </td><td style=\"text-align: right;\">        </td></tr>\n",
       "<tr><td>training_function_5337a_00018</td><td>PENDING   </td><td>                  </td><td style=\"text-align: right;\"> 0.5</td><td style=\"text-align: right;\"> 0.5</td><td style=\"text-align: right;\">      </td><td style=\"text-align: right;\">                </td><td style=\"text-align: right;\">        </td></tr>\n",
       "<tr><td>training_function_5337a_00019</td><td>PENDING   </td><td>                  </td><td style=\"text-align: right;\"> 1  </td><td style=\"text-align: right;\"> 0.5</td><td style=\"text-align: right;\">      </td><td style=\"text-align: right;\">                </td><td style=\"text-align: right;\">        </td></tr>\n",
       "<tr><td>training_function_5337a_00020</td><td>PENDING   </td><td>                  </td><td style=\"text-align: right;\">-1  </td><td style=\"text-align: right;\"> 1  </td><td style=\"text-align: right;\">      </td><td style=\"text-align: right;\">                </td><td style=\"text-align: right;\">        </td></tr>\n",
       "<tr><td>training_function_5337a_00021</td><td>PENDING   </td><td>                  </td><td style=\"text-align: right;\">-0.5</td><td style=\"text-align: right;\"> 1  </td><td style=\"text-align: right;\">      </td><td style=\"text-align: right;\">                </td><td style=\"text-align: right;\">        </td></tr>\n",
       "<tr><td>training_function_5337a_00022</td><td>PENDING   </td><td>                  </td><td style=\"text-align: right;\"> 0  </td><td style=\"text-align: right;\"> 1  </td><td style=\"text-align: right;\">      </td><td style=\"text-align: right;\">                </td><td style=\"text-align: right;\">        </td></tr>\n",
       "<tr><td>training_function_5337a_00023</td><td>PENDING   </td><td>                  </td><td style=\"text-align: right;\"> 0.5</td><td style=\"text-align: right;\"> 1  </td><td style=\"text-align: right;\">      </td><td style=\"text-align: right;\">                </td><td style=\"text-align: right;\">        </td></tr>\n",
       "<tr><td>training_function_5337a_00024</td><td>PENDING   </td><td>                  </td><td style=\"text-align: right;\"> 1  </td><td style=\"text-align: right;\"> 1  </td><td style=\"text-align: right;\">      </td><td style=\"text-align: right;\">                </td><td style=\"text-align: right;\">        </td></tr>\n",
       "<tr><td>training_function_5337a_00000</td><td>TERMINATED</td><td>192.168.2.133:2124</td><td style=\"text-align: right;\">-1  </td><td style=\"text-align: right;\">-1  </td><td style=\"text-align: right;\">     1</td><td style=\"text-align: right;\">         10.0198</td><td style=\"text-align: right;\">1       </td></tr>\n",
       "<tr><td>training_function_5337a_00001</td><td>TERMINATED</td><td>192.168.2.133:2185</td><td style=\"text-align: right;\">-0.5</td><td style=\"text-align: right;\">-1  </td><td style=\"text-align: right;\">     1</td><td style=\"text-align: right;\">         10.0095</td><td style=\"text-align: right;\">0.790569</td></tr>\n",
       "<tr><td>training_function_5337a_00002</td><td>TERMINATED</td><td>192.168.2.133:2247</td><td style=\"text-align: right;\"> 0  </td><td style=\"text-align: right;\">-1  </td><td style=\"text-align: right;\">     1</td><td style=\"text-align: right;\">         10.0104</td><td style=\"text-align: right;\">0.707107</td></tr>\n",
       "<tr><td>training_function_5337a_00003</td><td>TERMINATED</td><td>192.168.2.133:2308</td><td style=\"text-align: right;\"> 0.5</td><td style=\"text-align: right;\">-1  </td><td style=\"text-align: right;\">     1</td><td style=\"text-align: right;\">         10.0092</td><td style=\"text-align: right;\">0.790569</td></tr>\n",
       "<tr><td>training_function_5337a_00004</td><td>TERMINATED</td><td>192.168.2.133:2369</td><td style=\"text-align: right;\"> 1  </td><td style=\"text-align: right;\">-1  </td><td style=\"text-align: right;\">     1</td><td style=\"text-align: right;\">         10.0141</td><td style=\"text-align: right;\">1       </td></tr>\n",
       "<tr><td>training_function_5337a_00005</td><td>TERMINATED</td><td>192.168.2.133:2428</td><td style=\"text-align: right;\">-1  </td><td style=\"text-align: right;\">-0.5</td><td style=\"text-align: right;\">     1</td><td style=\"text-align: right;\">         10.0114</td><td style=\"text-align: right;\">0.790569</td></tr>\n",
       "<tr><td>training_function_5337a_00006</td><td>TERMINATED</td><td>192.168.2.133:2489</td><td style=\"text-align: right;\">-0.5</td><td style=\"text-align: right;\">-0.5</td><td style=\"text-align: right;\">     1</td><td style=\"text-align: right;\">         10.0104</td><td style=\"text-align: right;\">0.5     </td></tr>\n",
       "<tr><td>training_function_5337a_00007</td><td>TERMINATED</td><td>192.168.2.133:2551</td><td style=\"text-align: right;\"> 0  </td><td style=\"text-align: right;\">-0.5</td><td style=\"text-align: right;\">     1</td><td style=\"text-align: right;\">         10.0056</td><td style=\"text-align: right;\">0.353553</td></tr>\n",
       "<tr><td>training_function_5337a_00008</td><td>TERMINATED</td><td>192.168.2.133:2612</td><td style=\"text-align: right;\"> 0.5</td><td style=\"text-align: right;\">-0.5</td><td style=\"text-align: right;\">     1</td><td style=\"text-align: right;\">         10.0102</td><td style=\"text-align: right;\">0.5     </td></tr>\n",
       "<tr><td>training_function_5337a_00009</td><td>TERMINATED</td><td>192.168.2.133:2672</td><td style=\"text-align: right;\"> 1  </td><td style=\"text-align: right;\">-0.5</td><td style=\"text-align: right;\">     1</td><td style=\"text-align: right;\">         10.0087</td><td style=\"text-align: right;\">0.790569</td></tr>\n",
       "<tr><td>training_function_5337a_00010</td><td>TERMINATED</td><td>192.168.2.133:2744</td><td style=\"text-align: right;\">-1  </td><td style=\"text-align: right;\"> 0  </td><td style=\"text-align: right;\">     1</td><td style=\"text-align: right;\">         10.012 </td><td style=\"text-align: right;\">0.707107</td></tr>\n",
       "<tr><td>training_function_5337a_00011</td><td>TERMINATED</td><td>192.168.2.133:2807</td><td style=\"text-align: right;\">-0.5</td><td style=\"text-align: right;\"> 0  </td><td style=\"text-align: right;\">     1</td><td style=\"text-align: right;\">         10.0101</td><td style=\"text-align: right;\">0.353553</td></tr>\n",
       "</tbody>\n",
       "</table><br>... 5 more trials not shown (5 TERMINATED)<br><br>"
      ],
      "text/plain": [
       "<IPython.core.display.HTML object>"
      ]
     },
     "metadata": {},
     "output_type": "display_data"
    },
    {
     "data": {
      "text/html": [
       "== Status ==<br>Current time: 2022-04-30 11:28:39 (running for 00:04:14.41)<br>Memory usage on this node: 1.6/1.9 GiB<br>Using FIFO scheduling algorithm.<br>Resources requested: 1.0/1 CPUs, 0/0 GPUs, 0.0/0.37 GiB heap, 0.0/0.18 GiB objects<br>Result logdir: /home/ubuntu/ray_results/training_function_2022-04-30_11-24-24<br>Number of trials: 25/25 (7 PENDING, 1 RUNNING, 17 TERMINATED)<br><table>\n",
       "<thead>\n",
       "<tr><th>Trial name                   </th><th>status    </th><th>loc               </th><th style=\"text-align: right;\">   x</th><th style=\"text-align: right;\">   y</th><th style=\"text-align: right;\">  iter</th><th style=\"text-align: right;\">  total time (s)</th><th style=\"text-align: right;\">   score</th></tr>\n",
       "</thead>\n",
       "<tbody>\n",
       "<tr><td>training_function_5337a_00017</td><td>RUNNING   </td><td>192.168.2.133:3183</td><td style=\"text-align: right;\"> 0  </td><td style=\"text-align: right;\"> 0.5</td><td style=\"text-align: right;\">      </td><td style=\"text-align: right;\">                </td><td style=\"text-align: right;\">        </td></tr>\n",
       "<tr><td>training_function_5337a_00018</td><td>PENDING   </td><td>                  </td><td style=\"text-align: right;\"> 0.5</td><td style=\"text-align: right;\"> 0.5</td><td style=\"text-align: right;\">      </td><td style=\"text-align: right;\">                </td><td style=\"text-align: right;\">        </td></tr>\n",
       "<tr><td>training_function_5337a_00019</td><td>PENDING   </td><td>                  </td><td style=\"text-align: right;\"> 1  </td><td style=\"text-align: right;\"> 0.5</td><td style=\"text-align: right;\">      </td><td style=\"text-align: right;\">                </td><td style=\"text-align: right;\">        </td></tr>\n",
       "<tr><td>training_function_5337a_00020</td><td>PENDING   </td><td>                  </td><td style=\"text-align: right;\">-1  </td><td style=\"text-align: right;\"> 1  </td><td style=\"text-align: right;\">      </td><td style=\"text-align: right;\">                </td><td style=\"text-align: right;\">        </td></tr>\n",
       "<tr><td>training_function_5337a_00021</td><td>PENDING   </td><td>                  </td><td style=\"text-align: right;\">-0.5</td><td style=\"text-align: right;\"> 1  </td><td style=\"text-align: right;\">      </td><td style=\"text-align: right;\">                </td><td style=\"text-align: right;\">        </td></tr>\n",
       "<tr><td>training_function_5337a_00022</td><td>PENDING   </td><td>                  </td><td style=\"text-align: right;\"> 0  </td><td style=\"text-align: right;\"> 1  </td><td style=\"text-align: right;\">      </td><td style=\"text-align: right;\">                </td><td style=\"text-align: right;\">        </td></tr>\n",
       "<tr><td>training_function_5337a_00023</td><td>PENDING   </td><td>                  </td><td style=\"text-align: right;\"> 0.5</td><td style=\"text-align: right;\"> 1  </td><td style=\"text-align: right;\">      </td><td style=\"text-align: right;\">                </td><td style=\"text-align: right;\">        </td></tr>\n",
       "<tr><td>training_function_5337a_00024</td><td>PENDING   </td><td>                  </td><td style=\"text-align: right;\"> 1  </td><td style=\"text-align: right;\"> 1  </td><td style=\"text-align: right;\">      </td><td style=\"text-align: right;\">                </td><td style=\"text-align: right;\">        </td></tr>\n",
       "<tr><td>training_function_5337a_00000</td><td>TERMINATED</td><td>192.168.2.133:2124</td><td style=\"text-align: right;\">-1  </td><td style=\"text-align: right;\">-1  </td><td style=\"text-align: right;\">     1</td><td style=\"text-align: right;\">         10.0198</td><td style=\"text-align: right;\">1       </td></tr>\n",
       "<tr><td>training_function_5337a_00001</td><td>TERMINATED</td><td>192.168.2.133:2185</td><td style=\"text-align: right;\">-0.5</td><td style=\"text-align: right;\">-1  </td><td style=\"text-align: right;\">     1</td><td style=\"text-align: right;\">         10.0095</td><td style=\"text-align: right;\">0.790569</td></tr>\n",
       "<tr><td>training_function_5337a_00002</td><td>TERMINATED</td><td>192.168.2.133:2247</td><td style=\"text-align: right;\"> 0  </td><td style=\"text-align: right;\">-1  </td><td style=\"text-align: right;\">     1</td><td style=\"text-align: right;\">         10.0104</td><td style=\"text-align: right;\">0.707107</td></tr>\n",
       "<tr><td>training_function_5337a_00003</td><td>TERMINATED</td><td>192.168.2.133:2308</td><td style=\"text-align: right;\"> 0.5</td><td style=\"text-align: right;\">-1  </td><td style=\"text-align: right;\">     1</td><td style=\"text-align: right;\">         10.0092</td><td style=\"text-align: right;\">0.790569</td></tr>\n",
       "<tr><td>training_function_5337a_00004</td><td>TERMINATED</td><td>192.168.2.133:2369</td><td style=\"text-align: right;\"> 1  </td><td style=\"text-align: right;\">-1  </td><td style=\"text-align: right;\">     1</td><td style=\"text-align: right;\">         10.0141</td><td style=\"text-align: right;\">1       </td></tr>\n",
       "<tr><td>training_function_5337a_00005</td><td>TERMINATED</td><td>192.168.2.133:2428</td><td style=\"text-align: right;\">-1  </td><td style=\"text-align: right;\">-0.5</td><td style=\"text-align: right;\">     1</td><td style=\"text-align: right;\">         10.0114</td><td style=\"text-align: right;\">0.790569</td></tr>\n",
       "<tr><td>training_function_5337a_00006</td><td>TERMINATED</td><td>192.168.2.133:2489</td><td style=\"text-align: right;\">-0.5</td><td style=\"text-align: right;\">-0.5</td><td style=\"text-align: right;\">     1</td><td style=\"text-align: right;\">         10.0104</td><td style=\"text-align: right;\">0.5     </td></tr>\n",
       "<tr><td>training_function_5337a_00007</td><td>TERMINATED</td><td>192.168.2.133:2551</td><td style=\"text-align: right;\"> 0  </td><td style=\"text-align: right;\">-0.5</td><td style=\"text-align: right;\">     1</td><td style=\"text-align: right;\">         10.0056</td><td style=\"text-align: right;\">0.353553</td></tr>\n",
       "<tr><td>training_function_5337a_00008</td><td>TERMINATED</td><td>192.168.2.133:2612</td><td style=\"text-align: right;\"> 0.5</td><td style=\"text-align: right;\">-0.5</td><td style=\"text-align: right;\">     1</td><td style=\"text-align: right;\">         10.0102</td><td style=\"text-align: right;\">0.5     </td></tr>\n",
       "<tr><td>training_function_5337a_00009</td><td>TERMINATED</td><td>192.168.2.133:2672</td><td style=\"text-align: right;\"> 1  </td><td style=\"text-align: right;\">-0.5</td><td style=\"text-align: right;\">     1</td><td style=\"text-align: right;\">         10.0087</td><td style=\"text-align: right;\">0.790569</td></tr>\n",
       "<tr><td>training_function_5337a_00010</td><td>TERMINATED</td><td>192.168.2.133:2744</td><td style=\"text-align: right;\">-1  </td><td style=\"text-align: right;\"> 0  </td><td style=\"text-align: right;\">     1</td><td style=\"text-align: right;\">         10.012 </td><td style=\"text-align: right;\">0.707107</td></tr>\n",
       "<tr><td>training_function_5337a_00011</td><td>TERMINATED</td><td>192.168.2.133:2807</td><td style=\"text-align: right;\">-0.5</td><td style=\"text-align: right;\"> 0  </td><td style=\"text-align: right;\">     1</td><td style=\"text-align: right;\">         10.0101</td><td style=\"text-align: right;\">0.353553</td></tr>\n",
       "</tbody>\n",
       "</table><br>... 5 more trials not shown (5 TERMINATED)<br><br>"
      ],
      "text/plain": [
       "<IPython.core.display.HTML object>"
      ]
     },
     "metadata": {},
     "output_type": "display_data"
    },
    {
     "name": "stdout",
     "output_type": "stream",
     "text": [
      "Result for training_function_5337a_00017:\n",
      "  date: 2022-04-30_11-28-41\n",
      "  done: false\n",
      "  experiment_id: d1dcd46f49b74558b6367411ffded36a\n",
      "  hostname: patrick-c3-1\n",
      "  iterations_since_restore: 1\n",
      "  node_ip: 192.168.2.133\n",
      "  pid: 3183\n",
      "  score: 0.3535533905932738\n",
      "  time_since_restore: 10.009427785873413\n",
      "  time_this_iter_s: 10.009427785873413\n",
      "  time_total_s: 10.009427785873413\n",
      "  timestamp: 1651310921\n",
      "  timesteps_since_restore: 0\n",
      "  training_iteration: 1\n",
      "  trial_id: 5337a_00017\n",
      "  warmup_time: 0.005772829055786133\n",
      "  \n",
      "Result for training_function_5337a_00017:\n",
      "  date: 2022-04-30_11-28-41\n",
      "  done: true\n",
      "  experiment_id: d1dcd46f49b74558b6367411ffded36a\n",
      "  experiment_tag: 17_x=0,y=0.5\n",
      "  hostname: patrick-c3-1\n",
      "  iterations_since_restore: 1\n",
      "  node_ip: 192.168.2.133\n",
      "  pid: 3183\n",
      "  score: 0.3535533905932738\n",
      "  time_since_restore: 10.009427785873413\n",
      "  time_this_iter_s: 10.009427785873413\n",
      "  time_total_s: 10.009427785873413\n",
      "  timestamp: 1651310921\n",
      "  timesteps_since_restore: 0\n",
      "  training_iteration: 1\n",
      "  trial_id: 5337a_00017\n",
      "  warmup_time: 0.005772829055786133\n",
      "  \n"
     ]
    },
    {
     "name": "stderr",
     "output_type": "stream",
     "text": [
      "2022-04-30 11:28:42,004\tINFO trial_runner.py:803 -- starting training_function_5337a_00018\n"
     ]
    },
    {
     "data": {
      "text/html": [
       "== Status ==<br>Current time: 2022-04-30 11:28:47 (running for 00:04:22.42)<br>Memory usage on this node: 1.6/1.9 GiB<br>Using FIFO scheduling algorithm.<br>Resources requested: 1.0/1 CPUs, 0/0 GPUs, 0.0/0.37 GiB heap, 0.0/0.18 GiB objects<br>Result logdir: /home/ubuntu/ray_results/training_function_2022-04-30_11-24-24<br>Number of trials: 25/25 (6 PENDING, 1 RUNNING, 18 TERMINATED)<br><table>\n",
       "<thead>\n",
       "<tr><th>Trial name                   </th><th>status    </th><th>loc               </th><th style=\"text-align: right;\">   x</th><th style=\"text-align: right;\">   y</th><th style=\"text-align: right;\">  iter</th><th style=\"text-align: right;\">  total time (s)</th><th style=\"text-align: right;\">   score</th></tr>\n",
       "</thead>\n",
       "<tbody>\n",
       "<tr><td>training_function_5337a_00018</td><td>RUNNING   </td><td>192.168.2.133:3241</td><td style=\"text-align: right;\"> 0.5</td><td style=\"text-align: right;\"> 0.5</td><td style=\"text-align: right;\">      </td><td style=\"text-align: right;\">                </td><td style=\"text-align: right;\">        </td></tr>\n",
       "<tr><td>training_function_5337a_00019</td><td>PENDING   </td><td>                  </td><td style=\"text-align: right;\"> 1  </td><td style=\"text-align: right;\"> 0.5</td><td style=\"text-align: right;\">      </td><td style=\"text-align: right;\">                </td><td style=\"text-align: right;\">        </td></tr>\n",
       "<tr><td>training_function_5337a_00020</td><td>PENDING   </td><td>                  </td><td style=\"text-align: right;\">-1  </td><td style=\"text-align: right;\"> 1  </td><td style=\"text-align: right;\">      </td><td style=\"text-align: right;\">                </td><td style=\"text-align: right;\">        </td></tr>\n",
       "<tr><td>training_function_5337a_00021</td><td>PENDING   </td><td>                  </td><td style=\"text-align: right;\">-0.5</td><td style=\"text-align: right;\"> 1  </td><td style=\"text-align: right;\">      </td><td style=\"text-align: right;\">                </td><td style=\"text-align: right;\">        </td></tr>\n",
       "<tr><td>training_function_5337a_00022</td><td>PENDING   </td><td>                  </td><td style=\"text-align: right;\"> 0  </td><td style=\"text-align: right;\"> 1  </td><td style=\"text-align: right;\">      </td><td style=\"text-align: right;\">                </td><td style=\"text-align: right;\">        </td></tr>\n",
       "<tr><td>training_function_5337a_00023</td><td>PENDING   </td><td>                  </td><td style=\"text-align: right;\"> 0.5</td><td style=\"text-align: right;\"> 1  </td><td style=\"text-align: right;\">      </td><td style=\"text-align: right;\">                </td><td style=\"text-align: right;\">        </td></tr>\n",
       "<tr><td>training_function_5337a_00024</td><td>PENDING   </td><td>                  </td><td style=\"text-align: right;\"> 1  </td><td style=\"text-align: right;\"> 1  </td><td style=\"text-align: right;\">      </td><td style=\"text-align: right;\">                </td><td style=\"text-align: right;\">        </td></tr>\n",
       "<tr><td>training_function_5337a_00000</td><td>TERMINATED</td><td>192.168.2.133:2124</td><td style=\"text-align: right;\">-1  </td><td style=\"text-align: right;\">-1  </td><td style=\"text-align: right;\">     1</td><td style=\"text-align: right;\">         10.0198</td><td style=\"text-align: right;\">1       </td></tr>\n",
       "<tr><td>training_function_5337a_00001</td><td>TERMINATED</td><td>192.168.2.133:2185</td><td style=\"text-align: right;\">-0.5</td><td style=\"text-align: right;\">-1  </td><td style=\"text-align: right;\">     1</td><td style=\"text-align: right;\">         10.0095</td><td style=\"text-align: right;\">0.790569</td></tr>\n",
       "<tr><td>training_function_5337a_00002</td><td>TERMINATED</td><td>192.168.2.133:2247</td><td style=\"text-align: right;\"> 0  </td><td style=\"text-align: right;\">-1  </td><td style=\"text-align: right;\">     1</td><td style=\"text-align: right;\">         10.0104</td><td style=\"text-align: right;\">0.707107</td></tr>\n",
       "<tr><td>training_function_5337a_00003</td><td>TERMINATED</td><td>192.168.2.133:2308</td><td style=\"text-align: right;\"> 0.5</td><td style=\"text-align: right;\">-1  </td><td style=\"text-align: right;\">     1</td><td style=\"text-align: right;\">         10.0092</td><td style=\"text-align: right;\">0.790569</td></tr>\n",
       "<tr><td>training_function_5337a_00004</td><td>TERMINATED</td><td>192.168.2.133:2369</td><td style=\"text-align: right;\"> 1  </td><td style=\"text-align: right;\">-1  </td><td style=\"text-align: right;\">     1</td><td style=\"text-align: right;\">         10.0141</td><td style=\"text-align: right;\">1       </td></tr>\n",
       "<tr><td>training_function_5337a_00005</td><td>TERMINATED</td><td>192.168.2.133:2428</td><td style=\"text-align: right;\">-1  </td><td style=\"text-align: right;\">-0.5</td><td style=\"text-align: right;\">     1</td><td style=\"text-align: right;\">         10.0114</td><td style=\"text-align: right;\">0.790569</td></tr>\n",
       "<tr><td>training_function_5337a_00006</td><td>TERMINATED</td><td>192.168.2.133:2489</td><td style=\"text-align: right;\">-0.5</td><td style=\"text-align: right;\">-0.5</td><td style=\"text-align: right;\">     1</td><td style=\"text-align: right;\">         10.0104</td><td style=\"text-align: right;\">0.5     </td></tr>\n",
       "<tr><td>training_function_5337a_00007</td><td>TERMINATED</td><td>192.168.2.133:2551</td><td style=\"text-align: right;\"> 0  </td><td style=\"text-align: right;\">-0.5</td><td style=\"text-align: right;\">     1</td><td style=\"text-align: right;\">         10.0056</td><td style=\"text-align: right;\">0.353553</td></tr>\n",
       "<tr><td>training_function_5337a_00008</td><td>TERMINATED</td><td>192.168.2.133:2612</td><td style=\"text-align: right;\"> 0.5</td><td style=\"text-align: right;\">-0.5</td><td style=\"text-align: right;\">     1</td><td style=\"text-align: right;\">         10.0102</td><td style=\"text-align: right;\">0.5     </td></tr>\n",
       "<tr><td>training_function_5337a_00009</td><td>TERMINATED</td><td>192.168.2.133:2672</td><td style=\"text-align: right;\"> 1  </td><td style=\"text-align: right;\">-0.5</td><td style=\"text-align: right;\">     1</td><td style=\"text-align: right;\">         10.0087</td><td style=\"text-align: right;\">0.790569</td></tr>\n",
       "<tr><td>training_function_5337a_00010</td><td>TERMINATED</td><td>192.168.2.133:2744</td><td style=\"text-align: right;\">-1  </td><td style=\"text-align: right;\"> 0  </td><td style=\"text-align: right;\">     1</td><td style=\"text-align: right;\">         10.012 </td><td style=\"text-align: right;\">0.707107</td></tr>\n",
       "<tr><td>training_function_5337a_00011</td><td>TERMINATED</td><td>192.168.2.133:2807</td><td style=\"text-align: right;\">-0.5</td><td style=\"text-align: right;\"> 0  </td><td style=\"text-align: right;\">     1</td><td style=\"text-align: right;\">         10.0101</td><td style=\"text-align: right;\">0.353553</td></tr>\n",
       "<tr><td>training_function_5337a_00012</td><td>TERMINATED</td><td>192.168.2.133:2868</td><td style=\"text-align: right;\"> 0  </td><td style=\"text-align: right;\"> 0  </td><td style=\"text-align: right;\">     1</td><td style=\"text-align: right;\">         10.0092</td><td style=\"text-align: right;\">0       </td></tr>\n",
       "</tbody>\n",
       "</table><br>... 5 more trials not shown (5 TERMINATED)<br><br>"
      ],
      "text/plain": [
       "<IPython.core.display.HTML object>"
      ]
     },
     "metadata": {},
     "output_type": "display_data"
    },
    {
     "data": {
      "text/html": [
       "== Status ==<br>Current time: 2022-04-30 11:28:52 (running for 00:04:27.46)<br>Memory usage on this node: 1.6/1.9 GiB<br>Using FIFO scheduling algorithm.<br>Resources requested: 1.0/1 CPUs, 0/0 GPUs, 0.0/0.37 GiB heap, 0.0/0.18 GiB objects<br>Result logdir: /home/ubuntu/ray_results/training_function_2022-04-30_11-24-24<br>Number of trials: 25/25 (6 PENDING, 1 RUNNING, 18 TERMINATED)<br><table>\n",
       "<thead>\n",
       "<tr><th>Trial name                   </th><th>status    </th><th>loc               </th><th style=\"text-align: right;\">   x</th><th style=\"text-align: right;\">   y</th><th style=\"text-align: right;\">  iter</th><th style=\"text-align: right;\">  total time (s)</th><th style=\"text-align: right;\">   score</th></tr>\n",
       "</thead>\n",
       "<tbody>\n",
       "<tr><td>training_function_5337a_00018</td><td>RUNNING   </td><td>192.168.2.133:3241</td><td style=\"text-align: right;\"> 0.5</td><td style=\"text-align: right;\"> 0.5</td><td style=\"text-align: right;\">      </td><td style=\"text-align: right;\">                </td><td style=\"text-align: right;\">        </td></tr>\n",
       "<tr><td>training_function_5337a_00019</td><td>PENDING   </td><td>                  </td><td style=\"text-align: right;\"> 1  </td><td style=\"text-align: right;\"> 0.5</td><td style=\"text-align: right;\">      </td><td style=\"text-align: right;\">                </td><td style=\"text-align: right;\">        </td></tr>\n",
       "<tr><td>training_function_5337a_00020</td><td>PENDING   </td><td>                  </td><td style=\"text-align: right;\">-1  </td><td style=\"text-align: right;\"> 1  </td><td style=\"text-align: right;\">      </td><td style=\"text-align: right;\">                </td><td style=\"text-align: right;\">        </td></tr>\n",
       "<tr><td>training_function_5337a_00021</td><td>PENDING   </td><td>                  </td><td style=\"text-align: right;\">-0.5</td><td style=\"text-align: right;\"> 1  </td><td style=\"text-align: right;\">      </td><td style=\"text-align: right;\">                </td><td style=\"text-align: right;\">        </td></tr>\n",
       "<tr><td>training_function_5337a_00022</td><td>PENDING   </td><td>                  </td><td style=\"text-align: right;\"> 0  </td><td style=\"text-align: right;\"> 1  </td><td style=\"text-align: right;\">      </td><td style=\"text-align: right;\">                </td><td style=\"text-align: right;\">        </td></tr>\n",
       "<tr><td>training_function_5337a_00023</td><td>PENDING   </td><td>                  </td><td style=\"text-align: right;\"> 0.5</td><td style=\"text-align: right;\"> 1  </td><td style=\"text-align: right;\">      </td><td style=\"text-align: right;\">                </td><td style=\"text-align: right;\">        </td></tr>\n",
       "<tr><td>training_function_5337a_00024</td><td>PENDING   </td><td>                  </td><td style=\"text-align: right;\"> 1  </td><td style=\"text-align: right;\"> 1  </td><td style=\"text-align: right;\">      </td><td style=\"text-align: right;\">                </td><td style=\"text-align: right;\">        </td></tr>\n",
       "<tr><td>training_function_5337a_00000</td><td>TERMINATED</td><td>192.168.2.133:2124</td><td style=\"text-align: right;\">-1  </td><td style=\"text-align: right;\">-1  </td><td style=\"text-align: right;\">     1</td><td style=\"text-align: right;\">         10.0198</td><td style=\"text-align: right;\">1       </td></tr>\n",
       "<tr><td>training_function_5337a_00001</td><td>TERMINATED</td><td>192.168.2.133:2185</td><td style=\"text-align: right;\">-0.5</td><td style=\"text-align: right;\">-1  </td><td style=\"text-align: right;\">     1</td><td style=\"text-align: right;\">         10.0095</td><td style=\"text-align: right;\">0.790569</td></tr>\n",
       "<tr><td>training_function_5337a_00002</td><td>TERMINATED</td><td>192.168.2.133:2247</td><td style=\"text-align: right;\"> 0  </td><td style=\"text-align: right;\">-1  </td><td style=\"text-align: right;\">     1</td><td style=\"text-align: right;\">         10.0104</td><td style=\"text-align: right;\">0.707107</td></tr>\n",
       "<tr><td>training_function_5337a_00003</td><td>TERMINATED</td><td>192.168.2.133:2308</td><td style=\"text-align: right;\"> 0.5</td><td style=\"text-align: right;\">-1  </td><td style=\"text-align: right;\">     1</td><td style=\"text-align: right;\">         10.0092</td><td style=\"text-align: right;\">0.790569</td></tr>\n",
       "<tr><td>training_function_5337a_00004</td><td>TERMINATED</td><td>192.168.2.133:2369</td><td style=\"text-align: right;\"> 1  </td><td style=\"text-align: right;\">-1  </td><td style=\"text-align: right;\">     1</td><td style=\"text-align: right;\">         10.0141</td><td style=\"text-align: right;\">1       </td></tr>\n",
       "<tr><td>training_function_5337a_00005</td><td>TERMINATED</td><td>192.168.2.133:2428</td><td style=\"text-align: right;\">-1  </td><td style=\"text-align: right;\">-0.5</td><td style=\"text-align: right;\">     1</td><td style=\"text-align: right;\">         10.0114</td><td style=\"text-align: right;\">0.790569</td></tr>\n",
       "<tr><td>training_function_5337a_00006</td><td>TERMINATED</td><td>192.168.2.133:2489</td><td style=\"text-align: right;\">-0.5</td><td style=\"text-align: right;\">-0.5</td><td style=\"text-align: right;\">     1</td><td style=\"text-align: right;\">         10.0104</td><td style=\"text-align: right;\">0.5     </td></tr>\n",
       "<tr><td>training_function_5337a_00007</td><td>TERMINATED</td><td>192.168.2.133:2551</td><td style=\"text-align: right;\"> 0  </td><td style=\"text-align: right;\">-0.5</td><td style=\"text-align: right;\">     1</td><td style=\"text-align: right;\">         10.0056</td><td style=\"text-align: right;\">0.353553</td></tr>\n",
       "<tr><td>training_function_5337a_00008</td><td>TERMINATED</td><td>192.168.2.133:2612</td><td style=\"text-align: right;\"> 0.5</td><td style=\"text-align: right;\">-0.5</td><td style=\"text-align: right;\">     1</td><td style=\"text-align: right;\">         10.0102</td><td style=\"text-align: right;\">0.5     </td></tr>\n",
       "<tr><td>training_function_5337a_00009</td><td>TERMINATED</td><td>192.168.2.133:2672</td><td style=\"text-align: right;\"> 1  </td><td style=\"text-align: right;\">-0.5</td><td style=\"text-align: right;\">     1</td><td style=\"text-align: right;\">         10.0087</td><td style=\"text-align: right;\">0.790569</td></tr>\n",
       "<tr><td>training_function_5337a_00010</td><td>TERMINATED</td><td>192.168.2.133:2744</td><td style=\"text-align: right;\">-1  </td><td style=\"text-align: right;\"> 0  </td><td style=\"text-align: right;\">     1</td><td style=\"text-align: right;\">         10.012 </td><td style=\"text-align: right;\">0.707107</td></tr>\n",
       "<tr><td>training_function_5337a_00011</td><td>TERMINATED</td><td>192.168.2.133:2807</td><td style=\"text-align: right;\">-0.5</td><td style=\"text-align: right;\"> 0  </td><td style=\"text-align: right;\">     1</td><td style=\"text-align: right;\">         10.0101</td><td style=\"text-align: right;\">0.353553</td></tr>\n",
       "<tr><td>training_function_5337a_00012</td><td>TERMINATED</td><td>192.168.2.133:2868</td><td style=\"text-align: right;\"> 0  </td><td style=\"text-align: right;\"> 0  </td><td style=\"text-align: right;\">     1</td><td style=\"text-align: right;\">         10.0092</td><td style=\"text-align: right;\">0       </td></tr>\n",
       "</tbody>\n",
       "</table><br>... 5 more trials not shown (5 TERMINATED)<br><br>"
      ],
      "text/plain": [
       "<IPython.core.display.HTML object>"
      ]
     },
     "metadata": {},
     "output_type": "display_data"
    },
    {
     "name": "stdout",
     "output_type": "stream",
     "text": [
      "Result for training_function_5337a_00018:\n",
      "  date: 2022-04-30_11-28-54\n",
      "  done: false\n",
      "  experiment_id: 2d6433be8828499295cea63dcd4a804c\n",
      "  hostname: patrick-c3-1\n",
      "  iterations_since_restore: 1\n",
      "  node_ip: 192.168.2.133\n",
      "  pid: 3241\n",
      "  score: 0.5\n",
      "  time_since_restore: 10.011468172073364\n",
      "  time_this_iter_s: 10.011468172073364\n",
      "  time_total_s: 10.011468172073364\n",
      "  timestamp: 1651310934\n",
      "  timesteps_since_restore: 0\n",
      "  training_iteration: 1\n",
      "  trial_id: 5337a_00018\n",
      "  warmup_time: 0.008182764053344727\n",
      "  \n",
      "Result for training_function_5337a_00018:\n",
      "  date: 2022-04-30_11-28-54\n",
      "  done: true\n",
      "  experiment_id: 2d6433be8828499295cea63dcd4a804c\n",
      "  experiment_tag: 18_x=0.5,y=0.5\n",
      "  hostname: patrick-c3-1\n",
      "  iterations_since_restore: 1\n",
      "  node_ip: 192.168.2.133\n",
      "  pid: 3241\n",
      "  score: 0.5\n",
      "  time_since_restore: 10.011468172073364\n",
      "  time_this_iter_s: 10.011468172073364\n",
      "  time_total_s: 10.011468172073364\n",
      "  timestamp: 1651310934\n",
      "  timesteps_since_restore: 0\n",
      "  training_iteration: 1\n",
      "  trial_id: 5337a_00018\n",
      "  warmup_time: 0.008182764053344727\n",
      "  \n"
     ]
    },
    {
     "name": "stderr",
     "output_type": "stream",
     "text": [
      "2022-04-30 11:28:55,036\tINFO trial_runner.py:803 -- starting training_function_5337a_00019\n"
     ]
    },
    {
     "data": {
      "text/html": [
       "== Status ==<br>Current time: 2022-04-30 11:29:00 (running for 00:04:35.46)<br>Memory usage on this node: 1.6/1.9 GiB<br>Using FIFO scheduling algorithm.<br>Resources requested: 1.0/1 CPUs, 0/0 GPUs, 0.0/0.37 GiB heap, 0.0/0.18 GiB objects<br>Result logdir: /home/ubuntu/ray_results/training_function_2022-04-30_11-24-24<br>Number of trials: 25/25 (5 PENDING, 1 RUNNING, 19 TERMINATED)<br><table>\n",
       "<thead>\n",
       "<tr><th>Trial name                   </th><th>status    </th><th>loc               </th><th style=\"text-align: right;\">   x</th><th style=\"text-align: right;\">   y</th><th style=\"text-align: right;\">  iter</th><th style=\"text-align: right;\">  total time (s)</th><th style=\"text-align: right;\">   score</th></tr>\n",
       "</thead>\n",
       "<tbody>\n",
       "<tr><td>training_function_5337a_00019</td><td>RUNNING   </td><td>192.168.2.133:3298</td><td style=\"text-align: right;\"> 1  </td><td style=\"text-align: right;\"> 0.5</td><td style=\"text-align: right;\">      </td><td style=\"text-align: right;\">                </td><td style=\"text-align: right;\">        </td></tr>\n",
       "<tr><td>training_function_5337a_00020</td><td>PENDING   </td><td>                  </td><td style=\"text-align: right;\">-1  </td><td style=\"text-align: right;\"> 1  </td><td style=\"text-align: right;\">      </td><td style=\"text-align: right;\">                </td><td style=\"text-align: right;\">        </td></tr>\n",
       "<tr><td>training_function_5337a_00021</td><td>PENDING   </td><td>                  </td><td style=\"text-align: right;\">-0.5</td><td style=\"text-align: right;\"> 1  </td><td style=\"text-align: right;\">      </td><td style=\"text-align: right;\">                </td><td style=\"text-align: right;\">        </td></tr>\n",
       "<tr><td>training_function_5337a_00022</td><td>PENDING   </td><td>                  </td><td style=\"text-align: right;\"> 0  </td><td style=\"text-align: right;\"> 1  </td><td style=\"text-align: right;\">      </td><td style=\"text-align: right;\">                </td><td style=\"text-align: right;\">        </td></tr>\n",
       "<tr><td>training_function_5337a_00023</td><td>PENDING   </td><td>                  </td><td style=\"text-align: right;\"> 0.5</td><td style=\"text-align: right;\"> 1  </td><td style=\"text-align: right;\">      </td><td style=\"text-align: right;\">                </td><td style=\"text-align: right;\">        </td></tr>\n",
       "<tr><td>training_function_5337a_00024</td><td>PENDING   </td><td>                  </td><td style=\"text-align: right;\"> 1  </td><td style=\"text-align: right;\"> 1  </td><td style=\"text-align: right;\">      </td><td style=\"text-align: right;\">                </td><td style=\"text-align: right;\">        </td></tr>\n",
       "<tr><td>training_function_5337a_00000</td><td>TERMINATED</td><td>192.168.2.133:2124</td><td style=\"text-align: right;\">-1  </td><td style=\"text-align: right;\">-1  </td><td style=\"text-align: right;\">     1</td><td style=\"text-align: right;\">         10.0198</td><td style=\"text-align: right;\">1       </td></tr>\n",
       "<tr><td>training_function_5337a_00001</td><td>TERMINATED</td><td>192.168.2.133:2185</td><td style=\"text-align: right;\">-0.5</td><td style=\"text-align: right;\">-1  </td><td style=\"text-align: right;\">     1</td><td style=\"text-align: right;\">         10.0095</td><td style=\"text-align: right;\">0.790569</td></tr>\n",
       "<tr><td>training_function_5337a_00002</td><td>TERMINATED</td><td>192.168.2.133:2247</td><td style=\"text-align: right;\"> 0  </td><td style=\"text-align: right;\">-1  </td><td style=\"text-align: right;\">     1</td><td style=\"text-align: right;\">         10.0104</td><td style=\"text-align: right;\">0.707107</td></tr>\n",
       "<tr><td>training_function_5337a_00003</td><td>TERMINATED</td><td>192.168.2.133:2308</td><td style=\"text-align: right;\"> 0.5</td><td style=\"text-align: right;\">-1  </td><td style=\"text-align: right;\">     1</td><td style=\"text-align: right;\">         10.0092</td><td style=\"text-align: right;\">0.790569</td></tr>\n",
       "<tr><td>training_function_5337a_00004</td><td>TERMINATED</td><td>192.168.2.133:2369</td><td style=\"text-align: right;\"> 1  </td><td style=\"text-align: right;\">-1  </td><td style=\"text-align: right;\">     1</td><td style=\"text-align: right;\">         10.0141</td><td style=\"text-align: right;\">1       </td></tr>\n",
       "<tr><td>training_function_5337a_00005</td><td>TERMINATED</td><td>192.168.2.133:2428</td><td style=\"text-align: right;\">-1  </td><td style=\"text-align: right;\">-0.5</td><td style=\"text-align: right;\">     1</td><td style=\"text-align: right;\">         10.0114</td><td style=\"text-align: right;\">0.790569</td></tr>\n",
       "<tr><td>training_function_5337a_00006</td><td>TERMINATED</td><td>192.168.2.133:2489</td><td style=\"text-align: right;\">-0.5</td><td style=\"text-align: right;\">-0.5</td><td style=\"text-align: right;\">     1</td><td style=\"text-align: right;\">         10.0104</td><td style=\"text-align: right;\">0.5     </td></tr>\n",
       "<tr><td>training_function_5337a_00007</td><td>TERMINATED</td><td>192.168.2.133:2551</td><td style=\"text-align: right;\"> 0  </td><td style=\"text-align: right;\">-0.5</td><td style=\"text-align: right;\">     1</td><td style=\"text-align: right;\">         10.0056</td><td style=\"text-align: right;\">0.353553</td></tr>\n",
       "<tr><td>training_function_5337a_00008</td><td>TERMINATED</td><td>192.168.2.133:2612</td><td style=\"text-align: right;\"> 0.5</td><td style=\"text-align: right;\">-0.5</td><td style=\"text-align: right;\">     1</td><td style=\"text-align: right;\">         10.0102</td><td style=\"text-align: right;\">0.5     </td></tr>\n",
       "<tr><td>training_function_5337a_00009</td><td>TERMINATED</td><td>192.168.2.133:2672</td><td style=\"text-align: right;\"> 1  </td><td style=\"text-align: right;\">-0.5</td><td style=\"text-align: right;\">     1</td><td style=\"text-align: right;\">         10.0087</td><td style=\"text-align: right;\">0.790569</td></tr>\n",
       "<tr><td>training_function_5337a_00010</td><td>TERMINATED</td><td>192.168.2.133:2744</td><td style=\"text-align: right;\">-1  </td><td style=\"text-align: right;\"> 0  </td><td style=\"text-align: right;\">     1</td><td style=\"text-align: right;\">         10.012 </td><td style=\"text-align: right;\">0.707107</td></tr>\n",
       "<tr><td>training_function_5337a_00011</td><td>TERMINATED</td><td>192.168.2.133:2807</td><td style=\"text-align: right;\">-0.5</td><td style=\"text-align: right;\"> 0  </td><td style=\"text-align: right;\">     1</td><td style=\"text-align: right;\">         10.0101</td><td style=\"text-align: right;\">0.353553</td></tr>\n",
       "<tr><td>training_function_5337a_00012</td><td>TERMINATED</td><td>192.168.2.133:2868</td><td style=\"text-align: right;\"> 0  </td><td style=\"text-align: right;\"> 0  </td><td style=\"text-align: right;\">     1</td><td style=\"text-align: right;\">         10.0092</td><td style=\"text-align: right;\">0       </td></tr>\n",
       "<tr><td>training_function_5337a_00013</td><td>TERMINATED</td><td>192.168.2.133:2930</td><td style=\"text-align: right;\"> 0.5</td><td style=\"text-align: right;\"> 0  </td><td style=\"text-align: right;\">     1</td><td style=\"text-align: right;\">         10.0096</td><td style=\"text-align: right;\">0.353553</td></tr>\n",
       "</tbody>\n",
       "</table><br>... 5 more trials not shown (5 TERMINATED)<br><br>"
      ],
      "text/plain": [
       "<IPython.core.display.HTML object>"
      ]
     },
     "metadata": {},
     "output_type": "display_data"
    },
    {
     "data": {
      "text/html": [
       "== Status ==<br>Current time: 2022-04-30 11:29:05 (running for 00:04:40.49)<br>Memory usage on this node: 1.6/1.9 GiB<br>Using FIFO scheduling algorithm.<br>Resources requested: 1.0/1 CPUs, 0/0 GPUs, 0.0/0.37 GiB heap, 0.0/0.18 GiB objects<br>Result logdir: /home/ubuntu/ray_results/training_function_2022-04-30_11-24-24<br>Number of trials: 25/25 (5 PENDING, 1 RUNNING, 19 TERMINATED)<br><table>\n",
       "<thead>\n",
       "<tr><th>Trial name                   </th><th>status    </th><th>loc               </th><th style=\"text-align: right;\">   x</th><th style=\"text-align: right;\">   y</th><th style=\"text-align: right;\">  iter</th><th style=\"text-align: right;\">  total time (s)</th><th style=\"text-align: right;\">   score</th></tr>\n",
       "</thead>\n",
       "<tbody>\n",
       "<tr><td>training_function_5337a_00019</td><td>RUNNING   </td><td>192.168.2.133:3298</td><td style=\"text-align: right;\"> 1  </td><td style=\"text-align: right;\"> 0.5</td><td style=\"text-align: right;\">      </td><td style=\"text-align: right;\">                </td><td style=\"text-align: right;\">        </td></tr>\n",
       "<tr><td>training_function_5337a_00020</td><td>PENDING   </td><td>                  </td><td style=\"text-align: right;\">-1  </td><td style=\"text-align: right;\"> 1  </td><td style=\"text-align: right;\">      </td><td style=\"text-align: right;\">                </td><td style=\"text-align: right;\">        </td></tr>\n",
       "<tr><td>training_function_5337a_00021</td><td>PENDING   </td><td>                  </td><td style=\"text-align: right;\">-0.5</td><td style=\"text-align: right;\"> 1  </td><td style=\"text-align: right;\">      </td><td style=\"text-align: right;\">                </td><td style=\"text-align: right;\">        </td></tr>\n",
       "<tr><td>training_function_5337a_00022</td><td>PENDING   </td><td>                  </td><td style=\"text-align: right;\"> 0  </td><td style=\"text-align: right;\"> 1  </td><td style=\"text-align: right;\">      </td><td style=\"text-align: right;\">                </td><td style=\"text-align: right;\">        </td></tr>\n",
       "<tr><td>training_function_5337a_00023</td><td>PENDING   </td><td>                  </td><td style=\"text-align: right;\"> 0.5</td><td style=\"text-align: right;\"> 1  </td><td style=\"text-align: right;\">      </td><td style=\"text-align: right;\">                </td><td style=\"text-align: right;\">        </td></tr>\n",
       "<tr><td>training_function_5337a_00024</td><td>PENDING   </td><td>                  </td><td style=\"text-align: right;\"> 1  </td><td style=\"text-align: right;\"> 1  </td><td style=\"text-align: right;\">      </td><td style=\"text-align: right;\">                </td><td style=\"text-align: right;\">        </td></tr>\n",
       "<tr><td>training_function_5337a_00000</td><td>TERMINATED</td><td>192.168.2.133:2124</td><td style=\"text-align: right;\">-1  </td><td style=\"text-align: right;\">-1  </td><td style=\"text-align: right;\">     1</td><td style=\"text-align: right;\">         10.0198</td><td style=\"text-align: right;\">1       </td></tr>\n",
       "<tr><td>training_function_5337a_00001</td><td>TERMINATED</td><td>192.168.2.133:2185</td><td style=\"text-align: right;\">-0.5</td><td style=\"text-align: right;\">-1  </td><td style=\"text-align: right;\">     1</td><td style=\"text-align: right;\">         10.0095</td><td style=\"text-align: right;\">0.790569</td></tr>\n",
       "<tr><td>training_function_5337a_00002</td><td>TERMINATED</td><td>192.168.2.133:2247</td><td style=\"text-align: right;\"> 0  </td><td style=\"text-align: right;\">-1  </td><td style=\"text-align: right;\">     1</td><td style=\"text-align: right;\">         10.0104</td><td style=\"text-align: right;\">0.707107</td></tr>\n",
       "<tr><td>training_function_5337a_00003</td><td>TERMINATED</td><td>192.168.2.133:2308</td><td style=\"text-align: right;\"> 0.5</td><td style=\"text-align: right;\">-1  </td><td style=\"text-align: right;\">     1</td><td style=\"text-align: right;\">         10.0092</td><td style=\"text-align: right;\">0.790569</td></tr>\n",
       "<tr><td>training_function_5337a_00004</td><td>TERMINATED</td><td>192.168.2.133:2369</td><td style=\"text-align: right;\"> 1  </td><td style=\"text-align: right;\">-1  </td><td style=\"text-align: right;\">     1</td><td style=\"text-align: right;\">         10.0141</td><td style=\"text-align: right;\">1       </td></tr>\n",
       "<tr><td>training_function_5337a_00005</td><td>TERMINATED</td><td>192.168.2.133:2428</td><td style=\"text-align: right;\">-1  </td><td style=\"text-align: right;\">-0.5</td><td style=\"text-align: right;\">     1</td><td style=\"text-align: right;\">         10.0114</td><td style=\"text-align: right;\">0.790569</td></tr>\n",
       "<tr><td>training_function_5337a_00006</td><td>TERMINATED</td><td>192.168.2.133:2489</td><td style=\"text-align: right;\">-0.5</td><td style=\"text-align: right;\">-0.5</td><td style=\"text-align: right;\">     1</td><td style=\"text-align: right;\">         10.0104</td><td style=\"text-align: right;\">0.5     </td></tr>\n",
       "<tr><td>training_function_5337a_00007</td><td>TERMINATED</td><td>192.168.2.133:2551</td><td style=\"text-align: right;\"> 0  </td><td style=\"text-align: right;\">-0.5</td><td style=\"text-align: right;\">     1</td><td style=\"text-align: right;\">         10.0056</td><td style=\"text-align: right;\">0.353553</td></tr>\n",
       "<tr><td>training_function_5337a_00008</td><td>TERMINATED</td><td>192.168.2.133:2612</td><td style=\"text-align: right;\"> 0.5</td><td style=\"text-align: right;\">-0.5</td><td style=\"text-align: right;\">     1</td><td style=\"text-align: right;\">         10.0102</td><td style=\"text-align: right;\">0.5     </td></tr>\n",
       "<tr><td>training_function_5337a_00009</td><td>TERMINATED</td><td>192.168.2.133:2672</td><td style=\"text-align: right;\"> 1  </td><td style=\"text-align: right;\">-0.5</td><td style=\"text-align: right;\">     1</td><td style=\"text-align: right;\">         10.0087</td><td style=\"text-align: right;\">0.790569</td></tr>\n",
       "<tr><td>training_function_5337a_00010</td><td>TERMINATED</td><td>192.168.2.133:2744</td><td style=\"text-align: right;\">-1  </td><td style=\"text-align: right;\"> 0  </td><td style=\"text-align: right;\">     1</td><td style=\"text-align: right;\">         10.012 </td><td style=\"text-align: right;\">0.707107</td></tr>\n",
       "<tr><td>training_function_5337a_00011</td><td>TERMINATED</td><td>192.168.2.133:2807</td><td style=\"text-align: right;\">-0.5</td><td style=\"text-align: right;\"> 0  </td><td style=\"text-align: right;\">     1</td><td style=\"text-align: right;\">         10.0101</td><td style=\"text-align: right;\">0.353553</td></tr>\n",
       "<tr><td>training_function_5337a_00012</td><td>TERMINATED</td><td>192.168.2.133:2868</td><td style=\"text-align: right;\"> 0  </td><td style=\"text-align: right;\"> 0  </td><td style=\"text-align: right;\">     1</td><td style=\"text-align: right;\">         10.0092</td><td style=\"text-align: right;\">0       </td></tr>\n",
       "<tr><td>training_function_5337a_00013</td><td>TERMINATED</td><td>192.168.2.133:2930</td><td style=\"text-align: right;\"> 0.5</td><td style=\"text-align: right;\"> 0  </td><td style=\"text-align: right;\">     1</td><td style=\"text-align: right;\">         10.0096</td><td style=\"text-align: right;\">0.353553</td></tr>\n",
       "</tbody>\n",
       "</table><br>... 5 more trials not shown (5 TERMINATED)<br><br>"
      ],
      "text/plain": [
       "<IPython.core.display.HTML object>"
      ]
     },
     "metadata": {},
     "output_type": "display_data"
    },
    {
     "name": "stdout",
     "output_type": "stream",
     "text": [
      "Result for training_function_5337a_00019:\n",
      "  date: 2022-04-30_11-29-07\n",
      "  done: false\n",
      "  experiment_id: 48acedf4f3e042909ae7b8f0fd672c72\n",
      "  hostname: patrick-c3-1\n",
      "  iterations_since_restore: 1\n",
      "  node_ip: 192.168.2.133\n",
      "  pid: 3298\n",
      "  score: 0.7905694150420949\n",
      "  time_since_restore: 10.008387327194214\n",
      "  time_this_iter_s: 10.008387327194214\n",
      "  time_total_s: 10.008387327194214\n",
      "  timestamp: 1651310947\n",
      "  timesteps_since_restore: 0\n",
      "  training_iteration: 1\n",
      "  trial_id: 5337a_00019\n",
      "  warmup_time: 0.006245613098144531\n",
      "  \n",
      "Result for training_function_5337a_00019:\n",
      "  date: 2022-04-30_11-29-07\n",
      "  done: true\n",
      "  experiment_id: 48acedf4f3e042909ae7b8f0fd672c72\n",
      "  experiment_tag: 19_x=1,y=0.5\n",
      "  hostname: patrick-c3-1\n",
      "  iterations_since_restore: 1\n",
      "  node_ip: 192.168.2.133\n",
      "  pid: 3298\n",
      "  score: 0.7905694150420949\n",
      "  time_since_restore: 10.008387327194214\n",
      "  time_this_iter_s: 10.008387327194214\n",
      "  time_total_s: 10.008387327194214\n",
      "  timestamp: 1651310947\n",
      "  timesteps_since_restore: 0\n",
      "  training_iteration: 1\n",
      "  trial_id: 5337a_00019\n",
      "  warmup_time: 0.006245613098144531\n",
      "  \n"
     ]
    },
    {
     "name": "stderr",
     "output_type": "stream",
     "text": [
      "2022-04-30 11:29:08,997\tINFO trial_runner.py:803 -- starting training_function_5337a_00020\n"
     ]
    },
    {
     "data": {
      "text/html": [
       "== Status ==<br>Current time: 2022-04-30 11:29:14 (running for 00:04:49.42)<br>Memory usage on this node: 1.6/1.9 GiB<br>Using FIFO scheduling algorithm.<br>Resources requested: 1.0/1 CPUs, 0/0 GPUs, 0.0/0.37 GiB heap, 0.0/0.18 GiB objects<br>Result logdir: /home/ubuntu/ray_results/training_function_2022-04-30_11-24-24<br>Number of trials: 25/25 (4 PENDING, 1 RUNNING, 20 TERMINATED)<br><table>\n",
       "<thead>\n",
       "<tr><th>Trial name                   </th><th>status    </th><th>loc               </th><th style=\"text-align: right;\">   x</th><th style=\"text-align: right;\">   y</th><th style=\"text-align: right;\">  iter</th><th style=\"text-align: right;\">  total time (s)</th><th style=\"text-align: right;\">   score</th></tr>\n",
       "</thead>\n",
       "<tbody>\n",
       "<tr><td>training_function_5337a_00020</td><td>RUNNING   </td><td>192.168.2.133:3356</td><td style=\"text-align: right;\">-1  </td><td style=\"text-align: right;\"> 1  </td><td style=\"text-align: right;\">      </td><td style=\"text-align: right;\">                </td><td style=\"text-align: right;\">        </td></tr>\n",
       "<tr><td>training_function_5337a_00021</td><td>PENDING   </td><td>                  </td><td style=\"text-align: right;\">-0.5</td><td style=\"text-align: right;\"> 1  </td><td style=\"text-align: right;\">      </td><td style=\"text-align: right;\">                </td><td style=\"text-align: right;\">        </td></tr>\n",
       "<tr><td>training_function_5337a_00022</td><td>PENDING   </td><td>                  </td><td style=\"text-align: right;\"> 0  </td><td style=\"text-align: right;\"> 1  </td><td style=\"text-align: right;\">      </td><td style=\"text-align: right;\">                </td><td style=\"text-align: right;\">        </td></tr>\n",
       "<tr><td>training_function_5337a_00023</td><td>PENDING   </td><td>                  </td><td style=\"text-align: right;\"> 0.5</td><td style=\"text-align: right;\"> 1  </td><td style=\"text-align: right;\">      </td><td style=\"text-align: right;\">                </td><td style=\"text-align: right;\">        </td></tr>\n",
       "<tr><td>training_function_5337a_00024</td><td>PENDING   </td><td>                  </td><td style=\"text-align: right;\"> 1  </td><td style=\"text-align: right;\"> 1  </td><td style=\"text-align: right;\">      </td><td style=\"text-align: right;\">                </td><td style=\"text-align: right;\">        </td></tr>\n",
       "<tr><td>training_function_5337a_00000</td><td>TERMINATED</td><td>192.168.2.133:2124</td><td style=\"text-align: right;\">-1  </td><td style=\"text-align: right;\">-1  </td><td style=\"text-align: right;\">     1</td><td style=\"text-align: right;\">         10.0198</td><td style=\"text-align: right;\">1       </td></tr>\n",
       "<tr><td>training_function_5337a_00001</td><td>TERMINATED</td><td>192.168.2.133:2185</td><td style=\"text-align: right;\">-0.5</td><td style=\"text-align: right;\">-1  </td><td style=\"text-align: right;\">     1</td><td style=\"text-align: right;\">         10.0095</td><td style=\"text-align: right;\">0.790569</td></tr>\n",
       "<tr><td>training_function_5337a_00002</td><td>TERMINATED</td><td>192.168.2.133:2247</td><td style=\"text-align: right;\"> 0  </td><td style=\"text-align: right;\">-1  </td><td style=\"text-align: right;\">     1</td><td style=\"text-align: right;\">         10.0104</td><td style=\"text-align: right;\">0.707107</td></tr>\n",
       "<tr><td>training_function_5337a_00003</td><td>TERMINATED</td><td>192.168.2.133:2308</td><td style=\"text-align: right;\"> 0.5</td><td style=\"text-align: right;\">-1  </td><td style=\"text-align: right;\">     1</td><td style=\"text-align: right;\">         10.0092</td><td style=\"text-align: right;\">0.790569</td></tr>\n",
       "<tr><td>training_function_5337a_00004</td><td>TERMINATED</td><td>192.168.2.133:2369</td><td style=\"text-align: right;\"> 1  </td><td style=\"text-align: right;\">-1  </td><td style=\"text-align: right;\">     1</td><td style=\"text-align: right;\">         10.0141</td><td style=\"text-align: right;\">1       </td></tr>\n",
       "<tr><td>training_function_5337a_00005</td><td>TERMINATED</td><td>192.168.2.133:2428</td><td style=\"text-align: right;\">-1  </td><td style=\"text-align: right;\">-0.5</td><td style=\"text-align: right;\">     1</td><td style=\"text-align: right;\">         10.0114</td><td style=\"text-align: right;\">0.790569</td></tr>\n",
       "<tr><td>training_function_5337a_00006</td><td>TERMINATED</td><td>192.168.2.133:2489</td><td style=\"text-align: right;\">-0.5</td><td style=\"text-align: right;\">-0.5</td><td style=\"text-align: right;\">     1</td><td style=\"text-align: right;\">         10.0104</td><td style=\"text-align: right;\">0.5     </td></tr>\n",
       "<tr><td>training_function_5337a_00007</td><td>TERMINATED</td><td>192.168.2.133:2551</td><td style=\"text-align: right;\"> 0  </td><td style=\"text-align: right;\">-0.5</td><td style=\"text-align: right;\">     1</td><td style=\"text-align: right;\">         10.0056</td><td style=\"text-align: right;\">0.353553</td></tr>\n",
       "<tr><td>training_function_5337a_00008</td><td>TERMINATED</td><td>192.168.2.133:2612</td><td style=\"text-align: right;\"> 0.5</td><td style=\"text-align: right;\">-0.5</td><td style=\"text-align: right;\">     1</td><td style=\"text-align: right;\">         10.0102</td><td style=\"text-align: right;\">0.5     </td></tr>\n",
       "<tr><td>training_function_5337a_00009</td><td>TERMINATED</td><td>192.168.2.133:2672</td><td style=\"text-align: right;\"> 1  </td><td style=\"text-align: right;\">-0.5</td><td style=\"text-align: right;\">     1</td><td style=\"text-align: right;\">         10.0087</td><td style=\"text-align: right;\">0.790569</td></tr>\n",
       "<tr><td>training_function_5337a_00010</td><td>TERMINATED</td><td>192.168.2.133:2744</td><td style=\"text-align: right;\">-1  </td><td style=\"text-align: right;\"> 0  </td><td style=\"text-align: right;\">     1</td><td style=\"text-align: right;\">         10.012 </td><td style=\"text-align: right;\">0.707107</td></tr>\n",
       "<tr><td>training_function_5337a_00011</td><td>TERMINATED</td><td>192.168.2.133:2807</td><td style=\"text-align: right;\">-0.5</td><td style=\"text-align: right;\"> 0  </td><td style=\"text-align: right;\">     1</td><td style=\"text-align: right;\">         10.0101</td><td style=\"text-align: right;\">0.353553</td></tr>\n",
       "<tr><td>training_function_5337a_00012</td><td>TERMINATED</td><td>192.168.2.133:2868</td><td style=\"text-align: right;\"> 0  </td><td style=\"text-align: right;\"> 0  </td><td style=\"text-align: right;\">     1</td><td style=\"text-align: right;\">         10.0092</td><td style=\"text-align: right;\">0       </td></tr>\n",
       "<tr><td>training_function_5337a_00013</td><td>TERMINATED</td><td>192.168.2.133:2930</td><td style=\"text-align: right;\"> 0.5</td><td style=\"text-align: right;\"> 0  </td><td style=\"text-align: right;\">     1</td><td style=\"text-align: right;\">         10.0096</td><td style=\"text-align: right;\">0.353553</td></tr>\n",
       "<tr><td>training_function_5337a_00014</td><td>TERMINATED</td><td>192.168.2.133:3006</td><td style=\"text-align: right;\"> 1  </td><td style=\"text-align: right;\"> 0  </td><td style=\"text-align: right;\">     1</td><td style=\"text-align: right;\">         10.0092</td><td style=\"text-align: right;\">0.707107</td></tr>\n",
       "</tbody>\n",
       "</table><br>... 5 more trials not shown (5 TERMINATED)<br><br>"
      ],
      "text/plain": [
       "<IPython.core.display.HTML object>"
      ]
     },
     "metadata": {},
     "output_type": "display_data"
    },
    {
     "data": {
      "text/html": [
       "== Status ==<br>Current time: 2022-04-30 11:29:19 (running for 00:04:54.45)<br>Memory usage on this node: 1.6/1.9 GiB<br>Using FIFO scheduling algorithm.<br>Resources requested: 1.0/1 CPUs, 0/0 GPUs, 0.0/0.37 GiB heap, 0.0/0.18 GiB objects<br>Result logdir: /home/ubuntu/ray_results/training_function_2022-04-30_11-24-24<br>Number of trials: 25/25 (4 PENDING, 1 RUNNING, 20 TERMINATED)<br><table>\n",
       "<thead>\n",
       "<tr><th>Trial name                   </th><th>status    </th><th>loc               </th><th style=\"text-align: right;\">   x</th><th style=\"text-align: right;\">   y</th><th style=\"text-align: right;\">  iter</th><th style=\"text-align: right;\">  total time (s)</th><th style=\"text-align: right;\">   score</th></tr>\n",
       "</thead>\n",
       "<tbody>\n",
       "<tr><td>training_function_5337a_00020</td><td>RUNNING   </td><td>192.168.2.133:3356</td><td style=\"text-align: right;\">-1  </td><td style=\"text-align: right;\"> 1  </td><td style=\"text-align: right;\">      </td><td style=\"text-align: right;\">                </td><td style=\"text-align: right;\">        </td></tr>\n",
       "<tr><td>training_function_5337a_00021</td><td>PENDING   </td><td>                  </td><td style=\"text-align: right;\">-0.5</td><td style=\"text-align: right;\"> 1  </td><td style=\"text-align: right;\">      </td><td style=\"text-align: right;\">                </td><td style=\"text-align: right;\">        </td></tr>\n",
       "<tr><td>training_function_5337a_00022</td><td>PENDING   </td><td>                  </td><td style=\"text-align: right;\"> 0  </td><td style=\"text-align: right;\"> 1  </td><td style=\"text-align: right;\">      </td><td style=\"text-align: right;\">                </td><td style=\"text-align: right;\">        </td></tr>\n",
       "<tr><td>training_function_5337a_00023</td><td>PENDING   </td><td>                  </td><td style=\"text-align: right;\"> 0.5</td><td style=\"text-align: right;\"> 1  </td><td style=\"text-align: right;\">      </td><td style=\"text-align: right;\">                </td><td style=\"text-align: right;\">        </td></tr>\n",
       "<tr><td>training_function_5337a_00024</td><td>PENDING   </td><td>                  </td><td style=\"text-align: right;\"> 1  </td><td style=\"text-align: right;\"> 1  </td><td style=\"text-align: right;\">      </td><td style=\"text-align: right;\">                </td><td style=\"text-align: right;\">        </td></tr>\n",
       "<tr><td>training_function_5337a_00000</td><td>TERMINATED</td><td>192.168.2.133:2124</td><td style=\"text-align: right;\">-1  </td><td style=\"text-align: right;\">-1  </td><td style=\"text-align: right;\">     1</td><td style=\"text-align: right;\">         10.0198</td><td style=\"text-align: right;\">1       </td></tr>\n",
       "<tr><td>training_function_5337a_00001</td><td>TERMINATED</td><td>192.168.2.133:2185</td><td style=\"text-align: right;\">-0.5</td><td style=\"text-align: right;\">-1  </td><td style=\"text-align: right;\">     1</td><td style=\"text-align: right;\">         10.0095</td><td style=\"text-align: right;\">0.790569</td></tr>\n",
       "<tr><td>training_function_5337a_00002</td><td>TERMINATED</td><td>192.168.2.133:2247</td><td style=\"text-align: right;\"> 0  </td><td style=\"text-align: right;\">-1  </td><td style=\"text-align: right;\">     1</td><td style=\"text-align: right;\">         10.0104</td><td style=\"text-align: right;\">0.707107</td></tr>\n",
       "<tr><td>training_function_5337a_00003</td><td>TERMINATED</td><td>192.168.2.133:2308</td><td style=\"text-align: right;\"> 0.5</td><td style=\"text-align: right;\">-1  </td><td style=\"text-align: right;\">     1</td><td style=\"text-align: right;\">         10.0092</td><td style=\"text-align: right;\">0.790569</td></tr>\n",
       "<tr><td>training_function_5337a_00004</td><td>TERMINATED</td><td>192.168.2.133:2369</td><td style=\"text-align: right;\"> 1  </td><td style=\"text-align: right;\">-1  </td><td style=\"text-align: right;\">     1</td><td style=\"text-align: right;\">         10.0141</td><td style=\"text-align: right;\">1       </td></tr>\n",
       "<tr><td>training_function_5337a_00005</td><td>TERMINATED</td><td>192.168.2.133:2428</td><td style=\"text-align: right;\">-1  </td><td style=\"text-align: right;\">-0.5</td><td style=\"text-align: right;\">     1</td><td style=\"text-align: right;\">         10.0114</td><td style=\"text-align: right;\">0.790569</td></tr>\n",
       "<tr><td>training_function_5337a_00006</td><td>TERMINATED</td><td>192.168.2.133:2489</td><td style=\"text-align: right;\">-0.5</td><td style=\"text-align: right;\">-0.5</td><td style=\"text-align: right;\">     1</td><td style=\"text-align: right;\">         10.0104</td><td style=\"text-align: right;\">0.5     </td></tr>\n",
       "<tr><td>training_function_5337a_00007</td><td>TERMINATED</td><td>192.168.2.133:2551</td><td style=\"text-align: right;\"> 0  </td><td style=\"text-align: right;\">-0.5</td><td style=\"text-align: right;\">     1</td><td style=\"text-align: right;\">         10.0056</td><td style=\"text-align: right;\">0.353553</td></tr>\n",
       "<tr><td>training_function_5337a_00008</td><td>TERMINATED</td><td>192.168.2.133:2612</td><td style=\"text-align: right;\"> 0.5</td><td style=\"text-align: right;\">-0.5</td><td style=\"text-align: right;\">     1</td><td style=\"text-align: right;\">         10.0102</td><td style=\"text-align: right;\">0.5     </td></tr>\n",
       "<tr><td>training_function_5337a_00009</td><td>TERMINATED</td><td>192.168.2.133:2672</td><td style=\"text-align: right;\"> 1  </td><td style=\"text-align: right;\">-0.5</td><td style=\"text-align: right;\">     1</td><td style=\"text-align: right;\">         10.0087</td><td style=\"text-align: right;\">0.790569</td></tr>\n",
       "<tr><td>training_function_5337a_00010</td><td>TERMINATED</td><td>192.168.2.133:2744</td><td style=\"text-align: right;\">-1  </td><td style=\"text-align: right;\"> 0  </td><td style=\"text-align: right;\">     1</td><td style=\"text-align: right;\">         10.012 </td><td style=\"text-align: right;\">0.707107</td></tr>\n",
       "<tr><td>training_function_5337a_00011</td><td>TERMINATED</td><td>192.168.2.133:2807</td><td style=\"text-align: right;\">-0.5</td><td style=\"text-align: right;\"> 0  </td><td style=\"text-align: right;\">     1</td><td style=\"text-align: right;\">         10.0101</td><td style=\"text-align: right;\">0.353553</td></tr>\n",
       "<tr><td>training_function_5337a_00012</td><td>TERMINATED</td><td>192.168.2.133:2868</td><td style=\"text-align: right;\"> 0  </td><td style=\"text-align: right;\"> 0  </td><td style=\"text-align: right;\">     1</td><td style=\"text-align: right;\">         10.0092</td><td style=\"text-align: right;\">0       </td></tr>\n",
       "<tr><td>training_function_5337a_00013</td><td>TERMINATED</td><td>192.168.2.133:2930</td><td style=\"text-align: right;\"> 0.5</td><td style=\"text-align: right;\"> 0  </td><td style=\"text-align: right;\">     1</td><td style=\"text-align: right;\">         10.0096</td><td style=\"text-align: right;\">0.353553</td></tr>\n",
       "<tr><td>training_function_5337a_00014</td><td>TERMINATED</td><td>192.168.2.133:3006</td><td style=\"text-align: right;\"> 1  </td><td style=\"text-align: right;\"> 0  </td><td style=\"text-align: right;\">     1</td><td style=\"text-align: right;\">         10.0092</td><td style=\"text-align: right;\">0.707107</td></tr>\n",
       "</tbody>\n",
       "</table><br>... 5 more trials not shown (5 TERMINATED)<br><br>"
      ],
      "text/plain": [
       "<IPython.core.display.HTML object>"
      ]
     },
     "metadata": {},
     "output_type": "display_data"
    },
    {
     "name": "stdout",
     "output_type": "stream",
     "text": [
      "Result for training_function_5337a_00020:\n",
      "  date: 2022-04-30_11-29-21\n",
      "  done: false\n",
      "  experiment_id: 279f2550cf72477795684efb3cf29821\n",
      "  hostname: patrick-c3-1\n",
      "  iterations_since_restore: 1\n",
      "  node_ip: 192.168.2.133\n",
      "  pid: 3356\n",
      "  score: 1.0\n",
      "  time_since_restore: 10.010103464126587\n",
      "  time_this_iter_s: 10.010103464126587\n",
      "  time_total_s: 10.010103464126587\n",
      "  timestamp: 1651310961\n",
      "  timesteps_since_restore: 0\n",
      "  training_iteration: 1\n",
      "  trial_id: 5337a_00020\n",
      "  warmup_time: 0.00613093376159668\n",
      "  \n",
      "Result for training_function_5337a_00020:\n",
      "  date: 2022-04-30_11-29-21\n",
      "  done: true\n",
      "  experiment_id: 279f2550cf72477795684efb3cf29821\n",
      "  experiment_tag: 20_x=-1,y=1\n",
      "  hostname: patrick-c3-1\n",
      "  iterations_since_restore: 1\n",
      "  node_ip: 192.168.2.133\n",
      "  pid: 3356\n",
      "  score: 1.0\n",
      "  time_since_restore: 10.010103464126587\n",
      "  time_this_iter_s: 10.010103464126587\n",
      "  time_total_s: 10.010103464126587\n",
      "  timestamp: 1651310961\n",
      "  timesteps_since_restore: 0\n",
      "  training_iteration: 1\n",
      "  trial_id: 5337a_00020\n",
      "  warmup_time: 0.00613093376159668\n",
      "  \n"
     ]
    },
    {
     "name": "stderr",
     "output_type": "stream",
     "text": [
      "2022-04-30 11:29:23,029\tINFO trial_runner.py:803 -- starting training_function_5337a_00021\n"
     ]
    },
    {
     "data": {
      "text/html": [
       "== Status ==<br>Current time: 2022-04-30 11:29:28 (running for 00:05:03.46)<br>Memory usage on this node: 1.6/1.9 GiB<br>Using FIFO scheduling algorithm.<br>Resources requested: 1.0/1 CPUs, 0/0 GPUs, 0.0/0.37 GiB heap, 0.0/0.18 GiB objects<br>Result logdir: /home/ubuntu/ray_results/training_function_2022-04-30_11-24-24<br>Number of trials: 25/25 (3 PENDING, 1 RUNNING, 21 TERMINATED)<br><table>\n",
       "<thead>\n",
       "<tr><th>Trial name                   </th><th>status    </th><th>loc               </th><th style=\"text-align: right;\">   x</th><th style=\"text-align: right;\">   y</th><th style=\"text-align: right;\">  iter</th><th style=\"text-align: right;\">  total time (s)</th><th style=\"text-align: right;\">   score</th></tr>\n",
       "</thead>\n",
       "<tbody>\n",
       "<tr><td>training_function_5337a_00021</td><td>RUNNING   </td><td>192.168.2.133:3414</td><td style=\"text-align: right;\">-0.5</td><td style=\"text-align: right;\"> 1  </td><td style=\"text-align: right;\">      </td><td style=\"text-align: right;\">                </td><td style=\"text-align: right;\">        </td></tr>\n",
       "<tr><td>training_function_5337a_00022</td><td>PENDING   </td><td>                  </td><td style=\"text-align: right;\"> 0  </td><td style=\"text-align: right;\"> 1  </td><td style=\"text-align: right;\">      </td><td style=\"text-align: right;\">                </td><td style=\"text-align: right;\">        </td></tr>\n",
       "<tr><td>training_function_5337a_00023</td><td>PENDING   </td><td>                  </td><td style=\"text-align: right;\"> 0.5</td><td style=\"text-align: right;\"> 1  </td><td style=\"text-align: right;\">      </td><td style=\"text-align: right;\">                </td><td style=\"text-align: right;\">        </td></tr>\n",
       "<tr><td>training_function_5337a_00024</td><td>PENDING   </td><td>                  </td><td style=\"text-align: right;\"> 1  </td><td style=\"text-align: right;\"> 1  </td><td style=\"text-align: right;\">      </td><td style=\"text-align: right;\">                </td><td style=\"text-align: right;\">        </td></tr>\n",
       "<tr><td>training_function_5337a_00000</td><td>TERMINATED</td><td>192.168.2.133:2124</td><td style=\"text-align: right;\">-1  </td><td style=\"text-align: right;\">-1  </td><td style=\"text-align: right;\">     1</td><td style=\"text-align: right;\">         10.0198</td><td style=\"text-align: right;\">1       </td></tr>\n",
       "<tr><td>training_function_5337a_00001</td><td>TERMINATED</td><td>192.168.2.133:2185</td><td style=\"text-align: right;\">-0.5</td><td style=\"text-align: right;\">-1  </td><td style=\"text-align: right;\">     1</td><td style=\"text-align: right;\">         10.0095</td><td style=\"text-align: right;\">0.790569</td></tr>\n",
       "<tr><td>training_function_5337a_00002</td><td>TERMINATED</td><td>192.168.2.133:2247</td><td style=\"text-align: right;\"> 0  </td><td style=\"text-align: right;\">-1  </td><td style=\"text-align: right;\">     1</td><td style=\"text-align: right;\">         10.0104</td><td style=\"text-align: right;\">0.707107</td></tr>\n",
       "<tr><td>training_function_5337a_00003</td><td>TERMINATED</td><td>192.168.2.133:2308</td><td style=\"text-align: right;\"> 0.5</td><td style=\"text-align: right;\">-1  </td><td style=\"text-align: right;\">     1</td><td style=\"text-align: right;\">         10.0092</td><td style=\"text-align: right;\">0.790569</td></tr>\n",
       "<tr><td>training_function_5337a_00004</td><td>TERMINATED</td><td>192.168.2.133:2369</td><td style=\"text-align: right;\"> 1  </td><td style=\"text-align: right;\">-1  </td><td style=\"text-align: right;\">     1</td><td style=\"text-align: right;\">         10.0141</td><td style=\"text-align: right;\">1       </td></tr>\n",
       "<tr><td>training_function_5337a_00005</td><td>TERMINATED</td><td>192.168.2.133:2428</td><td style=\"text-align: right;\">-1  </td><td style=\"text-align: right;\">-0.5</td><td style=\"text-align: right;\">     1</td><td style=\"text-align: right;\">         10.0114</td><td style=\"text-align: right;\">0.790569</td></tr>\n",
       "<tr><td>training_function_5337a_00006</td><td>TERMINATED</td><td>192.168.2.133:2489</td><td style=\"text-align: right;\">-0.5</td><td style=\"text-align: right;\">-0.5</td><td style=\"text-align: right;\">     1</td><td style=\"text-align: right;\">         10.0104</td><td style=\"text-align: right;\">0.5     </td></tr>\n",
       "<tr><td>training_function_5337a_00007</td><td>TERMINATED</td><td>192.168.2.133:2551</td><td style=\"text-align: right;\"> 0  </td><td style=\"text-align: right;\">-0.5</td><td style=\"text-align: right;\">     1</td><td style=\"text-align: right;\">         10.0056</td><td style=\"text-align: right;\">0.353553</td></tr>\n",
       "<tr><td>training_function_5337a_00008</td><td>TERMINATED</td><td>192.168.2.133:2612</td><td style=\"text-align: right;\"> 0.5</td><td style=\"text-align: right;\">-0.5</td><td style=\"text-align: right;\">     1</td><td style=\"text-align: right;\">         10.0102</td><td style=\"text-align: right;\">0.5     </td></tr>\n",
       "<tr><td>training_function_5337a_00009</td><td>TERMINATED</td><td>192.168.2.133:2672</td><td style=\"text-align: right;\"> 1  </td><td style=\"text-align: right;\">-0.5</td><td style=\"text-align: right;\">     1</td><td style=\"text-align: right;\">         10.0087</td><td style=\"text-align: right;\">0.790569</td></tr>\n",
       "<tr><td>training_function_5337a_00010</td><td>TERMINATED</td><td>192.168.2.133:2744</td><td style=\"text-align: right;\">-1  </td><td style=\"text-align: right;\"> 0  </td><td style=\"text-align: right;\">     1</td><td style=\"text-align: right;\">         10.012 </td><td style=\"text-align: right;\">0.707107</td></tr>\n",
       "<tr><td>training_function_5337a_00011</td><td>TERMINATED</td><td>192.168.2.133:2807</td><td style=\"text-align: right;\">-0.5</td><td style=\"text-align: right;\"> 0  </td><td style=\"text-align: right;\">     1</td><td style=\"text-align: right;\">         10.0101</td><td style=\"text-align: right;\">0.353553</td></tr>\n",
       "<tr><td>training_function_5337a_00012</td><td>TERMINATED</td><td>192.168.2.133:2868</td><td style=\"text-align: right;\"> 0  </td><td style=\"text-align: right;\"> 0  </td><td style=\"text-align: right;\">     1</td><td style=\"text-align: right;\">         10.0092</td><td style=\"text-align: right;\">0       </td></tr>\n",
       "<tr><td>training_function_5337a_00013</td><td>TERMINATED</td><td>192.168.2.133:2930</td><td style=\"text-align: right;\"> 0.5</td><td style=\"text-align: right;\"> 0  </td><td style=\"text-align: right;\">     1</td><td style=\"text-align: right;\">         10.0096</td><td style=\"text-align: right;\">0.353553</td></tr>\n",
       "<tr><td>training_function_5337a_00014</td><td>TERMINATED</td><td>192.168.2.133:3006</td><td style=\"text-align: right;\"> 1  </td><td style=\"text-align: right;\"> 0  </td><td style=\"text-align: right;\">     1</td><td style=\"text-align: right;\">         10.0092</td><td style=\"text-align: right;\">0.707107</td></tr>\n",
       "<tr><td>training_function_5337a_00015</td><td>TERMINATED</td><td>192.168.2.133:3068</td><td style=\"text-align: right;\">-1  </td><td style=\"text-align: right;\"> 0.5</td><td style=\"text-align: right;\">     1</td><td style=\"text-align: right;\">         10.0128</td><td style=\"text-align: right;\">0.790569</td></tr>\n",
       "</tbody>\n",
       "</table><br>... 5 more trials not shown (5 TERMINATED)<br><br>"
      ],
      "text/plain": [
       "<IPython.core.display.HTML object>"
      ]
     },
     "metadata": {},
     "output_type": "display_data"
    },
    {
     "data": {
      "text/html": [
       "== Status ==<br>Current time: 2022-04-30 11:29:33 (running for 00:05:08.49)<br>Memory usage on this node: 1.6/1.9 GiB<br>Using FIFO scheduling algorithm.<br>Resources requested: 1.0/1 CPUs, 0/0 GPUs, 0.0/0.37 GiB heap, 0.0/0.18 GiB objects<br>Result logdir: /home/ubuntu/ray_results/training_function_2022-04-30_11-24-24<br>Number of trials: 25/25 (3 PENDING, 1 RUNNING, 21 TERMINATED)<br><table>\n",
       "<thead>\n",
       "<tr><th>Trial name                   </th><th>status    </th><th>loc               </th><th style=\"text-align: right;\">   x</th><th style=\"text-align: right;\">   y</th><th style=\"text-align: right;\">  iter</th><th style=\"text-align: right;\">  total time (s)</th><th style=\"text-align: right;\">   score</th></tr>\n",
       "</thead>\n",
       "<tbody>\n",
       "<tr><td>training_function_5337a_00021</td><td>RUNNING   </td><td>192.168.2.133:3414</td><td style=\"text-align: right;\">-0.5</td><td style=\"text-align: right;\"> 1  </td><td style=\"text-align: right;\">      </td><td style=\"text-align: right;\">                </td><td style=\"text-align: right;\">        </td></tr>\n",
       "<tr><td>training_function_5337a_00022</td><td>PENDING   </td><td>                  </td><td style=\"text-align: right;\"> 0  </td><td style=\"text-align: right;\"> 1  </td><td style=\"text-align: right;\">      </td><td style=\"text-align: right;\">                </td><td style=\"text-align: right;\">        </td></tr>\n",
       "<tr><td>training_function_5337a_00023</td><td>PENDING   </td><td>                  </td><td style=\"text-align: right;\"> 0.5</td><td style=\"text-align: right;\"> 1  </td><td style=\"text-align: right;\">      </td><td style=\"text-align: right;\">                </td><td style=\"text-align: right;\">        </td></tr>\n",
       "<tr><td>training_function_5337a_00024</td><td>PENDING   </td><td>                  </td><td style=\"text-align: right;\"> 1  </td><td style=\"text-align: right;\"> 1  </td><td style=\"text-align: right;\">      </td><td style=\"text-align: right;\">                </td><td style=\"text-align: right;\">        </td></tr>\n",
       "<tr><td>training_function_5337a_00000</td><td>TERMINATED</td><td>192.168.2.133:2124</td><td style=\"text-align: right;\">-1  </td><td style=\"text-align: right;\">-1  </td><td style=\"text-align: right;\">     1</td><td style=\"text-align: right;\">         10.0198</td><td style=\"text-align: right;\">1       </td></tr>\n",
       "<tr><td>training_function_5337a_00001</td><td>TERMINATED</td><td>192.168.2.133:2185</td><td style=\"text-align: right;\">-0.5</td><td style=\"text-align: right;\">-1  </td><td style=\"text-align: right;\">     1</td><td style=\"text-align: right;\">         10.0095</td><td style=\"text-align: right;\">0.790569</td></tr>\n",
       "<tr><td>training_function_5337a_00002</td><td>TERMINATED</td><td>192.168.2.133:2247</td><td style=\"text-align: right;\"> 0  </td><td style=\"text-align: right;\">-1  </td><td style=\"text-align: right;\">     1</td><td style=\"text-align: right;\">         10.0104</td><td style=\"text-align: right;\">0.707107</td></tr>\n",
       "<tr><td>training_function_5337a_00003</td><td>TERMINATED</td><td>192.168.2.133:2308</td><td style=\"text-align: right;\"> 0.5</td><td style=\"text-align: right;\">-1  </td><td style=\"text-align: right;\">     1</td><td style=\"text-align: right;\">         10.0092</td><td style=\"text-align: right;\">0.790569</td></tr>\n",
       "<tr><td>training_function_5337a_00004</td><td>TERMINATED</td><td>192.168.2.133:2369</td><td style=\"text-align: right;\"> 1  </td><td style=\"text-align: right;\">-1  </td><td style=\"text-align: right;\">     1</td><td style=\"text-align: right;\">         10.0141</td><td style=\"text-align: right;\">1       </td></tr>\n",
       "<tr><td>training_function_5337a_00005</td><td>TERMINATED</td><td>192.168.2.133:2428</td><td style=\"text-align: right;\">-1  </td><td style=\"text-align: right;\">-0.5</td><td style=\"text-align: right;\">     1</td><td style=\"text-align: right;\">         10.0114</td><td style=\"text-align: right;\">0.790569</td></tr>\n",
       "<tr><td>training_function_5337a_00006</td><td>TERMINATED</td><td>192.168.2.133:2489</td><td style=\"text-align: right;\">-0.5</td><td style=\"text-align: right;\">-0.5</td><td style=\"text-align: right;\">     1</td><td style=\"text-align: right;\">         10.0104</td><td style=\"text-align: right;\">0.5     </td></tr>\n",
       "<tr><td>training_function_5337a_00007</td><td>TERMINATED</td><td>192.168.2.133:2551</td><td style=\"text-align: right;\"> 0  </td><td style=\"text-align: right;\">-0.5</td><td style=\"text-align: right;\">     1</td><td style=\"text-align: right;\">         10.0056</td><td style=\"text-align: right;\">0.353553</td></tr>\n",
       "<tr><td>training_function_5337a_00008</td><td>TERMINATED</td><td>192.168.2.133:2612</td><td style=\"text-align: right;\"> 0.5</td><td style=\"text-align: right;\">-0.5</td><td style=\"text-align: right;\">     1</td><td style=\"text-align: right;\">         10.0102</td><td style=\"text-align: right;\">0.5     </td></tr>\n",
       "<tr><td>training_function_5337a_00009</td><td>TERMINATED</td><td>192.168.2.133:2672</td><td style=\"text-align: right;\"> 1  </td><td style=\"text-align: right;\">-0.5</td><td style=\"text-align: right;\">     1</td><td style=\"text-align: right;\">         10.0087</td><td style=\"text-align: right;\">0.790569</td></tr>\n",
       "<tr><td>training_function_5337a_00010</td><td>TERMINATED</td><td>192.168.2.133:2744</td><td style=\"text-align: right;\">-1  </td><td style=\"text-align: right;\"> 0  </td><td style=\"text-align: right;\">     1</td><td style=\"text-align: right;\">         10.012 </td><td style=\"text-align: right;\">0.707107</td></tr>\n",
       "<tr><td>training_function_5337a_00011</td><td>TERMINATED</td><td>192.168.2.133:2807</td><td style=\"text-align: right;\">-0.5</td><td style=\"text-align: right;\"> 0  </td><td style=\"text-align: right;\">     1</td><td style=\"text-align: right;\">         10.0101</td><td style=\"text-align: right;\">0.353553</td></tr>\n",
       "<tr><td>training_function_5337a_00012</td><td>TERMINATED</td><td>192.168.2.133:2868</td><td style=\"text-align: right;\"> 0  </td><td style=\"text-align: right;\"> 0  </td><td style=\"text-align: right;\">     1</td><td style=\"text-align: right;\">         10.0092</td><td style=\"text-align: right;\">0       </td></tr>\n",
       "<tr><td>training_function_5337a_00013</td><td>TERMINATED</td><td>192.168.2.133:2930</td><td style=\"text-align: right;\"> 0.5</td><td style=\"text-align: right;\"> 0  </td><td style=\"text-align: right;\">     1</td><td style=\"text-align: right;\">         10.0096</td><td style=\"text-align: right;\">0.353553</td></tr>\n",
       "<tr><td>training_function_5337a_00014</td><td>TERMINATED</td><td>192.168.2.133:3006</td><td style=\"text-align: right;\"> 1  </td><td style=\"text-align: right;\"> 0  </td><td style=\"text-align: right;\">     1</td><td style=\"text-align: right;\">         10.0092</td><td style=\"text-align: right;\">0.707107</td></tr>\n",
       "<tr><td>training_function_5337a_00015</td><td>TERMINATED</td><td>192.168.2.133:3068</td><td style=\"text-align: right;\">-1  </td><td style=\"text-align: right;\"> 0.5</td><td style=\"text-align: right;\">     1</td><td style=\"text-align: right;\">         10.0128</td><td style=\"text-align: right;\">0.790569</td></tr>\n",
       "</tbody>\n",
       "</table><br>... 5 more trials not shown (5 TERMINATED)<br><br>"
      ],
      "text/plain": [
       "<IPython.core.display.HTML object>"
      ]
     },
     "metadata": {},
     "output_type": "display_data"
    },
    {
     "name": "stdout",
     "output_type": "stream",
     "text": [
      "Result for training_function_5337a_00021:\n",
      "  date: 2022-04-30_11-29-35\n",
      "  done: false\n",
      "  experiment_id: ed977f0756524f978f5478905b2648f2\n",
      "  hostname: patrick-c3-1\n",
      "  iterations_since_restore: 1\n",
      "  node_ip: 192.168.2.133\n",
      "  pid: 3414\n",
      "  score: 0.7905694150420949\n",
      "  time_since_restore: 10.009966135025024\n",
      "  time_this_iter_s: 10.009966135025024\n",
      "  time_total_s: 10.009966135025024\n",
      "  timestamp: 1651310975\n",
      "  timesteps_since_restore: 0\n",
      "  training_iteration: 1\n",
      "  trial_id: 5337a_00021\n",
      "  warmup_time: 0.0056915283203125\n",
      "  \n",
      "Result for training_function_5337a_00021:\n",
      "  date: 2022-04-30_11-29-35\n",
      "  done: true\n",
      "  experiment_id: ed977f0756524f978f5478905b2648f2\n",
      "  experiment_tag: 21_x=-0.5,y=1\n",
      "  hostname: patrick-c3-1\n",
      "  iterations_since_restore: 1\n",
      "  node_ip: 192.168.2.133\n",
      "  pid: 3414\n",
      "  score: 0.7905694150420949\n",
      "  time_since_restore: 10.009966135025024\n",
      "  time_this_iter_s: 10.009966135025024\n",
      "  time_total_s: 10.009966135025024\n",
      "  timestamp: 1651310975\n",
      "  timesteps_since_restore: 0\n",
      "  training_iteration: 1\n",
      "  trial_id: 5337a_00021\n",
      "  warmup_time: 0.0056915283203125\n",
      "  \n"
     ]
    },
    {
     "name": "stderr",
     "output_type": "stream",
     "text": [
      "2022-04-30 11:29:37,048\tINFO trial_runner.py:803 -- starting training_function_5337a_00022\n"
     ]
    },
    {
     "data": {
      "text/html": [
       "== Status ==<br>Current time: 2022-04-30 11:29:42 (running for 00:05:17.47)<br>Memory usage on this node: 1.6/1.9 GiB<br>Using FIFO scheduling algorithm.<br>Resources requested: 1.0/1 CPUs, 0/0 GPUs, 0.0/0.37 GiB heap, 0.0/0.18 GiB objects<br>Result logdir: /home/ubuntu/ray_results/training_function_2022-04-30_11-24-24<br>Number of trials: 25/25 (2 PENDING, 1 RUNNING, 22 TERMINATED)<br><table>\n",
       "<thead>\n",
       "<tr><th>Trial name                   </th><th>status    </th><th>loc               </th><th style=\"text-align: right;\">   x</th><th style=\"text-align: right;\">   y</th><th style=\"text-align: right;\">  iter</th><th style=\"text-align: right;\">  total time (s)</th><th style=\"text-align: right;\">   score</th></tr>\n",
       "</thead>\n",
       "<tbody>\n",
       "<tr><td>training_function_5337a_00022</td><td>RUNNING   </td><td>192.168.2.133:3472</td><td style=\"text-align: right;\"> 0  </td><td style=\"text-align: right;\"> 1  </td><td style=\"text-align: right;\">      </td><td style=\"text-align: right;\">                </td><td style=\"text-align: right;\">        </td></tr>\n",
       "<tr><td>training_function_5337a_00023</td><td>PENDING   </td><td>                  </td><td style=\"text-align: right;\"> 0.5</td><td style=\"text-align: right;\"> 1  </td><td style=\"text-align: right;\">      </td><td style=\"text-align: right;\">                </td><td style=\"text-align: right;\">        </td></tr>\n",
       "<tr><td>training_function_5337a_00024</td><td>PENDING   </td><td>                  </td><td style=\"text-align: right;\"> 1  </td><td style=\"text-align: right;\"> 1  </td><td style=\"text-align: right;\">      </td><td style=\"text-align: right;\">                </td><td style=\"text-align: right;\">        </td></tr>\n",
       "<tr><td>training_function_5337a_00000</td><td>TERMINATED</td><td>192.168.2.133:2124</td><td style=\"text-align: right;\">-1  </td><td style=\"text-align: right;\">-1  </td><td style=\"text-align: right;\">     1</td><td style=\"text-align: right;\">         10.0198</td><td style=\"text-align: right;\">1       </td></tr>\n",
       "<tr><td>training_function_5337a_00001</td><td>TERMINATED</td><td>192.168.2.133:2185</td><td style=\"text-align: right;\">-0.5</td><td style=\"text-align: right;\">-1  </td><td style=\"text-align: right;\">     1</td><td style=\"text-align: right;\">         10.0095</td><td style=\"text-align: right;\">0.790569</td></tr>\n",
       "<tr><td>training_function_5337a_00002</td><td>TERMINATED</td><td>192.168.2.133:2247</td><td style=\"text-align: right;\"> 0  </td><td style=\"text-align: right;\">-1  </td><td style=\"text-align: right;\">     1</td><td style=\"text-align: right;\">         10.0104</td><td style=\"text-align: right;\">0.707107</td></tr>\n",
       "<tr><td>training_function_5337a_00003</td><td>TERMINATED</td><td>192.168.2.133:2308</td><td style=\"text-align: right;\"> 0.5</td><td style=\"text-align: right;\">-1  </td><td style=\"text-align: right;\">     1</td><td style=\"text-align: right;\">         10.0092</td><td style=\"text-align: right;\">0.790569</td></tr>\n",
       "<tr><td>training_function_5337a_00004</td><td>TERMINATED</td><td>192.168.2.133:2369</td><td style=\"text-align: right;\"> 1  </td><td style=\"text-align: right;\">-1  </td><td style=\"text-align: right;\">     1</td><td style=\"text-align: right;\">         10.0141</td><td style=\"text-align: right;\">1       </td></tr>\n",
       "<tr><td>training_function_5337a_00005</td><td>TERMINATED</td><td>192.168.2.133:2428</td><td style=\"text-align: right;\">-1  </td><td style=\"text-align: right;\">-0.5</td><td style=\"text-align: right;\">     1</td><td style=\"text-align: right;\">         10.0114</td><td style=\"text-align: right;\">0.790569</td></tr>\n",
       "<tr><td>training_function_5337a_00006</td><td>TERMINATED</td><td>192.168.2.133:2489</td><td style=\"text-align: right;\">-0.5</td><td style=\"text-align: right;\">-0.5</td><td style=\"text-align: right;\">     1</td><td style=\"text-align: right;\">         10.0104</td><td style=\"text-align: right;\">0.5     </td></tr>\n",
       "<tr><td>training_function_5337a_00007</td><td>TERMINATED</td><td>192.168.2.133:2551</td><td style=\"text-align: right;\"> 0  </td><td style=\"text-align: right;\">-0.5</td><td style=\"text-align: right;\">     1</td><td style=\"text-align: right;\">         10.0056</td><td style=\"text-align: right;\">0.353553</td></tr>\n",
       "<tr><td>training_function_5337a_00008</td><td>TERMINATED</td><td>192.168.2.133:2612</td><td style=\"text-align: right;\"> 0.5</td><td style=\"text-align: right;\">-0.5</td><td style=\"text-align: right;\">     1</td><td style=\"text-align: right;\">         10.0102</td><td style=\"text-align: right;\">0.5     </td></tr>\n",
       "<tr><td>training_function_5337a_00009</td><td>TERMINATED</td><td>192.168.2.133:2672</td><td style=\"text-align: right;\"> 1  </td><td style=\"text-align: right;\">-0.5</td><td style=\"text-align: right;\">     1</td><td style=\"text-align: right;\">         10.0087</td><td style=\"text-align: right;\">0.790569</td></tr>\n",
       "<tr><td>training_function_5337a_00010</td><td>TERMINATED</td><td>192.168.2.133:2744</td><td style=\"text-align: right;\">-1  </td><td style=\"text-align: right;\"> 0  </td><td style=\"text-align: right;\">     1</td><td style=\"text-align: right;\">         10.012 </td><td style=\"text-align: right;\">0.707107</td></tr>\n",
       "<tr><td>training_function_5337a_00011</td><td>TERMINATED</td><td>192.168.2.133:2807</td><td style=\"text-align: right;\">-0.5</td><td style=\"text-align: right;\"> 0  </td><td style=\"text-align: right;\">     1</td><td style=\"text-align: right;\">         10.0101</td><td style=\"text-align: right;\">0.353553</td></tr>\n",
       "<tr><td>training_function_5337a_00012</td><td>TERMINATED</td><td>192.168.2.133:2868</td><td style=\"text-align: right;\"> 0  </td><td style=\"text-align: right;\"> 0  </td><td style=\"text-align: right;\">     1</td><td style=\"text-align: right;\">         10.0092</td><td style=\"text-align: right;\">0       </td></tr>\n",
       "<tr><td>training_function_5337a_00013</td><td>TERMINATED</td><td>192.168.2.133:2930</td><td style=\"text-align: right;\"> 0.5</td><td style=\"text-align: right;\"> 0  </td><td style=\"text-align: right;\">     1</td><td style=\"text-align: right;\">         10.0096</td><td style=\"text-align: right;\">0.353553</td></tr>\n",
       "<tr><td>training_function_5337a_00014</td><td>TERMINATED</td><td>192.168.2.133:3006</td><td style=\"text-align: right;\"> 1  </td><td style=\"text-align: right;\"> 0  </td><td style=\"text-align: right;\">     1</td><td style=\"text-align: right;\">         10.0092</td><td style=\"text-align: right;\">0.707107</td></tr>\n",
       "<tr><td>training_function_5337a_00015</td><td>TERMINATED</td><td>192.168.2.133:3068</td><td style=\"text-align: right;\">-1  </td><td style=\"text-align: right;\"> 0.5</td><td style=\"text-align: right;\">     1</td><td style=\"text-align: right;\">         10.0128</td><td style=\"text-align: right;\">0.790569</td></tr>\n",
       "<tr><td>training_function_5337a_00016</td><td>TERMINATED</td><td>192.168.2.133:3125</td><td style=\"text-align: right;\">-0.5</td><td style=\"text-align: right;\"> 0.5</td><td style=\"text-align: right;\">     1</td><td style=\"text-align: right;\">         10.0121</td><td style=\"text-align: right;\">0.5     </td></tr>\n",
       "</tbody>\n",
       "</table><br>... 5 more trials not shown (5 TERMINATED)<br><br>"
      ],
      "text/plain": [
       "<IPython.core.display.HTML object>"
      ]
     },
     "metadata": {},
     "output_type": "display_data"
    },
    {
     "data": {
      "text/html": [
       "== Status ==<br>Current time: 2022-04-30 11:29:47 (running for 00:05:22.50)<br>Memory usage on this node: 1.6/1.9 GiB<br>Using FIFO scheduling algorithm.<br>Resources requested: 1.0/1 CPUs, 0/0 GPUs, 0.0/0.37 GiB heap, 0.0/0.18 GiB objects<br>Result logdir: /home/ubuntu/ray_results/training_function_2022-04-30_11-24-24<br>Number of trials: 25/25 (2 PENDING, 1 RUNNING, 22 TERMINATED)<br><table>\n",
       "<thead>\n",
       "<tr><th>Trial name                   </th><th>status    </th><th>loc               </th><th style=\"text-align: right;\">   x</th><th style=\"text-align: right;\">   y</th><th style=\"text-align: right;\">  iter</th><th style=\"text-align: right;\">  total time (s)</th><th style=\"text-align: right;\">   score</th></tr>\n",
       "</thead>\n",
       "<tbody>\n",
       "<tr><td>training_function_5337a_00022</td><td>RUNNING   </td><td>192.168.2.133:3472</td><td style=\"text-align: right;\"> 0  </td><td style=\"text-align: right;\"> 1  </td><td style=\"text-align: right;\">      </td><td style=\"text-align: right;\">                </td><td style=\"text-align: right;\">        </td></tr>\n",
       "<tr><td>training_function_5337a_00023</td><td>PENDING   </td><td>                  </td><td style=\"text-align: right;\"> 0.5</td><td style=\"text-align: right;\"> 1  </td><td style=\"text-align: right;\">      </td><td style=\"text-align: right;\">                </td><td style=\"text-align: right;\">        </td></tr>\n",
       "<tr><td>training_function_5337a_00024</td><td>PENDING   </td><td>                  </td><td style=\"text-align: right;\"> 1  </td><td style=\"text-align: right;\"> 1  </td><td style=\"text-align: right;\">      </td><td style=\"text-align: right;\">                </td><td style=\"text-align: right;\">        </td></tr>\n",
       "<tr><td>training_function_5337a_00000</td><td>TERMINATED</td><td>192.168.2.133:2124</td><td style=\"text-align: right;\">-1  </td><td style=\"text-align: right;\">-1  </td><td style=\"text-align: right;\">     1</td><td style=\"text-align: right;\">         10.0198</td><td style=\"text-align: right;\">1       </td></tr>\n",
       "<tr><td>training_function_5337a_00001</td><td>TERMINATED</td><td>192.168.2.133:2185</td><td style=\"text-align: right;\">-0.5</td><td style=\"text-align: right;\">-1  </td><td style=\"text-align: right;\">     1</td><td style=\"text-align: right;\">         10.0095</td><td style=\"text-align: right;\">0.790569</td></tr>\n",
       "<tr><td>training_function_5337a_00002</td><td>TERMINATED</td><td>192.168.2.133:2247</td><td style=\"text-align: right;\"> 0  </td><td style=\"text-align: right;\">-1  </td><td style=\"text-align: right;\">     1</td><td style=\"text-align: right;\">         10.0104</td><td style=\"text-align: right;\">0.707107</td></tr>\n",
       "<tr><td>training_function_5337a_00003</td><td>TERMINATED</td><td>192.168.2.133:2308</td><td style=\"text-align: right;\"> 0.5</td><td style=\"text-align: right;\">-1  </td><td style=\"text-align: right;\">     1</td><td style=\"text-align: right;\">         10.0092</td><td style=\"text-align: right;\">0.790569</td></tr>\n",
       "<tr><td>training_function_5337a_00004</td><td>TERMINATED</td><td>192.168.2.133:2369</td><td style=\"text-align: right;\"> 1  </td><td style=\"text-align: right;\">-1  </td><td style=\"text-align: right;\">     1</td><td style=\"text-align: right;\">         10.0141</td><td style=\"text-align: right;\">1       </td></tr>\n",
       "<tr><td>training_function_5337a_00005</td><td>TERMINATED</td><td>192.168.2.133:2428</td><td style=\"text-align: right;\">-1  </td><td style=\"text-align: right;\">-0.5</td><td style=\"text-align: right;\">     1</td><td style=\"text-align: right;\">         10.0114</td><td style=\"text-align: right;\">0.790569</td></tr>\n",
       "<tr><td>training_function_5337a_00006</td><td>TERMINATED</td><td>192.168.2.133:2489</td><td style=\"text-align: right;\">-0.5</td><td style=\"text-align: right;\">-0.5</td><td style=\"text-align: right;\">     1</td><td style=\"text-align: right;\">         10.0104</td><td style=\"text-align: right;\">0.5     </td></tr>\n",
       "<tr><td>training_function_5337a_00007</td><td>TERMINATED</td><td>192.168.2.133:2551</td><td style=\"text-align: right;\"> 0  </td><td style=\"text-align: right;\">-0.5</td><td style=\"text-align: right;\">     1</td><td style=\"text-align: right;\">         10.0056</td><td style=\"text-align: right;\">0.353553</td></tr>\n",
       "<tr><td>training_function_5337a_00008</td><td>TERMINATED</td><td>192.168.2.133:2612</td><td style=\"text-align: right;\"> 0.5</td><td style=\"text-align: right;\">-0.5</td><td style=\"text-align: right;\">     1</td><td style=\"text-align: right;\">         10.0102</td><td style=\"text-align: right;\">0.5     </td></tr>\n",
       "<tr><td>training_function_5337a_00009</td><td>TERMINATED</td><td>192.168.2.133:2672</td><td style=\"text-align: right;\"> 1  </td><td style=\"text-align: right;\">-0.5</td><td style=\"text-align: right;\">     1</td><td style=\"text-align: right;\">         10.0087</td><td style=\"text-align: right;\">0.790569</td></tr>\n",
       "<tr><td>training_function_5337a_00010</td><td>TERMINATED</td><td>192.168.2.133:2744</td><td style=\"text-align: right;\">-1  </td><td style=\"text-align: right;\"> 0  </td><td style=\"text-align: right;\">     1</td><td style=\"text-align: right;\">         10.012 </td><td style=\"text-align: right;\">0.707107</td></tr>\n",
       "<tr><td>training_function_5337a_00011</td><td>TERMINATED</td><td>192.168.2.133:2807</td><td style=\"text-align: right;\">-0.5</td><td style=\"text-align: right;\"> 0  </td><td style=\"text-align: right;\">     1</td><td style=\"text-align: right;\">         10.0101</td><td style=\"text-align: right;\">0.353553</td></tr>\n",
       "<tr><td>training_function_5337a_00012</td><td>TERMINATED</td><td>192.168.2.133:2868</td><td style=\"text-align: right;\"> 0  </td><td style=\"text-align: right;\"> 0  </td><td style=\"text-align: right;\">     1</td><td style=\"text-align: right;\">         10.0092</td><td style=\"text-align: right;\">0       </td></tr>\n",
       "<tr><td>training_function_5337a_00013</td><td>TERMINATED</td><td>192.168.2.133:2930</td><td style=\"text-align: right;\"> 0.5</td><td style=\"text-align: right;\"> 0  </td><td style=\"text-align: right;\">     1</td><td style=\"text-align: right;\">         10.0096</td><td style=\"text-align: right;\">0.353553</td></tr>\n",
       "<tr><td>training_function_5337a_00014</td><td>TERMINATED</td><td>192.168.2.133:3006</td><td style=\"text-align: right;\"> 1  </td><td style=\"text-align: right;\"> 0  </td><td style=\"text-align: right;\">     1</td><td style=\"text-align: right;\">         10.0092</td><td style=\"text-align: right;\">0.707107</td></tr>\n",
       "<tr><td>training_function_5337a_00015</td><td>TERMINATED</td><td>192.168.2.133:3068</td><td style=\"text-align: right;\">-1  </td><td style=\"text-align: right;\"> 0.5</td><td style=\"text-align: right;\">     1</td><td style=\"text-align: right;\">         10.0128</td><td style=\"text-align: right;\">0.790569</td></tr>\n",
       "<tr><td>training_function_5337a_00016</td><td>TERMINATED</td><td>192.168.2.133:3125</td><td style=\"text-align: right;\">-0.5</td><td style=\"text-align: right;\"> 0.5</td><td style=\"text-align: right;\">     1</td><td style=\"text-align: right;\">         10.0121</td><td style=\"text-align: right;\">0.5     </td></tr>\n",
       "</tbody>\n",
       "</table><br>... 5 more trials not shown (5 TERMINATED)<br><br>"
      ],
      "text/plain": [
       "<IPython.core.display.HTML object>"
      ]
     },
     "metadata": {},
     "output_type": "display_data"
    },
    {
     "name": "stdout",
     "output_type": "stream",
     "text": [
      "Result for training_function_5337a_00022:\n",
      "  date: 2022-04-30_11-29-49\n",
      "  done: false\n",
      "  experiment_id: dff2cc530d174d5bb3c38b4f39a702bc\n",
      "  hostname: patrick-c3-1\n",
      "  iterations_since_restore: 1\n",
      "  node_ip: 192.168.2.133\n",
      "  pid: 3472\n",
      "  score: 0.7071067811865476\n",
      "  time_since_restore: 10.009570837020874\n",
      "  time_this_iter_s: 10.009570837020874\n",
      "  time_total_s: 10.009570837020874\n",
      "  timestamp: 1651310989\n",
      "  timesteps_since_restore: 0\n",
      "  training_iteration: 1\n",
      "  trial_id: 5337a_00022\n",
      "  warmup_time: 0.009185552597045898\n",
      "  \n",
      "Result for training_function_5337a_00022:\n",
      "  date: 2022-04-30_11-29-49\n",
      "  done: true\n",
      "  experiment_id: dff2cc530d174d5bb3c38b4f39a702bc\n",
      "  experiment_tag: 22_x=0,y=1\n",
      "  hostname: patrick-c3-1\n",
      "  iterations_since_restore: 1\n",
      "  node_ip: 192.168.2.133\n",
      "  pid: 3472\n",
      "  score: 0.7071067811865476\n",
      "  time_since_restore: 10.009570837020874\n",
      "  time_this_iter_s: 10.009570837020874\n",
      "  time_total_s: 10.009570837020874\n",
      "  timestamp: 1651310989\n",
      "  timesteps_since_restore: 0\n",
      "  training_iteration: 1\n",
      "  trial_id: 5337a_00022\n",
      "  warmup_time: 0.009185552597045898\n",
      "  \n"
     ]
    },
    {
     "name": "stderr",
     "output_type": "stream",
     "text": [
      "2022-04-30 11:29:51,029\tINFO trial_runner.py:803 -- starting training_function_5337a_00023\n"
     ]
    },
    {
     "data": {
      "text/html": [
       "== Status ==<br>Current time: 2022-04-30 11:29:56 (running for 00:05:31.46)<br>Memory usage on this node: 1.6/1.9 GiB<br>Using FIFO scheduling algorithm.<br>Resources requested: 1.0/1 CPUs, 0/0 GPUs, 0.0/0.37 GiB heap, 0.0/0.18 GiB objects<br>Result logdir: /home/ubuntu/ray_results/training_function_2022-04-30_11-24-24<br>Number of trials: 25/25 (1 PENDING, 1 RUNNING, 23 TERMINATED)<br><table>\n",
       "<thead>\n",
       "<tr><th>Trial name                   </th><th>status    </th><th>loc               </th><th style=\"text-align: right;\">   x</th><th style=\"text-align: right;\">   y</th><th style=\"text-align: right;\">  iter</th><th style=\"text-align: right;\">  total time (s)</th><th style=\"text-align: right;\">   score</th></tr>\n",
       "</thead>\n",
       "<tbody>\n",
       "<tr><td>training_function_5337a_00023</td><td>RUNNING   </td><td>192.168.2.133:3529</td><td style=\"text-align: right;\"> 0.5</td><td style=\"text-align: right;\"> 1  </td><td style=\"text-align: right;\">      </td><td style=\"text-align: right;\">                </td><td style=\"text-align: right;\">        </td></tr>\n",
       "<tr><td>training_function_5337a_00024</td><td>PENDING   </td><td>                  </td><td style=\"text-align: right;\"> 1  </td><td style=\"text-align: right;\"> 1  </td><td style=\"text-align: right;\">      </td><td style=\"text-align: right;\">                </td><td style=\"text-align: right;\">        </td></tr>\n",
       "<tr><td>training_function_5337a_00000</td><td>TERMINATED</td><td>192.168.2.133:2124</td><td style=\"text-align: right;\">-1  </td><td style=\"text-align: right;\">-1  </td><td style=\"text-align: right;\">     1</td><td style=\"text-align: right;\">         10.0198</td><td style=\"text-align: right;\">1       </td></tr>\n",
       "<tr><td>training_function_5337a_00001</td><td>TERMINATED</td><td>192.168.2.133:2185</td><td style=\"text-align: right;\">-0.5</td><td style=\"text-align: right;\">-1  </td><td style=\"text-align: right;\">     1</td><td style=\"text-align: right;\">         10.0095</td><td style=\"text-align: right;\">0.790569</td></tr>\n",
       "<tr><td>training_function_5337a_00002</td><td>TERMINATED</td><td>192.168.2.133:2247</td><td style=\"text-align: right;\"> 0  </td><td style=\"text-align: right;\">-1  </td><td style=\"text-align: right;\">     1</td><td style=\"text-align: right;\">         10.0104</td><td style=\"text-align: right;\">0.707107</td></tr>\n",
       "<tr><td>training_function_5337a_00003</td><td>TERMINATED</td><td>192.168.2.133:2308</td><td style=\"text-align: right;\"> 0.5</td><td style=\"text-align: right;\">-1  </td><td style=\"text-align: right;\">     1</td><td style=\"text-align: right;\">         10.0092</td><td style=\"text-align: right;\">0.790569</td></tr>\n",
       "<tr><td>training_function_5337a_00004</td><td>TERMINATED</td><td>192.168.2.133:2369</td><td style=\"text-align: right;\"> 1  </td><td style=\"text-align: right;\">-1  </td><td style=\"text-align: right;\">     1</td><td style=\"text-align: right;\">         10.0141</td><td style=\"text-align: right;\">1       </td></tr>\n",
       "<tr><td>training_function_5337a_00005</td><td>TERMINATED</td><td>192.168.2.133:2428</td><td style=\"text-align: right;\">-1  </td><td style=\"text-align: right;\">-0.5</td><td style=\"text-align: right;\">     1</td><td style=\"text-align: right;\">         10.0114</td><td style=\"text-align: right;\">0.790569</td></tr>\n",
       "<tr><td>training_function_5337a_00006</td><td>TERMINATED</td><td>192.168.2.133:2489</td><td style=\"text-align: right;\">-0.5</td><td style=\"text-align: right;\">-0.5</td><td style=\"text-align: right;\">     1</td><td style=\"text-align: right;\">         10.0104</td><td style=\"text-align: right;\">0.5     </td></tr>\n",
       "<tr><td>training_function_5337a_00007</td><td>TERMINATED</td><td>192.168.2.133:2551</td><td style=\"text-align: right;\"> 0  </td><td style=\"text-align: right;\">-0.5</td><td style=\"text-align: right;\">     1</td><td style=\"text-align: right;\">         10.0056</td><td style=\"text-align: right;\">0.353553</td></tr>\n",
       "<tr><td>training_function_5337a_00008</td><td>TERMINATED</td><td>192.168.2.133:2612</td><td style=\"text-align: right;\"> 0.5</td><td style=\"text-align: right;\">-0.5</td><td style=\"text-align: right;\">     1</td><td style=\"text-align: right;\">         10.0102</td><td style=\"text-align: right;\">0.5     </td></tr>\n",
       "<tr><td>training_function_5337a_00009</td><td>TERMINATED</td><td>192.168.2.133:2672</td><td style=\"text-align: right;\"> 1  </td><td style=\"text-align: right;\">-0.5</td><td style=\"text-align: right;\">     1</td><td style=\"text-align: right;\">         10.0087</td><td style=\"text-align: right;\">0.790569</td></tr>\n",
       "<tr><td>training_function_5337a_00010</td><td>TERMINATED</td><td>192.168.2.133:2744</td><td style=\"text-align: right;\">-1  </td><td style=\"text-align: right;\"> 0  </td><td style=\"text-align: right;\">     1</td><td style=\"text-align: right;\">         10.012 </td><td style=\"text-align: right;\">0.707107</td></tr>\n",
       "<tr><td>training_function_5337a_00011</td><td>TERMINATED</td><td>192.168.2.133:2807</td><td style=\"text-align: right;\">-0.5</td><td style=\"text-align: right;\"> 0  </td><td style=\"text-align: right;\">     1</td><td style=\"text-align: right;\">         10.0101</td><td style=\"text-align: right;\">0.353553</td></tr>\n",
       "<tr><td>training_function_5337a_00012</td><td>TERMINATED</td><td>192.168.2.133:2868</td><td style=\"text-align: right;\"> 0  </td><td style=\"text-align: right;\"> 0  </td><td style=\"text-align: right;\">     1</td><td style=\"text-align: right;\">         10.0092</td><td style=\"text-align: right;\">0       </td></tr>\n",
       "<tr><td>training_function_5337a_00013</td><td>TERMINATED</td><td>192.168.2.133:2930</td><td style=\"text-align: right;\"> 0.5</td><td style=\"text-align: right;\"> 0  </td><td style=\"text-align: right;\">     1</td><td style=\"text-align: right;\">         10.0096</td><td style=\"text-align: right;\">0.353553</td></tr>\n",
       "<tr><td>training_function_5337a_00014</td><td>TERMINATED</td><td>192.168.2.133:3006</td><td style=\"text-align: right;\"> 1  </td><td style=\"text-align: right;\"> 0  </td><td style=\"text-align: right;\">     1</td><td style=\"text-align: right;\">         10.0092</td><td style=\"text-align: right;\">0.707107</td></tr>\n",
       "<tr><td>training_function_5337a_00015</td><td>TERMINATED</td><td>192.168.2.133:3068</td><td style=\"text-align: right;\">-1  </td><td style=\"text-align: right;\"> 0.5</td><td style=\"text-align: right;\">     1</td><td style=\"text-align: right;\">         10.0128</td><td style=\"text-align: right;\">0.790569</td></tr>\n",
       "<tr><td>training_function_5337a_00016</td><td>TERMINATED</td><td>192.168.2.133:3125</td><td style=\"text-align: right;\">-0.5</td><td style=\"text-align: right;\"> 0.5</td><td style=\"text-align: right;\">     1</td><td style=\"text-align: right;\">         10.0121</td><td style=\"text-align: right;\">0.5     </td></tr>\n",
       "<tr><td>training_function_5337a_00017</td><td>TERMINATED</td><td>192.168.2.133:3183</td><td style=\"text-align: right;\"> 0  </td><td style=\"text-align: right;\"> 0.5</td><td style=\"text-align: right;\">     1</td><td style=\"text-align: right;\">         10.0094</td><td style=\"text-align: right;\">0.353553</td></tr>\n",
       "</tbody>\n",
       "</table><br>... 5 more trials not shown (5 TERMINATED)<br><br>"
      ],
      "text/plain": [
       "<IPython.core.display.HTML object>"
      ]
     },
     "metadata": {},
     "output_type": "display_data"
    },
    {
     "data": {
      "text/html": [
       "== Status ==<br>Current time: 2022-04-30 11:30:01 (running for 00:05:36.48)<br>Memory usage on this node: 1.6/1.9 GiB<br>Using FIFO scheduling algorithm.<br>Resources requested: 1.0/1 CPUs, 0/0 GPUs, 0.0/0.37 GiB heap, 0.0/0.18 GiB objects<br>Result logdir: /home/ubuntu/ray_results/training_function_2022-04-30_11-24-24<br>Number of trials: 25/25 (1 PENDING, 1 RUNNING, 23 TERMINATED)<br><table>\n",
       "<thead>\n",
       "<tr><th>Trial name                   </th><th>status    </th><th>loc               </th><th style=\"text-align: right;\">   x</th><th style=\"text-align: right;\">   y</th><th style=\"text-align: right;\">  iter</th><th style=\"text-align: right;\">  total time (s)</th><th style=\"text-align: right;\">   score</th></tr>\n",
       "</thead>\n",
       "<tbody>\n",
       "<tr><td>training_function_5337a_00023</td><td>RUNNING   </td><td>192.168.2.133:3529</td><td style=\"text-align: right;\"> 0.5</td><td style=\"text-align: right;\"> 1  </td><td style=\"text-align: right;\">      </td><td style=\"text-align: right;\">                </td><td style=\"text-align: right;\">        </td></tr>\n",
       "<tr><td>training_function_5337a_00024</td><td>PENDING   </td><td>                  </td><td style=\"text-align: right;\"> 1  </td><td style=\"text-align: right;\"> 1  </td><td style=\"text-align: right;\">      </td><td style=\"text-align: right;\">                </td><td style=\"text-align: right;\">        </td></tr>\n",
       "<tr><td>training_function_5337a_00000</td><td>TERMINATED</td><td>192.168.2.133:2124</td><td style=\"text-align: right;\">-1  </td><td style=\"text-align: right;\">-1  </td><td style=\"text-align: right;\">     1</td><td style=\"text-align: right;\">         10.0198</td><td style=\"text-align: right;\">1       </td></tr>\n",
       "<tr><td>training_function_5337a_00001</td><td>TERMINATED</td><td>192.168.2.133:2185</td><td style=\"text-align: right;\">-0.5</td><td style=\"text-align: right;\">-1  </td><td style=\"text-align: right;\">     1</td><td style=\"text-align: right;\">         10.0095</td><td style=\"text-align: right;\">0.790569</td></tr>\n",
       "<tr><td>training_function_5337a_00002</td><td>TERMINATED</td><td>192.168.2.133:2247</td><td style=\"text-align: right;\"> 0  </td><td style=\"text-align: right;\">-1  </td><td style=\"text-align: right;\">     1</td><td style=\"text-align: right;\">         10.0104</td><td style=\"text-align: right;\">0.707107</td></tr>\n",
       "<tr><td>training_function_5337a_00003</td><td>TERMINATED</td><td>192.168.2.133:2308</td><td style=\"text-align: right;\"> 0.5</td><td style=\"text-align: right;\">-1  </td><td style=\"text-align: right;\">     1</td><td style=\"text-align: right;\">         10.0092</td><td style=\"text-align: right;\">0.790569</td></tr>\n",
       "<tr><td>training_function_5337a_00004</td><td>TERMINATED</td><td>192.168.2.133:2369</td><td style=\"text-align: right;\"> 1  </td><td style=\"text-align: right;\">-1  </td><td style=\"text-align: right;\">     1</td><td style=\"text-align: right;\">         10.0141</td><td style=\"text-align: right;\">1       </td></tr>\n",
       "<tr><td>training_function_5337a_00005</td><td>TERMINATED</td><td>192.168.2.133:2428</td><td style=\"text-align: right;\">-1  </td><td style=\"text-align: right;\">-0.5</td><td style=\"text-align: right;\">     1</td><td style=\"text-align: right;\">         10.0114</td><td style=\"text-align: right;\">0.790569</td></tr>\n",
       "<tr><td>training_function_5337a_00006</td><td>TERMINATED</td><td>192.168.2.133:2489</td><td style=\"text-align: right;\">-0.5</td><td style=\"text-align: right;\">-0.5</td><td style=\"text-align: right;\">     1</td><td style=\"text-align: right;\">         10.0104</td><td style=\"text-align: right;\">0.5     </td></tr>\n",
       "<tr><td>training_function_5337a_00007</td><td>TERMINATED</td><td>192.168.2.133:2551</td><td style=\"text-align: right;\"> 0  </td><td style=\"text-align: right;\">-0.5</td><td style=\"text-align: right;\">     1</td><td style=\"text-align: right;\">         10.0056</td><td style=\"text-align: right;\">0.353553</td></tr>\n",
       "<tr><td>training_function_5337a_00008</td><td>TERMINATED</td><td>192.168.2.133:2612</td><td style=\"text-align: right;\"> 0.5</td><td style=\"text-align: right;\">-0.5</td><td style=\"text-align: right;\">     1</td><td style=\"text-align: right;\">         10.0102</td><td style=\"text-align: right;\">0.5     </td></tr>\n",
       "<tr><td>training_function_5337a_00009</td><td>TERMINATED</td><td>192.168.2.133:2672</td><td style=\"text-align: right;\"> 1  </td><td style=\"text-align: right;\">-0.5</td><td style=\"text-align: right;\">     1</td><td style=\"text-align: right;\">         10.0087</td><td style=\"text-align: right;\">0.790569</td></tr>\n",
       "<tr><td>training_function_5337a_00010</td><td>TERMINATED</td><td>192.168.2.133:2744</td><td style=\"text-align: right;\">-1  </td><td style=\"text-align: right;\"> 0  </td><td style=\"text-align: right;\">     1</td><td style=\"text-align: right;\">         10.012 </td><td style=\"text-align: right;\">0.707107</td></tr>\n",
       "<tr><td>training_function_5337a_00011</td><td>TERMINATED</td><td>192.168.2.133:2807</td><td style=\"text-align: right;\">-0.5</td><td style=\"text-align: right;\"> 0  </td><td style=\"text-align: right;\">     1</td><td style=\"text-align: right;\">         10.0101</td><td style=\"text-align: right;\">0.353553</td></tr>\n",
       "<tr><td>training_function_5337a_00012</td><td>TERMINATED</td><td>192.168.2.133:2868</td><td style=\"text-align: right;\"> 0  </td><td style=\"text-align: right;\"> 0  </td><td style=\"text-align: right;\">     1</td><td style=\"text-align: right;\">         10.0092</td><td style=\"text-align: right;\">0       </td></tr>\n",
       "<tr><td>training_function_5337a_00013</td><td>TERMINATED</td><td>192.168.2.133:2930</td><td style=\"text-align: right;\"> 0.5</td><td style=\"text-align: right;\"> 0  </td><td style=\"text-align: right;\">     1</td><td style=\"text-align: right;\">         10.0096</td><td style=\"text-align: right;\">0.353553</td></tr>\n",
       "<tr><td>training_function_5337a_00014</td><td>TERMINATED</td><td>192.168.2.133:3006</td><td style=\"text-align: right;\"> 1  </td><td style=\"text-align: right;\"> 0  </td><td style=\"text-align: right;\">     1</td><td style=\"text-align: right;\">         10.0092</td><td style=\"text-align: right;\">0.707107</td></tr>\n",
       "<tr><td>training_function_5337a_00015</td><td>TERMINATED</td><td>192.168.2.133:3068</td><td style=\"text-align: right;\">-1  </td><td style=\"text-align: right;\"> 0.5</td><td style=\"text-align: right;\">     1</td><td style=\"text-align: right;\">         10.0128</td><td style=\"text-align: right;\">0.790569</td></tr>\n",
       "<tr><td>training_function_5337a_00016</td><td>TERMINATED</td><td>192.168.2.133:3125</td><td style=\"text-align: right;\">-0.5</td><td style=\"text-align: right;\"> 0.5</td><td style=\"text-align: right;\">     1</td><td style=\"text-align: right;\">         10.0121</td><td style=\"text-align: right;\">0.5     </td></tr>\n",
       "<tr><td>training_function_5337a_00017</td><td>TERMINATED</td><td>192.168.2.133:3183</td><td style=\"text-align: right;\"> 0  </td><td style=\"text-align: right;\"> 0.5</td><td style=\"text-align: right;\">     1</td><td style=\"text-align: right;\">         10.0094</td><td style=\"text-align: right;\">0.353553</td></tr>\n",
       "</tbody>\n",
       "</table><br>... 5 more trials not shown (5 TERMINATED)<br><br>"
      ],
      "text/plain": [
       "<IPython.core.display.HTML object>"
      ]
     },
     "metadata": {},
     "output_type": "display_data"
    },
    {
     "name": "stdout",
     "output_type": "stream",
     "text": [
      "Result for training_function_5337a_00023:\n",
      "  date: 2022-04-30_11-30-03\n",
      "  done: false\n",
      "  experiment_id: 30028ade51014a83bf2fd0fd4b2cc42e\n",
      "  hostname: patrick-c3-1\n",
      "  iterations_since_restore: 1\n",
      "  node_ip: 192.168.2.133\n",
      "  pid: 3529\n",
      "  score: 0.7905694150420949\n",
      "  time_since_restore: 10.007795095443726\n",
      "  time_this_iter_s: 10.007795095443726\n",
      "  time_total_s: 10.007795095443726\n",
      "  timestamp: 1651311003\n",
      "  timesteps_since_restore: 0\n",
      "  training_iteration: 1\n",
      "  trial_id: 5337a_00023\n",
      "  warmup_time: 0.0057413578033447266\n",
      "  \n",
      "Result for training_function_5337a_00023:\n",
      "  date: 2022-04-30_11-30-03\n",
      "  done: true\n",
      "  experiment_id: 30028ade51014a83bf2fd0fd4b2cc42e\n",
      "  experiment_tag: 23_x=0.5,y=1\n",
      "  hostname: patrick-c3-1\n",
      "  iterations_since_restore: 1\n",
      "  node_ip: 192.168.2.133\n",
      "  pid: 3529\n",
      "  score: 0.7905694150420949\n",
      "  time_since_restore: 10.007795095443726\n",
      "  time_this_iter_s: 10.007795095443726\n",
      "  time_total_s: 10.007795095443726\n",
      "  timestamp: 1651311003\n",
      "  timesteps_since_restore: 0\n",
      "  training_iteration: 1\n",
      "  trial_id: 5337a_00023\n",
      "  warmup_time: 0.0057413578033447266\n",
      "  \n"
     ]
    },
    {
     "name": "stderr",
     "output_type": "stream",
     "text": [
      "2022-04-30 11:30:04,984\tINFO trial_runner.py:803 -- starting training_function_5337a_00024\n"
     ]
    },
    {
     "data": {
      "text/html": [
       "== Status ==<br>Current time: 2022-04-30 11:30:10 (running for 00:05:45.40)<br>Memory usage on this node: 1.6/1.9 GiB<br>Using FIFO scheduling algorithm.<br>Resources requested: 1.0/1 CPUs, 0/0 GPUs, 0.0/0.37 GiB heap, 0.0/0.18 GiB objects<br>Result logdir: /home/ubuntu/ray_results/training_function_2022-04-30_11-24-24<br>Number of trials: 25/25 (1 RUNNING, 24 TERMINATED)<br><table>\n",
       "<thead>\n",
       "<tr><th>Trial name                   </th><th>status    </th><th>loc               </th><th style=\"text-align: right;\">   x</th><th style=\"text-align: right;\">   y</th><th style=\"text-align: right;\">  iter</th><th style=\"text-align: right;\">  total time (s)</th><th style=\"text-align: right;\">   score</th></tr>\n",
       "</thead>\n",
       "<tbody>\n",
       "<tr><td>training_function_5337a_00024</td><td>RUNNING   </td><td>192.168.2.133:3587</td><td style=\"text-align: right;\"> 1  </td><td style=\"text-align: right;\"> 1  </td><td style=\"text-align: right;\">      </td><td style=\"text-align: right;\">                </td><td style=\"text-align: right;\">        </td></tr>\n",
       "<tr><td>training_function_5337a_00000</td><td>TERMINATED</td><td>192.168.2.133:2124</td><td style=\"text-align: right;\">-1  </td><td style=\"text-align: right;\">-1  </td><td style=\"text-align: right;\">     1</td><td style=\"text-align: right;\">         10.0198</td><td style=\"text-align: right;\">1       </td></tr>\n",
       "<tr><td>training_function_5337a_00001</td><td>TERMINATED</td><td>192.168.2.133:2185</td><td style=\"text-align: right;\">-0.5</td><td style=\"text-align: right;\">-1  </td><td style=\"text-align: right;\">     1</td><td style=\"text-align: right;\">         10.0095</td><td style=\"text-align: right;\">0.790569</td></tr>\n",
       "<tr><td>training_function_5337a_00002</td><td>TERMINATED</td><td>192.168.2.133:2247</td><td style=\"text-align: right;\"> 0  </td><td style=\"text-align: right;\">-1  </td><td style=\"text-align: right;\">     1</td><td style=\"text-align: right;\">         10.0104</td><td style=\"text-align: right;\">0.707107</td></tr>\n",
       "<tr><td>training_function_5337a_00003</td><td>TERMINATED</td><td>192.168.2.133:2308</td><td style=\"text-align: right;\"> 0.5</td><td style=\"text-align: right;\">-1  </td><td style=\"text-align: right;\">     1</td><td style=\"text-align: right;\">         10.0092</td><td style=\"text-align: right;\">0.790569</td></tr>\n",
       "<tr><td>training_function_5337a_00004</td><td>TERMINATED</td><td>192.168.2.133:2369</td><td style=\"text-align: right;\"> 1  </td><td style=\"text-align: right;\">-1  </td><td style=\"text-align: right;\">     1</td><td style=\"text-align: right;\">         10.0141</td><td style=\"text-align: right;\">1       </td></tr>\n",
       "<tr><td>training_function_5337a_00005</td><td>TERMINATED</td><td>192.168.2.133:2428</td><td style=\"text-align: right;\">-1  </td><td style=\"text-align: right;\">-0.5</td><td style=\"text-align: right;\">     1</td><td style=\"text-align: right;\">         10.0114</td><td style=\"text-align: right;\">0.790569</td></tr>\n",
       "<tr><td>training_function_5337a_00006</td><td>TERMINATED</td><td>192.168.2.133:2489</td><td style=\"text-align: right;\">-0.5</td><td style=\"text-align: right;\">-0.5</td><td style=\"text-align: right;\">     1</td><td style=\"text-align: right;\">         10.0104</td><td style=\"text-align: right;\">0.5     </td></tr>\n",
       "<tr><td>training_function_5337a_00007</td><td>TERMINATED</td><td>192.168.2.133:2551</td><td style=\"text-align: right;\"> 0  </td><td style=\"text-align: right;\">-0.5</td><td style=\"text-align: right;\">     1</td><td style=\"text-align: right;\">         10.0056</td><td style=\"text-align: right;\">0.353553</td></tr>\n",
       "<tr><td>training_function_5337a_00008</td><td>TERMINATED</td><td>192.168.2.133:2612</td><td style=\"text-align: right;\"> 0.5</td><td style=\"text-align: right;\">-0.5</td><td style=\"text-align: right;\">     1</td><td style=\"text-align: right;\">         10.0102</td><td style=\"text-align: right;\">0.5     </td></tr>\n",
       "<tr><td>training_function_5337a_00009</td><td>TERMINATED</td><td>192.168.2.133:2672</td><td style=\"text-align: right;\"> 1  </td><td style=\"text-align: right;\">-0.5</td><td style=\"text-align: right;\">     1</td><td style=\"text-align: right;\">         10.0087</td><td style=\"text-align: right;\">0.790569</td></tr>\n",
       "<tr><td>training_function_5337a_00010</td><td>TERMINATED</td><td>192.168.2.133:2744</td><td style=\"text-align: right;\">-1  </td><td style=\"text-align: right;\"> 0  </td><td style=\"text-align: right;\">     1</td><td style=\"text-align: right;\">         10.012 </td><td style=\"text-align: right;\">0.707107</td></tr>\n",
       "<tr><td>training_function_5337a_00011</td><td>TERMINATED</td><td>192.168.2.133:2807</td><td style=\"text-align: right;\">-0.5</td><td style=\"text-align: right;\"> 0  </td><td style=\"text-align: right;\">     1</td><td style=\"text-align: right;\">         10.0101</td><td style=\"text-align: right;\">0.353553</td></tr>\n",
       "<tr><td>training_function_5337a_00012</td><td>TERMINATED</td><td>192.168.2.133:2868</td><td style=\"text-align: right;\"> 0  </td><td style=\"text-align: right;\"> 0  </td><td style=\"text-align: right;\">     1</td><td style=\"text-align: right;\">         10.0092</td><td style=\"text-align: right;\">0       </td></tr>\n",
       "<tr><td>training_function_5337a_00013</td><td>TERMINATED</td><td>192.168.2.133:2930</td><td style=\"text-align: right;\"> 0.5</td><td style=\"text-align: right;\"> 0  </td><td style=\"text-align: right;\">     1</td><td style=\"text-align: right;\">         10.0096</td><td style=\"text-align: right;\">0.353553</td></tr>\n",
       "<tr><td>training_function_5337a_00014</td><td>TERMINATED</td><td>192.168.2.133:3006</td><td style=\"text-align: right;\"> 1  </td><td style=\"text-align: right;\"> 0  </td><td style=\"text-align: right;\">     1</td><td style=\"text-align: right;\">         10.0092</td><td style=\"text-align: right;\">0.707107</td></tr>\n",
       "<tr><td>training_function_5337a_00015</td><td>TERMINATED</td><td>192.168.2.133:3068</td><td style=\"text-align: right;\">-1  </td><td style=\"text-align: right;\"> 0.5</td><td style=\"text-align: right;\">     1</td><td style=\"text-align: right;\">         10.0128</td><td style=\"text-align: right;\">0.790569</td></tr>\n",
       "<tr><td>training_function_5337a_00016</td><td>TERMINATED</td><td>192.168.2.133:3125</td><td style=\"text-align: right;\">-0.5</td><td style=\"text-align: right;\"> 0.5</td><td style=\"text-align: right;\">     1</td><td style=\"text-align: right;\">         10.0121</td><td style=\"text-align: right;\">0.5     </td></tr>\n",
       "<tr><td>training_function_5337a_00017</td><td>TERMINATED</td><td>192.168.2.133:3183</td><td style=\"text-align: right;\"> 0  </td><td style=\"text-align: right;\"> 0.5</td><td style=\"text-align: right;\">     1</td><td style=\"text-align: right;\">         10.0094</td><td style=\"text-align: right;\">0.353553</td></tr>\n",
       "<tr><td>training_function_5337a_00018</td><td>TERMINATED</td><td>192.168.2.133:3241</td><td style=\"text-align: right;\"> 0.5</td><td style=\"text-align: right;\"> 0.5</td><td style=\"text-align: right;\">     1</td><td style=\"text-align: right;\">         10.0115</td><td style=\"text-align: right;\">0.5     </td></tr>\n",
       "</tbody>\n",
       "</table><br>... 5 more trials not shown (5 TERMINATED)<br><br>"
      ],
      "text/plain": [
       "<IPython.core.display.HTML object>"
      ]
     },
     "metadata": {},
     "output_type": "display_data"
    },
    {
     "data": {
      "text/html": [
       "== Status ==<br>Current time: 2022-04-30 11:30:15 (running for 00:05:50.43)<br>Memory usage on this node: 1.6/1.9 GiB<br>Using FIFO scheduling algorithm.<br>Resources requested: 1.0/1 CPUs, 0/0 GPUs, 0.0/0.37 GiB heap, 0.0/0.18 GiB objects<br>Result logdir: /home/ubuntu/ray_results/training_function_2022-04-30_11-24-24<br>Number of trials: 25/25 (1 RUNNING, 24 TERMINATED)<br><table>\n",
       "<thead>\n",
       "<tr><th>Trial name                   </th><th>status    </th><th>loc               </th><th style=\"text-align: right;\">   x</th><th style=\"text-align: right;\">   y</th><th style=\"text-align: right;\">  iter</th><th style=\"text-align: right;\">  total time (s)</th><th style=\"text-align: right;\">   score</th></tr>\n",
       "</thead>\n",
       "<tbody>\n",
       "<tr><td>training_function_5337a_00024</td><td>RUNNING   </td><td>192.168.2.133:3587</td><td style=\"text-align: right;\"> 1  </td><td style=\"text-align: right;\"> 1  </td><td style=\"text-align: right;\">      </td><td style=\"text-align: right;\">                </td><td style=\"text-align: right;\">        </td></tr>\n",
       "<tr><td>training_function_5337a_00000</td><td>TERMINATED</td><td>192.168.2.133:2124</td><td style=\"text-align: right;\">-1  </td><td style=\"text-align: right;\">-1  </td><td style=\"text-align: right;\">     1</td><td style=\"text-align: right;\">         10.0198</td><td style=\"text-align: right;\">1       </td></tr>\n",
       "<tr><td>training_function_5337a_00001</td><td>TERMINATED</td><td>192.168.2.133:2185</td><td style=\"text-align: right;\">-0.5</td><td style=\"text-align: right;\">-1  </td><td style=\"text-align: right;\">     1</td><td style=\"text-align: right;\">         10.0095</td><td style=\"text-align: right;\">0.790569</td></tr>\n",
       "<tr><td>training_function_5337a_00002</td><td>TERMINATED</td><td>192.168.2.133:2247</td><td style=\"text-align: right;\"> 0  </td><td style=\"text-align: right;\">-1  </td><td style=\"text-align: right;\">     1</td><td style=\"text-align: right;\">         10.0104</td><td style=\"text-align: right;\">0.707107</td></tr>\n",
       "<tr><td>training_function_5337a_00003</td><td>TERMINATED</td><td>192.168.2.133:2308</td><td style=\"text-align: right;\"> 0.5</td><td style=\"text-align: right;\">-1  </td><td style=\"text-align: right;\">     1</td><td style=\"text-align: right;\">         10.0092</td><td style=\"text-align: right;\">0.790569</td></tr>\n",
       "<tr><td>training_function_5337a_00004</td><td>TERMINATED</td><td>192.168.2.133:2369</td><td style=\"text-align: right;\"> 1  </td><td style=\"text-align: right;\">-1  </td><td style=\"text-align: right;\">     1</td><td style=\"text-align: right;\">         10.0141</td><td style=\"text-align: right;\">1       </td></tr>\n",
       "<tr><td>training_function_5337a_00005</td><td>TERMINATED</td><td>192.168.2.133:2428</td><td style=\"text-align: right;\">-1  </td><td style=\"text-align: right;\">-0.5</td><td style=\"text-align: right;\">     1</td><td style=\"text-align: right;\">         10.0114</td><td style=\"text-align: right;\">0.790569</td></tr>\n",
       "<tr><td>training_function_5337a_00006</td><td>TERMINATED</td><td>192.168.2.133:2489</td><td style=\"text-align: right;\">-0.5</td><td style=\"text-align: right;\">-0.5</td><td style=\"text-align: right;\">     1</td><td style=\"text-align: right;\">         10.0104</td><td style=\"text-align: right;\">0.5     </td></tr>\n",
       "<tr><td>training_function_5337a_00007</td><td>TERMINATED</td><td>192.168.2.133:2551</td><td style=\"text-align: right;\"> 0  </td><td style=\"text-align: right;\">-0.5</td><td style=\"text-align: right;\">     1</td><td style=\"text-align: right;\">         10.0056</td><td style=\"text-align: right;\">0.353553</td></tr>\n",
       "<tr><td>training_function_5337a_00008</td><td>TERMINATED</td><td>192.168.2.133:2612</td><td style=\"text-align: right;\"> 0.5</td><td style=\"text-align: right;\">-0.5</td><td style=\"text-align: right;\">     1</td><td style=\"text-align: right;\">         10.0102</td><td style=\"text-align: right;\">0.5     </td></tr>\n",
       "<tr><td>training_function_5337a_00009</td><td>TERMINATED</td><td>192.168.2.133:2672</td><td style=\"text-align: right;\"> 1  </td><td style=\"text-align: right;\">-0.5</td><td style=\"text-align: right;\">     1</td><td style=\"text-align: right;\">         10.0087</td><td style=\"text-align: right;\">0.790569</td></tr>\n",
       "<tr><td>training_function_5337a_00010</td><td>TERMINATED</td><td>192.168.2.133:2744</td><td style=\"text-align: right;\">-1  </td><td style=\"text-align: right;\"> 0  </td><td style=\"text-align: right;\">     1</td><td style=\"text-align: right;\">         10.012 </td><td style=\"text-align: right;\">0.707107</td></tr>\n",
       "<tr><td>training_function_5337a_00011</td><td>TERMINATED</td><td>192.168.2.133:2807</td><td style=\"text-align: right;\">-0.5</td><td style=\"text-align: right;\"> 0  </td><td style=\"text-align: right;\">     1</td><td style=\"text-align: right;\">         10.0101</td><td style=\"text-align: right;\">0.353553</td></tr>\n",
       "<tr><td>training_function_5337a_00012</td><td>TERMINATED</td><td>192.168.2.133:2868</td><td style=\"text-align: right;\"> 0  </td><td style=\"text-align: right;\"> 0  </td><td style=\"text-align: right;\">     1</td><td style=\"text-align: right;\">         10.0092</td><td style=\"text-align: right;\">0       </td></tr>\n",
       "<tr><td>training_function_5337a_00013</td><td>TERMINATED</td><td>192.168.2.133:2930</td><td style=\"text-align: right;\"> 0.5</td><td style=\"text-align: right;\"> 0  </td><td style=\"text-align: right;\">     1</td><td style=\"text-align: right;\">         10.0096</td><td style=\"text-align: right;\">0.353553</td></tr>\n",
       "<tr><td>training_function_5337a_00014</td><td>TERMINATED</td><td>192.168.2.133:3006</td><td style=\"text-align: right;\"> 1  </td><td style=\"text-align: right;\"> 0  </td><td style=\"text-align: right;\">     1</td><td style=\"text-align: right;\">         10.0092</td><td style=\"text-align: right;\">0.707107</td></tr>\n",
       "<tr><td>training_function_5337a_00015</td><td>TERMINATED</td><td>192.168.2.133:3068</td><td style=\"text-align: right;\">-1  </td><td style=\"text-align: right;\"> 0.5</td><td style=\"text-align: right;\">     1</td><td style=\"text-align: right;\">         10.0128</td><td style=\"text-align: right;\">0.790569</td></tr>\n",
       "<tr><td>training_function_5337a_00016</td><td>TERMINATED</td><td>192.168.2.133:3125</td><td style=\"text-align: right;\">-0.5</td><td style=\"text-align: right;\"> 0.5</td><td style=\"text-align: right;\">     1</td><td style=\"text-align: right;\">         10.0121</td><td style=\"text-align: right;\">0.5     </td></tr>\n",
       "<tr><td>training_function_5337a_00017</td><td>TERMINATED</td><td>192.168.2.133:3183</td><td style=\"text-align: right;\"> 0  </td><td style=\"text-align: right;\"> 0.5</td><td style=\"text-align: right;\">     1</td><td style=\"text-align: right;\">         10.0094</td><td style=\"text-align: right;\">0.353553</td></tr>\n",
       "<tr><td>training_function_5337a_00018</td><td>TERMINATED</td><td>192.168.2.133:3241</td><td style=\"text-align: right;\"> 0.5</td><td style=\"text-align: right;\"> 0.5</td><td style=\"text-align: right;\">     1</td><td style=\"text-align: right;\">         10.0115</td><td style=\"text-align: right;\">0.5     </td></tr>\n",
       "</tbody>\n",
       "</table><br>... 5 more trials not shown (5 TERMINATED)<br><br>"
      ],
      "text/plain": [
       "<IPython.core.display.HTML object>"
      ]
     },
     "metadata": {},
     "output_type": "display_data"
    },
    {
     "name": "stdout",
     "output_type": "stream",
     "text": [
      "Result for training_function_5337a_00024:\n",
      "  date: 2022-04-30_11-30-17\n",
      "  done: false\n",
      "  experiment_id: aa3964745d704baf98fea804cc60937c\n",
      "  hostname: patrick-c3-1\n",
      "  iterations_since_restore: 1\n",
      "  node_ip: 192.168.2.133\n",
      "  pid: 3587\n",
      "  score: 1.0\n",
      "  time_since_restore: 10.009488344192505\n",
      "  time_this_iter_s: 10.009488344192505\n",
      "  time_total_s: 10.009488344192505\n",
      "  timestamp: 1651311017\n",
      "  timesteps_since_restore: 0\n",
      "  training_iteration: 1\n",
      "  trial_id: 5337a_00024\n",
      "  warmup_time: 0.0058135986328125\n",
      "  \n",
      "Result for training_function_5337a_00024:\n",
      "  date: 2022-04-30_11-30-17\n",
      "  done: true\n",
      "  experiment_id: aa3964745d704baf98fea804cc60937c\n",
      "  experiment_tag: 24_x=1,y=1\n",
      "  hostname: patrick-c3-1\n",
      "  iterations_since_restore: 1\n",
      "  node_ip: 192.168.2.133\n",
      "  pid: 3587\n",
      "  score: 1.0\n",
      "  time_since_restore: 10.009488344192505\n",
      "  time_this_iter_s: 10.009488344192505\n",
      "  time_total_s: 10.009488344192505\n",
      "  timestamp: 1651311017\n",
      "  timesteps_since_restore: 0\n",
      "  training_iteration: 1\n",
      "  trial_id: 5337a_00024\n",
      "  warmup_time: 0.0058135986328125\n",
      "  \n"
     ]
    },
    {
     "data": {
      "text/html": [
       "== Status ==<br>Current time: 2022-04-30 11:30:17 (running for 00:05:52.67)<br>Memory usage on this node: 1.5/1.9 GiB<br>Using FIFO scheduling algorithm.<br>Resources requested: 0/1 CPUs, 0/0 GPUs, 0.0/0.37 GiB heap, 0.0/0.18 GiB objects<br>Result logdir: /home/ubuntu/ray_results/training_function_2022-04-30_11-24-24<br>Number of trials: 25/25 (25 TERMINATED)<br><table>\n",
       "<thead>\n",
       "<tr><th>Trial name                   </th><th>status    </th><th>loc               </th><th style=\"text-align: right;\">   x</th><th style=\"text-align: right;\">   y</th><th style=\"text-align: right;\">  iter</th><th style=\"text-align: right;\">  total time (s)</th><th style=\"text-align: right;\">   score</th></tr>\n",
       "</thead>\n",
       "<tbody>\n",
       "<tr><td>training_function_5337a_00000</td><td>TERMINATED</td><td>192.168.2.133:2124</td><td style=\"text-align: right;\">-1  </td><td style=\"text-align: right;\">-1  </td><td style=\"text-align: right;\">     1</td><td style=\"text-align: right;\">         10.0198</td><td style=\"text-align: right;\">1       </td></tr>\n",
       "<tr><td>training_function_5337a_00001</td><td>TERMINATED</td><td>192.168.2.133:2185</td><td style=\"text-align: right;\">-0.5</td><td style=\"text-align: right;\">-1  </td><td style=\"text-align: right;\">     1</td><td style=\"text-align: right;\">         10.0095</td><td style=\"text-align: right;\">0.790569</td></tr>\n",
       "<tr><td>training_function_5337a_00002</td><td>TERMINATED</td><td>192.168.2.133:2247</td><td style=\"text-align: right;\"> 0  </td><td style=\"text-align: right;\">-1  </td><td style=\"text-align: right;\">     1</td><td style=\"text-align: right;\">         10.0104</td><td style=\"text-align: right;\">0.707107</td></tr>\n",
       "<tr><td>training_function_5337a_00003</td><td>TERMINATED</td><td>192.168.2.133:2308</td><td style=\"text-align: right;\"> 0.5</td><td style=\"text-align: right;\">-1  </td><td style=\"text-align: right;\">     1</td><td style=\"text-align: right;\">         10.0092</td><td style=\"text-align: right;\">0.790569</td></tr>\n",
       "<tr><td>training_function_5337a_00004</td><td>TERMINATED</td><td>192.168.2.133:2369</td><td style=\"text-align: right;\"> 1  </td><td style=\"text-align: right;\">-1  </td><td style=\"text-align: right;\">     1</td><td style=\"text-align: right;\">         10.0141</td><td style=\"text-align: right;\">1       </td></tr>\n",
       "<tr><td>training_function_5337a_00005</td><td>TERMINATED</td><td>192.168.2.133:2428</td><td style=\"text-align: right;\">-1  </td><td style=\"text-align: right;\">-0.5</td><td style=\"text-align: right;\">     1</td><td style=\"text-align: right;\">         10.0114</td><td style=\"text-align: right;\">0.790569</td></tr>\n",
       "<tr><td>training_function_5337a_00006</td><td>TERMINATED</td><td>192.168.2.133:2489</td><td style=\"text-align: right;\">-0.5</td><td style=\"text-align: right;\">-0.5</td><td style=\"text-align: right;\">     1</td><td style=\"text-align: right;\">         10.0104</td><td style=\"text-align: right;\">0.5     </td></tr>\n",
       "<tr><td>training_function_5337a_00007</td><td>TERMINATED</td><td>192.168.2.133:2551</td><td style=\"text-align: right;\"> 0  </td><td style=\"text-align: right;\">-0.5</td><td style=\"text-align: right;\">     1</td><td style=\"text-align: right;\">         10.0056</td><td style=\"text-align: right;\">0.353553</td></tr>\n",
       "<tr><td>training_function_5337a_00008</td><td>TERMINATED</td><td>192.168.2.133:2612</td><td style=\"text-align: right;\"> 0.5</td><td style=\"text-align: right;\">-0.5</td><td style=\"text-align: right;\">     1</td><td style=\"text-align: right;\">         10.0102</td><td style=\"text-align: right;\">0.5     </td></tr>\n",
       "<tr><td>training_function_5337a_00009</td><td>TERMINATED</td><td>192.168.2.133:2672</td><td style=\"text-align: right;\"> 1  </td><td style=\"text-align: right;\">-0.5</td><td style=\"text-align: right;\">     1</td><td style=\"text-align: right;\">         10.0087</td><td style=\"text-align: right;\">0.790569</td></tr>\n",
       "<tr><td>training_function_5337a_00010</td><td>TERMINATED</td><td>192.168.2.133:2744</td><td style=\"text-align: right;\">-1  </td><td style=\"text-align: right;\"> 0  </td><td style=\"text-align: right;\">     1</td><td style=\"text-align: right;\">         10.012 </td><td style=\"text-align: right;\">0.707107</td></tr>\n",
       "<tr><td>training_function_5337a_00011</td><td>TERMINATED</td><td>192.168.2.133:2807</td><td style=\"text-align: right;\">-0.5</td><td style=\"text-align: right;\"> 0  </td><td style=\"text-align: right;\">     1</td><td style=\"text-align: right;\">         10.0101</td><td style=\"text-align: right;\">0.353553</td></tr>\n",
       "<tr><td>training_function_5337a_00012</td><td>TERMINATED</td><td>192.168.2.133:2868</td><td style=\"text-align: right;\"> 0  </td><td style=\"text-align: right;\"> 0  </td><td style=\"text-align: right;\">     1</td><td style=\"text-align: right;\">         10.0092</td><td style=\"text-align: right;\">0       </td></tr>\n",
       "<tr><td>training_function_5337a_00013</td><td>TERMINATED</td><td>192.168.2.133:2930</td><td style=\"text-align: right;\"> 0.5</td><td style=\"text-align: right;\"> 0  </td><td style=\"text-align: right;\">     1</td><td style=\"text-align: right;\">         10.0096</td><td style=\"text-align: right;\">0.353553</td></tr>\n",
       "<tr><td>training_function_5337a_00014</td><td>TERMINATED</td><td>192.168.2.133:3006</td><td style=\"text-align: right;\"> 1  </td><td style=\"text-align: right;\"> 0  </td><td style=\"text-align: right;\">     1</td><td style=\"text-align: right;\">         10.0092</td><td style=\"text-align: right;\">0.707107</td></tr>\n",
       "<tr><td>training_function_5337a_00015</td><td>TERMINATED</td><td>192.168.2.133:3068</td><td style=\"text-align: right;\">-1  </td><td style=\"text-align: right;\"> 0.5</td><td style=\"text-align: right;\">     1</td><td style=\"text-align: right;\">         10.0128</td><td style=\"text-align: right;\">0.790569</td></tr>\n",
       "<tr><td>training_function_5337a_00016</td><td>TERMINATED</td><td>192.168.2.133:3125</td><td style=\"text-align: right;\">-0.5</td><td style=\"text-align: right;\"> 0.5</td><td style=\"text-align: right;\">     1</td><td style=\"text-align: right;\">         10.0121</td><td style=\"text-align: right;\">0.5     </td></tr>\n",
       "<tr><td>training_function_5337a_00017</td><td>TERMINATED</td><td>192.168.2.133:3183</td><td style=\"text-align: right;\"> 0  </td><td style=\"text-align: right;\"> 0.5</td><td style=\"text-align: right;\">     1</td><td style=\"text-align: right;\">         10.0094</td><td style=\"text-align: right;\">0.353553</td></tr>\n",
       "<tr><td>training_function_5337a_00018</td><td>TERMINATED</td><td>192.168.2.133:3241</td><td style=\"text-align: right;\"> 0.5</td><td style=\"text-align: right;\"> 0.5</td><td style=\"text-align: right;\">     1</td><td style=\"text-align: right;\">         10.0115</td><td style=\"text-align: right;\">0.5     </td></tr>\n",
       "<tr><td>training_function_5337a_00019</td><td>TERMINATED</td><td>192.168.2.133:3298</td><td style=\"text-align: right;\"> 1  </td><td style=\"text-align: right;\"> 0.5</td><td style=\"text-align: right;\">     1</td><td style=\"text-align: right;\">         10.0084</td><td style=\"text-align: right;\">0.790569</td></tr>\n",
       "<tr><td>training_function_5337a_00020</td><td>TERMINATED</td><td>192.168.2.133:3356</td><td style=\"text-align: right;\">-1  </td><td style=\"text-align: right;\"> 1  </td><td style=\"text-align: right;\">     1</td><td style=\"text-align: right;\">         10.0101</td><td style=\"text-align: right;\">1       </td></tr>\n",
       "<tr><td>training_function_5337a_00021</td><td>TERMINATED</td><td>192.168.2.133:3414</td><td style=\"text-align: right;\">-0.5</td><td style=\"text-align: right;\"> 1  </td><td style=\"text-align: right;\">     1</td><td style=\"text-align: right;\">         10.01  </td><td style=\"text-align: right;\">0.790569</td></tr>\n",
       "<tr><td>training_function_5337a_00022</td><td>TERMINATED</td><td>192.168.2.133:3472</td><td style=\"text-align: right;\"> 0  </td><td style=\"text-align: right;\"> 1  </td><td style=\"text-align: right;\">     1</td><td style=\"text-align: right;\">         10.0096</td><td style=\"text-align: right;\">0.707107</td></tr>\n",
       "<tr><td>training_function_5337a_00023</td><td>TERMINATED</td><td>192.168.2.133:3529</td><td style=\"text-align: right;\"> 0.5</td><td style=\"text-align: right;\"> 1  </td><td style=\"text-align: right;\">     1</td><td style=\"text-align: right;\">         10.0078</td><td style=\"text-align: right;\">0.790569</td></tr>\n",
       "<tr><td>training_function_5337a_00024</td><td>TERMINATED</td><td>192.168.2.133:3587</td><td style=\"text-align: right;\"> 1  </td><td style=\"text-align: right;\"> 1  </td><td style=\"text-align: right;\">     1</td><td style=\"text-align: right;\">         10.0095</td><td style=\"text-align: right;\">1       </td></tr>\n",
       "</tbody>\n",
       "</table><br><br>"
      ],
      "text/plain": [
       "<IPython.core.display.HTML object>"
      ]
     },
     "metadata": {},
     "output_type": "display_data"
    },
    {
     "name": "stderr",
     "output_type": "stream",
     "text": [
      "2022-04-30 11:30:17,400\tINFO tune.py:701 -- Total run time: 353.14 seconds (352.66 seconds for the tuning loop).\n"
     ]
    },
    {
     "name": "stdout",
     "output_type": "stream",
     "text": [
      "{'x': 0, 'y': 0}\n"
     ]
    }
   ],
   "source": [
    "# tag::ray_tune[]\n",
    "from ray import tune\n",
    "import math\n",
    "import time\n",
    "\n",
    "\n",
    "def training_function(config):  # <1>\n",
    "    x, y = config[\"x\"], config[\"y\"]\n",
    "    time.sleep(10)\n",
    "    score = objective(x, y)\n",
    "    tune.report(score=score)  # <2>\n",
    "\n",
    "\n",
    "def objective(x, y):\n",
    "    return math.sqrt((x**2 + y**2)/2)  # <3>\n",
    "\n",
    "\n",
    "result = tune.run(  # <4>\n",
    "    training_function,\n",
    "    config={\n",
    "        \"x\": tune.grid_search([-1, -.5, 0, .5, 1]),  # <5>\n",
    "        \"y\": tune.grid_search([-1, -.5, 0, .5, 1])\n",
    "    })\n",
    "\n",
    "print(result.get_best_config(metric=\"score\", mode=\"min\"))\n",
    "# end::ray_tune[]"
   ]
  },
  {
   "cell_type": "code",
   "execution_count": null,
   "id": "8ba9fa75-fb3b-4bff-83c0-f87ac3e42868",
   "metadata": {},
   "outputs": [],
   "source": []
  }
 ],
 "metadata": {
  "kernelspec": {
   "display_name": "Python 3 (ipykernel)",
   "language": "python",
   "name": "python3"
  },
  "language_info": {
   "codemirror_mode": {
    "name": "ipython",
    "version": 3
   },
   "file_extension": ".py",
   "mimetype": "text/x-python",
   "name": "python",
   "nbconvert_exporter": "python",
   "pygments_lexer": "ipython3",
   "version": "3.8.10"
  }
 },
 "nbformat": 4,
 "nbformat_minor": 5
}
