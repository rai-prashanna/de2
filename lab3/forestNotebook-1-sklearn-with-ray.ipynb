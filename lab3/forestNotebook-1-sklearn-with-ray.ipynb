{
 "cells": [
  {
   "cell_type": "code",
   "execution_count": 1,
   "metadata": {},
   "outputs": [
    {
     "name": "stdout",
     "output_type": "stream",
     "text": [
      "Defaulting to user installation because normal site-packages is not writeable\n",
      "Requirement already satisfied: pandas in ./.local/lib/python3.8/site-packages (1.4.2)\n",
      "Requirement already satisfied: python-dateutil>=2.8.1 in ./.local/lib/python3.8/site-packages (from pandas) (2.8.2)\n",
      "Requirement already satisfied: numpy>=1.18.5 in ./.local/lib/python3.8/site-packages (from pandas) (1.22.3)\n",
      "Requirement already satisfied: pytz>=2020.1 in ./.local/lib/python3.8/site-packages (from pandas) (2022.1)\n",
      "Requirement already satisfied: six>=1.5 in /usr/lib/python3/dist-packages (from python-dateutil>=2.8.1->pandas) (1.14.0)\n",
      "Defaulting to user installation because normal site-packages is not writeable\n",
      "Requirement already satisfied: sklearn in ./.local/lib/python3.8/site-packages (0.0)\n",
      "Requirement already satisfied: scikit-learn in ./.local/lib/python3.8/site-packages (from sklearn) (1.0.2)\n",
      "Requirement already satisfied: numpy>=1.14.6 in ./.local/lib/python3.8/site-packages (from scikit-learn->sklearn) (1.22.3)\n",
      "Requirement already satisfied: threadpoolctl>=2.0.0 in ./.local/lib/python3.8/site-packages (from scikit-learn->sklearn) (3.1.0)\n",
      "Requirement already satisfied: joblib>=0.11 in ./.local/lib/python3.8/site-packages (from scikit-learn->sklearn) (1.1.0)\n",
      "Requirement already satisfied: scipy>=1.1.0 in ./.local/lib/python3.8/site-packages (from scikit-learn->sklearn) (1.8.0)\n",
      "Defaulting to user installation because normal site-packages is not writeable\n",
      "Requirement already satisfied: ray[tune] in ./.local/lib/python3.8/site-packages (1.12.0)\n",
      "Requirement already satisfied: requests in /usr/lib/python3/dist-packages (from ray[tune]) (2.22.0)\n",
      "Requirement already satisfied: attrs in /usr/lib/python3/dist-packages (from ray[tune]) (19.3.0)\n",
      "Requirement already satisfied: virtualenv in ./.local/lib/python3.8/site-packages (from ray[tune]) (20.14.1)\n",
      "Requirement already satisfied: grpcio<=1.43.0,>=1.28.1 in ./.local/lib/python3.8/site-packages (from ray[tune]) (1.43.0)\n",
      "Requirement already satisfied: click>=7.0 in /usr/lib/python3/dist-packages (from ray[tune]) (7.0)\n",
      "Requirement already satisfied: jsonschema in /usr/lib/python3/dist-packages (from ray[tune]) (3.2.0)\n",
      "Requirement already satisfied: aiosignal in ./.local/lib/python3.8/site-packages (from ray[tune]) (1.2.0)\n",
      "Requirement already satisfied: frozenlist in ./.local/lib/python3.8/site-packages (from ray[tune]) (1.3.0)\n",
      "Requirement already satisfied: protobuf>=3.15.3 in ./.local/lib/python3.8/site-packages (from ray[tune]) (3.20.1)\n",
      "Requirement already satisfied: msgpack<2.0.0,>=1.0.0 in ./.local/lib/python3.8/site-packages (from ray[tune]) (1.0.3)\n",
      "Requirement already satisfied: pyyaml in /usr/lib/python3/dist-packages (from ray[tune]) (5.3.1)\n",
      "Requirement already satisfied: numpy>=1.16 in ./.local/lib/python3.8/site-packages (from ray[tune]) (1.22.3)\n",
      "Requirement already satisfied: filelock in ./.local/lib/python3.8/site-packages (from ray[tune]) (3.6.0)\n",
      "Requirement already satisfied: tensorboardX>=1.9 in ./.local/lib/python3.8/site-packages (from ray[tune]) (2.5)\n",
      "Requirement already satisfied: tabulate in ./.local/lib/python3.8/site-packages (from ray[tune]) (0.8.9)\n",
      "Requirement already satisfied: pandas in ./.local/lib/python3.8/site-packages (from ray[tune]) (1.4.2)\n",
      "Requirement already satisfied: six>=1.5.2 in /usr/lib/python3/dist-packages (from grpcio<=1.43.0,>=1.28.1->ray[tune]) (1.14.0)\n",
      "Requirement already satisfied: python-dateutil>=2.8.1 in ./.local/lib/python3.8/site-packages (from pandas->ray[tune]) (2.8.2)\n",
      "Requirement already satisfied: pytz>=2020.1 in ./.local/lib/python3.8/site-packages (from pandas->ray[tune]) (2022.1)\n",
      "Requirement already satisfied: distlib<1,>=0.3.1 in ./.local/lib/python3.8/site-packages (from virtualenv->ray[tune]) (0.3.4)\n",
      "Requirement already satisfied: platformdirs<3,>=2 in ./.local/lib/python3.8/site-packages (from virtualenv->ray[tune]) (2.5.2)\n"
     ]
    }
   ],
   "source": [
    "!python3 -m pip install pandas\n",
    "!python3 -m pip install sklearn\n",
    "!pip install ray[tune]"
   ]
  },
  {
   "cell_type": "code",
   "execution_count": 2,
   "metadata": {
    "pycharm": {
     "name": "#%%\n"
    }
   },
   "outputs": [],
   "source": [
    "import pandas as pd\n",
    "from sklearn.ensemble import RandomForestClassifier\n",
    "import sklearn\n",
    "\n",
    "# Your task now is to use scikit-learn to train a RandomForestClassifier https://scikit-learn.org/stable/modules/generated/sklearn.ensemble.RandomForestClassifier.html  for predicting the forest cover type. The dataset can be downloaded directly via the sklearn API: https://scikit-learn.org/stable/modules/generated/sklearn.datasets.fetch_covtype.html#sklearn.datasets.fetch_covtype and there are several notebooks on Kaggle where you can learn about the data and background to the dataset: https://www.kaggle.com/c/forest-cover-type-prediction.\n",
    "\n",
    "# Do the following:\n",
    "# 1.\tSet up the problem using sklearn. Explore the parameters used in the Random Forest implementation. Hint: use the get_param() method. Train the model using the default parameters.\n",
    "\n",
    "# 2.\tImplement a distributed hyperparameter tuning pipeline for tuning the parameters ‘max_depth’, ‘n_estimators’ and ‘ccp_alpha’ using the RayTune framework and an exhaustive Grid Search strategy. Configure, deploy and run it on up to 3 VMs of “small” flavor."
   ]
  },
  {
   "cell_type": "code",
   "execution_count": 3,
   "metadata": {
    "pycharm": {
     "name": "#%%\n"
    }
   },
   "outputs": [
    {
     "data": {
      "text/html": [
       "<div>\n",
       "<style scoped>\n",
       "    .dataframe tbody tr th:only-of-type {\n",
       "        vertical-align: middle;\n",
       "    }\n",
       "\n",
       "    .dataframe tbody tr th {\n",
       "        vertical-align: top;\n",
       "    }\n",
       "\n",
       "    .dataframe thead th {\n",
       "        text-align: right;\n",
       "    }\n",
       "</style>\n",
       "<table border=\"1\" class=\"dataframe\">\n",
       "  <thead>\n",
       "    <tr style=\"text-align: right;\">\n",
       "      <th></th>\n",
       "      <th>Id</th>\n",
       "      <th>Elevation</th>\n",
       "      <th>Aspect</th>\n",
       "      <th>Slope</th>\n",
       "      <th>Horizontal_Distance_To_Hydrology</th>\n",
       "      <th>Vertical_Distance_To_Hydrology</th>\n",
       "      <th>Horizontal_Distance_To_Roadways</th>\n",
       "      <th>Hillshade_9am</th>\n",
       "      <th>Hillshade_Noon</th>\n",
       "      <th>Hillshade_3pm</th>\n",
       "      <th>...</th>\n",
       "      <th>Soil_Type32</th>\n",
       "      <th>Soil_Type33</th>\n",
       "      <th>Soil_Type34</th>\n",
       "      <th>Soil_Type35</th>\n",
       "      <th>Soil_Type36</th>\n",
       "      <th>Soil_Type37</th>\n",
       "      <th>Soil_Type38</th>\n",
       "      <th>Soil_Type39</th>\n",
       "      <th>Soil_Type40</th>\n",
       "      <th>Cover_Type</th>\n",
       "    </tr>\n",
       "  </thead>\n",
       "  <tbody>\n",
       "    <tr>\n",
       "      <th>0</th>\n",
       "      <td>1</td>\n",
       "      <td>2596</td>\n",
       "      <td>51</td>\n",
       "      <td>3</td>\n",
       "      <td>258</td>\n",
       "      <td>0</td>\n",
       "      <td>510</td>\n",
       "      <td>221</td>\n",
       "      <td>232</td>\n",
       "      <td>148</td>\n",
       "      <td>...</td>\n",
       "      <td>0</td>\n",
       "      <td>0</td>\n",
       "      <td>0</td>\n",
       "      <td>0</td>\n",
       "      <td>0</td>\n",
       "      <td>0</td>\n",
       "      <td>0</td>\n",
       "      <td>0</td>\n",
       "      <td>0</td>\n",
       "      <td>5</td>\n",
       "    </tr>\n",
       "    <tr>\n",
       "      <th>1</th>\n",
       "      <td>2</td>\n",
       "      <td>2590</td>\n",
       "      <td>56</td>\n",
       "      <td>2</td>\n",
       "      <td>212</td>\n",
       "      <td>-6</td>\n",
       "      <td>390</td>\n",
       "      <td>220</td>\n",
       "      <td>235</td>\n",
       "      <td>151</td>\n",
       "      <td>...</td>\n",
       "      <td>0</td>\n",
       "      <td>0</td>\n",
       "      <td>0</td>\n",
       "      <td>0</td>\n",
       "      <td>0</td>\n",
       "      <td>0</td>\n",
       "      <td>0</td>\n",
       "      <td>0</td>\n",
       "      <td>0</td>\n",
       "      <td>5</td>\n",
       "    </tr>\n",
       "    <tr>\n",
       "      <th>2</th>\n",
       "      <td>3</td>\n",
       "      <td>2804</td>\n",
       "      <td>139</td>\n",
       "      <td>9</td>\n",
       "      <td>268</td>\n",
       "      <td>65</td>\n",
       "      <td>3180</td>\n",
       "      <td>234</td>\n",
       "      <td>238</td>\n",
       "      <td>135</td>\n",
       "      <td>...</td>\n",
       "      <td>0</td>\n",
       "      <td>0</td>\n",
       "      <td>0</td>\n",
       "      <td>0</td>\n",
       "      <td>0</td>\n",
       "      <td>0</td>\n",
       "      <td>0</td>\n",
       "      <td>0</td>\n",
       "      <td>0</td>\n",
       "      <td>2</td>\n",
       "    </tr>\n",
       "    <tr>\n",
       "      <th>3</th>\n",
       "      <td>4</td>\n",
       "      <td>2785</td>\n",
       "      <td>155</td>\n",
       "      <td>18</td>\n",
       "      <td>242</td>\n",
       "      <td>118</td>\n",
       "      <td>3090</td>\n",
       "      <td>238</td>\n",
       "      <td>238</td>\n",
       "      <td>122</td>\n",
       "      <td>...</td>\n",
       "      <td>0</td>\n",
       "      <td>0</td>\n",
       "      <td>0</td>\n",
       "      <td>0</td>\n",
       "      <td>0</td>\n",
       "      <td>0</td>\n",
       "      <td>0</td>\n",
       "      <td>0</td>\n",
       "      <td>0</td>\n",
       "      <td>2</td>\n",
       "    </tr>\n",
       "    <tr>\n",
       "      <th>4</th>\n",
       "      <td>5</td>\n",
       "      <td>2595</td>\n",
       "      <td>45</td>\n",
       "      <td>2</td>\n",
       "      <td>153</td>\n",
       "      <td>-1</td>\n",
       "      <td>391</td>\n",
       "      <td>220</td>\n",
       "      <td>234</td>\n",
       "      <td>150</td>\n",
       "      <td>...</td>\n",
       "      <td>0</td>\n",
       "      <td>0</td>\n",
       "      <td>0</td>\n",
       "      <td>0</td>\n",
       "      <td>0</td>\n",
       "      <td>0</td>\n",
       "      <td>0</td>\n",
       "      <td>0</td>\n",
       "      <td>0</td>\n",
       "      <td>5</td>\n",
       "    </tr>\n",
       "  </tbody>\n",
       "</table>\n",
       "<p>5 rows × 56 columns</p>\n",
       "</div>"
      ],
      "text/plain": [
       "   Id  Elevation  Aspect  Slope  Horizontal_Distance_To_Hydrology  \\\n",
       "0   1       2596      51      3                               258   \n",
       "1   2       2590      56      2                               212   \n",
       "2   3       2804     139      9                               268   \n",
       "3   4       2785     155     18                               242   \n",
       "4   5       2595      45      2                               153   \n",
       "\n",
       "   Vertical_Distance_To_Hydrology  Horizontal_Distance_To_Roadways  \\\n",
       "0                               0                              510   \n",
       "1                              -6                              390   \n",
       "2                              65                             3180   \n",
       "3                             118                             3090   \n",
       "4                              -1                              391   \n",
       "\n",
       "   Hillshade_9am  Hillshade_Noon  Hillshade_3pm  ...  Soil_Type32  \\\n",
       "0            221             232            148  ...            0   \n",
       "1            220             235            151  ...            0   \n",
       "2            234             238            135  ...            0   \n",
       "3            238             238            122  ...            0   \n",
       "4            220             234            150  ...            0   \n",
       "\n",
       "   Soil_Type33  Soil_Type34  Soil_Type35  Soil_Type36  Soil_Type37  \\\n",
       "0            0            0            0            0            0   \n",
       "1            0            0            0            0            0   \n",
       "2            0            0            0            0            0   \n",
       "3            0            0            0            0            0   \n",
       "4            0            0            0            0            0   \n",
       "\n",
       "   Soil_Type38  Soil_Type39  Soil_Type40  Cover_Type  \n",
       "0            0            0            0           5  \n",
       "1            0            0            0           5  \n",
       "2            0            0            0           2  \n",
       "3            0            0            0           2  \n",
       "4            0            0            0           5  \n",
       "\n",
       "[5 rows x 56 columns]"
      ]
     },
     "execution_count": 3,
     "metadata": {},
     "output_type": "execute_result"
    }
   ],
   "source": [
    "trainDF = pd.read_csv('train.csv')\n",
    "#testDF = pd.read_csv('test.csv') - this file doesn't actually contain the target variable of soil type.\n",
    "\n",
    "trainDF.head()"
   ]
  },
  {
   "cell_type": "code",
   "execution_count": 4,
   "metadata": {},
   "outputs": [],
   "source": [
    "trainFeatures = trainDF.iloc[:, :-1] # all rows, all but last column\n",
    "trainClasses = trainDF.iloc[:, -1] # all rows, only last column"
   ]
  },
  {
   "cell_type": "code",
   "execution_count": 5,
   "metadata": {
    "pycharm": {
     "name": "#%%\n"
    }
   },
   "outputs": [],
   "source": [
    "RFclassifier = RandomForestClassifier()\n",
    "params = RFclassifier.get_params()"
   ]
  },
  {
   "cell_type": "code",
   "execution_count": 6,
   "metadata": {
    "pycharm": {
     "name": "#%%\n"
    }
   },
   "outputs": [
    {
     "data": {
      "text/plain": [
       "{'fit_time': array([2.19727921, 2.14854646, 2.11283231, 2.1297574 , 2.02893901]),\n",
       " 'score_time': array([0.06794953, 0.07835221, 0.09362078, 0.08149385, 0.08172727]),\n",
       " 'test_score': array([0.4457672 , 0.6087963 , 0.69246032, 0.73875661, 0.76785714])}"
      ]
     },
     "execution_count": 6,
     "metadata": {},
     "output_type": "execute_result"
    }
   ],
   "source": [
    "#fitted_model = RFclassifier.fit(trainFeatures, trainClasses)\n",
    "\n",
    "sklearn.model_selection.cross_validate(RFclassifier, trainFeatures, trainClasses)"
   ]
  },
  {
   "cell_type": "code",
   "execution_count": null,
   "metadata": {},
   "outputs": [],
   "source": []
  },
  {
   "cell_type": "code",
   "execution_count": 7,
   "metadata": {},
   "outputs": [],
   "source": [
    "import ray\n",
    "from ray import tune\n",
    "from ray.tune.schedulers import ASHAScheduler"
   ]
  },
  {
   "cell_type": "code",
   "execution_count": 8,
   "metadata": {},
   "outputs": [
    {
     "name": "stderr",
     "output_type": "stream",
     "text": [
      "2022-04-29 00:20:16,085\tINFO services.py:1456 -- View the Ray dashboard at \u001b[1m\u001b[32mhttp://127.0.0.1:8267\u001b[39m\u001b[22m\n"
     ]
    },
    {
     "data": {
      "text/plain": [
       "RayContext(dashboard_url='127.0.0.1:8267', python_version='3.8.10', ray_version='1.12.0', ray_commit='f18fc31c7562990955556899090f8e8656b48d2d', address_info={'node_ip_address': '192.168.2.213', 'raylet_ip_address': '192.168.2.213', 'redis_address': None, 'object_store_address': '/tmp/ray/session_2022-04-29_00-20-12_314705_54437/sockets/plasma_store', 'raylet_socket_name': '/tmp/ray/session_2022-04-29_00-20-12_314705_54437/sockets/raylet', 'webui_url': '127.0.0.1:8267', 'session_dir': '/tmp/ray/session_2022-04-29_00-20-12_314705_54437', 'metrics_export_port': 55226, 'gcs_address': '192.168.2.213:60861', 'address': '192.168.2.213:60861', 'node_id': '22f8345a55701a84d0c4b2e064abf00aaa821ca4804fe8fbad1ab1fe'})"
      ]
     },
     "execution_count": 8,
     "metadata": {},
     "output_type": "execute_result"
    }
   ],
   "source": [
    "ray.init(object_store_memory=ray.ray_constants.OBJECT_STORE_MINIMUM_MEMORY_BYTES)"
   ]
  },
  {
   "cell_type": "code",
   "execution_count": 9,
   "metadata": {},
   "outputs": [],
   "source": [
    "search_space = {\n",
    "    \"max_depth\": tune.grid_search([5*i for i in range(1,10)]),\n",
    "    \"n_estimators\": tune.grid_search([10,100,200,300]),\n",
    "    \"ccp_alpha\": tune.grid_search([0.0,0.1,0.2]),\n",
    "}"
   ]
  },
  {
   "cell_type": "code",
   "execution_count": 10,
   "metadata": {},
   "outputs": [],
   "source": [
    "import statistics\n",
    "\n",
    "def train(config):\n",
    "    RFclassifier = RandomForestClassifier(**config)\n",
    "    params = RFclassifier.get_params()\n",
    "    xval = sklearn.model_selection.cross_validate(RFclassifier, trainFeatures, trainClasses)\n",
    "    tune.report(mean_accuracy=statistics.mean(xval[\"test_score\"]))\n",
    "    "
   ]
  },
  {
   "cell_type": "code",
   "execution_count": null,
   "metadata": {},
   "outputs": [
    {
     "name": "stderr",
     "output_type": "stream",
     "text": [
      "2022-04-29 00:20:19,752\tWARNING function_runner.py:598 -- Function checkpointing is disabled. This may result in unexpected behavior when using checkpointing features or certain schedulers. To enable, set the train function arguments to be `func(config, checkpoint_dir=None)`.\n",
      "2022-04-29 00:20:21,803\tINFO trial_runner.py:803 -- starting train_27206_00000\n"
     ]
    },
    {
     "data": {
      "text/html": [
       "== Status ==<br>Current time: 2022-04-29 00:20:27 (running for 00:00:07.57)<br>Memory usage on this node: 1.8/1.9 GiB: ***LOW MEMORY*** less than 10% of the memory on this node is available for use. This can cause unexpected crashes. Consider reducing the memory used by your application or reducing the Ray object store size by setting `object_store_memory` when calling `ray.init`.<br>Using FIFO scheduling algorithm.<br>Resources requested: 1.0/1 CPUs, 0/0 GPUs, 0.0/0.49 GiB heap, 0.0/0.07 GiB objects<br>Result logdir: /home/ubuntu/ray_results/train_2022-04-29_00-20-19<br>Number of trials: 16/108 (15 PENDING, 1 RUNNING)<br><table>\n",
       "<thead>\n",
       "<tr><th>Trial name       </th><th>status  </th><th>loc                </th><th style=\"text-align: right;\">  ccp_alpha</th><th style=\"text-align: right;\">  max_depth</th><th style=\"text-align: right;\">  n_estimators</th></tr>\n",
       "</thead>\n",
       "<tbody>\n",
       "<tr><td>train_27206_00000</td><td>RUNNING </td><td>192.168.2.213:54649</td><td style=\"text-align: right;\">        0  </td><td style=\"text-align: right;\">          5</td><td style=\"text-align: right;\">            10</td></tr>\n",
       "<tr><td>train_27206_00001</td><td>PENDING </td><td>                   </td><td style=\"text-align: right;\">        0.1</td><td style=\"text-align: right;\">          5</td><td style=\"text-align: right;\">            10</td></tr>\n",
       "<tr><td>train_27206_00002</td><td>PENDING </td><td>                   </td><td style=\"text-align: right;\">        0.2</td><td style=\"text-align: right;\">          5</td><td style=\"text-align: right;\">            10</td></tr>\n",
       "<tr><td>train_27206_00003</td><td>PENDING </td><td>                   </td><td style=\"text-align: right;\">        0  </td><td style=\"text-align: right;\">         10</td><td style=\"text-align: right;\">            10</td></tr>\n",
       "<tr><td>train_27206_00004</td><td>PENDING </td><td>                   </td><td style=\"text-align: right;\">        0.1</td><td style=\"text-align: right;\">         10</td><td style=\"text-align: right;\">            10</td></tr>\n",
       "<tr><td>train_27206_00005</td><td>PENDING </td><td>                   </td><td style=\"text-align: right;\">        0.2</td><td style=\"text-align: right;\">         10</td><td style=\"text-align: right;\">            10</td></tr>\n",
       "<tr><td>train_27206_00006</td><td>PENDING </td><td>                   </td><td style=\"text-align: right;\">        0  </td><td style=\"text-align: right;\">         15</td><td style=\"text-align: right;\">            10</td></tr>\n",
       "<tr><td>train_27206_00007</td><td>PENDING </td><td>                   </td><td style=\"text-align: right;\">        0.1</td><td style=\"text-align: right;\">         15</td><td style=\"text-align: right;\">            10</td></tr>\n",
       "<tr><td>train_27206_00008</td><td>PENDING </td><td>                   </td><td style=\"text-align: right;\">        0.2</td><td style=\"text-align: right;\">         15</td><td style=\"text-align: right;\">            10</td></tr>\n",
       "<tr><td>train_27206_00009</td><td>PENDING </td><td>                   </td><td style=\"text-align: right;\">        0  </td><td style=\"text-align: right;\">         20</td><td style=\"text-align: right;\">            10</td></tr>\n",
       "<tr><td>train_27206_00010</td><td>PENDING </td><td>                   </td><td style=\"text-align: right;\">        0.1</td><td style=\"text-align: right;\">         20</td><td style=\"text-align: right;\">            10</td></tr>\n",
       "<tr><td>train_27206_00011</td><td>PENDING </td><td>                   </td><td style=\"text-align: right;\">        0.2</td><td style=\"text-align: right;\">         20</td><td style=\"text-align: right;\">            10</td></tr>\n",
       "<tr><td>train_27206_00012</td><td>PENDING </td><td>                   </td><td style=\"text-align: right;\">        0  </td><td style=\"text-align: right;\">         25</td><td style=\"text-align: right;\">            10</td></tr>\n",
       "<tr><td>train_27206_00013</td><td>PENDING </td><td>                   </td><td style=\"text-align: right;\">        0.1</td><td style=\"text-align: right;\">         25</td><td style=\"text-align: right;\">            10</td></tr>\n",
       "<tr><td>train_27206_00014</td><td>PENDING </td><td>                   </td><td style=\"text-align: right;\">        0.2</td><td style=\"text-align: right;\">         25</td><td style=\"text-align: right;\">            10</td></tr>\n",
       "<tr><td>train_27206_00015</td><td>PENDING </td><td>                   </td><td style=\"text-align: right;\">        0  </td><td style=\"text-align: right;\">         30</td><td style=\"text-align: right;\">            10</td></tr>\n",
       "</tbody>\n",
       "</table><br><br>"
      ],
      "text/plain": [
       "<IPython.core.display.HTML object>"
      ]
     },
     "metadata": {},
     "output_type": "display_data"
    },
    {
     "name": "stdout",
     "output_type": "stream",
     "text": [
      "Result for train_27206_00000:\n",
      "  date: 2022-04-29_00-20-28\n",
      "  done: false\n",
      "  experiment_id: 573b0070288f446fba295d355443999b\n",
      "  hostname: ben-ray-small\n",
      "  iterations_since_restore: 1\n",
      "  mean_accuracy: 0.5753306878306879\n",
      "  node_ip: 192.168.2.213\n",
      "  pid: 54649\n",
      "  time_since_restore: 0.7262163162231445\n",
      "  time_this_iter_s: 0.7262163162231445\n",
      "  time_total_s: 0.7262163162231445\n",
      "  timestamp: 1651191628\n",
      "  timesteps_since_restore: 0\n",
      "  training_iteration: 1\n",
      "  trial_id: '27206_00000'\n",
      "  warmup_time: 0.013929128646850586\n",
      "  \n"
     ]
    },
    {
     "data": {
      "text/html": [
       "== Status ==<br>Current time: 2022-04-29 00:20:28 (running for 00:00:08.31)<br>Memory usage on this node: 1.8/1.9 GiB: ***LOW MEMORY*** less than 10% of the memory on this node is available for use. This can cause unexpected crashes. Consider reducing the memory used by your application or reducing the Ray object store size by setting `object_store_memory` when calling `ray.init`.<br>Using FIFO scheduling algorithm.<br>Resources requested: 1.0/1 CPUs, 0/0 GPUs, 0.0/0.49 GiB heap, 0.0/0.07 GiB objects<br>Result logdir: /home/ubuntu/ray_results/train_2022-04-29_00-20-19<br>Number of trials: 17/108 (16 PENDING, 1 RUNNING)<br><table>\n",
       "<thead>\n",
       "<tr><th>Trial name       </th><th>status  </th><th>loc                </th><th style=\"text-align: right;\">  ccp_alpha</th><th style=\"text-align: right;\">  max_depth</th><th style=\"text-align: right;\">  n_estimators</th><th style=\"text-align: right;\">     acc</th><th style=\"text-align: right;\">  iter</th><th style=\"text-align: right;\">  total time (s)</th></tr>\n",
       "</thead>\n",
       "<tbody>\n",
       "<tr><td>train_27206_00000</td><td>RUNNING </td><td>192.168.2.213:54649</td><td style=\"text-align: right;\">        0  </td><td style=\"text-align: right;\">          5</td><td style=\"text-align: right;\">            10</td><td style=\"text-align: right;\">0.575331</td><td style=\"text-align: right;\">     1</td><td style=\"text-align: right;\">        0.726216</td></tr>\n",
       "<tr><td>train_27206_00001</td><td>PENDING </td><td>                   </td><td style=\"text-align: right;\">        0.1</td><td style=\"text-align: right;\">          5</td><td style=\"text-align: right;\">            10</td><td style=\"text-align: right;\">        </td><td style=\"text-align: right;\">      </td><td style=\"text-align: right;\">                </td></tr>\n",
       "<tr><td>train_27206_00002</td><td>PENDING </td><td>                   </td><td style=\"text-align: right;\">        0.2</td><td style=\"text-align: right;\">          5</td><td style=\"text-align: right;\">            10</td><td style=\"text-align: right;\">        </td><td style=\"text-align: right;\">      </td><td style=\"text-align: right;\">                </td></tr>\n",
       "<tr><td>train_27206_00003</td><td>PENDING </td><td>                   </td><td style=\"text-align: right;\">        0  </td><td style=\"text-align: right;\">         10</td><td style=\"text-align: right;\">            10</td><td style=\"text-align: right;\">        </td><td style=\"text-align: right;\">      </td><td style=\"text-align: right;\">                </td></tr>\n",
       "<tr><td>train_27206_00004</td><td>PENDING </td><td>                   </td><td style=\"text-align: right;\">        0.1</td><td style=\"text-align: right;\">         10</td><td style=\"text-align: right;\">            10</td><td style=\"text-align: right;\">        </td><td style=\"text-align: right;\">      </td><td style=\"text-align: right;\">                </td></tr>\n",
       "<tr><td>train_27206_00005</td><td>PENDING </td><td>                   </td><td style=\"text-align: right;\">        0.2</td><td style=\"text-align: right;\">         10</td><td style=\"text-align: right;\">            10</td><td style=\"text-align: right;\">        </td><td style=\"text-align: right;\">      </td><td style=\"text-align: right;\">                </td></tr>\n",
       "<tr><td>train_27206_00006</td><td>PENDING </td><td>                   </td><td style=\"text-align: right;\">        0  </td><td style=\"text-align: right;\">         15</td><td style=\"text-align: right;\">            10</td><td style=\"text-align: right;\">        </td><td style=\"text-align: right;\">      </td><td style=\"text-align: right;\">                </td></tr>\n",
       "<tr><td>train_27206_00007</td><td>PENDING </td><td>                   </td><td style=\"text-align: right;\">        0.1</td><td style=\"text-align: right;\">         15</td><td style=\"text-align: right;\">            10</td><td style=\"text-align: right;\">        </td><td style=\"text-align: right;\">      </td><td style=\"text-align: right;\">                </td></tr>\n",
       "<tr><td>train_27206_00008</td><td>PENDING </td><td>                   </td><td style=\"text-align: right;\">        0.2</td><td style=\"text-align: right;\">         15</td><td style=\"text-align: right;\">            10</td><td style=\"text-align: right;\">        </td><td style=\"text-align: right;\">      </td><td style=\"text-align: right;\">                </td></tr>\n",
       "<tr><td>train_27206_00009</td><td>PENDING </td><td>                   </td><td style=\"text-align: right;\">        0  </td><td style=\"text-align: right;\">         20</td><td style=\"text-align: right;\">            10</td><td style=\"text-align: right;\">        </td><td style=\"text-align: right;\">      </td><td style=\"text-align: right;\">                </td></tr>\n",
       "<tr><td>train_27206_00010</td><td>PENDING </td><td>                   </td><td style=\"text-align: right;\">        0.1</td><td style=\"text-align: right;\">         20</td><td style=\"text-align: right;\">            10</td><td style=\"text-align: right;\">        </td><td style=\"text-align: right;\">      </td><td style=\"text-align: right;\">                </td></tr>\n",
       "<tr><td>train_27206_00011</td><td>PENDING </td><td>                   </td><td style=\"text-align: right;\">        0.2</td><td style=\"text-align: right;\">         20</td><td style=\"text-align: right;\">            10</td><td style=\"text-align: right;\">        </td><td style=\"text-align: right;\">      </td><td style=\"text-align: right;\">                </td></tr>\n",
       "<tr><td>train_27206_00012</td><td>PENDING </td><td>                   </td><td style=\"text-align: right;\">        0  </td><td style=\"text-align: right;\">         25</td><td style=\"text-align: right;\">            10</td><td style=\"text-align: right;\">        </td><td style=\"text-align: right;\">      </td><td style=\"text-align: right;\">                </td></tr>\n",
       "<tr><td>train_27206_00013</td><td>PENDING </td><td>                   </td><td style=\"text-align: right;\">        0.1</td><td style=\"text-align: right;\">         25</td><td style=\"text-align: right;\">            10</td><td style=\"text-align: right;\">        </td><td style=\"text-align: right;\">      </td><td style=\"text-align: right;\">                </td></tr>\n",
       "<tr><td>train_27206_00014</td><td>PENDING </td><td>                   </td><td style=\"text-align: right;\">        0.2</td><td style=\"text-align: right;\">         25</td><td style=\"text-align: right;\">            10</td><td style=\"text-align: right;\">        </td><td style=\"text-align: right;\">      </td><td style=\"text-align: right;\">                </td></tr>\n",
       "<tr><td>train_27206_00015</td><td>PENDING </td><td>                   </td><td style=\"text-align: right;\">        0  </td><td style=\"text-align: right;\">         30</td><td style=\"text-align: right;\">            10</td><td style=\"text-align: right;\">        </td><td style=\"text-align: right;\">      </td><td style=\"text-align: right;\">                </td></tr>\n",
       "<tr><td>train_27206_00016</td><td>PENDING </td><td>                   </td><td style=\"text-align: right;\">        0.1</td><td style=\"text-align: right;\">         30</td><td style=\"text-align: right;\">            10</td><td style=\"text-align: right;\">        </td><td style=\"text-align: right;\">      </td><td style=\"text-align: right;\">                </td></tr>\n",
       "</tbody>\n",
       "</table><br><br>"
      ],
      "text/plain": [
       "<IPython.core.display.HTML object>"
      ]
     },
     "metadata": {},
     "output_type": "display_data"
    },
    {
     "name": "stdout",
     "output_type": "stream",
     "text": [
      "Result for train_27206_00000:\n",
      "  date: 2022-04-29_00-20-28\n",
      "  done: true\n",
      "  experiment_id: 573b0070288f446fba295d355443999b\n",
      "  experiment_tag: 0_ccp_alpha=0.0,max_depth=5,n_estimators=10\n",
      "  hostname: ben-ray-small\n",
      "  iterations_since_restore: 1\n",
      "  mean_accuracy: 0.5753306878306879\n",
      "  node_ip: 192.168.2.213\n",
      "  pid: 54649\n",
      "  time_since_restore: 0.7262163162231445\n",
      "  time_this_iter_s: 0.7262163162231445\n",
      "  time_total_s: 0.7262163162231445\n",
      "  timestamp: 1651191628\n",
      "  timesteps_since_restore: 0\n",
      "  training_iteration: 1\n",
      "  trial_id: '27206_00000'\n",
      "  warmup_time: 0.013929128646850586\n",
      "  \n"
     ]
    },
    {
     "name": "stderr",
     "output_type": "stream",
     "text": [
      "2022-04-29 00:20:31,945\tINFO trial_runner.py:803 -- starting train_27206_00001\n"
     ]
    },
    {
     "name": "stdout",
     "output_type": "stream",
     "text": [
      "Result for train_27206_00001:\n",
      "  date: 2022-04-29_00-20-36\n",
      "  done: false\n",
      "  experiment_id: 06370e746eff4e15889bf3384e8fd04d\n",
      "  hostname: ben-ray-small\n",
      "  iterations_since_restore: 1\n",
      "  mean_accuracy: 0.24814814814814815\n",
      "  node_ip: 192.168.2.213\n",
      "  pid: 54706\n",
      "  time_since_restore: 0.6288247108459473\n",
      "  time_this_iter_s: 0.6288247108459473\n",
      "  time_total_s: 0.6288247108459473\n",
      "  timestamp: 1651191636\n",
      "  timesteps_since_restore: 0\n",
      "  training_iteration: 1\n",
      "  trial_id: '27206_00001'\n",
      "  warmup_time: 0.012327909469604492\n",
      "  \n"
     ]
    },
    {
     "data": {
      "text/html": [
       "== Status ==<br>Current time: 2022-04-29 00:20:36 (running for 00:00:16.84)<br>Memory usage on this node: 1.8/1.9 GiB: ***LOW MEMORY*** less than 10% of the memory on this node is available for use. This can cause unexpected crashes. Consider reducing the memory used by your application or reducing the Ray object store size by setting `object_store_memory` when calling `ray.init`.<br>Using FIFO scheduling algorithm.<br>Resources requested: 1.0/1 CPUs, 0/0 GPUs, 0.0/0.49 GiB heap, 0.0/0.07 GiB objects<br>Result logdir: /home/ubuntu/ray_results/train_2022-04-29_00-20-19<br>Number of trials: 18/108 (16 PENDING, 1 RUNNING, 1 TERMINATED)<br><table>\n",
       "<thead>\n",
       "<tr><th>Trial name       </th><th>status    </th><th>loc                </th><th style=\"text-align: right;\">  ccp_alpha</th><th style=\"text-align: right;\">  max_depth</th><th style=\"text-align: right;\">  n_estimators</th><th style=\"text-align: right;\">     acc</th><th style=\"text-align: right;\">  iter</th><th style=\"text-align: right;\">  total time (s)</th></tr>\n",
       "</thead>\n",
       "<tbody>\n",
       "<tr><td>train_27206_00001</td><td>RUNNING   </td><td>192.168.2.213:54706</td><td style=\"text-align: right;\">        0.1</td><td style=\"text-align: right;\">          5</td><td style=\"text-align: right;\">            10</td><td style=\"text-align: right;\">0.248148</td><td style=\"text-align: right;\">     1</td><td style=\"text-align: right;\">        0.628825</td></tr>\n",
       "<tr><td>train_27206_00002</td><td>PENDING   </td><td>                   </td><td style=\"text-align: right;\">        0.2</td><td style=\"text-align: right;\">          5</td><td style=\"text-align: right;\">            10</td><td style=\"text-align: right;\">        </td><td style=\"text-align: right;\">      </td><td style=\"text-align: right;\">                </td></tr>\n",
       "<tr><td>train_27206_00003</td><td>PENDING   </td><td>                   </td><td style=\"text-align: right;\">        0  </td><td style=\"text-align: right;\">         10</td><td style=\"text-align: right;\">            10</td><td style=\"text-align: right;\">        </td><td style=\"text-align: right;\">      </td><td style=\"text-align: right;\">                </td></tr>\n",
       "<tr><td>train_27206_00004</td><td>PENDING   </td><td>                   </td><td style=\"text-align: right;\">        0.1</td><td style=\"text-align: right;\">         10</td><td style=\"text-align: right;\">            10</td><td style=\"text-align: right;\">        </td><td style=\"text-align: right;\">      </td><td style=\"text-align: right;\">                </td></tr>\n",
       "<tr><td>train_27206_00005</td><td>PENDING   </td><td>                   </td><td style=\"text-align: right;\">        0.2</td><td style=\"text-align: right;\">         10</td><td style=\"text-align: right;\">            10</td><td style=\"text-align: right;\">        </td><td style=\"text-align: right;\">      </td><td style=\"text-align: right;\">                </td></tr>\n",
       "<tr><td>train_27206_00006</td><td>PENDING   </td><td>                   </td><td style=\"text-align: right;\">        0  </td><td style=\"text-align: right;\">         15</td><td style=\"text-align: right;\">            10</td><td style=\"text-align: right;\">        </td><td style=\"text-align: right;\">      </td><td style=\"text-align: right;\">                </td></tr>\n",
       "<tr><td>train_27206_00007</td><td>PENDING   </td><td>                   </td><td style=\"text-align: right;\">        0.1</td><td style=\"text-align: right;\">         15</td><td style=\"text-align: right;\">            10</td><td style=\"text-align: right;\">        </td><td style=\"text-align: right;\">      </td><td style=\"text-align: right;\">                </td></tr>\n",
       "<tr><td>train_27206_00008</td><td>PENDING   </td><td>                   </td><td style=\"text-align: right;\">        0.2</td><td style=\"text-align: right;\">         15</td><td style=\"text-align: right;\">            10</td><td style=\"text-align: right;\">        </td><td style=\"text-align: right;\">      </td><td style=\"text-align: right;\">                </td></tr>\n",
       "<tr><td>train_27206_00009</td><td>PENDING   </td><td>                   </td><td style=\"text-align: right;\">        0  </td><td style=\"text-align: right;\">         20</td><td style=\"text-align: right;\">            10</td><td style=\"text-align: right;\">        </td><td style=\"text-align: right;\">      </td><td style=\"text-align: right;\">                </td></tr>\n",
       "<tr><td>train_27206_00010</td><td>PENDING   </td><td>                   </td><td style=\"text-align: right;\">        0.1</td><td style=\"text-align: right;\">         20</td><td style=\"text-align: right;\">            10</td><td style=\"text-align: right;\">        </td><td style=\"text-align: right;\">      </td><td style=\"text-align: right;\">                </td></tr>\n",
       "<tr><td>train_27206_00011</td><td>PENDING   </td><td>                   </td><td style=\"text-align: right;\">        0.2</td><td style=\"text-align: right;\">         20</td><td style=\"text-align: right;\">            10</td><td style=\"text-align: right;\">        </td><td style=\"text-align: right;\">      </td><td style=\"text-align: right;\">                </td></tr>\n",
       "<tr><td>train_27206_00012</td><td>PENDING   </td><td>                   </td><td style=\"text-align: right;\">        0  </td><td style=\"text-align: right;\">         25</td><td style=\"text-align: right;\">            10</td><td style=\"text-align: right;\">        </td><td style=\"text-align: right;\">      </td><td style=\"text-align: right;\">                </td></tr>\n",
       "<tr><td>train_27206_00013</td><td>PENDING   </td><td>                   </td><td style=\"text-align: right;\">        0.1</td><td style=\"text-align: right;\">         25</td><td style=\"text-align: right;\">            10</td><td style=\"text-align: right;\">        </td><td style=\"text-align: right;\">      </td><td style=\"text-align: right;\">                </td></tr>\n",
       "<tr><td>train_27206_00014</td><td>PENDING   </td><td>                   </td><td style=\"text-align: right;\">        0.2</td><td style=\"text-align: right;\">         25</td><td style=\"text-align: right;\">            10</td><td style=\"text-align: right;\">        </td><td style=\"text-align: right;\">      </td><td style=\"text-align: right;\">                </td></tr>\n",
       "<tr><td>train_27206_00015</td><td>PENDING   </td><td>                   </td><td style=\"text-align: right;\">        0  </td><td style=\"text-align: right;\">         30</td><td style=\"text-align: right;\">            10</td><td style=\"text-align: right;\">        </td><td style=\"text-align: right;\">      </td><td style=\"text-align: right;\">                </td></tr>\n",
       "<tr><td>train_27206_00016</td><td>PENDING   </td><td>                   </td><td style=\"text-align: right;\">        0.1</td><td style=\"text-align: right;\">         30</td><td style=\"text-align: right;\">            10</td><td style=\"text-align: right;\">        </td><td style=\"text-align: right;\">      </td><td style=\"text-align: right;\">                </td></tr>\n",
       "<tr><td>train_27206_00017</td><td>PENDING   </td><td>                   </td><td style=\"text-align: right;\">        0.2</td><td style=\"text-align: right;\">         30</td><td style=\"text-align: right;\">            10</td><td style=\"text-align: right;\">        </td><td style=\"text-align: right;\">      </td><td style=\"text-align: right;\">                </td></tr>\n",
       "<tr><td>train_27206_00000</td><td>TERMINATED</td><td>192.168.2.213:54649</td><td style=\"text-align: right;\">        0  </td><td style=\"text-align: right;\">          5</td><td style=\"text-align: right;\">            10</td><td style=\"text-align: right;\">0.575331</td><td style=\"text-align: right;\">     1</td><td style=\"text-align: right;\">        0.726216</td></tr>\n",
       "</tbody>\n",
       "</table><br><br>"
      ],
      "text/plain": [
       "<IPython.core.display.HTML object>"
      ]
     },
     "metadata": {},
     "output_type": "display_data"
    },
    {
     "name": "stdout",
     "output_type": "stream",
     "text": [
      "Result for train_27206_00001:\n",
      "  date: 2022-04-29_00-20-36\n",
      "  done: true\n",
      "  experiment_id: 06370e746eff4e15889bf3384e8fd04d\n",
      "  experiment_tag: 1_ccp_alpha=0.1,max_depth=5,n_estimators=10\n",
      "  hostname: ben-ray-small\n",
      "  iterations_since_restore: 1\n",
      "  mean_accuracy: 0.24814814814814815\n",
      "  node_ip: 192.168.2.213\n",
      "  pid: 54706\n",
      "  time_since_restore: 0.6288247108459473\n",
      "  time_this_iter_s: 0.6288247108459473\n",
      "  time_total_s: 0.6288247108459473\n",
      "  timestamp: 1651191636\n",
      "  timesteps_since_restore: 0\n",
      "  training_iteration: 1\n",
      "  trial_id: '27206_00001'\n",
      "  warmup_time: 0.012327909469604492\n",
      "  \n"
     ]
    },
    {
     "name": "stderr",
     "output_type": "stream",
     "text": [
      "2022-04-29 00:20:38,802\tINFO trial_runner.py:803 -- starting train_27206_00002\n"
     ]
    },
    {
     "data": {
      "text/html": [
       "== Status ==<br>Current time: 2022-04-29 00:20:49 (running for 00:00:29.20)<br>Memory usage on this node: 1.9/1.9 GiB: ***LOW MEMORY*** less than 10% of the memory on this node is available for use. This can cause unexpected crashes. Consider reducing the memory used by your application or reducing the Ray object store size by setting `object_store_memory` when calling `ray.init`.<br>Using FIFO scheduling algorithm.<br>Resources requested: 1.0/1 CPUs, 0/0 GPUs, 0.0/0.49 GiB heap, 0.0/0.07 GiB objects<br>Result logdir: /home/ubuntu/ray_results/train_2022-04-29_00-20-19<br>Number of trials: 19/108 (16 PENDING, 1 RUNNING, 2 TERMINATED)<br><table>\n",
       "<thead>\n",
       "<tr><th>Trial name       </th><th>status    </th><th>loc                </th><th style=\"text-align: right;\">  ccp_alpha</th><th style=\"text-align: right;\">  max_depth</th><th style=\"text-align: right;\">  n_estimators</th><th style=\"text-align: right;\">     acc</th><th style=\"text-align: right;\">  iter</th><th style=\"text-align: right;\">  total time (s)</th></tr>\n",
       "</thead>\n",
       "<tbody>\n",
       "<tr><td>train_27206_00002</td><td>RUNNING   </td><td>192.168.2.213:54763</td><td style=\"text-align: right;\">        0.2</td><td style=\"text-align: right;\">          5</td><td style=\"text-align: right;\">            10</td><td style=\"text-align: right;\">        </td><td style=\"text-align: right;\">      </td><td style=\"text-align: right;\">                </td></tr>\n",
       "<tr><td>train_27206_00003</td><td>PENDING   </td><td>                   </td><td style=\"text-align: right;\">        0  </td><td style=\"text-align: right;\">         10</td><td style=\"text-align: right;\">            10</td><td style=\"text-align: right;\">        </td><td style=\"text-align: right;\">      </td><td style=\"text-align: right;\">                </td></tr>\n",
       "<tr><td>train_27206_00004</td><td>PENDING   </td><td>                   </td><td style=\"text-align: right;\">        0.1</td><td style=\"text-align: right;\">         10</td><td style=\"text-align: right;\">            10</td><td style=\"text-align: right;\">        </td><td style=\"text-align: right;\">      </td><td style=\"text-align: right;\">                </td></tr>\n",
       "<tr><td>train_27206_00005</td><td>PENDING   </td><td>                   </td><td style=\"text-align: right;\">        0.2</td><td style=\"text-align: right;\">         10</td><td style=\"text-align: right;\">            10</td><td style=\"text-align: right;\">        </td><td style=\"text-align: right;\">      </td><td style=\"text-align: right;\">                </td></tr>\n",
       "<tr><td>train_27206_00006</td><td>PENDING   </td><td>                   </td><td style=\"text-align: right;\">        0  </td><td style=\"text-align: right;\">         15</td><td style=\"text-align: right;\">            10</td><td style=\"text-align: right;\">        </td><td style=\"text-align: right;\">      </td><td style=\"text-align: right;\">                </td></tr>\n",
       "<tr><td>train_27206_00007</td><td>PENDING   </td><td>                   </td><td style=\"text-align: right;\">        0.1</td><td style=\"text-align: right;\">         15</td><td style=\"text-align: right;\">            10</td><td style=\"text-align: right;\">        </td><td style=\"text-align: right;\">      </td><td style=\"text-align: right;\">                </td></tr>\n",
       "<tr><td>train_27206_00008</td><td>PENDING   </td><td>                   </td><td style=\"text-align: right;\">        0.2</td><td style=\"text-align: right;\">         15</td><td style=\"text-align: right;\">            10</td><td style=\"text-align: right;\">        </td><td style=\"text-align: right;\">      </td><td style=\"text-align: right;\">                </td></tr>\n",
       "<tr><td>train_27206_00009</td><td>PENDING   </td><td>                   </td><td style=\"text-align: right;\">        0  </td><td style=\"text-align: right;\">         20</td><td style=\"text-align: right;\">            10</td><td style=\"text-align: right;\">        </td><td style=\"text-align: right;\">      </td><td style=\"text-align: right;\">                </td></tr>\n",
       "<tr><td>train_27206_00010</td><td>PENDING   </td><td>                   </td><td style=\"text-align: right;\">        0.1</td><td style=\"text-align: right;\">         20</td><td style=\"text-align: right;\">            10</td><td style=\"text-align: right;\">        </td><td style=\"text-align: right;\">      </td><td style=\"text-align: right;\">                </td></tr>\n",
       "<tr><td>train_27206_00011</td><td>PENDING   </td><td>                   </td><td style=\"text-align: right;\">        0.2</td><td style=\"text-align: right;\">         20</td><td style=\"text-align: right;\">            10</td><td style=\"text-align: right;\">        </td><td style=\"text-align: right;\">      </td><td style=\"text-align: right;\">                </td></tr>\n",
       "<tr><td>train_27206_00012</td><td>PENDING   </td><td>                   </td><td style=\"text-align: right;\">        0  </td><td style=\"text-align: right;\">         25</td><td style=\"text-align: right;\">            10</td><td style=\"text-align: right;\">        </td><td style=\"text-align: right;\">      </td><td style=\"text-align: right;\">                </td></tr>\n",
       "<tr><td>train_27206_00013</td><td>PENDING   </td><td>                   </td><td style=\"text-align: right;\">        0.1</td><td style=\"text-align: right;\">         25</td><td style=\"text-align: right;\">            10</td><td style=\"text-align: right;\">        </td><td style=\"text-align: right;\">      </td><td style=\"text-align: right;\">                </td></tr>\n",
       "<tr><td>train_27206_00014</td><td>PENDING   </td><td>                   </td><td style=\"text-align: right;\">        0.2</td><td style=\"text-align: right;\">         25</td><td style=\"text-align: right;\">            10</td><td style=\"text-align: right;\">        </td><td style=\"text-align: right;\">      </td><td style=\"text-align: right;\">                </td></tr>\n",
       "<tr><td>train_27206_00015</td><td>PENDING   </td><td>                   </td><td style=\"text-align: right;\">        0  </td><td style=\"text-align: right;\">         30</td><td style=\"text-align: right;\">            10</td><td style=\"text-align: right;\">        </td><td style=\"text-align: right;\">      </td><td style=\"text-align: right;\">                </td></tr>\n",
       "<tr><td>train_27206_00016</td><td>PENDING   </td><td>                   </td><td style=\"text-align: right;\">        0.1</td><td style=\"text-align: right;\">         30</td><td style=\"text-align: right;\">            10</td><td style=\"text-align: right;\">        </td><td style=\"text-align: right;\">      </td><td style=\"text-align: right;\">                </td></tr>\n",
       "<tr><td>train_27206_00017</td><td>PENDING   </td><td>                   </td><td style=\"text-align: right;\">        0.2</td><td style=\"text-align: right;\">         30</td><td style=\"text-align: right;\">            10</td><td style=\"text-align: right;\">        </td><td style=\"text-align: right;\">      </td><td style=\"text-align: right;\">                </td></tr>\n",
       "<tr><td>train_27206_00018</td><td>PENDING   </td><td>                   </td><td style=\"text-align: right;\">        0  </td><td style=\"text-align: right;\">         35</td><td style=\"text-align: right;\">            10</td><td style=\"text-align: right;\">        </td><td style=\"text-align: right;\">      </td><td style=\"text-align: right;\">                </td></tr>\n",
       "<tr><td>train_27206_00000</td><td>TERMINATED</td><td>192.168.2.213:54649</td><td style=\"text-align: right;\">        0  </td><td style=\"text-align: right;\">          5</td><td style=\"text-align: right;\">            10</td><td style=\"text-align: right;\">0.575331</td><td style=\"text-align: right;\">     1</td><td style=\"text-align: right;\">        0.726216</td></tr>\n",
       "<tr><td>train_27206_00001</td><td>TERMINATED</td><td>192.168.2.213:54706</td><td style=\"text-align: right;\">        0.1</td><td style=\"text-align: right;\">          5</td><td style=\"text-align: right;\">            10</td><td style=\"text-align: right;\">0.248148</td><td style=\"text-align: right;\">     1</td><td style=\"text-align: right;\">        0.628825</td></tr>\n",
       "</tbody>\n",
       "</table><br><br>"
      ],
      "text/plain": [
       "<IPython.core.display.HTML object>"
      ]
     },
     "metadata": {},
     "output_type": "display_data"
    },
    {
     "name": "stdout",
     "output_type": "stream",
     "text": [
      "Result for train_27206_00002:\n",
      "  date: 2022-04-29_00-20-51\n",
      "  done: false\n",
      "  experiment_id: b2d781bcf9b24bd99ae1b8ce06a48901\n",
      "  hostname: ben-ray-small\n",
      "  iterations_since_restore: 1\n",
      "  mean_accuracy: 0.14285714285714285\n",
      "  node_ip: 192.168.2.213\n",
      "  pid: 54763\n",
      "  time_since_restore: 1.8897101879119873\n",
      "  time_this_iter_s: 1.8897101879119873\n",
      "  time_total_s: 1.8897101879119873\n",
      "  timestamp: 1651191651\n",
      "  timesteps_since_restore: 0\n",
      "  training_iteration: 1\n",
      "  trial_id: '27206_00002'\n",
      "  warmup_time: 0.11789560317993164\n",
      "  \n"
     ]
    },
    {
     "data": {
      "text/html": [
       "== Status ==<br>Current time: 2022-04-29 00:20:51 (running for 00:00:31.65)<br>Memory usage on this node: 1.9/1.9 GiB: ***LOW MEMORY*** less than 10% of the memory on this node is available for use. This can cause unexpected crashes. Consider reducing the memory used by your application or reducing the Ray object store size by setting `object_store_memory` when calling `ray.init`.<br>Using FIFO scheduling algorithm.<br>Resources requested: 1.0/1 CPUs, 0/0 GPUs, 0.0/0.49 GiB heap, 0.0/0.07 GiB objects<br>Result logdir: /home/ubuntu/ray_results/train_2022-04-29_00-20-19<br>Number of trials: 19/108 (16 PENDING, 1 RUNNING, 2 TERMINATED)<br><table>\n",
       "<thead>\n",
       "<tr><th>Trial name       </th><th>status    </th><th>loc                </th><th style=\"text-align: right;\">  ccp_alpha</th><th style=\"text-align: right;\">  max_depth</th><th style=\"text-align: right;\">  n_estimators</th><th style=\"text-align: right;\">     acc</th><th style=\"text-align: right;\">  iter</th><th style=\"text-align: right;\">  total time (s)</th></tr>\n",
       "</thead>\n",
       "<tbody>\n",
       "<tr><td>train_27206_00002</td><td>RUNNING   </td><td>192.168.2.213:54763</td><td style=\"text-align: right;\">        0.2</td><td style=\"text-align: right;\">          5</td><td style=\"text-align: right;\">            10</td><td style=\"text-align: right;\">0.142857</td><td style=\"text-align: right;\">     1</td><td style=\"text-align: right;\">        1.88971 </td></tr>\n",
       "<tr><td>train_27206_00003</td><td>PENDING   </td><td>                   </td><td style=\"text-align: right;\">        0  </td><td style=\"text-align: right;\">         10</td><td style=\"text-align: right;\">            10</td><td style=\"text-align: right;\">        </td><td style=\"text-align: right;\">      </td><td style=\"text-align: right;\">                </td></tr>\n",
       "<tr><td>train_27206_00004</td><td>PENDING   </td><td>                   </td><td style=\"text-align: right;\">        0.1</td><td style=\"text-align: right;\">         10</td><td style=\"text-align: right;\">            10</td><td style=\"text-align: right;\">        </td><td style=\"text-align: right;\">      </td><td style=\"text-align: right;\">                </td></tr>\n",
       "<tr><td>train_27206_00005</td><td>PENDING   </td><td>                   </td><td style=\"text-align: right;\">        0.2</td><td style=\"text-align: right;\">         10</td><td style=\"text-align: right;\">            10</td><td style=\"text-align: right;\">        </td><td style=\"text-align: right;\">      </td><td style=\"text-align: right;\">                </td></tr>\n",
       "<tr><td>train_27206_00006</td><td>PENDING   </td><td>                   </td><td style=\"text-align: right;\">        0  </td><td style=\"text-align: right;\">         15</td><td style=\"text-align: right;\">            10</td><td style=\"text-align: right;\">        </td><td style=\"text-align: right;\">      </td><td style=\"text-align: right;\">                </td></tr>\n",
       "<tr><td>train_27206_00007</td><td>PENDING   </td><td>                   </td><td style=\"text-align: right;\">        0.1</td><td style=\"text-align: right;\">         15</td><td style=\"text-align: right;\">            10</td><td style=\"text-align: right;\">        </td><td style=\"text-align: right;\">      </td><td style=\"text-align: right;\">                </td></tr>\n",
       "<tr><td>train_27206_00008</td><td>PENDING   </td><td>                   </td><td style=\"text-align: right;\">        0.2</td><td style=\"text-align: right;\">         15</td><td style=\"text-align: right;\">            10</td><td style=\"text-align: right;\">        </td><td style=\"text-align: right;\">      </td><td style=\"text-align: right;\">                </td></tr>\n",
       "<tr><td>train_27206_00009</td><td>PENDING   </td><td>                   </td><td style=\"text-align: right;\">        0  </td><td style=\"text-align: right;\">         20</td><td style=\"text-align: right;\">            10</td><td style=\"text-align: right;\">        </td><td style=\"text-align: right;\">      </td><td style=\"text-align: right;\">                </td></tr>\n",
       "<tr><td>train_27206_00010</td><td>PENDING   </td><td>                   </td><td style=\"text-align: right;\">        0.1</td><td style=\"text-align: right;\">         20</td><td style=\"text-align: right;\">            10</td><td style=\"text-align: right;\">        </td><td style=\"text-align: right;\">      </td><td style=\"text-align: right;\">                </td></tr>\n",
       "<tr><td>train_27206_00011</td><td>PENDING   </td><td>                   </td><td style=\"text-align: right;\">        0.2</td><td style=\"text-align: right;\">         20</td><td style=\"text-align: right;\">            10</td><td style=\"text-align: right;\">        </td><td style=\"text-align: right;\">      </td><td style=\"text-align: right;\">                </td></tr>\n",
       "<tr><td>train_27206_00012</td><td>PENDING   </td><td>                   </td><td style=\"text-align: right;\">        0  </td><td style=\"text-align: right;\">         25</td><td style=\"text-align: right;\">            10</td><td style=\"text-align: right;\">        </td><td style=\"text-align: right;\">      </td><td style=\"text-align: right;\">                </td></tr>\n",
       "<tr><td>train_27206_00013</td><td>PENDING   </td><td>                   </td><td style=\"text-align: right;\">        0.1</td><td style=\"text-align: right;\">         25</td><td style=\"text-align: right;\">            10</td><td style=\"text-align: right;\">        </td><td style=\"text-align: right;\">      </td><td style=\"text-align: right;\">                </td></tr>\n",
       "<tr><td>train_27206_00014</td><td>PENDING   </td><td>                   </td><td style=\"text-align: right;\">        0.2</td><td style=\"text-align: right;\">         25</td><td style=\"text-align: right;\">            10</td><td style=\"text-align: right;\">        </td><td style=\"text-align: right;\">      </td><td style=\"text-align: right;\">                </td></tr>\n",
       "<tr><td>train_27206_00015</td><td>PENDING   </td><td>                   </td><td style=\"text-align: right;\">        0  </td><td style=\"text-align: right;\">         30</td><td style=\"text-align: right;\">            10</td><td style=\"text-align: right;\">        </td><td style=\"text-align: right;\">      </td><td style=\"text-align: right;\">                </td></tr>\n",
       "<tr><td>train_27206_00016</td><td>PENDING   </td><td>                   </td><td style=\"text-align: right;\">        0.1</td><td style=\"text-align: right;\">         30</td><td style=\"text-align: right;\">            10</td><td style=\"text-align: right;\">        </td><td style=\"text-align: right;\">      </td><td style=\"text-align: right;\">                </td></tr>\n",
       "<tr><td>train_27206_00017</td><td>PENDING   </td><td>                   </td><td style=\"text-align: right;\">        0.2</td><td style=\"text-align: right;\">         30</td><td style=\"text-align: right;\">            10</td><td style=\"text-align: right;\">        </td><td style=\"text-align: right;\">      </td><td style=\"text-align: right;\">                </td></tr>\n",
       "<tr><td>train_27206_00018</td><td>PENDING   </td><td>                   </td><td style=\"text-align: right;\">        0  </td><td style=\"text-align: right;\">         35</td><td style=\"text-align: right;\">            10</td><td style=\"text-align: right;\">        </td><td style=\"text-align: right;\">      </td><td style=\"text-align: right;\">                </td></tr>\n",
       "<tr><td>train_27206_00000</td><td>TERMINATED</td><td>192.168.2.213:54649</td><td style=\"text-align: right;\">        0  </td><td style=\"text-align: right;\">          5</td><td style=\"text-align: right;\">            10</td><td style=\"text-align: right;\">0.575331</td><td style=\"text-align: right;\">     1</td><td style=\"text-align: right;\">        0.726216</td></tr>\n",
       "<tr><td>train_27206_00001</td><td>TERMINATED</td><td>192.168.2.213:54706</td><td style=\"text-align: right;\">        0.1</td><td style=\"text-align: right;\">          5</td><td style=\"text-align: right;\">            10</td><td style=\"text-align: right;\">0.248148</td><td style=\"text-align: right;\">     1</td><td style=\"text-align: right;\">        0.628825</td></tr>\n",
       "</tbody>\n",
       "</table><br><br>"
      ],
      "text/plain": [
       "<IPython.core.display.HTML object>"
      ]
     },
     "metadata": {},
     "output_type": "display_data"
    },
    {
     "name": "stdout",
     "output_type": "stream",
     "text": [
      "Result for train_27206_00002:\n",
      "  date: 2022-04-29_00-20-51\n",
      "  done: true\n",
      "  experiment_id: b2d781bcf9b24bd99ae1b8ce06a48901\n",
      "  experiment_tag: 2_ccp_alpha=0.2,max_depth=5,n_estimators=10\n",
      "  hostname: ben-ray-small\n",
      "  iterations_since_restore: 1\n",
      "  mean_accuracy: 0.14285714285714285\n",
      "  node_ip: 192.168.2.213\n",
      "  pid: 54763\n",
      "  time_since_restore: 1.8897101879119873\n",
      "  time_this_iter_s: 1.8897101879119873\n",
      "  time_total_s: 1.8897101879119873\n",
      "  timestamp: 1651191651\n",
      "  timesteps_since_restore: 0\n",
      "  training_iteration: 1\n",
      "  trial_id: '27206_00002'\n",
      "  warmup_time: 0.11789560317993164\n",
      "  \n"
     ]
    },
    {
     "name": "stderr",
     "output_type": "stream",
     "text": [
      "2022-04-29 00:20:55,842\tINFO trial_runner.py:803 -- starting train_27206_00003\n"
     ]
    },
    {
     "data": {
      "text/html": [
       "== Status ==<br>Current time: 2022-04-29 00:21:06 (running for 00:00:46.30)<br>Memory usage on this node: 1.9/1.9 GiB: ***LOW MEMORY*** less than 10% of the memory on this node is available for use. This can cause unexpected crashes. Consider reducing the memory used by your application or reducing the Ray object store size by setting `object_store_memory` when calling `ray.init`.<br>Using FIFO scheduling algorithm.<br>Resources requested: 1.0/1 CPUs, 0/0 GPUs, 0.0/0.49 GiB heap, 0.0/0.07 GiB objects<br>Result logdir: /home/ubuntu/ray_results/train_2022-04-29_00-20-19<br>Number of trials: 20/108 (16 PENDING, 1 RUNNING, 3 TERMINATED)<br><table>\n",
       "<thead>\n",
       "<tr><th>Trial name       </th><th>status    </th><th>loc                </th><th style=\"text-align: right;\">  ccp_alpha</th><th style=\"text-align: right;\">  max_depth</th><th style=\"text-align: right;\">  n_estimators</th><th style=\"text-align: right;\">     acc</th><th style=\"text-align: right;\">  iter</th><th style=\"text-align: right;\">  total time (s)</th></tr>\n",
       "</thead>\n",
       "<tbody>\n",
       "<tr><td>train_27206_00003</td><td>RUNNING   </td><td>192.168.2.213:54897</td><td style=\"text-align: right;\">        0  </td><td style=\"text-align: right;\">         10</td><td style=\"text-align: right;\">            10</td><td style=\"text-align: right;\">        </td><td style=\"text-align: right;\">      </td><td style=\"text-align: right;\">                </td></tr>\n",
       "<tr><td>train_27206_00004</td><td>PENDING   </td><td>                   </td><td style=\"text-align: right;\">        0.1</td><td style=\"text-align: right;\">         10</td><td style=\"text-align: right;\">            10</td><td style=\"text-align: right;\">        </td><td style=\"text-align: right;\">      </td><td style=\"text-align: right;\">                </td></tr>\n",
       "<tr><td>train_27206_00005</td><td>PENDING   </td><td>                   </td><td style=\"text-align: right;\">        0.2</td><td style=\"text-align: right;\">         10</td><td style=\"text-align: right;\">            10</td><td style=\"text-align: right;\">        </td><td style=\"text-align: right;\">      </td><td style=\"text-align: right;\">                </td></tr>\n",
       "<tr><td>train_27206_00006</td><td>PENDING   </td><td>                   </td><td style=\"text-align: right;\">        0  </td><td style=\"text-align: right;\">         15</td><td style=\"text-align: right;\">            10</td><td style=\"text-align: right;\">        </td><td style=\"text-align: right;\">      </td><td style=\"text-align: right;\">                </td></tr>\n",
       "<tr><td>train_27206_00007</td><td>PENDING   </td><td>                   </td><td style=\"text-align: right;\">        0.1</td><td style=\"text-align: right;\">         15</td><td style=\"text-align: right;\">            10</td><td style=\"text-align: right;\">        </td><td style=\"text-align: right;\">      </td><td style=\"text-align: right;\">                </td></tr>\n",
       "<tr><td>train_27206_00008</td><td>PENDING   </td><td>                   </td><td style=\"text-align: right;\">        0.2</td><td style=\"text-align: right;\">         15</td><td style=\"text-align: right;\">            10</td><td style=\"text-align: right;\">        </td><td style=\"text-align: right;\">      </td><td style=\"text-align: right;\">                </td></tr>\n",
       "<tr><td>train_27206_00009</td><td>PENDING   </td><td>                   </td><td style=\"text-align: right;\">        0  </td><td style=\"text-align: right;\">         20</td><td style=\"text-align: right;\">            10</td><td style=\"text-align: right;\">        </td><td style=\"text-align: right;\">      </td><td style=\"text-align: right;\">                </td></tr>\n",
       "<tr><td>train_27206_00010</td><td>PENDING   </td><td>                   </td><td style=\"text-align: right;\">        0.1</td><td style=\"text-align: right;\">         20</td><td style=\"text-align: right;\">            10</td><td style=\"text-align: right;\">        </td><td style=\"text-align: right;\">      </td><td style=\"text-align: right;\">                </td></tr>\n",
       "<tr><td>train_27206_00011</td><td>PENDING   </td><td>                   </td><td style=\"text-align: right;\">        0.2</td><td style=\"text-align: right;\">         20</td><td style=\"text-align: right;\">            10</td><td style=\"text-align: right;\">        </td><td style=\"text-align: right;\">      </td><td style=\"text-align: right;\">                </td></tr>\n",
       "<tr><td>train_27206_00012</td><td>PENDING   </td><td>                   </td><td style=\"text-align: right;\">        0  </td><td style=\"text-align: right;\">         25</td><td style=\"text-align: right;\">            10</td><td style=\"text-align: right;\">        </td><td style=\"text-align: right;\">      </td><td style=\"text-align: right;\">                </td></tr>\n",
       "<tr><td>train_27206_00013</td><td>PENDING   </td><td>                   </td><td style=\"text-align: right;\">        0.1</td><td style=\"text-align: right;\">         25</td><td style=\"text-align: right;\">            10</td><td style=\"text-align: right;\">        </td><td style=\"text-align: right;\">      </td><td style=\"text-align: right;\">                </td></tr>\n",
       "<tr><td>train_27206_00014</td><td>PENDING   </td><td>                   </td><td style=\"text-align: right;\">        0.2</td><td style=\"text-align: right;\">         25</td><td style=\"text-align: right;\">            10</td><td style=\"text-align: right;\">        </td><td style=\"text-align: right;\">      </td><td style=\"text-align: right;\">                </td></tr>\n",
       "<tr><td>train_27206_00015</td><td>PENDING   </td><td>                   </td><td style=\"text-align: right;\">        0  </td><td style=\"text-align: right;\">         30</td><td style=\"text-align: right;\">            10</td><td style=\"text-align: right;\">        </td><td style=\"text-align: right;\">      </td><td style=\"text-align: right;\">                </td></tr>\n",
       "<tr><td>train_27206_00016</td><td>PENDING   </td><td>                   </td><td style=\"text-align: right;\">        0.1</td><td style=\"text-align: right;\">         30</td><td style=\"text-align: right;\">            10</td><td style=\"text-align: right;\">        </td><td style=\"text-align: right;\">      </td><td style=\"text-align: right;\">                </td></tr>\n",
       "<tr><td>train_27206_00017</td><td>PENDING   </td><td>                   </td><td style=\"text-align: right;\">        0.2</td><td style=\"text-align: right;\">         30</td><td style=\"text-align: right;\">            10</td><td style=\"text-align: right;\">        </td><td style=\"text-align: right;\">      </td><td style=\"text-align: right;\">                </td></tr>\n",
       "<tr><td>train_27206_00018</td><td>PENDING   </td><td>                   </td><td style=\"text-align: right;\">        0  </td><td style=\"text-align: right;\">         35</td><td style=\"text-align: right;\">            10</td><td style=\"text-align: right;\">        </td><td style=\"text-align: right;\">      </td><td style=\"text-align: right;\">                </td></tr>\n",
       "<tr><td>train_27206_00019</td><td>PENDING   </td><td>                   </td><td style=\"text-align: right;\">        0.1</td><td style=\"text-align: right;\">         35</td><td style=\"text-align: right;\">            10</td><td style=\"text-align: right;\">        </td><td style=\"text-align: right;\">      </td><td style=\"text-align: right;\">                </td></tr>\n",
       "<tr><td>train_27206_00000</td><td>TERMINATED</td><td>192.168.2.213:54649</td><td style=\"text-align: right;\">        0  </td><td style=\"text-align: right;\">          5</td><td style=\"text-align: right;\">            10</td><td style=\"text-align: right;\">0.575331</td><td style=\"text-align: right;\">     1</td><td style=\"text-align: right;\">        0.726216</td></tr>\n",
       "<tr><td>train_27206_00001</td><td>TERMINATED</td><td>192.168.2.213:54706</td><td style=\"text-align: right;\">        0.1</td><td style=\"text-align: right;\">          5</td><td style=\"text-align: right;\">            10</td><td style=\"text-align: right;\">0.248148</td><td style=\"text-align: right;\">     1</td><td style=\"text-align: right;\">        0.628825</td></tr>\n",
       "<tr><td>train_27206_00002</td><td>TERMINATED</td><td>192.168.2.213:54763</td><td style=\"text-align: right;\">        0.2</td><td style=\"text-align: right;\">          5</td><td style=\"text-align: right;\">            10</td><td style=\"text-align: right;\">0.142857</td><td style=\"text-align: right;\">     1</td><td style=\"text-align: right;\">        1.88971 </td></tr>\n",
       "</tbody>\n",
       "</table><br><br>"
      ],
      "text/plain": [
       "<IPython.core.display.HTML object>"
      ]
     },
     "metadata": {},
     "output_type": "display_data"
    },
    {
     "name": "stdout",
     "output_type": "stream",
     "text": [
      "Result for train_27206_00003:\n",
      "  date: 2022-04-29_00-21-09\n",
      "  done: false\n",
      "  experiment_id: 6f6041cee28e45818da6fcfb86174683\n",
      "  hostname: ben-ray-small\n",
      "  iterations_since_restore: 1\n",
      "  mean_accuracy: 0.6275793650793651\n",
      "  node_ip: 192.168.2.213\n",
      "  pid: 54897\n",
      "  time_since_restore: 3.3560924530029297\n",
      "  time_this_iter_s: 3.3560924530029297\n",
      "  time_total_s: 3.3560924530029297\n",
      "  timestamp: 1651191669\n",
      "  timesteps_since_restore: 0\n",
      "  training_iteration: 1\n",
      "  trial_id: '27206_00003'\n",
      "  warmup_time: 0.13846397399902344\n",
      "  \n"
     ]
    },
    {
     "data": {
      "text/html": [
       "== Status ==<br>Current time: 2022-04-29 00:21:09 (running for 00:00:49.89)<br>Memory usage on this node: 1.9/1.9 GiB: ***LOW MEMORY*** less than 10% of the memory on this node is available for use. This can cause unexpected crashes. Consider reducing the memory used by your application or reducing the Ray object store size by setting `object_store_memory` when calling `ray.init`.<br>Using FIFO scheduling algorithm.<br>Resources requested: 1.0/1 CPUs, 0/0 GPUs, 0.0/0.49 GiB heap, 0.0/0.07 GiB objects<br>Result logdir: /home/ubuntu/ray_results/train_2022-04-29_00-20-19<br>Number of trials: 20/108 (16 PENDING, 1 RUNNING, 3 TERMINATED)<br><table>\n",
       "<thead>\n",
       "<tr><th>Trial name       </th><th>status    </th><th>loc                </th><th style=\"text-align: right;\">  ccp_alpha</th><th style=\"text-align: right;\">  max_depth</th><th style=\"text-align: right;\">  n_estimators</th><th style=\"text-align: right;\">     acc</th><th style=\"text-align: right;\">  iter</th><th style=\"text-align: right;\">  total time (s)</th></tr>\n",
       "</thead>\n",
       "<tbody>\n",
       "<tr><td>train_27206_00003</td><td>RUNNING   </td><td>192.168.2.213:54897</td><td style=\"text-align: right;\">        0  </td><td style=\"text-align: right;\">         10</td><td style=\"text-align: right;\">            10</td><td style=\"text-align: right;\">0.627579</td><td style=\"text-align: right;\">     1</td><td style=\"text-align: right;\">        3.35609 </td></tr>\n",
       "<tr><td>train_27206_00004</td><td>PENDING   </td><td>                   </td><td style=\"text-align: right;\">        0.1</td><td style=\"text-align: right;\">         10</td><td style=\"text-align: right;\">            10</td><td style=\"text-align: right;\">        </td><td style=\"text-align: right;\">      </td><td style=\"text-align: right;\">                </td></tr>\n",
       "<tr><td>train_27206_00005</td><td>PENDING   </td><td>                   </td><td style=\"text-align: right;\">        0.2</td><td style=\"text-align: right;\">         10</td><td style=\"text-align: right;\">            10</td><td style=\"text-align: right;\">        </td><td style=\"text-align: right;\">      </td><td style=\"text-align: right;\">                </td></tr>\n",
       "<tr><td>train_27206_00006</td><td>PENDING   </td><td>                   </td><td style=\"text-align: right;\">        0  </td><td style=\"text-align: right;\">         15</td><td style=\"text-align: right;\">            10</td><td style=\"text-align: right;\">        </td><td style=\"text-align: right;\">      </td><td style=\"text-align: right;\">                </td></tr>\n",
       "<tr><td>train_27206_00007</td><td>PENDING   </td><td>                   </td><td style=\"text-align: right;\">        0.1</td><td style=\"text-align: right;\">         15</td><td style=\"text-align: right;\">            10</td><td style=\"text-align: right;\">        </td><td style=\"text-align: right;\">      </td><td style=\"text-align: right;\">                </td></tr>\n",
       "<tr><td>train_27206_00008</td><td>PENDING   </td><td>                   </td><td style=\"text-align: right;\">        0.2</td><td style=\"text-align: right;\">         15</td><td style=\"text-align: right;\">            10</td><td style=\"text-align: right;\">        </td><td style=\"text-align: right;\">      </td><td style=\"text-align: right;\">                </td></tr>\n",
       "<tr><td>train_27206_00009</td><td>PENDING   </td><td>                   </td><td style=\"text-align: right;\">        0  </td><td style=\"text-align: right;\">         20</td><td style=\"text-align: right;\">            10</td><td style=\"text-align: right;\">        </td><td style=\"text-align: right;\">      </td><td style=\"text-align: right;\">                </td></tr>\n",
       "<tr><td>train_27206_00010</td><td>PENDING   </td><td>                   </td><td style=\"text-align: right;\">        0.1</td><td style=\"text-align: right;\">         20</td><td style=\"text-align: right;\">            10</td><td style=\"text-align: right;\">        </td><td style=\"text-align: right;\">      </td><td style=\"text-align: right;\">                </td></tr>\n",
       "<tr><td>train_27206_00011</td><td>PENDING   </td><td>                   </td><td style=\"text-align: right;\">        0.2</td><td style=\"text-align: right;\">         20</td><td style=\"text-align: right;\">            10</td><td style=\"text-align: right;\">        </td><td style=\"text-align: right;\">      </td><td style=\"text-align: right;\">                </td></tr>\n",
       "<tr><td>train_27206_00012</td><td>PENDING   </td><td>                   </td><td style=\"text-align: right;\">        0  </td><td style=\"text-align: right;\">         25</td><td style=\"text-align: right;\">            10</td><td style=\"text-align: right;\">        </td><td style=\"text-align: right;\">      </td><td style=\"text-align: right;\">                </td></tr>\n",
       "<tr><td>train_27206_00013</td><td>PENDING   </td><td>                   </td><td style=\"text-align: right;\">        0.1</td><td style=\"text-align: right;\">         25</td><td style=\"text-align: right;\">            10</td><td style=\"text-align: right;\">        </td><td style=\"text-align: right;\">      </td><td style=\"text-align: right;\">                </td></tr>\n",
       "<tr><td>train_27206_00014</td><td>PENDING   </td><td>                   </td><td style=\"text-align: right;\">        0.2</td><td style=\"text-align: right;\">         25</td><td style=\"text-align: right;\">            10</td><td style=\"text-align: right;\">        </td><td style=\"text-align: right;\">      </td><td style=\"text-align: right;\">                </td></tr>\n",
       "<tr><td>train_27206_00015</td><td>PENDING   </td><td>                   </td><td style=\"text-align: right;\">        0  </td><td style=\"text-align: right;\">         30</td><td style=\"text-align: right;\">            10</td><td style=\"text-align: right;\">        </td><td style=\"text-align: right;\">      </td><td style=\"text-align: right;\">                </td></tr>\n",
       "<tr><td>train_27206_00016</td><td>PENDING   </td><td>                   </td><td style=\"text-align: right;\">        0.1</td><td style=\"text-align: right;\">         30</td><td style=\"text-align: right;\">            10</td><td style=\"text-align: right;\">        </td><td style=\"text-align: right;\">      </td><td style=\"text-align: right;\">                </td></tr>\n",
       "<tr><td>train_27206_00017</td><td>PENDING   </td><td>                   </td><td style=\"text-align: right;\">        0.2</td><td style=\"text-align: right;\">         30</td><td style=\"text-align: right;\">            10</td><td style=\"text-align: right;\">        </td><td style=\"text-align: right;\">      </td><td style=\"text-align: right;\">                </td></tr>\n",
       "<tr><td>train_27206_00018</td><td>PENDING   </td><td>                   </td><td style=\"text-align: right;\">        0  </td><td style=\"text-align: right;\">         35</td><td style=\"text-align: right;\">            10</td><td style=\"text-align: right;\">        </td><td style=\"text-align: right;\">      </td><td style=\"text-align: right;\">                </td></tr>\n",
       "<tr><td>train_27206_00019</td><td>PENDING   </td><td>                   </td><td style=\"text-align: right;\">        0.1</td><td style=\"text-align: right;\">         35</td><td style=\"text-align: right;\">            10</td><td style=\"text-align: right;\">        </td><td style=\"text-align: right;\">      </td><td style=\"text-align: right;\">                </td></tr>\n",
       "<tr><td>train_27206_00000</td><td>TERMINATED</td><td>192.168.2.213:54649</td><td style=\"text-align: right;\">        0  </td><td style=\"text-align: right;\">          5</td><td style=\"text-align: right;\">            10</td><td style=\"text-align: right;\">0.575331</td><td style=\"text-align: right;\">     1</td><td style=\"text-align: right;\">        0.726216</td></tr>\n",
       "<tr><td>train_27206_00001</td><td>TERMINATED</td><td>192.168.2.213:54706</td><td style=\"text-align: right;\">        0.1</td><td style=\"text-align: right;\">          5</td><td style=\"text-align: right;\">            10</td><td style=\"text-align: right;\">0.248148</td><td style=\"text-align: right;\">     1</td><td style=\"text-align: right;\">        0.628825</td></tr>\n",
       "<tr><td>train_27206_00002</td><td>TERMINATED</td><td>192.168.2.213:54763</td><td style=\"text-align: right;\">        0.2</td><td style=\"text-align: right;\">          5</td><td style=\"text-align: right;\">            10</td><td style=\"text-align: right;\">0.142857</td><td style=\"text-align: right;\">     1</td><td style=\"text-align: right;\">        1.88971 </td></tr>\n",
       "</tbody>\n",
       "</table><br><br>"
      ],
      "text/plain": [
       "<IPython.core.display.HTML object>"
      ]
     },
     "metadata": {},
     "output_type": "display_data"
    },
    {
     "name": "stdout",
     "output_type": "stream",
     "text": [
      "Result for train_27206_00003:\n",
      "  date: 2022-04-29_00-21-09\n",
      "  done: true\n",
      "  experiment_id: 6f6041cee28e45818da6fcfb86174683\n",
      "  experiment_tag: 3_ccp_alpha=0.0,max_depth=10,n_estimators=10\n",
      "  hostname: ben-ray-small\n",
      "  iterations_since_restore: 1\n",
      "  mean_accuracy: 0.6275793650793651\n",
      "  node_ip: 192.168.2.213\n",
      "  pid: 54897\n",
      "  time_since_restore: 3.3560924530029297\n",
      "  time_this_iter_s: 3.3560924530029297\n",
      "  time_total_s: 3.3560924530029297\n",
      "  timestamp: 1651191669\n",
      "  timesteps_since_restore: 0\n",
      "  training_iteration: 1\n",
      "  trial_id: '27206_00003'\n",
      "  warmup_time: 0.13846397399902344\n",
      "  \n"
     ]
    },
    {
     "name": "stderr",
     "output_type": "stream",
     "text": [
      "2022-04-29 00:21:13,660\tINFO trial_runner.py:803 -- starting train_27206_00004\n"
     ]
    },
    {
     "data": {
      "text/html": [
       "== Status ==<br>Current time: 2022-04-29 00:21:23 (running for 00:01:03.92)<br>Memory usage on this node: 1.9/1.9 GiB: ***LOW MEMORY*** less than 10% of the memory on this node is available for use. This can cause unexpected crashes. Consider reducing the memory used by your application or reducing the Ray object store size by setting `object_store_memory` when calling `ray.init`.<br>Using FIFO scheduling algorithm.<br>Resources requested: 1.0/1 CPUs, 0/0 GPUs, 0.0/0.49 GiB heap, 0.0/0.07 GiB objects<br>Result logdir: /home/ubuntu/ray_results/train_2022-04-29_00-20-19<br>Number of trials: 21/108 (16 PENDING, 1 RUNNING, 4 TERMINATED)<br><table>\n",
       "<thead>\n",
       "<tr><th>Trial name       </th><th>status    </th><th>loc                </th><th style=\"text-align: right;\">  ccp_alpha</th><th style=\"text-align: right;\">  max_depth</th><th style=\"text-align: right;\">  n_estimators</th><th style=\"text-align: right;\">     acc</th><th style=\"text-align: right;\">  iter</th><th style=\"text-align: right;\">  total time (s)</th></tr>\n",
       "</thead>\n",
       "<tbody>\n",
       "<tr><td>train_27206_00004</td><td>RUNNING   </td><td>192.168.2.213:54962</td><td style=\"text-align: right;\">        0.1</td><td style=\"text-align: right;\">         10</td><td style=\"text-align: right;\">            10</td><td style=\"text-align: right;\">        </td><td style=\"text-align: right;\">      </td><td style=\"text-align: right;\">                </td></tr>\n",
       "<tr><td>train_27206_00005</td><td>PENDING   </td><td>                   </td><td style=\"text-align: right;\">        0.2</td><td style=\"text-align: right;\">         10</td><td style=\"text-align: right;\">            10</td><td style=\"text-align: right;\">        </td><td style=\"text-align: right;\">      </td><td style=\"text-align: right;\">                </td></tr>\n",
       "<tr><td>train_27206_00006</td><td>PENDING   </td><td>                   </td><td style=\"text-align: right;\">        0  </td><td style=\"text-align: right;\">         15</td><td style=\"text-align: right;\">            10</td><td style=\"text-align: right;\">        </td><td style=\"text-align: right;\">      </td><td style=\"text-align: right;\">                </td></tr>\n",
       "<tr><td>train_27206_00007</td><td>PENDING   </td><td>                   </td><td style=\"text-align: right;\">        0.1</td><td style=\"text-align: right;\">         15</td><td style=\"text-align: right;\">            10</td><td style=\"text-align: right;\">        </td><td style=\"text-align: right;\">      </td><td style=\"text-align: right;\">                </td></tr>\n",
       "<tr><td>train_27206_00008</td><td>PENDING   </td><td>                   </td><td style=\"text-align: right;\">        0.2</td><td style=\"text-align: right;\">         15</td><td style=\"text-align: right;\">            10</td><td style=\"text-align: right;\">        </td><td style=\"text-align: right;\">      </td><td style=\"text-align: right;\">                </td></tr>\n",
       "<tr><td>train_27206_00009</td><td>PENDING   </td><td>                   </td><td style=\"text-align: right;\">        0  </td><td style=\"text-align: right;\">         20</td><td style=\"text-align: right;\">            10</td><td style=\"text-align: right;\">        </td><td style=\"text-align: right;\">      </td><td style=\"text-align: right;\">                </td></tr>\n",
       "<tr><td>train_27206_00010</td><td>PENDING   </td><td>                   </td><td style=\"text-align: right;\">        0.1</td><td style=\"text-align: right;\">         20</td><td style=\"text-align: right;\">            10</td><td style=\"text-align: right;\">        </td><td style=\"text-align: right;\">      </td><td style=\"text-align: right;\">                </td></tr>\n",
       "<tr><td>train_27206_00011</td><td>PENDING   </td><td>                   </td><td style=\"text-align: right;\">        0.2</td><td style=\"text-align: right;\">         20</td><td style=\"text-align: right;\">            10</td><td style=\"text-align: right;\">        </td><td style=\"text-align: right;\">      </td><td style=\"text-align: right;\">                </td></tr>\n",
       "<tr><td>train_27206_00012</td><td>PENDING   </td><td>                   </td><td style=\"text-align: right;\">        0  </td><td style=\"text-align: right;\">         25</td><td style=\"text-align: right;\">            10</td><td style=\"text-align: right;\">        </td><td style=\"text-align: right;\">      </td><td style=\"text-align: right;\">                </td></tr>\n",
       "<tr><td>train_27206_00013</td><td>PENDING   </td><td>                   </td><td style=\"text-align: right;\">        0.1</td><td style=\"text-align: right;\">         25</td><td style=\"text-align: right;\">            10</td><td style=\"text-align: right;\">        </td><td style=\"text-align: right;\">      </td><td style=\"text-align: right;\">                </td></tr>\n",
       "<tr><td>train_27206_00014</td><td>PENDING   </td><td>                   </td><td style=\"text-align: right;\">        0.2</td><td style=\"text-align: right;\">         25</td><td style=\"text-align: right;\">            10</td><td style=\"text-align: right;\">        </td><td style=\"text-align: right;\">      </td><td style=\"text-align: right;\">                </td></tr>\n",
       "<tr><td>train_27206_00015</td><td>PENDING   </td><td>                   </td><td style=\"text-align: right;\">        0  </td><td style=\"text-align: right;\">         30</td><td style=\"text-align: right;\">            10</td><td style=\"text-align: right;\">        </td><td style=\"text-align: right;\">      </td><td style=\"text-align: right;\">                </td></tr>\n",
       "<tr><td>train_27206_00016</td><td>PENDING   </td><td>                   </td><td style=\"text-align: right;\">        0.1</td><td style=\"text-align: right;\">         30</td><td style=\"text-align: right;\">            10</td><td style=\"text-align: right;\">        </td><td style=\"text-align: right;\">      </td><td style=\"text-align: right;\">                </td></tr>\n",
       "<tr><td>train_27206_00017</td><td>PENDING   </td><td>                   </td><td style=\"text-align: right;\">        0.2</td><td style=\"text-align: right;\">         30</td><td style=\"text-align: right;\">            10</td><td style=\"text-align: right;\">        </td><td style=\"text-align: right;\">      </td><td style=\"text-align: right;\">                </td></tr>\n",
       "<tr><td>train_27206_00018</td><td>PENDING   </td><td>                   </td><td style=\"text-align: right;\">        0  </td><td style=\"text-align: right;\">         35</td><td style=\"text-align: right;\">            10</td><td style=\"text-align: right;\">        </td><td style=\"text-align: right;\">      </td><td style=\"text-align: right;\">                </td></tr>\n",
       "<tr><td>train_27206_00019</td><td>PENDING   </td><td>                   </td><td style=\"text-align: right;\">        0.1</td><td style=\"text-align: right;\">         35</td><td style=\"text-align: right;\">            10</td><td style=\"text-align: right;\">        </td><td style=\"text-align: right;\">      </td><td style=\"text-align: right;\">                </td></tr>\n",
       "<tr><td>train_27206_00000</td><td>TERMINATED</td><td>192.168.2.213:54649</td><td style=\"text-align: right;\">        0  </td><td style=\"text-align: right;\">          5</td><td style=\"text-align: right;\">            10</td><td style=\"text-align: right;\">0.575331</td><td style=\"text-align: right;\">     1</td><td style=\"text-align: right;\">        0.726216</td></tr>\n",
       "<tr><td>train_27206_00001</td><td>TERMINATED</td><td>192.168.2.213:54706</td><td style=\"text-align: right;\">        0.1</td><td style=\"text-align: right;\">          5</td><td style=\"text-align: right;\">            10</td><td style=\"text-align: right;\">0.248148</td><td style=\"text-align: right;\">     1</td><td style=\"text-align: right;\">        0.628825</td></tr>\n",
       "<tr><td>train_27206_00002</td><td>TERMINATED</td><td>192.168.2.213:54763</td><td style=\"text-align: right;\">        0.2</td><td style=\"text-align: right;\">          5</td><td style=\"text-align: right;\">            10</td><td style=\"text-align: right;\">0.142857</td><td style=\"text-align: right;\">     1</td><td style=\"text-align: right;\">        1.88971 </td></tr>\n",
       "<tr><td>train_27206_00003</td><td>TERMINATED</td><td>192.168.2.213:54897</td><td style=\"text-align: right;\">        0  </td><td style=\"text-align: right;\">         10</td><td style=\"text-align: right;\">            10</td><td style=\"text-align: right;\">0.627579</td><td style=\"text-align: right;\">     1</td><td style=\"text-align: right;\">        3.35609 </td></tr>\n",
       "</tbody>\n",
       "</table><br>... 1 more trials not shown (1 PENDING)<br><br>"
      ],
      "text/plain": [
       "<IPython.core.display.HTML object>"
      ]
     },
     "metadata": {},
     "output_type": "display_data"
    },
    {
     "name": "stdout",
     "output_type": "stream",
     "text": [
      "Result for train_27206_00004:\n",
      "  date: 2022-04-29_00-21-28\n",
      "  done: false\n",
      "  experiment_id: 373f244c435e4bb29c29278a8cf7e001\n",
      "  hostname: ben-ray-small\n",
      "  iterations_since_restore: 1\n",
      "  mean_accuracy: 0.2855820105820106\n",
      "  node_ip: 192.168.2.213\n",
      "  pid: 54962\n",
      "  time_since_restore: 4.933159112930298\n",
      "  time_this_iter_s: 4.933159112930298\n",
      "  time_total_s: 4.933159112930298\n",
      "  timestamp: 1651191688\n",
      "  timesteps_since_restore: 0\n",
      "  training_iteration: 1\n",
      "  trial_id: '27206_00004'\n",
      "  warmup_time: 0.2796506881713867\n",
      "  \n"
     ]
    },
    {
     "data": {
      "text/html": [
       "== Status ==<br>Current time: 2022-04-29 00:21:29 (running for 00:01:09.33)<br>Memory usage on this node: 1.9/1.9 GiB: ***LOW MEMORY*** less than 10% of the memory on this node is available for use. This can cause unexpected crashes. Consider reducing the memory used by your application or reducing the Ray object store size by setting `object_store_memory` when calling `ray.init`.<br>Using FIFO scheduling algorithm.<br>Resources requested: 1.0/1 CPUs, 0/0 GPUs, 0.0/0.49 GiB heap, 0.0/0.07 GiB objects<br>Result logdir: /home/ubuntu/ray_results/train_2022-04-29_00-20-19<br>Number of trials: 21/108 (16 PENDING, 1 RUNNING, 4 TERMINATED)<br><table>\n",
       "<thead>\n",
       "<tr><th>Trial name       </th><th>status    </th><th>loc                </th><th style=\"text-align: right;\">  ccp_alpha</th><th style=\"text-align: right;\">  max_depth</th><th style=\"text-align: right;\">  n_estimators</th><th style=\"text-align: right;\">     acc</th><th style=\"text-align: right;\">  iter</th><th style=\"text-align: right;\">  total time (s)</th></tr>\n",
       "</thead>\n",
       "<tbody>\n",
       "<tr><td>train_27206_00004</td><td>RUNNING   </td><td>192.168.2.213:54962</td><td style=\"text-align: right;\">        0.1</td><td style=\"text-align: right;\">         10</td><td style=\"text-align: right;\">            10</td><td style=\"text-align: right;\">0.285582</td><td style=\"text-align: right;\">     1</td><td style=\"text-align: right;\">        4.93316 </td></tr>\n",
       "<tr><td>train_27206_00005</td><td>PENDING   </td><td>                   </td><td style=\"text-align: right;\">        0.2</td><td style=\"text-align: right;\">         10</td><td style=\"text-align: right;\">            10</td><td style=\"text-align: right;\">        </td><td style=\"text-align: right;\">      </td><td style=\"text-align: right;\">                </td></tr>\n",
       "<tr><td>train_27206_00006</td><td>PENDING   </td><td>                   </td><td style=\"text-align: right;\">        0  </td><td style=\"text-align: right;\">         15</td><td style=\"text-align: right;\">            10</td><td style=\"text-align: right;\">        </td><td style=\"text-align: right;\">      </td><td style=\"text-align: right;\">                </td></tr>\n",
       "<tr><td>train_27206_00007</td><td>PENDING   </td><td>                   </td><td style=\"text-align: right;\">        0.1</td><td style=\"text-align: right;\">         15</td><td style=\"text-align: right;\">            10</td><td style=\"text-align: right;\">        </td><td style=\"text-align: right;\">      </td><td style=\"text-align: right;\">                </td></tr>\n",
       "<tr><td>train_27206_00008</td><td>PENDING   </td><td>                   </td><td style=\"text-align: right;\">        0.2</td><td style=\"text-align: right;\">         15</td><td style=\"text-align: right;\">            10</td><td style=\"text-align: right;\">        </td><td style=\"text-align: right;\">      </td><td style=\"text-align: right;\">                </td></tr>\n",
       "<tr><td>train_27206_00009</td><td>PENDING   </td><td>                   </td><td style=\"text-align: right;\">        0  </td><td style=\"text-align: right;\">         20</td><td style=\"text-align: right;\">            10</td><td style=\"text-align: right;\">        </td><td style=\"text-align: right;\">      </td><td style=\"text-align: right;\">                </td></tr>\n",
       "<tr><td>train_27206_00010</td><td>PENDING   </td><td>                   </td><td style=\"text-align: right;\">        0.1</td><td style=\"text-align: right;\">         20</td><td style=\"text-align: right;\">            10</td><td style=\"text-align: right;\">        </td><td style=\"text-align: right;\">      </td><td style=\"text-align: right;\">                </td></tr>\n",
       "<tr><td>train_27206_00011</td><td>PENDING   </td><td>                   </td><td style=\"text-align: right;\">        0.2</td><td style=\"text-align: right;\">         20</td><td style=\"text-align: right;\">            10</td><td style=\"text-align: right;\">        </td><td style=\"text-align: right;\">      </td><td style=\"text-align: right;\">                </td></tr>\n",
       "<tr><td>train_27206_00012</td><td>PENDING   </td><td>                   </td><td style=\"text-align: right;\">        0  </td><td style=\"text-align: right;\">         25</td><td style=\"text-align: right;\">            10</td><td style=\"text-align: right;\">        </td><td style=\"text-align: right;\">      </td><td style=\"text-align: right;\">                </td></tr>\n",
       "<tr><td>train_27206_00013</td><td>PENDING   </td><td>                   </td><td style=\"text-align: right;\">        0.1</td><td style=\"text-align: right;\">         25</td><td style=\"text-align: right;\">            10</td><td style=\"text-align: right;\">        </td><td style=\"text-align: right;\">      </td><td style=\"text-align: right;\">                </td></tr>\n",
       "<tr><td>train_27206_00014</td><td>PENDING   </td><td>                   </td><td style=\"text-align: right;\">        0.2</td><td style=\"text-align: right;\">         25</td><td style=\"text-align: right;\">            10</td><td style=\"text-align: right;\">        </td><td style=\"text-align: right;\">      </td><td style=\"text-align: right;\">                </td></tr>\n",
       "<tr><td>train_27206_00015</td><td>PENDING   </td><td>                   </td><td style=\"text-align: right;\">        0  </td><td style=\"text-align: right;\">         30</td><td style=\"text-align: right;\">            10</td><td style=\"text-align: right;\">        </td><td style=\"text-align: right;\">      </td><td style=\"text-align: right;\">                </td></tr>\n",
       "<tr><td>train_27206_00016</td><td>PENDING   </td><td>                   </td><td style=\"text-align: right;\">        0.1</td><td style=\"text-align: right;\">         30</td><td style=\"text-align: right;\">            10</td><td style=\"text-align: right;\">        </td><td style=\"text-align: right;\">      </td><td style=\"text-align: right;\">                </td></tr>\n",
       "<tr><td>train_27206_00017</td><td>PENDING   </td><td>                   </td><td style=\"text-align: right;\">        0.2</td><td style=\"text-align: right;\">         30</td><td style=\"text-align: right;\">            10</td><td style=\"text-align: right;\">        </td><td style=\"text-align: right;\">      </td><td style=\"text-align: right;\">                </td></tr>\n",
       "<tr><td>train_27206_00018</td><td>PENDING   </td><td>                   </td><td style=\"text-align: right;\">        0  </td><td style=\"text-align: right;\">         35</td><td style=\"text-align: right;\">            10</td><td style=\"text-align: right;\">        </td><td style=\"text-align: right;\">      </td><td style=\"text-align: right;\">                </td></tr>\n",
       "<tr><td>train_27206_00019</td><td>PENDING   </td><td>                   </td><td style=\"text-align: right;\">        0.1</td><td style=\"text-align: right;\">         35</td><td style=\"text-align: right;\">            10</td><td style=\"text-align: right;\">        </td><td style=\"text-align: right;\">      </td><td style=\"text-align: right;\">                </td></tr>\n",
       "<tr><td>train_27206_00000</td><td>TERMINATED</td><td>192.168.2.213:54649</td><td style=\"text-align: right;\">        0  </td><td style=\"text-align: right;\">          5</td><td style=\"text-align: right;\">            10</td><td style=\"text-align: right;\">0.575331</td><td style=\"text-align: right;\">     1</td><td style=\"text-align: right;\">        0.726216</td></tr>\n",
       "<tr><td>train_27206_00001</td><td>TERMINATED</td><td>192.168.2.213:54706</td><td style=\"text-align: right;\">        0.1</td><td style=\"text-align: right;\">          5</td><td style=\"text-align: right;\">            10</td><td style=\"text-align: right;\">0.248148</td><td style=\"text-align: right;\">     1</td><td style=\"text-align: right;\">        0.628825</td></tr>\n",
       "<tr><td>train_27206_00002</td><td>TERMINATED</td><td>192.168.2.213:54763</td><td style=\"text-align: right;\">        0.2</td><td style=\"text-align: right;\">          5</td><td style=\"text-align: right;\">            10</td><td style=\"text-align: right;\">0.142857</td><td style=\"text-align: right;\">     1</td><td style=\"text-align: right;\">        1.88971 </td></tr>\n",
       "<tr><td>train_27206_00003</td><td>TERMINATED</td><td>192.168.2.213:54897</td><td style=\"text-align: right;\">        0  </td><td style=\"text-align: right;\">         10</td><td style=\"text-align: right;\">            10</td><td style=\"text-align: right;\">0.627579</td><td style=\"text-align: right;\">     1</td><td style=\"text-align: right;\">        3.35609 </td></tr>\n",
       "</tbody>\n",
       "</table><br>... 1 more trials not shown (1 PENDING)<br><br>"
      ],
      "text/plain": [
       "<IPython.core.display.HTML object>"
      ]
     },
     "metadata": {},
     "output_type": "display_data"
    },
    {
     "name": "stdout",
     "output_type": "stream",
     "text": [
      "Result for train_27206_00004:\n",
      "  date: 2022-04-29_00-21-28\n",
      "  done: true\n",
      "  experiment_id: 373f244c435e4bb29c29278a8cf7e001\n",
      "  experiment_tag: 4_ccp_alpha=0.1,max_depth=10,n_estimators=10\n",
      "  hostname: ben-ray-small\n",
      "  iterations_since_restore: 1\n",
      "  mean_accuracy: 0.2855820105820106\n",
      "  node_ip: 192.168.2.213\n",
      "  pid: 54962\n",
      "  time_since_restore: 4.933159112930298\n",
      "  time_this_iter_s: 4.933159112930298\n",
      "  time_total_s: 4.933159112930298\n",
      "  timestamp: 1651191688\n",
      "  timesteps_since_restore: 0\n",
      "  training_iteration: 1\n",
      "  trial_id: '27206_00004'\n",
      "  warmup_time: 0.2796506881713867\n",
      "  \n"
     ]
    },
    {
     "name": "stderr",
     "output_type": "stream",
     "text": [
      "2022-04-29 00:21:33,882\tINFO trial_runner.py:803 -- starting train_27206_00005\n"
     ]
    },
    {
     "data": {
      "text/html": [
       "== Status ==<br>Current time: 2022-04-29 00:21:44 (running for 00:01:24.73)<br>Memory usage on this node: 1.9/1.9 GiB: ***LOW MEMORY*** less than 10% of the memory on this node is available for use. This can cause unexpected crashes. Consider reducing the memory used by your application or reducing the Ray object store size by setting `object_store_memory` when calling `ray.init`.<br>Using FIFO scheduling algorithm.<br>Resources requested: 1.0/1 CPUs, 0/0 GPUs, 0.0/0.49 GiB heap, 0.0/0.07 GiB objects<br>Result logdir: /home/ubuntu/ray_results/train_2022-04-29_00-20-19<br>Number of trials: 22/108 (16 PENDING, 1 RUNNING, 5 TERMINATED)<br><table>\n",
       "<thead>\n",
       "<tr><th>Trial name       </th><th>status    </th><th>loc                </th><th style=\"text-align: right;\">  ccp_alpha</th><th style=\"text-align: right;\">  max_depth</th><th style=\"text-align: right;\">  n_estimators</th><th style=\"text-align: right;\">     acc</th><th style=\"text-align: right;\">  iter</th><th style=\"text-align: right;\">  total time (s)</th></tr>\n",
       "</thead>\n",
       "<tbody>\n",
       "<tr><td>train_27206_00005</td><td>RUNNING   </td><td>192.168.2.213:55029</td><td style=\"text-align: right;\">        0.2</td><td style=\"text-align: right;\">         10</td><td style=\"text-align: right;\">            10</td><td style=\"text-align: right;\">        </td><td style=\"text-align: right;\">      </td><td style=\"text-align: right;\">                </td></tr>\n",
       "<tr><td>train_27206_00006</td><td>PENDING   </td><td>                   </td><td style=\"text-align: right;\">        0  </td><td style=\"text-align: right;\">         15</td><td style=\"text-align: right;\">            10</td><td style=\"text-align: right;\">        </td><td style=\"text-align: right;\">      </td><td style=\"text-align: right;\">                </td></tr>\n",
       "<tr><td>train_27206_00007</td><td>PENDING   </td><td>                   </td><td style=\"text-align: right;\">        0.1</td><td style=\"text-align: right;\">         15</td><td style=\"text-align: right;\">            10</td><td style=\"text-align: right;\">        </td><td style=\"text-align: right;\">      </td><td style=\"text-align: right;\">                </td></tr>\n",
       "<tr><td>train_27206_00008</td><td>PENDING   </td><td>                   </td><td style=\"text-align: right;\">        0.2</td><td style=\"text-align: right;\">         15</td><td style=\"text-align: right;\">            10</td><td style=\"text-align: right;\">        </td><td style=\"text-align: right;\">      </td><td style=\"text-align: right;\">                </td></tr>\n",
       "<tr><td>train_27206_00009</td><td>PENDING   </td><td>                   </td><td style=\"text-align: right;\">        0  </td><td style=\"text-align: right;\">         20</td><td style=\"text-align: right;\">            10</td><td style=\"text-align: right;\">        </td><td style=\"text-align: right;\">      </td><td style=\"text-align: right;\">                </td></tr>\n",
       "<tr><td>train_27206_00010</td><td>PENDING   </td><td>                   </td><td style=\"text-align: right;\">        0.1</td><td style=\"text-align: right;\">         20</td><td style=\"text-align: right;\">            10</td><td style=\"text-align: right;\">        </td><td style=\"text-align: right;\">      </td><td style=\"text-align: right;\">                </td></tr>\n",
       "<tr><td>train_27206_00011</td><td>PENDING   </td><td>                   </td><td style=\"text-align: right;\">        0.2</td><td style=\"text-align: right;\">         20</td><td style=\"text-align: right;\">            10</td><td style=\"text-align: right;\">        </td><td style=\"text-align: right;\">      </td><td style=\"text-align: right;\">                </td></tr>\n",
       "<tr><td>train_27206_00012</td><td>PENDING   </td><td>                   </td><td style=\"text-align: right;\">        0  </td><td style=\"text-align: right;\">         25</td><td style=\"text-align: right;\">            10</td><td style=\"text-align: right;\">        </td><td style=\"text-align: right;\">      </td><td style=\"text-align: right;\">                </td></tr>\n",
       "<tr><td>train_27206_00013</td><td>PENDING   </td><td>                   </td><td style=\"text-align: right;\">        0.1</td><td style=\"text-align: right;\">         25</td><td style=\"text-align: right;\">            10</td><td style=\"text-align: right;\">        </td><td style=\"text-align: right;\">      </td><td style=\"text-align: right;\">                </td></tr>\n",
       "<tr><td>train_27206_00014</td><td>PENDING   </td><td>                   </td><td style=\"text-align: right;\">        0.2</td><td style=\"text-align: right;\">         25</td><td style=\"text-align: right;\">            10</td><td style=\"text-align: right;\">        </td><td style=\"text-align: right;\">      </td><td style=\"text-align: right;\">                </td></tr>\n",
       "<tr><td>train_27206_00015</td><td>PENDING   </td><td>                   </td><td style=\"text-align: right;\">        0  </td><td style=\"text-align: right;\">         30</td><td style=\"text-align: right;\">            10</td><td style=\"text-align: right;\">        </td><td style=\"text-align: right;\">      </td><td style=\"text-align: right;\">                </td></tr>\n",
       "<tr><td>train_27206_00016</td><td>PENDING   </td><td>                   </td><td style=\"text-align: right;\">        0.1</td><td style=\"text-align: right;\">         30</td><td style=\"text-align: right;\">            10</td><td style=\"text-align: right;\">        </td><td style=\"text-align: right;\">      </td><td style=\"text-align: right;\">                </td></tr>\n",
       "<tr><td>train_27206_00017</td><td>PENDING   </td><td>                   </td><td style=\"text-align: right;\">        0.2</td><td style=\"text-align: right;\">         30</td><td style=\"text-align: right;\">            10</td><td style=\"text-align: right;\">        </td><td style=\"text-align: right;\">      </td><td style=\"text-align: right;\">                </td></tr>\n",
       "<tr><td>train_27206_00018</td><td>PENDING   </td><td>                   </td><td style=\"text-align: right;\">        0  </td><td style=\"text-align: right;\">         35</td><td style=\"text-align: right;\">            10</td><td style=\"text-align: right;\">        </td><td style=\"text-align: right;\">      </td><td style=\"text-align: right;\">                </td></tr>\n",
       "<tr><td>train_27206_00019</td><td>PENDING   </td><td>                   </td><td style=\"text-align: right;\">        0.1</td><td style=\"text-align: right;\">         35</td><td style=\"text-align: right;\">            10</td><td style=\"text-align: right;\">        </td><td style=\"text-align: right;\">      </td><td style=\"text-align: right;\">                </td></tr>\n",
       "<tr><td>train_27206_00000</td><td>TERMINATED</td><td>192.168.2.213:54649</td><td style=\"text-align: right;\">        0  </td><td style=\"text-align: right;\">          5</td><td style=\"text-align: right;\">            10</td><td style=\"text-align: right;\">0.575331</td><td style=\"text-align: right;\">     1</td><td style=\"text-align: right;\">        0.726216</td></tr>\n",
       "<tr><td>train_27206_00001</td><td>TERMINATED</td><td>192.168.2.213:54706</td><td style=\"text-align: right;\">        0.1</td><td style=\"text-align: right;\">          5</td><td style=\"text-align: right;\">            10</td><td style=\"text-align: right;\">0.248148</td><td style=\"text-align: right;\">     1</td><td style=\"text-align: right;\">        0.628825</td></tr>\n",
       "<tr><td>train_27206_00002</td><td>TERMINATED</td><td>192.168.2.213:54763</td><td style=\"text-align: right;\">        0.2</td><td style=\"text-align: right;\">          5</td><td style=\"text-align: right;\">            10</td><td style=\"text-align: right;\">0.142857</td><td style=\"text-align: right;\">     1</td><td style=\"text-align: right;\">        1.88971 </td></tr>\n",
       "<tr><td>train_27206_00003</td><td>TERMINATED</td><td>192.168.2.213:54897</td><td style=\"text-align: right;\">        0  </td><td style=\"text-align: right;\">         10</td><td style=\"text-align: right;\">            10</td><td style=\"text-align: right;\">0.627579</td><td style=\"text-align: right;\">     1</td><td style=\"text-align: right;\">        3.35609 </td></tr>\n",
       "<tr><td>train_27206_00004</td><td>TERMINATED</td><td>192.168.2.213:54962</td><td style=\"text-align: right;\">        0.1</td><td style=\"text-align: right;\">         10</td><td style=\"text-align: right;\">            10</td><td style=\"text-align: right;\">0.285582</td><td style=\"text-align: right;\">     1</td><td style=\"text-align: right;\">        4.93316 </td></tr>\n",
       "</tbody>\n",
       "</table><br>... 2 more trials not shown (2 PENDING)<br><br>"
      ],
      "text/plain": [
       "<IPython.core.display.HTML object>"
      ]
     },
     "metadata": {},
     "output_type": "display_data"
    },
    {
     "data": {
      "text/html": [
       "== Status ==<br>Current time: 2022-04-29 00:21:50 (running for 00:01:30.30)<br>Memory usage on this node: 1.9/1.9 GiB: ***LOW MEMORY*** less than 10% of the memory on this node is available for use. This can cause unexpected crashes. Consider reducing the memory used by your application or reducing the Ray object store size by setting `object_store_memory` when calling `ray.init`.<br>Using FIFO scheduling algorithm.<br>Resources requested: 1.0/1 CPUs, 0/0 GPUs, 0.0/0.49 GiB heap, 0.0/0.07 GiB objects<br>Result logdir: /home/ubuntu/ray_results/train_2022-04-29_00-20-19<br>Number of trials: 22/108 (16 PENDING, 1 RUNNING, 5 TERMINATED)<br><table>\n",
       "<thead>\n",
       "<tr><th>Trial name       </th><th>status    </th><th>loc                </th><th style=\"text-align: right;\">  ccp_alpha</th><th style=\"text-align: right;\">  max_depth</th><th style=\"text-align: right;\">  n_estimators</th><th style=\"text-align: right;\">     acc</th><th style=\"text-align: right;\">  iter</th><th style=\"text-align: right;\">  total time (s)</th></tr>\n",
       "</thead>\n",
       "<tbody>\n",
       "<tr><td>train_27206_00005</td><td>RUNNING   </td><td>192.168.2.213:55029</td><td style=\"text-align: right;\">        0.2</td><td style=\"text-align: right;\">         10</td><td style=\"text-align: right;\">            10</td><td style=\"text-align: right;\">        </td><td style=\"text-align: right;\">      </td><td style=\"text-align: right;\">                </td></tr>\n",
       "<tr><td>train_27206_00006</td><td>PENDING   </td><td>                   </td><td style=\"text-align: right;\">        0  </td><td style=\"text-align: right;\">         15</td><td style=\"text-align: right;\">            10</td><td style=\"text-align: right;\">        </td><td style=\"text-align: right;\">      </td><td style=\"text-align: right;\">                </td></tr>\n",
       "<tr><td>train_27206_00007</td><td>PENDING   </td><td>                   </td><td style=\"text-align: right;\">        0.1</td><td style=\"text-align: right;\">         15</td><td style=\"text-align: right;\">            10</td><td style=\"text-align: right;\">        </td><td style=\"text-align: right;\">      </td><td style=\"text-align: right;\">                </td></tr>\n",
       "<tr><td>train_27206_00008</td><td>PENDING   </td><td>                   </td><td style=\"text-align: right;\">        0.2</td><td style=\"text-align: right;\">         15</td><td style=\"text-align: right;\">            10</td><td style=\"text-align: right;\">        </td><td style=\"text-align: right;\">      </td><td style=\"text-align: right;\">                </td></tr>\n",
       "<tr><td>train_27206_00009</td><td>PENDING   </td><td>                   </td><td style=\"text-align: right;\">        0  </td><td style=\"text-align: right;\">         20</td><td style=\"text-align: right;\">            10</td><td style=\"text-align: right;\">        </td><td style=\"text-align: right;\">      </td><td style=\"text-align: right;\">                </td></tr>\n",
       "<tr><td>train_27206_00010</td><td>PENDING   </td><td>                   </td><td style=\"text-align: right;\">        0.1</td><td style=\"text-align: right;\">         20</td><td style=\"text-align: right;\">            10</td><td style=\"text-align: right;\">        </td><td style=\"text-align: right;\">      </td><td style=\"text-align: right;\">                </td></tr>\n",
       "<tr><td>train_27206_00011</td><td>PENDING   </td><td>                   </td><td style=\"text-align: right;\">        0.2</td><td style=\"text-align: right;\">         20</td><td style=\"text-align: right;\">            10</td><td style=\"text-align: right;\">        </td><td style=\"text-align: right;\">      </td><td style=\"text-align: right;\">                </td></tr>\n",
       "<tr><td>train_27206_00012</td><td>PENDING   </td><td>                   </td><td style=\"text-align: right;\">        0  </td><td style=\"text-align: right;\">         25</td><td style=\"text-align: right;\">            10</td><td style=\"text-align: right;\">        </td><td style=\"text-align: right;\">      </td><td style=\"text-align: right;\">                </td></tr>\n",
       "<tr><td>train_27206_00013</td><td>PENDING   </td><td>                   </td><td style=\"text-align: right;\">        0.1</td><td style=\"text-align: right;\">         25</td><td style=\"text-align: right;\">            10</td><td style=\"text-align: right;\">        </td><td style=\"text-align: right;\">      </td><td style=\"text-align: right;\">                </td></tr>\n",
       "<tr><td>train_27206_00014</td><td>PENDING   </td><td>                   </td><td style=\"text-align: right;\">        0.2</td><td style=\"text-align: right;\">         25</td><td style=\"text-align: right;\">            10</td><td style=\"text-align: right;\">        </td><td style=\"text-align: right;\">      </td><td style=\"text-align: right;\">                </td></tr>\n",
       "<tr><td>train_27206_00015</td><td>PENDING   </td><td>                   </td><td style=\"text-align: right;\">        0  </td><td style=\"text-align: right;\">         30</td><td style=\"text-align: right;\">            10</td><td style=\"text-align: right;\">        </td><td style=\"text-align: right;\">      </td><td style=\"text-align: right;\">                </td></tr>\n",
       "<tr><td>train_27206_00016</td><td>PENDING   </td><td>                   </td><td style=\"text-align: right;\">        0.1</td><td style=\"text-align: right;\">         30</td><td style=\"text-align: right;\">            10</td><td style=\"text-align: right;\">        </td><td style=\"text-align: right;\">      </td><td style=\"text-align: right;\">                </td></tr>\n",
       "<tr><td>train_27206_00017</td><td>PENDING   </td><td>                   </td><td style=\"text-align: right;\">        0.2</td><td style=\"text-align: right;\">         30</td><td style=\"text-align: right;\">            10</td><td style=\"text-align: right;\">        </td><td style=\"text-align: right;\">      </td><td style=\"text-align: right;\">                </td></tr>\n",
       "<tr><td>train_27206_00018</td><td>PENDING   </td><td>                   </td><td style=\"text-align: right;\">        0  </td><td style=\"text-align: right;\">         35</td><td style=\"text-align: right;\">            10</td><td style=\"text-align: right;\">        </td><td style=\"text-align: right;\">      </td><td style=\"text-align: right;\">                </td></tr>\n",
       "<tr><td>train_27206_00019</td><td>PENDING   </td><td>                   </td><td style=\"text-align: right;\">        0.1</td><td style=\"text-align: right;\">         35</td><td style=\"text-align: right;\">            10</td><td style=\"text-align: right;\">        </td><td style=\"text-align: right;\">      </td><td style=\"text-align: right;\">                </td></tr>\n",
       "<tr><td>train_27206_00000</td><td>TERMINATED</td><td>192.168.2.213:54649</td><td style=\"text-align: right;\">        0  </td><td style=\"text-align: right;\">          5</td><td style=\"text-align: right;\">            10</td><td style=\"text-align: right;\">0.575331</td><td style=\"text-align: right;\">     1</td><td style=\"text-align: right;\">        0.726216</td></tr>\n",
       "<tr><td>train_27206_00001</td><td>TERMINATED</td><td>192.168.2.213:54706</td><td style=\"text-align: right;\">        0.1</td><td style=\"text-align: right;\">          5</td><td style=\"text-align: right;\">            10</td><td style=\"text-align: right;\">0.248148</td><td style=\"text-align: right;\">     1</td><td style=\"text-align: right;\">        0.628825</td></tr>\n",
       "<tr><td>train_27206_00002</td><td>TERMINATED</td><td>192.168.2.213:54763</td><td style=\"text-align: right;\">        0.2</td><td style=\"text-align: right;\">          5</td><td style=\"text-align: right;\">            10</td><td style=\"text-align: right;\">0.142857</td><td style=\"text-align: right;\">     1</td><td style=\"text-align: right;\">        1.88971 </td></tr>\n",
       "<tr><td>train_27206_00003</td><td>TERMINATED</td><td>192.168.2.213:54897</td><td style=\"text-align: right;\">        0  </td><td style=\"text-align: right;\">         10</td><td style=\"text-align: right;\">            10</td><td style=\"text-align: right;\">0.627579</td><td style=\"text-align: right;\">     1</td><td style=\"text-align: right;\">        3.35609 </td></tr>\n",
       "<tr><td>train_27206_00004</td><td>TERMINATED</td><td>192.168.2.213:54962</td><td style=\"text-align: right;\">        0.1</td><td style=\"text-align: right;\">         10</td><td style=\"text-align: right;\">            10</td><td style=\"text-align: right;\">0.285582</td><td style=\"text-align: right;\">     1</td><td style=\"text-align: right;\">        4.93316 </td></tr>\n",
       "</tbody>\n",
       "</table><br>... 2 more trials not shown (2 PENDING)<br><br>"
      ],
      "text/plain": [
       "<IPython.core.display.HTML object>"
      ]
     },
     "metadata": {},
     "output_type": "display_data"
    },
    {
     "name": "stdout",
     "output_type": "stream",
     "text": [
      "Result for train_27206_00005:\n",
      "  date: 2022-04-29_00-21-50\n",
      "  done: false\n",
      "  experiment_id: f01fc3606c2c4d208ce03a355e7ed7eb\n",
      "  hostname: ben-ray-small\n",
      "  iterations_since_restore: 1\n",
      "  mean_accuracy: 0.14285714285714285\n",
      "  node_ip: 192.168.2.213\n",
      "  pid: 55029\n",
      "  time_since_restore: 5.934471130371094\n",
      "  time_this_iter_s: 5.934471130371094\n",
      "  time_total_s: 5.934471130371094\n",
      "  timestamp: 1651191710\n",
      "  timesteps_since_restore: 0\n",
      "  training_iteration: 1\n",
      "  trial_id: '27206_00005'\n",
      "  warmup_time: 0.2732658386230469\n",
      "  \n",
      "Result for train_27206_00005:\n",
      "  date: 2022-04-29_00-21-50\n",
      "  done: true\n",
      "  experiment_id: f01fc3606c2c4d208ce03a355e7ed7eb\n",
      "  experiment_tag: 5_ccp_alpha=0.2,max_depth=10,n_estimators=10\n",
      "  hostname: ben-ray-small\n",
      "  iterations_since_restore: 1\n",
      "  mean_accuracy: 0.14285714285714285\n",
      "  node_ip: 192.168.2.213\n",
      "  pid: 55029\n",
      "  time_since_restore: 5.934471130371094\n",
      "  time_this_iter_s: 5.934471130371094\n",
      "  time_total_s: 5.934471130371094\n",
      "  timestamp: 1651191710\n",
      "  timesteps_since_restore: 0\n",
      "  training_iteration: 1\n",
      "  trial_id: '27206_00005'\n",
      "  warmup_time: 0.2732658386230469\n",
      "  \n"
     ]
    },
    {
     "name": "stderr",
     "output_type": "stream",
     "text": [
      "2022-04-29 00:21:55,252\tINFO trial_runner.py:803 -- starting train_27206_00006\n"
     ]
    },
    {
     "data": {
      "text/html": [
       "== Status ==<br>Current time: 2022-04-29 00:22:05 (running for 00:01:45.79)<br>Memory usage on this node: 1.9/1.9 GiB: ***LOW MEMORY*** less than 10% of the memory on this node is available for use. This can cause unexpected crashes. Consider reducing the memory used by your application or reducing the Ray object store size by setting `object_store_memory` when calling `ray.init`.<br>Using FIFO scheduling algorithm.<br>Resources requested: 1.0/1 CPUs, 0/0 GPUs, 0.0/0.49 GiB heap, 0.0/0.07 GiB objects<br>Result logdir: /home/ubuntu/ray_results/train_2022-04-29_00-20-19<br>Number of trials: 22/108 (15 PENDING, 1 RUNNING, 6 TERMINATED)<br><table>\n",
       "<thead>\n",
       "<tr><th>Trial name       </th><th>status    </th><th>loc                </th><th style=\"text-align: right;\">  ccp_alpha</th><th style=\"text-align: right;\">  max_depth</th><th style=\"text-align: right;\">  n_estimators</th><th style=\"text-align: right;\">     acc</th><th style=\"text-align: right;\">  iter</th><th style=\"text-align: right;\">  total time (s)</th></tr>\n",
       "</thead>\n",
       "<tbody>\n",
       "<tr><td>train_27206_00006</td><td>RUNNING   </td><td>192.168.2.213:55095</td><td style=\"text-align: right;\">        0  </td><td style=\"text-align: right;\">         15</td><td style=\"text-align: right;\">            10</td><td style=\"text-align: right;\">        </td><td style=\"text-align: right;\">      </td><td style=\"text-align: right;\">                </td></tr>\n",
       "<tr><td>train_27206_00007</td><td>PENDING   </td><td>                   </td><td style=\"text-align: right;\">        0.1</td><td style=\"text-align: right;\">         15</td><td style=\"text-align: right;\">            10</td><td style=\"text-align: right;\">        </td><td style=\"text-align: right;\">      </td><td style=\"text-align: right;\">                </td></tr>\n",
       "<tr><td>train_27206_00008</td><td>PENDING   </td><td>                   </td><td style=\"text-align: right;\">        0.2</td><td style=\"text-align: right;\">         15</td><td style=\"text-align: right;\">            10</td><td style=\"text-align: right;\">        </td><td style=\"text-align: right;\">      </td><td style=\"text-align: right;\">                </td></tr>\n",
       "<tr><td>train_27206_00009</td><td>PENDING   </td><td>                   </td><td style=\"text-align: right;\">        0  </td><td style=\"text-align: right;\">         20</td><td style=\"text-align: right;\">            10</td><td style=\"text-align: right;\">        </td><td style=\"text-align: right;\">      </td><td style=\"text-align: right;\">                </td></tr>\n",
       "<tr><td>train_27206_00010</td><td>PENDING   </td><td>                   </td><td style=\"text-align: right;\">        0.1</td><td style=\"text-align: right;\">         20</td><td style=\"text-align: right;\">            10</td><td style=\"text-align: right;\">        </td><td style=\"text-align: right;\">      </td><td style=\"text-align: right;\">                </td></tr>\n",
       "<tr><td>train_27206_00011</td><td>PENDING   </td><td>                   </td><td style=\"text-align: right;\">        0.2</td><td style=\"text-align: right;\">         20</td><td style=\"text-align: right;\">            10</td><td style=\"text-align: right;\">        </td><td style=\"text-align: right;\">      </td><td style=\"text-align: right;\">                </td></tr>\n",
       "<tr><td>train_27206_00012</td><td>PENDING   </td><td>                   </td><td style=\"text-align: right;\">        0  </td><td style=\"text-align: right;\">         25</td><td style=\"text-align: right;\">            10</td><td style=\"text-align: right;\">        </td><td style=\"text-align: right;\">      </td><td style=\"text-align: right;\">                </td></tr>\n",
       "<tr><td>train_27206_00013</td><td>PENDING   </td><td>                   </td><td style=\"text-align: right;\">        0.1</td><td style=\"text-align: right;\">         25</td><td style=\"text-align: right;\">            10</td><td style=\"text-align: right;\">        </td><td style=\"text-align: right;\">      </td><td style=\"text-align: right;\">                </td></tr>\n",
       "<tr><td>train_27206_00014</td><td>PENDING   </td><td>                   </td><td style=\"text-align: right;\">        0.2</td><td style=\"text-align: right;\">         25</td><td style=\"text-align: right;\">            10</td><td style=\"text-align: right;\">        </td><td style=\"text-align: right;\">      </td><td style=\"text-align: right;\">                </td></tr>\n",
       "<tr><td>train_27206_00015</td><td>PENDING   </td><td>                   </td><td style=\"text-align: right;\">        0  </td><td style=\"text-align: right;\">         30</td><td style=\"text-align: right;\">            10</td><td style=\"text-align: right;\">        </td><td style=\"text-align: right;\">      </td><td style=\"text-align: right;\">                </td></tr>\n",
       "<tr><td>train_27206_00016</td><td>PENDING   </td><td>                   </td><td style=\"text-align: right;\">        0.1</td><td style=\"text-align: right;\">         30</td><td style=\"text-align: right;\">            10</td><td style=\"text-align: right;\">        </td><td style=\"text-align: right;\">      </td><td style=\"text-align: right;\">                </td></tr>\n",
       "<tr><td>train_27206_00017</td><td>PENDING   </td><td>                   </td><td style=\"text-align: right;\">        0.2</td><td style=\"text-align: right;\">         30</td><td style=\"text-align: right;\">            10</td><td style=\"text-align: right;\">        </td><td style=\"text-align: right;\">      </td><td style=\"text-align: right;\">                </td></tr>\n",
       "<tr><td>train_27206_00018</td><td>PENDING   </td><td>                   </td><td style=\"text-align: right;\">        0  </td><td style=\"text-align: right;\">         35</td><td style=\"text-align: right;\">            10</td><td style=\"text-align: right;\">        </td><td style=\"text-align: right;\">      </td><td style=\"text-align: right;\">                </td></tr>\n",
       "<tr><td>train_27206_00019</td><td>PENDING   </td><td>                   </td><td style=\"text-align: right;\">        0.1</td><td style=\"text-align: right;\">         35</td><td style=\"text-align: right;\">            10</td><td style=\"text-align: right;\">        </td><td style=\"text-align: right;\">      </td><td style=\"text-align: right;\">                </td></tr>\n",
       "<tr><td>train_27206_00000</td><td>TERMINATED</td><td>192.168.2.213:54649</td><td style=\"text-align: right;\">        0  </td><td style=\"text-align: right;\">          5</td><td style=\"text-align: right;\">            10</td><td style=\"text-align: right;\">0.575331</td><td style=\"text-align: right;\">     1</td><td style=\"text-align: right;\">        0.726216</td></tr>\n",
       "<tr><td>train_27206_00001</td><td>TERMINATED</td><td>192.168.2.213:54706</td><td style=\"text-align: right;\">        0.1</td><td style=\"text-align: right;\">          5</td><td style=\"text-align: right;\">            10</td><td style=\"text-align: right;\">0.248148</td><td style=\"text-align: right;\">     1</td><td style=\"text-align: right;\">        0.628825</td></tr>\n",
       "<tr><td>train_27206_00002</td><td>TERMINATED</td><td>192.168.2.213:54763</td><td style=\"text-align: right;\">        0.2</td><td style=\"text-align: right;\">          5</td><td style=\"text-align: right;\">            10</td><td style=\"text-align: right;\">0.142857</td><td style=\"text-align: right;\">     1</td><td style=\"text-align: right;\">        1.88971 </td></tr>\n",
       "<tr><td>train_27206_00003</td><td>TERMINATED</td><td>192.168.2.213:54897</td><td style=\"text-align: right;\">        0  </td><td style=\"text-align: right;\">         10</td><td style=\"text-align: right;\">            10</td><td style=\"text-align: right;\">0.627579</td><td style=\"text-align: right;\">     1</td><td style=\"text-align: right;\">        3.35609 </td></tr>\n",
       "<tr><td>train_27206_00004</td><td>TERMINATED</td><td>192.168.2.213:54962</td><td style=\"text-align: right;\">        0.1</td><td style=\"text-align: right;\">         10</td><td style=\"text-align: right;\">            10</td><td style=\"text-align: right;\">0.285582</td><td style=\"text-align: right;\">     1</td><td style=\"text-align: right;\">        4.93316 </td></tr>\n",
       "<tr><td>train_27206_00005</td><td>TERMINATED</td><td>192.168.2.213:55029</td><td style=\"text-align: right;\">        0.2</td><td style=\"text-align: right;\">         10</td><td style=\"text-align: right;\">            10</td><td style=\"text-align: right;\">0.142857</td><td style=\"text-align: right;\">     1</td><td style=\"text-align: right;\">        5.93447 </td></tr>\n",
       "</tbody>\n",
       "</table><br>... 2 more trials not shown (2 PENDING)<br><br>"
      ],
      "text/plain": [
       "<IPython.core.display.HTML object>"
      ]
     },
     "metadata": {},
     "output_type": "display_data"
    },
    {
     "data": {
      "text/html": [
       "== Status ==<br>Current time: 2022-04-29 00:22:12 (running for 00:01:52.60)<br>Memory usage on this node: 1.9/1.9 GiB: ***LOW MEMORY*** less than 10% of the memory on this node is available for use. This can cause unexpected crashes. Consider reducing the memory used by your application or reducing the Ray object store size by setting `object_store_memory` when calling `ray.init`.<br>Using FIFO scheduling algorithm.<br>Resources requested: 1.0/1 CPUs, 0/0 GPUs, 0.0/0.49 GiB heap, 0.0/0.07 GiB objects<br>Result logdir: /home/ubuntu/ray_results/train_2022-04-29_00-20-19<br>Number of trials: 23/108 (16 PENDING, 1 RUNNING, 6 TERMINATED)<br><table>\n",
       "<thead>\n",
       "<tr><th>Trial name       </th><th>status    </th><th>loc                </th><th style=\"text-align: right;\">  ccp_alpha</th><th style=\"text-align: right;\">  max_depth</th><th style=\"text-align: right;\">  n_estimators</th><th style=\"text-align: right;\">     acc</th><th style=\"text-align: right;\">  iter</th><th style=\"text-align: right;\">  total time (s)</th></tr>\n",
       "</thead>\n",
       "<tbody>\n",
       "<tr><td>train_27206_00006</td><td>RUNNING   </td><td>192.168.2.213:55095</td><td style=\"text-align: right;\">        0  </td><td style=\"text-align: right;\">         15</td><td style=\"text-align: right;\">            10</td><td style=\"text-align: right;\">        </td><td style=\"text-align: right;\">      </td><td style=\"text-align: right;\">                </td></tr>\n",
       "<tr><td>train_27206_00007</td><td>PENDING   </td><td>                   </td><td style=\"text-align: right;\">        0.1</td><td style=\"text-align: right;\">         15</td><td style=\"text-align: right;\">            10</td><td style=\"text-align: right;\">        </td><td style=\"text-align: right;\">      </td><td style=\"text-align: right;\">                </td></tr>\n",
       "<tr><td>train_27206_00008</td><td>PENDING   </td><td>                   </td><td style=\"text-align: right;\">        0.2</td><td style=\"text-align: right;\">         15</td><td style=\"text-align: right;\">            10</td><td style=\"text-align: right;\">        </td><td style=\"text-align: right;\">      </td><td style=\"text-align: right;\">                </td></tr>\n",
       "<tr><td>train_27206_00009</td><td>PENDING   </td><td>                   </td><td style=\"text-align: right;\">        0  </td><td style=\"text-align: right;\">         20</td><td style=\"text-align: right;\">            10</td><td style=\"text-align: right;\">        </td><td style=\"text-align: right;\">      </td><td style=\"text-align: right;\">                </td></tr>\n",
       "<tr><td>train_27206_00010</td><td>PENDING   </td><td>                   </td><td style=\"text-align: right;\">        0.1</td><td style=\"text-align: right;\">         20</td><td style=\"text-align: right;\">            10</td><td style=\"text-align: right;\">        </td><td style=\"text-align: right;\">      </td><td style=\"text-align: right;\">                </td></tr>\n",
       "<tr><td>train_27206_00011</td><td>PENDING   </td><td>                   </td><td style=\"text-align: right;\">        0.2</td><td style=\"text-align: right;\">         20</td><td style=\"text-align: right;\">            10</td><td style=\"text-align: right;\">        </td><td style=\"text-align: right;\">      </td><td style=\"text-align: right;\">                </td></tr>\n",
       "<tr><td>train_27206_00012</td><td>PENDING   </td><td>                   </td><td style=\"text-align: right;\">        0  </td><td style=\"text-align: right;\">         25</td><td style=\"text-align: right;\">            10</td><td style=\"text-align: right;\">        </td><td style=\"text-align: right;\">      </td><td style=\"text-align: right;\">                </td></tr>\n",
       "<tr><td>train_27206_00013</td><td>PENDING   </td><td>                   </td><td style=\"text-align: right;\">        0.1</td><td style=\"text-align: right;\">         25</td><td style=\"text-align: right;\">            10</td><td style=\"text-align: right;\">        </td><td style=\"text-align: right;\">      </td><td style=\"text-align: right;\">                </td></tr>\n",
       "<tr><td>train_27206_00014</td><td>PENDING   </td><td>                   </td><td style=\"text-align: right;\">        0.2</td><td style=\"text-align: right;\">         25</td><td style=\"text-align: right;\">            10</td><td style=\"text-align: right;\">        </td><td style=\"text-align: right;\">      </td><td style=\"text-align: right;\">                </td></tr>\n",
       "<tr><td>train_27206_00015</td><td>PENDING   </td><td>                   </td><td style=\"text-align: right;\">        0  </td><td style=\"text-align: right;\">         30</td><td style=\"text-align: right;\">            10</td><td style=\"text-align: right;\">        </td><td style=\"text-align: right;\">      </td><td style=\"text-align: right;\">                </td></tr>\n",
       "<tr><td>train_27206_00016</td><td>PENDING   </td><td>                   </td><td style=\"text-align: right;\">        0.1</td><td style=\"text-align: right;\">         30</td><td style=\"text-align: right;\">            10</td><td style=\"text-align: right;\">        </td><td style=\"text-align: right;\">      </td><td style=\"text-align: right;\">                </td></tr>\n",
       "<tr><td>train_27206_00017</td><td>PENDING   </td><td>                   </td><td style=\"text-align: right;\">        0.2</td><td style=\"text-align: right;\">         30</td><td style=\"text-align: right;\">            10</td><td style=\"text-align: right;\">        </td><td style=\"text-align: right;\">      </td><td style=\"text-align: right;\">                </td></tr>\n",
       "<tr><td>train_27206_00018</td><td>PENDING   </td><td>                   </td><td style=\"text-align: right;\">        0  </td><td style=\"text-align: right;\">         35</td><td style=\"text-align: right;\">            10</td><td style=\"text-align: right;\">        </td><td style=\"text-align: right;\">      </td><td style=\"text-align: right;\">                </td></tr>\n",
       "<tr><td>train_27206_00019</td><td>PENDING   </td><td>                   </td><td style=\"text-align: right;\">        0.1</td><td style=\"text-align: right;\">         35</td><td style=\"text-align: right;\">            10</td><td style=\"text-align: right;\">        </td><td style=\"text-align: right;\">      </td><td style=\"text-align: right;\">                </td></tr>\n",
       "<tr><td>train_27206_00000</td><td>TERMINATED</td><td>192.168.2.213:54649</td><td style=\"text-align: right;\">        0  </td><td style=\"text-align: right;\">          5</td><td style=\"text-align: right;\">            10</td><td style=\"text-align: right;\">0.575331</td><td style=\"text-align: right;\">     1</td><td style=\"text-align: right;\">        0.726216</td></tr>\n",
       "<tr><td>train_27206_00001</td><td>TERMINATED</td><td>192.168.2.213:54706</td><td style=\"text-align: right;\">        0.1</td><td style=\"text-align: right;\">          5</td><td style=\"text-align: right;\">            10</td><td style=\"text-align: right;\">0.248148</td><td style=\"text-align: right;\">     1</td><td style=\"text-align: right;\">        0.628825</td></tr>\n",
       "<tr><td>train_27206_00002</td><td>TERMINATED</td><td>192.168.2.213:54763</td><td style=\"text-align: right;\">        0.2</td><td style=\"text-align: right;\">          5</td><td style=\"text-align: right;\">            10</td><td style=\"text-align: right;\">0.142857</td><td style=\"text-align: right;\">     1</td><td style=\"text-align: right;\">        1.88971 </td></tr>\n",
       "<tr><td>train_27206_00003</td><td>TERMINATED</td><td>192.168.2.213:54897</td><td style=\"text-align: right;\">        0  </td><td style=\"text-align: right;\">         10</td><td style=\"text-align: right;\">            10</td><td style=\"text-align: right;\">0.627579</td><td style=\"text-align: right;\">     1</td><td style=\"text-align: right;\">        3.35609 </td></tr>\n",
       "<tr><td>train_27206_00004</td><td>TERMINATED</td><td>192.168.2.213:54962</td><td style=\"text-align: right;\">        0.1</td><td style=\"text-align: right;\">         10</td><td style=\"text-align: right;\">            10</td><td style=\"text-align: right;\">0.285582</td><td style=\"text-align: right;\">     1</td><td style=\"text-align: right;\">        4.93316 </td></tr>\n",
       "<tr><td>train_27206_00005</td><td>TERMINATED</td><td>192.168.2.213:55029</td><td style=\"text-align: right;\">        0.2</td><td style=\"text-align: right;\">         10</td><td style=\"text-align: right;\">            10</td><td style=\"text-align: right;\">0.142857</td><td style=\"text-align: right;\">     1</td><td style=\"text-align: right;\">        5.93447 </td></tr>\n",
       "</tbody>\n",
       "</table><br>... 3 more trials not shown (3 PENDING)<br><br>"
      ],
      "text/plain": [
       "<IPython.core.display.HTML object>"
      ]
     },
     "metadata": {},
     "output_type": "display_data"
    },
    {
     "data": {
      "text/html": [
       "== Status ==<br>Current time: 2022-04-29 00:22:18 (running for 00:01:58.08)<br>Memory usage on this node: 1.9/1.9 GiB: ***LOW MEMORY*** less than 10% of the memory on this node is available for use. This can cause unexpected crashes. Consider reducing the memory used by your application or reducing the Ray object store size by setting `object_store_memory` when calling `ray.init`.<br>Using FIFO scheduling algorithm.<br>Resources requested: 1.0/1 CPUs, 0/0 GPUs, 0.0/0.49 GiB heap, 0.0/0.07 GiB objects<br>Result logdir: /home/ubuntu/ray_results/train_2022-04-29_00-20-19<br>Number of trials: 23/108 (16 PENDING, 1 RUNNING, 6 TERMINATED)<br><table>\n",
       "<thead>\n",
       "<tr><th>Trial name       </th><th>status    </th><th>loc                </th><th style=\"text-align: right;\">  ccp_alpha</th><th style=\"text-align: right;\">  max_depth</th><th style=\"text-align: right;\">  n_estimators</th><th style=\"text-align: right;\">     acc</th><th style=\"text-align: right;\">  iter</th><th style=\"text-align: right;\">  total time (s)</th></tr>\n",
       "</thead>\n",
       "<tbody>\n",
       "<tr><td>train_27206_00006</td><td>RUNNING   </td><td>192.168.2.213:55095</td><td style=\"text-align: right;\">        0  </td><td style=\"text-align: right;\">         15</td><td style=\"text-align: right;\">            10</td><td style=\"text-align: right;\">        </td><td style=\"text-align: right;\">      </td><td style=\"text-align: right;\">                </td></tr>\n",
       "<tr><td>train_27206_00007</td><td>PENDING   </td><td>                   </td><td style=\"text-align: right;\">        0.1</td><td style=\"text-align: right;\">         15</td><td style=\"text-align: right;\">            10</td><td style=\"text-align: right;\">        </td><td style=\"text-align: right;\">      </td><td style=\"text-align: right;\">                </td></tr>\n",
       "<tr><td>train_27206_00008</td><td>PENDING   </td><td>                   </td><td style=\"text-align: right;\">        0.2</td><td style=\"text-align: right;\">         15</td><td style=\"text-align: right;\">            10</td><td style=\"text-align: right;\">        </td><td style=\"text-align: right;\">      </td><td style=\"text-align: right;\">                </td></tr>\n",
       "<tr><td>train_27206_00009</td><td>PENDING   </td><td>                   </td><td style=\"text-align: right;\">        0  </td><td style=\"text-align: right;\">         20</td><td style=\"text-align: right;\">            10</td><td style=\"text-align: right;\">        </td><td style=\"text-align: right;\">      </td><td style=\"text-align: right;\">                </td></tr>\n",
       "<tr><td>train_27206_00010</td><td>PENDING   </td><td>                   </td><td style=\"text-align: right;\">        0.1</td><td style=\"text-align: right;\">         20</td><td style=\"text-align: right;\">            10</td><td style=\"text-align: right;\">        </td><td style=\"text-align: right;\">      </td><td style=\"text-align: right;\">                </td></tr>\n",
       "<tr><td>train_27206_00011</td><td>PENDING   </td><td>                   </td><td style=\"text-align: right;\">        0.2</td><td style=\"text-align: right;\">         20</td><td style=\"text-align: right;\">            10</td><td style=\"text-align: right;\">        </td><td style=\"text-align: right;\">      </td><td style=\"text-align: right;\">                </td></tr>\n",
       "<tr><td>train_27206_00012</td><td>PENDING   </td><td>                   </td><td style=\"text-align: right;\">        0  </td><td style=\"text-align: right;\">         25</td><td style=\"text-align: right;\">            10</td><td style=\"text-align: right;\">        </td><td style=\"text-align: right;\">      </td><td style=\"text-align: right;\">                </td></tr>\n",
       "<tr><td>train_27206_00013</td><td>PENDING   </td><td>                   </td><td style=\"text-align: right;\">        0.1</td><td style=\"text-align: right;\">         25</td><td style=\"text-align: right;\">            10</td><td style=\"text-align: right;\">        </td><td style=\"text-align: right;\">      </td><td style=\"text-align: right;\">                </td></tr>\n",
       "<tr><td>train_27206_00014</td><td>PENDING   </td><td>                   </td><td style=\"text-align: right;\">        0.2</td><td style=\"text-align: right;\">         25</td><td style=\"text-align: right;\">            10</td><td style=\"text-align: right;\">        </td><td style=\"text-align: right;\">      </td><td style=\"text-align: right;\">                </td></tr>\n",
       "<tr><td>train_27206_00015</td><td>PENDING   </td><td>                   </td><td style=\"text-align: right;\">        0  </td><td style=\"text-align: right;\">         30</td><td style=\"text-align: right;\">            10</td><td style=\"text-align: right;\">        </td><td style=\"text-align: right;\">      </td><td style=\"text-align: right;\">                </td></tr>\n",
       "<tr><td>train_27206_00016</td><td>PENDING   </td><td>                   </td><td style=\"text-align: right;\">        0.1</td><td style=\"text-align: right;\">         30</td><td style=\"text-align: right;\">            10</td><td style=\"text-align: right;\">        </td><td style=\"text-align: right;\">      </td><td style=\"text-align: right;\">                </td></tr>\n",
       "<tr><td>train_27206_00017</td><td>PENDING   </td><td>                   </td><td style=\"text-align: right;\">        0.2</td><td style=\"text-align: right;\">         30</td><td style=\"text-align: right;\">            10</td><td style=\"text-align: right;\">        </td><td style=\"text-align: right;\">      </td><td style=\"text-align: right;\">                </td></tr>\n",
       "<tr><td>train_27206_00018</td><td>PENDING   </td><td>                   </td><td style=\"text-align: right;\">        0  </td><td style=\"text-align: right;\">         35</td><td style=\"text-align: right;\">            10</td><td style=\"text-align: right;\">        </td><td style=\"text-align: right;\">      </td><td style=\"text-align: right;\">                </td></tr>\n",
       "<tr><td>train_27206_00019</td><td>PENDING   </td><td>                   </td><td style=\"text-align: right;\">        0.1</td><td style=\"text-align: right;\">         35</td><td style=\"text-align: right;\">            10</td><td style=\"text-align: right;\">        </td><td style=\"text-align: right;\">      </td><td style=\"text-align: right;\">                </td></tr>\n",
       "<tr><td>train_27206_00000</td><td>TERMINATED</td><td>192.168.2.213:54649</td><td style=\"text-align: right;\">        0  </td><td style=\"text-align: right;\">          5</td><td style=\"text-align: right;\">            10</td><td style=\"text-align: right;\">0.575331</td><td style=\"text-align: right;\">     1</td><td style=\"text-align: right;\">        0.726216</td></tr>\n",
       "<tr><td>train_27206_00001</td><td>TERMINATED</td><td>192.168.2.213:54706</td><td style=\"text-align: right;\">        0.1</td><td style=\"text-align: right;\">          5</td><td style=\"text-align: right;\">            10</td><td style=\"text-align: right;\">0.248148</td><td style=\"text-align: right;\">     1</td><td style=\"text-align: right;\">        0.628825</td></tr>\n",
       "<tr><td>train_27206_00002</td><td>TERMINATED</td><td>192.168.2.213:54763</td><td style=\"text-align: right;\">        0.2</td><td style=\"text-align: right;\">          5</td><td style=\"text-align: right;\">            10</td><td style=\"text-align: right;\">0.142857</td><td style=\"text-align: right;\">     1</td><td style=\"text-align: right;\">        1.88971 </td></tr>\n",
       "<tr><td>train_27206_00003</td><td>TERMINATED</td><td>192.168.2.213:54897</td><td style=\"text-align: right;\">        0  </td><td style=\"text-align: right;\">         10</td><td style=\"text-align: right;\">            10</td><td style=\"text-align: right;\">0.627579</td><td style=\"text-align: right;\">     1</td><td style=\"text-align: right;\">        3.35609 </td></tr>\n",
       "<tr><td>train_27206_00004</td><td>TERMINATED</td><td>192.168.2.213:54962</td><td style=\"text-align: right;\">        0.1</td><td style=\"text-align: right;\">         10</td><td style=\"text-align: right;\">            10</td><td style=\"text-align: right;\">0.285582</td><td style=\"text-align: right;\">     1</td><td style=\"text-align: right;\">        4.93316 </td></tr>\n",
       "<tr><td>train_27206_00005</td><td>TERMINATED</td><td>192.168.2.213:55029</td><td style=\"text-align: right;\">        0.2</td><td style=\"text-align: right;\">         10</td><td style=\"text-align: right;\">            10</td><td style=\"text-align: right;\">0.142857</td><td style=\"text-align: right;\">     1</td><td style=\"text-align: right;\">        5.93447 </td></tr>\n",
       "</tbody>\n",
       "</table><br>... 3 more trials not shown (3 PENDING)<br><br>"
      ],
      "text/plain": [
       "<IPython.core.display.HTML object>"
      ]
     },
     "metadata": {},
     "output_type": "display_data"
    },
    {
     "name": "stderr",
     "output_type": "stream",
     "text": [
      "2022-04-29 00:22:20,864\tWARNING util.py:171 -- The `on_step_begin` operation took 0.899 s, which may be a performance bottleneck.\n"
     ]
    },
    {
     "data": {
      "text/html": [
       "== Status ==<br>Current time: 2022-04-29 00:22:27 (running for 00:02:07.83)<br>Memory usage on this node: 1.9/1.9 GiB: ***LOW MEMORY*** less than 10% of the memory on this node is available for use. This can cause unexpected crashes. Consider reducing the memory used by your application or reducing the Ray object store size by setting `object_store_memory` when calling `ray.init`.<br>Using FIFO scheduling algorithm.<br>Resources requested: 1.0/1 CPUs, 0/0 GPUs, 0.0/0.49 GiB heap, 0.0/0.07 GiB objects<br>Result logdir: /home/ubuntu/ray_results/train_2022-04-29_00-20-19<br>Number of trials: 23/108 (16 PENDING, 1 RUNNING, 6 TERMINATED)<br><table>\n",
       "<thead>\n",
       "<tr><th>Trial name       </th><th>status    </th><th>loc                </th><th style=\"text-align: right;\">  ccp_alpha</th><th style=\"text-align: right;\">  max_depth</th><th style=\"text-align: right;\">  n_estimators</th><th style=\"text-align: right;\">     acc</th><th style=\"text-align: right;\">  iter</th><th style=\"text-align: right;\">  total time (s)</th></tr>\n",
       "</thead>\n",
       "<tbody>\n",
       "<tr><td>train_27206_00006</td><td>RUNNING   </td><td>192.168.2.213:55095</td><td style=\"text-align: right;\">        0  </td><td style=\"text-align: right;\">         15</td><td style=\"text-align: right;\">            10</td><td style=\"text-align: right;\">        </td><td style=\"text-align: right;\">      </td><td style=\"text-align: right;\">                </td></tr>\n",
       "<tr><td>train_27206_00007</td><td>PENDING   </td><td>                   </td><td style=\"text-align: right;\">        0.1</td><td style=\"text-align: right;\">         15</td><td style=\"text-align: right;\">            10</td><td style=\"text-align: right;\">        </td><td style=\"text-align: right;\">      </td><td style=\"text-align: right;\">                </td></tr>\n",
       "<tr><td>train_27206_00008</td><td>PENDING   </td><td>                   </td><td style=\"text-align: right;\">        0.2</td><td style=\"text-align: right;\">         15</td><td style=\"text-align: right;\">            10</td><td style=\"text-align: right;\">        </td><td style=\"text-align: right;\">      </td><td style=\"text-align: right;\">                </td></tr>\n",
       "<tr><td>train_27206_00009</td><td>PENDING   </td><td>                   </td><td style=\"text-align: right;\">        0  </td><td style=\"text-align: right;\">         20</td><td style=\"text-align: right;\">            10</td><td style=\"text-align: right;\">        </td><td style=\"text-align: right;\">      </td><td style=\"text-align: right;\">                </td></tr>\n",
       "<tr><td>train_27206_00010</td><td>PENDING   </td><td>                   </td><td style=\"text-align: right;\">        0.1</td><td style=\"text-align: right;\">         20</td><td style=\"text-align: right;\">            10</td><td style=\"text-align: right;\">        </td><td style=\"text-align: right;\">      </td><td style=\"text-align: right;\">                </td></tr>\n",
       "<tr><td>train_27206_00011</td><td>PENDING   </td><td>                   </td><td style=\"text-align: right;\">        0.2</td><td style=\"text-align: right;\">         20</td><td style=\"text-align: right;\">            10</td><td style=\"text-align: right;\">        </td><td style=\"text-align: right;\">      </td><td style=\"text-align: right;\">                </td></tr>\n",
       "<tr><td>train_27206_00012</td><td>PENDING   </td><td>                   </td><td style=\"text-align: right;\">        0  </td><td style=\"text-align: right;\">         25</td><td style=\"text-align: right;\">            10</td><td style=\"text-align: right;\">        </td><td style=\"text-align: right;\">      </td><td style=\"text-align: right;\">                </td></tr>\n",
       "<tr><td>train_27206_00013</td><td>PENDING   </td><td>                   </td><td style=\"text-align: right;\">        0.1</td><td style=\"text-align: right;\">         25</td><td style=\"text-align: right;\">            10</td><td style=\"text-align: right;\">        </td><td style=\"text-align: right;\">      </td><td style=\"text-align: right;\">                </td></tr>\n",
       "<tr><td>train_27206_00014</td><td>PENDING   </td><td>                   </td><td style=\"text-align: right;\">        0.2</td><td style=\"text-align: right;\">         25</td><td style=\"text-align: right;\">            10</td><td style=\"text-align: right;\">        </td><td style=\"text-align: right;\">      </td><td style=\"text-align: right;\">                </td></tr>\n",
       "<tr><td>train_27206_00015</td><td>PENDING   </td><td>                   </td><td style=\"text-align: right;\">        0  </td><td style=\"text-align: right;\">         30</td><td style=\"text-align: right;\">            10</td><td style=\"text-align: right;\">        </td><td style=\"text-align: right;\">      </td><td style=\"text-align: right;\">                </td></tr>\n",
       "<tr><td>train_27206_00016</td><td>PENDING   </td><td>                   </td><td style=\"text-align: right;\">        0.1</td><td style=\"text-align: right;\">         30</td><td style=\"text-align: right;\">            10</td><td style=\"text-align: right;\">        </td><td style=\"text-align: right;\">      </td><td style=\"text-align: right;\">                </td></tr>\n",
       "<tr><td>train_27206_00017</td><td>PENDING   </td><td>                   </td><td style=\"text-align: right;\">        0.2</td><td style=\"text-align: right;\">         30</td><td style=\"text-align: right;\">            10</td><td style=\"text-align: right;\">        </td><td style=\"text-align: right;\">      </td><td style=\"text-align: right;\">                </td></tr>\n",
       "<tr><td>train_27206_00018</td><td>PENDING   </td><td>                   </td><td style=\"text-align: right;\">        0  </td><td style=\"text-align: right;\">         35</td><td style=\"text-align: right;\">            10</td><td style=\"text-align: right;\">        </td><td style=\"text-align: right;\">      </td><td style=\"text-align: right;\">                </td></tr>\n",
       "<tr><td>train_27206_00019</td><td>PENDING   </td><td>                   </td><td style=\"text-align: right;\">        0.1</td><td style=\"text-align: right;\">         35</td><td style=\"text-align: right;\">            10</td><td style=\"text-align: right;\">        </td><td style=\"text-align: right;\">      </td><td style=\"text-align: right;\">                </td></tr>\n",
       "<tr><td>train_27206_00000</td><td>TERMINATED</td><td>192.168.2.213:54649</td><td style=\"text-align: right;\">        0  </td><td style=\"text-align: right;\">          5</td><td style=\"text-align: right;\">            10</td><td style=\"text-align: right;\">0.575331</td><td style=\"text-align: right;\">     1</td><td style=\"text-align: right;\">        0.726216</td></tr>\n",
       "<tr><td>train_27206_00001</td><td>TERMINATED</td><td>192.168.2.213:54706</td><td style=\"text-align: right;\">        0.1</td><td style=\"text-align: right;\">          5</td><td style=\"text-align: right;\">            10</td><td style=\"text-align: right;\">0.248148</td><td style=\"text-align: right;\">     1</td><td style=\"text-align: right;\">        0.628825</td></tr>\n",
       "<tr><td>train_27206_00002</td><td>TERMINATED</td><td>192.168.2.213:54763</td><td style=\"text-align: right;\">        0.2</td><td style=\"text-align: right;\">          5</td><td style=\"text-align: right;\">            10</td><td style=\"text-align: right;\">0.142857</td><td style=\"text-align: right;\">     1</td><td style=\"text-align: right;\">        1.88971 </td></tr>\n",
       "<tr><td>train_27206_00003</td><td>TERMINATED</td><td>192.168.2.213:54897</td><td style=\"text-align: right;\">        0  </td><td style=\"text-align: right;\">         10</td><td style=\"text-align: right;\">            10</td><td style=\"text-align: right;\">0.627579</td><td style=\"text-align: right;\">     1</td><td style=\"text-align: right;\">        3.35609 </td></tr>\n",
       "<tr><td>train_27206_00004</td><td>TERMINATED</td><td>192.168.2.213:54962</td><td style=\"text-align: right;\">        0.1</td><td style=\"text-align: right;\">         10</td><td style=\"text-align: right;\">            10</td><td style=\"text-align: right;\">0.285582</td><td style=\"text-align: right;\">     1</td><td style=\"text-align: right;\">        4.93316 </td></tr>\n",
       "<tr><td>train_27206_00005</td><td>TERMINATED</td><td>192.168.2.213:55029</td><td style=\"text-align: right;\">        0.2</td><td style=\"text-align: right;\">         10</td><td style=\"text-align: right;\">            10</td><td style=\"text-align: right;\">0.142857</td><td style=\"text-align: right;\">     1</td><td style=\"text-align: right;\">        5.93447 </td></tr>\n",
       "</tbody>\n",
       "</table><br>... 3 more trials not shown (3 PENDING)<br><br>"
      ],
      "text/plain": [
       "<IPython.core.display.HTML object>"
      ]
     },
     "metadata": {},
     "output_type": "display_data"
    },
    {
     "data": {
      "text/html": [
       "== Status ==<br>Current time: 2022-04-29 00:22:34 (running for 00:02:14.11)<br>Memory usage on this node: 1.9/1.9 GiB: ***LOW MEMORY*** less than 10% of the memory on this node is available for use. This can cause unexpected crashes. Consider reducing the memory used by your application or reducing the Ray object store size by setting `object_store_memory` when calling `ray.init`.<br>Using FIFO scheduling algorithm.<br>Resources requested: 1.0/1 CPUs, 0/0 GPUs, 0.0/0.49 GiB heap, 0.0/0.07 GiB objects<br>Result logdir: /home/ubuntu/ray_results/train_2022-04-29_00-20-19<br>Number of trials: 23/108 (16 PENDING, 1 RUNNING, 6 TERMINATED)<br><table>\n",
       "<thead>\n",
       "<tr><th>Trial name       </th><th>status    </th><th>loc                </th><th style=\"text-align: right;\">  ccp_alpha</th><th style=\"text-align: right;\">  max_depth</th><th style=\"text-align: right;\">  n_estimators</th><th style=\"text-align: right;\">     acc</th><th style=\"text-align: right;\">  iter</th><th style=\"text-align: right;\">  total time (s)</th></tr>\n",
       "</thead>\n",
       "<tbody>\n",
       "<tr><td>train_27206_00006</td><td>RUNNING   </td><td>192.168.2.213:55095</td><td style=\"text-align: right;\">        0  </td><td style=\"text-align: right;\">         15</td><td style=\"text-align: right;\">            10</td><td style=\"text-align: right;\">        </td><td style=\"text-align: right;\">      </td><td style=\"text-align: right;\">                </td></tr>\n",
       "<tr><td>train_27206_00007</td><td>PENDING   </td><td>                   </td><td style=\"text-align: right;\">        0.1</td><td style=\"text-align: right;\">         15</td><td style=\"text-align: right;\">            10</td><td style=\"text-align: right;\">        </td><td style=\"text-align: right;\">      </td><td style=\"text-align: right;\">                </td></tr>\n",
       "<tr><td>train_27206_00008</td><td>PENDING   </td><td>                   </td><td style=\"text-align: right;\">        0.2</td><td style=\"text-align: right;\">         15</td><td style=\"text-align: right;\">            10</td><td style=\"text-align: right;\">        </td><td style=\"text-align: right;\">      </td><td style=\"text-align: right;\">                </td></tr>\n",
       "<tr><td>train_27206_00009</td><td>PENDING   </td><td>                   </td><td style=\"text-align: right;\">        0  </td><td style=\"text-align: right;\">         20</td><td style=\"text-align: right;\">            10</td><td style=\"text-align: right;\">        </td><td style=\"text-align: right;\">      </td><td style=\"text-align: right;\">                </td></tr>\n",
       "<tr><td>train_27206_00010</td><td>PENDING   </td><td>                   </td><td style=\"text-align: right;\">        0.1</td><td style=\"text-align: right;\">         20</td><td style=\"text-align: right;\">            10</td><td style=\"text-align: right;\">        </td><td style=\"text-align: right;\">      </td><td style=\"text-align: right;\">                </td></tr>\n",
       "<tr><td>train_27206_00011</td><td>PENDING   </td><td>                   </td><td style=\"text-align: right;\">        0.2</td><td style=\"text-align: right;\">         20</td><td style=\"text-align: right;\">            10</td><td style=\"text-align: right;\">        </td><td style=\"text-align: right;\">      </td><td style=\"text-align: right;\">                </td></tr>\n",
       "<tr><td>train_27206_00012</td><td>PENDING   </td><td>                   </td><td style=\"text-align: right;\">        0  </td><td style=\"text-align: right;\">         25</td><td style=\"text-align: right;\">            10</td><td style=\"text-align: right;\">        </td><td style=\"text-align: right;\">      </td><td style=\"text-align: right;\">                </td></tr>\n",
       "<tr><td>train_27206_00013</td><td>PENDING   </td><td>                   </td><td style=\"text-align: right;\">        0.1</td><td style=\"text-align: right;\">         25</td><td style=\"text-align: right;\">            10</td><td style=\"text-align: right;\">        </td><td style=\"text-align: right;\">      </td><td style=\"text-align: right;\">                </td></tr>\n",
       "<tr><td>train_27206_00014</td><td>PENDING   </td><td>                   </td><td style=\"text-align: right;\">        0.2</td><td style=\"text-align: right;\">         25</td><td style=\"text-align: right;\">            10</td><td style=\"text-align: right;\">        </td><td style=\"text-align: right;\">      </td><td style=\"text-align: right;\">                </td></tr>\n",
       "<tr><td>train_27206_00015</td><td>PENDING   </td><td>                   </td><td style=\"text-align: right;\">        0  </td><td style=\"text-align: right;\">         30</td><td style=\"text-align: right;\">            10</td><td style=\"text-align: right;\">        </td><td style=\"text-align: right;\">      </td><td style=\"text-align: right;\">                </td></tr>\n",
       "<tr><td>train_27206_00016</td><td>PENDING   </td><td>                   </td><td style=\"text-align: right;\">        0.1</td><td style=\"text-align: right;\">         30</td><td style=\"text-align: right;\">            10</td><td style=\"text-align: right;\">        </td><td style=\"text-align: right;\">      </td><td style=\"text-align: right;\">                </td></tr>\n",
       "<tr><td>train_27206_00017</td><td>PENDING   </td><td>                   </td><td style=\"text-align: right;\">        0.2</td><td style=\"text-align: right;\">         30</td><td style=\"text-align: right;\">            10</td><td style=\"text-align: right;\">        </td><td style=\"text-align: right;\">      </td><td style=\"text-align: right;\">                </td></tr>\n",
       "<tr><td>train_27206_00018</td><td>PENDING   </td><td>                   </td><td style=\"text-align: right;\">        0  </td><td style=\"text-align: right;\">         35</td><td style=\"text-align: right;\">            10</td><td style=\"text-align: right;\">        </td><td style=\"text-align: right;\">      </td><td style=\"text-align: right;\">                </td></tr>\n",
       "<tr><td>train_27206_00019</td><td>PENDING   </td><td>                   </td><td style=\"text-align: right;\">        0.1</td><td style=\"text-align: right;\">         35</td><td style=\"text-align: right;\">            10</td><td style=\"text-align: right;\">        </td><td style=\"text-align: right;\">      </td><td style=\"text-align: right;\">                </td></tr>\n",
       "<tr><td>train_27206_00000</td><td>TERMINATED</td><td>192.168.2.213:54649</td><td style=\"text-align: right;\">        0  </td><td style=\"text-align: right;\">          5</td><td style=\"text-align: right;\">            10</td><td style=\"text-align: right;\">0.575331</td><td style=\"text-align: right;\">     1</td><td style=\"text-align: right;\">        0.726216</td></tr>\n",
       "<tr><td>train_27206_00001</td><td>TERMINATED</td><td>192.168.2.213:54706</td><td style=\"text-align: right;\">        0.1</td><td style=\"text-align: right;\">          5</td><td style=\"text-align: right;\">            10</td><td style=\"text-align: right;\">0.248148</td><td style=\"text-align: right;\">     1</td><td style=\"text-align: right;\">        0.628825</td></tr>\n",
       "<tr><td>train_27206_00002</td><td>TERMINATED</td><td>192.168.2.213:54763</td><td style=\"text-align: right;\">        0.2</td><td style=\"text-align: right;\">          5</td><td style=\"text-align: right;\">            10</td><td style=\"text-align: right;\">0.142857</td><td style=\"text-align: right;\">     1</td><td style=\"text-align: right;\">        1.88971 </td></tr>\n",
       "<tr><td>train_27206_00003</td><td>TERMINATED</td><td>192.168.2.213:54897</td><td style=\"text-align: right;\">        0  </td><td style=\"text-align: right;\">         10</td><td style=\"text-align: right;\">            10</td><td style=\"text-align: right;\">0.627579</td><td style=\"text-align: right;\">     1</td><td style=\"text-align: right;\">        3.35609 </td></tr>\n",
       "<tr><td>train_27206_00004</td><td>TERMINATED</td><td>192.168.2.213:54962</td><td style=\"text-align: right;\">        0.1</td><td style=\"text-align: right;\">         10</td><td style=\"text-align: right;\">            10</td><td style=\"text-align: right;\">0.285582</td><td style=\"text-align: right;\">     1</td><td style=\"text-align: right;\">        4.93316 </td></tr>\n",
       "<tr><td>train_27206_00005</td><td>TERMINATED</td><td>192.168.2.213:55029</td><td style=\"text-align: right;\">        0.2</td><td style=\"text-align: right;\">         10</td><td style=\"text-align: right;\">            10</td><td style=\"text-align: right;\">0.142857</td><td style=\"text-align: right;\">     1</td><td style=\"text-align: right;\">        5.93447 </td></tr>\n",
       "</tbody>\n",
       "</table><br>... 3 more trials not shown (3 PENDING)<br><br>"
      ],
      "text/plain": [
       "<IPython.core.display.HTML object>"
      ]
     },
     "metadata": {},
     "output_type": "display_data"
    },
    {
     "name": "stderr",
     "output_type": "stream",
     "text": [
      "2022-04-29 00:22:37,737\tWARNING util.py:171 -- The `on_step_begin` operation took 0.941 s, which may be a performance bottleneck.\n"
     ]
    },
    {
     "data": {
      "text/html": [
       "== Status ==<br>Current time: 2022-04-29 00:22:43 (running for 00:02:23.43)<br>Memory usage on this node: 1.9/1.9 GiB: ***LOW MEMORY*** less than 10% of the memory on this node is available for use. This can cause unexpected crashes. Consider reducing the memory used by your application or reducing the Ray object store size by setting `object_store_memory` when calling `ray.init`.<br>Using FIFO scheduling algorithm.<br>Resources requested: 1.0/1 CPUs, 0/0 GPUs, 0.0/0.49 GiB heap, 0.0/0.07 GiB objects<br>Result logdir: /home/ubuntu/ray_results/train_2022-04-29_00-20-19<br>Number of trials: 23/108 (16 PENDING, 1 RUNNING, 6 TERMINATED)<br><table>\n",
       "<thead>\n",
       "<tr><th>Trial name       </th><th>status    </th><th>loc                </th><th style=\"text-align: right;\">  ccp_alpha</th><th style=\"text-align: right;\">  max_depth</th><th style=\"text-align: right;\">  n_estimators</th><th style=\"text-align: right;\">     acc</th><th style=\"text-align: right;\">  iter</th><th style=\"text-align: right;\">  total time (s)</th></tr>\n",
       "</thead>\n",
       "<tbody>\n",
       "<tr><td>train_27206_00006</td><td>RUNNING   </td><td>192.168.2.213:55095</td><td style=\"text-align: right;\">        0  </td><td style=\"text-align: right;\">         15</td><td style=\"text-align: right;\">            10</td><td style=\"text-align: right;\">        </td><td style=\"text-align: right;\">      </td><td style=\"text-align: right;\">                </td></tr>\n",
       "<tr><td>train_27206_00007</td><td>PENDING   </td><td>                   </td><td style=\"text-align: right;\">        0.1</td><td style=\"text-align: right;\">         15</td><td style=\"text-align: right;\">            10</td><td style=\"text-align: right;\">        </td><td style=\"text-align: right;\">      </td><td style=\"text-align: right;\">                </td></tr>\n",
       "<tr><td>train_27206_00008</td><td>PENDING   </td><td>                   </td><td style=\"text-align: right;\">        0.2</td><td style=\"text-align: right;\">         15</td><td style=\"text-align: right;\">            10</td><td style=\"text-align: right;\">        </td><td style=\"text-align: right;\">      </td><td style=\"text-align: right;\">                </td></tr>\n",
       "<tr><td>train_27206_00009</td><td>PENDING   </td><td>                   </td><td style=\"text-align: right;\">        0  </td><td style=\"text-align: right;\">         20</td><td style=\"text-align: right;\">            10</td><td style=\"text-align: right;\">        </td><td style=\"text-align: right;\">      </td><td style=\"text-align: right;\">                </td></tr>\n",
       "<tr><td>train_27206_00010</td><td>PENDING   </td><td>                   </td><td style=\"text-align: right;\">        0.1</td><td style=\"text-align: right;\">         20</td><td style=\"text-align: right;\">            10</td><td style=\"text-align: right;\">        </td><td style=\"text-align: right;\">      </td><td style=\"text-align: right;\">                </td></tr>\n",
       "<tr><td>train_27206_00011</td><td>PENDING   </td><td>                   </td><td style=\"text-align: right;\">        0.2</td><td style=\"text-align: right;\">         20</td><td style=\"text-align: right;\">            10</td><td style=\"text-align: right;\">        </td><td style=\"text-align: right;\">      </td><td style=\"text-align: right;\">                </td></tr>\n",
       "<tr><td>train_27206_00012</td><td>PENDING   </td><td>                   </td><td style=\"text-align: right;\">        0  </td><td style=\"text-align: right;\">         25</td><td style=\"text-align: right;\">            10</td><td style=\"text-align: right;\">        </td><td style=\"text-align: right;\">      </td><td style=\"text-align: right;\">                </td></tr>\n",
       "<tr><td>train_27206_00013</td><td>PENDING   </td><td>                   </td><td style=\"text-align: right;\">        0.1</td><td style=\"text-align: right;\">         25</td><td style=\"text-align: right;\">            10</td><td style=\"text-align: right;\">        </td><td style=\"text-align: right;\">      </td><td style=\"text-align: right;\">                </td></tr>\n",
       "<tr><td>train_27206_00014</td><td>PENDING   </td><td>                   </td><td style=\"text-align: right;\">        0.2</td><td style=\"text-align: right;\">         25</td><td style=\"text-align: right;\">            10</td><td style=\"text-align: right;\">        </td><td style=\"text-align: right;\">      </td><td style=\"text-align: right;\">                </td></tr>\n",
       "<tr><td>train_27206_00015</td><td>PENDING   </td><td>                   </td><td style=\"text-align: right;\">        0  </td><td style=\"text-align: right;\">         30</td><td style=\"text-align: right;\">            10</td><td style=\"text-align: right;\">        </td><td style=\"text-align: right;\">      </td><td style=\"text-align: right;\">                </td></tr>\n",
       "<tr><td>train_27206_00016</td><td>PENDING   </td><td>                   </td><td style=\"text-align: right;\">        0.1</td><td style=\"text-align: right;\">         30</td><td style=\"text-align: right;\">            10</td><td style=\"text-align: right;\">        </td><td style=\"text-align: right;\">      </td><td style=\"text-align: right;\">                </td></tr>\n",
       "<tr><td>train_27206_00017</td><td>PENDING   </td><td>                   </td><td style=\"text-align: right;\">        0.2</td><td style=\"text-align: right;\">         30</td><td style=\"text-align: right;\">            10</td><td style=\"text-align: right;\">        </td><td style=\"text-align: right;\">      </td><td style=\"text-align: right;\">                </td></tr>\n",
       "<tr><td>train_27206_00018</td><td>PENDING   </td><td>                   </td><td style=\"text-align: right;\">        0  </td><td style=\"text-align: right;\">         35</td><td style=\"text-align: right;\">            10</td><td style=\"text-align: right;\">        </td><td style=\"text-align: right;\">      </td><td style=\"text-align: right;\">                </td></tr>\n",
       "<tr><td>train_27206_00019</td><td>PENDING   </td><td>                   </td><td style=\"text-align: right;\">        0.1</td><td style=\"text-align: right;\">         35</td><td style=\"text-align: right;\">            10</td><td style=\"text-align: right;\">        </td><td style=\"text-align: right;\">      </td><td style=\"text-align: right;\">                </td></tr>\n",
       "<tr><td>train_27206_00000</td><td>TERMINATED</td><td>192.168.2.213:54649</td><td style=\"text-align: right;\">        0  </td><td style=\"text-align: right;\">          5</td><td style=\"text-align: right;\">            10</td><td style=\"text-align: right;\">0.575331</td><td style=\"text-align: right;\">     1</td><td style=\"text-align: right;\">        0.726216</td></tr>\n",
       "<tr><td>train_27206_00001</td><td>TERMINATED</td><td>192.168.2.213:54706</td><td style=\"text-align: right;\">        0.1</td><td style=\"text-align: right;\">          5</td><td style=\"text-align: right;\">            10</td><td style=\"text-align: right;\">0.248148</td><td style=\"text-align: right;\">     1</td><td style=\"text-align: right;\">        0.628825</td></tr>\n",
       "<tr><td>train_27206_00002</td><td>TERMINATED</td><td>192.168.2.213:54763</td><td style=\"text-align: right;\">        0.2</td><td style=\"text-align: right;\">          5</td><td style=\"text-align: right;\">            10</td><td style=\"text-align: right;\">0.142857</td><td style=\"text-align: right;\">     1</td><td style=\"text-align: right;\">        1.88971 </td></tr>\n",
       "<tr><td>train_27206_00003</td><td>TERMINATED</td><td>192.168.2.213:54897</td><td style=\"text-align: right;\">        0  </td><td style=\"text-align: right;\">         10</td><td style=\"text-align: right;\">            10</td><td style=\"text-align: right;\">0.627579</td><td style=\"text-align: right;\">     1</td><td style=\"text-align: right;\">        3.35609 </td></tr>\n",
       "<tr><td>train_27206_00004</td><td>TERMINATED</td><td>192.168.2.213:54962</td><td style=\"text-align: right;\">        0.1</td><td style=\"text-align: right;\">         10</td><td style=\"text-align: right;\">            10</td><td style=\"text-align: right;\">0.285582</td><td style=\"text-align: right;\">     1</td><td style=\"text-align: right;\">        4.93316 </td></tr>\n",
       "<tr><td>train_27206_00005</td><td>TERMINATED</td><td>192.168.2.213:55029</td><td style=\"text-align: right;\">        0.2</td><td style=\"text-align: right;\">         10</td><td style=\"text-align: right;\">            10</td><td style=\"text-align: right;\">0.142857</td><td style=\"text-align: right;\">     1</td><td style=\"text-align: right;\">        5.93447 </td></tr>\n",
       "</tbody>\n",
       "</table><br>... 3 more trials not shown (3 PENDING)<br><br>"
      ],
      "text/plain": [
       "<IPython.core.display.HTML object>"
      ]
     },
     "metadata": {},
     "output_type": "display_data"
    },
    {
     "data": {
      "text/html": [
       "== Status ==<br>Current time: 2022-04-29 00:22:51 (running for 00:02:31.64)<br>Memory usage on this node: 1.9/1.9 GiB: ***LOW MEMORY*** less than 10% of the memory on this node is available for use. This can cause unexpected crashes. Consider reducing the memory used by your application or reducing the Ray object store size by setting `object_store_memory` when calling `ray.init`.<br>Using FIFO scheduling algorithm.<br>Resources requested: 1.0/1 CPUs, 0/0 GPUs, 0.0/0.49 GiB heap, 0.0/0.07 GiB objects<br>Result logdir: /home/ubuntu/ray_results/train_2022-04-29_00-20-19<br>Number of trials: 23/108 (16 PENDING, 1 RUNNING, 6 TERMINATED)<br><table>\n",
       "<thead>\n",
       "<tr><th>Trial name       </th><th>status    </th><th>loc                </th><th style=\"text-align: right;\">  ccp_alpha</th><th style=\"text-align: right;\">  max_depth</th><th style=\"text-align: right;\">  n_estimators</th><th style=\"text-align: right;\">     acc</th><th style=\"text-align: right;\">  iter</th><th style=\"text-align: right;\">  total time (s)</th></tr>\n",
       "</thead>\n",
       "<tbody>\n",
       "<tr><td>train_27206_00006</td><td>RUNNING   </td><td>192.168.2.213:55095</td><td style=\"text-align: right;\">        0  </td><td style=\"text-align: right;\">         15</td><td style=\"text-align: right;\">            10</td><td style=\"text-align: right;\">        </td><td style=\"text-align: right;\">      </td><td style=\"text-align: right;\">                </td></tr>\n",
       "<tr><td>train_27206_00007</td><td>PENDING   </td><td>                   </td><td style=\"text-align: right;\">        0.1</td><td style=\"text-align: right;\">         15</td><td style=\"text-align: right;\">            10</td><td style=\"text-align: right;\">        </td><td style=\"text-align: right;\">      </td><td style=\"text-align: right;\">                </td></tr>\n",
       "<tr><td>train_27206_00008</td><td>PENDING   </td><td>                   </td><td style=\"text-align: right;\">        0.2</td><td style=\"text-align: right;\">         15</td><td style=\"text-align: right;\">            10</td><td style=\"text-align: right;\">        </td><td style=\"text-align: right;\">      </td><td style=\"text-align: right;\">                </td></tr>\n",
       "<tr><td>train_27206_00009</td><td>PENDING   </td><td>                   </td><td style=\"text-align: right;\">        0  </td><td style=\"text-align: right;\">         20</td><td style=\"text-align: right;\">            10</td><td style=\"text-align: right;\">        </td><td style=\"text-align: right;\">      </td><td style=\"text-align: right;\">                </td></tr>\n",
       "<tr><td>train_27206_00010</td><td>PENDING   </td><td>                   </td><td style=\"text-align: right;\">        0.1</td><td style=\"text-align: right;\">         20</td><td style=\"text-align: right;\">            10</td><td style=\"text-align: right;\">        </td><td style=\"text-align: right;\">      </td><td style=\"text-align: right;\">                </td></tr>\n",
       "<tr><td>train_27206_00011</td><td>PENDING   </td><td>                   </td><td style=\"text-align: right;\">        0.2</td><td style=\"text-align: right;\">         20</td><td style=\"text-align: right;\">            10</td><td style=\"text-align: right;\">        </td><td style=\"text-align: right;\">      </td><td style=\"text-align: right;\">                </td></tr>\n",
       "<tr><td>train_27206_00012</td><td>PENDING   </td><td>                   </td><td style=\"text-align: right;\">        0  </td><td style=\"text-align: right;\">         25</td><td style=\"text-align: right;\">            10</td><td style=\"text-align: right;\">        </td><td style=\"text-align: right;\">      </td><td style=\"text-align: right;\">                </td></tr>\n",
       "<tr><td>train_27206_00013</td><td>PENDING   </td><td>                   </td><td style=\"text-align: right;\">        0.1</td><td style=\"text-align: right;\">         25</td><td style=\"text-align: right;\">            10</td><td style=\"text-align: right;\">        </td><td style=\"text-align: right;\">      </td><td style=\"text-align: right;\">                </td></tr>\n",
       "<tr><td>train_27206_00014</td><td>PENDING   </td><td>                   </td><td style=\"text-align: right;\">        0.2</td><td style=\"text-align: right;\">         25</td><td style=\"text-align: right;\">            10</td><td style=\"text-align: right;\">        </td><td style=\"text-align: right;\">      </td><td style=\"text-align: right;\">                </td></tr>\n",
       "<tr><td>train_27206_00015</td><td>PENDING   </td><td>                   </td><td style=\"text-align: right;\">        0  </td><td style=\"text-align: right;\">         30</td><td style=\"text-align: right;\">            10</td><td style=\"text-align: right;\">        </td><td style=\"text-align: right;\">      </td><td style=\"text-align: right;\">                </td></tr>\n",
       "<tr><td>train_27206_00016</td><td>PENDING   </td><td>                   </td><td style=\"text-align: right;\">        0.1</td><td style=\"text-align: right;\">         30</td><td style=\"text-align: right;\">            10</td><td style=\"text-align: right;\">        </td><td style=\"text-align: right;\">      </td><td style=\"text-align: right;\">                </td></tr>\n",
       "<tr><td>train_27206_00017</td><td>PENDING   </td><td>                   </td><td style=\"text-align: right;\">        0.2</td><td style=\"text-align: right;\">         30</td><td style=\"text-align: right;\">            10</td><td style=\"text-align: right;\">        </td><td style=\"text-align: right;\">      </td><td style=\"text-align: right;\">                </td></tr>\n",
       "<tr><td>train_27206_00018</td><td>PENDING   </td><td>                   </td><td style=\"text-align: right;\">        0  </td><td style=\"text-align: right;\">         35</td><td style=\"text-align: right;\">            10</td><td style=\"text-align: right;\">        </td><td style=\"text-align: right;\">      </td><td style=\"text-align: right;\">                </td></tr>\n",
       "<tr><td>train_27206_00019</td><td>PENDING   </td><td>                   </td><td style=\"text-align: right;\">        0.1</td><td style=\"text-align: right;\">         35</td><td style=\"text-align: right;\">            10</td><td style=\"text-align: right;\">        </td><td style=\"text-align: right;\">      </td><td style=\"text-align: right;\">                </td></tr>\n",
       "<tr><td>train_27206_00000</td><td>TERMINATED</td><td>192.168.2.213:54649</td><td style=\"text-align: right;\">        0  </td><td style=\"text-align: right;\">          5</td><td style=\"text-align: right;\">            10</td><td style=\"text-align: right;\">0.575331</td><td style=\"text-align: right;\">     1</td><td style=\"text-align: right;\">        0.726216</td></tr>\n",
       "<tr><td>train_27206_00001</td><td>TERMINATED</td><td>192.168.2.213:54706</td><td style=\"text-align: right;\">        0.1</td><td style=\"text-align: right;\">          5</td><td style=\"text-align: right;\">            10</td><td style=\"text-align: right;\">0.248148</td><td style=\"text-align: right;\">     1</td><td style=\"text-align: right;\">        0.628825</td></tr>\n",
       "<tr><td>train_27206_00002</td><td>TERMINATED</td><td>192.168.2.213:54763</td><td style=\"text-align: right;\">        0.2</td><td style=\"text-align: right;\">          5</td><td style=\"text-align: right;\">            10</td><td style=\"text-align: right;\">0.142857</td><td style=\"text-align: right;\">     1</td><td style=\"text-align: right;\">        1.88971 </td></tr>\n",
       "<tr><td>train_27206_00003</td><td>TERMINATED</td><td>192.168.2.213:54897</td><td style=\"text-align: right;\">        0  </td><td style=\"text-align: right;\">         10</td><td style=\"text-align: right;\">            10</td><td style=\"text-align: right;\">0.627579</td><td style=\"text-align: right;\">     1</td><td style=\"text-align: right;\">        3.35609 </td></tr>\n",
       "<tr><td>train_27206_00004</td><td>TERMINATED</td><td>192.168.2.213:54962</td><td style=\"text-align: right;\">        0.1</td><td style=\"text-align: right;\">         10</td><td style=\"text-align: right;\">            10</td><td style=\"text-align: right;\">0.285582</td><td style=\"text-align: right;\">     1</td><td style=\"text-align: right;\">        4.93316 </td></tr>\n",
       "<tr><td>train_27206_00005</td><td>TERMINATED</td><td>192.168.2.213:55029</td><td style=\"text-align: right;\">        0.2</td><td style=\"text-align: right;\">         10</td><td style=\"text-align: right;\">            10</td><td style=\"text-align: right;\">0.142857</td><td style=\"text-align: right;\">     1</td><td style=\"text-align: right;\">        5.93447 </td></tr>\n",
       "</tbody>\n",
       "</table><br>... 3 more trials not shown (3 PENDING)<br><br>"
      ],
      "text/plain": [
       "<IPython.core.display.HTML object>"
      ]
     },
     "metadata": {},
     "output_type": "display_data"
    },
    {
     "name": "stderr",
     "output_type": "stream",
     "text": [
      "2022-04-29 00:22:54,481\tWARNING util.py:171 -- The `on_step_begin` operation took 1.059 s, which may be a performance bottleneck.\n"
     ]
    },
    {
     "data": {
      "text/html": [
       "== Status ==<br>Current time: 2022-04-29 00:23:00 (running for 00:02:40.08)<br>Memory usage on this node: 1.9/1.9 GiB: ***LOW MEMORY*** less than 10% of the memory on this node is available for use. This can cause unexpected crashes. Consider reducing the memory used by your application or reducing the Ray object store size by setting `object_store_memory` when calling `ray.init`.<br>Using FIFO scheduling algorithm.<br>Resources requested: 1.0/1 CPUs, 0/0 GPUs, 0.0/0.49 GiB heap, 0.0/0.07 GiB objects<br>Result logdir: /home/ubuntu/ray_results/train_2022-04-29_00-20-19<br>Number of trials: 23/108 (16 PENDING, 1 RUNNING, 6 TERMINATED)<br><table>\n",
       "<thead>\n",
       "<tr><th>Trial name       </th><th>status    </th><th>loc                </th><th style=\"text-align: right;\">  ccp_alpha</th><th style=\"text-align: right;\">  max_depth</th><th style=\"text-align: right;\">  n_estimators</th><th style=\"text-align: right;\">     acc</th><th style=\"text-align: right;\">  iter</th><th style=\"text-align: right;\">  total time (s)</th></tr>\n",
       "</thead>\n",
       "<tbody>\n",
       "<tr><td>train_27206_00006</td><td>RUNNING   </td><td>192.168.2.213:55095</td><td style=\"text-align: right;\">        0  </td><td style=\"text-align: right;\">         15</td><td style=\"text-align: right;\">            10</td><td style=\"text-align: right;\">        </td><td style=\"text-align: right;\">      </td><td style=\"text-align: right;\">                </td></tr>\n",
       "<tr><td>train_27206_00007</td><td>PENDING   </td><td>                   </td><td style=\"text-align: right;\">        0.1</td><td style=\"text-align: right;\">         15</td><td style=\"text-align: right;\">            10</td><td style=\"text-align: right;\">        </td><td style=\"text-align: right;\">      </td><td style=\"text-align: right;\">                </td></tr>\n",
       "<tr><td>train_27206_00008</td><td>PENDING   </td><td>                   </td><td style=\"text-align: right;\">        0.2</td><td style=\"text-align: right;\">         15</td><td style=\"text-align: right;\">            10</td><td style=\"text-align: right;\">        </td><td style=\"text-align: right;\">      </td><td style=\"text-align: right;\">                </td></tr>\n",
       "<tr><td>train_27206_00009</td><td>PENDING   </td><td>                   </td><td style=\"text-align: right;\">        0  </td><td style=\"text-align: right;\">         20</td><td style=\"text-align: right;\">            10</td><td style=\"text-align: right;\">        </td><td style=\"text-align: right;\">      </td><td style=\"text-align: right;\">                </td></tr>\n",
       "<tr><td>train_27206_00010</td><td>PENDING   </td><td>                   </td><td style=\"text-align: right;\">        0.1</td><td style=\"text-align: right;\">         20</td><td style=\"text-align: right;\">            10</td><td style=\"text-align: right;\">        </td><td style=\"text-align: right;\">      </td><td style=\"text-align: right;\">                </td></tr>\n",
       "<tr><td>train_27206_00011</td><td>PENDING   </td><td>                   </td><td style=\"text-align: right;\">        0.2</td><td style=\"text-align: right;\">         20</td><td style=\"text-align: right;\">            10</td><td style=\"text-align: right;\">        </td><td style=\"text-align: right;\">      </td><td style=\"text-align: right;\">                </td></tr>\n",
       "<tr><td>train_27206_00012</td><td>PENDING   </td><td>                   </td><td style=\"text-align: right;\">        0  </td><td style=\"text-align: right;\">         25</td><td style=\"text-align: right;\">            10</td><td style=\"text-align: right;\">        </td><td style=\"text-align: right;\">      </td><td style=\"text-align: right;\">                </td></tr>\n",
       "<tr><td>train_27206_00013</td><td>PENDING   </td><td>                   </td><td style=\"text-align: right;\">        0.1</td><td style=\"text-align: right;\">         25</td><td style=\"text-align: right;\">            10</td><td style=\"text-align: right;\">        </td><td style=\"text-align: right;\">      </td><td style=\"text-align: right;\">                </td></tr>\n",
       "<tr><td>train_27206_00014</td><td>PENDING   </td><td>                   </td><td style=\"text-align: right;\">        0.2</td><td style=\"text-align: right;\">         25</td><td style=\"text-align: right;\">            10</td><td style=\"text-align: right;\">        </td><td style=\"text-align: right;\">      </td><td style=\"text-align: right;\">                </td></tr>\n",
       "<tr><td>train_27206_00015</td><td>PENDING   </td><td>                   </td><td style=\"text-align: right;\">        0  </td><td style=\"text-align: right;\">         30</td><td style=\"text-align: right;\">            10</td><td style=\"text-align: right;\">        </td><td style=\"text-align: right;\">      </td><td style=\"text-align: right;\">                </td></tr>\n",
       "<tr><td>train_27206_00016</td><td>PENDING   </td><td>                   </td><td style=\"text-align: right;\">        0.1</td><td style=\"text-align: right;\">         30</td><td style=\"text-align: right;\">            10</td><td style=\"text-align: right;\">        </td><td style=\"text-align: right;\">      </td><td style=\"text-align: right;\">                </td></tr>\n",
       "<tr><td>train_27206_00017</td><td>PENDING   </td><td>                   </td><td style=\"text-align: right;\">        0.2</td><td style=\"text-align: right;\">         30</td><td style=\"text-align: right;\">            10</td><td style=\"text-align: right;\">        </td><td style=\"text-align: right;\">      </td><td style=\"text-align: right;\">                </td></tr>\n",
       "<tr><td>train_27206_00018</td><td>PENDING   </td><td>                   </td><td style=\"text-align: right;\">        0  </td><td style=\"text-align: right;\">         35</td><td style=\"text-align: right;\">            10</td><td style=\"text-align: right;\">        </td><td style=\"text-align: right;\">      </td><td style=\"text-align: right;\">                </td></tr>\n",
       "<tr><td>train_27206_00019</td><td>PENDING   </td><td>                   </td><td style=\"text-align: right;\">        0.1</td><td style=\"text-align: right;\">         35</td><td style=\"text-align: right;\">            10</td><td style=\"text-align: right;\">        </td><td style=\"text-align: right;\">      </td><td style=\"text-align: right;\">                </td></tr>\n",
       "<tr><td>train_27206_00000</td><td>TERMINATED</td><td>192.168.2.213:54649</td><td style=\"text-align: right;\">        0  </td><td style=\"text-align: right;\">          5</td><td style=\"text-align: right;\">            10</td><td style=\"text-align: right;\">0.575331</td><td style=\"text-align: right;\">     1</td><td style=\"text-align: right;\">        0.726216</td></tr>\n",
       "<tr><td>train_27206_00001</td><td>TERMINATED</td><td>192.168.2.213:54706</td><td style=\"text-align: right;\">        0.1</td><td style=\"text-align: right;\">          5</td><td style=\"text-align: right;\">            10</td><td style=\"text-align: right;\">0.248148</td><td style=\"text-align: right;\">     1</td><td style=\"text-align: right;\">        0.628825</td></tr>\n",
       "<tr><td>train_27206_00002</td><td>TERMINATED</td><td>192.168.2.213:54763</td><td style=\"text-align: right;\">        0.2</td><td style=\"text-align: right;\">          5</td><td style=\"text-align: right;\">            10</td><td style=\"text-align: right;\">0.142857</td><td style=\"text-align: right;\">     1</td><td style=\"text-align: right;\">        1.88971 </td></tr>\n",
       "<tr><td>train_27206_00003</td><td>TERMINATED</td><td>192.168.2.213:54897</td><td style=\"text-align: right;\">        0  </td><td style=\"text-align: right;\">         10</td><td style=\"text-align: right;\">            10</td><td style=\"text-align: right;\">0.627579</td><td style=\"text-align: right;\">     1</td><td style=\"text-align: right;\">        3.35609 </td></tr>\n",
       "<tr><td>train_27206_00004</td><td>TERMINATED</td><td>192.168.2.213:54962</td><td style=\"text-align: right;\">        0.1</td><td style=\"text-align: right;\">         10</td><td style=\"text-align: right;\">            10</td><td style=\"text-align: right;\">0.285582</td><td style=\"text-align: right;\">     1</td><td style=\"text-align: right;\">        4.93316 </td></tr>\n",
       "<tr><td>train_27206_00005</td><td>TERMINATED</td><td>192.168.2.213:55029</td><td style=\"text-align: right;\">        0.2</td><td style=\"text-align: right;\">         10</td><td style=\"text-align: right;\">            10</td><td style=\"text-align: right;\">0.142857</td><td style=\"text-align: right;\">     1</td><td style=\"text-align: right;\">        5.93447 </td></tr>\n",
       "</tbody>\n",
       "</table><br>... 3 more trials not shown (3 PENDING)<br><br>"
      ],
      "text/plain": [
       "<IPython.core.display.HTML object>"
      ]
     },
     "metadata": {},
     "output_type": "display_data"
    },
    {
     "data": {
      "text/html": [
       "== Status ==<br>Current time: 2022-04-29 00:23:05 (running for 00:02:45.79)<br>Memory usage on this node: 1.9/1.9 GiB: ***LOW MEMORY*** less than 10% of the memory on this node is available for use. This can cause unexpected crashes. Consider reducing the memory used by your application or reducing the Ray object store size by setting `object_store_memory` when calling `ray.init`.<br>Using FIFO scheduling algorithm.<br>Resources requested: 1.0/1 CPUs, 0/0 GPUs, 0.0/0.49 GiB heap, 0.0/0.07 GiB objects<br>Result logdir: /home/ubuntu/ray_results/train_2022-04-29_00-20-19<br>Number of trials: 23/108 (16 PENDING, 1 RUNNING, 6 TERMINATED)<br><table>\n",
       "<thead>\n",
       "<tr><th>Trial name       </th><th>status    </th><th>loc                </th><th style=\"text-align: right;\">  ccp_alpha</th><th style=\"text-align: right;\">  max_depth</th><th style=\"text-align: right;\">  n_estimators</th><th style=\"text-align: right;\">     acc</th><th style=\"text-align: right;\">  iter</th><th style=\"text-align: right;\">  total time (s)</th></tr>\n",
       "</thead>\n",
       "<tbody>\n",
       "<tr><td>train_27206_00006</td><td>RUNNING   </td><td>192.168.2.213:55095</td><td style=\"text-align: right;\">        0  </td><td style=\"text-align: right;\">         15</td><td style=\"text-align: right;\">            10</td><td style=\"text-align: right;\">        </td><td style=\"text-align: right;\">      </td><td style=\"text-align: right;\">                </td></tr>\n",
       "<tr><td>train_27206_00007</td><td>PENDING   </td><td>                   </td><td style=\"text-align: right;\">        0.1</td><td style=\"text-align: right;\">         15</td><td style=\"text-align: right;\">            10</td><td style=\"text-align: right;\">        </td><td style=\"text-align: right;\">      </td><td style=\"text-align: right;\">                </td></tr>\n",
       "<tr><td>train_27206_00008</td><td>PENDING   </td><td>                   </td><td style=\"text-align: right;\">        0.2</td><td style=\"text-align: right;\">         15</td><td style=\"text-align: right;\">            10</td><td style=\"text-align: right;\">        </td><td style=\"text-align: right;\">      </td><td style=\"text-align: right;\">                </td></tr>\n",
       "<tr><td>train_27206_00009</td><td>PENDING   </td><td>                   </td><td style=\"text-align: right;\">        0  </td><td style=\"text-align: right;\">         20</td><td style=\"text-align: right;\">            10</td><td style=\"text-align: right;\">        </td><td style=\"text-align: right;\">      </td><td style=\"text-align: right;\">                </td></tr>\n",
       "<tr><td>train_27206_00010</td><td>PENDING   </td><td>                   </td><td style=\"text-align: right;\">        0.1</td><td style=\"text-align: right;\">         20</td><td style=\"text-align: right;\">            10</td><td style=\"text-align: right;\">        </td><td style=\"text-align: right;\">      </td><td style=\"text-align: right;\">                </td></tr>\n",
       "<tr><td>train_27206_00011</td><td>PENDING   </td><td>                   </td><td style=\"text-align: right;\">        0.2</td><td style=\"text-align: right;\">         20</td><td style=\"text-align: right;\">            10</td><td style=\"text-align: right;\">        </td><td style=\"text-align: right;\">      </td><td style=\"text-align: right;\">                </td></tr>\n",
       "<tr><td>train_27206_00012</td><td>PENDING   </td><td>                   </td><td style=\"text-align: right;\">        0  </td><td style=\"text-align: right;\">         25</td><td style=\"text-align: right;\">            10</td><td style=\"text-align: right;\">        </td><td style=\"text-align: right;\">      </td><td style=\"text-align: right;\">                </td></tr>\n",
       "<tr><td>train_27206_00013</td><td>PENDING   </td><td>                   </td><td style=\"text-align: right;\">        0.1</td><td style=\"text-align: right;\">         25</td><td style=\"text-align: right;\">            10</td><td style=\"text-align: right;\">        </td><td style=\"text-align: right;\">      </td><td style=\"text-align: right;\">                </td></tr>\n",
       "<tr><td>train_27206_00014</td><td>PENDING   </td><td>                   </td><td style=\"text-align: right;\">        0.2</td><td style=\"text-align: right;\">         25</td><td style=\"text-align: right;\">            10</td><td style=\"text-align: right;\">        </td><td style=\"text-align: right;\">      </td><td style=\"text-align: right;\">                </td></tr>\n",
       "<tr><td>train_27206_00015</td><td>PENDING   </td><td>                   </td><td style=\"text-align: right;\">        0  </td><td style=\"text-align: right;\">         30</td><td style=\"text-align: right;\">            10</td><td style=\"text-align: right;\">        </td><td style=\"text-align: right;\">      </td><td style=\"text-align: right;\">                </td></tr>\n",
       "<tr><td>train_27206_00016</td><td>PENDING   </td><td>                   </td><td style=\"text-align: right;\">        0.1</td><td style=\"text-align: right;\">         30</td><td style=\"text-align: right;\">            10</td><td style=\"text-align: right;\">        </td><td style=\"text-align: right;\">      </td><td style=\"text-align: right;\">                </td></tr>\n",
       "<tr><td>train_27206_00017</td><td>PENDING   </td><td>                   </td><td style=\"text-align: right;\">        0.2</td><td style=\"text-align: right;\">         30</td><td style=\"text-align: right;\">            10</td><td style=\"text-align: right;\">        </td><td style=\"text-align: right;\">      </td><td style=\"text-align: right;\">                </td></tr>\n",
       "<tr><td>train_27206_00018</td><td>PENDING   </td><td>                   </td><td style=\"text-align: right;\">        0  </td><td style=\"text-align: right;\">         35</td><td style=\"text-align: right;\">            10</td><td style=\"text-align: right;\">        </td><td style=\"text-align: right;\">      </td><td style=\"text-align: right;\">                </td></tr>\n",
       "<tr><td>train_27206_00019</td><td>PENDING   </td><td>                   </td><td style=\"text-align: right;\">        0.1</td><td style=\"text-align: right;\">         35</td><td style=\"text-align: right;\">            10</td><td style=\"text-align: right;\">        </td><td style=\"text-align: right;\">      </td><td style=\"text-align: right;\">                </td></tr>\n",
       "<tr><td>train_27206_00000</td><td>TERMINATED</td><td>192.168.2.213:54649</td><td style=\"text-align: right;\">        0  </td><td style=\"text-align: right;\">          5</td><td style=\"text-align: right;\">            10</td><td style=\"text-align: right;\">0.575331</td><td style=\"text-align: right;\">     1</td><td style=\"text-align: right;\">        0.726216</td></tr>\n",
       "<tr><td>train_27206_00001</td><td>TERMINATED</td><td>192.168.2.213:54706</td><td style=\"text-align: right;\">        0.1</td><td style=\"text-align: right;\">          5</td><td style=\"text-align: right;\">            10</td><td style=\"text-align: right;\">0.248148</td><td style=\"text-align: right;\">     1</td><td style=\"text-align: right;\">        0.628825</td></tr>\n",
       "<tr><td>train_27206_00002</td><td>TERMINATED</td><td>192.168.2.213:54763</td><td style=\"text-align: right;\">        0.2</td><td style=\"text-align: right;\">          5</td><td style=\"text-align: right;\">            10</td><td style=\"text-align: right;\">0.142857</td><td style=\"text-align: right;\">     1</td><td style=\"text-align: right;\">        1.88971 </td></tr>\n",
       "<tr><td>train_27206_00003</td><td>TERMINATED</td><td>192.168.2.213:54897</td><td style=\"text-align: right;\">        0  </td><td style=\"text-align: right;\">         10</td><td style=\"text-align: right;\">            10</td><td style=\"text-align: right;\">0.627579</td><td style=\"text-align: right;\">     1</td><td style=\"text-align: right;\">        3.35609 </td></tr>\n",
       "<tr><td>train_27206_00004</td><td>TERMINATED</td><td>192.168.2.213:54962</td><td style=\"text-align: right;\">        0.1</td><td style=\"text-align: right;\">         10</td><td style=\"text-align: right;\">            10</td><td style=\"text-align: right;\">0.285582</td><td style=\"text-align: right;\">     1</td><td style=\"text-align: right;\">        4.93316 </td></tr>\n",
       "<tr><td>train_27206_00005</td><td>TERMINATED</td><td>192.168.2.213:55029</td><td style=\"text-align: right;\">        0.2</td><td style=\"text-align: right;\">         10</td><td style=\"text-align: right;\">            10</td><td style=\"text-align: right;\">0.142857</td><td style=\"text-align: right;\">     1</td><td style=\"text-align: right;\">        5.93447 </td></tr>\n",
       "</tbody>\n",
       "</table><br>... 3 more trials not shown (3 PENDING)<br><br>"
      ],
      "text/plain": [
       "<IPython.core.display.HTML object>"
      ]
     },
     "metadata": {},
     "output_type": "display_data"
    },
    {
     "name": "stderr",
     "output_type": "stream",
     "text": [
      "2022-04-29 00:23:08,096\tWARNING util.py:171 -- The `on_step_begin` operation took 1.065 s, which may be a performance bottleneck.\n"
     ]
    },
    {
     "data": {
      "text/html": [
       "== Status ==<br>Current time: 2022-04-29 00:23:14 (running for 00:02:54.89)<br>Memory usage on this node: 1.9/1.9 GiB: ***LOW MEMORY*** less than 10% of the memory on this node is available for use. This can cause unexpected crashes. Consider reducing the memory used by your application or reducing the Ray object store size by setting `object_store_memory` when calling `ray.init`.<br>Using FIFO scheduling algorithm.<br>Resources requested: 1.0/1 CPUs, 0/0 GPUs, 0.0/0.49 GiB heap, 0.0/0.07 GiB objects<br>Result logdir: /home/ubuntu/ray_results/train_2022-04-29_00-20-19<br>Number of trials: 23/108 (16 PENDING, 1 RUNNING, 6 TERMINATED)<br><table>\n",
       "<thead>\n",
       "<tr><th>Trial name       </th><th>status    </th><th>loc                </th><th style=\"text-align: right;\">  ccp_alpha</th><th style=\"text-align: right;\">  max_depth</th><th style=\"text-align: right;\">  n_estimators</th><th style=\"text-align: right;\">     acc</th><th style=\"text-align: right;\">  iter</th><th style=\"text-align: right;\">  total time (s)</th></tr>\n",
       "</thead>\n",
       "<tbody>\n",
       "<tr><td>train_27206_00006</td><td>RUNNING   </td><td>192.168.2.213:55095</td><td style=\"text-align: right;\">        0  </td><td style=\"text-align: right;\">         15</td><td style=\"text-align: right;\">            10</td><td style=\"text-align: right;\">        </td><td style=\"text-align: right;\">      </td><td style=\"text-align: right;\">                </td></tr>\n",
       "<tr><td>train_27206_00007</td><td>PENDING   </td><td>                   </td><td style=\"text-align: right;\">        0.1</td><td style=\"text-align: right;\">         15</td><td style=\"text-align: right;\">            10</td><td style=\"text-align: right;\">        </td><td style=\"text-align: right;\">      </td><td style=\"text-align: right;\">                </td></tr>\n",
       "<tr><td>train_27206_00008</td><td>PENDING   </td><td>                   </td><td style=\"text-align: right;\">        0.2</td><td style=\"text-align: right;\">         15</td><td style=\"text-align: right;\">            10</td><td style=\"text-align: right;\">        </td><td style=\"text-align: right;\">      </td><td style=\"text-align: right;\">                </td></tr>\n",
       "<tr><td>train_27206_00009</td><td>PENDING   </td><td>                   </td><td style=\"text-align: right;\">        0  </td><td style=\"text-align: right;\">         20</td><td style=\"text-align: right;\">            10</td><td style=\"text-align: right;\">        </td><td style=\"text-align: right;\">      </td><td style=\"text-align: right;\">                </td></tr>\n",
       "<tr><td>train_27206_00010</td><td>PENDING   </td><td>                   </td><td style=\"text-align: right;\">        0.1</td><td style=\"text-align: right;\">         20</td><td style=\"text-align: right;\">            10</td><td style=\"text-align: right;\">        </td><td style=\"text-align: right;\">      </td><td style=\"text-align: right;\">                </td></tr>\n",
       "<tr><td>train_27206_00011</td><td>PENDING   </td><td>                   </td><td style=\"text-align: right;\">        0.2</td><td style=\"text-align: right;\">         20</td><td style=\"text-align: right;\">            10</td><td style=\"text-align: right;\">        </td><td style=\"text-align: right;\">      </td><td style=\"text-align: right;\">                </td></tr>\n",
       "<tr><td>train_27206_00012</td><td>PENDING   </td><td>                   </td><td style=\"text-align: right;\">        0  </td><td style=\"text-align: right;\">         25</td><td style=\"text-align: right;\">            10</td><td style=\"text-align: right;\">        </td><td style=\"text-align: right;\">      </td><td style=\"text-align: right;\">                </td></tr>\n",
       "<tr><td>train_27206_00013</td><td>PENDING   </td><td>                   </td><td style=\"text-align: right;\">        0.1</td><td style=\"text-align: right;\">         25</td><td style=\"text-align: right;\">            10</td><td style=\"text-align: right;\">        </td><td style=\"text-align: right;\">      </td><td style=\"text-align: right;\">                </td></tr>\n",
       "<tr><td>train_27206_00014</td><td>PENDING   </td><td>                   </td><td style=\"text-align: right;\">        0.2</td><td style=\"text-align: right;\">         25</td><td style=\"text-align: right;\">            10</td><td style=\"text-align: right;\">        </td><td style=\"text-align: right;\">      </td><td style=\"text-align: right;\">                </td></tr>\n",
       "<tr><td>train_27206_00015</td><td>PENDING   </td><td>                   </td><td style=\"text-align: right;\">        0  </td><td style=\"text-align: right;\">         30</td><td style=\"text-align: right;\">            10</td><td style=\"text-align: right;\">        </td><td style=\"text-align: right;\">      </td><td style=\"text-align: right;\">                </td></tr>\n",
       "<tr><td>train_27206_00016</td><td>PENDING   </td><td>                   </td><td style=\"text-align: right;\">        0.1</td><td style=\"text-align: right;\">         30</td><td style=\"text-align: right;\">            10</td><td style=\"text-align: right;\">        </td><td style=\"text-align: right;\">      </td><td style=\"text-align: right;\">                </td></tr>\n",
       "<tr><td>train_27206_00017</td><td>PENDING   </td><td>                   </td><td style=\"text-align: right;\">        0.2</td><td style=\"text-align: right;\">         30</td><td style=\"text-align: right;\">            10</td><td style=\"text-align: right;\">        </td><td style=\"text-align: right;\">      </td><td style=\"text-align: right;\">                </td></tr>\n",
       "<tr><td>train_27206_00018</td><td>PENDING   </td><td>                   </td><td style=\"text-align: right;\">        0  </td><td style=\"text-align: right;\">         35</td><td style=\"text-align: right;\">            10</td><td style=\"text-align: right;\">        </td><td style=\"text-align: right;\">      </td><td style=\"text-align: right;\">                </td></tr>\n",
       "<tr><td>train_27206_00019</td><td>PENDING   </td><td>                   </td><td style=\"text-align: right;\">        0.1</td><td style=\"text-align: right;\">         35</td><td style=\"text-align: right;\">            10</td><td style=\"text-align: right;\">        </td><td style=\"text-align: right;\">      </td><td style=\"text-align: right;\">                </td></tr>\n",
       "<tr><td>train_27206_00000</td><td>TERMINATED</td><td>192.168.2.213:54649</td><td style=\"text-align: right;\">        0  </td><td style=\"text-align: right;\">          5</td><td style=\"text-align: right;\">            10</td><td style=\"text-align: right;\">0.575331</td><td style=\"text-align: right;\">     1</td><td style=\"text-align: right;\">        0.726216</td></tr>\n",
       "<tr><td>train_27206_00001</td><td>TERMINATED</td><td>192.168.2.213:54706</td><td style=\"text-align: right;\">        0.1</td><td style=\"text-align: right;\">          5</td><td style=\"text-align: right;\">            10</td><td style=\"text-align: right;\">0.248148</td><td style=\"text-align: right;\">     1</td><td style=\"text-align: right;\">        0.628825</td></tr>\n",
       "<tr><td>train_27206_00002</td><td>TERMINATED</td><td>192.168.2.213:54763</td><td style=\"text-align: right;\">        0.2</td><td style=\"text-align: right;\">          5</td><td style=\"text-align: right;\">            10</td><td style=\"text-align: right;\">0.142857</td><td style=\"text-align: right;\">     1</td><td style=\"text-align: right;\">        1.88971 </td></tr>\n",
       "<tr><td>train_27206_00003</td><td>TERMINATED</td><td>192.168.2.213:54897</td><td style=\"text-align: right;\">        0  </td><td style=\"text-align: right;\">         10</td><td style=\"text-align: right;\">            10</td><td style=\"text-align: right;\">0.627579</td><td style=\"text-align: right;\">     1</td><td style=\"text-align: right;\">        3.35609 </td></tr>\n",
       "<tr><td>train_27206_00004</td><td>TERMINATED</td><td>192.168.2.213:54962</td><td style=\"text-align: right;\">        0.1</td><td style=\"text-align: right;\">         10</td><td style=\"text-align: right;\">            10</td><td style=\"text-align: right;\">0.285582</td><td style=\"text-align: right;\">     1</td><td style=\"text-align: right;\">        4.93316 </td></tr>\n",
       "<tr><td>train_27206_00005</td><td>TERMINATED</td><td>192.168.2.213:55029</td><td style=\"text-align: right;\">        0.2</td><td style=\"text-align: right;\">         10</td><td style=\"text-align: right;\">            10</td><td style=\"text-align: right;\">0.142857</td><td style=\"text-align: right;\">     1</td><td style=\"text-align: right;\">        5.93447 </td></tr>\n",
       "</tbody>\n",
       "</table><br>... 3 more trials not shown (3 PENDING)<br><br>"
      ],
      "text/plain": [
       "<IPython.core.display.HTML object>"
      ]
     },
     "metadata": {},
     "output_type": "display_data"
    },
    {
     "data": {
      "text/html": [
       "== Status ==<br>Current time: 2022-04-29 00:23:22 (running for 00:03:02.57)<br>Memory usage on this node: 1.9/1.9 GiB: ***LOW MEMORY*** less than 10% of the memory on this node is available for use. This can cause unexpected crashes. Consider reducing the memory used by your application or reducing the Ray object store size by setting `object_store_memory` when calling `ray.init`.<br>Using FIFO scheduling algorithm.<br>Resources requested: 1.0/1 CPUs, 0/0 GPUs, 0.0/0.49 GiB heap, 0.0/0.07 GiB objects<br>Result logdir: /home/ubuntu/ray_results/train_2022-04-29_00-20-19<br>Number of trials: 23/108 (16 PENDING, 1 RUNNING, 6 TERMINATED)<br><table>\n",
       "<thead>\n",
       "<tr><th>Trial name       </th><th>status    </th><th>loc                </th><th style=\"text-align: right;\">  ccp_alpha</th><th style=\"text-align: right;\">  max_depth</th><th style=\"text-align: right;\">  n_estimators</th><th style=\"text-align: right;\">     acc</th><th style=\"text-align: right;\">  iter</th><th style=\"text-align: right;\">  total time (s)</th></tr>\n",
       "</thead>\n",
       "<tbody>\n",
       "<tr><td>train_27206_00006</td><td>RUNNING   </td><td>192.168.2.213:55095</td><td style=\"text-align: right;\">        0  </td><td style=\"text-align: right;\">         15</td><td style=\"text-align: right;\">            10</td><td style=\"text-align: right;\">        </td><td style=\"text-align: right;\">      </td><td style=\"text-align: right;\">                </td></tr>\n",
       "<tr><td>train_27206_00007</td><td>PENDING   </td><td>                   </td><td style=\"text-align: right;\">        0.1</td><td style=\"text-align: right;\">         15</td><td style=\"text-align: right;\">            10</td><td style=\"text-align: right;\">        </td><td style=\"text-align: right;\">      </td><td style=\"text-align: right;\">                </td></tr>\n",
       "<tr><td>train_27206_00008</td><td>PENDING   </td><td>                   </td><td style=\"text-align: right;\">        0.2</td><td style=\"text-align: right;\">         15</td><td style=\"text-align: right;\">            10</td><td style=\"text-align: right;\">        </td><td style=\"text-align: right;\">      </td><td style=\"text-align: right;\">                </td></tr>\n",
       "<tr><td>train_27206_00009</td><td>PENDING   </td><td>                   </td><td style=\"text-align: right;\">        0  </td><td style=\"text-align: right;\">         20</td><td style=\"text-align: right;\">            10</td><td style=\"text-align: right;\">        </td><td style=\"text-align: right;\">      </td><td style=\"text-align: right;\">                </td></tr>\n",
       "<tr><td>train_27206_00010</td><td>PENDING   </td><td>                   </td><td style=\"text-align: right;\">        0.1</td><td style=\"text-align: right;\">         20</td><td style=\"text-align: right;\">            10</td><td style=\"text-align: right;\">        </td><td style=\"text-align: right;\">      </td><td style=\"text-align: right;\">                </td></tr>\n",
       "<tr><td>train_27206_00011</td><td>PENDING   </td><td>                   </td><td style=\"text-align: right;\">        0.2</td><td style=\"text-align: right;\">         20</td><td style=\"text-align: right;\">            10</td><td style=\"text-align: right;\">        </td><td style=\"text-align: right;\">      </td><td style=\"text-align: right;\">                </td></tr>\n",
       "<tr><td>train_27206_00012</td><td>PENDING   </td><td>                   </td><td style=\"text-align: right;\">        0  </td><td style=\"text-align: right;\">         25</td><td style=\"text-align: right;\">            10</td><td style=\"text-align: right;\">        </td><td style=\"text-align: right;\">      </td><td style=\"text-align: right;\">                </td></tr>\n",
       "<tr><td>train_27206_00013</td><td>PENDING   </td><td>                   </td><td style=\"text-align: right;\">        0.1</td><td style=\"text-align: right;\">         25</td><td style=\"text-align: right;\">            10</td><td style=\"text-align: right;\">        </td><td style=\"text-align: right;\">      </td><td style=\"text-align: right;\">                </td></tr>\n",
       "<tr><td>train_27206_00014</td><td>PENDING   </td><td>                   </td><td style=\"text-align: right;\">        0.2</td><td style=\"text-align: right;\">         25</td><td style=\"text-align: right;\">            10</td><td style=\"text-align: right;\">        </td><td style=\"text-align: right;\">      </td><td style=\"text-align: right;\">                </td></tr>\n",
       "<tr><td>train_27206_00015</td><td>PENDING   </td><td>                   </td><td style=\"text-align: right;\">        0  </td><td style=\"text-align: right;\">         30</td><td style=\"text-align: right;\">            10</td><td style=\"text-align: right;\">        </td><td style=\"text-align: right;\">      </td><td style=\"text-align: right;\">                </td></tr>\n",
       "<tr><td>train_27206_00016</td><td>PENDING   </td><td>                   </td><td style=\"text-align: right;\">        0.1</td><td style=\"text-align: right;\">         30</td><td style=\"text-align: right;\">            10</td><td style=\"text-align: right;\">        </td><td style=\"text-align: right;\">      </td><td style=\"text-align: right;\">                </td></tr>\n",
       "<tr><td>train_27206_00017</td><td>PENDING   </td><td>                   </td><td style=\"text-align: right;\">        0.2</td><td style=\"text-align: right;\">         30</td><td style=\"text-align: right;\">            10</td><td style=\"text-align: right;\">        </td><td style=\"text-align: right;\">      </td><td style=\"text-align: right;\">                </td></tr>\n",
       "<tr><td>train_27206_00018</td><td>PENDING   </td><td>                   </td><td style=\"text-align: right;\">        0  </td><td style=\"text-align: right;\">         35</td><td style=\"text-align: right;\">            10</td><td style=\"text-align: right;\">        </td><td style=\"text-align: right;\">      </td><td style=\"text-align: right;\">                </td></tr>\n",
       "<tr><td>train_27206_00019</td><td>PENDING   </td><td>                   </td><td style=\"text-align: right;\">        0.1</td><td style=\"text-align: right;\">         35</td><td style=\"text-align: right;\">            10</td><td style=\"text-align: right;\">        </td><td style=\"text-align: right;\">      </td><td style=\"text-align: right;\">                </td></tr>\n",
       "<tr><td>train_27206_00000</td><td>TERMINATED</td><td>192.168.2.213:54649</td><td style=\"text-align: right;\">        0  </td><td style=\"text-align: right;\">          5</td><td style=\"text-align: right;\">            10</td><td style=\"text-align: right;\">0.575331</td><td style=\"text-align: right;\">     1</td><td style=\"text-align: right;\">        0.726216</td></tr>\n",
       "<tr><td>train_27206_00001</td><td>TERMINATED</td><td>192.168.2.213:54706</td><td style=\"text-align: right;\">        0.1</td><td style=\"text-align: right;\">          5</td><td style=\"text-align: right;\">            10</td><td style=\"text-align: right;\">0.248148</td><td style=\"text-align: right;\">     1</td><td style=\"text-align: right;\">        0.628825</td></tr>\n",
       "<tr><td>train_27206_00002</td><td>TERMINATED</td><td>192.168.2.213:54763</td><td style=\"text-align: right;\">        0.2</td><td style=\"text-align: right;\">          5</td><td style=\"text-align: right;\">            10</td><td style=\"text-align: right;\">0.142857</td><td style=\"text-align: right;\">     1</td><td style=\"text-align: right;\">        1.88971 </td></tr>\n",
       "<tr><td>train_27206_00003</td><td>TERMINATED</td><td>192.168.2.213:54897</td><td style=\"text-align: right;\">        0  </td><td style=\"text-align: right;\">         10</td><td style=\"text-align: right;\">            10</td><td style=\"text-align: right;\">0.627579</td><td style=\"text-align: right;\">     1</td><td style=\"text-align: right;\">        3.35609 </td></tr>\n",
       "<tr><td>train_27206_00004</td><td>TERMINATED</td><td>192.168.2.213:54962</td><td style=\"text-align: right;\">        0.1</td><td style=\"text-align: right;\">         10</td><td style=\"text-align: right;\">            10</td><td style=\"text-align: right;\">0.285582</td><td style=\"text-align: right;\">     1</td><td style=\"text-align: right;\">        4.93316 </td></tr>\n",
       "<tr><td>train_27206_00005</td><td>TERMINATED</td><td>192.168.2.213:55029</td><td style=\"text-align: right;\">        0.2</td><td style=\"text-align: right;\">         10</td><td style=\"text-align: right;\">            10</td><td style=\"text-align: right;\">0.142857</td><td style=\"text-align: right;\">     1</td><td style=\"text-align: right;\">        5.93447 </td></tr>\n",
       "</tbody>\n",
       "</table><br>... 3 more trials not shown (3 PENDING)<br><br>"
      ],
      "text/plain": [
       "<IPython.core.display.HTML object>"
      ]
     },
     "metadata": {},
     "output_type": "display_data"
    },
    {
     "name": "stderr",
     "output_type": "stream",
     "text": [
      "2022-04-29 00:23:25,885\tWARNING util.py:171 -- The `on_step_begin` operation took 1.208 s, which may be a performance bottleneck.\n"
     ]
    },
    {
     "data": {
      "text/html": [
       "== Status ==<br>Current time: 2022-04-29 00:23:33 (running for 00:03:13.32)<br>Memory usage on this node: 1.9/1.9 GiB: ***LOW MEMORY*** less than 10% of the memory on this node is available for use. This can cause unexpected crashes. Consider reducing the memory used by your application or reducing the Ray object store size by setting `object_store_memory` when calling `ray.init`.<br>Using FIFO scheduling algorithm.<br>Resources requested: 1.0/1 CPUs, 0/0 GPUs, 0.0/0.49 GiB heap, 0.0/0.07 GiB objects<br>Result logdir: /home/ubuntu/ray_results/train_2022-04-29_00-20-19<br>Number of trials: 23/108 (16 PENDING, 1 RUNNING, 6 TERMINATED)<br><table>\n",
       "<thead>\n",
       "<tr><th>Trial name       </th><th>status    </th><th>loc                </th><th style=\"text-align: right;\">  ccp_alpha</th><th style=\"text-align: right;\">  max_depth</th><th style=\"text-align: right;\">  n_estimators</th><th style=\"text-align: right;\">     acc</th><th style=\"text-align: right;\">  iter</th><th style=\"text-align: right;\">  total time (s)</th></tr>\n",
       "</thead>\n",
       "<tbody>\n",
       "<tr><td>train_27206_00006</td><td>RUNNING   </td><td>192.168.2.213:55095</td><td style=\"text-align: right;\">        0  </td><td style=\"text-align: right;\">         15</td><td style=\"text-align: right;\">            10</td><td style=\"text-align: right;\">        </td><td style=\"text-align: right;\">      </td><td style=\"text-align: right;\">                </td></tr>\n",
       "<tr><td>train_27206_00007</td><td>PENDING   </td><td>                   </td><td style=\"text-align: right;\">        0.1</td><td style=\"text-align: right;\">         15</td><td style=\"text-align: right;\">            10</td><td style=\"text-align: right;\">        </td><td style=\"text-align: right;\">      </td><td style=\"text-align: right;\">                </td></tr>\n",
       "<tr><td>train_27206_00008</td><td>PENDING   </td><td>                   </td><td style=\"text-align: right;\">        0.2</td><td style=\"text-align: right;\">         15</td><td style=\"text-align: right;\">            10</td><td style=\"text-align: right;\">        </td><td style=\"text-align: right;\">      </td><td style=\"text-align: right;\">                </td></tr>\n",
       "<tr><td>train_27206_00009</td><td>PENDING   </td><td>                   </td><td style=\"text-align: right;\">        0  </td><td style=\"text-align: right;\">         20</td><td style=\"text-align: right;\">            10</td><td style=\"text-align: right;\">        </td><td style=\"text-align: right;\">      </td><td style=\"text-align: right;\">                </td></tr>\n",
       "<tr><td>train_27206_00010</td><td>PENDING   </td><td>                   </td><td style=\"text-align: right;\">        0.1</td><td style=\"text-align: right;\">         20</td><td style=\"text-align: right;\">            10</td><td style=\"text-align: right;\">        </td><td style=\"text-align: right;\">      </td><td style=\"text-align: right;\">                </td></tr>\n",
       "<tr><td>train_27206_00011</td><td>PENDING   </td><td>                   </td><td style=\"text-align: right;\">        0.2</td><td style=\"text-align: right;\">         20</td><td style=\"text-align: right;\">            10</td><td style=\"text-align: right;\">        </td><td style=\"text-align: right;\">      </td><td style=\"text-align: right;\">                </td></tr>\n",
       "<tr><td>train_27206_00012</td><td>PENDING   </td><td>                   </td><td style=\"text-align: right;\">        0  </td><td style=\"text-align: right;\">         25</td><td style=\"text-align: right;\">            10</td><td style=\"text-align: right;\">        </td><td style=\"text-align: right;\">      </td><td style=\"text-align: right;\">                </td></tr>\n",
       "<tr><td>train_27206_00013</td><td>PENDING   </td><td>                   </td><td style=\"text-align: right;\">        0.1</td><td style=\"text-align: right;\">         25</td><td style=\"text-align: right;\">            10</td><td style=\"text-align: right;\">        </td><td style=\"text-align: right;\">      </td><td style=\"text-align: right;\">                </td></tr>\n",
       "<tr><td>train_27206_00014</td><td>PENDING   </td><td>                   </td><td style=\"text-align: right;\">        0.2</td><td style=\"text-align: right;\">         25</td><td style=\"text-align: right;\">            10</td><td style=\"text-align: right;\">        </td><td style=\"text-align: right;\">      </td><td style=\"text-align: right;\">                </td></tr>\n",
       "<tr><td>train_27206_00015</td><td>PENDING   </td><td>                   </td><td style=\"text-align: right;\">        0  </td><td style=\"text-align: right;\">         30</td><td style=\"text-align: right;\">            10</td><td style=\"text-align: right;\">        </td><td style=\"text-align: right;\">      </td><td style=\"text-align: right;\">                </td></tr>\n",
       "<tr><td>train_27206_00016</td><td>PENDING   </td><td>                   </td><td style=\"text-align: right;\">        0.1</td><td style=\"text-align: right;\">         30</td><td style=\"text-align: right;\">            10</td><td style=\"text-align: right;\">        </td><td style=\"text-align: right;\">      </td><td style=\"text-align: right;\">                </td></tr>\n",
       "<tr><td>train_27206_00017</td><td>PENDING   </td><td>                   </td><td style=\"text-align: right;\">        0.2</td><td style=\"text-align: right;\">         30</td><td style=\"text-align: right;\">            10</td><td style=\"text-align: right;\">        </td><td style=\"text-align: right;\">      </td><td style=\"text-align: right;\">                </td></tr>\n",
       "<tr><td>train_27206_00018</td><td>PENDING   </td><td>                   </td><td style=\"text-align: right;\">        0  </td><td style=\"text-align: right;\">         35</td><td style=\"text-align: right;\">            10</td><td style=\"text-align: right;\">        </td><td style=\"text-align: right;\">      </td><td style=\"text-align: right;\">                </td></tr>\n",
       "<tr><td>train_27206_00019</td><td>PENDING   </td><td>                   </td><td style=\"text-align: right;\">        0.1</td><td style=\"text-align: right;\">         35</td><td style=\"text-align: right;\">            10</td><td style=\"text-align: right;\">        </td><td style=\"text-align: right;\">      </td><td style=\"text-align: right;\">                </td></tr>\n",
       "<tr><td>train_27206_00000</td><td>TERMINATED</td><td>192.168.2.213:54649</td><td style=\"text-align: right;\">        0  </td><td style=\"text-align: right;\">          5</td><td style=\"text-align: right;\">            10</td><td style=\"text-align: right;\">0.575331</td><td style=\"text-align: right;\">     1</td><td style=\"text-align: right;\">        0.726216</td></tr>\n",
       "<tr><td>train_27206_00001</td><td>TERMINATED</td><td>192.168.2.213:54706</td><td style=\"text-align: right;\">        0.1</td><td style=\"text-align: right;\">          5</td><td style=\"text-align: right;\">            10</td><td style=\"text-align: right;\">0.248148</td><td style=\"text-align: right;\">     1</td><td style=\"text-align: right;\">        0.628825</td></tr>\n",
       "<tr><td>train_27206_00002</td><td>TERMINATED</td><td>192.168.2.213:54763</td><td style=\"text-align: right;\">        0.2</td><td style=\"text-align: right;\">          5</td><td style=\"text-align: right;\">            10</td><td style=\"text-align: right;\">0.142857</td><td style=\"text-align: right;\">     1</td><td style=\"text-align: right;\">        1.88971 </td></tr>\n",
       "<tr><td>train_27206_00003</td><td>TERMINATED</td><td>192.168.2.213:54897</td><td style=\"text-align: right;\">        0  </td><td style=\"text-align: right;\">         10</td><td style=\"text-align: right;\">            10</td><td style=\"text-align: right;\">0.627579</td><td style=\"text-align: right;\">     1</td><td style=\"text-align: right;\">        3.35609 </td></tr>\n",
       "<tr><td>train_27206_00004</td><td>TERMINATED</td><td>192.168.2.213:54962</td><td style=\"text-align: right;\">        0.1</td><td style=\"text-align: right;\">         10</td><td style=\"text-align: right;\">            10</td><td style=\"text-align: right;\">0.285582</td><td style=\"text-align: right;\">     1</td><td style=\"text-align: right;\">        4.93316 </td></tr>\n",
       "<tr><td>train_27206_00005</td><td>TERMINATED</td><td>192.168.2.213:55029</td><td style=\"text-align: right;\">        0.2</td><td style=\"text-align: right;\">         10</td><td style=\"text-align: right;\">            10</td><td style=\"text-align: right;\">0.142857</td><td style=\"text-align: right;\">     1</td><td style=\"text-align: right;\">        5.93447 </td></tr>\n",
       "</tbody>\n",
       "</table><br>... 3 more trials not shown (3 PENDING)<br><br>"
      ],
      "text/plain": [
       "<IPython.core.display.HTML object>"
      ]
     },
     "metadata": {},
     "output_type": "display_data"
    },
    {
     "data": {
      "text/html": [
       "== Status ==<br>Current time: 2022-04-29 00:23:40 (running for 00:03:20.77)<br>Memory usage on this node: 1.9/1.9 GiB: ***LOW MEMORY*** less than 10% of the memory on this node is available for use. This can cause unexpected crashes. Consider reducing the memory used by your application or reducing the Ray object store size by setting `object_store_memory` when calling `ray.init`.<br>Using FIFO scheduling algorithm.<br>Resources requested: 1.0/1 CPUs, 0/0 GPUs, 0.0/0.49 GiB heap, 0.0/0.07 GiB objects<br>Result logdir: /home/ubuntu/ray_results/train_2022-04-29_00-20-19<br>Number of trials: 23/108 (16 PENDING, 1 RUNNING, 6 TERMINATED)<br><table>\n",
       "<thead>\n",
       "<tr><th>Trial name       </th><th>status    </th><th>loc                </th><th style=\"text-align: right;\">  ccp_alpha</th><th style=\"text-align: right;\">  max_depth</th><th style=\"text-align: right;\">  n_estimators</th><th style=\"text-align: right;\">     acc</th><th style=\"text-align: right;\">  iter</th><th style=\"text-align: right;\">  total time (s)</th></tr>\n",
       "</thead>\n",
       "<tbody>\n",
       "<tr><td>train_27206_00006</td><td>RUNNING   </td><td>192.168.2.213:55095</td><td style=\"text-align: right;\">        0  </td><td style=\"text-align: right;\">         15</td><td style=\"text-align: right;\">            10</td><td style=\"text-align: right;\">        </td><td style=\"text-align: right;\">      </td><td style=\"text-align: right;\">                </td></tr>\n",
       "<tr><td>train_27206_00007</td><td>PENDING   </td><td>                   </td><td style=\"text-align: right;\">        0.1</td><td style=\"text-align: right;\">         15</td><td style=\"text-align: right;\">            10</td><td style=\"text-align: right;\">        </td><td style=\"text-align: right;\">      </td><td style=\"text-align: right;\">                </td></tr>\n",
       "<tr><td>train_27206_00008</td><td>PENDING   </td><td>                   </td><td style=\"text-align: right;\">        0.2</td><td style=\"text-align: right;\">         15</td><td style=\"text-align: right;\">            10</td><td style=\"text-align: right;\">        </td><td style=\"text-align: right;\">      </td><td style=\"text-align: right;\">                </td></tr>\n",
       "<tr><td>train_27206_00009</td><td>PENDING   </td><td>                   </td><td style=\"text-align: right;\">        0  </td><td style=\"text-align: right;\">         20</td><td style=\"text-align: right;\">            10</td><td style=\"text-align: right;\">        </td><td style=\"text-align: right;\">      </td><td style=\"text-align: right;\">                </td></tr>\n",
       "<tr><td>train_27206_00010</td><td>PENDING   </td><td>                   </td><td style=\"text-align: right;\">        0.1</td><td style=\"text-align: right;\">         20</td><td style=\"text-align: right;\">            10</td><td style=\"text-align: right;\">        </td><td style=\"text-align: right;\">      </td><td style=\"text-align: right;\">                </td></tr>\n",
       "<tr><td>train_27206_00011</td><td>PENDING   </td><td>                   </td><td style=\"text-align: right;\">        0.2</td><td style=\"text-align: right;\">         20</td><td style=\"text-align: right;\">            10</td><td style=\"text-align: right;\">        </td><td style=\"text-align: right;\">      </td><td style=\"text-align: right;\">                </td></tr>\n",
       "<tr><td>train_27206_00012</td><td>PENDING   </td><td>                   </td><td style=\"text-align: right;\">        0  </td><td style=\"text-align: right;\">         25</td><td style=\"text-align: right;\">            10</td><td style=\"text-align: right;\">        </td><td style=\"text-align: right;\">      </td><td style=\"text-align: right;\">                </td></tr>\n",
       "<tr><td>train_27206_00013</td><td>PENDING   </td><td>                   </td><td style=\"text-align: right;\">        0.1</td><td style=\"text-align: right;\">         25</td><td style=\"text-align: right;\">            10</td><td style=\"text-align: right;\">        </td><td style=\"text-align: right;\">      </td><td style=\"text-align: right;\">                </td></tr>\n",
       "<tr><td>train_27206_00014</td><td>PENDING   </td><td>                   </td><td style=\"text-align: right;\">        0.2</td><td style=\"text-align: right;\">         25</td><td style=\"text-align: right;\">            10</td><td style=\"text-align: right;\">        </td><td style=\"text-align: right;\">      </td><td style=\"text-align: right;\">                </td></tr>\n",
       "<tr><td>train_27206_00015</td><td>PENDING   </td><td>                   </td><td style=\"text-align: right;\">        0  </td><td style=\"text-align: right;\">         30</td><td style=\"text-align: right;\">            10</td><td style=\"text-align: right;\">        </td><td style=\"text-align: right;\">      </td><td style=\"text-align: right;\">                </td></tr>\n",
       "<tr><td>train_27206_00016</td><td>PENDING   </td><td>                   </td><td style=\"text-align: right;\">        0.1</td><td style=\"text-align: right;\">         30</td><td style=\"text-align: right;\">            10</td><td style=\"text-align: right;\">        </td><td style=\"text-align: right;\">      </td><td style=\"text-align: right;\">                </td></tr>\n",
       "<tr><td>train_27206_00017</td><td>PENDING   </td><td>                   </td><td style=\"text-align: right;\">        0.2</td><td style=\"text-align: right;\">         30</td><td style=\"text-align: right;\">            10</td><td style=\"text-align: right;\">        </td><td style=\"text-align: right;\">      </td><td style=\"text-align: right;\">                </td></tr>\n",
       "<tr><td>train_27206_00018</td><td>PENDING   </td><td>                   </td><td style=\"text-align: right;\">        0  </td><td style=\"text-align: right;\">         35</td><td style=\"text-align: right;\">            10</td><td style=\"text-align: right;\">        </td><td style=\"text-align: right;\">      </td><td style=\"text-align: right;\">                </td></tr>\n",
       "<tr><td>train_27206_00019</td><td>PENDING   </td><td>                   </td><td style=\"text-align: right;\">        0.1</td><td style=\"text-align: right;\">         35</td><td style=\"text-align: right;\">            10</td><td style=\"text-align: right;\">        </td><td style=\"text-align: right;\">      </td><td style=\"text-align: right;\">                </td></tr>\n",
       "<tr><td>train_27206_00000</td><td>TERMINATED</td><td>192.168.2.213:54649</td><td style=\"text-align: right;\">        0  </td><td style=\"text-align: right;\">          5</td><td style=\"text-align: right;\">            10</td><td style=\"text-align: right;\">0.575331</td><td style=\"text-align: right;\">     1</td><td style=\"text-align: right;\">        0.726216</td></tr>\n",
       "<tr><td>train_27206_00001</td><td>TERMINATED</td><td>192.168.2.213:54706</td><td style=\"text-align: right;\">        0.1</td><td style=\"text-align: right;\">          5</td><td style=\"text-align: right;\">            10</td><td style=\"text-align: right;\">0.248148</td><td style=\"text-align: right;\">     1</td><td style=\"text-align: right;\">        0.628825</td></tr>\n",
       "<tr><td>train_27206_00002</td><td>TERMINATED</td><td>192.168.2.213:54763</td><td style=\"text-align: right;\">        0.2</td><td style=\"text-align: right;\">          5</td><td style=\"text-align: right;\">            10</td><td style=\"text-align: right;\">0.142857</td><td style=\"text-align: right;\">     1</td><td style=\"text-align: right;\">        1.88971 </td></tr>\n",
       "<tr><td>train_27206_00003</td><td>TERMINATED</td><td>192.168.2.213:54897</td><td style=\"text-align: right;\">        0  </td><td style=\"text-align: right;\">         10</td><td style=\"text-align: right;\">            10</td><td style=\"text-align: right;\">0.627579</td><td style=\"text-align: right;\">     1</td><td style=\"text-align: right;\">        3.35609 </td></tr>\n",
       "<tr><td>train_27206_00004</td><td>TERMINATED</td><td>192.168.2.213:54962</td><td style=\"text-align: right;\">        0.1</td><td style=\"text-align: right;\">         10</td><td style=\"text-align: right;\">            10</td><td style=\"text-align: right;\">0.285582</td><td style=\"text-align: right;\">     1</td><td style=\"text-align: right;\">        4.93316 </td></tr>\n",
       "<tr><td>train_27206_00005</td><td>TERMINATED</td><td>192.168.2.213:55029</td><td style=\"text-align: right;\">        0.2</td><td style=\"text-align: right;\">         10</td><td style=\"text-align: right;\">            10</td><td style=\"text-align: right;\">0.142857</td><td style=\"text-align: right;\">     1</td><td style=\"text-align: right;\">        5.93447 </td></tr>\n",
       "</tbody>\n",
       "</table><br>... 3 more trials not shown (3 PENDING)<br><br>"
      ],
      "text/plain": [
       "<IPython.core.display.HTML object>"
      ]
     },
     "metadata": {},
     "output_type": "display_data"
    },
    {
     "name": "stderr",
     "output_type": "stream",
     "text": [
      "2022-04-29 00:23:42,994\tWARNING util.py:171 -- The `on_step_begin` operation took 0.792 s, which may be a performance bottleneck.\n"
     ]
    },
    {
     "data": {
      "text/html": [
       "== Status ==<br>Current time: 2022-04-29 00:23:48 (running for 00:03:28.79)<br>Memory usage on this node: 1.9/1.9 GiB: ***LOW MEMORY*** less than 10% of the memory on this node is available for use. This can cause unexpected crashes. Consider reducing the memory used by your application or reducing the Ray object store size by setting `object_store_memory` when calling `ray.init`.<br>Using FIFO scheduling algorithm.<br>Resources requested: 1.0/1 CPUs, 0/0 GPUs, 0.0/0.49 GiB heap, 0.0/0.07 GiB objects<br>Result logdir: /home/ubuntu/ray_results/train_2022-04-29_00-20-19<br>Number of trials: 23/108 (16 PENDING, 1 RUNNING, 6 TERMINATED)<br><table>\n",
       "<thead>\n",
       "<tr><th>Trial name       </th><th>status    </th><th>loc                </th><th style=\"text-align: right;\">  ccp_alpha</th><th style=\"text-align: right;\">  max_depth</th><th style=\"text-align: right;\">  n_estimators</th><th style=\"text-align: right;\">     acc</th><th style=\"text-align: right;\">  iter</th><th style=\"text-align: right;\">  total time (s)</th></tr>\n",
       "</thead>\n",
       "<tbody>\n",
       "<tr><td>train_27206_00006</td><td>RUNNING   </td><td>192.168.2.213:55095</td><td style=\"text-align: right;\">        0  </td><td style=\"text-align: right;\">         15</td><td style=\"text-align: right;\">            10</td><td style=\"text-align: right;\">        </td><td style=\"text-align: right;\">      </td><td style=\"text-align: right;\">                </td></tr>\n",
       "<tr><td>train_27206_00007</td><td>PENDING   </td><td>                   </td><td style=\"text-align: right;\">        0.1</td><td style=\"text-align: right;\">         15</td><td style=\"text-align: right;\">            10</td><td style=\"text-align: right;\">        </td><td style=\"text-align: right;\">      </td><td style=\"text-align: right;\">                </td></tr>\n",
       "<tr><td>train_27206_00008</td><td>PENDING   </td><td>                   </td><td style=\"text-align: right;\">        0.2</td><td style=\"text-align: right;\">         15</td><td style=\"text-align: right;\">            10</td><td style=\"text-align: right;\">        </td><td style=\"text-align: right;\">      </td><td style=\"text-align: right;\">                </td></tr>\n",
       "<tr><td>train_27206_00009</td><td>PENDING   </td><td>                   </td><td style=\"text-align: right;\">        0  </td><td style=\"text-align: right;\">         20</td><td style=\"text-align: right;\">            10</td><td style=\"text-align: right;\">        </td><td style=\"text-align: right;\">      </td><td style=\"text-align: right;\">                </td></tr>\n",
       "<tr><td>train_27206_00010</td><td>PENDING   </td><td>                   </td><td style=\"text-align: right;\">        0.1</td><td style=\"text-align: right;\">         20</td><td style=\"text-align: right;\">            10</td><td style=\"text-align: right;\">        </td><td style=\"text-align: right;\">      </td><td style=\"text-align: right;\">                </td></tr>\n",
       "<tr><td>train_27206_00011</td><td>PENDING   </td><td>                   </td><td style=\"text-align: right;\">        0.2</td><td style=\"text-align: right;\">         20</td><td style=\"text-align: right;\">            10</td><td style=\"text-align: right;\">        </td><td style=\"text-align: right;\">      </td><td style=\"text-align: right;\">                </td></tr>\n",
       "<tr><td>train_27206_00012</td><td>PENDING   </td><td>                   </td><td style=\"text-align: right;\">        0  </td><td style=\"text-align: right;\">         25</td><td style=\"text-align: right;\">            10</td><td style=\"text-align: right;\">        </td><td style=\"text-align: right;\">      </td><td style=\"text-align: right;\">                </td></tr>\n",
       "<tr><td>train_27206_00013</td><td>PENDING   </td><td>                   </td><td style=\"text-align: right;\">        0.1</td><td style=\"text-align: right;\">         25</td><td style=\"text-align: right;\">            10</td><td style=\"text-align: right;\">        </td><td style=\"text-align: right;\">      </td><td style=\"text-align: right;\">                </td></tr>\n",
       "<tr><td>train_27206_00014</td><td>PENDING   </td><td>                   </td><td style=\"text-align: right;\">        0.2</td><td style=\"text-align: right;\">         25</td><td style=\"text-align: right;\">            10</td><td style=\"text-align: right;\">        </td><td style=\"text-align: right;\">      </td><td style=\"text-align: right;\">                </td></tr>\n",
       "<tr><td>train_27206_00015</td><td>PENDING   </td><td>                   </td><td style=\"text-align: right;\">        0  </td><td style=\"text-align: right;\">         30</td><td style=\"text-align: right;\">            10</td><td style=\"text-align: right;\">        </td><td style=\"text-align: right;\">      </td><td style=\"text-align: right;\">                </td></tr>\n",
       "<tr><td>train_27206_00016</td><td>PENDING   </td><td>                   </td><td style=\"text-align: right;\">        0.1</td><td style=\"text-align: right;\">         30</td><td style=\"text-align: right;\">            10</td><td style=\"text-align: right;\">        </td><td style=\"text-align: right;\">      </td><td style=\"text-align: right;\">                </td></tr>\n",
       "<tr><td>train_27206_00017</td><td>PENDING   </td><td>                   </td><td style=\"text-align: right;\">        0.2</td><td style=\"text-align: right;\">         30</td><td style=\"text-align: right;\">            10</td><td style=\"text-align: right;\">        </td><td style=\"text-align: right;\">      </td><td style=\"text-align: right;\">                </td></tr>\n",
       "<tr><td>train_27206_00018</td><td>PENDING   </td><td>                   </td><td style=\"text-align: right;\">        0  </td><td style=\"text-align: right;\">         35</td><td style=\"text-align: right;\">            10</td><td style=\"text-align: right;\">        </td><td style=\"text-align: right;\">      </td><td style=\"text-align: right;\">                </td></tr>\n",
       "<tr><td>train_27206_00019</td><td>PENDING   </td><td>                   </td><td style=\"text-align: right;\">        0.1</td><td style=\"text-align: right;\">         35</td><td style=\"text-align: right;\">            10</td><td style=\"text-align: right;\">        </td><td style=\"text-align: right;\">      </td><td style=\"text-align: right;\">                </td></tr>\n",
       "<tr><td>train_27206_00000</td><td>TERMINATED</td><td>192.168.2.213:54649</td><td style=\"text-align: right;\">        0  </td><td style=\"text-align: right;\">          5</td><td style=\"text-align: right;\">            10</td><td style=\"text-align: right;\">0.575331</td><td style=\"text-align: right;\">     1</td><td style=\"text-align: right;\">        0.726216</td></tr>\n",
       "<tr><td>train_27206_00001</td><td>TERMINATED</td><td>192.168.2.213:54706</td><td style=\"text-align: right;\">        0.1</td><td style=\"text-align: right;\">          5</td><td style=\"text-align: right;\">            10</td><td style=\"text-align: right;\">0.248148</td><td style=\"text-align: right;\">     1</td><td style=\"text-align: right;\">        0.628825</td></tr>\n",
       "<tr><td>train_27206_00002</td><td>TERMINATED</td><td>192.168.2.213:54763</td><td style=\"text-align: right;\">        0.2</td><td style=\"text-align: right;\">          5</td><td style=\"text-align: right;\">            10</td><td style=\"text-align: right;\">0.142857</td><td style=\"text-align: right;\">     1</td><td style=\"text-align: right;\">        1.88971 </td></tr>\n",
       "<tr><td>train_27206_00003</td><td>TERMINATED</td><td>192.168.2.213:54897</td><td style=\"text-align: right;\">        0  </td><td style=\"text-align: right;\">         10</td><td style=\"text-align: right;\">            10</td><td style=\"text-align: right;\">0.627579</td><td style=\"text-align: right;\">     1</td><td style=\"text-align: right;\">        3.35609 </td></tr>\n",
       "<tr><td>train_27206_00004</td><td>TERMINATED</td><td>192.168.2.213:54962</td><td style=\"text-align: right;\">        0.1</td><td style=\"text-align: right;\">         10</td><td style=\"text-align: right;\">            10</td><td style=\"text-align: right;\">0.285582</td><td style=\"text-align: right;\">     1</td><td style=\"text-align: right;\">        4.93316 </td></tr>\n",
       "<tr><td>train_27206_00005</td><td>TERMINATED</td><td>192.168.2.213:55029</td><td style=\"text-align: right;\">        0.2</td><td style=\"text-align: right;\">         10</td><td style=\"text-align: right;\">            10</td><td style=\"text-align: right;\">0.142857</td><td style=\"text-align: right;\">     1</td><td style=\"text-align: right;\">        5.93447 </td></tr>\n",
       "</tbody>\n",
       "</table><br>... 3 more trials not shown (3 PENDING)<br><br>"
      ],
      "text/plain": [
       "<IPython.core.display.HTML object>"
      ]
     },
     "metadata": {},
     "output_type": "display_data"
    },
    {
     "data": {
      "text/html": [
       "== Status ==<br>Current time: 2022-04-29 00:23:58 (running for 00:03:38.18)<br>Memory usage on this node: 1.9/1.9 GiB: ***LOW MEMORY*** less than 10% of the memory on this node is available for use. This can cause unexpected crashes. Consider reducing the memory used by your application or reducing the Ray object store size by setting `object_store_memory` when calling `ray.init`.<br>Using FIFO scheduling algorithm.<br>Resources requested: 1.0/1 CPUs, 0/0 GPUs, 0.0/0.49 GiB heap, 0.0/0.07 GiB objects<br>Result logdir: /home/ubuntu/ray_results/train_2022-04-29_00-20-19<br>Number of trials: 23/108 (16 PENDING, 1 RUNNING, 6 TERMINATED)<br><table>\n",
       "<thead>\n",
       "<tr><th>Trial name       </th><th>status    </th><th>loc                </th><th style=\"text-align: right;\">  ccp_alpha</th><th style=\"text-align: right;\">  max_depth</th><th style=\"text-align: right;\">  n_estimators</th><th style=\"text-align: right;\">     acc</th><th style=\"text-align: right;\">  iter</th><th style=\"text-align: right;\">  total time (s)</th></tr>\n",
       "</thead>\n",
       "<tbody>\n",
       "<tr><td>train_27206_00006</td><td>RUNNING   </td><td>192.168.2.213:55095</td><td style=\"text-align: right;\">        0  </td><td style=\"text-align: right;\">         15</td><td style=\"text-align: right;\">            10</td><td style=\"text-align: right;\">        </td><td style=\"text-align: right;\">      </td><td style=\"text-align: right;\">                </td></tr>\n",
       "<tr><td>train_27206_00007</td><td>PENDING   </td><td>                   </td><td style=\"text-align: right;\">        0.1</td><td style=\"text-align: right;\">         15</td><td style=\"text-align: right;\">            10</td><td style=\"text-align: right;\">        </td><td style=\"text-align: right;\">      </td><td style=\"text-align: right;\">                </td></tr>\n",
       "<tr><td>train_27206_00008</td><td>PENDING   </td><td>                   </td><td style=\"text-align: right;\">        0.2</td><td style=\"text-align: right;\">         15</td><td style=\"text-align: right;\">            10</td><td style=\"text-align: right;\">        </td><td style=\"text-align: right;\">      </td><td style=\"text-align: right;\">                </td></tr>\n",
       "<tr><td>train_27206_00009</td><td>PENDING   </td><td>                   </td><td style=\"text-align: right;\">        0  </td><td style=\"text-align: right;\">         20</td><td style=\"text-align: right;\">            10</td><td style=\"text-align: right;\">        </td><td style=\"text-align: right;\">      </td><td style=\"text-align: right;\">                </td></tr>\n",
       "<tr><td>train_27206_00010</td><td>PENDING   </td><td>                   </td><td style=\"text-align: right;\">        0.1</td><td style=\"text-align: right;\">         20</td><td style=\"text-align: right;\">            10</td><td style=\"text-align: right;\">        </td><td style=\"text-align: right;\">      </td><td style=\"text-align: right;\">                </td></tr>\n",
       "<tr><td>train_27206_00011</td><td>PENDING   </td><td>                   </td><td style=\"text-align: right;\">        0.2</td><td style=\"text-align: right;\">         20</td><td style=\"text-align: right;\">            10</td><td style=\"text-align: right;\">        </td><td style=\"text-align: right;\">      </td><td style=\"text-align: right;\">                </td></tr>\n",
       "<tr><td>train_27206_00012</td><td>PENDING   </td><td>                   </td><td style=\"text-align: right;\">        0  </td><td style=\"text-align: right;\">         25</td><td style=\"text-align: right;\">            10</td><td style=\"text-align: right;\">        </td><td style=\"text-align: right;\">      </td><td style=\"text-align: right;\">                </td></tr>\n",
       "<tr><td>train_27206_00013</td><td>PENDING   </td><td>                   </td><td style=\"text-align: right;\">        0.1</td><td style=\"text-align: right;\">         25</td><td style=\"text-align: right;\">            10</td><td style=\"text-align: right;\">        </td><td style=\"text-align: right;\">      </td><td style=\"text-align: right;\">                </td></tr>\n",
       "<tr><td>train_27206_00014</td><td>PENDING   </td><td>                   </td><td style=\"text-align: right;\">        0.2</td><td style=\"text-align: right;\">         25</td><td style=\"text-align: right;\">            10</td><td style=\"text-align: right;\">        </td><td style=\"text-align: right;\">      </td><td style=\"text-align: right;\">                </td></tr>\n",
       "<tr><td>train_27206_00015</td><td>PENDING   </td><td>                   </td><td style=\"text-align: right;\">        0  </td><td style=\"text-align: right;\">         30</td><td style=\"text-align: right;\">            10</td><td style=\"text-align: right;\">        </td><td style=\"text-align: right;\">      </td><td style=\"text-align: right;\">                </td></tr>\n",
       "<tr><td>train_27206_00016</td><td>PENDING   </td><td>                   </td><td style=\"text-align: right;\">        0.1</td><td style=\"text-align: right;\">         30</td><td style=\"text-align: right;\">            10</td><td style=\"text-align: right;\">        </td><td style=\"text-align: right;\">      </td><td style=\"text-align: right;\">                </td></tr>\n",
       "<tr><td>train_27206_00017</td><td>PENDING   </td><td>                   </td><td style=\"text-align: right;\">        0.2</td><td style=\"text-align: right;\">         30</td><td style=\"text-align: right;\">            10</td><td style=\"text-align: right;\">        </td><td style=\"text-align: right;\">      </td><td style=\"text-align: right;\">                </td></tr>\n",
       "<tr><td>train_27206_00018</td><td>PENDING   </td><td>                   </td><td style=\"text-align: right;\">        0  </td><td style=\"text-align: right;\">         35</td><td style=\"text-align: right;\">            10</td><td style=\"text-align: right;\">        </td><td style=\"text-align: right;\">      </td><td style=\"text-align: right;\">                </td></tr>\n",
       "<tr><td>train_27206_00019</td><td>PENDING   </td><td>                   </td><td style=\"text-align: right;\">        0.1</td><td style=\"text-align: right;\">         35</td><td style=\"text-align: right;\">            10</td><td style=\"text-align: right;\">        </td><td style=\"text-align: right;\">      </td><td style=\"text-align: right;\">                </td></tr>\n",
       "<tr><td>train_27206_00000</td><td>TERMINATED</td><td>192.168.2.213:54649</td><td style=\"text-align: right;\">        0  </td><td style=\"text-align: right;\">          5</td><td style=\"text-align: right;\">            10</td><td style=\"text-align: right;\">0.575331</td><td style=\"text-align: right;\">     1</td><td style=\"text-align: right;\">        0.726216</td></tr>\n",
       "<tr><td>train_27206_00001</td><td>TERMINATED</td><td>192.168.2.213:54706</td><td style=\"text-align: right;\">        0.1</td><td style=\"text-align: right;\">          5</td><td style=\"text-align: right;\">            10</td><td style=\"text-align: right;\">0.248148</td><td style=\"text-align: right;\">     1</td><td style=\"text-align: right;\">        0.628825</td></tr>\n",
       "<tr><td>train_27206_00002</td><td>TERMINATED</td><td>192.168.2.213:54763</td><td style=\"text-align: right;\">        0.2</td><td style=\"text-align: right;\">          5</td><td style=\"text-align: right;\">            10</td><td style=\"text-align: right;\">0.142857</td><td style=\"text-align: right;\">     1</td><td style=\"text-align: right;\">        1.88971 </td></tr>\n",
       "<tr><td>train_27206_00003</td><td>TERMINATED</td><td>192.168.2.213:54897</td><td style=\"text-align: right;\">        0  </td><td style=\"text-align: right;\">         10</td><td style=\"text-align: right;\">            10</td><td style=\"text-align: right;\">0.627579</td><td style=\"text-align: right;\">     1</td><td style=\"text-align: right;\">        3.35609 </td></tr>\n",
       "<tr><td>train_27206_00004</td><td>TERMINATED</td><td>192.168.2.213:54962</td><td style=\"text-align: right;\">        0.1</td><td style=\"text-align: right;\">         10</td><td style=\"text-align: right;\">            10</td><td style=\"text-align: right;\">0.285582</td><td style=\"text-align: right;\">     1</td><td style=\"text-align: right;\">        4.93316 </td></tr>\n",
       "<tr><td>train_27206_00005</td><td>TERMINATED</td><td>192.168.2.213:55029</td><td style=\"text-align: right;\">        0.2</td><td style=\"text-align: right;\">         10</td><td style=\"text-align: right;\">            10</td><td style=\"text-align: right;\">0.142857</td><td style=\"text-align: right;\">     1</td><td style=\"text-align: right;\">        5.93447 </td></tr>\n",
       "</tbody>\n",
       "</table><br>... 3 more trials not shown (3 PENDING)<br><br>"
      ],
      "text/plain": [
       "<IPython.core.display.HTML object>"
      ]
     },
     "metadata": {},
     "output_type": "display_data"
    },
    {
     "name": "stderr",
     "output_type": "stream",
     "text": [
      "2022-04-29 00:24:00,754\tWARNING util.py:171 -- The `on_step_begin` operation took 1.029 s, which may be a performance bottleneck.\n"
     ]
    },
    {
     "data": {
      "text/html": [
       "== Status ==<br>Current time: 2022-04-29 00:24:06 (running for 00:03:46.34)<br>Memory usage on this node: 1.9/1.9 GiB: ***LOW MEMORY*** less than 10% of the memory on this node is available for use. This can cause unexpected crashes. Consider reducing the memory used by your application or reducing the Ray object store size by setting `object_store_memory` when calling `ray.init`.<br>Using FIFO scheduling algorithm.<br>Resources requested: 1.0/1 CPUs, 0/0 GPUs, 0.0/0.49 GiB heap, 0.0/0.07 GiB objects<br>Result logdir: /home/ubuntu/ray_results/train_2022-04-29_00-20-19<br>Number of trials: 23/108 (16 PENDING, 1 RUNNING, 6 TERMINATED)<br><table>\n",
       "<thead>\n",
       "<tr><th>Trial name       </th><th>status    </th><th>loc                </th><th style=\"text-align: right;\">  ccp_alpha</th><th style=\"text-align: right;\">  max_depth</th><th style=\"text-align: right;\">  n_estimators</th><th style=\"text-align: right;\">     acc</th><th style=\"text-align: right;\">  iter</th><th style=\"text-align: right;\">  total time (s)</th></tr>\n",
       "</thead>\n",
       "<tbody>\n",
       "<tr><td>train_27206_00006</td><td>RUNNING   </td><td>192.168.2.213:55095</td><td style=\"text-align: right;\">        0  </td><td style=\"text-align: right;\">         15</td><td style=\"text-align: right;\">            10</td><td style=\"text-align: right;\">        </td><td style=\"text-align: right;\">      </td><td style=\"text-align: right;\">                </td></tr>\n",
       "<tr><td>train_27206_00007</td><td>PENDING   </td><td>                   </td><td style=\"text-align: right;\">        0.1</td><td style=\"text-align: right;\">         15</td><td style=\"text-align: right;\">            10</td><td style=\"text-align: right;\">        </td><td style=\"text-align: right;\">      </td><td style=\"text-align: right;\">                </td></tr>\n",
       "<tr><td>train_27206_00008</td><td>PENDING   </td><td>                   </td><td style=\"text-align: right;\">        0.2</td><td style=\"text-align: right;\">         15</td><td style=\"text-align: right;\">            10</td><td style=\"text-align: right;\">        </td><td style=\"text-align: right;\">      </td><td style=\"text-align: right;\">                </td></tr>\n",
       "<tr><td>train_27206_00009</td><td>PENDING   </td><td>                   </td><td style=\"text-align: right;\">        0  </td><td style=\"text-align: right;\">         20</td><td style=\"text-align: right;\">            10</td><td style=\"text-align: right;\">        </td><td style=\"text-align: right;\">      </td><td style=\"text-align: right;\">                </td></tr>\n",
       "<tr><td>train_27206_00010</td><td>PENDING   </td><td>                   </td><td style=\"text-align: right;\">        0.1</td><td style=\"text-align: right;\">         20</td><td style=\"text-align: right;\">            10</td><td style=\"text-align: right;\">        </td><td style=\"text-align: right;\">      </td><td style=\"text-align: right;\">                </td></tr>\n",
       "<tr><td>train_27206_00011</td><td>PENDING   </td><td>                   </td><td style=\"text-align: right;\">        0.2</td><td style=\"text-align: right;\">         20</td><td style=\"text-align: right;\">            10</td><td style=\"text-align: right;\">        </td><td style=\"text-align: right;\">      </td><td style=\"text-align: right;\">                </td></tr>\n",
       "<tr><td>train_27206_00012</td><td>PENDING   </td><td>                   </td><td style=\"text-align: right;\">        0  </td><td style=\"text-align: right;\">         25</td><td style=\"text-align: right;\">            10</td><td style=\"text-align: right;\">        </td><td style=\"text-align: right;\">      </td><td style=\"text-align: right;\">                </td></tr>\n",
       "<tr><td>train_27206_00013</td><td>PENDING   </td><td>                   </td><td style=\"text-align: right;\">        0.1</td><td style=\"text-align: right;\">         25</td><td style=\"text-align: right;\">            10</td><td style=\"text-align: right;\">        </td><td style=\"text-align: right;\">      </td><td style=\"text-align: right;\">                </td></tr>\n",
       "<tr><td>train_27206_00014</td><td>PENDING   </td><td>                   </td><td style=\"text-align: right;\">        0.2</td><td style=\"text-align: right;\">         25</td><td style=\"text-align: right;\">            10</td><td style=\"text-align: right;\">        </td><td style=\"text-align: right;\">      </td><td style=\"text-align: right;\">                </td></tr>\n",
       "<tr><td>train_27206_00015</td><td>PENDING   </td><td>                   </td><td style=\"text-align: right;\">        0  </td><td style=\"text-align: right;\">         30</td><td style=\"text-align: right;\">            10</td><td style=\"text-align: right;\">        </td><td style=\"text-align: right;\">      </td><td style=\"text-align: right;\">                </td></tr>\n",
       "<tr><td>train_27206_00016</td><td>PENDING   </td><td>                   </td><td style=\"text-align: right;\">        0.1</td><td style=\"text-align: right;\">         30</td><td style=\"text-align: right;\">            10</td><td style=\"text-align: right;\">        </td><td style=\"text-align: right;\">      </td><td style=\"text-align: right;\">                </td></tr>\n",
       "<tr><td>train_27206_00017</td><td>PENDING   </td><td>                   </td><td style=\"text-align: right;\">        0.2</td><td style=\"text-align: right;\">         30</td><td style=\"text-align: right;\">            10</td><td style=\"text-align: right;\">        </td><td style=\"text-align: right;\">      </td><td style=\"text-align: right;\">                </td></tr>\n",
       "<tr><td>train_27206_00018</td><td>PENDING   </td><td>                   </td><td style=\"text-align: right;\">        0  </td><td style=\"text-align: right;\">         35</td><td style=\"text-align: right;\">            10</td><td style=\"text-align: right;\">        </td><td style=\"text-align: right;\">      </td><td style=\"text-align: right;\">                </td></tr>\n",
       "<tr><td>train_27206_00019</td><td>PENDING   </td><td>                   </td><td style=\"text-align: right;\">        0.1</td><td style=\"text-align: right;\">         35</td><td style=\"text-align: right;\">            10</td><td style=\"text-align: right;\">        </td><td style=\"text-align: right;\">      </td><td style=\"text-align: right;\">                </td></tr>\n",
       "<tr><td>train_27206_00000</td><td>TERMINATED</td><td>192.168.2.213:54649</td><td style=\"text-align: right;\">        0  </td><td style=\"text-align: right;\">          5</td><td style=\"text-align: right;\">            10</td><td style=\"text-align: right;\">0.575331</td><td style=\"text-align: right;\">     1</td><td style=\"text-align: right;\">        0.726216</td></tr>\n",
       "<tr><td>train_27206_00001</td><td>TERMINATED</td><td>192.168.2.213:54706</td><td style=\"text-align: right;\">        0.1</td><td style=\"text-align: right;\">          5</td><td style=\"text-align: right;\">            10</td><td style=\"text-align: right;\">0.248148</td><td style=\"text-align: right;\">     1</td><td style=\"text-align: right;\">        0.628825</td></tr>\n",
       "<tr><td>train_27206_00002</td><td>TERMINATED</td><td>192.168.2.213:54763</td><td style=\"text-align: right;\">        0.2</td><td style=\"text-align: right;\">          5</td><td style=\"text-align: right;\">            10</td><td style=\"text-align: right;\">0.142857</td><td style=\"text-align: right;\">     1</td><td style=\"text-align: right;\">        1.88971 </td></tr>\n",
       "<tr><td>train_27206_00003</td><td>TERMINATED</td><td>192.168.2.213:54897</td><td style=\"text-align: right;\">        0  </td><td style=\"text-align: right;\">         10</td><td style=\"text-align: right;\">            10</td><td style=\"text-align: right;\">0.627579</td><td style=\"text-align: right;\">     1</td><td style=\"text-align: right;\">        3.35609 </td></tr>\n",
       "<tr><td>train_27206_00004</td><td>TERMINATED</td><td>192.168.2.213:54962</td><td style=\"text-align: right;\">        0.1</td><td style=\"text-align: right;\">         10</td><td style=\"text-align: right;\">            10</td><td style=\"text-align: right;\">0.285582</td><td style=\"text-align: right;\">     1</td><td style=\"text-align: right;\">        4.93316 </td></tr>\n",
       "<tr><td>train_27206_00005</td><td>TERMINATED</td><td>192.168.2.213:55029</td><td style=\"text-align: right;\">        0.2</td><td style=\"text-align: right;\">         10</td><td style=\"text-align: right;\">            10</td><td style=\"text-align: right;\">0.142857</td><td style=\"text-align: right;\">     1</td><td style=\"text-align: right;\">        5.93447 </td></tr>\n",
       "</tbody>\n",
       "</table><br>... 3 more trials not shown (3 PENDING)<br><br>"
      ],
      "text/plain": [
       "<IPython.core.display.HTML object>"
      ]
     },
     "metadata": {},
     "output_type": "display_data"
    },
    {
     "data": {
      "text/html": [
       "== Status ==<br>Current time: 2022-04-29 00:24:13 (running for 00:03:53.26)<br>Memory usage on this node: 1.9/1.9 GiB: ***LOW MEMORY*** less than 10% of the memory on this node is available for use. This can cause unexpected crashes. Consider reducing the memory used by your application or reducing the Ray object store size by setting `object_store_memory` when calling `ray.init`.<br>Using FIFO scheduling algorithm.<br>Resources requested: 1.0/1 CPUs, 0/0 GPUs, 0.0/0.49 GiB heap, 0.0/0.07 GiB objects<br>Result logdir: /home/ubuntu/ray_results/train_2022-04-29_00-20-19<br>Number of trials: 23/108 (16 PENDING, 1 RUNNING, 6 TERMINATED)<br><table>\n",
       "<thead>\n",
       "<tr><th>Trial name       </th><th>status    </th><th>loc                </th><th style=\"text-align: right;\">  ccp_alpha</th><th style=\"text-align: right;\">  max_depth</th><th style=\"text-align: right;\">  n_estimators</th><th style=\"text-align: right;\">     acc</th><th style=\"text-align: right;\">  iter</th><th style=\"text-align: right;\">  total time (s)</th></tr>\n",
       "</thead>\n",
       "<tbody>\n",
       "<tr><td>train_27206_00006</td><td>RUNNING   </td><td>192.168.2.213:55095</td><td style=\"text-align: right;\">        0  </td><td style=\"text-align: right;\">         15</td><td style=\"text-align: right;\">            10</td><td style=\"text-align: right;\">        </td><td style=\"text-align: right;\">      </td><td style=\"text-align: right;\">                </td></tr>\n",
       "<tr><td>train_27206_00007</td><td>PENDING   </td><td>                   </td><td style=\"text-align: right;\">        0.1</td><td style=\"text-align: right;\">         15</td><td style=\"text-align: right;\">            10</td><td style=\"text-align: right;\">        </td><td style=\"text-align: right;\">      </td><td style=\"text-align: right;\">                </td></tr>\n",
       "<tr><td>train_27206_00008</td><td>PENDING   </td><td>                   </td><td style=\"text-align: right;\">        0.2</td><td style=\"text-align: right;\">         15</td><td style=\"text-align: right;\">            10</td><td style=\"text-align: right;\">        </td><td style=\"text-align: right;\">      </td><td style=\"text-align: right;\">                </td></tr>\n",
       "<tr><td>train_27206_00009</td><td>PENDING   </td><td>                   </td><td style=\"text-align: right;\">        0  </td><td style=\"text-align: right;\">         20</td><td style=\"text-align: right;\">            10</td><td style=\"text-align: right;\">        </td><td style=\"text-align: right;\">      </td><td style=\"text-align: right;\">                </td></tr>\n",
       "<tr><td>train_27206_00010</td><td>PENDING   </td><td>                   </td><td style=\"text-align: right;\">        0.1</td><td style=\"text-align: right;\">         20</td><td style=\"text-align: right;\">            10</td><td style=\"text-align: right;\">        </td><td style=\"text-align: right;\">      </td><td style=\"text-align: right;\">                </td></tr>\n",
       "<tr><td>train_27206_00011</td><td>PENDING   </td><td>                   </td><td style=\"text-align: right;\">        0.2</td><td style=\"text-align: right;\">         20</td><td style=\"text-align: right;\">            10</td><td style=\"text-align: right;\">        </td><td style=\"text-align: right;\">      </td><td style=\"text-align: right;\">                </td></tr>\n",
       "<tr><td>train_27206_00012</td><td>PENDING   </td><td>                   </td><td style=\"text-align: right;\">        0  </td><td style=\"text-align: right;\">         25</td><td style=\"text-align: right;\">            10</td><td style=\"text-align: right;\">        </td><td style=\"text-align: right;\">      </td><td style=\"text-align: right;\">                </td></tr>\n",
       "<tr><td>train_27206_00013</td><td>PENDING   </td><td>                   </td><td style=\"text-align: right;\">        0.1</td><td style=\"text-align: right;\">         25</td><td style=\"text-align: right;\">            10</td><td style=\"text-align: right;\">        </td><td style=\"text-align: right;\">      </td><td style=\"text-align: right;\">                </td></tr>\n",
       "<tr><td>train_27206_00014</td><td>PENDING   </td><td>                   </td><td style=\"text-align: right;\">        0.2</td><td style=\"text-align: right;\">         25</td><td style=\"text-align: right;\">            10</td><td style=\"text-align: right;\">        </td><td style=\"text-align: right;\">      </td><td style=\"text-align: right;\">                </td></tr>\n",
       "<tr><td>train_27206_00015</td><td>PENDING   </td><td>                   </td><td style=\"text-align: right;\">        0  </td><td style=\"text-align: right;\">         30</td><td style=\"text-align: right;\">            10</td><td style=\"text-align: right;\">        </td><td style=\"text-align: right;\">      </td><td style=\"text-align: right;\">                </td></tr>\n",
       "<tr><td>train_27206_00016</td><td>PENDING   </td><td>                   </td><td style=\"text-align: right;\">        0.1</td><td style=\"text-align: right;\">         30</td><td style=\"text-align: right;\">            10</td><td style=\"text-align: right;\">        </td><td style=\"text-align: right;\">      </td><td style=\"text-align: right;\">                </td></tr>\n",
       "<tr><td>train_27206_00017</td><td>PENDING   </td><td>                   </td><td style=\"text-align: right;\">        0.2</td><td style=\"text-align: right;\">         30</td><td style=\"text-align: right;\">            10</td><td style=\"text-align: right;\">        </td><td style=\"text-align: right;\">      </td><td style=\"text-align: right;\">                </td></tr>\n",
       "<tr><td>train_27206_00018</td><td>PENDING   </td><td>                   </td><td style=\"text-align: right;\">        0  </td><td style=\"text-align: right;\">         35</td><td style=\"text-align: right;\">            10</td><td style=\"text-align: right;\">        </td><td style=\"text-align: right;\">      </td><td style=\"text-align: right;\">                </td></tr>\n",
       "<tr><td>train_27206_00019</td><td>PENDING   </td><td>                   </td><td style=\"text-align: right;\">        0.1</td><td style=\"text-align: right;\">         35</td><td style=\"text-align: right;\">            10</td><td style=\"text-align: right;\">        </td><td style=\"text-align: right;\">      </td><td style=\"text-align: right;\">                </td></tr>\n",
       "<tr><td>train_27206_00000</td><td>TERMINATED</td><td>192.168.2.213:54649</td><td style=\"text-align: right;\">        0  </td><td style=\"text-align: right;\">          5</td><td style=\"text-align: right;\">            10</td><td style=\"text-align: right;\">0.575331</td><td style=\"text-align: right;\">     1</td><td style=\"text-align: right;\">        0.726216</td></tr>\n",
       "<tr><td>train_27206_00001</td><td>TERMINATED</td><td>192.168.2.213:54706</td><td style=\"text-align: right;\">        0.1</td><td style=\"text-align: right;\">          5</td><td style=\"text-align: right;\">            10</td><td style=\"text-align: right;\">0.248148</td><td style=\"text-align: right;\">     1</td><td style=\"text-align: right;\">        0.628825</td></tr>\n",
       "<tr><td>train_27206_00002</td><td>TERMINATED</td><td>192.168.2.213:54763</td><td style=\"text-align: right;\">        0.2</td><td style=\"text-align: right;\">          5</td><td style=\"text-align: right;\">            10</td><td style=\"text-align: right;\">0.142857</td><td style=\"text-align: right;\">     1</td><td style=\"text-align: right;\">        1.88971 </td></tr>\n",
       "<tr><td>train_27206_00003</td><td>TERMINATED</td><td>192.168.2.213:54897</td><td style=\"text-align: right;\">        0  </td><td style=\"text-align: right;\">         10</td><td style=\"text-align: right;\">            10</td><td style=\"text-align: right;\">0.627579</td><td style=\"text-align: right;\">     1</td><td style=\"text-align: right;\">        3.35609 </td></tr>\n",
       "<tr><td>train_27206_00004</td><td>TERMINATED</td><td>192.168.2.213:54962</td><td style=\"text-align: right;\">        0.1</td><td style=\"text-align: right;\">         10</td><td style=\"text-align: right;\">            10</td><td style=\"text-align: right;\">0.285582</td><td style=\"text-align: right;\">     1</td><td style=\"text-align: right;\">        4.93316 </td></tr>\n",
       "<tr><td>train_27206_00005</td><td>TERMINATED</td><td>192.168.2.213:55029</td><td style=\"text-align: right;\">        0.2</td><td style=\"text-align: right;\">         10</td><td style=\"text-align: right;\">            10</td><td style=\"text-align: right;\">0.142857</td><td style=\"text-align: right;\">     1</td><td style=\"text-align: right;\">        5.93447 </td></tr>\n",
       "</tbody>\n",
       "</table><br>... 3 more trials not shown (3 PENDING)<br><br>"
      ],
      "text/plain": [
       "<IPython.core.display.HTML object>"
      ]
     },
     "metadata": {},
     "output_type": "display_data"
    },
    {
     "name": "stderr",
     "output_type": "stream",
     "text": [
      "2022-04-29 00:24:15,650\tWARNING util.py:171 -- The `on_step_begin` operation took 0.754 s, which may be a performance bottleneck.\n"
     ]
    },
    {
     "data": {
      "text/html": [
       "== Status ==<br>Current time: 2022-04-29 00:24:20 (running for 00:04:00.93)<br>Memory usage on this node: 1.9/1.9 GiB: ***LOW MEMORY*** less than 10% of the memory on this node is available for use. This can cause unexpected crashes. Consider reducing the memory used by your application or reducing the Ray object store size by setting `object_store_memory` when calling `ray.init`.<br>Using FIFO scheduling algorithm.<br>Resources requested: 1.0/1 CPUs, 0/0 GPUs, 0.0/0.49 GiB heap, 0.0/0.07 GiB objects<br>Result logdir: /home/ubuntu/ray_results/train_2022-04-29_00-20-19<br>Number of trials: 23/108 (16 PENDING, 1 RUNNING, 6 TERMINATED)<br><table>\n",
       "<thead>\n",
       "<tr><th>Trial name       </th><th>status    </th><th>loc                </th><th style=\"text-align: right;\">  ccp_alpha</th><th style=\"text-align: right;\">  max_depth</th><th style=\"text-align: right;\">  n_estimators</th><th style=\"text-align: right;\">     acc</th><th style=\"text-align: right;\">  iter</th><th style=\"text-align: right;\">  total time (s)</th></tr>\n",
       "</thead>\n",
       "<tbody>\n",
       "<tr><td>train_27206_00006</td><td>RUNNING   </td><td>192.168.2.213:55095</td><td style=\"text-align: right;\">        0  </td><td style=\"text-align: right;\">         15</td><td style=\"text-align: right;\">            10</td><td style=\"text-align: right;\">        </td><td style=\"text-align: right;\">      </td><td style=\"text-align: right;\">                </td></tr>\n",
       "<tr><td>train_27206_00007</td><td>PENDING   </td><td>                   </td><td style=\"text-align: right;\">        0.1</td><td style=\"text-align: right;\">         15</td><td style=\"text-align: right;\">            10</td><td style=\"text-align: right;\">        </td><td style=\"text-align: right;\">      </td><td style=\"text-align: right;\">                </td></tr>\n",
       "<tr><td>train_27206_00008</td><td>PENDING   </td><td>                   </td><td style=\"text-align: right;\">        0.2</td><td style=\"text-align: right;\">         15</td><td style=\"text-align: right;\">            10</td><td style=\"text-align: right;\">        </td><td style=\"text-align: right;\">      </td><td style=\"text-align: right;\">                </td></tr>\n",
       "<tr><td>train_27206_00009</td><td>PENDING   </td><td>                   </td><td style=\"text-align: right;\">        0  </td><td style=\"text-align: right;\">         20</td><td style=\"text-align: right;\">            10</td><td style=\"text-align: right;\">        </td><td style=\"text-align: right;\">      </td><td style=\"text-align: right;\">                </td></tr>\n",
       "<tr><td>train_27206_00010</td><td>PENDING   </td><td>                   </td><td style=\"text-align: right;\">        0.1</td><td style=\"text-align: right;\">         20</td><td style=\"text-align: right;\">            10</td><td style=\"text-align: right;\">        </td><td style=\"text-align: right;\">      </td><td style=\"text-align: right;\">                </td></tr>\n",
       "<tr><td>train_27206_00011</td><td>PENDING   </td><td>                   </td><td style=\"text-align: right;\">        0.2</td><td style=\"text-align: right;\">         20</td><td style=\"text-align: right;\">            10</td><td style=\"text-align: right;\">        </td><td style=\"text-align: right;\">      </td><td style=\"text-align: right;\">                </td></tr>\n",
       "<tr><td>train_27206_00012</td><td>PENDING   </td><td>                   </td><td style=\"text-align: right;\">        0  </td><td style=\"text-align: right;\">         25</td><td style=\"text-align: right;\">            10</td><td style=\"text-align: right;\">        </td><td style=\"text-align: right;\">      </td><td style=\"text-align: right;\">                </td></tr>\n",
       "<tr><td>train_27206_00013</td><td>PENDING   </td><td>                   </td><td style=\"text-align: right;\">        0.1</td><td style=\"text-align: right;\">         25</td><td style=\"text-align: right;\">            10</td><td style=\"text-align: right;\">        </td><td style=\"text-align: right;\">      </td><td style=\"text-align: right;\">                </td></tr>\n",
       "<tr><td>train_27206_00014</td><td>PENDING   </td><td>                   </td><td style=\"text-align: right;\">        0.2</td><td style=\"text-align: right;\">         25</td><td style=\"text-align: right;\">            10</td><td style=\"text-align: right;\">        </td><td style=\"text-align: right;\">      </td><td style=\"text-align: right;\">                </td></tr>\n",
       "<tr><td>train_27206_00015</td><td>PENDING   </td><td>                   </td><td style=\"text-align: right;\">        0  </td><td style=\"text-align: right;\">         30</td><td style=\"text-align: right;\">            10</td><td style=\"text-align: right;\">        </td><td style=\"text-align: right;\">      </td><td style=\"text-align: right;\">                </td></tr>\n",
       "<tr><td>train_27206_00016</td><td>PENDING   </td><td>                   </td><td style=\"text-align: right;\">        0.1</td><td style=\"text-align: right;\">         30</td><td style=\"text-align: right;\">            10</td><td style=\"text-align: right;\">        </td><td style=\"text-align: right;\">      </td><td style=\"text-align: right;\">                </td></tr>\n",
       "<tr><td>train_27206_00017</td><td>PENDING   </td><td>                   </td><td style=\"text-align: right;\">        0.2</td><td style=\"text-align: right;\">         30</td><td style=\"text-align: right;\">            10</td><td style=\"text-align: right;\">        </td><td style=\"text-align: right;\">      </td><td style=\"text-align: right;\">                </td></tr>\n",
       "<tr><td>train_27206_00018</td><td>PENDING   </td><td>                   </td><td style=\"text-align: right;\">        0  </td><td style=\"text-align: right;\">         35</td><td style=\"text-align: right;\">            10</td><td style=\"text-align: right;\">        </td><td style=\"text-align: right;\">      </td><td style=\"text-align: right;\">                </td></tr>\n",
       "<tr><td>train_27206_00019</td><td>PENDING   </td><td>                   </td><td style=\"text-align: right;\">        0.1</td><td style=\"text-align: right;\">         35</td><td style=\"text-align: right;\">            10</td><td style=\"text-align: right;\">        </td><td style=\"text-align: right;\">      </td><td style=\"text-align: right;\">                </td></tr>\n",
       "<tr><td>train_27206_00000</td><td>TERMINATED</td><td>192.168.2.213:54649</td><td style=\"text-align: right;\">        0  </td><td style=\"text-align: right;\">          5</td><td style=\"text-align: right;\">            10</td><td style=\"text-align: right;\">0.575331</td><td style=\"text-align: right;\">     1</td><td style=\"text-align: right;\">        0.726216</td></tr>\n",
       "<tr><td>train_27206_00001</td><td>TERMINATED</td><td>192.168.2.213:54706</td><td style=\"text-align: right;\">        0.1</td><td style=\"text-align: right;\">          5</td><td style=\"text-align: right;\">            10</td><td style=\"text-align: right;\">0.248148</td><td style=\"text-align: right;\">     1</td><td style=\"text-align: right;\">        0.628825</td></tr>\n",
       "<tr><td>train_27206_00002</td><td>TERMINATED</td><td>192.168.2.213:54763</td><td style=\"text-align: right;\">        0.2</td><td style=\"text-align: right;\">          5</td><td style=\"text-align: right;\">            10</td><td style=\"text-align: right;\">0.142857</td><td style=\"text-align: right;\">     1</td><td style=\"text-align: right;\">        1.88971 </td></tr>\n",
       "<tr><td>train_27206_00003</td><td>TERMINATED</td><td>192.168.2.213:54897</td><td style=\"text-align: right;\">        0  </td><td style=\"text-align: right;\">         10</td><td style=\"text-align: right;\">            10</td><td style=\"text-align: right;\">0.627579</td><td style=\"text-align: right;\">     1</td><td style=\"text-align: right;\">        3.35609 </td></tr>\n",
       "<tr><td>train_27206_00004</td><td>TERMINATED</td><td>192.168.2.213:54962</td><td style=\"text-align: right;\">        0.1</td><td style=\"text-align: right;\">         10</td><td style=\"text-align: right;\">            10</td><td style=\"text-align: right;\">0.285582</td><td style=\"text-align: right;\">     1</td><td style=\"text-align: right;\">        4.93316 </td></tr>\n",
       "<tr><td>train_27206_00005</td><td>TERMINATED</td><td>192.168.2.213:55029</td><td style=\"text-align: right;\">        0.2</td><td style=\"text-align: right;\">         10</td><td style=\"text-align: right;\">            10</td><td style=\"text-align: right;\">0.142857</td><td style=\"text-align: right;\">     1</td><td style=\"text-align: right;\">        5.93447 </td></tr>\n",
       "</tbody>\n",
       "</table><br>... 3 more trials not shown (3 PENDING)<br><br>"
      ],
      "text/plain": [
       "<IPython.core.display.HTML object>"
      ]
     },
     "metadata": {},
     "output_type": "display_data"
    }
   ],
   "source": [
    "analysis = tune.run(train, config=search_space)"
   ]
  },
  {
   "cell_type": "code",
   "execution_count": null,
   "metadata": {},
   "outputs": [],
   "source": []
  },
  {
   "cell_type": "code",
   "execution_count": null,
   "metadata": {},
   "outputs": [],
   "source": []
  },
  {
   "cell_type": "code",
   "execution_count": null,
   "metadata": {},
   "outputs": [],
   "source": []
  }
 ],
 "metadata": {
  "kernelspec": {
   "display_name": "Python 3 (ipykernel)",
   "language": "python",
   "name": "python3"
  },
  "language_info": {
   "codemirror_mode": {
    "name": "ipython",
    "version": 3
   },
   "file_extension": ".py",
   "mimetype": "text/x-python",
   "name": "python",
   "nbconvert_exporter": "python",
   "pygments_lexer": "ipython3",
   "version": "3.8.10"
  }
 },
 "nbformat": 4,
 "nbformat_minor": 1
}
