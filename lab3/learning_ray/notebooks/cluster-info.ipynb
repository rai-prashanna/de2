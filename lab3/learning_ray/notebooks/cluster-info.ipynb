{
 "cells": [
  {
   "cell_type": "code",
   "execution_count": 1,
   "id": "a1eb0fa6-9a68-4de9-8260-5231f36d9f81",
   "metadata": {},
   "outputs": [
    {
     "data": {
      "text/plain": [
       "RayContext(dashboard_url='127.0.0.1:8265', python_version='3.8.10', ray_version='1.12.0', ray_commit='f18fc31c7562990955556899090f8e8656b48d2d', address_info={'node_ip_address': '192.168.2.133', 'raylet_ip_address': '192.168.2.133', 'redis_address': None, 'object_store_address': '/tmp/ray/session_2022-05-05_16-31-35_422578_238049/sockets/plasma_store', 'raylet_socket_name': '/tmp/ray/session_2022-05-05_16-31-35_422578_238049/sockets/raylet', 'webui_url': '127.0.0.1:8265', 'session_dir': '/tmp/ray/session_2022-05-05_16-31-35_422578_238049', 'metrics_export_port': 63961, 'gcs_address': '192.168.2.133:6379', 'address': '192.168.2.133:6379', 'node_id': '9ea08a370ab56c302e025e8742a8a32deea3f194d40d6e8be71876b4'})"
      ]
     },
     "execution_count": 1,
     "metadata": {},
     "output_type": "execute_result"
    }
   ],
   "source": [
    "from collections import Counter\n",
    "import socket\n",
    "import time\n",
    "\n",
    "import ray\n",
    "#address='ray://<head_node_ip_address>:10001'\n",
    "ray.init(address='auto')\n",
    "\n",
    "\n",
    "\n"
   ]
  },
  {
   "cell_type": "code",
   "execution_count": 2,
   "id": "6c3bd1c6-4bb6-4047-86a5-e5d8899a5cee",
   "metadata": {},
   "outputs": [
    {
     "name": "stdout",
     "output_type": "stream",
     "text": [
      "This cluster consists of\n",
      "    2 nodes in total\n",
      "    3.0 CPU resources in total\n",
      "\n"
     ]
    }
   ],
   "source": [
    "print('''This cluster consists of\n",
    "    {} nodes in total\n",
    "    {} CPU resources in total\n",
    "'''.format(len(ray.nodes()), ray.cluster_resources()['CPU']))"
   ]
  },
  {
   "cell_type": "code",
   "execution_count": 3,
   "id": "683a20ab-54d2-4d0d-9fad-e353d9a79f47",
   "metadata": {},
   "outputs": [
    {
     "name": "stdout",
     "output_type": "stream",
     "text": [
      "\u001b[2m\u001b[1m\u001b[36m(scheduler +5s)\u001b[0m Tip: use `ray status` to view detailed cluster status. To disable these messages, set RAY_SCHEDULER_EVENTS=0.\n",
      "\u001b[2m\u001b[1m\u001b[36m(scheduler +5s)\u001b[0m Adding 1 nodes of type local.cluster.node.\n",
      "\u001b[2m\u001b[1m\u001b[36m(scheduler +15s)\u001b[0m Resized to 4 CPUs.\n",
      "Tasks executed\n",
      "    6995 tasks on 192.168.2.133\n",
      "    1948 tasks on 192.168.2.242\n",
      "    1057 tasks on 192.168.2.52\n",
      "\u001b[2m\u001b[1m\u001b[36m(scheduler +5m37s)\u001b[0m Removing 1 nodes of type local.cluster.node (idle).\n",
      "\u001b[2m\u001b[1m\u001b[36m(scheduler +5m47s)\u001b[0m Resized to 3 CPUs.\n",
      "\u001b[2m\u001b[1m\u001b[36m(scheduler +1h25m15s)\u001b[0m Adding 1 nodes of type local.cluster.node.\n",
      "\u001b[2m\u001b[1m\u001b[36m(scheduler +1h25m25s)\u001b[0m Resized to 4 CPUs.\n",
      "\u001b[2m\u001b[1m\u001b[36m(scheduler +1h40m57s)\u001b[0m Removing 1 nodes of type local.cluster.node (idle).\n",
      "\u001b[2m\u001b[1m\u001b[36m(scheduler +1h41m7s)\u001b[0m Resized to 3 CPUs.\n"
     ]
    }
   ],
   "source": [
    "@ray.remote\n",
    "def f():\n",
    "    time.sleep(0.001)\n",
    "    # Return IP address.\n",
    "    return socket.gethostbyname(socket.gethostname())\n",
    "\n",
    "# Get a list of the IP addresses of the nodes that have joined the cluster.\n",
    "set(ray.get([f.remote() for _ in range(1000)]))\n",
    "\n",
    "object_ids = [f.remote() for _ in range(10000)]\n",
    "ip_addresses = ray.get(object_ids)\n",
    "\n",
    "print('Tasks executed')\n",
    "for ip_address, num_tasks in Counter(ip_addresses).items():\n",
    "    print('    {} tasks on {}'.format(num_tasks, ip_address))"
   ]
  },
  {
   "cell_type": "code",
   "execution_count": null,
   "id": "a8b2f41a-0d7e-4587-a2c2-940cba4e1ee5",
   "metadata": {},
   "outputs": [],
   "source": []
  },
  {
   "cell_type": "code",
   "execution_count": null,
   "id": "b4e4ad85-32ab-42f2-b31b-154380c62b97",
   "metadata": {},
   "outputs": [],
   "source": []
  },
  {
   "cell_type": "code",
   "execution_count": null,
   "id": "7eaafebd-496c-4409-9f58-a023fe0f872a",
   "metadata": {},
   "outputs": [],
   "source": []
  }
 ],
 "metadata": {
  "kernelspec": {
   "display_name": "Python 3 (ipykernel)",
   "language": "python",
   "name": "python3"
  },
  "language_info": {
   "codemirror_mode": {
    "name": "ipython",
    "version": 3
   },
   "file_extension": ".py",
   "mimetype": "text/x-python",
   "name": "python",
   "nbconvert_exporter": "python",
   "pygments_lexer": "ipython3",
   "version": "3.8.10"
  }
 },
 "nbformat": 4,
 "nbformat_minor": 5
}
