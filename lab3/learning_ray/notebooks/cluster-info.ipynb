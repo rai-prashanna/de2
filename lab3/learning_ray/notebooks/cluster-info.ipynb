{
 "cells": [
  {
   "cell_type": "code",
   "execution_count": 1,
   "id": "a1eb0fa6-9a68-4de9-8260-5231f36d9f81",
   "metadata": {},
   "outputs": [
    {
     "name": "stdout",
     "output_type": "stream",
     "text": [
      "This cluster consists of\n",
      "    3 nodes in total\n",
      "    3.0 CPU resources in total\n",
      "\n",
      "Tasks executed\n",
      "    10000 tasks on 192.168.2.133\n"
     ]
    }
   ],
   "source": [
    "from collections import Counter\n",
    "import socket\n",
    "import time\n",
    "\n",
    "import ray\n",
    "\n",
    "ray.init(address='auto')\n",
    "\n",
    "print('''This cluster consists of\n",
    "    {} nodes in total\n",
    "    {} CPU resources in total\n",
    "'''.format(len(ray.nodes()), ray.cluster_resources()['CPU']))\n",
    "\n",
    "@ray.remote\n",
    "def f():\n",
    "    time.sleep(0.001)\n",
    "    # Return IP address.\n",
    "    return socket.gethostbyname(socket.gethostname())\n",
    "\n",
    "# Get a list of the IP addresses of the nodes that have joined the cluster.\n",
    "set(ray.get([f.remote() for _ in range(1000)]))\n",
    "\n",
    "object_ids = [f.remote() for _ in range(10000)]\n",
    "ip_addresses = ray.get(object_ids)\n",
    "\n",
    "print('Tasks executed')\n",
    "for ip_address, num_tasks in Counter(ip_addresses).items():\n",
    "    print('    {} tasks on {}'.format(num_tasks, ip_address))"
   ]
  },
  {
   "cell_type": "code",
   "execution_count": null,
   "id": "683a20ab-54d2-4d0d-9fad-e353d9a79f47",
   "metadata": {},
   "outputs": [],
   "source": []
  }
 ],
 "metadata": {
  "kernelspec": {
   "display_name": "Python 3 (ipykernel)",
   "language": "python",
   "name": "python3"
  },
  "language_info": {
   "codemirror_mode": {
    "name": "ipython",
    "version": 3
   },
   "file_extension": ".py",
   "mimetype": "text/x-python",
   "name": "python",
   "nbconvert_exporter": "python",
   "pygments_lexer": "ipython3",
   "version": "3.8.10"
  }
 },
 "nbformat": 4,
 "nbformat_minor": 5
}
