{
 "cells": [
  {
   "cell_type": "markdown",
   "id": "9c01f8a9",
   "metadata": {},
   "source": [
    "# Getting Started with Ray Core"
   ]
  },
  {
   "cell_type": "markdown",
   "id": "360ddcea",
   "metadata": {
    "lines_to_next_cell": 2
   },
   "source": [
    "For a book on distributed Python, it's not without a certain irony that Python on its own is\n",
    "largely ineffective for distributed computing.\n",
    "Its interpreter is effectively single threaded which makes it difficult to e.g. leverage multiple CPUs on\n",
    "the same machine, let alone a whole cluster of machines, using plain Python.\n",
    "That means you need extra tooling, and luckily the Python ecosystem has some options for you.\n",
    "For instance, libraries like `multiprocessing` can help you distribute work on a single machine, but not beyond."
   ]
  },
  {
   "cell_type": "code",
   "execution_count": 1,
   "id": "c1d37077",
   "metadata": {},
   "outputs": [
    {
     "data": {
      "text/plain": [
       "RayContext(dashboard_url='127.0.0.1:8265', python_version='3.8.10', ray_version='1.12.0', ray_commit='f18fc31c7562990955556899090f8e8656b48d2d', address_info={'node_ip_address': '192.168.2.133', 'raylet_ip_address': '192.168.2.133', 'redis_address': None, 'object_store_address': '/tmp/ray/session_2022-04-30_11-37-33_867373_167976/sockets/plasma_store', 'raylet_socket_name': '/tmp/ray/session_2022-04-30_11-37-33_867373_167976/sockets/raylet', 'webui_url': '127.0.0.1:8265', 'session_dir': '/tmp/ray/session_2022-04-30_11-37-33_867373_167976', 'metrics_export_port': 53876, 'gcs_address': '192.168.2.133:6379', 'address': '192.168.2.133:6379', 'node_id': 'e53ae7700806b00ed47124527a9c0ab13885234bca9c736059196e66'})"
      ]
     },
     "execution_count": 1,
     "metadata": {},
     "output_type": "execute_result"
    }
   ],
   "source": [
    "import ray\n",
    "ray.init(address='auto')\n"
   ]
  },
  {
   "cell_type": "code",
   "execution_count": 2,
   "id": "ebcb2aa1",
   "metadata": {},
   "outputs": [],
   "source": [
    "# tag::retrieve[]\n",
    "import time\n",
    "\n",
    "database = [  # <1>\n",
    "    \"Learning\", \"Ray\",\n",
    "    \"Flexible\", \"Distributed\", \"Python\", \"for\", \"Data\", \"Science\"\n",
    "]\n",
    "\n",
    "\n",
    "def retrieve(item):\n",
    "    time.sleep(item / 10.)  # <2>\n",
    "    return item, database[item]\n",
    "# end::retrieve[]"
   ]
  },
  {
   "cell_type": "code",
   "execution_count": 3,
   "id": "7da0921e",
   "metadata": {
    "lines_to_next_cell": 2
   },
   "outputs": [
    {
     "name": "stdout",
     "output_type": "stream",
     "text": [
      "Runtime: 2.8 seconds, data:\n",
      "(0, 'Learning')\n",
      "(1, 'Ray')\n",
      "(2, 'Flexible')\n",
      "(3, 'Distributed')\n",
      "(4, 'Python')\n",
      "(5, 'for')\n",
      "(6, 'Data')\n",
      "(7, 'Science')\n"
     ]
    }
   ],
   "source": [
    "# tag::duration[]\n",
    "def print_runtime(input_data, start_time, decimals=1):\n",
    "    print(f'Runtime: {time.time() - start_time:.{decimals}f} seconds, data:')\n",
    "    print(*input_data, sep=\"\\n\")\n",
    "\n",
    "\n",
    "start = time.time()\n",
    "data = [retrieve(item) for item in range(8)]  # <1>\n",
    "print_runtime(data, start)  # <2>\n",
    "# end::duration[]"
   ]
  },
  {
   "cell_type": "code",
   "execution_count": 4,
   "id": "387aa654",
   "metadata": {},
   "outputs": [],
   "source": [
    "# tag::remote[]\n",
    "@ray.remote  # <1>\n",
    "def retrieve_task(item):\n",
    "    return retrieve(item)  # <2>\n",
    "# end::remote[]"
   ]
  },
  {
   "cell_type": "code",
   "execution_count": 5,
   "id": "1433a761",
   "metadata": {},
   "outputs": [
    {
     "name": "stdout",
     "output_type": "stream",
     "text": [
      "Runtime: 4.40 seconds, data:\n",
      "(0, 'Learning')\n",
      "(1, 'Ray')\n",
      "(2, 'Flexible')\n",
      "(3, 'Distributed')\n",
      "(4, 'Python')\n",
      "(5, 'for')\n",
      "(6, 'Data')\n",
      "(7, 'Science')\n"
     ]
    }
   ],
   "source": [
    "# tag::duration_remote[]\n",
    "start = time.time()\n",
    "data_references = [retrieve_task.remote(item) for item in range(8)]  # <1>\n",
    "data = ray.get(data_references)  # <2>\n",
    "print_runtime(data, start, 2)\n",
    "# end::duration_remote[]"
   ]
  },
  {
   "cell_type": "code",
   "execution_count": 6,
   "id": "f24b634e",
   "metadata": {},
   "outputs": [],
   "source": [
    "# tag::object_store[]\n",
    "database_object_ref = ray.put(database)  # <1>\n",
    "\n",
    "\n",
    "@ray.remote\n",
    "def retrieve_task(item):\n",
    "    obj_store_data = ray.get(database_object_ref)  # <2>\n",
    "    time.sleep(item / 10.)\n",
    "    return item, obj_store_data[item]\n",
    "# end::object_store[]"
   ]
  },
  {
   "cell_type": "code",
   "execution_count": 7,
   "id": "3489439f",
   "metadata": {},
   "outputs": [
    {
     "name": "stdout",
     "output_type": "stream",
     "text": [
      "Runtime: 0.127 seconds, data:\n",
      "(0, 'Learning')\n",
      "(1, 'Ray')\n",
      "Runtime: 0.641 seconds, data:\n",
      "(2, 'Flexible')\n",
      "(3, 'Distributed')\n",
      "Runtime: 1.554 seconds, data:\n",
      "(4, 'Python')\n",
      "(5, 'for')\n",
      "Runtime: 2.871 seconds, data:\n",
      "(6, 'Data')\n",
      "(7, 'Science')\n",
      "Runtime: 2.9 seconds, data:\n",
      "(0, 'Learning')\n",
      "(1, 'Ray')\n",
      "(2, 'Flexible')\n",
      "(3, 'Distributed')\n",
      "(4, 'Python')\n",
      "(5, 'for')\n",
      "(6, 'Data')\n",
      "(7, 'Science')\n"
     ]
    }
   ],
   "source": [
    "# tag::duration_object_store[]\n",
    "start = time.time()\n",
    "data_references = [retrieve_task.remote(item) for item in range(8)]\n",
    "all_data = []\n",
    "\n",
    "while len(data_references) > 0:  # <1>\n",
    "    finished, data_references = ray.wait(data_references, num_returns=2, timeout=7.0)  # <2>\n",
    "    data = ray.get(finished)\n",
    "    print_runtime(data, start, 3)  # <3>\n",
    "    all_data.extend(data)  # <4>\n",
    "\n",
    "# end::duration_object_store[]\n",
    "print_runtime(all_data, start)"
   ]
  },
  {
   "cell_type": "code",
   "execution_count": 8,
   "id": "cfcae6f3",
   "metadata": {},
   "outputs": [
    {
     "name": "stdout",
     "output_type": "stream",
     "text": [
      "((0, 'Learning'), (1, 'Ray'))\n",
      "((2, 'Flexible'), (3, 'Distributed'))\n",
      "((4, 'Python'), (5, 'for'))\n",
      "((6, 'Data'), (7, 'Science'))\n"
     ]
    }
   ],
   "source": [
    "# tag::task_dependency[]\n",
    "@ray.remote\n",
    "def follow_up_task(retrieve_result):  # <1>\n",
    "    original_item, _ = retrieve_result\n",
    "    follow_up_result = retrieve(original_item + 1)  # <2>\n",
    "    return retrieve_result, follow_up_result  # <3>\n",
    "\n",
    "\n",
    "retrieve_refs = [retrieve_task.remote(item) for item in [0, 2, 4, 6]]\n",
    "follow_up_refs = [follow_up_task.remote(ref) for ref in retrieve_refs]  # <4>\n",
    "\n",
    "result = [print(data) for data in ray.get(follow_up_refs)]\n",
    "# end::task_dependency[]"
   ]
  },
  {
   "cell_type": "code",
   "execution_count": 9,
   "id": "d8676d8a",
   "metadata": {},
   "outputs": [],
   "source": [
    "# tag::actors[]\n",
    "@ray.remote  # <1>\n",
    "class DataTracker:\n",
    "    def __init__(self):\n",
    "        self._counts = 0\n",
    "\n",
    "    def increment(self):\n",
    "        self._counts += 1\n",
    "\n",
    "    def counts(self):\n",
    "        return self._counts\n",
    "# end::actors[]"
   ]
  },
  {
   "cell_type": "code",
   "execution_count": null,
   "id": "a564b77e",
   "metadata": {
    "lines_to_next_cell": 2
   },
   "outputs": [],
   "source": [
    "# tag::actors_remote[]\n",
    "@ray.remote\n",
    "def retrieve_tracker_task(item, tracker):  # <1>\n",
    "    obj_store_data = ray.get(database_object_ref)\n",
    "    time.sleep(item / 10.)\n",
    "    tracker.increment.remote()  # <2>\n",
    "    return item, obj_store_data[item]\n",
    "\n",
    "\n",
    "tracker = DataTracker.remote()  # <3>\n",
    "\n",
    "data_references = [retrieve_tracker_task.remote(item, tracker) for item in range(8)]  # <4>\n",
    "data = ray.get(data_references)\n",
    "print(ray.get(tracker.counts.remote()))  # <5>\n",
    "# end::actors_remote[]"
   ]
  },
  {
   "cell_type": "code",
   "execution_count": null,
   "id": "7b6b5fa1",
   "metadata": {},
   "outputs": [],
   "source": [
    "# tag::ownership[]\n",
    "@ray.remote\n",
    "def task_owned():\n",
    "    return\n",
    "\n",
    "\n",
    "@ray.remote\n",
    "def task(dependency):\n",
    "    res_owned = task_owned.remote()\n",
    "    return\n",
    "\n",
    "\n",
    "val = ray.put(\"value\")\n",
    "res = task.remote(dependency=val)\n",
    "# end::ownership[]"
   ]
  },
  {
   "cell_type": "markdown",
   "id": "667ebd41",
   "metadata": {
    "lines_to_next_cell": 2
   },
   "source": [
    "# ![Task dependency](https://raw.githubusercontent.com/maxpumperla/learning_ray/main/notebooks/images/chapter_02/task_dependency.png)"
   ]
  },
  {
   "cell_type": "markdown",
   "id": "474bb77c",
   "metadata": {
    "lines_to_next_cell": 2
   },
   "source": [
    "# ![Workder Node](https://raw.githubusercontent.com/maxpumperla/learning_ray/main/notebooks/images/chapter_02/worker_node.png)"
   ]
  },
  {
   "cell_type": "markdown",
   "id": "a924a867",
   "metadata": {
    "lines_to_next_cell": 2
   },
   "source": [
    "# ![Ray architecture](https://raw.githubusercontent.com/maxpumperla/learning_ray/main/notebooks/images/chapter_02/architecture.png)"
   ]
  }
 ],
 "metadata": {
  "jupytext": {
   "cell_metadata_filter": "-all",
   "main_language": "python",
   "notebook_metadata_filter": "-all"
  },
  "kernelspec": {
   "display_name": "Python 3 (ipykernel)",
   "language": "python",
   "name": "python3"
  },
  "language_info": {
   "codemirror_mode": {
    "name": "ipython",
    "version": 3
   },
   "file_extension": ".py",
   "mimetype": "text/x-python",
   "name": "python",
   "nbconvert_exporter": "python",
   "pygments_lexer": "ipython3",
   "version": "3.8.10"
  }
 },
 "nbformat": 4,
 "nbformat_minor": 5
}
